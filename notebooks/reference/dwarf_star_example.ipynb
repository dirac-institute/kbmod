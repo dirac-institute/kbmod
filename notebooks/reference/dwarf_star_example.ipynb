{
 "cells": [
  {
   "cell_type": "markdown",
   "id": "5285a5b7-446c-4330-bbef-87f4b9bdd3a9",
   "metadata": {},
   "source": [
    "# Setting up the Notebook\n",
    "\n",
    "KBMOD uses Python's logging library for output during the run. If you are interested in running with debug output (verbose mode), you can set the level of Python's logger to `WARNING` (for warning messages only), `INFO` (for moderate output), or `DEBUG` (for comprehensive output). By default logging is set to warning level. We set it to DEBUG here to see **EVERYTHING** that is happening."
   ]
  },
  {
   "cell_type": "code",
   "execution_count": null,
   "id": "2fa7a18b-32c5-4131-9c7f-6a4286b5da6a",
   "metadata": {},
   "outputs": [],
   "source": [
    "import logging\n",
    "logging.basicConfig(level=logging.DEBUG)"
   ]
  },
  {
   "cell_type": "markdown",
   "id": "8dae9861-9d64-42a3-bdc4-a0b5c9c75ee5",
   "metadata": {},
   "source": [
    "# Load the data.\n",
    "\n",
    "We load the data using the `ImageCollection` class to load all the FITS files in the given directory.\n",
    "\n",
    "`KBMODV0_5Config` provides some parameters about how to read the files. The important ones for this investiation are the ones involved with masking:\n",
    "\n",
    "* bit_flag_map is a dictionary from masking reason to the bit set in the mask layer, such as: `{ \"BAD\": 2**0, \"EDGE\": 2**4, \"NO_DATA\": 2**8, \"UNMASKEDNAN\": 2**15 }`\n",
    "* mask_flags is a list of which reasons to mask such as `[\"BAD\", \"UNMASKEDNAN\"]`\n",
    "    \n",
    "The combination of those two flags will mask all pixels with the 1st and/or 15th bits set in the mask layer.\n",
    "\n",
    "Below we are not masking anything because I don't know which bits correspond to which flags for this survery."
   ]
  },
  {
   "cell_type": "code",
   "execution_count": 1,
   "id": "0c5cc493-f2d7-4097-a945-cc60b49caae4",
   "metadata": {},
   "outputs": [
    {
     "name": "stderr",
     "output_type": "stream",
     "text": [
      "Image 0 has 86.42281308487213 percent masked pixels.\n",
      "Image 0 has invalid variance values: -0.017730988562107086 < 1e-20\n",
      "Image 1 has 51.92470909658097 percent masked pixels.\n",
      "Image 6 has 52.000097937241264 percent masked pixels.\n",
      "Image 7 has invalid variance values: -0.010657785460352898 < 1e-20\n",
      "Image 9 has invalid variance values: -0.011663933284580708 < 1e-20\n",
      "Image 12 has 86.4467341291876 percent masked pixels.\n",
      "Image 12 has invalid variance values: -0.01934119127690792 < 1e-20\n",
      "Image 13 has 60.83735326381565 percent masked pixels.\n",
      "Image 13 has invalid variance values: -0.008681497536599636 < 1e-20\n",
      "Image 22 has 56.63001758683907 percent masked pixels.\n",
      "Image 27 has invalid variance values: -0.021550634875893593 < 1e-20\n"
     ]
    },
    {
     "name": "stdout",
     "output_type": "stream",
     "text": [
      "WorkUnit:\n",
      "  Num Constituent Images (29):\n",
      "  Reprojected: False\n",
      "Image Stack Statistics:\n",
      "  Image Count: 29\n",
      "  Image Size: 6295 x 6261 = 39412995\n",
      "+------+------------+------------+------------+------------+----------+----------+----------+--------+\n",
      "|  idx |     Time   |  Flux Min  |  Flux Max  |  Flux Mean |  Var Min |  Var Max | Var Mean | Masked |\n",
      "+------+------------+------------+------------+------------+----------+----------+----------+--------+\n",
      "|    0 |  55677.544 |    -129.07 |   50170.41 |       2.64 |    -0.02 |     0.03 |     0.01 |  86.42 |\n",
      "+------+------------+------------+------------+------------+----------+----------+----------+--------+\n",
      "|    1 |  56404.531 |    -154.93 |   57970.41 |       2.30 |     0.00 |     0.02 |     0.01 |  51.92 |\n",
      "+------+------------+------------+------------+------------+----------+----------+----------+--------+\n",
      "|    2 |  54985.429 |    -285.37 |  109745.98 |       2.88 |     0.00 |     0.00 |     0.00 |  24.04 |\n",
      "+------+------------+------------+------------+------------+----------+----------+----------+--------+\n",
      "|    3 |  56793.432 |    -160.26 |   64827.53 |       2.39 |     0.00 |     0.01 |     0.00 |  17.38 |\n",
      "+------+------------+------------+------------+------------+----------+----------+----------+--------+\n",
      "|    4 |  56793.419 |    -163.26 |   65634.69 |       2.61 |     0.00 |     0.01 |     0.00 |  17.37 |\n",
      "+------+------------+------------+------------+------------+----------+----------+----------+--------+\n",
      "|    5 |  56380.598 |    -173.70 |   70099.98 |       3.26 |     0.00 |     0.01 |     0.00 |  19.84 |\n",
      "+------+------------+------------+------------+------------+----------+----------+----------+--------+\n",
      "|    6 |  56404.519 |    -151.45 |   61979.36 |       2.32 |     0.00 |     0.01 |     0.01 |  52.00 |\n",
      "+------+------------+------------+------------+------------+----------+----------+----------+--------+\n",
      "|    7 |  56028.548 |    -131.79 |   50743.27 |       2.04 |    -0.01 |     0.04 |     0.01 |  18.16 |\n",
      "+------+------------+------------+------------+------------+----------+----------+----------+--------+\n",
      "|    8 |  56759.526 |    -154.61 |   60947.21 |       2.70 |     0.00 |     0.02 |     0.00 |  19.64 |\n",
      "+------+------------+------------+------------+------------+----------+----------+----------+--------+\n",
      "|    9 |  56028.559 |    -136.70 |   53000.58 |       2.03 |    -0.01 |     0.02 |     0.01 |  18.16 |\n",
      "+------+------------+------------+------------+------------+----------+----------+----------+--------+\n",
      "|   10 |  56045.501 |    -104.63 |   42801.48 |       4.02 |     0.00 |     0.06 |     0.01 |  25.58 |\n",
      "+------+------------+------------+------------+------------+----------+----------+----------+--------+\n",
      "|   11 |  55339.344 |    -148.91 |   57653.41 |       2.84 |     0.00 |     0.02 |     0.01 |  21.15 |\n",
      "+------+------------+------------+------------+------------+----------+----------+----------+--------+\n",
      "|   12 |  55677.560 |    -139.40 |   56186.14 |       2.58 |    -0.02 |     0.03 |     0.01 |  86.45 |\n",
      "+------+------------+------------+------------+------------+----------+----------+----------+--------+\n",
      "|   13 |  55340.327 |    -169.03 |   62193.30 |       2.51 |    -0.01 |     0.01 |     0.00 |  60.84 |\n",
      "+------+------------+------------+------------+------------+----------+----------+----------+--------+\n",
      "|   14 |  56759.540 |    -151.77 |   62062.23 |       2.71 |     0.00 |     0.02 |     0.01 |  19.64 |\n",
      "+------+------------+------------+------------+------------+----------+----------+----------+--------+\n",
      "|   15 |  56404.520 |    -139.93 |   54490.41 |       3.15 |     0.00 |     0.02 |     0.01 |  45.28 |\n",
      "+------+------------+------------+------------+------------+----------+----------+----------+--------+\n",
      "|   16 |  55340.331 |    -171.84 |   66765.60 |       2.70 |     0.00 |     0.01 |     0.00 |  21.15 |\n",
      "+------+------------+------------+------------+------------+----------+----------+----------+--------+\n",
      "|   17 |  56793.458 |    -157.19 |   60770.94 |       2.47 |     0.00 |     0.01 |     0.00 |  17.38 |\n",
      "+------+------------+------------+------------+------------+----------+----------+----------+--------+\n",
      "|   18 |  56404.531 |    -139.79 |   56616.52 |       3.24 |     0.00 |     0.02 |     0.01 |  45.32 |\n",
      "+------+------------+------------+------------+------------+----------+----------+----------+--------+\n",
      "|   19 |  56759.513 |    -158.35 |   64180.62 |       2.75 |     0.00 |     0.02 |     0.00 |  19.64 |\n",
      "+------+------------+------------+------------+------------+----------+----------+----------+--------+\n",
      "|   20 |  56380.608 |    -173.44 |   68403.28 |       3.21 |     0.00 |     0.02 |     0.00 |  19.83 |\n",
      "+------+------------+------------+------------+------------+----------+----------+----------+--------+\n",
      "|   21 |  55340.319 |    -189.48 |   73903.44 |       3.30 |     0.00 |     0.01 |     0.00 |  39.18 |\n",
      "+------+------------+------------+------------+------------+----------+----------+----------+--------+\n",
      "|   22 |  55340.340 |    -174.64 |   69302.77 |       6.18 |     0.00 |     0.02 |     0.00 |  56.63 |\n",
      "+------+------------+------------+------------+------------+----------+----------+----------+--------+\n",
      "|   23 |  56045.513 |    -105.06 |   42937.49 |       3.96 |     0.00 |     0.06 |     0.01 |  25.55 |\n",
      "+------+------------+------------+------------+------------+----------+----------+----------+--------+\n",
      "|   24 |  56759.553 |    -821.53 |  273140.12 |       2.75 |     0.00 |     0.02 |     0.01 |  19.62 |\n",
      "+------+------------+------------+------------+------------+----------+----------+----------+--------+\n",
      "|   25 |  55677.565 |    -135.32 |   52979.04 |       2.91 |     0.00 |     0.02 |     0.01 |  31.12 |\n",
      "+------+------------+------------+------------+------------+----------+----------+----------+--------+\n",
      "|   26 |  55696.434 |    -219.81 |   85284.84 |       2.43 |     0.00 |     0.01 |     0.00 |  20.64 |\n",
      "+------+------------+------------+------------+------------+----------+----------+----------+--------+\n",
      "|   27 |  55677.548 |    -125.49 |   49438.16 |       2.79 |    -0.02 |     0.04 |     0.01 |  31.07 |\n",
      "+------+------------+------------+------------+------------+----------+----------+----------+--------+\n",
      "|   28 |  56793.445 |    -157.83 |   63106.88 |       2.44 |     0.00 |     0.01 |     0.00 |  17.38 |\n",
      "+------+------------+------------+------------+------------+----------+----------+----------+--------+\n"
     ]
    }
   ],
   "source": [
    "filepath = \"/astro/users/jkubica/dwarf_star_data\"\n",
    "\n",
    "from kbmod.image_collection import ImageCollection\n",
    "from kbmod.standardizers.fits_standardizers.kbmodv05 import KBMODV0_5, KBMODV0_5Config\n",
    "\n",
    "\n",
    "load_config = KBMODV0_5Config(mask_flags=[])\n",
    "\n",
    "# Loading from the files takes a while (multiple minutes).\n",
    "ic = ImageCollection.fromDir(filepath, force=KBMODV0_5, config=load_config)\n",
    "wu = ic.toWorkUnit()\n",
    "wu.print_stats()"
   ]
  },
  {
   "cell_type": "markdown",
   "id": "0c7d5a52-8a57-4a33-ac6d-c77d5ac36480",
   "metadata": {},
   "source": [
    "# Set up the KBMOD Search\n",
    "\n",
    "The standard approach to running KBMOD is to perform a grid search over all starting pixels and a grid of velocities. Let’s do a grid search with:\n",
    "* 21 different velocity steps from -2 pixels per day and 2 pixels per day in the x dimension\n",
    "* 21 different velocity steps from -2 pixels per day and 2 pixels per day in the y dimension\n",
    "\n",
    "KBMOD needs a series of configuration parameters to specify all the information about the search. For the full list of parameters see:\n",
    "\n",
    "https://epyc.astro.washington.edu/~kbmod/user_manual/search_params.html\n",
    "\n",
    "In this notebook we explicitly provide the configuration parameters as a dictionary so users can see what is being specified. However most users will want to use the `SearchConfiguration` class. A `SearchConfiguration` object uses reasonable defaults when created:"
   ]
  },
  {
   "cell_type": "code",
   "execution_count": 2,
   "id": "b193e200-6563-45e5-ae8e-5f6027251214",
   "metadata": {},
   "outputs": [],
   "source": [
    "from kbmod.configuration import SearchConfiguration\n",
    "\n",
    "input_parameters = {\n",
    "    # Use search parameters (including a force ecliptic angle of 0.0)\n",
    "    # to match what we know is in the demo data.\n",
    "    \"generator_config\": {\n",
    "        \"name\": \"VelocityGridSearch\",\n",
    "        \"vx_steps\": 21,\n",
    "        \"min_vx\": -2.0,\n",
    "        \"max_vx\": 2.0,\n",
    "        \"vy_steps\": 21,\n",
    "        \"min_vy\": -2.0,\n",
    "        \"max_vy\": 2.0,\n",
    "    },\n",
    "    # Output parameters\n",
    "    \"result_filename\": \"./results.ecsv\",\n",
    "    # Basic filtering (always applied)\n",
    "    \"num_obs\": 15,  # <-- Filter anything with fewer than 15 observations\n",
    "    \"lh_level\": 10.0,  # <-- Filter anything with a likelihood < 10.0\n",
    "    # SigmaG clipping parameters\n",
    "    \"sigmaG_lims\": [25, 75],  # <-- Clipping parameters (lower and upper percentile)\n",
    "    # Other parameters\n",
    "    \"cpu_only\": True,  # <-- This will be absurdly slow.  Set to False if you have a good enough GPU.\n",
    "}\n",
    "config = SearchConfiguration.from_dict(input_parameters)\n",
    "\n",
    "# Make the WorkUnit use this configuration.\n",
    "wu.config = config"
   ]
  },
  {
   "cell_type": "code",
   "execution_count": null,
   "id": "b8cc633b-41d4-4686-9c7c-fc4c6482ad82",
   "metadata": {},
   "outputs": [
    {
     "name": "stderr",
     "output_type": "stream",
     "text": [
      "INFO:kbmod.trajectory_generator:Creating trajectory generator of type VelocityGridSearch\n",
      "DEBUG:kbmod.trajectory_generator:{'name': 'VelocityGridSearch', 'vx_steps': 21, 'min_vx': -2.0, 'max_vx': 2.0, 'vy_steps': 21, 'min_vy': -2.0, 'max_vy': 2.0}\n",
      "DEBUG:kbmod.search.run_search:Starting preparing Psi and Phi images timer.\n",
      "INFO:kbmod.search.psi_phi_array:Building 58 temporary 6295 by 6261 images, requiring 9143814840 bytes.\n",
      "DEBUG:kbmod.search.psi_phi_array:Allocating CPU memory for float PsiPhi array using 9143814840 bytes\n",
      "DEBUG:kbmod.search.psi_phi_array:Allocating times on CPU: 232 bytes.\n",
      "DEBUG:kbmod.search.run_search:Finished preparing Psi and Phi images in 14.339000 seconds.\n",
      "DEBUG:kbmod.run_search:VelocityGridSearch:\n",
      "    Vel X: [-2.0, 2.0] in 21 steps.\n",
      "    Vel Y: [-2.0, 2.0] in 21 steps.\n",
      "DEBUG:kbmod.search.run_search:Starting Running batch search timer.\n",
      "INFO:kbmod.search.run_search:Searching X=[0, 6261] Y=[0, 6295]\n",
      "Allocating space for 315303960 results.\n"
     ]
    }
   ],
   "source": [
    "from kbmod.run_search import SearchRunner\n",
    "\n",
    "rs = SearchRunner()\n",
    "results = rs.run_search_from_work_unit(wu)"
   ]
  },
  {
   "cell_type": "code",
   "execution_count": null,
   "id": "68d252a4-2f4d-43f5-b0e1-7a5ca0d9d2b3",
   "metadata": {},
   "outputs": [],
   "source": []
  }
 ],
 "metadata": {
  "kernelspec": {
   "display_name": "Jeremy's KBMOD",
   "language": "python",
   "name": "kbmod_jk"
  },
  "language_info": {
   "codemirror_mode": {
    "name": "ipython",
    "version": 3
   },
   "file_extension": ".py",
   "mimetype": "text/x-python",
   "name": "python",
   "nbconvert_exporter": "python",
   "pygments_lexer": "ipython3",
   "version": "3.11.9"
  }
 },
 "nbformat": 4,
 "nbformat_minor": 5
}
