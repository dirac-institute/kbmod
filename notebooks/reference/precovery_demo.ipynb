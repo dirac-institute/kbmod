{
 "cells": [
  {
   "cell_type": "markdown",
   "metadata": {},
   "source": [
    "# Gather precovery imaging\n",
    "\n",
    "This notebook shows how to get precovery imaging for objects found with KBMOD. Once we have an object\n",
    "identified we can record the observations we used in MPC format and use the following tools to search\n",
    "other telescope data for possible images where the object may be present to help orbit determination.\n",
    "\n",
    "## Precovery Classes\n",
    "\n",
    "Here we describe the methods we have for identifying precovery images:\n",
    "\n",
    "### Solar System Object Imaging Search (SSOIS)\n",
    "\n",
    "Currently our `precovery_utils` only has a class to use the [SSOIS service](https://www.cadc-ccda.hia-iha.nrc-cnrc.gc.ca/en/ssois/index.html)\n",
    "from the Canadian Astronomy Data Centre and described in [Gwyn, Hill and Kavelaars (2012)](http://adsabs.harvard.edu/abs/2012PASP..124..579G)."
   ]
  },
  {
   "cell_type": "code",
   "execution_count": 1,
   "metadata": {},
   "outputs": [],
   "source": [
    "from precovery_utils import ssoisPrecovery"
   ]
  },
  {
   "cell_type": "markdown",
   "metadata": {},
   "source": [
    "#### Create Query URL from MPC formatted file\n",
    "\n",
    "In the notebook `orbit_fitting_demo.ipynb` we show how to use the `ephem_utils.py` code in KBMOD to create a file with the observations for an identified object in KBMOD and turn it into an MPC formatted file. The file created in that demo is saved here as `kbmod_mpc.dat`. We will use that file to show how the precovery interface works."
   ]
  },
  {
   "cell_type": "code",
   "execution_count": 2,
   "metadata": {},
   "outputs": [],
   "source": [
    "ssois_query = ssoisPrecovery()"
   ]
  },
  {
   "cell_type": "code",
   "execution_count": 3,
   "metadata": {},
   "outputs": [],
   "source": [
    "query_url = ssois_query.format_search_by_arc_url(\"kbmod_mpc.dat\")"
   ]
  },
  {
   "cell_type": "code",
   "execution_count": 4,
   "metadata": {},
   "outputs": [
    {
     "name": "stdout",
     "output_type": "stream",
     "text": [
      "http://www.cadc-ccda.hia-iha.nrc-cnrc.gc.ca/cadcbin/ssos/ssosclf.pl?lang=en;obs=+++++c111112++c2015+04+18.27432+13+23+40.289-08+02+56.61+++++++++++++++++++++807%0D%0A+++++c111112++c2015+04+18.27756+13+23+40.277-08+02+56.56+++++++++++++++++++++807%0D%0A+++++c111112++c2015+04+18.28079+13+23+40.266-08+02+56.51+++++++++++++++++++++807%0D%0A+++++c111112++c2015+04+18.28873+13+23+40.236-08+02+56.39+++++++++++++++++++++807%0D%0A+++++c111112++c2015+04+18.29192+13+23+40.225-08+02+56.34+++++++++++++++++++++807%0D%0A+++++c111112++c2015+04+19.26576+13+23+36.638-08+02+41.20+++++++++++++++++++++807%0D%0A+++++c111112++c2015+04+19.26900+13+23+36.626-08+02+41.15+++++++++++++++++++++807%0D%0A+++++c111112++c2015+04+19.27548+13+23+36.602-08+02+41.05+++++++++++++++++++++807%0D%0A+++++c111112++c2015+04+19.27871+13+23+36.590-08+02+41.00+++++++++++++++++++++807%0D%0A+++++c111112++c2015+04+21.26671+13+23+29.268-08+02+10.10+++++++++++++++++++++807%0D%0A+++++c111112++c2015+04+21.27008+13+23+29.256-08+02+10.05+++++++++++++++++++++807%0D%0A+++++c111112++c2015+04+21.27329+13+23+29.244-08+02+10.00+++++++++++++++++++++807%0D%0A+++++c111112++c2015+04+21.27654+13+23+29.232-08+02+09.95+++++++++++++++++++++807%0D%0A+++++c111112++c2015+04+21.27976+13+23+29.220-08+02+09.90+++++++++++++++++++++807%0D%0A;search=bern;epoch1=1990+01+01;epoch2=2020+08+01;eunits=bern;extres=no;xyres=no;format=tsv\n"
     ]
    }
   ],
   "source": [
    "print(query_url)"
   ]
  },
  {
   "cell_type": "markdown",
   "metadata": {},
   "source": [
    "#### Query service via URL\n",
    "\n",
    "The formatted URL above will work in a browser to return results. But we have the `query_ssois` function that will pull down the results and provide them in a pandas dataframe all in one go."
   ]
  },
  {
   "cell_type": "code",
   "execution_count": 5,
   "metadata": {},
   "outputs": [],
   "source": [
    "results_df = ssois_query.query_ssois(query_url)"
   ]
  },
  {
   "cell_type": "code",
   "execution_count": 6,
   "metadata": {},
   "outputs": [
    {
     "data": {
      "text/html": [
       "<div>\n",
       "<style scoped>\n",
       "    .dataframe tbody tr th:only-of-type {\n",
       "        vertical-align: middle;\n",
       "    }\n",
       "\n",
       "    .dataframe tbody tr th {\n",
       "        vertical-align: top;\n",
       "    }\n",
       "\n",
       "    .dataframe thead th {\n",
       "        text-align: right;\n",
       "    }\n",
       "</style>\n",
       "<table border=\"1\" class=\"dataframe\">\n",
       "  <thead>\n",
       "    <tr style=\"text-align: right;\">\n",
       "      <th></th>\n",
       "      <th>Image</th>\n",
       "      <th>MJD</th>\n",
       "      <th>Filter</th>\n",
       "      <th>Exptime</th>\n",
       "      <th>Object_RA</th>\n",
       "      <th>Object_Dec</th>\n",
       "      <th>Image_target</th>\n",
       "      <th>Telescope_or_Instrument</th>\n",
       "      <th>MetaData</th>\n",
       "      <th>Datalink</th>\n",
       "    </tr>\n",
       "  </thead>\n",
       "  <tbody>\n",
       "    <tr>\n",
       "      <th>0</th>\n",
       "      <td>980501102256a</td>\n",
       "      <td>50934.432593</td>\n",
       "      <td>none</td>\n",
       "      <td>20</td>\n",
       "      <td>194.721816</td>\n",
       "      <td>5.238269</td>\n",
       "      <td>980501102256a</td>\n",
       "      <td>NEAT-GEODSS-Maui</td>\n",
       "      <td>http://sbn.psi.edu/archive/neat/geodss/data/g1...</td>\n",
       "      <td>NaN</td>\n",
       "    </tr>\n",
       "    <tr>\n",
       "      <th>1</th>\n",
       "      <td>980501105205a</td>\n",
       "      <td>50934.452836</td>\n",
       "      <td>none</td>\n",
       "      <td>20</td>\n",
       "      <td>194.721537</td>\n",
       "      <td>5.238318</td>\n",
       "      <td>980501105205a</td>\n",
       "      <td>NEAT-GEODSS-Maui</td>\n",
       "      <td>http://sbn.psi.edu/archive/neat/geodss/data/g1...</td>\n",
       "      <td>NaN</td>\n",
       "    </tr>\n",
       "    <tr>\n",
       "      <th>2</th>\n",
       "      <td>980501112210a</td>\n",
       "      <td>50934.473727</td>\n",
       "      <td>none</td>\n",
       "      <td>20</td>\n",
       "      <td>194.721249</td>\n",
       "      <td>5.238369</td>\n",
       "      <td>980501112210a</td>\n",
       "      <td>NEAT-GEODSS-Maui</td>\n",
       "      <td>http://sbn.psi.edu/archive/neat/geodss/data/g1...</td>\n",
       "      <td>NaN</td>\n",
       "    </tr>\n",
       "    <tr>\n",
       "      <th>3</th>\n",
       "      <td>980502105859a</td>\n",
       "      <td>50935.457627</td>\n",
       "      <td>none</td>\n",
       "      <td>20</td>\n",
       "      <td>194.707766</td>\n",
       "      <td>5.240725</td>\n",
       "      <td>980502105859a</td>\n",
       "      <td>NEAT-GEODSS-Maui</td>\n",
       "      <td>http://sbn.psi.edu/archive/neat/geodss/data/g1...</td>\n",
       "      <td>NaN</td>\n",
       "    </tr>\n",
       "    <tr>\n",
       "      <th>4</th>\n",
       "      <td>980502112839a</td>\n",
       "      <td>50935.478229</td>\n",
       "      <td>none</td>\n",
       "      <td>20</td>\n",
       "      <td>194.707485</td>\n",
       "      <td>5.240774</td>\n",
       "      <td>980502112839a</td>\n",
       "      <td>NEAT-GEODSS-Maui</td>\n",
       "      <td>http://sbn.psi.edu/archive/neat/geodss/data/g1...</td>\n",
       "      <td>NaN</td>\n",
       "    </tr>\n",
       "  </tbody>\n",
       "</table>\n",
       "</div>"
      ],
      "text/plain": [
       "           Image           MJD Filter  Exptime   Object_RA  Object_Dec  \\\n",
       "0  980501102256a  50934.432593   none       20  194.721816    5.238269   \n",
       "1  980501105205a  50934.452836   none       20  194.721537    5.238318   \n",
       "2  980501112210a  50934.473727   none       20  194.721249    5.238369   \n",
       "3  980502105859a  50935.457627   none       20  194.707766    5.240725   \n",
       "4  980502112839a  50935.478229   none       20  194.707485    5.240774   \n",
       "\n",
       "    Image_target Telescope_or_Instrument  \\\n",
       "0  980501102256a        NEAT-GEODSS-Maui   \n",
       "1  980501105205a        NEAT-GEODSS-Maui   \n",
       "2  980501112210a        NEAT-GEODSS-Maui   \n",
       "3  980502105859a        NEAT-GEODSS-Maui   \n",
       "4  980502112839a        NEAT-GEODSS-Maui   \n",
       "\n",
       "                                            MetaData  Datalink  \n",
       "0  http://sbn.psi.edu/archive/neat/geodss/data/g1...       NaN  \n",
       "1  http://sbn.psi.edu/archive/neat/geodss/data/g1...       NaN  \n",
       "2  http://sbn.psi.edu/archive/neat/geodss/data/g1...       NaN  \n",
       "3  http://sbn.psi.edu/archive/neat/geodss/data/g1...       NaN  \n",
       "4  http://sbn.psi.edu/archive/neat/geodss/data/g1...       NaN  "
      ]
     },
     "execution_count": 6,
     "metadata": {},
     "output_type": "execute_result"
    }
   ],
   "source": [
    "results_df.head()"
   ]
  },
  {
   "cell_type": "markdown",
   "metadata": {},
   "source": [
    "#### Create direct data download link\n",
    "It's possible to take the URLs for the data provided in `results_df['MetaData']` and turn them directly into a download link clickable from here in the notebook."
   ]
  },
  {
   "cell_type": "code",
   "execution_count": 7,
   "metadata": {},
   "outputs": [
    {
     "data": {
      "text/html": [
       "<a href=\"http://archive1.dm.noao.edu:7003/?fileRef=c4d_190714_235725_opi_z_v1.fits.fz\">http://archive1.dm.noao.edu:7003/?fileRef=c4d_190714_235725_opi_z_v1.fits.fz</a>"
      ],
      "text/plain": [
       "<IPython.core.display.HTML object>"
      ]
     },
     "execution_count": 7,
     "metadata": {},
     "output_type": "execute_result"
    }
   ],
   "source": [
    "from IPython.display import HTML\n",
    "\n",
    "image_data_link = results_df[\"MetaData\"].iloc[-1]\n",
    "HTML('<a href=\"{}\">{}</a>'.format(image_data_link, image_data_link))"
   ]
  },
  {
   "cell_type": "markdown",
   "metadata": {},
   "source": [
    "#### Compare KBMOD data to available data"
   ]
  },
  {
   "cell_type": "code",
   "execution_count": 8,
   "metadata": {},
   "outputs": [
    {
     "name": "stdout",
     "output_type": "stream",
     "text": [
      "Populating the interactive namespace from numpy and matplotlib\n"
     ]
    }
   ],
   "source": [
    "%pylab inline\n",
    "from ephem_utils import mpc_reader"
   ]
  },
  {
   "cell_type": "code",
   "execution_count": 9,
   "metadata": {},
   "outputs": [],
   "source": [
    "kbmod_observations = mpc_reader(\"kbmod_mpc.dat\")"
   ]
  },
  {
   "cell_type": "code",
   "execution_count": 10,
   "metadata": {},
   "outputs": [
    {
     "data": {
      "image/png": "[encoded data removed]",
      "text/plain": [
       "<Figure size 432x288 with 2 Axes>"
      ]
     },
     "metadata": {},
     "output_type": "display_data"
    }
   ],
   "source": [
    "scatter(\n",
    "    kbmod_observations.ra.deg,\n",
    "    kbmod_observations.dec.deg,\n",
    "    marker=\"x\",\n",
    "    s=200,\n",
    "    c=\"r\",\n",
    "    label=\"KBMOD Observations\",\n",
    "    zorder=10,\n",
    ")\n",
    "plt.legend()\n",
    "scatter(results_df[\"Object_RA\"], results_df[\"Object_Dec\"], c=results_df[\"MJD\"])\n",
    "cbar = plt.colorbar()\n",
    "plt.xlabel(\"RA\")\n",
    "plt.ylabel(\"Dec\")\n",
    "cbar.set_label(\"MJD\")"
   ]
  },
  {
   "cell_type": "code",
   "execution_count": null,
   "metadata": {},
   "outputs": [],
   "source": []
  }
 ],
 "metadata": {
  "kernelspec": {
   "display_name": "kbmod-lsst",
   "language": "python",
   "name": "kbmod-lsst"
  },
  "language_info": {
   "codemirror_mode": {
    "name": "ipython",
    "version": 3
   },
   "file_extension": ".py",
   "mimetype": "text/x-python",
   "name": "python",
   "nbconvert_exporter": "python",
   "pygments_lexer": "ipython3",
   "version": "3.6.6"
  }
 },
 "nbformat": 4,
 "nbformat_minor": 2
}
