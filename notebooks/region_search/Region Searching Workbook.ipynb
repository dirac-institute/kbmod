{
 "cells": [
  {
   "cell_type": "markdown",
   "id": "d94d8d2b",
   "metadata": {},
   "source": [
    "# Region Searching for KBMOD\n",
    "\n",
    "The point of this notebook is to do step-by-step exploration of the DEEP dataset that was first run through KBMOD for the first set of papers. That work was led by Hayden Smotherman, hence the reference to that name.\n",
    "\n",
    "The \"Steven\" name that appears is Steven Stetzler, who inherited the responsibilities of properly re/processing the entire DEEP dataset through data acquired through 2023.\n",
    "\n",
    "### Basic Idea\n",
    "Here we are connecting to an existing Butler/repository with the intent of carrying out queries to find data suitable for KBMOD to use.\n",
    "\n",
    "#### FAQ\n",
    "\n",
    "Q: Who wrote this, and when?\\\n",
    "A: Colin Orion Chandler (coc123@uw.edu), late January 2024.\n",
    "\n",
    "Q: What are the basic requirements to run this?\\\n",
    "A: (a) Epyc access, (b) with the appropriate (LSST w_2022_06) weekly build active, (c) permissions to access the repo_path mentioned below, and (d) an acceptable Kernel in the Jupyter-Hub of Epyc (user or global).\n",
    "\n",
    "Q: Why don't we just query the DB (e.g., PostGres, SQLite) to get what we need?\\\n",
    "A: Because (a) the underlying schema can (and has/does) change, and (b) the underlying DB does not contain views, meaning that we would have to recreate the very complex relational mapping ourselves. Moreover, aside from (b) being very challenging, the relationship mapping recreation would fail due to the reasons mentioned in (a)."
   ]
  },
  {
   "cell_type": "markdown",
   "id": "9ea4ebd7",
   "metadata": {},
   "source": [
    "### Initial Setup"
   ]
  },
  {
   "cell_type": "code",
   "execution_count": 1,
   "id": "d0189084",
   "metadata": {},
   "outputs": [],
   "source": [
    "# Import packages needed to run the notebook\n",
    "import lsst\n",
    "import lsst.daf.butler as dafButler\n",
    "\n",
    "import os\n",
    "import glob\n",
    "\n",
    "import multiprocessing\n",
    "from concurrent.futures import ProcessPoolExecutor, as_completed\n",
    "\n",
    "import time\n",
    "from dateutil import parser\n",
    "\n",
    "import pandas as pd\n",
    "import numpy as np\n",
    "\n",
    "from matplotlib import pyplot as plt\n",
    "from matplotlib.cm import get_cmap\n",
    "from matplotlib.colors import Normalize\n",
    "\n",
    "import progressbar\n",
    "\n",
    "from astropy.time import Time  # for converting Butler visitInfo.date (TAI) to UTC strings\n",
    "from astropy import units as u\n",
    "from astropy.coordinates import SkyCoord\n",
    "\n",
    "import pickle"
   ]
  },
  {
   "cell_type": "code",
   "execution_count": 2,
   "id": "ceeec168",
   "metadata": {},
   "outputs": [
    {
     "name": "stdout",
     "output_type": "stream",
     "text": [
      "96 CPUs were reported as available by the multiprocessing module.\n"
     ]
    }
   ],
   "source": [
    "# We will use some kind of multiprocessing in a few places. Let's see what the sytsem thinks we have available.\n",
    "# NOTE: we could set limits on executors later using this value, if desired. 2/6/2024 COC\n",
    "\n",
    "available_cpus = multiprocessing.cpu_count()\n",
    "print(f\"{available_cpus} CPUs were reported as available by the multiprocessing module.\")"
   ]
  },
  {
   "cell_type": "code",
   "execution_count": 3,
   "id": "693492d4",
   "metadata": {},
   "outputs": [],
   "source": [
    "# this code will run in different environments, so we need somewhere (not the working directory) to save output\n",
    "basedir = f'{os.environ[\"HOME\"]}/kbmod_tmp'\n",
    "os.makedirs(basedir, exist_ok=True)"
   ]
  },
  {
   "cell_type": "code",
   "execution_count": 4,
   "id": "b13eb927",
   "metadata": {},
   "outputs": [],
   "source": [
    "# set up the Butler\n",
    "# NOTE: the repo path contains configs that point us to the underlying registry (DB)\n",
    "# NOTE: do NOT assume there is write protection! (i.e., don't make changes)\n",
    "repo_path = f\"/epyc/users/smotherh/DEEP/PointingGroups/butler-repo\"\n",
    "butler = dafButler.Butler(repo_path)"
   ]
  },
  {
   "cell_type": "markdown",
   "id": "85cc47d8",
   "metadata": {},
   "source": [
    "#### Collections\n",
    "1. Explore the available collections\n",
    "2. Construct a list of the collections containing the data we care about.\n",
    "\n",
    "Different collections hold different datasets.\n",
    "\n",
    "For the Hayden DEEP repo, the collections we are concerned with are organized by pointing groups (discrete regions on the sky).\n",
    "\n",
    "We want to figure out what those are, how they are named, and what else is available.\n",
    "\n",
    "We will also dump a full list of collection names to disk. \\\n",
    "NOTE: as of 2/1/2024, there are 1,292 named collections in the repo.\n"
   ]
  },
  {
   "cell_type": "code",
   "execution_count": 5,
   "id": "e6a546f0",
   "metadata": {},
   "outputs": [],
   "source": [
    "def get_collection_names(butler, basedir, verbose=False, export=True):\n",
    "    \"\"\"\n",
    "    Making this a function 2/6/2024 COC.\n",
    "    \"\"\"\n",
    "    all_collection_names = []\n",
    "\n",
    "    for c in sorted(butler.registry.queryCollections(\"*\")):\n",
    "        all_collection_names.append(c)\n",
    "\n",
    "    if export == True:\n",
    "        outfile = f\"{basedir}/all_collection_names.lst\"\n",
    "        with open(outfile, \"w\") as f:\n",
    "            for c in all_collection_names:\n",
    "                print(c, file=f)\n",
    "\n",
    "    if verbose:\n",
    "        message = f\"Found {len(all_collection_names)} collections in the Butler.\"\n",
    "        if export == True:\n",
    "            message += f' Wrote to \"{outfile}\".'\n",
    "        print(message)\n",
    "    return all_collection_names"
   ]
  },
  {
   "cell_type": "code",
   "execution_count": 6,
   "id": "3006e4fd",
   "metadata": {},
   "outputs": [
    {
     "name": "stdout",
     "output_type": "stream",
     "text": [
      "Found 1292 collections in the Butler. Wrote to \"/astro/users/coc123/kbmod_tmp/all_collection_names.lst\".\n"
     ]
    }
   ],
   "source": [
    "all_collection_names = get_collection_names(butler=butler, basedir=basedir, verbose=True, export=True)"
   ]
  },
  {
   "cell_type": "code",
   "execution_count": 7,
   "id": "b409c810",
   "metadata": {},
   "outputs": [],
   "source": [
    "# We looked through the collections already.\n",
    "# We will string manipulate to get to what we need.\n",
    "# Previously, we used a list file on disk. (This could be a better option for some users.)\n",
    "\n",
    "\n",
    "def get_desired_collections(all_collections_list, desired_collection_list=None):\n",
    "    \"\"\"\n",
    "    Produce a list of collections that will be used for querying the Butler.\n",
    "\n",
    "    If desired_collection_list is None, then a hard-wired \"default\" approach\n",
    "    (for Haden/DEEP) is carried out, requiring:\n",
    "        1. \"Pointing\" must be in the collection name.\n",
    "        2. \"/imdiff_r/\" must be in the collection name.\n",
    "        3. \"/2021\" may not be in the collection name.\n",
    "\n",
    "    Otherwise, desired_collection_list can be either\n",
    "        1. a Python list of desired collection names, or\n",
    "        2. a filename (ending in .lst) that specifies the desired collections.\n",
    "    Either way, the collection names are verified against the (required) collections_list.\n",
    "\n",
    "    Made this into a function 2/6/2024 COC.\n",
    "\n",
    "    NOTE/TODO: untested are the supplied list and list file approaches.\n",
    "    \"\"\"\n",
    "\n",
    "    desired_collections = []\n",
    "\n",
    "    if desired_collection_list == None:\n",
    "        for collection_name in all_collection_names:\n",
    "            if (\n",
    "                \"Pointing\" in collection_name\n",
    "                and \"/imdiff_r\" in collection_name\n",
    "                and \"/2021\" not in collection_name\n",
    "            ):\n",
    "                desired_collections.append(collection_name)\n",
    "    else:\n",
    "        if type(desired_collection_list) == type(\"\"):\n",
    "            with open(desired_collection_list, \"r\") as f:\n",
    "                for line in f:\n",
    "                    desired_collections.append(line.strip())\n",
    "        else:\n",
    "            for entry in desired_collection_list:\n",
    "                desired_collections.append(entry)\n",
    "    #\n",
    "    # Validate entries\n",
    "    for entry in desired_collections:\n",
    "        if entry not in all_collections_list:\n",
    "            raise KeyError(f'\"{entry}\" is not in the master list of collections supplied.')\n",
    "    #\n",
    "    return desired_collections"
   ]
  },
  {
   "cell_type": "code",
   "execution_count": 8,
   "id": "dc9a4efc",
   "metadata": {},
   "outputs": [
    {
     "data": {
      "text/plain": [
       "['PointingGroup006/imdiff_r',\n",
       " 'PointingGroup008/imdiff_r',\n",
       " 'PointingGroup009/imdiff_r',\n",
       " 'PointingGroup016/imdiff_r',\n",
       " 'PointingGroup018/imdiff_r',\n",
       " 'PointingGroup019/imdiff_r',\n",
       " 'PointingGroup021/imdiff_r',\n",
       " 'PointingGroup023/imdiff_r']"
      ]
     },
     "execution_count": 8,
     "metadata": {},
     "output_type": "execute_result"
    }
   ],
   "source": [
    "desired_collections = get_desired_collections(all_collections_list=all_collection_names)\n",
    "desired_collections"
   ]
  },
  {
   "cell_type": "code",
   "execution_count": 9,
   "id": "4537e06a",
   "metadata": {},
   "outputs": [],
   "source": [
    "# ASIDE: there is a set of collections with dates in their names\n",
    "#   (e.g., PointingGroup006/imdiff_r/20211110T184421Z).\n",
    "# Those (only?) have the following datasetTypes, (so we use the name without the date for all the datasetTypes):\n",
    "# Across all collections, we see the following numbers by datasetType:\n",
    "# 47383      deepDiff_diaSrc\n",
    "# 8          deepDiff_diaSrc_schema\n",
    "# 47383      deepDiff_differenceExp\n",
    "# 29445      deepDiff_warpedExp\n",
    "# 8          imageDifference_config\n",
    "# 17942      imageDifference_log\n",
    "# 47383      imageDifference_metadata\n",
    "# 8          packages\n",
    "\n",
    "# which is too little? we we will snag the parent Collections (stripping dates)"
   ]
  },
  {
   "cell_type": "markdown",
   "id": "2fcdae7b",
   "metadata": {},
   "source": [
    "#### datasetTypes\n",
    "\n",
    "Here we explore another dimension of the Butler: datasetType.\n",
    "\n",
    "tldr; we just care about one currently: deepDiff_differenceExp"
   ]
  },
  {
   "cell_type": "code",
   "execution_count": 10,
   "id": "47c8c37c",
   "metadata": {},
   "outputs": [],
   "source": [
    "# TIMING NOTE: about 2 minutes here\n",
    "#\n",
    "# Maybe a KBMOD user must know which datasetType(s) they need?\n",
    "# Here we show how to explore them to figure that out.\n",
    "#\n",
    "# NOTE: we tested two approaches,\n",
    "#   (a) iterating over desired_collections, and\n",
    "#   (b) supply desired_collections.\n",
    "# The output was the same, but the iterating method took 268s, and the supplied method took 97s.\n",
    "# There *was* a point where we thought we were seeing different results depending on the approach,\n",
    "# but this has been sorted out. (COC suspects a testing break in a loop somwhere.)\n",
    "# COC NTS: [TODO] function, [TODO] caching\n",
    "\n",
    "\n",
    "def getDatasetTypeStats(butler, overwrite=False):\n",
    "    \"\"\"\n",
    "    Get information on all datasetTypes found in a Butler.\n",
    "    TODO implement caching if desired. If not, get rid of overwrite option.\n",
    "    2/1/2024 COC\n",
    "    \"\"\"\n",
    "    datasetTypes = {}\n",
    "\n",
    "    cache_file = f\"{basedir}/dataset_types.csv\"\n",
    "    cache_exists = False\n",
    "    if len(glob.glob(cache_file)) > 0:\n",
    "        cache_exists = True\n",
    "\n",
    "    if overwrite == False and cache_exists == True:\n",
    "        print(f\"Recycling {cache_file} as overwrite was False...\")\n",
    "        with open(cache_file, \"r\") as f:\n",
    "            for line in f:\n",
    "                print(line)\n",
    "                line = line.strip().split(\",\")\n",
    "                datasetTypes[line[0]] = int(line[1])\n",
    "        print(f\"Read {len(datasetTypes)} datasetTypes from disk.\")\n",
    "        return datasetTypes\n",
    "\n",
    "    q = sorted(butler.registry.queryDatasetTypes())\n",
    "\n",
    "    with progressbar.ProgressBar(max_value=len(q)) as bar:\n",
    "        for j, dt in enumerate(q):\n",
    "            n = 0\n",
    "            for i, ref in enumerate(\n",
    "                butler.registry.queryDatasets(datasetType=dt, collections=desired_collections)\n",
    "            ):\n",
    "                n += 1\n",
    "            if n > 0:\n",
    "                if dt.name not in datasetTypes:\n",
    "                    datasetTypes[dt.name] = 0\n",
    "                datasetTypes[dt.name] += n\n",
    "            bar.update(j)\n",
    "\n",
    "    if cache_exists == False or overwrite == True:\n",
    "        print(f\"Saving {len(datasetTypes)} datasetTypes to {cache_file} now...\")\n",
    "        with open(cache_file, \"w\") as f:\n",
    "            for key in datasetTypes:\n",
    "                print(f\"{key},{datasetTypes[key]}\", file=f)\n",
    "    else:\n",
    "        print(f\"Saw {len(datasetTypes)} datasetTypes.\")\n",
    "    return datasetTypes"
   ]
  },
  {
   "cell_type": "code",
   "execution_count": 11,
   "id": "b741015f",
   "metadata": {},
   "outputs": [
    {
     "name": "stdout",
     "output_type": "stream",
     "text": [
      "Recycling /astro/users/coc123/kbmod_tmp/dataset_types.csv as overwrite was False...\n",
      "assembleCoadd_config,8\n",
      "\n",
      "assembleCoadd_log,268\n",
      "\n",
      "assembleCoadd_metadata,700\n",
      "\n",
      "cal_ref_cat,122856\n",
      "\n",
      "calexp,47403\n",
      "\n",
      "calexpBackground,47403\n",
      "\n",
      "calibrate_config,8\n",
      "\n",
      "calibrate_log,17961\n",
      "\n",
      "calibrate_metadata,47403\n",
      "\n",
      "characterizeImage_config,8\n",
      "\n",
      "characterizeImage_log,18290\n",
      "\n",
      "characterizeImage_metadata,47423\n",
      "\n",
      "deepCoadd,693\n",
      "\n",
      "deepCoadd_directWarp,167085\n",
      "\n",
      "deepCoadd_inputMap,693\n",
      "\n",
      "deepCoadd_psfMatchedWarp,167085\n",
      "\n",
      "deepDiff_diaSrc,47383\n",
      "\n",
      "deepDiff_diaSrc_schema,8\n",
      "\n",
      "deepDiff_differenceExp,47383\n",
      "\n",
      "deepDiff_warpedExp,29445\n",
      "\n",
      "gaia_DR1_v1,524283\n",
      "\n",
      "icExp,47423\n",
      "\n",
      "icExpBackground,47423\n",
      "\n",
      "icSrc,47423\n",
      "\n",
      "icSrc_schema,8\n",
      "\n",
      "imageDifference_config,8\n",
      "\n",
      "imageDifference_log,17942\n",
      "\n",
      "imageDifference_metadata,47383\n",
      "\n",
      "isr_config,8\n",
      "\n",
      "isr_log,18290\n",
      "\n",
      "isr_metadata,48422\n",
      "\n",
      "makeWarp_config,8\n",
      "\n",
      "makeWarp_log,64924\n",
      "\n",
      "makeWarp_metadata,167085\n",
      "\n",
      "overscanRaw,48422\n",
      "\n",
      "overscan_config,8\n",
      "\n",
      "overscan_log,18290\n",
      "\n",
      "overscan_metadata,48422\n",
      "\n",
      "packages,32\n",
      "\n",
      "postISRCCD,48422\n",
      "\n",
      "ps1_pv3_3pi_20170110,130924\n",
      "\n",
      "raw,48422\n",
      "\n",
      "skyMap,1\n",
      "\n",
      "src,47403\n",
      "\n",
      "srcMatch,47403\n",
      "\n",
      "src_schema,8\n",
      "\n",
      "Read 46 datasetTypes from disk.\n",
      "CPU times: user 1.59 ms, sys: 1.52 ms, total: 3.11 ms\n",
      "Wall time: 15.4 ms\n"
     ]
    }
   ],
   "source": [
    "%%time\n",
    "# TIMING NOTE: this takes roughly 2.5 minutes without cache (2/6/2024 COC)\n",
    "datasetTypes = getDatasetTypeStats(butler=butler, overwrite=False)"
   ]
  },
  {
   "cell_type": "code",
   "execution_count": 12,
   "id": "6406f04c",
   "metadata": {},
   "outputs": [
    {
     "name": "stdout",
     "output_type": "stream",
     "text": [
      "Across all collections, we see the following numbers by datasetType: \n",
      "8          assembleCoadd_config\n",
      "268        assembleCoadd_log\n",
      "700        assembleCoadd_metadata\n",
      "122856     cal_ref_cat\n",
      "47403      calexp\n",
      "47403      calexpBackground\n",
      "8          calibrate_config\n",
      "17961      calibrate_log\n",
      "47403      calibrate_metadata\n",
      "8          characterizeImage_config\n",
      "18290      characterizeImage_log\n",
      "47423      characterizeImage_metadata\n",
      "693        deepCoadd\n",
      "167085     deepCoadd_directWarp\n",
      "693        deepCoadd_inputMap\n",
      "167085     deepCoadd_psfMatchedWarp\n",
      "47383      deepDiff_diaSrc\n",
      "8          deepDiff_diaSrc_schema\n",
      "47383      deepDiff_differenceExp\n",
      "29445      deepDiff_warpedExp\n",
      "524283     gaia_DR1_v1\n",
      "47423      icExp\n",
      "47423      icExpBackground\n",
      "47423      icSrc\n",
      "8          icSrc_schema\n",
      "8          imageDifference_config\n",
      "17942      imageDifference_log\n",
      "47383      imageDifference_metadata\n",
      "8          isr_config\n",
      "18290      isr_log\n",
      "48422      isr_metadata\n",
      "8          makeWarp_config\n",
      "64924      makeWarp_log\n",
      "167085     makeWarp_metadata\n",
      "48422      overscanRaw\n",
      "8          overscan_config\n",
      "18290      overscan_log\n",
      "48422      overscan_metadata\n",
      "32         packages\n",
      "48422      postISRCCD\n",
      "130924     ps1_pv3_3pi_20170110\n",
      "48422      raw\n",
      "1          skyMap\n",
      "47403      src\n",
      "47403      srcMatch\n",
      "8          src_schema\n"
     ]
    }
   ],
   "source": [
    "# The number of records for each datasetType.\n",
    "# This may be especially useful for users who do not yet know which datasetType(s) they need.\n",
    "\n",
    "print(f\"Across all collections, we see the following numbers by datasetType: \")\n",
    "for dt in datasetTypes:\n",
    "    print(f\"{datasetTypes[dt]!s:10} {dt}\")"
   ]
  },
  {
   "cell_type": "code",
   "execution_count": 13,
   "id": "53a03c75",
   "metadata": {},
   "outputs": [],
   "source": [
    "# This is the datasetType that we care about.\n",
    "# NOTE: we should allow this to be a list in case a user needs multiple.\n",
    "desired_datasetTypes = [\"deepDiff_differenceExp\"]"
   ]
  },
  {
   "cell_type": "markdown",
   "id": "3c351fc7",
   "metadata": {},
   "source": [
    "### Visit Detector Region (VDR) Querying\n",
    "\n",
    "Here we will query the Butler and extract all of the \"visit_detector_region\" information.\\\n",
    "At this stage we are gathering:\n",
    "1. dataIds for all future queries\n",
    "2. lsst.sphgeom.region objects"
   ]
  },
  {
   "cell_type": "code",
   "execution_count": 14,
   "id": "c47e5588",
   "metadata": {},
   "outputs": [],
   "source": [
    "def get_vdr_data(butler, desired_collections, desired_datasetTypes):\n",
    "    \"\"\"\n",
    "\n",
    "    Made as function 2/6/2024 COC.\n",
    "    \"\"\"\n",
    "    # VDR === Visit Detector Region\n",
    "    # VDRs hold what we need in terms of region hashes and unique dataIds.\n",
    "    # NOTE: this typically takes < 5s to run 2/1/2024 COC\n",
    "    # NOTE: tried iterating over desired_collections vs supplying desired_collections; same output 2/1/2024 COC\n",
    "\n",
    "    vdr_dict = {\"data_id\": [], \"region\": [], \"detector\": []}\n",
    "    #     vdr_ids = []\n",
    "    #     vdr_regions = []\n",
    "    #     vdr_detectors = []\n",
    "\n",
    "    for dt in desired_datasetTypes:\n",
    "        datasetRefs = butler.registry.queryDimensionRecords(\n",
    "            \"visit_detector_region\", datasets=dt, collections=desired_collections\n",
    "        )\n",
    "        for ref in datasetRefs:\n",
    "            vdr_dict[\"data_id\"].append(ref.dataId)\n",
    "            vdr_dict[\"region\"].append(\n",
    "                ref.region\n",
    "            )  # keeping as objects for now; should .encode() for caching/export\n",
    "            vdr_dict[\"detector\"].append(ref.detector)  # 2/2/2024 COC\n",
    "            # BUT if we decided to export this or cache this, we should write the encode() version to disk\n",
    "            #\n",
    "            example_vdr_ref = ref  # this leaves a VDR Python object we can play with\n",
    "            # other data available:\n",
    "            #    id = ref.id# id -- e.g., 1592350 (for DEEP dataset, I think UUIDs for newer Butlers)\n",
    "            #    visit = ref.dataId.full['visit'] # e.g., 946725\n",
    "            # vdr_filters.append(ref.dataId.full['band']) # e.g., VR\n",
    "            # vdr_detectors.append(ref.dataId.full['detector']) # e.g., 1\n",
    "    df = pd.DataFrame.from_dict(vdr_dict)\n",
    "    return df, example_vdr_ref"
   ]
  },
  {
   "cell_type": "code",
   "execution_count": 15,
   "id": "eb222e02",
   "metadata": {},
   "outputs": [
    {
     "name": "stdout",
     "output_type": "stream",
     "text": [
      "CPU times: user 2.17 s, sys: 89 ms, total: 2.26 s\n",
      "Wall time: 2.77 s\n"
     ]
    }
   ],
   "source": [
    "%%time\n",
    "# TIMING NOTE: requires about 2 seconds 2/6/2024 COC\n",
    "df, example_vdr_ref = get_vdr_data(\n",
    "    butler=butler, desired_collections=desired_collections, desired_datasetTypes=desired_datasetTypes\n",
    ")"
   ]
  },
  {
   "cell_type": "code",
   "execution_count": 16,
   "id": "6e9462e1",
   "metadata": {},
   "outputs": [
    {
     "data": {
      "text/html": [
       "<div>\n",
       "<style scoped>\n",
       "    .dataframe tbody tr th:only-of-type {\n",
       "        vertical-align: middle;\n",
       "    }\n",
       "\n",
       "    .dataframe tbody tr th {\n",
       "        vertical-align: top;\n",
       "    }\n",
       "\n",
       "    .dataframe thead th {\n",
       "        text-align: right;\n",
       "    }\n",
       "</style>\n",
       "<table border=\"1\" class=\"dataframe\">\n",
       "  <thead>\n",
       "    <tr style=\"text-align: right;\">\n",
       "      <th></th>\n",
       "      <th>data_id</th>\n",
       "      <th>region</th>\n",
       "      <th>detector</th>\n",
       "    </tr>\n",
       "  </thead>\n",
       "  <tbody>\n",
       "    <tr>\n",
       "      <th>0</th>\n",
       "      <td>(instrument, detector, visit)</td>\n",
       "      <td>ConvexPolygon([UnitVector3d(0.9847372525065534...</td>\n",
       "      <td>1</td>\n",
       "    </tr>\n",
       "    <tr>\n",
       "      <th>1</th>\n",
       "      <td>(instrument, detector, visit)</td>\n",
       "      <td>ConvexPolygon([UnitVector3d(0.9847381014554984...</td>\n",
       "      <td>1</td>\n",
       "    </tr>\n",
       "    <tr>\n",
       "      <th>2</th>\n",
       "      <td>(instrument, detector, visit)</td>\n",
       "      <td>ConvexPolygon([UnitVector3d(0.9847383417970056...</td>\n",
       "      <td>1</td>\n",
       "    </tr>\n",
       "    <tr>\n",
       "      <th>3</th>\n",
       "      <td>(instrument, detector, visit)</td>\n",
       "      <td>ConvexPolygon([UnitVector3d(0.9847382159041213...</td>\n",
       "      <td>1</td>\n",
       "    </tr>\n",
       "    <tr>\n",
       "      <th>4</th>\n",
       "      <td>(instrument, detector, visit)</td>\n",
       "      <td>ConvexPolygon([UnitVector3d(0.9847381374341414...</td>\n",
       "      <td>1</td>\n",
       "    </tr>\n",
       "    <tr>\n",
       "      <th>...</th>\n",
       "      <td>...</td>\n",
       "      <td>...</td>\n",
       "      <td>...</td>\n",
       "    </tr>\n",
       "    <tr>\n",
       "      <th>47378</th>\n",
       "      <td>(instrument, detector, visit)</td>\n",
       "      <td>ConvexPolygon([UnitVector3d(0.987608537646486,...</td>\n",
       "      <td>62</td>\n",
       "    </tr>\n",
       "    <tr>\n",
       "      <th>47379</th>\n",
       "      <td>(instrument, detector, visit)</td>\n",
       "      <td>ConvexPolygon([UnitVector3d(0.9876085083003562...</td>\n",
       "      <td>62</td>\n",
       "    </tr>\n",
       "    <tr>\n",
       "      <th>47380</th>\n",
       "      <td>(instrument, detector, visit)</td>\n",
       "      <td>ConvexPolygon([UnitVector3d(0.9876085761885252...</td>\n",
       "      <td>62</td>\n",
       "    </tr>\n",
       "    <tr>\n",
       "      <th>47381</th>\n",
       "      <td>(instrument, detector, visit)</td>\n",
       "      <td>ConvexPolygon([UnitVector3d(0.9876085761885252...</td>\n",
       "      <td>62</td>\n",
       "    </tr>\n",
       "    <tr>\n",
       "      <th>47382</th>\n",
       "      <td>(instrument, detector, visit)</td>\n",
       "      <td>ConvexPolygon([UnitVector3d(0.9876086828694174...</td>\n",
       "      <td>62</td>\n",
       "    </tr>\n",
       "  </tbody>\n",
       "</table>\n",
       "<p>47383 rows × 3 columns</p>\n",
       "</div>"
      ],
      "text/plain": [
       "                             data_id   \n",
       "0      (instrument, detector, visit)  \\\n",
       "1      (instrument, detector, visit)   \n",
       "2      (instrument, detector, visit)   \n",
       "3      (instrument, detector, visit)   \n",
       "4      (instrument, detector, visit)   \n",
       "...                              ...   \n",
       "47378  (instrument, detector, visit)   \n",
       "47379  (instrument, detector, visit)   \n",
       "47380  (instrument, detector, visit)   \n",
       "47381  (instrument, detector, visit)   \n",
       "47382  (instrument, detector, visit)   \n",
       "\n",
       "                                                  region  detector  \n",
       "0      ConvexPolygon([UnitVector3d(0.9847372525065534...         1  \n",
       "1      ConvexPolygon([UnitVector3d(0.9847381014554984...         1  \n",
       "2      ConvexPolygon([UnitVector3d(0.9847383417970056...         1  \n",
       "3      ConvexPolygon([UnitVector3d(0.9847382159041213...         1  \n",
       "4      ConvexPolygon([UnitVector3d(0.9847381374341414...         1  \n",
       "...                                                  ...       ...  \n",
       "47378  ConvexPolygon([UnitVector3d(0.987608537646486,...        62  \n",
       "47379  ConvexPolygon([UnitVector3d(0.9876085083003562...        62  \n",
       "47380  ConvexPolygon([UnitVector3d(0.9876085761885252...        62  \n",
       "47381  ConvexPolygon([UnitVector3d(0.9876085761885252...        62  \n",
       "47382  ConvexPolygon([UnitVector3d(0.9876086828694174...        62  \n",
       "\n",
       "[47383 rows x 3 columns]"
      ]
     },
     "execution_count": 16,
     "metadata": {},
     "output_type": "execute_result"
    }
   ],
   "source": [
    "df"
   ]
  },
  {
   "cell_type": "code",
   "execution_count": 17,
   "id": "e04e2f35",
   "metadata": {},
   "outputs": [
    {
     "name": "stdout",
     "output_type": "stream",
     "text": [
      "We found 47383 regions spanning the 8 desired collections.\n"
     ]
    }
   ],
   "source": [
    "print(f\"We found {len(df['data_id'])} regions spanning the {len(desired_collections)} desired collections.\")"
   ]
  },
  {
   "cell_type": "code",
   "execution_count": 18,
   "id": "08d5b443",
   "metadata": {},
   "outputs": [
    {
     "data": {
      "text/html": [
       "<pre>visit_detector_region:\n",
       "  instrument: 'DECam'\n",
       "  detector: 62\n",
       "  visit: 946176\n",
       "  region: ConvexPolygon([UnitVector3d(0.9876086828694174, -0.13336028508776862, -0.08272922024438323), UnitVector3d(0.9873378171284917, -0.13332652431396907, -0.08595389916869185), UnitVector3d(0.9881047366097594, -0.12752395595185462, -0.08594573955553172), UnitVector3d(0.9883760335240734, -0.12755303452468866, -0.0827226676235914)])<pre>"
      ],
      "text/plain": [
       "visit_detector_region.RecordClass(instrument='DECam', detector=62, visit=946176, region=ConvexPolygon([UnitVector3d(0.9876086828694174, -0.13336028508776862, -0.08272922024438323), UnitVector3d(0.9873378171284917, -0.13332652431396907, -0.08595389916869185), UnitVector3d(0.9881047366097594, -0.12752395595185462, -0.08594573955553172), UnitVector3d(0.9883760335240734, -0.12755303452468866, -0.0827226676235914)]))"
      ]
     },
     "execution_count": 18,
     "metadata": {},
     "output_type": "execute_result"
    }
   ],
   "source": [
    "# For demonstration purposes we still have the last \"ref\" from the last cell's iteration\n",
    "example_vdr_ref"
   ]
  },
  {
   "cell_type": "code",
   "execution_count": 19,
   "id": "e28031c2",
   "metadata": {},
   "outputs": [
    {
     "data": {
      "text/plain": [
       "{instrument: 'DECam', detector: 62, visit: 946176}"
      ]
     },
     "execution_count": 19,
     "metadata": {},
     "output_type": "execute_result"
    }
   ],
   "source": [
    "# This is the unique dataId we would need to retrieve this specific image later\n",
    "example_vdr_ref.dataId"
   ]
  },
  {
   "cell_type": "code",
   "execution_count": 20,
   "id": "761f3610",
   "metadata": {},
   "outputs": [
    {
     "name": "stdout",
     "output_type": "stream",
     "text": [
      "example_vdr_ref.instrument = DECam,     example_vdr_ref.detector = 62,     example_vdr_ref.visit = 946176\n"
     ]
    }
   ],
   "source": [
    "# The unique dataId is made up of the following attributes:\n",
    "print(\n",
    "    f\"example_vdr_ref.instrument = {example_vdr_ref.instrument}, \\\n",
    "    example_vdr_ref.detector = {example_vdr_ref.detector}, \\\n",
    "    example_vdr_ref.visit = {example_vdr_ref.visit}\"\n",
    ")"
   ]
  },
  {
   "cell_type": "code",
   "execution_count": 21,
   "id": "5d6b2106",
   "metadata": {},
   "outputs": [
    {
     "data": {
      "text/plain": [
       "b'p\\xddnE\\x86}\\x9a\\xef?\\x0f\\xc3\\x84\\'\\xf3\\x11\\xc1\\xbf\\x80\\x8a_\\xff\\xbd-\\xb5\\xbf\\x04xUzE\\x98\\xef?\\x94\\x15\\xcf\\xf2\\xd7\\x10\\xc1\\xbf\\x9d\\xa9\\xe4!\\x13\\x01\\xb6\\xbf\\x1d_\\x18\\xd3\\x8d\\x9e\\xef?\\x80\\x87\"z\\xb4R\\xc0\\xbff\\x1d\\x9f<\\x8a\\x00\\xb6\\xbf\\xe4Z\\x84\\xc6\\xc6\\xa0\\xef?\\x1f\\x01\\xe5g\\xa8S\\xc0\\xbf\\xba\\xc9\\x14\\x10P-\\xb5\\xbf'"
      ]
     },
     "execution_count": 21,
     "metadata": {},
     "output_type": "execute_result"
    }
   ],
   "source": [
    "# This is the region hash we would use for \"region matching\" later\n",
    "example_vdr_ref.region.encode()"
   ]
  },
  {
   "cell_type": "code",
   "execution_count": 22,
   "id": "aa653a8b",
   "metadata": {},
   "outputs": [
    {
     "data": {
      "text/plain": [
       "False"
      ]
     },
     "execution_count": 22,
     "metadata": {},
     "output_type": "execute_result"
    }
   ],
   "source": [
    "# We check to see if we can crawl to other data from the dataId (False means no).\n",
    "example_vdr_ref.dataId.hasRecords()"
   ]
  },
  {
   "cell_type": "markdown",
   "id": "3f49186c",
   "metadata": {},
   "source": [
    "# Dataframe Assembly\n",
    "\n",
    "This used to contain more, but after I moved everything to a dictionary, then a DF, this became less important.\n",
    "TODO determine where this should go. Or remove."
   ]
  },
  {
   "cell_type": "code",
   "execution_count": 23,
   "id": "acda18f4",
   "metadata": {},
   "outputs": [
    {
     "name": "stdout",
     "output_type": "stream",
     "text": [
      "CPU times: user 417 ms, sys: 33 ms, total: 450 ms\n",
      "Wall time: 544 ms\n"
     ]
    }
   ],
   "source": [
    "%%time\n",
    "\n",
    "# Save the dataframe to a pickle file for easier resuming of the notebook\n",
    "# Size was < 20 Mb 2/5/2024 COC\n",
    "# COC Note: this was not that useful, maybe TODO remove\n",
    "df_filename = f\"{basedir}/region_search_df.pickle\"\n",
    "df.to_pickle(df_filename)"
   ]
  },
  {
   "cell_type": "code",
   "execution_count": 24,
   "id": "bb076b4b",
   "metadata": {},
   "outputs": [],
   "source": [
    "# load the pickle\n",
    "# df = pd.read_pickle(file_name)"
   ]
  },
  {
   "cell_type": "markdown",
   "id": "5bdaaf00",
   "metadata": {},
   "source": [
    "### Instrument handling\n",
    "Some Butler queries require the instrument to be specified.\\\n",
    "For now, we are just supplying the one we care about (KLUDGE).\\\n",
    "It's a list so we can mix-and-match shift-and-stack across instruments(!).\\\n",
    "NOTE: will leave this as a list for future-proofing purpose"
   ]
  },
  {
   "cell_type": "code",
   "execution_count": 25,
   "id": "0228bb4d",
   "metadata": {},
   "outputs": [],
   "source": [
    "def getInstruments(butler, vdr_ids, first_instrument_only=True):\n",
    "    \"\"\"Iterate through our records to determine which instrument(s) are involved.\n",
    "    Return a list of the identified instruments.\n",
    "    If first_instrument_only is True, stop as soon as we found an instrument.\n",
    "    \"\"\"\n",
    "    # KLUDGE: snag the instrument name of the first record we find in a visitInfo query.\n",
    "    instrument_names = []\n",
    "    for i, dataId in enumerate(vdr_ids):\n",
    "        visitInfo = butler.get(\"calexp.visitInfo\", dataId=dataId, collections=desired_collections)\n",
    "        instrument_name = visitInfo.instrumentLabel\n",
    "        if instrument_name not in instrument_names:\n",
    "            print(f'Found {instrument_name}. Adding to \"desired_instruments\" now.')\n",
    "            instrument_names.append(instrument_name)\n",
    "        if first_instrument_only == True and len(instrument_names) > 0:\n",
    "            print(\n",
    "                f\"WARNING: we are not iterating over all rows to find instruments, just taking the first one.\"\n",
    "            )\n",
    "            break\n",
    "    return instrument_names"
   ]
  },
  {
   "cell_type": "code",
   "execution_count": 26,
   "id": "6c3bb244",
   "metadata": {},
   "outputs": [
    {
     "name": "stdout",
     "output_type": "stream",
     "text": [
      "Found DECam. Adding to \"desired_instruments\" now.\n",
      "WARNING: we are not iterating over all rows to find instruments, just taking the first one.\n",
      "CPU times: user 1.82 s, sys: 344 ms, total: 2.17 s\n",
      "Wall time: 2.51 s\n"
     ]
    }
   ],
   "source": [
    "%%time\n",
    "desired_instruments = getInstruments(butler=butler, vdr_ids=df[\"data_id\"])"
   ]
  },
  {
   "cell_type": "markdown",
   "id": "47a434b2",
   "metadata": {},
   "source": [
    "### Butler Retrieval Example\n",
    "\n",
    "A quick stop to see how we can grab the full Butler record via a dataId."
   ]
  },
  {
   "cell_type": "code",
   "execution_count": 27,
   "id": "dfc37b54",
   "metadata": {},
   "outputs": [
    {
     "name": "stdout",
     "output_type": "stream",
     "text": [
      "CPU times: user 1.64 s, sys: 309 ms, total: 1.95 s\n",
      "Wall time: 3.52 s\n"
     ]
    }
   ],
   "source": [
    "%%time\n",
    "# Back to the dataId, we can actually fetch the image from the Butler\n",
    "# TIMING NOTE: it takes 1 to 2 seconds to do this, so we won't be able to do this at scale\n",
    "\n",
    "example_butler_get = butler.get(\n",
    "    desired_datasetTypes[0], collections=desired_collections, dataId=example_vdr_ref.dataId\n",
    ")"
   ]
  },
  {
   "cell_type": "code",
   "execution_count": 28,
   "id": "789f1d42",
   "metadata": {},
   "outputs": [
    {
     "data": {
      "text/plain": [
       "62"
      ]
     },
     "execution_count": 28,
     "metadata": {},
     "output_type": "execute_result"
    }
   ],
   "source": [
    "example_butler_get.detector.getId()"
   ]
  },
  {
   "cell_type": "code",
   "execution_count": 29,
   "id": "351e8d03",
   "metadata": {},
   "outputs": [
    {
     "data": {
      "text/plain": [
       "'VR'"
      ]
     },
     "execution_count": 29,
     "metadata": {},
     "output_type": "execute_result"
    }
   ],
   "source": [
    "example_butler_get.filterLabel.bandLabel"
   ]
  },
  {
   "cell_type": "code",
   "execution_count": 30,
   "id": "1c1e5431",
   "metadata": {},
   "outputs": [
    {
     "data": {
      "text/plain": [
       "<matplotlib.image.AxesImage at 0x7f07219ac6d0>"
      ]
     },
     "execution_count": 30,
     "metadata": {},
     "output_type": "execute_result"
    },
    {
     "data": {
      "image/png": "[encoded data removed]",
      "text/plain": [
       "<Figure size 640x480 with 1 Axes>"
      ]
     },
     "metadata": {},
     "output_type": "display_data"
    }
   ],
   "source": [
    "# we can even view the image right here\n",
    "plt.imshow(example_butler_get.image.array, cmap=\"gray\")"
   ]
  },
  {
   "cell_type": "code",
   "execution_count": 31,
   "id": "ba1b7ab6",
   "metadata": {},
   "outputs": [
    {
     "data": {
      "text/plain": [
       "FITS standard SkyWcs:\n",
       "Sky Origin: (352.4630539808, -4.8516830845)\n",
       "Pixel Origin: (1126.14, 1991.36)\n",
       "Pixel Scale: 0.262593 arcsec/pixel"
      ]
     },
     "execution_count": 31,
     "metadata": {},
     "output_type": "execute_result"
    }
   ],
   "source": [
    "# There IS a WCS here, which we did not see in the earlier VDR\n",
    "example_butler_get.wcs"
   ]
  },
  {
   "cell_type": "code",
   "execution_count": 32,
   "id": "4270995e",
   "metadata": {
    "scrolled": true
   },
   "outputs": [
    {
     "name": "stdout",
     "output_type": "stream",
     "text": [
      "Here are all the keywords available from this image:\n",
      "NEXTEND\n",
      "PROCTYPE\n",
      "PRODTYPE\n",
      "PIXSCAL1\n",
      "PIXSCAL2\n",
      "FILENAME\n",
      "TELESCOP\n",
      "OBSERVAT\n",
      "INSTRUME\n",
      "EXPREQ\n",
      "OBSID\n",
      "TIME-OBS\n",
      "OPENSHUT\n",
      "EXPNUM\n",
      "OBJECT\n",
      "OBSTYPE\n",
      "CAMSHUT\n",
      "PROGRAM\n",
      "OBSERVER\n",
      "PROPOSER\n",
      "DTPI\n",
      "PROPID\n",
      "EXCLUDED\n",
      "SEQID\n",
      "SEQNUM\n",
      "SEQTOT\n",
      "AOS\n",
      "BCAM\n",
      "GUIDER\n",
      "SKYSTAT\n",
      "FILTER\n",
      "INSTANCE\n",
      "ERRORS\n",
      "TELEQUIN\n",
      "TELSTAT\n",
      "RA\n",
      "DEC\n",
      "TELRA\n",
      "TELDEC\n",
      "HA\n",
      "ZD\n",
      "AZ\n",
      "DOMEAZ\n",
      "ZPDELRA\n",
      "ZPDELDEC\n",
      "TELFOCUS\n",
      "VSUB\n",
      "GSKYPHOT\n",
      "LSKYPHOT\n",
      "WINDSPD\n",
      "WINDDIR\n",
      "PRESSURE\n",
      "DIMMSEE\n",
      "DIMM2SEE\n",
      "MASS2\n",
      "ASTIG1\n",
      "ASTIG2\n",
      "OUTTEMP\n",
      "AIRMASS\n",
      "GSKYVAR\n",
      "GSKYHOT\n",
      "LSKYVAR\n",
      "LSKYHOT\n",
      "LSKYPOW\n",
      "MSURTEMP\n",
      "MAIRTEMP\n",
      "UPTRTEMP\n",
      "LWTRTEMP\n",
      "PMOSTEMP\n",
      "UTN-TEMP\n",
      "UTS-TEMP\n",
      "UTW-TEMP\n",
      "UTE-TEMP\n",
      "PMN-TEMP\n",
      "PMS-TEMP\n",
      "PMW-TEMP\n",
      "PME-TEMP\n",
      "DOMELOW\n",
      "DOMEHIGH\n",
      "DOMEFLOR\n",
      "G-MEANX\n",
      "G-MEANY\n",
      "DONUTFS4\n",
      "DONUTFS3\n",
      "DONUTFS2\n",
      "DONUTFS1\n",
      "G-FLXVAR\n",
      "G-MEANXY\n",
      "DONUTFN1\n",
      "DONUTFN2\n",
      "DONUTFN3\n",
      "DONUTFN4\n",
      "TIME_RECORDED\n",
      "G-FEEDBK\n",
      "G-CCDNUM\n",
      "DOXT\n",
      "G-MAXX\n",
      "FADZ\n",
      "FADY\n",
      "FADX\n",
      "G-MODE\n",
      "FAYT\n",
      "DODZ\n",
      "DODY\n",
      "DODX\n",
      "MULTIEXP\n",
      "SKYUPDAT\n",
      "G-SEEING\n",
      "G-TRANSP\n",
      "G-MEANY2\n",
      "DOYT\n",
      "G-LATENC\n",
      "LUTVER\n",
      "FAXT\n",
      "G-MAXY\n",
      "G-MEANX2\n",
      "SISPIVER\n",
      "CONSTVER\n",
      "HDRVER\n",
      "DTPROPID\n",
      "DTCALDAT\n",
      "DTSITE\n",
      "DTTELESC\n",
      "DTACQNAM\n",
      "DTINSTRU\n",
      "ODATEOBS\n",
      "DTNSANAM\n",
      "HISTORY\n",
      "COMMENT\n",
      "ZTENSION\n",
      "ZPCOUNT\n",
      "ZGCOUNT\n",
      "BUNIT\n",
      "DETSIZE\n",
      "DETSEC\n",
      "CCDSEC\n",
      "DETSECA\n",
      "CCDSECA\n",
      "AMPSECA\n",
      "DETSECB\n",
      "CCDSECB\n",
      "AMPSECB\n",
      "DETECTOR\n",
      "CCDNUM\n",
      "DETPOS\n",
      "EXTNAME\n",
      "GAINA\n",
      "RDNOISEA\n",
      "SATURATA\n",
      "GAINB\n",
      "RDNOISEB\n",
      "SATURATB\n",
      "FPA\n",
      "INHERIT\n",
      "CCDBIN1\n",
      "CCDBIN2\n",
      "DHEINF\n",
      "DHEFIRM\n",
      "SLOT00\n",
      "SLOT01\n",
      "SLOT02\n",
      "SLOT03\n",
      "SLOT04\n",
      "SLOT05\n",
      "LTV2\n",
      "LTV1\n",
      "VALIDA\n",
      "VALIDB\n",
      "NDONUTS\n",
      "CHECKVER\n",
      "ASTRO METADATA FIX MODIFIED\n",
      "ASTRO METADATA FIX DATE\n",
      "ISR_OSCAN_LEVELA\n",
      "ISR_OSCAN_SIGMAA\n",
      "OVERSCAN\n",
      "ISR_OSCAN_LEVELB\n",
      "ISR_OSCAN_SIGMAB\n",
      "SKYLEVEL\n",
      "SKYSIGMA\n",
      "FLATNESS_PP\n",
      "FLATNESS_RMS\n",
      "FLATNESS_NGRIDS\n",
      "FLATNESS_MESHX\n",
      "FLATNESS_MESHY\n",
      "BGMEAN\n",
      "BGVAR\n",
      "SFM_ASTROM_OFFSET_MEAN\n",
      "SFM_ASTROM_OFFSET_STD\n",
      "MAGZERO\n",
      "MAGZERO_RMS\n",
      "MAGZERO_NOBJ\n",
      "COLORTERM1\n",
      "COLORTERM2\n",
      "COLORTERM3\n"
     ]
    }
   ],
   "source": [
    "# We can access all kinds of metadata this way.\n",
    "# NOTE: keywords are source data-dependent.\n",
    "# NOTE: this linkage works with butler.get() but not necessarily elsewhere.\n",
    "meta = example_butler_get.getInfo().getMetadata()\n",
    "\n",
    "print(f\"Here are all the keywords available from this image:\")\n",
    "for k in meta.keys():\n",
    "    print(k)"
   ]
  },
  {
   "cell_type": "markdown",
   "id": "d4f8d811",
   "metadata": {},
   "source": [
    "### URI / URL / Path Handling\n",
    "Here we grab URIs for the dataIds we need."
   ]
  },
  {
   "cell_type": "code",
   "execution_count": 33,
   "id": "7bbc916e",
   "metadata": {},
   "outputs": [],
   "source": [
    "# NOTE: getURIs() does not work as you'd think (i.e., it only handles a single dataId)\n",
    "# butler.getURIs(desired_datasetTypes[0], vdr_ids, collections=desired_collections)"
   ]
  },
  {
   "cell_type": "code",
   "execution_count": 34,
   "id": "e0f8f8f9",
   "metadata": {},
   "outputs": [],
   "source": [
    "# The single-thead approach (below) requires some 2 hours to execute. So instead we will multiprocess.\n",
    "# paths = [butler.getURI(desired_datasetTypes[0], dataId=dataId, collections=desired_collections) for dataId in vdr_ids]\n",
    "\n",
    "\n",
    "def chunked_dataIds(dataIds, chunk_size=200):\n",
    "    \"\"\"Yield successive chunk_size chunks from dataIds.\"\"\"\n",
    "    for i in range(0, len(dataIds), chunk_size):\n",
    "        yield dataIds[i : i + chunk_size]\n",
    "\n",
    "\n",
    "def get_uris(dataIds_chunk, repo_path, desired_datasetTypes, desired_collections):\n",
    "    \"\"\"Fetch URIs for a list of dataIds.\"\"\"\n",
    "    chunk_uris = []\n",
    "    butler = dafButler.Butler(repo_path)\n",
    "    for dataId in dataIds_chunk:\n",
    "        try:\n",
    "            uri = butler.getURI(desired_datasetTypes[0], dataId=dataId, collections=desired_collections)\n",
    "            uri = uri.geturl()  # Convert to URL string\n",
    "            chunk_uris.append(uri)\n",
    "        except Exception as e:\n",
    "            print(f\"Failed to retrieve path for dataId {dataId}: {e}\")\n",
    "    return chunk_uris\n",
    "\n",
    "\n",
    "def getURIs(butler, dataIds, repo_path, desired_datasetTypes, desired_collections, overwrite=False):\n",
    "    \"\"\"\n",
    "    Get URIs from a Butler for a set of dataIDs.\n",
    "    Cache results to disk for future runs.\n",
    "    TODO: consider exporting as CSV so we can validate URIs against dataIds. 2/6/2024 COC\n",
    "    Updated 2/5/2024 COC\n",
    "    \"\"\"\n",
    "    paths = []\n",
    "\n",
    "    cache_file = f\"{basedir}/uri_cache.lst\"\n",
    "    cached_exists = False\n",
    "    if len(glob.glob(cache_file)) > 0:\n",
    "        cached_exists = True\n",
    "\n",
    "    if cached_exists == True and overwrite == False:\n",
    "        with open(cache_file, \"r\") as f:\n",
    "            for line in f:\n",
    "                paths.append(line.strip())\n",
    "        print(f\"Recycled {len(paths)} paths from {cache_file} as overwrite was {overwrite}.\")\n",
    "        return paths\n",
    "\n",
    "    # Prepare dataId chunks\n",
    "    dataId_chunks = list(chunked_dataIds(dataIds))\n",
    "\n",
    "    # Execute get_uris in parallel and preserve order\n",
    "    with ProcessPoolExecutor() as executor:\n",
    "        # Initialize progress bar\n",
    "        with progressbar.ProgressBar(max_value=len(dataId_chunks)) as bar:\n",
    "            # Use map to execute get_uris on each chunk and maintain order\n",
    "            result_chunks = list(\n",
    "                executor.map(\n",
    "                    get_uris,\n",
    "                    dataId_chunks,\n",
    "                    [repo_path] * len(dataId_chunks),\n",
    "                    [desired_datasetTypes] * len(dataId_chunks),\n",
    "                    [desired_collections] * len(dataId_chunks),\n",
    "                )\n",
    "            )\n",
    "\n",
    "            for i, chunk_uris in enumerate(result_chunks):\n",
    "                paths.extend(chunk_uris)  # Add the retrieved URIs to the main list\n",
    "                bar.update(i)\n",
    "\n",
    "    with open(cache_file, \"w\") as f:\n",
    "        for path in paths:\n",
    "            print(path, file=f)\n",
    "        print(f\"Wrote {len(paths)} paths to disk for caching purposes.\")\n",
    "\n",
    "    return paths"
   ]
  },
  {
   "cell_type": "code",
   "execution_count": 35,
   "id": "6dd2ea6a",
   "metadata": {},
   "outputs": [
    {
     "name": "stdout",
     "output_type": "stream",
     "text": [
      "Recycled 47383 paths from /astro/users/coc123/kbmod_tmp/uri_cache.lst as overwrite was False.\n",
      "CPU times: user 25.3 ms, sys: 14.2 ms, total: 39.5 ms\n",
      "Wall time: 108 ms\n"
     ]
    }
   ],
   "source": [
    "%%time\n",
    "\n",
    "# TIMING NOTE: This required 90s uncached 2/5/2024 COC\n",
    "\n",
    "df[\"uri\"] = getURIs(\n",
    "    butler=butler,\n",
    "    dataIds=df[\"data_id\"],\n",
    "    repo_path=repo_path,\n",
    "    desired_datasetTypes=desired_datasetTypes,\n",
    "    desired_collections=desired_collections,\n",
    "    overwrite=False,\n",
    ")"
   ]
  },
  {
   "cell_type": "code",
   "execution_count": 36,
   "id": "eae8d366",
   "metadata": {},
   "outputs": [
    {
     "data": {
      "text/plain": [
       "'file:///epyc/users/smotherh/DEEP/PointingGroups/butler-repo/PointingGroup021/imdiff_r/20210723T174135Z/deepDiff_differenceExp/20190927/VR/VR_DECam_c0007_6300.0_2600.0/898286/deepDiff_differenceExp_DECam_VR_VR_DECam_c0007_6300_0_2600_0_898286_S29_PointingGroup021_imdiff_r_20210723T174135Z.fits'"
      ]
     },
     "execution_count": 36,
     "metadata": {},
     "output_type": "execute_result"
    }
   ],
   "source": [
    "# example URI\n",
    "df[\"uri\"].iloc()[0]"
   ]
  },
  {
   "cell_type": "markdown",
   "id": "fb728cee",
   "metadata": {},
   "source": [
    "### Timestamp Handling\n",
    "Here we will access the timestamp (datetime) information from the Butler for our records."
   ]
  },
  {
   "cell_type": "code",
   "execution_count": 37,
   "id": "df7ff31f",
   "metadata": {},
   "outputs": [
    {
     "name": "stdout",
     "output_type": "stream",
     "text": [
      "0 DateTime(\"2019-09-27T00:20:59.932016000\", TAI) 120.0 (351.3806941054, -5.2403083277)\n",
      "CPU times: user 114 ms, sys: 13 ms, total: 127 ms\n",
      "Wall time: 157 ms\n"
     ]
    }
   ],
   "source": [
    "%%time\n",
    "# Now we want to get metadata like datetime, exposure time, etc.\n",
    "for i, dataId in enumerate(df[\"data_id\"]):\n",
    "    visitInfo = butler.get(\"calexp.visitInfo\", dataId=dataId, collections=desired_collections)\n",
    "    print(i, visitInfo.date, visitInfo.exposureTime, visitInfo.boresightRaDec)\n",
    "    break\n",
    "# We have the visitInfo object for the exploration below."
   ]
  },
  {
   "cell_type": "code",
   "execution_count": 38,
   "id": "3ccadfaa",
   "metadata": {},
   "outputs": [
    {
     "data": {
      "text/plain": [
       "lsst.daf.base.dateTime.dateTime.DateTime"
      ]
     },
     "execution_count": 38,
     "metadata": {},
     "output_type": "execute_result"
    }
   ],
   "source": [
    "# That visitInfo.date format may not look familiar. Let's find out why:\n",
    "type(visitInfo.date)"
   ]
  },
  {
   "cell_type": "code",
   "execution_count": 39,
   "id": "d73d8119",
   "metadata": {},
   "outputs": [
    {
     "data": {
      "text/plain": [
       "'2019-09-27T00:20:22.932'"
      ]
     },
     "execution_count": 39,
     "metadata": {},
     "output_type": "execute_result"
    }
   ],
   "source": [
    "# Let's convert to a plain string, UTC (handles 37 s offset).\n",
    "t = Time(str(visitInfo.date).split('\"')[1], format=\"isot\", scale=\"tai\")\n",
    "str(t.utc)"
   ]
  },
  {
   "cell_type": "code",
   "execution_count": 40,
   "id": "4cb53994",
   "metadata": {},
   "outputs": [],
   "source": [
    "# New parallel version with order-preservation redone 2/7/2024 COC\n",
    "\n",
    "\n",
    "# Define get_timestamps at the top level of your module\n",
    "def get_timestamps(dataIds_chunk, repo_path, desired_collections):\n",
    "    chunked_data = []\n",
    "    butler = dafButler.Butler(repo_path)\n",
    "    for dataId in dataIds_chunk:\n",
    "        try:\n",
    "            visitInfo = butler.get(\"calexp.visitInfo\", dataId=dataId, collections=desired_collections)\n",
    "            t = Time(str(visitInfo.date).split('\"')[1], format=\"isot\", scale=\"tai\")\n",
    "            tutc = str(t.utc)\n",
    "            chunked_data.append(tutc)\n",
    "        except Exception as e:\n",
    "            print(f\"Failed to retrieve timestamp for dataId {dataId}: {e}\")\n",
    "    return chunked_data\n",
    "\n",
    "\n",
    "def getTimestamps(dataIds, overwrite=False):\n",
    "    timestamps = []\n",
    "    cache_file = f\"{basedir}/vdr_timestamps.lst\"\n",
    "\n",
    "    if not overwrite and glob.glob(cache_file):\n",
    "        print(\"Overwrite is False, so we will read the timestamps from file now...\")\n",
    "        with open(cache_file, \"r\") as f:\n",
    "            timestamps = [line.strip() for line in f]\n",
    "        print(f\"Recycled {len(timestamps)} from {cache_file}.\")\n",
    "        return timestamps\n",
    "\n",
    "    def chunked_dataIds(dataIds, chunk_size=200):\n",
    "        for i in range(0, len(dataIds), chunk_size):\n",
    "            yield dataIds[i : i + chunk_size]\n",
    "\n",
    "    dataId_chunks = list(chunked_dataIds(dataIds))\n",
    "\n",
    "    with ProcessPoolExecutor() as executor:\n",
    "        # Adjust the executor.map call to pass additional arguments to get_timestamps\n",
    "        result_chunks = list(\n",
    "            executor.map(\n",
    "                get_timestamps,\n",
    "                dataId_chunks,\n",
    "                [repo_path] * len(dataId_chunks),\n",
    "                [desired_collections] * len(dataId_chunks),\n",
    "            )\n",
    "        )\n",
    "\n",
    "    timestamps = [timestamp for chunk in result_chunks for timestamp in chunk]\n",
    "\n",
    "    if overwrite or not glob.glob(cache_file):\n",
    "        with open(cache_file, \"w\") as f:\n",
    "            for ts in timestamps:\n",
    "                print(ts, file=f)\n",
    "        print(f\"Wrote {len(timestamps)} lines to {cache_file} for future use.\")\n",
    "\n",
    "    print(f\"Obtained {len(timestamps)} timestamps.\")\n",
    "    return timestamps"
   ]
  },
  {
   "cell_type": "code",
   "execution_count": 41,
   "id": "7e0d33c0",
   "metadata": {},
   "outputs": [
    {
     "name": "stdout",
     "output_type": "stream",
     "text": [
      "Overwrite is False, so we will read the timestamps from file now...\n",
      "Recycled 47383 from /astro/users/coc123/kbmod_tmp/vdr_timestamps.lst.\n",
      "CPU times: user 24.3 ms, sys: 8.18 ms, total: 32.5 ms\n",
      "Wall time: 30.5 ms\n"
     ]
    }
   ],
   "source": [
    "%%time\n",
    "\n",
    "# TIMING NOTE: this took < 5 minutes 2/5/2024 COC\n",
    "df[\"ut\"] = getTimestamps(dataIds=df[\"data_id\"], overwrite=False)"
   ]
  },
  {
   "cell_type": "code",
   "execution_count": 42,
   "id": "adddf1e4",
   "metadata": {},
   "outputs": [
    {
     "data": {
      "text/plain": [
       "0        2019-09-27T00:20:22.932\n",
       "1        2019-09-27T00:22:51.015\n",
       "2        2019-09-27T00:25:19.136\n",
       "3        2019-09-27T00:27:47.118\n",
       "4        2019-09-27T00:30:15.537\n",
       "                  ...           \n",
       "47378    2020-10-17T04:00:51.409\n",
       "47379    2020-10-17T04:03:19.873\n",
       "47380    2020-10-17T04:05:48.949\n",
       "47381    2020-10-17T04:08:17.445\n",
       "47382    2020-10-17T04:10:46.218\n",
       "Name: ut, Length: 47383, dtype: object"
      ]
     },
     "execution_count": 42,
     "metadata": {},
     "output_type": "execute_result"
    }
   ],
   "source": [
    "df[\"ut\"]"
   ]
  },
  {
   "cell_type": "code",
   "execution_count": 43,
   "id": "a789a331",
   "metadata": {},
   "outputs": [],
   "source": [
    "# This is for coming back to later to make sure the stamps line up\n",
    "# IGNORE FOR NOW 2/6/2024 COC\n",
    "# for i in range(0,len(vdr_ids),1000):\n",
    "#     dataId = vdr_ids[i]\n",
    "#     visitInfo = butler.get(\"calexp.visitInfo\", dataId=dataId, collections=desired_collections)\n",
    "#     t = Time(str(visitInfo.date).split('\"')[1], format=\"isot\", scale=\"tai\")\n",
    "#     tutc = str(t.utc)\n",
    "#     print(f\"{i!s:5}: {tutc} for {dataId}. Dict had: {id_to_date[dataId]}\")"
   ]
  },
  {
   "cell_type": "markdown",
   "id": "6f355bcf",
   "metadata": {},
   "source": [
    "### Working with the Regions\n",
    "\n",
    "We still don't know what will be ideal to do for Region Search.\\\n",
    "So, to start with, we will work on extract the (RA, Dec) of the (1) center coordinate of a chip, and (2) four corners associated with a chip."
   ]
  },
  {
   "cell_type": "markdown",
   "id": "f060a724",
   "metadata": {},
   "source": [
    "#### We will start with corners (i.e., quadilateral vertices from the convexPolygon sphgeom.regions)"
   ]
  },
  {
   "cell_type": "code",
   "execution_count": 44,
   "id": "e45d7199",
   "metadata": {},
   "outputs": [],
   "source": [
    "def getRegionCorners(region):\n",
    "    \"\"\"\n",
    "    Using the 2D boundingBox() from an input region (convexPolygon), we\n",
    "    extract the (RA, Dec) coordinates of each vertex.\n",
    "    As there are four vertices, the input object is a quadrilateral.\n",
    "    2/2/2024 COC\n",
    "    \"\"\"\n",
    "    corners = []\n",
    "    bbox = region.getBoundingBox()\n",
    "    corners.append((bbox.getLon().getA().asDegrees(), bbox.getLat().getA().asDegrees()))\n",
    "    corners.append((bbox.getLon().getA().asDegrees(), bbox.getLat().getB().asDegrees()))\n",
    "    corners.append((bbox.getLon().getB().asDegrees(), bbox.getLat().getA().asDegrees()))\n",
    "    corners.append((bbox.getLon().getB().asDegrees(), bbox.getLat().getB().asDegrees()))\n",
    "    return corners"
   ]
  },
  {
   "cell_type": "code",
   "execution_count": 45,
   "id": "9b278b50",
   "metadata": {},
   "outputs": [
    {
     "data": {
      "text/plain": [
       "[(352.30950511932116, -4.930880058593892),\n",
       " (352.30950511932116, -4.7450820235469715),\n",
       " (352.64644359666477, -4.930880058593892),\n",
       " (352.64644359666477, -4.7450820235469715)]"
      ]
     },
     "execution_count": 45,
     "metadata": {},
     "output_type": "execute_result"
    }
   ],
   "source": [
    "# Example\n",
    "corners = getRegionCorners(example_vdr_ref.region)\n",
    "corners"
   ]
  },
  {
   "cell_type": "code",
   "execution_count": 46,
   "id": "b37bfe47",
   "metadata": {},
   "outputs": [],
   "source": [
    "def getMinMaxRaDec(ra_dec_touples, verbose=False):\n",
    "    \"\"\"\n",
    "    Highly unoptimized way to find and return\n",
    "    (minRA, maxRA) and (minDec, MaxDec).\n",
    "    2/2/2024 COC\n",
    "    \"\"\"\n",
    "    min_ra = min([i[0] for i in ra_dec_touples])\n",
    "    min_dec = min([i[1] for i in ra_dec_touples])\n",
    "    max_ra = max([i[0] for i in ra_dec_touples])\n",
    "    max_dec = max([i[1] for i in ra_dec_touples])\n",
    "    if verbose:\n",
    "        print(f\"RA range: {min_ra} to {max_ra}\")\n",
    "        print(f\"Dec range: {min_dec} to {max_dec}\")\n",
    "    return (min_ra, max_ra), (min_dec, max_dec)"
   ]
  },
  {
   "cell_type": "code",
   "execution_count": 47,
   "id": "ef329736",
   "metadata": {},
   "outputs": [
    {
     "data": {
      "text/plain": [
       "((352.30950511932116, 352.64644359666477),\n",
       " (-4.930880058593892, -4.7450820235469715))"
      ]
     },
     "execution_count": 47,
     "metadata": {},
     "output_type": "execute_result"
    }
   ],
   "source": [
    "# Example\n",
    "getMinMaxRaDec(ra_dec_touples=corners)"
   ]
  },
  {
   "cell_type": "markdown",
   "id": "d95593bb",
   "metadata": {},
   "source": [
    "#### Centers\n",
    "\n",
    "It may be easer to just work with center (RA, Dec) coordinates.\\\n",
    "We can later store this in a DB (e.g., Postgres) for cone searches."
   ]
  },
  {
   "cell_type": "code",
   "execution_count": 48,
   "id": "4c89be9e",
   "metadata": {},
   "outputs": [],
   "source": [
    "def getCenterRaDec(region):\n",
    "    \"\"\"\n",
    "    We pull the 2D boundingBox (not the boundingBox3d) from a region.\n",
    "    Then we extract the center's (RA, Dec) coordinates.\n",
    "    2/2/2024 COC\n",
    "    \"\"\"\n",
    "    bbox_center = region.getBoundingBox().getCenter()\n",
    "    ra = bbox_center.getLon().asDegrees()\n",
    "    dec = bbox_center.getLat().asDegrees()\n",
    "    return (ra, dec)"
   ]
  },
  {
   "cell_type": "code",
   "execution_count": 49,
   "id": "8e1e764c",
   "metadata": {},
   "outputs": [
    {
     "data": {
      "text/plain": [
       "(352.477974357993, -4.837981041070432)"
      ]
     },
     "execution_count": 49,
     "metadata": {},
     "output_type": "execute_result"
    }
   ],
   "source": [
    "getCenterRaDec(example_vdr_ref.region)"
   ]
  },
  {
   "cell_type": "code",
   "execution_count": 50,
   "id": "8e54db29",
   "metadata": {},
   "outputs": [
    {
     "name": "stdout",
     "output_type": "stream",
     "text": [
      "CPU times: user 499 ms, sys: 14.5 ms, total: 513 ms\n",
      "Wall time: 513 ms\n"
     ]
    }
   ],
   "source": [
    "%%time\n",
    "df[\"center_coord\"] = [getCenterRaDec(i) for i in df[\"region\"]]"
   ]
  },
  {
   "cell_type": "code",
   "execution_count": 51,
   "id": "64908868",
   "metadata": {},
   "outputs": [
    {
     "data": {
      "text/plain": [
       "47383"
      ]
     },
     "execution_count": 51,
     "metadata": {},
     "output_type": "execute_result"
    }
   ],
   "source": [
    "len(df[\"center_coord\"])"
   ]
  },
  {
   "cell_type": "code",
   "execution_count": 52,
   "id": "625de417",
   "metadata": {},
   "outputs": [
    {
     "data": {
      "text/plain": [
       "(351.0694028401149, -4.336598368890197)"
      ]
     },
     "execution_count": 52,
     "metadata": {},
     "output_type": "execute_result"
    }
   ],
   "source": [
    "df[\"center_coord\"].iloc()[0]"
   ]
  },
  {
   "cell_type": "code",
   "execution_count": 53,
   "id": "67b57215",
   "metadata": {},
   "outputs": [
    {
     "name": "stdout",
     "output_type": "stream",
     "text": [
      "CPU times: user 1.48 s, sys: 11.3 ms, total: 1.49 s\n",
      "Wall time: 1.49 s\n"
     ]
    },
    {
     "data": {
      "text/plain": [
       "<matplotlib.collections.PathCollection at 0x7f071dd74520>"
      ]
     },
     "execution_count": 53,
     "metadata": {},
     "output_type": "execute_result"
    },
    {
     "data": {
      "image/png": "[encoded data removed]",
      "text/plain": [
       "<Figure size 400x400 with 1 Axes>"
      ]
     },
     "metadata": {},
     "output_type": "display_data"
    }
   ],
   "source": [
    "%%time\n",
    "# Let us visualize where on the sky our chip centers reside\n",
    "fig = plt.figure(figsize=(4, 4))\n",
    "plt.xlabel(\"RA\")\n",
    "plt.ylabel(\"Dec\")\n",
    "plt.scatter(\n",
    "    [i[0] for i in df[\"center_coord\"].iloc()], [i[1] for i in df[\"center_coord\"].iloc()], s=1, alpha=0.5\n",
    ")"
   ]
  },
  {
   "cell_type": "markdown",
   "id": "41d4fd38",
   "metadata": {},
   "source": [
    "The DECam mosaic shape is clearly visible, thrice.\\\n",
    "There is an offset from each of the three pointings, too.\n",
    "\n",
    "In the most simple approach, each of these \"dots\" represents a set of images that can be fed to KBMOD."
   ]
  },
  {
   "cell_type": "code",
   "execution_count": 54,
   "id": "c2dc4e1a",
   "metadata": {},
   "outputs": [
    {
     "data": {
      "text/plain": [
       "{instrument: 'DECam', detector: 1, visit: 898286}"
      ]
     },
     "execution_count": 54,
     "metadata": {},
     "output_type": "execute_result"
    }
   ],
   "source": [
    "# look at the first dataId, which does not show up in a pretty way in the DF\n",
    "df[\"data_id\"].iloc[0]"
   ]
  },
  {
   "cell_type": "code",
   "execution_count": 55,
   "id": "580ac4ed",
   "metadata": {},
   "outputs": [
    {
     "data": {
      "text/plain": [
       "<matplotlib.collections.PathCollection at 0x7f071f80efd0>"
      ]
     },
     "execution_count": 55,
     "metadata": {},
     "output_type": "execute_result"
    },
    {
     "data": {
      "image/png": "[encoded data removed]",
      "text/plain": [
       "<Figure size 640x480 with 1 Axes>"
      ]
     },
     "metadata": {},
     "output_type": "display_data"
    }
   ],
   "source": [
    "# Let us look at just detector 62 pointings.\n",
    "# This will give us a decent idea of how many pointings there are (here, 8).\n",
    "\n",
    "df62 = df[df[\"detector\"] == 62]\n",
    "plt.clf()\n",
    "plt.scatter(*zip(*df62[\"center_coord\"]), s=1, alpha=0.5)"
   ]
  },
  {
   "cell_type": "code",
   "execution_count": 56,
   "id": "6ee544b8",
   "metadata": {},
   "outputs": [],
   "source": [
    "# chip62_coord0 = df62['center_coord'][0]"
   ]
  },
  {
   "cell_type": "markdown",
   "id": "df7d441d",
   "metadata": {},
   "source": [
    "### Region Matching\n",
    "Here region matching means comparing two lsst.sphgeom.region objects.\\\n",
    "Purpose: to see if they have any overlap whatsoever. \\\n",
    "NOTE: a partial or full overlap is called an \"intersection\" in sphgeom lingo.\n",
    "\n",
    "NOTE: Work in progress, but pausing this avenue for now. 2/2/2024 COC"
   ]
  },
  {
   "cell_type": "code",
   "execution_count": 57,
   "id": "2c770982",
   "metadata": {},
   "outputs": [],
   "source": [
    "# manual region-region matching between all chips\n",
    "# NOTE: estimate time is 1 hour, so skipping this for now\n",
    "\n",
    "doit = False\n",
    "if doit == True:\n",
    "    lastTime = time.time()\n",
    "\n",
    "    matches = {}\n",
    "\n",
    "    with progressbar.ProgressBar(max_value=len(vdr_regions)) as bar:\n",
    "        for i, l in enumerate(vdr_regions):\n",
    "            my_id = vdr_ids[i]\n",
    "            matches[my_id] = []\n",
    "            for j, r in enumerate(vdr_regions):\n",
    "                if i == j:\n",
    "                    continue\n",
    "                if l.intersects(r):\n",
    "                    matches[my_id].append(vdr_ids[j])\n",
    "            bar.update(i)\n",
    "    elapsed = round(time.time() - lastTime, 1)\n",
    "    print(f\"It took {elapsed} seconds.\")"
   ]
  },
  {
   "cell_type": "markdown",
   "id": "ba8db514",
   "metadata": {},
   "source": [
    "To be continued..."
   ]
  },
  {
   "cell_type": "markdown",
   "id": "f00d9b2f",
   "metadata": {},
   "source": [
    "### HTM Exploration"
   ]
  },
  {
   "cell_type": "code",
   "execution_count": 58,
   "id": "2fcdd8b3",
   "metadata": {},
   "outputs": [],
   "source": [
    "# Colin playing 1/15/2024 COC\n",
    "def getHTMstuff(ra, dec, level=7, verbose=False):\n",
    "    \"\"\"\n",
    "    1/16/2024 COC inception.\n",
    "    A function that\n",
    "        1. Fetches an HTM ID for a pixelization of a user-supplied level.\n",
    "        2. Determines the angular size (radius, in arcseconds) of the pixelization level.\n",
    "    LSST stores the unique HTM ID for level 7 pixelization in the Butler, hence the default level=7.\n",
    "    \"\"\"\n",
    "    pixelization = lsst.sphgeom.HtmPixelization(level)\n",
    "\n",
    "    try:  # kludges; use the Butler way, but if being passed normal numbers, use those\n",
    "        ra = ra.asDegrees()\n",
    "    except AttributeError as msg:\n",
    "        pass\n",
    "    try:\n",
    "        dec = dec.asDegrees()\n",
    "    except AttributeError as msg:\n",
    "        pass\n",
    "\n",
    "    htm_id = pixelization.index(\n",
    "        lsst.sphgeom.UnitVector3d(\n",
    "            # sphgeom.LonLat.fromDegrees(ra.asDegrees(), dec.asDegrees())\n",
    "            lsst.sphgeom.LonLat.fromDegrees(ra, dec)\n",
    "        )\n",
    "    )\n",
    "    circle = pixelization.triangle(htm_id).getBoundingCircle()\n",
    "    scale = circle.getOpeningAngle().asDegrees() * 3600.0\n",
    "    level = pixelization.getLevel()\n",
    "    if verbose:\n",
    "        print(f\"HTM ID={htm_id} at level={level} is bounded by a circle of radius ~{scale:0.2f} arcsec.\")\n",
    "    return (htm_id, scale)"
   ]
  },
  {
   "cell_type": "code",
   "execution_count": 59,
   "id": "c0916372",
   "metadata": {},
   "outputs": [
    {
     "name": "stdout",
     "output_type": "stream",
     "text": [
      "HTM ID=189361 at level=7 is bounded by a circle of radius ~1895.11 arcsec.\n"
     ]
    },
    {
     "data": {
      "text/plain": [
       "(189361, 1895.111766130883)"
      ]
     },
     "execution_count": 59,
     "metadata": {},
     "output_type": "execute_result"
    }
   ],
   "source": [
    "getHTMstuff(df[\"center_coord\"].iloc()[0][0], df[\"center_coord\"].iloc()[0][1], verbose=True)"
   ]
  },
  {
   "cell_type": "code",
   "execution_count": 60,
   "id": "47c447c5",
   "metadata": {},
   "outputs": [
    {
     "name": "stdout",
     "output_type": "stream",
     "text": [
      "0\n"
     ]
    }
   ],
   "source": [
    "dsRefs = butler.registry.queryDatasets(\n",
    "    datasetType=desired_datasetTypes[0], htm7=147116, collections=desired_collections\n",
    ")\n",
    "print(len(sorted(dsRefs)))"
   ]
  },
  {
   "cell_type": "markdown",
   "id": "d59bcdde",
   "metadata": {},
   "source": [
    "To be continued..."
   ]
  },
  {
   "cell_type": "markdown",
   "id": "10339ac6",
   "metadata": {},
   "source": [
    "### Brute force approach for (small) discrete datasets\n",
    "\n",
    "The idea here is that we can organize discrete piles of images, such as DEEP, DDF."
   ]
  },
  {
   "cell_type": "code",
   "execution_count": 61,
   "id": "048e38e1",
   "metadata": {},
   "outputs": [],
   "source": [
    "def find_overlapping_coords(df, uncertainty_radius, overwrite=False):\n",
    "    \"\"\"\n",
    "\n",
    "    Added caching 2/5/2024 COC\n",
    "    \"\"\"\n",
    "    cache_file = f\"{basedir}/overlapping_sets.pickle\"\n",
    "\n",
    "    cache_exists = False\n",
    "    if len(glob.glob(cache_file)) > 0:\n",
    "        cache_exists = True\n",
    "\n",
    "    if overwrite == False and cache_exists == True:\n",
    "        with open(cache_file, \"rb\") as f:\n",
    "            print(f\"Recycling {cache_file} as overwrite={overwrite}.\")\n",
    "            overlapping_sets = pickle.load(f)\n",
    "            return overlapping_sets\n",
    "\n",
    "    df_copy = df.copy()\n",
    "\n",
    "    # Assuming uncertainty_radius is provided as a float in arcseconds\n",
    "    uncertainty_radius_as = uncertainty_radius * u.arcsec\n",
    "\n",
    "    all_coords = SkyCoord(\n",
    "        ra=[x[0] for x in df_copy[\"center_coord\"]] * u.degree,\n",
    "        dec=[x[1] for x in df_copy[\"center_coord\"]] * u.degree,\n",
    "    )\n",
    "\n",
    "    overlapping_sets = {}\n",
    "    set_counter = 1\n",
    "    processed_data_ids = []\n",
    "\n",
    "    periodic_update_counter = 0\n",
    "    with progressbar.ProgressBar(max_value=len(all_coords)) as bar:\n",
    "        for index, coord in enumerate(all_coords):\n",
    "            data_id = df_copy.iloc[index][\"data_id\"]\n",
    "            if data_id not in processed_data_ids:\n",
    "                distances = (\n",
    "                    coord.separation(all_coords).to(u.arcsec).value\n",
    "                )  # Convert distances to arcseconds as numeric values\n",
    "\n",
    "                # Perform comparison as numeric values, bypassing direct unit comparison\n",
    "                within_radius = (distances <= uncertainty_radius_as.value) & (distances > 0)\n",
    "\n",
    "                if any(within_radius):\n",
    "                    overlapping_indices = [\n",
    "                        i\n",
    "                        for i, distance in enumerate(distances)\n",
    "                        if (distance <= uncertainty_radius_as.value) and i != index\n",
    "                    ]\n",
    "                    overlapping_data_ids = df_copy.iloc[overlapping_indices][\"data_id\"].tolist()\n",
    "                    overlapping_data_ids.append(data_id)\n",
    "\n",
    "                    processed_data_ids.extend(overlapping_data_ids)\n",
    "\n",
    "                    overlapping_sets[f\"set_{set_counter}\"] = overlapping_data_ids\n",
    "                    set_counter += 1\n",
    "            #\n",
    "            # mitigate too much output 2/5/2024 COC\n",
    "            periodic_update_counter += 1\n",
    "            if periodic_update_counter >= 250:\n",
    "                periodic_update_counter = 0\n",
    "                bar.update(index)\n",
    "\n",
    "    with open(cache_file, \"wb\") as f:\n",
    "        pickle.dump(overlapping_sets, f, protocol=pickle.HIGHEST_PROTOCOL)\n",
    "        print(f\"Saved overlapping_sets to {cache_file} for caching purposes.\")\n",
    "\n",
    "    return overlapping_sets"
   ]
  },
  {
   "cell_type": "code",
   "execution_count": 62,
   "id": "25710a99",
   "metadata": {},
   "outputs": [
    {
     "name": "stdout",
     "output_type": "stream",
     "text": [
      "Recycling /astro/users/coc123/kbmod_tmp/overlapping_sets.pickle as overwrite=False.\n",
      "CPU times: user 402 ms, sys: 46.6 ms, total: 449 ms\n",
      "Wall time: 446 ms\n"
     ]
    }
   ],
   "source": [
    "%%time\n",
    "\n",
    "# TIMING NOTE: this takes about 1.25 hours [TODO update that number]\n",
    "# TODO test caching\n",
    "\n",
    "overlapping_sets = find_overlapping_coords(df=df, uncertainty_radius=30, overwrite=False)"
   ]
  },
  {
   "cell_type": "code",
   "execution_count": 63,
   "id": "5f2d5a03",
   "metadata": {},
   "outputs": [
    {
     "name": "stdout",
     "output_type": "stream",
     "text": [
      "There are 488 discrete chip-level pointings.\n"
     ]
    }
   ],
   "source": [
    "print(f\"There are {len(overlapping_sets.keys())} discrete chip-level pointings.\")  # should be 488"
   ]
  },
  {
   "cell_type": "markdown",
   "id": "4e362e41",
   "metadata": {},
   "source": [
    "#### Exploring the overlapping_sets"
   ]
  },
  {
   "cell_type": "code",
   "execution_count": 64,
   "id": "9ed24e28",
   "metadata": {},
   "outputs": [
    {
     "name": "stdout",
     "output_type": "stream",
     "text": [
      "CPU times: user 367 ms, sys: 17.3 ms, total: 385 ms\n",
      "Wall time: 383 ms\n"
     ]
    },
    {
     "data": {
      "text/plain": [
       "<matplotlib.collections.PathCollection at 0x7f071dc328b0>"
      ]
     },
     "execution_count": 64,
     "metadata": {},
     "output_type": "execute_result"
    },
    {
     "data": {
      "image/png": "[encoded data removed]",
      "text/plain": [
       "<Figure size 640x480 with 1 Axes>"
      ]
     },
     "metadata": {},
     "output_type": "display_data"
    }
   ],
   "source": [
    "%%time\n",
    "\n",
    "# Looking at the processed data.\n",
    "\n",
    "# Create a lookup table for data_id to center_coord\n",
    "id_to_coord = df.set_index(\"data_id\")[\"center_coord\"].to_dict()\n",
    "\n",
    "# Preparing for bulk plotting (if every point uses the same label, adjust as needed)\n",
    "coords = [id_to_coord[overlapping_sets[p][0]] for p in overlapping_sets]\n",
    "x_coords, y_coords = zip(*coords)  # Assuming coords are tuples or lists\n",
    "\n",
    "# Plotting in bulk\n",
    "plt.scatter(x_coords, y_coords, s=1)"
   ]
  },
  {
   "cell_type": "code",
   "execution_count": 65,
   "id": "55ffd374",
   "metadata": {},
   "outputs": [
    {
     "data": {
      "text/plain": [
       "'2019-09-27T00:20:22.932'"
      ]
     },
     "execution_count": 65,
     "metadata": {},
     "output_type": "execute_result"
    }
   ],
   "source": [
    "df[\"ut\"].iloc()[0]"
   ]
  },
  {
   "cell_type": "code",
   "execution_count": 66,
   "id": "fcd39c41",
   "metadata": {},
   "outputs": [
    {
     "name": "stderr",
     "output_type": "stream",
     "text": [
      "<timed exec>:14: MatplotlibDeprecationWarning: The get_cmap function was deprecated in Matplotlib 3.7 and will be removed two minor releases later. Use ``matplotlib.colormaps[name]`` or ``matplotlib.colormaps.get_cmap(obj)`` instead.\n"
     ]
    },
    {
     "name": "stdout",
     "output_type": "stream",
     "text": [
      "CPU times: user 9.55 s, sys: 815 ms, total: 10.4 s\n",
      "Wall time: 9.86 s\n"
     ]
    },
    {
     "data": {
      "image/png": "[encoded data removed]",
      "text/plain": [
       "<Figure size 640x480 with 1 Axes>"
      ]
     },
     "metadata": {},
     "output_type": "display_data"
    }
   ],
   "source": [
    "%%time\n",
    "\n",
    "# TIMING NOTE: this requires about 7 seconds\n",
    "\n",
    "# Convert \"ut\" column to datetime\n",
    "df[\"ut_datetime\"] = pd.to_datetime(df[\"ut\"])\n",
    "\n",
    "# Create lookup tables for data_id to center_coord and ut_datetime\n",
    "id_to_coord = df.set_index(\"data_id\")[\"center_coord\"].to_dict()\n",
    "id_to_date = df.set_index(\"data_id\")[\"ut_datetime\"].dt.date.to_dict()\n",
    "\n",
    "# Extract unique dates and create a color map\n",
    "unique_dates = sorted(set(id_to_date.values()))\n",
    "date_to_color = {date: i for i, date in enumerate(unique_dates)}\n",
    "norm = Normalize(vmin=0, vmax=len(unique_dates) - 1)\n",
    "cmap = get_cmap(\"tab20\", len(unique_dates))  # Choose a colormap that fits the data\n",
    "\n",
    "# Preparing data for plotting\n",
    "coords = [id_to_coord[overlapping_sets[p][0]] for p in overlapping_sets]\n",
    "dates = [id_to_date[overlapping_sets[p][0]] for p in overlapping_sets]\n",
    "colors = [cmap(norm(date_to_color[date])) for date in dates]\n",
    "\n",
    "# Plotting\n",
    "lcount = 0\n",
    "for (x, y), color, date in zip(coords, colors, dates):\n",
    "    lcount += 1\n",
    "    plt.scatter(x, y, color=color, label=date.strftime(\"%Y-%m-%d\"), alpha=0.75, s=2)\n",
    "\n",
    "# To avoid duplicate labels in the legend, handle legend entries manually\n",
    "handles, labels = plt.gca().get_legend_handles_labels()\n",
    "by_label = dict(zip(labels, handles))  # Removing duplicates\n",
    "plt.legend(by_label.values(), by_label.keys())\n",
    "plt.savefig(f\"{basedir}/pointings.pdf\")\n",
    "# plt.show()"
   ]
  },
  {
   "cell_type": "code",
   "execution_count": 67,
   "id": "418c97ee",
   "metadata": {},
   "outputs": [
    {
     "data": {
      "text/plain": [
       "Index(['data_id', 'region', 'detector', 'uri', 'ut', 'center_coord',\n",
       "       'ut_datetime'],\n",
       "      dtype='object')"
      ]
     },
     "execution_count": 67,
     "metadata": {},
     "output_type": "execute_result"
    }
   ],
   "source": [
    "df.columns"
   ]
  },
  {
   "cell_type": "code",
   "execution_count": 68,
   "id": "d06ed515",
   "metadata": {},
   "outputs": [
    {
     "data": {
      "text/plain": [
       "[datetime.date(2019, 8, 28),\n",
       " datetime.date(2019, 8, 29),\n",
       " datetime.date(2019, 8, 30),\n",
       " datetime.date(2019, 9, 27),\n",
       " datetime.date(2019, 9, 28),\n",
       " datetime.date(2019, 9, 29),\n",
       " datetime.date(2020, 10, 17),\n",
       " datetime.date(2020, 10, 19)]"
      ]
     },
     "execution_count": 68,
     "metadata": {},
     "output_type": "execute_result"
    }
   ],
   "source": [
    "# Here are the unique dates found in the discrete dataset\n",
    "unique_dates = sorted(set(id_to_date.values()))\n",
    "unique_dates"
   ]
  },
  {
   "cell_type": "markdown",
   "id": "3dc0bb58",
   "metadata": {},
   "source": [
    "##### Double-checking a single date"
   ]
  },
  {
   "cell_type": "code",
   "execution_count": 69,
   "id": "58158f47",
   "metadata": {},
   "outputs": [
    {
     "data": {
      "text/plain": [
       "data_id                             (instrument, detector, visit)\n",
       "region          ConvexPolygon([UnitVector3d(0.9847372525065534...\n",
       "detector                                                        1\n",
       "uri             file:///epyc/users/smotherh/DEEP/PointingGroup...\n",
       "ut                                        2019-09-27T00:20:22.932\n",
       "center_coord              (351.0694028401149, -4.336598368890197)\n",
       "ut_datetime                            2019-09-27 00:20:22.932000\n",
       "Name: 0, dtype: object"
      ]
     },
     "execution_count": 69,
     "metadata": {},
     "output_type": "execute_result"
    }
   ],
   "source": [
    "df.iloc()[0]"
   ]
  },
  {
   "cell_type": "code",
   "execution_count": 70,
   "id": "2ff625e7",
   "metadata": {},
   "outputs": [
    {
     "data": {
      "text/plain": [
       "datetime.date(2019, 9, 27)"
      ]
     },
     "execution_count": 70,
     "metadata": {},
     "output_type": "execute_result"
    }
   ],
   "source": [
    "id_to_date[df[\"data_id\"].iloc()[0]]"
   ]
  },
  {
   "cell_type": "code",
   "execution_count": 71,
   "id": "c3b48b13",
   "metadata": {},
   "outputs": [
    {
     "data": {
      "text/plain": [
       "(351.0694028401149, -4.336598368890197)"
      ]
     },
     "execution_count": 71,
     "metadata": {},
     "output_type": "execute_result"
    }
   ],
   "source": [
    "id_to_coord[df[\"data_id\"].iloc()[0]]"
   ]
  },
  {
   "cell_type": "code",
   "execution_count": 72,
   "id": "16506478",
   "metadata": {},
   "outputs": [
    {
     "data": {
      "text/plain": [
       "6267"
      ]
     },
     "execution_count": 72,
     "metadata": {},
     "output_type": "execute_result"
    }
   ],
   "source": [
    "# We will make a dataframe with just the date we are checking\n",
    "df20190828 = df[df[\"ut_datetime\"].dt.date == parser.parse(\"2019-08-28\").date()]\n",
    "len(df20190828)"
   ]
  },
  {
   "cell_type": "code",
   "execution_count": 73,
   "id": "166c9137",
   "metadata": {},
   "outputs": [
    {
     "name": "stdout",
     "output_type": "stream",
     "text": [
      "CPU times: user 931 ms, sys: 22.3 ms, total: 953 ms\n",
      "Wall time: 952 ms\n"
     ]
    },
    {
     "data": {
      "image/png": "[encoded data removed]",
      "text/plain": [
       "<Figure size 640x480 with 1 Axes>"
      ]
     },
     "metadata": {},
     "output_type": "display_data"
    },
    {
     "data": {
      "image/png": "[encoded data removed]",
      "text/plain": [
       "<Figure size 640x480 with 1 Axes>"
      ]
     },
     "metadata": {},
     "output_type": "display_data"
    },
    {
     "data": {
      "image/png": "[encoded data removed]",
      "text/plain": [
       "<Figure size 640x480 with 1 Axes>"
      ]
     },
     "metadata": {},
     "output_type": "display_data"
    },
    {
     "data": {
      "image/png": "[encoded data removed]",
      "text/plain": [
       "<Figure size 640x480 with 1 Axes>"
      ]
     },
     "metadata": {},
     "output_type": "display_data"
    },
    {
     "data": {
      "image/png": "[encoded data removed]",
      "text/plain": [
       "<Figure size 640x480 with 1 Axes>"
      ]
     },
     "metadata": {},
     "output_type": "display_data"
    },
    {
     "data": {
      "image/png": "[encoded data removed]",
      "text/plain": [
       "<Figure size 640x480 with 1 Axes>"
      ]
     },
     "metadata": {},
     "output_type": "display_data"
    },
    {
     "data": {
      "image/png": "[encoded data removed]",
      "text/plain": [
       "<Figure size 640x480 with 1 Axes>"
      ]
     },
     "metadata": {},
     "output_type": "display_data"
    },
    {
     "data": {
      "image/png": "[encoded data removed]",
      "text/plain": [
       "<Figure size 640x480 with 1 Axes>"
      ]
     },
     "metadata": {},
     "output_type": "display_data"
    }
   ],
   "source": [
    "%%time\n",
    "# Visualize all of the unique dates, one at a time.\n",
    "for dt in unique_dates:\n",
    "    fig = plt.figure()\n",
    "    tmpdf = df[df[\"ut_datetime\"].dt.date == parser.parse(\"2019-08-28\").date()]\n",
    "    plt.scatter(*zip(*tmpdf[\"center_coord\"]), s=1, alpha=0.5)\n",
    "    plt.title(f\"{dt}\")\n",
    "del tmpdf"
   ]
  },
  {
   "cell_type": "markdown",
   "id": "a2e81bd6",
   "metadata": {},
   "source": [
    "### (RA, Dec) searching of image sets"
   ]
  },
  {
   "cell_type": "code",
   "execution_count": 74,
   "id": "f3417ffd",
   "metadata": {},
   "outputs": [
    {
     "name": "stdout",
     "output_type": "stream",
     "text": [
      "\"set_1\" is the first set name in overlapping_sets.\n",
      "Its first record dataId: {instrument: 'DECam', detector: 1, visit: 898287}.\n",
      "It has an (RA, Dec) coordinate of (351.0695696334572, -4.336293374423113).\n"
     ]
    }
   ],
   "source": [
    "# Fetch an (RA, Dec) pair from an image set.\n",
    "first_set_name = list(overlapping_sets.keys())[0]\n",
    "first_sets_data_id = overlapping_sets[first_set_name][0]\n",
    "searching_ra_dec = df.set_index(\"data_id\")[\"center_coord\"].to_dict()[first_sets_data_id]\n",
    "\n",
    "print(f'\"{first_set_name}\" is the first set name in overlapping_sets.')\n",
    "print(f\"Its first record dataId: {first_sets_data_id}.\")\n",
    "print(f\"It has an (RA, Dec) coordinate of {searching_ra_dec}.\")"
   ]
  },
  {
   "cell_type": "code",
   "execution_count": 75,
   "id": "bfb23aef",
   "metadata": {},
   "outputs": [],
   "source": [
    "def ra_dec_search_overlapping_sets(df, overlapping_sets, ra_dec, search_radius, verbose=False):\n",
    "    \"\"\"\n",
    "    2/6/2024 COC\n",
    "    Implementing an extremely basic (RA, Dec) query functionality.\n",
    "    This will work within the overlapping_sets framework.\n",
    "    \"\"\"\n",
    "    ra_dec_coord = SkyCoord(ra=ra_dec[0] * u.degree, dec=ra_dec[1] * u.degree)\n",
    "\n",
    "    all_centers = []\n",
    "    all_labels = []\n",
    "\n",
    "    id_to_coord = df.set_index(\"data_id\")[\"center_coord\"].to_dict()\n",
    "\n",
    "    for i, set_name in enumerate(list(overlapping_sets.keys())):\n",
    "        all_labels.append(set_name)\n",
    "        center_data_id = overlapping_sets[set_name][0]\n",
    "        # print(f\"See set_name is {set_name} and center_data_id is {center_data_id}.\", flush=True)\n",
    "        center_coord = id_to_coord[center_data_id]\n",
    "        all_centers.append(center_coord)\n",
    "\n",
    "    all_centers = SkyCoord(\n",
    "        ra=[x[0] for x in all_centers] * u.degree,\n",
    "        dec=[x[1] for x in all_centers] * u.degree,\n",
    "    )\n",
    "\n",
    "    distances = ra_dec_coord.separation(\n",
    "        all_centers\n",
    "    )  # .to(u.arcsec).value  # Convert distances to arcseconds as numeric values\n",
    "    within_radius = (distances <= search_radius) & (\n",
    "        distances >= 0\n",
    "    )  # ≥ (not >) because we could supply the an exact match\n",
    "\n",
    "    results = []\n",
    "    for i, item in enumerate(within_radius):\n",
    "        if item == True:\n",
    "            results.append(all_labels[i])\n",
    "    if verbose:\n",
    "        print(f\"We found {len(results)} sets that are within {search_radius} of {ra_dec}.\")\n",
    "    return results"
   ]
  },
  {
   "cell_type": "code",
   "execution_count": 76,
   "id": "0b98b0e4",
   "metadata": {},
   "outputs": [
    {
     "name": "stdout",
     "output_type": "stream",
     "text": [
      "We found 4 sets that are within 14.0 arcmin of (351.0695696334572, -4.336293374423113).\n"
     ]
    },
    {
     "data": {
      "text/plain": [
       "['set_1', 'set_3', 'set_4', 'set_68']"
      ]
     },
     "execution_count": 76,
     "metadata": {},
     "output_type": "execute_result"
    }
   ],
   "source": [
    "# Find matching image sets.\n",
    "# With 1*u.arcminute we would only find set_1 (where we got searching_ra_dec).\n",
    "# With 15*u.arcminute, we find 3 others (for a total of 4).\n",
    "search_radius = 14 * u.arcminute\n",
    "ra_dec_search_results = ra_dec_search_overlapping_sets(\n",
    "    df=df,\n",
    "    overlapping_sets=overlapping_sets,\n",
    "    ra_dec=searching_ra_dec,\n",
    "    search_radius=search_radius,\n",
    "    verbose=True,\n",
    ")\n",
    "ra_dec_search_results"
   ]
  },
  {
   "cell_type": "code",
   "execution_count": 77,
   "id": "447b9b70",
   "metadata": {},
   "outputs": [
    {
     "name": "stdout",
     "output_type": "stream",
     "text": [
      "[[(350.9194972863569, -4.410893881734765), (350.9194972863569, -4.261692867111463), (351.2196419805575, -4.410893881734765), (351.2196419805575, -4.261692867111463)], [(350.7636367448476, -4.57504777569875), (350.7636367448476, -4.425558984666654), (351.06385253666514, -4.57504777569875), (351.06385253666514, -4.425558984666654)], [(351.07489718950103, -4.574714132229647), (351.07489718950103, -4.425184883190398), (351.3752749096747, -4.574714132229647), (351.3752749096747, -4.425184883190398)], [(351.1044786505892, -4.535445547532834), (351.1044786505892, -4.385657669534001), (351.40443040247294, -4.535445547532834), (351.40443040247294, -4.385657669534001)]]\n"
     ]
    },
    {
     "data": {
      "image/png": "[encoded data removed]",
      "text/plain": [
       "<Figure size 640x480 with 1 Axes>"
      ]
     },
     "metadata": {},
     "output_type": "display_data"
    }
   ],
   "source": [
    "matching_regions = []\n",
    "id_to_region = df.set_index(\"data_id\")[\"region\"].to_dict()\n",
    "\n",
    "for set_name in ra_dec_search_results:\n",
    "    matching_regions.append(id_to_region[overlapping_sets[set_name][0]])\n",
    "\n",
    "all_corners = [getRegionCorners(region) for region in matching_regions]\n",
    "print(all_corners)\n",
    "\n",
    "for i, quad in enumerate(all_corners):\n",
    "    ra_bounds, dec_bounds = getMinMaxRaDec(quad)\n",
    "    #\n",
    "    coords = []\n",
    "    coords.append((ra_bounds[0], dec_bounds[0]))\n",
    "    coords.append((ra_bounds[0], dec_bounds[1]))\n",
    "    coords.append((ra_bounds[1], dec_bounds[1]))\n",
    "    coords.append((ra_bounds[1], dec_bounds[0]))\n",
    "    coords.append((ra_bounds[0], dec_bounds[0]))  # close the \"shape\"\n",
    "    #\n",
    "    plt.plot([x[0] for x in coords], [x[1] for x in coords], label=ra_dec_search_results[i])\n",
    "\n",
    "plt.scatter(\n",
    "    searching_ra_dec[0],\n",
    "    searching_ra_dec[1],\n",
    "    s=25,\n",
    "    marker=\"+\",\n",
    "    alpha=0.75,\n",
    "    label=f\"search center\",\n",
    "    color=\"red\",\n",
    ")\n",
    "circle = plt.Circle(\n",
    "    (searching_ra_dec[0], searching_ra_dec[1]),\n",
    "    search_radius.to(u.degree).value,\n",
    "    color=\"black\",\n",
    "    alpha=0.75,\n",
    "    fill=False,\n",
    "    label=\"search area\",\n",
    "    linestyle=\"--\",\n",
    ")\n",
    "plt.legend()\n",
    "plt.xlabel(f\"RA\")\n",
    "plt.ylabel(\"Dec\")\n",
    "ax = plt.gca()\n",
    "ax.add_patch(circle)\n",
    "ax.set_aspect(\"equal\", adjustable=\"box\")"
   ]
  },
  {
   "cell_type": "markdown",
   "id": "18ccf409",
   "metadata": {},
   "source": [
    "### (RA, Dec) searching of our DataFrame (more general case)\n",
    "It is far faster to search overlapping_sets as there are few of these to inspect.\n",
    "A more general case, however, would be to simply find all images within a radius of a sky coordinate."
   ]
  },
  {
   "cell_type": "code",
   "execution_count": 78,
   "id": "b636fef0",
   "metadata": {},
   "outputs": [],
   "source": [
    "def ra_dec_search_df(df, ra_dec, search_radius, verbose=False):\n",
    "    \"\"\"\n",
    "    2/6/2024 COC\n",
    "    Implementing a basic (RA, Dec) query function for our derived Pandas dataframe.\n",
    "    \"\"\"\n",
    "\n",
    "    ra_dec_coord = SkyCoord(ra=ra_dec[0] * u.degree, dec=ra_dec[1] * u.degree)\n",
    "\n",
    "    all_centers = SkyCoord(\n",
    "        ra=[x[0] for x in df[\"center_coord\"].iloc()] * u.degree,\n",
    "        dec=[x[1] for x in df[\"center_coord\"].iloc()] * u.degree,\n",
    "    )\n",
    "\n",
    "    distances = ra_dec_coord.separation(all_centers)\n",
    "    within_radius = (distances <= search_radius) & (\n",
    "        distances >= 0\n",
    "    )  # ≥ (not >) because we could supply the an exact match\n",
    "\n",
    "    results = df[within_radius]\n",
    "\n",
    "    if verbose:\n",
    "        print(f\"We found {len(results.index)} matches within {search_radius} of {ra_dec}.\")\n",
    "    return results"
   ]
  },
  {
   "cell_type": "code",
   "execution_count": 79,
   "id": "90b6aa45",
   "metadata": {},
   "outputs": [
    {
     "name": "stdout",
     "output_type": "stream",
     "text": [
      "We found 95 matches within 3.0 arcsec of (351.0695696334572, -4.336293374423113).\n",
      "CPU times: user 805 ms, sys: 21.7 ms, total: 827 ms\n",
      "Wall time: 825 ms\n"
     ]
    },
    {
     "data": {
      "text/html": [
       "<div>\n",
       "<style scoped>\n",
       "    .dataframe tbody tr th:only-of-type {\n",
       "        vertical-align: middle;\n",
       "    }\n",
       "\n",
       "    .dataframe tbody tr th {\n",
       "        vertical-align: top;\n",
       "    }\n",
       "\n",
       "    .dataframe thead th {\n",
       "        text-align: right;\n",
       "    }\n",
       "</style>\n",
       "<table border=\"1\" class=\"dataframe\">\n",
       "  <thead>\n",
       "    <tr style=\"text-align: right;\">\n",
       "      <th></th>\n",
       "      <th>data_id</th>\n",
       "      <th>region</th>\n",
       "      <th>detector</th>\n",
       "      <th>uri</th>\n",
       "      <th>ut</th>\n",
       "      <th>center_coord</th>\n",
       "      <th>ut_datetime</th>\n",
       "    </tr>\n",
       "  </thead>\n",
       "  <tbody>\n",
       "    <tr>\n",
       "      <th>0</th>\n",
       "      <td>(instrument, detector, visit)</td>\n",
       "      <td>ConvexPolygon([UnitVector3d(0.9847372525065534...</td>\n",
       "      <td>1</td>\n",
       "      <td>file:///epyc/users/smotherh/DEEP/PointingGroup...</td>\n",
       "      <td>2019-09-27T00:20:22.932</td>\n",
       "      <td>(351.0694028401149, -4.336598368890197)</td>\n",
       "      <td>2019-09-27 00:20:22.932</td>\n",
       "    </tr>\n",
       "    <tr>\n",
       "      <th>1</th>\n",
       "      <td>(instrument, detector, visit)</td>\n",
       "      <td>ConvexPolygon([UnitVector3d(0.9847381014554984...</td>\n",
       "      <td>1</td>\n",
       "      <td>file:///epyc/users/smotherh/DEEP/PointingGroup...</td>\n",
       "      <td>2019-09-27T00:22:51.015</td>\n",
       "      <td>(351.0695696334572, -4.336293374423113)</td>\n",
       "      <td>2019-09-27 00:22:51.015</td>\n",
       "    </tr>\n",
       "    <tr>\n",
       "      <th>2</th>\n",
       "      <td>(instrument, detector, visit)</td>\n",
       "      <td>ConvexPolygon([UnitVector3d(0.9847383417970056...</td>\n",
       "      <td>1</td>\n",
       "      <td>file:///epyc/users/smotherh/DEEP/PointingGroup...</td>\n",
       "      <td>2019-09-27T00:25:19.136</td>\n",
       "      <td>(351.0696571334576, -4.336293374415341)</td>\n",
       "      <td>2019-09-27 00:25:19.136</td>\n",
       "    </tr>\n",
       "    <tr>\n",
       "      <th>3</th>\n",
       "      <td>(instrument, detector, visit)</td>\n",
       "      <td>ConvexPolygon([UnitVector3d(0.9847382159041213...</td>\n",
       "      <td>1</td>\n",
       "      <td>file:///epyc/users/smotherh/DEEP/PointingGroup...</td>\n",
       "      <td>2019-09-27T00:27:47.118</td>\n",
       "      <td>(351.069611300124, -4.336293374419411)</td>\n",
       "      <td>2019-09-27 00:27:47.118</td>\n",
       "    </tr>\n",
       "    <tr>\n",
       "      <th>4</th>\n",
       "      <td>(instrument, detector, visit)</td>\n",
       "      <td>ConvexPolygon([UnitVector3d(0.9847381374341414...</td>\n",
       "      <td>1</td>\n",
       "      <td>file:///epyc/users/smotherh/DEEP/PointingGroup...</td>\n",
       "      <td>2019-09-27T00:30:15.537</td>\n",
       "      <td>(351.0695696451088, -4.336265319377865)</td>\n",
       "      <td>2019-09-27 00:30:15.537</td>\n",
       "    </tr>\n",
       "    <tr>\n",
       "      <th>...</th>\n",
       "      <td>...</td>\n",
       "      <td>...</td>\n",
       "      <td>...</td>\n",
       "      <td>...</td>\n",
       "      <td>...</td>\n",
       "      <td>...</td>\n",
       "      <td>...</td>\n",
       "    </tr>\n",
       "    <tr>\n",
       "      <th>90</th>\n",
       "      <td>(instrument, detector, visit)</td>\n",
       "      <td>ConvexPolygon([UnitVector3d(0.9847391753851408...</td>\n",
       "      <td>1</td>\n",
       "      <td>file:///epyc/users/smotherh/DEEP/PointingGroup...</td>\n",
       "      <td>2019-09-27T04:02:58.424</td>\n",
       "      <td>(351.06998627728365, -4.3363483733857136)</td>\n",
       "      <td>2019-09-27 04:02:58.424</td>\n",
       "    </tr>\n",
       "    <tr>\n",
       "      <th>91</th>\n",
       "      <td>(instrument, detector, visit)</td>\n",
       "      <td>ConvexPolygon([UnitVector3d(0.9847400909178194...</td>\n",
       "      <td>1</td>\n",
       "      <td>file:///epyc/users/smotherh/DEEP/PointingGroup...</td>\n",
       "      <td>2019-09-27T04:05:27.654</td>\n",
       "      <td>(351.0703196106188, -4.336348373356122)</td>\n",
       "      <td>2019-09-27 04:05:27.654</td>\n",
       "    </tr>\n",
       "    <tr>\n",
       "      <th>92</th>\n",
       "      <td>(instrument, detector, visit)</td>\n",
       "      <td>ConvexPolygon([UnitVector3d(0.9847397935953284...</td>\n",
       "      <td>1</td>\n",
       "      <td>file:///epyc/users/smotherh/DEEP/PointingGroup...</td>\n",
       "      <td>2019-09-27T04:07:56.159</td>\n",
       "      <td>(351.07019878847524, -4.336321429412502)</td>\n",
       "      <td>2019-09-27 04:07:56.159</td>\n",
       "    </tr>\n",
       "    <tr>\n",
       "      <th>93</th>\n",
       "      <td>(instrument, detector, visit)</td>\n",
       "      <td>ConvexPolygon([UnitVector3d(0.9847392459182945...</td>\n",
       "      <td>1</td>\n",
       "      <td>file:///epyc/users/smotherh/DEEP/PointingGroup...</td>\n",
       "      <td>2019-09-27T04:10:25.141</td>\n",
       "      <td>(351.069986300126, -4.336293374386118)</td>\n",
       "      <td>2019-09-27 04:10:25.141</td>\n",
       "    </tr>\n",
       "    <tr>\n",
       "      <th>94</th>\n",
       "      <td>(instrument, detector, visit)</td>\n",
       "      <td>ConvexPolygon([UnitVector3d(0.9847397036888316...</td>\n",
       "      <td>1</td>\n",
       "      <td>file:///epyc/users/smotherh/DEEP/PointingGroup...</td>\n",
       "      <td>2019-09-27T04:12:52.877</td>\n",
       "      <td>(351.07015296679367, -4.336293374371324)</td>\n",
       "      <td>2019-09-27 04:12:52.877</td>\n",
       "    </tr>\n",
       "  </tbody>\n",
       "</table>\n",
       "<p>95 rows × 7 columns</p>\n",
       "</div>"
      ],
      "text/plain": [
       "                          data_id   \n",
       "0   (instrument, detector, visit)  \\\n",
       "1   (instrument, detector, visit)   \n",
       "2   (instrument, detector, visit)   \n",
       "3   (instrument, detector, visit)   \n",
       "4   (instrument, detector, visit)   \n",
       "..                            ...   \n",
       "90  (instrument, detector, visit)   \n",
       "91  (instrument, detector, visit)   \n",
       "92  (instrument, detector, visit)   \n",
       "93  (instrument, detector, visit)   \n",
       "94  (instrument, detector, visit)   \n",
       "\n",
       "                                               region  detector   \n",
       "0   ConvexPolygon([UnitVector3d(0.9847372525065534...         1  \\\n",
       "1   ConvexPolygon([UnitVector3d(0.9847381014554984...         1   \n",
       "2   ConvexPolygon([UnitVector3d(0.9847383417970056...         1   \n",
       "3   ConvexPolygon([UnitVector3d(0.9847382159041213...         1   \n",
       "4   ConvexPolygon([UnitVector3d(0.9847381374341414...         1   \n",
       "..                                                ...       ...   \n",
       "90  ConvexPolygon([UnitVector3d(0.9847391753851408...         1   \n",
       "91  ConvexPolygon([UnitVector3d(0.9847400909178194...         1   \n",
       "92  ConvexPolygon([UnitVector3d(0.9847397935953284...         1   \n",
       "93  ConvexPolygon([UnitVector3d(0.9847392459182945...         1   \n",
       "94  ConvexPolygon([UnitVector3d(0.9847397036888316...         1   \n",
       "\n",
       "                                                  uri   \n",
       "0   file:///epyc/users/smotherh/DEEP/PointingGroup...  \\\n",
       "1   file:///epyc/users/smotherh/DEEP/PointingGroup...   \n",
       "2   file:///epyc/users/smotherh/DEEP/PointingGroup...   \n",
       "3   file:///epyc/users/smotherh/DEEP/PointingGroup...   \n",
       "4   file:///epyc/users/smotherh/DEEP/PointingGroup...   \n",
       "..                                                ...   \n",
       "90  file:///epyc/users/smotherh/DEEP/PointingGroup...   \n",
       "91  file:///epyc/users/smotherh/DEEP/PointingGroup...   \n",
       "92  file:///epyc/users/smotherh/DEEP/PointingGroup...   \n",
       "93  file:///epyc/users/smotherh/DEEP/PointingGroup...   \n",
       "94  file:///epyc/users/smotherh/DEEP/PointingGroup...   \n",
       "\n",
       "                         ut                               center_coord   \n",
       "0   2019-09-27T00:20:22.932    (351.0694028401149, -4.336598368890197)  \\\n",
       "1   2019-09-27T00:22:51.015    (351.0695696334572, -4.336293374423113)   \n",
       "2   2019-09-27T00:25:19.136    (351.0696571334576, -4.336293374415341)   \n",
       "3   2019-09-27T00:27:47.118     (351.069611300124, -4.336293374419411)   \n",
       "4   2019-09-27T00:30:15.537    (351.0695696451088, -4.336265319377865)   \n",
       "..                      ...                                        ...   \n",
       "90  2019-09-27T04:02:58.424  (351.06998627728365, -4.3363483733857136)   \n",
       "91  2019-09-27T04:05:27.654    (351.0703196106188, -4.336348373356122)   \n",
       "92  2019-09-27T04:07:56.159   (351.07019878847524, -4.336321429412502)   \n",
       "93  2019-09-27T04:10:25.141     (351.069986300126, -4.336293374386118)   \n",
       "94  2019-09-27T04:12:52.877   (351.07015296679367, -4.336293374371324)   \n",
       "\n",
       "               ut_datetime  \n",
       "0  2019-09-27 00:20:22.932  \n",
       "1  2019-09-27 00:22:51.015  \n",
       "2  2019-09-27 00:25:19.136  \n",
       "3  2019-09-27 00:27:47.118  \n",
       "4  2019-09-27 00:30:15.537  \n",
       "..                     ...  \n",
       "90 2019-09-27 04:02:58.424  \n",
       "91 2019-09-27 04:05:27.654  \n",
       "92 2019-09-27 04:07:56.159  \n",
       "93 2019-09-27 04:10:25.141  \n",
       "94 2019-09-27 04:12:52.877  \n",
       "\n",
       "[95 rows x 7 columns]"
      ]
     },
     "execution_count": 79,
     "metadata": {},
     "output_type": "execute_result"
    }
   ],
   "source": [
    "%%time\n",
    "ra_dec_search_radius = 3 * u.arcsec\n",
    "ra_dec_search_results_df = ra_dec_search_df(\n",
    "    df=df, ra_dec=searching_ra_dec, search_radius=ra_dec_search_radius, verbose=True\n",
    ")\n",
    "ra_dec_search_results_df"
   ]
  },
  {
   "cell_type": "code",
   "execution_count": 80,
   "id": "1874ddaa",
   "metadata": {},
   "outputs": [
    {
     "data": {
      "image/png": "[encoded data removed]",
      "text/plain": [
       "<Figure size 640x480 with 1 Axes>"
      ]
     },
     "metadata": {},
     "output_type": "display_data"
    }
   ],
   "source": [
    "# Plot the centers\n",
    "plt.scatter(\n",
    "    [x[0] for x in ra_dec_search_results_df[\"center_coord\"]],\n",
    "    [x[1] for x in ra_dec_search_results_df[\"center_coord\"]],\n",
    "    s=2,\n",
    "    alpha=0.5,\n",
    "    label=\"matches\",\n",
    ")\n",
    "plt.scatter(\n",
    "    searching_ra_dec[0], searching_ra_dec[1], color=\"red\", s=20, alpha=0.5, marker=\"+\", label=\"search center\"\n",
    ")\n",
    "circle = plt.Circle(\n",
    "    (searching_ra_dec[0], searching_ra_dec[1]),\n",
    "    ra_dec_search_radius.to(u.degree).value,\n",
    "    color=\"black\",\n",
    "    alpha=0.75,\n",
    "    fill=False,\n",
    "    label=\"search area\",\n",
    "    linestyle=\"--\",\n",
    ")\n",
    "plt.xlabel(f\"RA\")\n",
    "plt.ylabel(\"Dec\")\n",
    "ax = plt.gca()\n",
    "ax.add_patch(circle)\n",
    "plt.legend()\n",
    "ax.set_aspect(\"equal\", adjustable=\"box\")"
   ]
  },
  {
   "cell_type": "markdown",
   "id": "805d6699",
   "metadata": {},
   "source": [
    "These are the 95 matching center coordinates.\\\n",
    "These may look far off, but this is just the scale.\\\n",
    "We can plot the entire chip area on-sky, as we did earlier overlapping_sets."
   ]
  },
  {
   "cell_type": "code",
   "execution_count": 81,
   "id": "3db99133",
   "metadata": {},
   "outputs": [
    {
     "data": {
      "image/png": "[encoded data removed]",
      "text/plain": [
       "<Figure size 640x480 with 1 Axes>"
      ]
     },
     "metadata": {},
     "output_type": "display_data"
    }
   ],
   "source": [
    "# Plot the centers\n",
    "# plt.scatter([x[0] for x in ra_dec_search_results_df[\"center_coord\"]], [x[1] for x in ra_dec_search_results_df[\"center_coord\"]], s=2, alpha=0.5, label=\"matches\")\n",
    "plt.scatter(\n",
    "    searching_ra_dec[0], searching_ra_dec[1], color=\"red\", s=20, alpha=0.5, marker=\"+\", label=\"search center\"\n",
    ")\n",
    "for quad in [getRegionCorners(x) for x in ra_dec_search_results_df[\"region\"]]:\n",
    "    ra_bounds, dec_bounds = getMinMaxRaDec(quad)\n",
    "    #\n",
    "    coords = []\n",
    "    coords.append((ra_bounds[0], dec_bounds[0]))\n",
    "    coords.append((ra_bounds[0], dec_bounds[1]))\n",
    "    coords.append((ra_bounds[1], dec_bounds[1]))\n",
    "    coords.append((ra_bounds[1], dec_bounds[0]))\n",
    "    coords.append((ra_bounds[0], dec_bounds[0]))  # close the \"shape\"\n",
    "    #\n",
    "    plt.plot([x[0] for x in coords], [x[1] for x in coords]),  # label=ra_dec_search_results[i])\n",
    "circle = plt.Circle(\n",
    "    (searching_ra_dec[0], searching_ra_dec[1]),\n",
    "    ra_dec_search_radius.to(u.degree).value,\n",
    "    color=\"black\",\n",
    "    alpha=0.75,\n",
    "    fill=False,\n",
    "    label=\"search area\",\n",
    "    linestyle=\"--\",\n",
    "    linewidth=0.1,\n",
    ")\n",
    "plt.xlabel(f\"RA\")\n",
    "plt.ylabel(\"Dec\")\n",
    "ax = plt.gca()\n",
    "ax.add_patch(circle)\n",
    "plt.legend()\n",
    "ax.set_aspect(\"equal\", adjustable=\"box\")"
   ]
  },
  {
   "cell_type": "markdown",
   "id": "337ceedc",
   "metadata": {},
   "source": [
    "# Recap and Master Functions\n",
    "Here is a master function that takes a repo_path and returns \\\n",
    "(1) a Pandas dataframe with needed info, and\\\n",
    "(2) a dictionary with the images in discrete piles (sets)."
   ]
  },
  {
   "cell_type": "code",
   "execution_count": 82,
   "id": "fccdee6b",
   "metadata": {},
   "outputs": [],
   "source": [
    "def retrieve_image_sets(\n",
    "    repo_path,\n",
    "    basedir=\"default\",\n",
    "    desired_datasetTypes=[\"deepDiff_differenceExp\"],\n",
    "    overwrite=False,\n",
    "    overlap_uncertainty_radius_arcsec=30,\n",
    "):\n",
    "    \"\"\"\n",
    "    2/6/2024 COC\n",
    "    \"\"\"\n",
    "    if basedir == \"default\":\n",
    "        basedir = f'{os.environ[\"HOME\"]}/kbmod_tmp'\n",
    "        print(f'Changing \"default\" basedir to {basedir} now.')\n",
    "\n",
    "    os.makedirs(basedir, exist_ok=True)\n",
    "\n",
    "    #     repo_path = f\"/epyc/users/smotherh/DEEP/PointingGroups/butler-repo\"\n",
    "    butler = dafButler.Butler(repo_path)\n",
    "\n",
    "    all_collection_names = get_collection_names(butler=butler, basedir=basedir, verbose=True, export=True)\n",
    "    desired_collections = get_desired_collections(all_collections_list=all_collection_names)\n",
    "    #     datasetTypes = getDatasetTypeStats(butler=butler, overwrite=False) # not used 2/6/2024 COC\n",
    "    #     desired_datasetTypes = [\"deepDiff_differenceExp\"]\n",
    "    df, example_vdr_ref = get_vdr_data(\n",
    "        butler=butler, desired_collections=desired_collections, desired_datasetTypes=desired_datasetTypes\n",
    "    )\n",
    "    desired_instruments = getInstruments(butler=butler, vdr_ids=df[\"data_id\"])\n",
    "    df[\"center_coord\"] = [getCenterRaDec(i) for i in df[\"region\"]]\n",
    "    df[\"uri\"] = getURIs(\n",
    "        butler=butler,\n",
    "        dataIds=df[\"data_id\"],\n",
    "        repo_path=repo_path,\n",
    "        desired_datasetTypes=desired_datasetTypes,\n",
    "        desired_collections=desired_collections,\n",
    "        overwrite=overwrite,\n",
    "    )\n",
    "\n",
    "    df[\"ut\"] = getTimestamps(dataIds=df[\"data_id\"], overwrite=overwrite)\n",
    "    df[\"ut_datetime\"] = pd.to_datetime(df[\"ut\"])\n",
    "    overlapping_sets = find_overlapping_coords(\n",
    "        df=df, uncertainty_radius=overlap_uncertainty_radius_arcsec, overwrite=overwrite\n",
    "    )\n",
    "    return df, overlapping_sets"
   ]
  },
  {
   "cell_type": "code",
   "execution_count": 83,
   "id": "cf221f77",
   "metadata": {},
   "outputs": [
    {
     "name": "stdout",
     "output_type": "stream",
     "text": [
      "Changing \"default\" basedir to /astro/users/coc123/kbmod_tmp now.\n",
      "Found 1292 collections in the Butler. Wrote to \"/astro/users/coc123/kbmod_tmp/all_collection_names.lst\".\n",
      "Found DECam. Adding to \"desired_instruments\" now.\n",
      "WARNING: we are not iterating over all rows to find instruments, just taking the first one.\n",
      "Recycled 47383 paths from /astro/users/coc123/kbmod_tmp/uri_cache.lst as overwrite was False.\n",
      "Overwrite is False, so we will read the timestamps from file now...\n",
      "Recycled 47383 from /astro/users/coc123/kbmod_tmp/vdr_timestamps.lst.\n",
      "Recycling /astro/users/coc123/kbmod_tmp/overlapping_sets.pickle as overwrite=False.\n",
      "CPU times: user 5.1 s, sys: 618 ms, total: 5.72 s\n",
      "Wall time: 6.88 s\n"
     ]
    }
   ],
   "source": [
    "%%time\n",
    "\n",
    "# Example\n",
    "# TIMING NOTE: this requires about 7 seconds to run ***with everything already cached***.\n",
    "df1, overlapping_sets1 = retrieve_image_sets(\n",
    "    repo_path=f\"/epyc/users/smotherh/DEEP/PointingGroups/butler-repo\"\n",
    ")"
   ]
  },
  {
   "cell_type": "markdown",
   "id": "38d90f55",
   "metadata": {},
   "source": [
    "The other high-level function is searching the overlapping sets for a specific (RA, Dec) coordinate."
   ]
  },
  {
   "cell_type": "code",
   "execution_count": 84,
   "id": "45f09318",
   "metadata": {},
   "outputs": [
    {
     "name": "stdout",
     "output_type": "stream",
     "text": [
      "We found 4 sets that are within 15.0 arcmin of (351.0695696334572, -4.336293374423113).\n"
     ]
    },
    {
     "data": {
      "text/plain": [
       "['set_1', 'set_3', 'set_4', 'set_68']"
      ]
     },
     "execution_count": 84,
     "metadata": {},
     "output_type": "execute_result"
    }
   ],
   "source": [
    "ra_dec_search_results1 = ra_dec_search_overlapping_sets(\n",
    "    df=df1,\n",
    "    overlapping_sets=overlapping_sets1,\n",
    "    ra_dec=(351.0695696334572, -4.336293374423113),\n",
    "    search_radius=15 * u.arcminute,\n",
    "    verbose=True,\n",
    ")\n",
    "ra_dec_search_results1"
   ]
  },
  {
   "cell_type": "code",
   "execution_count": 85,
   "id": "8a6c4def",
   "metadata": {},
   "outputs": [
    {
     "name": "stdout",
     "output_type": "stream",
     "text": [
      "We found 95 matches within 3.0 arcsec of (351.0695696334572, -4.336293374423113).\n"
     ]
    },
    {
     "data": {
      "text/html": [
       "<div>\n",
       "<style scoped>\n",
       "    .dataframe tbody tr th:only-of-type {\n",
       "        vertical-align: middle;\n",
       "    }\n",
       "\n",
       "    .dataframe tbody tr th {\n",
       "        vertical-align: top;\n",
       "    }\n",
       "\n",
       "    .dataframe thead th {\n",
       "        text-align: right;\n",
       "    }\n",
       "</style>\n",
       "<table border=\"1\" class=\"dataframe\">\n",
       "  <thead>\n",
       "    <tr style=\"text-align: right;\">\n",
       "      <th></th>\n",
       "      <th>data_id</th>\n",
       "      <th>region</th>\n",
       "      <th>detector</th>\n",
       "      <th>uri</th>\n",
       "      <th>ut</th>\n",
       "      <th>center_coord</th>\n",
       "      <th>ut_datetime</th>\n",
       "    </tr>\n",
       "  </thead>\n",
       "  <tbody>\n",
       "    <tr>\n",
       "      <th>0</th>\n",
       "      <td>(instrument, detector, visit)</td>\n",
       "      <td>ConvexPolygon([UnitVector3d(0.9847372525065534...</td>\n",
       "      <td>1</td>\n",
       "      <td>file:///epyc/users/smotherh/DEEP/PointingGroup...</td>\n",
       "      <td>2019-09-27T00:20:22.932</td>\n",
       "      <td>(351.0694028401149, -4.336598368890197)</td>\n",
       "      <td>2019-09-27 00:20:22.932</td>\n",
       "    </tr>\n",
       "    <tr>\n",
       "      <th>1</th>\n",
       "      <td>(instrument, detector, visit)</td>\n",
       "      <td>ConvexPolygon([UnitVector3d(0.9847381014554984...</td>\n",
       "      <td>1</td>\n",
       "      <td>file:///epyc/users/smotherh/DEEP/PointingGroup...</td>\n",
       "      <td>2019-09-27T00:22:51.015</td>\n",
       "      <td>(351.0695696334572, -4.336293374423113)</td>\n",
       "      <td>2019-09-27 00:22:51.015</td>\n",
       "    </tr>\n",
       "    <tr>\n",
       "      <th>2</th>\n",
       "      <td>(instrument, detector, visit)</td>\n",
       "      <td>ConvexPolygon([UnitVector3d(0.9847383417970056...</td>\n",
       "      <td>1</td>\n",
       "      <td>file:///epyc/users/smotherh/DEEP/PointingGroup...</td>\n",
       "      <td>2019-09-27T00:25:19.136</td>\n",
       "      <td>(351.0696571334576, -4.336293374415341)</td>\n",
       "      <td>2019-09-27 00:25:19.136</td>\n",
       "    </tr>\n",
       "    <tr>\n",
       "      <th>3</th>\n",
       "      <td>(instrument, detector, visit)</td>\n",
       "      <td>ConvexPolygon([UnitVector3d(0.9847382159041213...</td>\n",
       "      <td>1</td>\n",
       "      <td>file:///epyc/users/smotherh/DEEP/PointingGroup...</td>\n",
       "      <td>2019-09-27T00:27:47.118</td>\n",
       "      <td>(351.069611300124, -4.336293374419411)</td>\n",
       "      <td>2019-09-27 00:27:47.118</td>\n",
       "    </tr>\n",
       "    <tr>\n",
       "      <th>4</th>\n",
       "      <td>(instrument, detector, visit)</td>\n",
       "      <td>ConvexPolygon([UnitVector3d(0.9847381374341414...</td>\n",
       "      <td>1</td>\n",
       "      <td>file:///epyc/users/smotherh/DEEP/PointingGroup...</td>\n",
       "      <td>2019-09-27T00:30:15.537</td>\n",
       "      <td>(351.0695696451088, -4.336265319377865)</td>\n",
       "      <td>2019-09-27 00:30:15.537</td>\n",
       "    </tr>\n",
       "    <tr>\n",
       "      <th>...</th>\n",
       "      <td>...</td>\n",
       "      <td>...</td>\n",
       "      <td>...</td>\n",
       "      <td>...</td>\n",
       "      <td>...</td>\n",
       "      <td>...</td>\n",
       "      <td>...</td>\n",
       "    </tr>\n",
       "    <tr>\n",
       "      <th>90</th>\n",
       "      <td>(instrument, detector, visit)</td>\n",
       "      <td>ConvexPolygon([UnitVector3d(0.9847391753851408...</td>\n",
       "      <td>1</td>\n",
       "      <td>file:///epyc/users/smotherh/DEEP/PointingGroup...</td>\n",
       "      <td>2019-09-27T04:02:58.424</td>\n",
       "      <td>(351.06998627728365, -4.3363483733857136)</td>\n",
       "      <td>2019-09-27 04:02:58.424</td>\n",
       "    </tr>\n",
       "    <tr>\n",
       "      <th>91</th>\n",
       "      <td>(instrument, detector, visit)</td>\n",
       "      <td>ConvexPolygon([UnitVector3d(0.9847400909178194...</td>\n",
       "      <td>1</td>\n",
       "      <td>file:///epyc/users/smotherh/DEEP/PointingGroup...</td>\n",
       "      <td>2019-09-27T04:05:27.654</td>\n",
       "      <td>(351.0703196106188, -4.336348373356122)</td>\n",
       "      <td>2019-09-27 04:05:27.654</td>\n",
       "    </tr>\n",
       "    <tr>\n",
       "      <th>92</th>\n",
       "      <td>(instrument, detector, visit)</td>\n",
       "      <td>ConvexPolygon([UnitVector3d(0.9847397935953284...</td>\n",
       "      <td>1</td>\n",
       "      <td>file:///epyc/users/smotherh/DEEP/PointingGroup...</td>\n",
       "      <td>2019-09-27T04:07:56.159</td>\n",
       "      <td>(351.07019878847524, -4.336321429412502)</td>\n",
       "      <td>2019-09-27 04:07:56.159</td>\n",
       "    </tr>\n",
       "    <tr>\n",
       "      <th>93</th>\n",
       "      <td>(instrument, detector, visit)</td>\n",
       "      <td>ConvexPolygon([UnitVector3d(0.9847392459182945...</td>\n",
       "      <td>1</td>\n",
       "      <td>file:///epyc/users/smotherh/DEEP/PointingGroup...</td>\n",
       "      <td>2019-09-27T04:10:25.141</td>\n",
       "      <td>(351.069986300126, -4.336293374386118)</td>\n",
       "      <td>2019-09-27 04:10:25.141</td>\n",
       "    </tr>\n",
       "    <tr>\n",
       "      <th>94</th>\n",
       "      <td>(instrument, detector, visit)</td>\n",
       "      <td>ConvexPolygon([UnitVector3d(0.9847397036888316...</td>\n",
       "      <td>1</td>\n",
       "      <td>file:///epyc/users/smotherh/DEEP/PointingGroup...</td>\n",
       "      <td>2019-09-27T04:12:52.877</td>\n",
       "      <td>(351.07015296679367, -4.336293374371324)</td>\n",
       "      <td>2019-09-27 04:12:52.877</td>\n",
       "    </tr>\n",
       "  </tbody>\n",
       "</table>\n",
       "<p>95 rows × 7 columns</p>\n",
       "</div>"
      ],
      "text/plain": [
       "                          data_id   \n",
       "0   (instrument, detector, visit)  \\\n",
       "1   (instrument, detector, visit)   \n",
       "2   (instrument, detector, visit)   \n",
       "3   (instrument, detector, visit)   \n",
       "4   (instrument, detector, visit)   \n",
       "..                            ...   \n",
       "90  (instrument, detector, visit)   \n",
       "91  (instrument, detector, visit)   \n",
       "92  (instrument, detector, visit)   \n",
       "93  (instrument, detector, visit)   \n",
       "94  (instrument, detector, visit)   \n",
       "\n",
       "                                               region  detector   \n",
       "0   ConvexPolygon([UnitVector3d(0.9847372525065534...         1  \\\n",
       "1   ConvexPolygon([UnitVector3d(0.9847381014554984...         1   \n",
       "2   ConvexPolygon([UnitVector3d(0.9847383417970056...         1   \n",
       "3   ConvexPolygon([UnitVector3d(0.9847382159041213...         1   \n",
       "4   ConvexPolygon([UnitVector3d(0.9847381374341414...         1   \n",
       "..                                                ...       ...   \n",
       "90  ConvexPolygon([UnitVector3d(0.9847391753851408...         1   \n",
       "91  ConvexPolygon([UnitVector3d(0.9847400909178194...         1   \n",
       "92  ConvexPolygon([UnitVector3d(0.9847397935953284...         1   \n",
       "93  ConvexPolygon([UnitVector3d(0.9847392459182945...         1   \n",
       "94  ConvexPolygon([UnitVector3d(0.9847397036888316...         1   \n",
       "\n",
       "                                                  uri   \n",
       "0   file:///epyc/users/smotherh/DEEP/PointingGroup...  \\\n",
       "1   file:///epyc/users/smotherh/DEEP/PointingGroup...   \n",
       "2   file:///epyc/users/smotherh/DEEP/PointingGroup...   \n",
       "3   file:///epyc/users/smotherh/DEEP/PointingGroup...   \n",
       "4   file:///epyc/users/smotherh/DEEP/PointingGroup...   \n",
       "..                                                ...   \n",
       "90  file:///epyc/users/smotherh/DEEP/PointingGroup...   \n",
       "91  file:///epyc/users/smotherh/DEEP/PointingGroup...   \n",
       "92  file:///epyc/users/smotherh/DEEP/PointingGroup...   \n",
       "93  file:///epyc/users/smotherh/DEEP/PointingGroup...   \n",
       "94  file:///epyc/users/smotherh/DEEP/PointingGroup...   \n",
       "\n",
       "                         ut                               center_coord   \n",
       "0   2019-09-27T00:20:22.932    (351.0694028401149, -4.336598368890197)  \\\n",
       "1   2019-09-27T00:22:51.015    (351.0695696334572, -4.336293374423113)   \n",
       "2   2019-09-27T00:25:19.136    (351.0696571334576, -4.336293374415341)   \n",
       "3   2019-09-27T00:27:47.118     (351.069611300124, -4.336293374419411)   \n",
       "4   2019-09-27T00:30:15.537    (351.0695696451088, -4.336265319377865)   \n",
       "..                      ...                                        ...   \n",
       "90  2019-09-27T04:02:58.424  (351.06998627728365, -4.3363483733857136)   \n",
       "91  2019-09-27T04:05:27.654    (351.0703196106188, -4.336348373356122)   \n",
       "92  2019-09-27T04:07:56.159   (351.07019878847524, -4.336321429412502)   \n",
       "93  2019-09-27T04:10:25.141     (351.069986300126, -4.336293374386118)   \n",
       "94  2019-09-27T04:12:52.877   (351.07015296679367, -4.336293374371324)   \n",
       "\n",
       "               ut_datetime  \n",
       "0  2019-09-27 00:20:22.932  \n",
       "1  2019-09-27 00:22:51.015  \n",
       "2  2019-09-27 00:25:19.136  \n",
       "3  2019-09-27 00:27:47.118  \n",
       "4  2019-09-27 00:30:15.537  \n",
       "..                     ...  \n",
       "90 2019-09-27 04:02:58.424  \n",
       "91 2019-09-27 04:05:27.654  \n",
       "92 2019-09-27 04:07:56.159  \n",
       "93 2019-09-27 04:10:25.141  \n",
       "94 2019-09-27 04:12:52.877  \n",
       "\n",
       "[95 rows x 7 columns]"
      ]
     },
     "execution_count": 85,
     "metadata": {},
     "output_type": "execute_result"
    }
   ],
   "source": [
    "ra_dec_search_results2 = ra_dec_search_df(\n",
    "    df=df, ra_dec=(351.0695696334572, -4.336293374423113), search_radius=3 * u.arcsec, verbose=True\n",
    ")\n",
    "ra_dec_search_results2"
   ]
  },
  {
   "cell_type": "markdown",
   "id": "3df17bc4",
   "metadata": {},
   "source": [
    "# Next Steps\n",
    "\n",
    "In no particular order:\n",
    "\n",
    "1. User-specified (RA, Dec) pair:\n",
    "- from overlapping_sets (DONE 2/7/2024 COC)\n",
    "- from our extracted Butler data (DONE 2/7/2024 COC)\n",
    "2. Heat map / histogrammed results.\n",
    "3. Sky patches approach.\n",
    "4. Reflex correction."
   ]
  }
 ],
 "metadata": {
  "kernelspec": {
   "display_name": "LSST w_2022_06",
   "language": "python",
   "name": "opt_lsst_w_2022_06"
  },
  "language_info": {
   "codemirror_mode": {
    "name": "ipython",
    "version": 3
   },
   "file_extension": ".py",
   "mimetype": "text/x-python",
   "name": "python",
   "nbconvert_exporter": "python",
   "pygments_lexer": "ipython3",
   "version": "3.8.18"
  }
 },
 "nbformat": 4,
 "nbformat_minor": 5
}
