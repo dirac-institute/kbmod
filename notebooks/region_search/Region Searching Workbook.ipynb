{
 "cells": [
  {
   "cell_type": "markdown",
   "id": "d94d8d2b",
   "metadata": {},
   "source": [
    "# Butler Interface for User\n",
    "\n",
    "The point of this notebook is to do step-by-step exploration of the DEEP dataset that was first run through KBMOD for the first set of papers. That work was led by Hayden Smotherman, hence the reference to that name.\n",
    "\n",
    "The \"Steven\" name that appears is Steven Stetzler, who inherited the responsibilities of properly re/processing the entire DEEP dataset through data acquired through 2023.\n",
    "\n",
    "### Basic Idea\n",
    "Here we are connecting to an existing Butler/repository with the intent of carrying out queries to find data suitable for KBMOD to use.\n",
    "\n",
    "#### FAQ\n",
    "\n",
    "Q: Who wrote this, and when?\\\n",
    "A: Colin Orion Chandler (coc123@uw.edu), late January 2024.\n",
    "\n",
    "Q: What are the basic requirements to run this?\\\n",
    "A: (a) Epyc access, (b) with the appropriate (LSST w_2022_06) weekly build active, (c) permissions to access the repo_path mentioned below, and (d) an acceptable Kernel in the Jupyter-Hub of Epyc (user or global).\n",
    "\n",
    "Q: Why don't we just query the DB (e.g., PostGres, SQLite) to get what we need?\\\n",
    "A: Because (a) the underlying schema can (and has/does) change, and (b) the underlying DB does not contain views, meaning that we would have to recreate the very complex relational mapping ourselves. Moreover, aside from (b) being very challenging, the relationship mapping recreation would fail due to the reasons mentioned in (a)."
   ]
  },
  {
   "cell_type": "markdown",
   "id": "9ea4ebd7",
   "metadata": {},
   "source": [
    "### Initial Setup"
   ]
  },
  {
   "cell_type": "code",
   "execution_count": 215,
   "id": "d0189084",
   "metadata": {},
   "outputs": [],
   "source": [
    "# Import packages needed to run the notebook\n",
    "import lsst\n",
    "import lsst.daf.butler as dafButler\n",
    "import os\n",
    "import time\n",
    "from matplotlib import pyplot as plt\n",
    "import progressbar\n",
    "from concurrent.futures import ProcessPoolExecutor, as_completed\n",
    "from astropy.time import Time  # for converting Butler visitInfo.date (TAI) to UTC strings\n",
    "import pandas as pd"
   ]
  },
  {
   "cell_type": "code",
   "execution_count": 136,
   "id": "ceeec168",
   "metadata": {},
   "outputs": [
    {
     "data": {
      "text/plain": [
       "96"
      ]
     },
     "execution_count": 136,
     "metadata": {},
     "output_type": "execute_result"
    }
   ],
   "source": [
    "# We will use multiprocessing in a few places. Let's see what the sytsem thinks we have available.\n",
    "import multiprocessing\n",
    "\n",
    "multiprocessing.cpu_count()"
   ]
  },
  {
   "cell_type": "code",
   "execution_count": 2,
   "id": "693492d4",
   "metadata": {},
   "outputs": [],
   "source": [
    "# this code will run in different environments, so we need somewhere (not the working directory) to save output\n",
    "basedir = f'{os.environ[\"HOME\"]}/kbmod_tmp'\n",
    "os.makedirs(basedir, exist_ok=True)"
   ]
  },
  {
   "cell_type": "code",
   "execution_count": 3,
   "id": "b13eb927",
   "metadata": {},
   "outputs": [],
   "source": [
    "# set up the Butler\n",
    "# NOTE: the repo path contains configs that point us to the underlying registry (DB)\n",
    "# NOTE: do NOT assume there is write protection! (i.e., don't make changes)\n",
    "repo_path = f\"/epyc/users/smotherh/DEEP/PointingGroups/butler-repo\"\n",
    "butler = dafButler.Butler(repo_path)"
   ]
  },
  {
   "cell_type": "markdown",
   "id": "85cc47d8",
   "metadata": {},
   "source": [
    "#### Collections\n",
    "1. Explore the available collections\n",
    "2. Construct a list of the collections containing the data we care about.\n",
    "\n",
    "Different collections hold different datasets.\n",
    "\n",
    "For the Hayden DEEP repo, the collections we are concerned with are organized by pointing groups (discrete regions on the sky).\n",
    "\n",
    "We want to figure out what those are, how they are named, and what else is available.\n",
    "\n",
    "We will also dump a full list of collection names to disk. \\\n",
    "NOTE: as of 2/1/2024, there are 1,292 named collections in the repo.\n"
   ]
  },
  {
   "cell_type": "code",
   "execution_count": 153,
   "id": "e6a546f0",
   "metadata": {},
   "outputs": [
    {
     "name": "stdout",
     "output_type": "stream",
     "text": [
      "Found 1292 collections in the Butler. Wrote to \"/astro/users/coc123/kbmod_tmp/all_collection_names.lst\".\n"
     ]
    }
   ],
   "source": [
    "all_collection_names = []\n",
    "\n",
    "for c in sorted(butler.registry.queryCollections(\"*\")):\n",
    "    all_collection_names.append(c)\n",
    "\n",
    "outfile = f\"{basedir}/all_collection_names.lst\"\n",
    "with open(outfile, \"w\") as f:\n",
    "    for c in all_collection_names:\n",
    "        print(c, file=f)\n",
    "\n",
    "print(f'Found {len(all_collection_names)} collections in the Butler. Wrote to \"{outfile}\".')"
   ]
  },
  {
   "cell_type": "code",
   "execution_count": 154,
   "id": "b409c810",
   "metadata": {},
   "outputs": [
    {
     "data": {
      "text/plain": [
       "['PointingGroup006/imdiff_r',\n",
       " 'PointingGroup008/imdiff_r',\n",
       " 'PointingGroup009/imdiff_r',\n",
       " 'PointingGroup016/imdiff_r',\n",
       " 'PointingGroup018/imdiff_r',\n",
       " 'PointingGroup019/imdiff_r',\n",
       " 'PointingGroup021/imdiff_r',\n",
       " 'PointingGroup023/imdiff_r']"
      ]
     },
     "execution_count": 154,
     "metadata": {},
     "output_type": "execute_result"
    }
   ],
   "source": [
    "# We looked through the collections already.\n",
    "# We will string manipulate to get to what we need.\n",
    "# Previously, I used a list file on disk. (This could be a better option for some users.)\n",
    "\n",
    "desired_collections = []  # we will store these for future use\n",
    "\n",
    "for collection_name in all_collection_names:\n",
    "    if \"Pointing\" in collection_name and \"/imdiff_r\" in collection_name and \"/2021\" not in collection_name:\n",
    "        desired_collections.append(collection_name)\n",
    "desired_collections"
   ]
  },
  {
   "cell_type": "code",
   "execution_count": 11,
   "id": "4537e06a",
   "metadata": {},
   "outputs": [],
   "source": [
    "# ASIDE: there is a set of collections with dates in their names\n",
    "#   (e.g., PointingGroup006/imdiff_r/20211110T184421Z).\n",
    "# Those (only?) have the following datasetTypes, (so we use the name without the date for all the datasetTypes):\n",
    "# Across all collections, we see the following numbers by datasetType:\n",
    "# 47383      deepDiff_diaSrc\n",
    "# 8          deepDiff_diaSrc_schema\n",
    "# 47383      deepDiff_differenceExp\n",
    "# 29445      deepDiff_warpedExp\n",
    "# 8          imageDifference_config\n",
    "# 17942      imageDifference_log\n",
    "# 47383      imageDifference_metadata\n",
    "# 8          packages\n",
    "\n",
    "# which is too little? we we will snag the parent Collections (stripping dates)"
   ]
  },
  {
   "cell_type": "markdown",
   "id": "2fcdae7b",
   "metadata": {},
   "source": [
    "#### datasetTypes\n",
    "\n",
    "Here we explore another dimension of the Butler: datasetType.\n",
    "\n",
    "tldr; we just care about one currently: deepDiff_differenceExp"
   ]
  },
  {
   "cell_type": "code",
   "execution_count": 169,
   "id": "47c8c37c",
   "metadata": {},
   "outputs": [],
   "source": [
    "# TIMING NOTE: about 2 minutes here\n",
    "#\n",
    "# Maybe a KBMOD user must know which datasetType(s) they need?\n",
    "# Here we show how to explore them to figure that out.\n",
    "#\n",
    "# NOTE: we tested two approaches,\n",
    "#   (a) iterating over desired_collections, and\n",
    "#   (b) supply desired_collections.\n",
    "# The output was the same, but the iterating method took 268s, and the supplied method took 97s.\n",
    "# There *was* a point where we thought we were seeing different results depending on the approach,\n",
    "# but this has been sorted out. (COC suspects a testing break in a loop somwhere.)\n",
    "# COC NTS: [TODO] function, [TODO] caching\n",
    "\n",
    "\n",
    "def getDatasetTypeStats(butler, overwrite=False):\n",
    "    \"\"\"\n",
    "    Get information on all datasetTypes found in a Butler.\n",
    "    TODO implement caching if desired. If not, get rid of overwrite option.\n",
    "    2/1/2024 COC\n",
    "    \"\"\"\n",
    "    datasetTypes = {}\n",
    "\n",
    "    import glob\n",
    "\n",
    "    cache_file = f\"{basedir}/dataset_types.csv\"\n",
    "    cache_exists = False\n",
    "    if len(glob.glob(cache_file)) > 0:\n",
    "        cache_exists = True\n",
    "\n",
    "    if overwrite == False and cache_exists == True:\n",
    "        print(f\"Recycling {cache_file} as overwrite was False...\")\n",
    "        with open(cache_file, \"r\") as f:\n",
    "            for line in f:\n",
    "                print(line)\n",
    "                line = line.strip().split(\",\")\n",
    "                datasetTypes[line[0]] = int(line[1])\n",
    "        print(f\"Read {len(datasetTypes)} datasetTypes from disk.\")\n",
    "        return datasetTypes\n",
    "\n",
    "    q = sorted(butler.registry.queryDatasetTypes())\n",
    "\n",
    "    with progressbar.ProgressBar(max_value=len(q)) as bar:\n",
    "        for j, dt in enumerate(q):\n",
    "            n = 0\n",
    "            for i, ref in enumerate(\n",
    "                butler.registry.queryDatasets(datasetType=dt, collections=desired_collections)\n",
    "            ):\n",
    "                n += 1\n",
    "            if n > 0:\n",
    "                if dt.name not in datasetTypes:\n",
    "                    datasetTypes[dt.name] = 0\n",
    "                datasetTypes[dt.name] += n\n",
    "            bar.update(j)\n",
    "\n",
    "    if cache_exists == False or overwrite == True:\n",
    "        print(f\"Saving {len(datasetTypes)} datasetTypes to {cache_file} now...\")\n",
    "        with open(cache_file, \"w\") as f:\n",
    "            for key in datasetTypes:\n",
    "                print(f\"{key},{datasetTypes[key]}\", file=f)\n",
    "    else:\n",
    "        print(f\"Saw {len(datasetTypes)} datasetTypes.\")\n",
    "    return datasetTypes"
   ]
  },
  {
   "cell_type": "code",
   "execution_count": 170,
   "id": "b741015f",
   "metadata": {},
   "outputs": [
    {
     "name": "stderr",
     "output_type": "stream",
     "text": [
      "100% (129 of 129) |######################| Elapsed Time: 0:02:28 Time:  0:02:28\n"
     ]
    },
    {
     "name": "stdout",
     "output_type": "stream",
     "text": [
      "Saving 46 datasetTypes to /astro/users/coc123/kbmod_tmp/dataset_types.csv now...\n",
      "CPU times: user 1min 57s, sys: 2.96 s, total: 2min\n",
      "Wall time: 2min 28s\n"
     ]
    }
   ],
   "source": [
    "%%time\n",
    "datasetTypes = getDatasetTypeStats(butler=butler, overwrite=False)"
   ]
  },
  {
   "cell_type": "code",
   "execution_count": 8,
   "id": "6406f04c",
   "metadata": {},
   "outputs": [
    {
     "name": "stdout",
     "output_type": "stream",
     "text": [
      "Across all collections, we see the following numbers by datasetType: \n",
      "8          assembleCoadd_config\n",
      "268        assembleCoadd_log\n",
      "700        assembleCoadd_metadata\n",
      "122856     cal_ref_cat\n",
      "47403      calexp\n",
      "47403      calexpBackground\n",
      "8          calibrate_config\n",
      "17961      calibrate_log\n",
      "47403      calibrate_metadata\n",
      "8          characterizeImage_config\n",
      "18290      characterizeImage_log\n",
      "47423      characterizeImage_metadata\n",
      "693        deepCoadd\n",
      "167085     deepCoadd_directWarp\n",
      "693        deepCoadd_inputMap\n",
      "167085     deepCoadd_psfMatchedWarp\n",
      "47383      deepDiff_diaSrc\n",
      "8          deepDiff_diaSrc_schema\n",
      "47383      deepDiff_differenceExp\n",
      "29445      deepDiff_warpedExp\n",
      "524283     gaia_DR1_v1\n",
      "47423      icExp\n",
      "47423      icExpBackground\n",
      "47423      icSrc\n",
      "8          icSrc_schema\n",
      "8          imageDifference_config\n",
      "17942      imageDifference_log\n",
      "47383      imageDifference_metadata\n",
      "8          isr_config\n",
      "18290      isr_log\n",
      "48422      isr_metadata\n",
      "8          makeWarp_config\n",
      "64924      makeWarp_log\n",
      "167085     makeWarp_metadata\n",
      "48422      overscanRaw\n",
      "8          overscan_config\n",
      "18290      overscan_log\n",
      "48422      overscan_metadata\n",
      "32         packages\n",
      "48422      postISRCCD\n",
      "130924     ps1_pv3_3pi_20170110\n",
      "48422      raw\n",
      "1          skyMap\n",
      "47403      src\n",
      "47403      srcMatch\n",
      "8          src_schema\n"
     ]
    }
   ],
   "source": [
    "# The number of records for each datasetType.\n",
    "# This may be especially useful for users who do not yet know which datasetType(s) they need.\n",
    "\n",
    "print(f\"Across all collections, we see the following numbers by datasetType: \")\n",
    "for dt in datasetTypes:\n",
    "    print(f\"{datasetTypes[dt]!s:10} {dt.name}\")"
   ]
  },
  {
   "cell_type": "code",
   "execution_count": 9,
   "id": "53a03c75",
   "metadata": {},
   "outputs": [],
   "source": [
    "# This is the datasetType that we care about.\n",
    "# NOTE: we should allow this to be a list in case a user needs multiple.\n",
    "desired_datasetTypes = [\"deepDiff_differenceExp\"]"
   ]
  },
  {
   "cell_type": "markdown",
   "id": "3c351fc7",
   "metadata": {},
   "source": [
    "### Visit Detector Region (VDR) Querying\n",
    "\n",
    "Here we will query the Butler and extract all of the \"visit_detector_region\" information.\\\n",
    "At this stage we are gathering:\n",
    "1. dataIds for all future queries\n",
    "2. lsst.sphgeom.region objects"
   ]
  },
  {
   "cell_type": "code",
   "execution_count": 213,
   "id": "c47e5588",
   "metadata": {},
   "outputs": [
    {
     "name": "stdout",
     "output_type": "stream",
     "text": [
      "CPU times: user 1.64 s, sys: 85.7 ms, total: 1.72 s\n",
      "Wall time: 2.38 s\n"
     ]
    }
   ],
   "source": [
    "%%time\n",
    "# VDR === Visit Detector Region\n",
    "# VDRs hold what we need in terms of region hashes and unique dataIds.\n",
    "# NOTE: this typically takes < 5s to run 2/1/2024 COC\n",
    "# NOTE: tried iterating over desired_collections vs supplying desired_collections; same output 2/1/2024 COC\n",
    "\n",
    "vdr_ids = []\n",
    "vdr_regions = []\n",
    "vdr_detectors = []\n",
    "\n",
    "for dt in desired_datasetTypes:\n",
    "    datasetRefs = butler.registry.queryDimensionRecords(\n",
    "        \"visit_detector_region\", datasets=dt, collections=desired_collections\n",
    "    )\n",
    "    for ref in datasetRefs:\n",
    "        vdr_ids.append(ref.dataId)\n",
    "        vdr_regions.append(ref.region)  # keeping as objects for now; should .encode() for caching/export\n",
    "        vdr_detectors.append(ref.detector)  # 2/2/2024 COC\n",
    "        # BUT if we decided to export this or cache this, we should write the encode() version to disk\n",
    "        #\n",
    "        tmpref = ref  # this leaves a VDR Python object we can play with\n",
    "        # other data available:\n",
    "        #    id = ref.id# id -- e.g., 1592350 (for DEEP dataset, I think UUIDs for newer Butlers)\n",
    "        #    visit = ref.dataId.full['visit'] # e.g., 946725\n",
    "        # vdr_filters.append(ref.dataId.full['band']) # e.g., VR\n",
    "        # vdr_detectors.append(ref.dataId.full['detector']) # e.g., 1"
   ]
  },
  {
   "cell_type": "code",
   "execution_count": 12,
   "id": "e04e2f35",
   "metadata": {},
   "outputs": [
    {
     "name": "stdout",
     "output_type": "stream",
     "text": [
      "We found 47383 regions spanning the 8 desired collections.\n"
     ]
    }
   ],
   "source": [
    "print(f\"We found {len(vdr_ids)} regions spanning the {len(desired_collections)} desired collections.\")"
   ]
  },
  {
   "cell_type": "code",
   "execution_count": 212,
   "id": "08d5b443",
   "metadata": {},
   "outputs": [
    {
     "data": {
      "text/html": [
       "<pre>visit_detector_region:\n",
       "  instrument: 'DECam'\n",
       "  detector: 62\n",
       "  visit: 946176\n",
       "  region: ConvexPolygon([UnitVector3d(0.9876086828694174, -0.13336028508776862, -0.08272922024438323), UnitVector3d(0.9873378171284917, -0.13332652431396907, -0.08595389916869185), UnitVector3d(0.9881047366097594, -0.12752395595185462, -0.08594573955553172), UnitVector3d(0.9883760335240734, -0.12755303452468866, -0.0827226676235914)])<pre>"
      ],
      "text/plain": [
       "visit_detector_region.RecordClass(instrument='DECam', detector=62, visit=946176, region=ConvexPolygon([UnitVector3d(0.9876086828694174, -0.13336028508776862, -0.08272922024438323), UnitVector3d(0.9873378171284917, -0.13332652431396907, -0.08595389916869185), UnitVector3d(0.9881047366097594, -0.12752395595185462, -0.08594573955553172), UnitVector3d(0.9883760335240734, -0.12755303452468866, -0.0827226676235914)]))"
      ]
     },
     "execution_count": 212,
     "metadata": {},
     "output_type": "execute_result"
    }
   ],
   "source": [
    "# For demonstration purposes we still have the last \"ref\" from the last cell's iteration\n",
    "tmpref"
   ]
  },
  {
   "cell_type": "code",
   "execution_count": 14,
   "id": "e28031c2",
   "metadata": {},
   "outputs": [
    {
     "data": {
      "text/plain": [
       "{instrument: 'DECam', detector: 62, visit: 946176}"
      ]
     },
     "execution_count": 14,
     "metadata": {},
     "output_type": "execute_result"
    }
   ],
   "source": [
    "# This is the unique dataId we would need to retrieve this specific image later\n",
    "tmpref.dataId"
   ]
  },
  {
   "cell_type": "code",
   "execution_count": 15,
   "id": "761f3610",
   "metadata": {},
   "outputs": [
    {
     "name": "stdout",
     "output_type": "stream",
     "text": [
      "tmpref.instrument = DECam, tmpref.detector = 62, tmpref.visit = 946176\n"
     ]
    }
   ],
   "source": [
    "# The unique dataId is made up of the following attributes:\n",
    "print(\n",
    "    f\"tmpref.instrument = {tmpref.instrument}, tmpref.detector = {tmpref.detector}, tmpref.visit = {tmpref.visit}\"\n",
    ")"
   ]
  },
  {
   "cell_type": "code",
   "execution_count": 16,
   "id": "5d6b2106",
   "metadata": {},
   "outputs": [
    {
     "data": {
      "text/plain": [
       "b'p\\xddnE\\x86}\\x9a\\xef?\\x0f\\xc3\\x84\\'\\xf3\\x11\\xc1\\xbf\\x80\\x8a_\\xff\\xbd-\\xb5\\xbf\\x04xUzE\\x98\\xef?\\x94\\x15\\xcf\\xf2\\xd7\\x10\\xc1\\xbf\\x9d\\xa9\\xe4!\\x13\\x01\\xb6\\xbf\\x1d_\\x18\\xd3\\x8d\\x9e\\xef?\\x80\\x87\"z\\xb4R\\xc0\\xbff\\x1d\\x9f<\\x8a\\x00\\xb6\\xbf\\xe4Z\\x84\\xc6\\xc6\\xa0\\xef?\\x1f\\x01\\xe5g\\xa8S\\xc0\\xbf\\xba\\xc9\\x14\\x10P-\\xb5\\xbf'"
      ]
     },
     "execution_count": 16,
     "metadata": {},
     "output_type": "execute_result"
    }
   ],
   "source": [
    "# This is the region hash we would use for \"region matching\" later\n",
    "tmpref.region.encode()"
   ]
  },
  {
   "cell_type": "code",
   "execution_count": 140,
   "id": "aa653a8b",
   "metadata": {},
   "outputs": [
    {
     "data": {
      "text/plain": [
       "False"
      ]
     },
     "execution_count": 140,
     "metadata": {},
     "output_type": "execute_result"
    }
   ],
   "source": [
    "# We check to see if we can crawl to other data from the dataId (False means no).\n",
    "tmpref.dataId.hasRecords()"
   ]
  },
  {
   "cell_type": "markdown",
   "id": "5bdaaf00",
   "metadata": {},
   "source": [
    "### Instrument handling\n",
    "Some Butler queries require the instrument to be specified.\\\n",
    "For now, we are just supplying the one we care about (KLUDGE).\\\n",
    "It's a list so we can mix-and-match shift-and-stack across instruments(!).\\\n",
    "NOTE: will leave this as a list for future-proofing purpose"
   ]
  },
  {
   "cell_type": "code",
   "execution_count": 164,
   "id": "e6c7af1b",
   "metadata": {},
   "outputs": [],
   "source": [
    "# [TODO] extract this somehow automatically 2/1/2024 COC\n",
    "# desired_instruments = ['DECam']"
   ]
  },
  {
   "cell_type": "code",
   "execution_count": 176,
   "id": "0228bb4d",
   "metadata": {},
   "outputs": [],
   "source": [
    "def getInstruments(butler, first_instrument_only=True):\n",
    "    \"\"\"Iterate through our records to determine which instrument(s) are involved.\n",
    "    Return a list of the identified instruments.\n",
    "    If first_instrument_only is True, stop as soon as we found an instrument.\n",
    "    \"\"\"\n",
    "    # KLUDGE: snag the instrument name of the first record we find in a visitInfo query.\n",
    "    instrument_names = []\n",
    "    for i, dataId in enumerate(vdr_ids):\n",
    "        visitInfo = butler.get(\"calexp.visitInfo\", dataId=dataId, collections=desired_collections)\n",
    "        instrument_name = visitInfo.instrumentLabel\n",
    "        if instrument_name not in instrument_names:\n",
    "            print(f'Found {instrument_name}. Adding to \"desired_instruments\" now.')\n",
    "            instrument_names.append(instrument_name)\n",
    "        if first_instrument_only == True and len(instrument_names) > 0:\n",
    "            print(\n",
    "                f\"WARNING: we are not iterating over all rows to find instruments, just taking the first one.\"\n",
    "            )\n",
    "            break\n",
    "    return instrument_names"
   ]
  },
  {
   "cell_type": "code",
   "execution_count": 177,
   "id": "6c3bb244",
   "metadata": {},
   "outputs": [
    {
     "name": "stdout",
     "output_type": "stream",
     "text": [
      "Found DECam. Adding to \"desired_instruments\" now.\n",
      "WARNING: we are not iterating over all rows to find instruments, just taking the first one.\n",
      "CPU times: user 85.5 ms, sys: 8.04 ms, total: 93.5 ms\n",
      "Wall time: 126 ms\n"
     ]
    }
   ],
   "source": [
    "%%time\n",
    "desired_instruments = getInstruments(butler=butler)"
   ]
  },
  {
   "cell_type": "markdown",
   "id": "47a434b2",
   "metadata": {},
   "source": [
    "### Butler Retrieval Example\n",
    "\n",
    "A quick stop to see how we can grab the full Butler record via a dataId."
   ]
  },
  {
   "cell_type": "code",
   "execution_count": 143,
   "id": "dfc37b54",
   "metadata": {},
   "outputs": [
    {
     "name": "stdout",
     "output_type": "stream",
     "text": [
      "CPU times: user 864 ms, sys: 221 ms, total: 1.09 s\n",
      "Wall time: 1.5 s\n"
     ]
    }
   ],
   "source": [
    "%%time\n",
    "# Back to the dataId, we can actually fetch the image from the Butler\n",
    "# NOTE: it takes about 1 second to do this, so we won't be able to do this at scale\n",
    "\n",
    "tmp = butler.get(desired_datasetTypes[0], collections=desired_collections, dataId=tmpref.dataId)"
   ]
  },
  {
   "cell_type": "code",
   "execution_count": 146,
   "id": "789f1d42",
   "metadata": {},
   "outputs": [
    {
     "data": {
      "text/plain": [
       "62"
      ]
     },
     "execution_count": 146,
     "metadata": {},
     "output_type": "execute_result"
    }
   ],
   "source": [
    "tmp.detector.getId()"
   ]
  },
  {
   "cell_type": "code",
   "execution_count": 149,
   "id": "351e8d03",
   "metadata": {},
   "outputs": [
    {
     "data": {
      "text/plain": [
       "'VR'"
      ]
     },
     "execution_count": 149,
     "metadata": {},
     "output_type": "execute_result"
    }
   ],
   "source": [
    "tmp.filterLabel.bandLabel"
   ]
  },
  {
   "cell_type": "code",
   "execution_count": 19,
   "id": "1c1e5431",
   "metadata": {},
   "outputs": [
    {
     "data": {
      "text/plain": [
       "<matplotlib.image.AxesImage at 0x7f6c9b3162e0>"
      ]
     },
     "execution_count": 19,
     "metadata": {},
     "output_type": "execute_result"
    },
    {
     "data": {
      "image/png": "[encoded data removed]",
      "text/plain": [
       "<Figure size 640x480 with 1 Axes>"
      ]
     },
     "metadata": {},
     "output_type": "display_data"
    }
   ],
   "source": [
    "# we can even view the image right here\n",
    "plt.imshow(tmp.image.array, cmap=\"gray\")"
   ]
  },
  {
   "cell_type": "code",
   "execution_count": 20,
   "id": "ba1b7ab6",
   "metadata": {},
   "outputs": [
    {
     "data": {
      "text/plain": [
       "FITS standard SkyWcs:\n",
       "Sky Origin: (352.4630539808, -4.8516830845)\n",
       "Pixel Origin: (1126.14, 1991.36)\n",
       "Pixel Scale: 0.262593 arcsec/pixel"
      ]
     },
     "execution_count": 20,
     "metadata": {},
     "output_type": "execute_result"
    }
   ],
   "source": [
    "# There IS a WCS here, which we did not see in the earlier VDR\n",
    "tmp.wcs"
   ]
  },
  {
   "cell_type": "code",
   "execution_count": 179,
   "id": "dc55de3a",
   "metadata": {},
   "outputs": [],
   "source": []
  },
  {
   "cell_type": "code",
   "execution_count": 180,
   "id": "4270995e",
   "metadata": {
    "scrolled": true
   },
   "outputs": [
    {
     "name": "stdout",
     "output_type": "stream",
     "text": [
      "Here are all the keywords available from this image:\n",
      "NEXTEND\n",
      "PROCTYPE\n",
      "PRODTYPE\n",
      "PIXSCAL1\n",
      "PIXSCAL2\n",
      "FILENAME\n",
      "TELESCOP\n",
      "OBSERVAT\n",
      "INSTRUME\n",
      "EXPREQ\n",
      "OBSID\n",
      "TIME-OBS\n",
      "OPENSHUT\n",
      "EXPNUM\n",
      "OBJECT\n",
      "OBSTYPE\n",
      "CAMSHUT\n",
      "PROGRAM\n",
      "OBSERVER\n",
      "PROPOSER\n",
      "DTPI\n",
      "PROPID\n",
      "EXCLUDED\n",
      "SEQID\n",
      "SEQNUM\n",
      "SEQTOT\n",
      "AOS\n",
      "BCAM\n",
      "GUIDER\n",
      "SKYSTAT\n",
      "FILTER\n",
      "INSTANCE\n",
      "ERRORS\n",
      "TELEQUIN\n",
      "TELSTAT\n",
      "RA\n",
      "DEC\n",
      "TELRA\n",
      "TELDEC\n",
      "HA\n",
      "ZD\n",
      "AZ\n",
      "DOMEAZ\n",
      "ZPDELRA\n",
      "ZPDELDEC\n",
      "TELFOCUS\n",
      "VSUB\n",
      "GSKYPHOT\n",
      "LSKYPHOT\n",
      "WINDSPD\n",
      "WINDDIR\n",
      "PRESSURE\n",
      "DIMMSEE\n",
      "DIMM2SEE\n",
      "MASS2\n",
      "ASTIG1\n",
      "ASTIG2\n",
      "OUTTEMP\n",
      "AIRMASS\n",
      "GSKYVAR\n",
      "GSKYHOT\n",
      "LSKYVAR\n",
      "LSKYHOT\n",
      "LSKYPOW\n",
      "MSURTEMP\n",
      "MAIRTEMP\n",
      "UPTRTEMP\n",
      "LWTRTEMP\n",
      "PMOSTEMP\n",
      "UTN-TEMP\n",
      "UTS-TEMP\n",
      "UTW-TEMP\n",
      "UTE-TEMP\n",
      "PMN-TEMP\n",
      "PMS-TEMP\n",
      "PMW-TEMP\n",
      "PME-TEMP\n",
      "DOMELOW\n",
      "DOMEHIGH\n",
      "DOMEFLOR\n",
      "G-MEANX\n",
      "G-MEANY\n",
      "DONUTFS4\n",
      "DONUTFS3\n",
      "DONUTFS2\n",
      "DONUTFS1\n",
      "G-FLXVAR\n",
      "G-MEANXY\n",
      "DONUTFN1\n",
      "DONUTFN2\n",
      "DONUTFN3\n",
      "DONUTFN4\n",
      "TIME_RECORDED\n",
      "G-FEEDBK\n",
      "G-CCDNUM\n",
      "DOXT\n",
      "G-MAXX\n",
      "FADZ\n",
      "FADY\n",
      "FADX\n",
      "G-MODE\n",
      "FAYT\n",
      "DODZ\n",
      "DODY\n",
      "DODX\n",
      "MULTIEXP\n",
      "SKYUPDAT\n",
      "G-SEEING\n",
      "G-TRANSP\n",
      "G-MEANY2\n",
      "DOYT\n",
      "G-LATENC\n",
      "LUTVER\n",
      "FAXT\n",
      "G-MAXY\n",
      "G-MEANX2\n",
      "SISPIVER\n",
      "CONSTVER\n",
      "HDRVER\n",
      "DTPROPID\n",
      "DTCALDAT\n",
      "DTSITE\n",
      "DTTELESC\n",
      "DTACQNAM\n",
      "DTINSTRU\n",
      "ODATEOBS\n",
      "DTNSANAM\n",
      "HISTORY\n",
      "COMMENT\n",
      "ZTENSION\n",
      "ZPCOUNT\n",
      "ZGCOUNT\n",
      "BUNIT\n",
      "DETSIZE\n",
      "DETSEC\n",
      "CCDSEC\n",
      "DETSECA\n",
      "CCDSECA\n",
      "AMPSECA\n",
      "DETSECB\n",
      "CCDSECB\n",
      "AMPSECB\n",
      "DETECTOR\n",
      "CCDNUM\n",
      "DETPOS\n",
      "EXTNAME\n",
      "GAINA\n",
      "RDNOISEA\n",
      "SATURATA\n",
      "GAINB\n",
      "RDNOISEB\n",
      "SATURATB\n",
      "FPA\n",
      "INHERIT\n",
      "CCDBIN1\n",
      "CCDBIN2\n",
      "DHEINF\n",
      "DHEFIRM\n",
      "SLOT00\n",
      "SLOT01\n",
      "SLOT02\n",
      "SLOT03\n",
      "SLOT04\n",
      "SLOT05\n",
      "LTV2\n",
      "LTV1\n",
      "VALIDA\n",
      "VALIDB\n",
      "NDONUTS\n",
      "CHECKVER\n",
      "ASTRO METADATA FIX MODIFIED\n",
      "ASTRO METADATA FIX DATE\n",
      "ISR_OSCAN_LEVELA\n",
      "ISR_OSCAN_SIGMAA\n",
      "OVERSCAN\n",
      "ISR_OSCAN_LEVELB\n",
      "ISR_OSCAN_SIGMAB\n",
      "SKYLEVEL\n",
      "SKYSIGMA\n",
      "FLATNESS_PP\n",
      "FLATNESS_RMS\n",
      "FLATNESS_NGRIDS\n",
      "FLATNESS_MESHX\n",
      "FLATNESS_MESHY\n",
      "BGMEAN\n",
      "BGVAR\n",
      "SFM_ASTROM_OFFSET_MEAN\n",
      "SFM_ASTROM_OFFSET_STD\n",
      "MAGZERO\n",
      "MAGZERO_RMS\n",
      "MAGZERO_NOBJ\n",
      "COLORTERM1\n",
      "COLORTERM2\n",
      "COLORTERM3\n"
     ]
    }
   ],
   "source": [
    "# We can access all kinds of metadata this way.\n",
    "# NOTE: keywords are source data-dependent.\n",
    "# NOTE: this linkage works with butler.get() but not necessarily elsewhere.\n",
    "meta = tmp.getInfo().getMetadata()\n",
    "\n",
    "print(f\"Here are all the keywords available from this image:\")\n",
    "for k in meta.keys():\n",
    "    print(k)"
   ]
  },
  {
   "cell_type": "markdown",
   "id": "d4f8d811",
   "metadata": {},
   "source": [
    "### URI / URL / Path Handling\n",
    "Here we grab URIs for the dataIds we need."
   ]
  },
  {
   "cell_type": "code",
   "execution_count": 152,
   "id": "6c6d2df2",
   "metadata": {},
   "outputs": [
    {
     "name": "stdout",
     "output_type": "stream",
     "text": [
      "CPU times: user 6 µs, sys: 0 ns, total: 6 µs\n",
      "Wall time: 14.3 µs\n"
     ]
    }
   ],
   "source": [
    "%%time\n",
    "\n",
    "# this is the single-thead approach; wanted 2 hours to executed\n",
    "\n",
    "doIt = False\n",
    "if doIt == True:\n",
    "    paths = []\n",
    "    with progressbar.ProgressBar(max_value=len(vdr_ids)) as bar:\n",
    "        for i, dataId in enumerate(vdr_ids):\n",
    "            my_path = butler.getURI(desired_datasetTypes[0], dataId=dataId, collections=desired_collections)\n",
    "            paths.append(my_path)\n",
    "            bar.update(i)\n",
    "# no progress bar (my original approach)\n",
    "# paths = [butler.getURI(desired_datasetTypes[0], dataId=dataId, collections=desired_collections) for dataId in vdr_ids]"
   ]
  },
  {
   "cell_type": "code",
   "execution_count": 63,
   "id": "92955300",
   "metadata": {},
   "outputs": [
    {
     "name": "stderr",
     "output_type": "stream",
     "text": [
      "100% (237 of 237) |######################| Elapsed Time: 0:01:03 Time:  0:01:03\n"
     ]
    },
    {
     "name": "stdout",
     "output_type": "stream",
     "text": [
      "CPU times: user 1.42 s, sys: 3.65 s, total: 5.08 s\n",
      "Wall time: 1min 21s\n"
     ]
    }
   ],
   "source": [
    "%%time\n",
    "\n",
    "# TODO: functionize\n",
    "\n",
    "paths = []\n",
    "\n",
    "# vdr_ids[0:1000] took 20s, chunking by 100;\n",
    "# vdr_ids[0:100] with chunking by 10 took 8 s\n",
    "subset = vdr_ids  # doing all with chunksize of 200 took 83s!\n",
    "\n",
    "# thank you ChatGPT 4 for helping parallelize\n",
    "\n",
    "from concurrent.futures import ProcessPoolExecutor, as_completed\n",
    "import progressbar\n",
    "\n",
    "\n",
    "# Function to divide vdr_ids into chunks of 100\n",
    "def chunked_dataIds(dataIds, chunk_size=200):\n",
    "    \"\"\"Yield successive chunk_size chunks from dataIds.\"\"\"\n",
    "    for i in range(0, len(dataIds), chunk_size):\n",
    "        yield dataIds[i : i + chunk_size]\n",
    "\n",
    "\n",
    "# The function that will be executed in parallel, now adjusted to handle a list of dataIds\n",
    "def get_uris(dataIds_chunk):\n",
    "    # Initialize an empty list to store URIs for this chunk\n",
    "    chunk_uris = []\n",
    "    # You might need to reinitialize the Butler instance here if it's not serializable or shareable across processes\n",
    "    butler = dafButler.Butler(repo_path)\n",
    "    for dataId in dataIds_chunk:\n",
    "        try:\n",
    "            uri = butler.getURI(desired_datasetTypes[0], dataId=dataId, collections=desired_collections)\n",
    "            uri = uri.geturl()  # just the text please\n",
    "            chunk_uris.append(uri)\n",
    "        except Exception as e:\n",
    "            print(f\"Failed to retrieve path for dataId {dataId}: {e}\")\n",
    "    return chunk_uris\n",
    "\n",
    "\n",
    "# Use ProcessPoolExecutor to execute get_uris in parallel processes\n",
    "with ProcessPoolExecutor() as executor:\n",
    "    # Prepare your dataId chunks\n",
    "    dataId_chunks = list(chunked_dataIds(subset))\n",
    "\n",
    "    # Initialize progress bar\n",
    "    with progressbar.ProgressBar(max_value=len(dataId_chunks)) as bar:\n",
    "        futures = {executor.submit(get_uris, chunk): chunk for chunk in dataId_chunks}\n",
    "\n",
    "        paths = []\n",
    "        for i, future in enumerate(as_completed(futures)):\n",
    "            # Retrieve the result of the future, which is the list of URIs for the chunk\n",
    "            uris = future.result()\n",
    "            paths.extend(uris)  # Add the retrieved URIs to the main list\n",
    "            bar.update(i)\n",
    "\n",
    "# At this point, `paths` will contain all successfully retrieved URIs for the chunks processed"
   ]
  },
  {
   "cell_type": "code",
   "execution_count": 64,
   "id": "d0e4dbc7",
   "metadata": {},
   "outputs": [
    {
     "data": {
      "text/plain": [
       "True"
      ]
     },
     "execution_count": 64,
     "metadata": {},
     "output_type": "execute_result"
    }
   ],
   "source": [
    "# make sure the number of paths we generated matches the number of vdr_ids\n",
    "len(paths) == len(vdr_ids)"
   ]
  },
  {
   "cell_type": "code",
   "execution_count": 66,
   "id": "eae8d366",
   "metadata": {},
   "outputs": [
    {
     "data": {
      "text/plain": [
       "'file:///epyc/users/smotherh/DEEP/PointingGroups/butler-repo/PointingGroup008/imdiff_r/20210803T142852Z/deepDiff_differenceExp/20190829/VR/VR_DECam_c0007_6300.0_2600.0/891505/deepDiff_differenceExp_DECam_VR_VR_DECam_c0007_6300_0_2600_0_891505_N28_PointingGroup008_imdiff_r_20210803T142852Z.fits'"
      ]
     },
     "execution_count": 66,
     "metadata": {},
     "output_type": "execute_result"
    }
   ],
   "source": [
    "# example URI\n",
    "paths[0]"
   ]
  },
  {
   "cell_type": "markdown",
   "id": "fb728cee",
   "metadata": {},
   "source": [
    "# Timestamp Handling Section\n",
    "Here we will access the timestamp (datetime) information from the Butler for our records."
   ]
  },
  {
   "cell_type": "code",
   "execution_count": 138,
   "id": "df7ff31f",
   "metadata": {},
   "outputs": [
    {
     "name": "stdout",
     "output_type": "stream",
     "text": [
      "0 DateTime(\"2019-09-27T00:20:59.932016000\", TAI) 120.0 (351.3806941054, -5.2403083277)\n"
     ]
    }
   ],
   "source": [
    "# Now we want to get metadata like datetime, exposure time, etc.\n",
    "for i, dataId in enumerate(vdr_ids):\n",
    "    visitInfo = butler.get(\"calexp.visitInfo\", dataId=dataId, collections=desired_collections)\n",
    "    print(i, visitInfo.date, visitInfo.exposureTime, visitInfo.boresightRaDec)\n",
    "    break\n",
    "# We have the visitInfo object for the exploration below."
   ]
  },
  {
   "cell_type": "code",
   "execution_count": 134,
   "id": "3ccadfaa",
   "metadata": {},
   "outputs": [
    {
     "data": {
      "text/plain": [
       "lsst.daf.base.dateTime.dateTime.DateTime"
      ]
     },
     "execution_count": 134,
     "metadata": {},
     "output_type": "execute_result"
    }
   ],
   "source": [
    "# That visitInfo.date format may not look familiar. Let's find out why:\n",
    "type(visitInfo.date)"
   ]
  },
  {
   "cell_type": "code",
   "execution_count": 139,
   "id": "d73d8119",
   "metadata": {},
   "outputs": [
    {
     "data": {
      "text/plain": [
       "'2019-09-27T00:20:22.932'"
      ]
     },
     "execution_count": 139,
     "metadata": {},
     "output_type": "execute_result"
    }
   ],
   "source": [
    "# Let's convert to a plain string, UTC (handles 37 s offset).\n",
    "t = Time(testing, format=\"isot\", scale=\"tai\")\n",
    "str(t.utc)"
   ]
  },
  {
   "cell_type": "code",
   "execution_count": 126,
   "id": "89822691",
   "metadata": {},
   "outputs": [],
   "source": [
    "def getTimestamps(dataIds, overwrite=False):\n",
    "    \"\"\"Get timestamps for a bunch of dataIds.\n",
    "    Convert the LSST/Butler TAI to UTC in the process.\n",
    "    Do this all in a chunked, multiprocessing way.\n",
    "    Takes about 3 minutes as of 2/1/2024 (Hayden DEEP).\n",
    "    BUT if we have the values cached, just read those instead, unless overwrite is True.\n",
    "    2/1/2024 COC\n",
    "    \"\"\"\n",
    "    # thank you ChatGPT 4 for helping parallelize\n",
    "\n",
    "    timestamps = []\n",
    "\n",
    "    import glob\n",
    "\n",
    "    cache_file = f\"{basedir}/vdr_timestamps.lst\"\n",
    "\n",
    "    cache_file_exists = False\n",
    "    if len(glob.glob(cache_file)) > 0:\n",
    "        cache_file_exists = True\n",
    "\n",
    "    if overwrite == False and cache_file_exists == True:\n",
    "        print(f\"Overwrite is False, so we will read the timestamps from file now...\")\n",
    "        with open(cache_file, \"r\") as f:\n",
    "            for line in f:\n",
    "                timestamps.append(line.strip())\n",
    "        print(f\"Recycled {len(timestamps)} from {cache_file}.\")\n",
    "        return timestamps\n",
    "\n",
    "    # Function to divide vdr_ids into chunks of 100\n",
    "    def chunked_dataIds(dataIds, chunk_size=200):\n",
    "        \"\"\"Yield successive chunk_size chunks from dataIds.\"\"\"\n",
    "        for i in range(0, len(dataIds), chunk_size):\n",
    "            yield dataIds[i : i + chunk_size]\n",
    "\n",
    "    # The function that will be executed in parallel, now adjusted to handle a list of dataIds\n",
    "    def get_timestamps(dataIds_chunk):\n",
    "        # Initialize an empty list to store URIs for this chunk\n",
    "        chunked_data = []\n",
    "        # You might need to reinitialize the Butler instance here if it's not serializable or shareable across processes\n",
    "        butler = dafButler.Butler(repo_path)\n",
    "        for dataId in dataIds_chunk:\n",
    "            try:\n",
    "                visitInfo = butler.get(\"calexp.visitInfo\", dataId=dataId, collections=desired_collections)\n",
    "                t = Time(str(visitInfo.date).split('\"')[1], format=\"isot\", scale=\"tai\")\n",
    "                tutc = str(t.utc)\n",
    "                chunked_data.append(tutc)\n",
    "            except Exception as e:\n",
    "                print(f\"Failed to retrieve timestamp for dataId {dataId}: {e}\")\n",
    "        return chunked_data\n",
    "\n",
    "    # Use ProcessPoolExecutor to execute get_uris in parallel processes\n",
    "    with ProcessPoolExecutor() as executor:\n",
    "        # Prepare your dataId chunks\n",
    "        dataId_chunks = list(chunked_dataIds(dataIds))\n",
    "\n",
    "        # Initialize progress bar\n",
    "        with progressbar.ProgressBar(max_value=len(dataId_chunks)) as bar:\n",
    "            futures = {executor.submit(get_timestamps, chunk): chunk for chunk in dataId_chunks}\n",
    "\n",
    "            paths = []\n",
    "            for i, future in enumerate(as_completed(futures)):\n",
    "                # Retrieve the result of the future, which is the list of URIs for the chunk\n",
    "                timestamps = future.result()\n",
    "                timestamps.extend(timestamps)  # Add the retrieved URIs to the main list\n",
    "                bar.update(i)\n",
    "\n",
    "    if overwrite == True or cache_file_exists == False:\n",
    "        with open(cache_file, \"w\") as f:\n",
    "            for ts in timestamps:\n",
    "                print(ts, file=f)\n",
    "        print(f\"Wrote {len(timestamps)} lines to {cache_file} for future use.\")\n",
    "\n",
    "    print(f\"Obtained {len(timestamps)} timestamps.\")\n",
    "    return timestamps"
   ]
  },
  {
   "cell_type": "code",
   "execution_count": 128,
   "id": "7e0d33c0",
   "metadata": {},
   "outputs": [
    {
     "name": "stdout",
     "output_type": "stream",
     "text": [
      "Overwrite is False, so we will read the timestamps from file now...\n",
      "Recycled 47383 from /astro/users/coc123/kbmod_tmp/vdr_timestamps.lst.\n",
      "CPU times: user 13.5 ms, sys: 10.7 ms, total: 24.2 ms\n",
      "Wall time: 23.4 ms\n"
     ]
    }
   ],
   "source": [
    "%%time\n",
    "vdr_timestamps = getTimestamps(dataIds=vdr_ids, overwrite=False)"
   ]
  },
  {
   "cell_type": "code",
   "execution_count": 272,
   "id": "7ec4fb96",
   "metadata": {},
   "outputs": [],
   "source": [
    "# NOTE: getURIs() does not work as you'd think (i.e., it only handles a single dataId)\n",
    "# butler.getURIs(desired_datasetTypes[0], vdr_ids, collections=desired_collections)"
   ]
  },
  {
   "cell_type": "markdown",
   "id": "6f355bcf",
   "metadata": {},
   "source": [
    "### Working with the Regions\n",
    "\n",
    "We still don't know what will be ideal to do for Region Search.\\\n",
    "So, to start with, we will work on extract the (RA, Dec) of the (1) center coordinate of a chip, and (2) four corners associated with a chip."
   ]
  },
  {
   "cell_type": "markdown",
   "id": "f060a724",
   "metadata": {},
   "source": [
    "#### We will start with corners (i.e., quadilateral vertices from the convexPolygon sphgeom.regions)"
   ]
  },
  {
   "cell_type": "code",
   "execution_count": 183,
   "id": "e45d7199",
   "metadata": {},
   "outputs": [],
   "source": [
    "def getRegionCorners(region):\n",
    "    \"\"\"\n",
    "    Using the 2D boundingBox() from an input region (convexPolygon), we\n",
    "    extract the (RA, Dec) coordinates of each vertex.\n",
    "    As there are four vertices, the input object is a quadrilateral.\n",
    "    2/2/2024 COC\n",
    "    \"\"\"\n",
    "    corners = []\n",
    "    bbox = region.getBoundingBox()\n",
    "    corners.append((bbox.getLon().getA().asDegrees(), bbox.getLat().getA().asDegrees()))\n",
    "    corners.append((bbox.getLon().getA().asDegrees(), bbox.getLat().getB().asDegrees()))\n",
    "    corners.append((bbox.getLon().getB().asDegrees(), bbox.getLat().getA().asDegrees()))\n",
    "    corners.append((bbox.getLon().getB().asDegrees(), bbox.getLat().getB().asDegrees()))\n",
    "    return corners"
   ]
  },
  {
   "cell_type": "code",
   "execution_count": 194,
   "id": "9b278b50",
   "metadata": {},
   "outputs": [
    {
     "data": {
      "text/plain": [
       "[(352.30950511932116, -4.930880058593892),\n",
       " (352.30950511932116, -4.7450820235469715),\n",
       " (352.64644359666477, -4.930880058593892),\n",
       " (352.64644359666477, -4.7450820235469715)]"
      ]
     },
     "execution_count": 194,
     "metadata": {},
     "output_type": "execute_result"
    }
   ],
   "source": [
    "# Example\n",
    "corners = getRegionCorners(tmpref.region)\n",
    "corners"
   ]
  },
  {
   "cell_type": "code",
   "execution_count": 190,
   "id": "b37bfe47",
   "metadata": {},
   "outputs": [],
   "source": [
    "def getMinMaxRaDec(ra_dec_touples, verbose=False):\n",
    "    \"\"\"\n",
    "    Highly unoptimized way to find and return\n",
    "    (minRA, maxRA) and (minDec, MaxDec).\n",
    "    2/2/2024 COC\n",
    "    \"\"\"\n",
    "    min_ra = min([i[0] for i in ra_dec_touples])\n",
    "    min_dec = min([i[1] for i in ra_dec_touples])\n",
    "    max_ra = max([i[0] for i in ra_dec_touples])\n",
    "    max_dec = max([i[1] for i in ra_dec_touples])\n",
    "    if verbose:\n",
    "        print(f\"RA range: {min_ra} to {max_ra}\")\n",
    "        print(f\"Dec range: {min_dec} to {max_dec}\")\n",
    "    return (min_ra, max_ra), (min_dec, max_dec)"
   ]
  },
  {
   "cell_type": "code",
   "execution_count": 195,
   "id": "ef329736",
   "metadata": {},
   "outputs": [
    {
     "data": {
      "text/plain": [
       "((352.30950511932116, 352.64644359666477),\n",
       " (-4.930880058593892, -4.7450820235469715))"
      ]
     },
     "execution_count": 195,
     "metadata": {},
     "output_type": "execute_result"
    }
   ],
   "source": [
    "# Example\n",
    "getMinMaxRaDec(ra_dec_touples=corners)"
   ]
  },
  {
   "cell_type": "markdown",
   "id": "d95593bb",
   "metadata": {},
   "source": [
    "#### Centers\n",
    "\n",
    "It may be easer to just work with center (RA, Dec) coordinates.\\\n",
    "We can later store this in a DB (e.g., Postgres) for cone searches."
   ]
  },
  {
   "cell_type": "code",
   "execution_count": 181,
   "id": "4c89be9e",
   "metadata": {},
   "outputs": [],
   "source": [
    "def getCenterRaDec(region):\n",
    "    \"\"\"\n",
    "    We pull the 2D boundingBox (not the boundingBox3d) from a region.\n",
    "    Then we extract the center's (RA, Dec) coordinates.\n",
    "    2/2/2024 COC\n",
    "    \"\"\"\n",
    "    bbox_center = region.getBoundingBox().getCenter()\n",
    "    ra = bbox_center.getLon().asDegrees()\n",
    "    dec = bbox_center.getLat().asDegrees()\n",
    "    return (ra, dec)"
   ]
  },
  {
   "cell_type": "code",
   "execution_count": 182,
   "id": "8e1e764c",
   "metadata": {},
   "outputs": [
    {
     "data": {
      "text/plain": [
       "(352.477974357993, -4.837981041070432)"
      ]
     },
     "execution_count": 182,
     "metadata": {},
     "output_type": "execute_result"
    }
   ],
   "source": [
    "getCenterRaDec(tmpref.region)"
   ]
  },
  {
   "cell_type": "code",
   "execution_count": 192,
   "id": "8e54db29",
   "metadata": {},
   "outputs": [
    {
     "name": "stdout",
     "output_type": "stream",
     "text": [
      "CPU times: user 483 ms, sys: 99.9 ms, total: 583 ms\n",
      "Wall time: 1.1 s\n"
     ]
    }
   ],
   "source": [
    "%%time\n",
    "vdr_centers = [getCenterRaDec(i) for i in vdr_regions]"
   ]
  },
  {
   "cell_type": "code",
   "execution_count": 193,
   "id": "64908868",
   "metadata": {},
   "outputs": [
    {
     "data": {
      "text/plain": [
       "47383"
      ]
     },
     "execution_count": 193,
     "metadata": {},
     "output_type": "execute_result"
    }
   ],
   "source": [
    "len(vdr_centers)"
   ]
  },
  {
   "cell_type": "code",
   "execution_count": 195,
   "id": "625de417",
   "metadata": {},
   "outputs": [
    {
     "data": {
      "text/plain": [
       "(351.0694028401149, -4.336598368890197)"
      ]
     },
     "execution_count": 195,
     "metadata": {},
     "output_type": "execute_result"
    }
   ],
   "source": [
    "vdr_centers[0]"
   ]
  },
  {
   "cell_type": "code",
   "execution_count": 196,
   "id": "67b57215",
   "metadata": {},
   "outputs": [
    {
     "data": {
      "text/plain": [
       "<matplotlib.collections.PathCollection at 0x7f6fb1d41af0>"
      ]
     },
     "execution_count": 196,
     "metadata": {},
     "output_type": "execute_result"
    },
    {
     "data": {
      "image/png": "[encoded data removed]",
      "text/plain": [
       "<Figure size 400x400 with 1 Axes>"
      ]
     },
     "metadata": {},
     "output_type": "display_data"
    }
   ],
   "source": [
    "# Let us visualize where on the sky our chip centers reside\n",
    "fig = plt.figure(figsize=(4, 4))\n",
    "plt.xlabel(\"RA\")\n",
    "plt.ylabel(\"Dec\")\n",
    "plt.scatter([i[0] for i in vdr_centers], [i[1] for i in vdr_centers], s=1, alpha=0.5)"
   ]
  },
  {
   "cell_type": "markdown",
   "id": "41d4fd38",
   "metadata": {},
   "source": [
    "The DECam mosaic shape is clearly visible, thrice.\\\n",
    "There is an offset from each of the three pointings, too.\n",
    "\n",
    "In the most simple approach, each of these \"dots\" represents a set of images that can be fed to KBMOD."
   ]
  },
  {
   "cell_type": "code",
   "execution_count": 214,
   "id": "644d94aa",
   "metadata": {},
   "outputs": [],
   "source": [
    "# NEXT WE WILL ASSEMBLE A DATAFRAME"
   ]
  },
  {
   "cell_type": "code",
   "execution_count": 219,
   "id": "ba60e68c",
   "metadata": {},
   "outputs": [],
   "source": [
    "%%time\n",
    "df_dict = {}\n",
    "df_dict[\"data_id\"] = vdr_ids\n",
    "df_dict[\"ut\"] = vdr_timestamps\n",
    "df_dict[\"detector\"] = vdr_detectors\n",
    "df_dict[\"center_coord\"] = vdr_centers\n",
    "# df_dict['region'] = vdr_regions # still mulling this over, maybe we do not need full objects 2/2/2024 COC\n",
    "\n",
    "df = pd.DataFrame.from_dict(df_dict)"
   ]
  },
  {
   "cell_type": "code",
   "execution_count": 221,
   "id": "d73a36b2",
   "metadata": {},
   "outputs": [
    {
     "data": {
      "text/html": [
       "<div>\n",
       "<style scoped>\n",
       "    .dataframe tbody tr th:only-of-type {\n",
       "        vertical-align: middle;\n",
       "    }\n",
       "\n",
       "    .dataframe tbody tr th {\n",
       "        vertical-align: top;\n",
       "    }\n",
       "\n",
       "    .dataframe thead th {\n",
       "        text-align: right;\n",
       "    }\n",
       "</style>\n",
       "<table border=\"1\" class=\"dataframe\">\n",
       "  <thead>\n",
       "    <tr style=\"text-align: right;\">\n",
       "      <th></th>\n",
       "      <th>data_id</th>\n",
       "      <th>ut</th>\n",
       "      <th>detector</th>\n",
       "      <th>center_coord</th>\n",
       "    </tr>\n",
       "  </thead>\n",
       "  <tbody>\n",
       "    <tr>\n",
       "      <th>0</th>\n",
       "      <td>(instrument, detector, visit)</td>\n",
       "      <td>2019-09-27T00:20:22.932</td>\n",
       "      <td>1</td>\n",
       "      <td>(351.0694028401149, -4.336598368890197)</td>\n",
       "    </tr>\n",
       "    <tr>\n",
       "      <th>1</th>\n",
       "      <td>(instrument, detector, visit)</td>\n",
       "      <td>2019-09-27T00:22:51.015</td>\n",
       "      <td>1</td>\n",
       "      <td>(351.0695696334572, -4.336293374423113)</td>\n",
       "    </tr>\n",
       "    <tr>\n",
       "      <th>2</th>\n",
       "      <td>(instrument, detector, visit)</td>\n",
       "      <td>2019-09-27T00:25:19.136</td>\n",
       "      <td>1</td>\n",
       "      <td>(351.0696571334576, -4.336293374415341)</td>\n",
       "    </tr>\n",
       "    <tr>\n",
       "      <th>3</th>\n",
       "      <td>(instrument, detector, visit)</td>\n",
       "      <td>2019-09-27T00:27:47.118</td>\n",
       "      <td>1</td>\n",
       "      <td>(351.069611300124, -4.336293374419411)</td>\n",
       "    </tr>\n",
       "    <tr>\n",
       "      <th>4</th>\n",
       "      <td>(instrument, detector, visit)</td>\n",
       "      <td>2019-09-27T00:30:15.537</td>\n",
       "      <td>1</td>\n",
       "      <td>(351.0695696451088, -4.336265319377865)</td>\n",
       "    </tr>\n",
       "    <tr>\n",
       "      <th>...</th>\n",
       "      <td>...</td>\n",
       "      <td>...</td>\n",
       "      <td>...</td>\n",
       "      <td>...</td>\n",
       "    </tr>\n",
       "    <tr>\n",
       "      <th>47378</th>\n",
       "      <td>(instrument, detector, visit)</td>\n",
       "      <td>2020-10-17T03:33:36.950</td>\n",
       "      <td>62</td>\n",
       "      <td>(352.4779285369392, -4.838007985003787)</td>\n",
       "    </tr>\n",
       "    <tr>\n",
       "      <th>47379</th>\n",
       "      <td>(instrument, detector, visit)</td>\n",
       "      <td>2020-10-17T03:36:05.017</td>\n",
       "      <td>62</td>\n",
       "      <td>(352.4778993579928, -4.83798104107715)</td>\n",
       "    </tr>\n",
       "    <tr>\n",
       "      <th>47380</th>\n",
       "      <td>(instrument, detector, visit)</td>\n",
       "      <td>2020-10-17T03:38:33.955</td>\n",
       "      <td>62</td>\n",
       "      <td>(352.47792852465943, -4.837981041074541)</td>\n",
       "    </tr>\n",
       "    <tr>\n",
       "      <th>47381</th>\n",
       "      <td>(instrument, detector, visit)</td>\n",
       "      <td>2020-10-17T03:41:03.154</td>\n",
       "      <td>62</td>\n",
       "      <td>(352.47792852465943, -4.837981041074541)</td>\n",
       "    </tr>\n",
       "    <tr>\n",
       "      <th>47382</th>\n",
       "      <td>(instrument, detector, visit)</td>\n",
       "      <td>2020-10-17T03:43:31.999</td>\n",
       "      <td>62</td>\n",
       "      <td>(352.477974357993, -4.837981041070432)</td>\n",
       "    </tr>\n",
       "  </tbody>\n",
       "</table>\n",
       "<p>47383 rows × 4 columns</p>\n",
       "</div>"
      ],
      "text/plain": [
       "                             data_id                       ut  detector   \n",
       "0      (instrument, detector, visit)  2019-09-27T00:20:22.932         1  \\\n",
       "1      (instrument, detector, visit)  2019-09-27T00:22:51.015         1   \n",
       "2      (instrument, detector, visit)  2019-09-27T00:25:19.136         1   \n",
       "3      (instrument, detector, visit)  2019-09-27T00:27:47.118         1   \n",
       "4      (instrument, detector, visit)  2019-09-27T00:30:15.537         1   \n",
       "...                              ...                      ...       ...   \n",
       "47378  (instrument, detector, visit)  2020-10-17T03:33:36.950        62   \n",
       "47379  (instrument, detector, visit)  2020-10-17T03:36:05.017        62   \n",
       "47380  (instrument, detector, visit)  2020-10-17T03:38:33.955        62   \n",
       "47381  (instrument, detector, visit)  2020-10-17T03:41:03.154        62   \n",
       "47382  (instrument, detector, visit)  2020-10-17T03:43:31.999        62   \n",
       "\n",
       "                                   center_coord  \n",
       "0       (351.0694028401149, -4.336598368890197)  \n",
       "1       (351.0695696334572, -4.336293374423113)  \n",
       "2       (351.0696571334576, -4.336293374415341)  \n",
       "3        (351.069611300124, -4.336293374419411)  \n",
       "4       (351.0695696451088, -4.336265319377865)  \n",
       "...                                         ...  \n",
       "47378   (352.4779285369392, -4.838007985003787)  \n",
       "47379    (352.4778993579928, -4.83798104107715)  \n",
       "47380  (352.47792852465943, -4.837981041074541)  \n",
       "47381  (352.47792852465943, -4.837981041074541)  \n",
       "47382    (352.477974357993, -4.837981041070432)  \n",
       "\n",
       "[47383 rows x 4 columns]"
      ]
     },
     "execution_count": 221,
     "metadata": {},
     "output_type": "execute_result"
    }
   ],
   "source": [
    "df"
   ]
  },
  {
   "cell_type": "code",
   "execution_count": 223,
   "id": "c2dc4e1a",
   "metadata": {},
   "outputs": [
    {
     "data": {
      "text/plain": [
       "{instrument: 'DECam', detector: 1, visit: 898286}"
      ]
     },
     "execution_count": 223,
     "metadata": {},
     "output_type": "execute_result"
    }
   ],
   "source": [
    "# look at the first dataId, which does not show up in a pretty way in the DF\n",
    "df[\"data_id\"].iloc[0]"
   ]
  },
  {
   "cell_type": "code",
   "execution_count": 226,
   "id": "580ac4ed",
   "metadata": {},
   "outputs": [
    {
     "data": {
      "text/html": [
       "<div>\n",
       "<style scoped>\n",
       "    .dataframe tbody tr th:only-of-type {\n",
       "        vertical-align: middle;\n",
       "    }\n",
       "\n",
       "    .dataframe tbody tr th {\n",
       "        vertical-align: top;\n",
       "    }\n",
       "\n",
       "    .dataframe thead th {\n",
       "        text-align: right;\n",
       "    }\n",
       "</style>\n",
       "<table border=\"1\" class=\"dataframe\">\n",
       "  <thead>\n",
       "    <tr style=\"text-align: right;\">\n",
       "      <th></th>\n",
       "      <th>data_id</th>\n",
       "      <th>ut</th>\n",
       "      <th>detector</th>\n",
       "      <th>center_coord</th>\n",
       "    </tr>\n",
       "  </thead>\n",
       "  <tbody>\n",
       "    <tr>\n",
       "      <th>5644</th>\n",
       "      <td>(instrument, detector, visit)</td>\n",
       "      <td>2019-08-29T07:16:03.693</td>\n",
       "      <td>62</td>\n",
       "      <td>(351.69307656022727, -6.143624107225388)</td>\n",
       "    </tr>\n",
       "    <tr>\n",
       "      <th>5645</th>\n",
       "      <td>(instrument, detector, visit)</td>\n",
       "      <td>2019-08-29T07:18:31.270</td>\n",
       "      <td>62</td>\n",
       "      <td>(351.6932430489372, -6.143319112795237)</td>\n",
       "    </tr>\n",
       "    <tr>\n",
       "      <th>5646</th>\n",
       "      <td>(instrument, detector, visit)</td>\n",
       "      <td>2019-08-29T07:20:59.790</td>\n",
       "      <td>62</td>\n",
       "      <td>(351.69333054893764, -6.143319112787463)</td>\n",
       "    </tr>\n",
       "    <tr>\n",
       "      <th>5647</th>\n",
       "      <td>(instrument, detector, visit)</td>\n",
       "      <td>2019-08-29T07:23:27.901</td>\n",
       "      <td>62</td>\n",
       "      <td>(351.69328471560397, -6.143319112791537)</td>\n",
       "    </tr>\n",
       "    <tr>\n",
       "      <th>5648</th>\n",
       "      <td>(instrument, detector, visit)</td>\n",
       "      <td>2019-08-29T07:25:55.714</td>\n",
       "      <td>62</td>\n",
       "      <td>(351.6932430325679, -6.143291057753383)</td>\n",
       "    </tr>\n",
       "    <tr>\n",
       "      <th>...</th>\n",
       "      <td>...</td>\n",
       "      <td>...</td>\n",
       "      <td>...</td>\n",
       "      <td>...</td>\n",
       "    </tr>\n",
       "    <tr>\n",
       "      <th>47378</th>\n",
       "      <td>(instrument, detector, visit)</td>\n",
       "      <td>2020-10-17T03:33:36.950</td>\n",
       "      <td>62</td>\n",
       "      <td>(352.4779285369392, -4.838007985003787)</td>\n",
       "    </tr>\n",
       "    <tr>\n",
       "      <th>47379</th>\n",
       "      <td>(instrument, detector, visit)</td>\n",
       "      <td>2020-10-17T03:36:05.017</td>\n",
       "      <td>62</td>\n",
       "      <td>(352.4778993579928, -4.83798104107715)</td>\n",
       "    </tr>\n",
       "    <tr>\n",
       "      <th>47380</th>\n",
       "      <td>(instrument, detector, visit)</td>\n",
       "      <td>2020-10-17T03:38:33.955</td>\n",
       "      <td>62</td>\n",
       "      <td>(352.47792852465943, -4.837981041074541)</td>\n",
       "    </tr>\n",
       "    <tr>\n",
       "      <th>47381</th>\n",
       "      <td>(instrument, detector, visit)</td>\n",
       "      <td>2020-10-17T03:41:03.154</td>\n",
       "      <td>62</td>\n",
       "      <td>(352.47792852465943, -4.837981041074541)</td>\n",
       "    </tr>\n",
       "    <tr>\n",
       "      <th>47382</th>\n",
       "      <td>(instrument, detector, visit)</td>\n",
       "      <td>2020-10-17T03:43:31.999</td>\n",
       "      <td>62</td>\n",
       "      <td>(352.477974357993, -4.837981041070432)</td>\n",
       "    </tr>\n",
       "  </tbody>\n",
       "</table>\n",
       "<p>781 rows × 4 columns</p>\n",
       "</div>"
      ],
      "text/plain": [
       "                             data_id                       ut  detector   \n",
       "5644   (instrument, detector, visit)  2019-08-29T07:16:03.693        62  \\\n",
       "5645   (instrument, detector, visit)  2019-08-29T07:18:31.270        62   \n",
       "5646   (instrument, detector, visit)  2019-08-29T07:20:59.790        62   \n",
       "5647   (instrument, detector, visit)  2019-08-29T07:23:27.901        62   \n",
       "5648   (instrument, detector, visit)  2019-08-29T07:25:55.714        62   \n",
       "...                              ...                      ...       ...   \n",
       "47378  (instrument, detector, visit)  2020-10-17T03:33:36.950        62   \n",
       "47379  (instrument, detector, visit)  2020-10-17T03:36:05.017        62   \n",
       "47380  (instrument, detector, visit)  2020-10-17T03:38:33.955        62   \n",
       "47381  (instrument, detector, visit)  2020-10-17T03:41:03.154        62   \n",
       "47382  (instrument, detector, visit)  2020-10-17T03:43:31.999        62   \n",
       "\n",
       "                                   center_coord  \n",
       "5644   (351.69307656022727, -6.143624107225388)  \n",
       "5645    (351.6932430489372, -6.143319112795237)  \n",
       "5646   (351.69333054893764, -6.143319112787463)  \n",
       "5647   (351.69328471560397, -6.143319112791537)  \n",
       "5648    (351.6932430325679, -6.143291057753383)  \n",
       "...                                         ...  \n",
       "47378   (352.4779285369392, -4.838007985003787)  \n",
       "47379    (352.4778993579928, -4.83798104107715)  \n",
       "47380  (352.47792852465943, -4.837981041074541)  \n",
       "47381  (352.47792852465943, -4.837981041074541)  \n",
       "47382    (352.477974357993, -4.837981041070432)  \n",
       "\n",
       "[781 rows x 4 columns]"
      ]
     },
     "execution_count": 226,
     "metadata": {},
     "output_type": "execute_result"
    }
   ],
   "source": [
    "df62 = df[df[\"detector\"] == 62]\n",
    "df62"
   ]
  },
  {
   "cell_type": "code",
   "execution_count": 235,
   "id": "811de572",
   "metadata": {},
   "outputs": [
    {
     "data": {
      "text/plain": [
       "<matplotlib.collections.PathCollection at 0x7f6c92047490>"
      ]
     },
     "execution_count": 235,
     "metadata": {},
     "output_type": "execute_result"
    },
    {
     "data": {
      "image/png": "[encoded data removed]",
      "text/plain": [
       "<Figure size 640x480 with 1 Axes>"
      ]
     },
     "metadata": {},
     "output_type": "display_data"
    }
   ],
   "source": [
    "plt.clf()\n",
    "plt.scatter(*zip(*df62[\"center_coord\"]), s=1, alpha=0.5)"
   ]
  },
  {
   "cell_type": "code",
   "execution_count": 237,
   "id": "6ee544b8",
   "metadata": {},
   "outputs": [],
   "source": [
    "# chip62_coord0 = df62['center_coord'][0]"
   ]
  },
  {
   "cell_type": "code",
   "execution_count": null,
   "id": "ac331672",
   "metadata": {},
   "outputs": [],
   "source": []
  },
  {
   "cell_type": "code",
   "execution_count": null,
   "id": "a36fedeb",
   "metadata": {},
   "outputs": [],
   "source": []
  },
  {
   "cell_type": "markdown",
   "id": "df7d441d",
   "metadata": {},
   "source": [
    "### Region Matching\n",
    "Here region matching means comparing two lsst.sphgeom.region objects.\\\n",
    "Purpose: to see if they have any overlap whatsoever. \\\n",
    "NOTE: a partial or full overlap is called an \"intersection\" in sphgeom lingo.\n",
    "\n",
    "NOTE: Work in progress, but pausing this avenue for now. 2/2/2024 COC"
   ]
  },
  {
   "cell_type": "code",
   "execution_count": 216,
   "id": "2c770982",
   "metadata": {},
   "outputs": [
    {
     "name": "stderr",
     "output_type": "stream",
     "text": [
      "  3% (1468 of 47383) |                   | Elapsed Time: 0:01:39 ETA:   0:52:55\n"
     ]
    },
    {
     "ename": "KeyboardInterrupt",
     "evalue": "",
     "output_type": "error",
     "traceback": [
      "\u001b[0;31m---------------------------------------------------------------------------\u001b[0m",
      "\u001b[0;31mKeyboardInterrupt\u001b[0m                         Traceback (most recent call last)",
      "Cell \u001b[0;32mIn[216], line 9\u001b[0m\n\u001b[1;32m      7\u001b[0m my_id \u001b[38;5;241m=\u001b[39m vdr_ids[i]\n\u001b[1;32m      8\u001b[0m matches[my_id] \u001b[38;5;241m=\u001b[39m []\n\u001b[0;32m----> 9\u001b[0m \u001b[38;5;28;01mfor\u001b[39;00m j,r \u001b[38;5;129;01min\u001b[39;00m \u001b[38;5;28menumerate\u001b[39m(vdr_regions):\n\u001b[1;32m     10\u001b[0m     \u001b[38;5;28;01mif\u001b[39;00m i \u001b[38;5;241m==\u001b[39m j: \u001b[38;5;28;01mcontinue\u001b[39;00m\n\u001b[1;32m     11\u001b[0m     \u001b[38;5;28;01mif\u001b[39;00m l\u001b[38;5;241m.\u001b[39mintersects(r):\n",
      "\u001b[0;31mKeyboardInterrupt\u001b[0m: "
     ]
    }
   ],
   "source": [
    "# manual region-region matching between all chips\n",
    "# NOTE: estimate time is 1 hour, so skipping this for now\n",
    "\n",
    "doit = False\n",
    "if doit == True:\n",
    "    lastTime = time.time()\n",
    "\n",
    "    matches = {}\n",
    "\n",
    "    with progressbar.ProgressBar(max_value=len(vdr_regions)) as bar:\n",
    "        for i, l in enumerate(vdr_regions):\n",
    "            my_id = vdr_ids[i]\n",
    "            matches[my_id] = []\n",
    "            for j, r in enumerate(vdr_regions):\n",
    "                if i == j:\n",
    "                    continue\n",
    "                if l.intersects(r):\n",
    "                    matches[my_id].append(vdr_ids[j])\n",
    "            bar.update(i)\n",
    "    elapsed = round(time.time() - lastTime, 1)\n",
    "    print(f\"It took {elapsed} seconds.\")"
   ]
  },
  {
   "cell_type": "markdown",
   "id": "f00d9b2f",
   "metadata": {},
   "source": [
    "### HTM Exploration"
   ]
  },
  {
   "cell_type": "code",
   "execution_count": 202,
   "id": "2fcdd8b3",
   "metadata": {},
   "outputs": [],
   "source": [
    "# Colin playing 1/15/2024 COC\n",
    "def getHTMstuff(ra, dec, level=7, verbose=False):\n",
    "    \"\"\"\n",
    "    1/16/2024 COC inception.\n",
    "    A function that\n",
    "        1. Fetches an HTM ID for a pixelization of a user-supplied level.\n",
    "        2. Determines the angular size (radius, in arcseconds) of the pixelization level.\n",
    "    LSST stores the unique HTM ID for level 7 pixelization in the Butler, hence the default level=7.\n",
    "    \"\"\"\n",
    "    pixelization = lsst.sphgeom.HtmPixelization(level)\n",
    "\n",
    "    try:  # kludges; use the Butler way, but if being passed normal numbers, use those\n",
    "        ra = ra.asDegrees()\n",
    "    except AttributeError as msg:\n",
    "        pass\n",
    "    try:\n",
    "        dec = dec.asDegrees()\n",
    "    except AttributeError as msg:\n",
    "        pass\n",
    "\n",
    "    htm_id = pixelization.index(\n",
    "        lsst.sphgeom.UnitVector3d(\n",
    "            # sphgeom.LonLat.fromDegrees(ra.asDegrees(), dec.asDegrees())\n",
    "            lsst.sphgeom.LonLat.fromDegrees(ra, dec)\n",
    "        )\n",
    "    )\n",
    "    circle = pixelization.triangle(htm_id).getBoundingCircle()\n",
    "    scale = circle.getOpeningAngle().asDegrees() * 3600.0\n",
    "    level = pixelization.getLevel()\n",
    "    if verbose:\n",
    "        print(f\"HTM ID={htm_id} at level={level} is bounded by a circle of radius ~{scale:0.2f} arcsec.\")\n",
    "    return (htm_id, scale)"
   ]
  },
  {
   "cell_type": "code",
   "execution_count": 204,
   "id": "c0916372",
   "metadata": {},
   "outputs": [
    {
     "name": "stdout",
     "output_type": "stream",
     "text": [
      "HTM ID=189361 at level=7 is bounded by a circle of radius ~1895.11 arcsec.\n"
     ]
    },
    {
     "data": {
      "text/plain": [
       "(189361, 1895.111766130883)"
      ]
     },
     "execution_count": 204,
     "metadata": {},
     "output_type": "execute_result"
    }
   ],
   "source": [
    "getHTMstuff(vdr_centers[0][0], vdr_centers[0][1], verbose=True)"
   ]
  },
  {
   "cell_type": "code",
   "execution_count": 238,
   "id": "47c447c5",
   "metadata": {},
   "outputs": [
    {
     "name": "stdout",
     "output_type": "stream",
     "text": [
      "0\n"
     ]
    }
   ],
   "source": [
    "dsRefs = butler.registry.queryDatasets(\n",
    "    datasetType=desired_datasetTypes[0], htm7=147116, collections=desired_collections\n",
    ")\n",
    "print(len(sorted(dsRefs)))"
   ]
  },
  {
   "cell_type": "markdown",
   "id": "10339ac6",
   "metadata": {},
   "source": [
    "### Brute force approach for (small) discrete datasets\n",
    "\n",
    "The idea here is that we can organize piles of images."
   ]
  },
  {
   "cell_type": "code",
   "execution_count": 271,
   "id": "048e38e1",
   "metadata": {},
   "outputs": [],
   "source": [
    "from astropy import units as u\n",
    "\n",
    "\n",
    "def find_overlapping_coords(df, uncertainty_radius):\n",
    "    df_copy = df.copy()\n",
    "\n",
    "    # Assuming uncertainty_radius is provided as a float in arcseconds\n",
    "    uncertainty_radius_as = uncertainty_radius * u.arcsec\n",
    "\n",
    "    all_coords = SkyCoord(\n",
    "        ra=[x[0] for x in df_copy[\"center_coord\"]] * u.degree,\n",
    "        dec=[x[1] for x in df_copy[\"center_coord\"]] * u.degree,\n",
    "    )\n",
    "\n",
    "    overlapping_sets = {}\n",
    "    set_counter = 1\n",
    "    processed_data_ids = []\n",
    "\n",
    "    with progressbar.ProgressBar(max_value=len(all_coords)) as bar:\n",
    "\n",
    "        for index, coord in enumerate(all_coords):\n",
    "            data_id = df_copy.iloc[index][\"data_id\"]\n",
    "            if data_id not in processed_data_ids:\n",
    "                distances = (\n",
    "                    coord.separation(all_coords).to(u.arcsec).value\n",
    "                )  # Convert distances to arcseconds as numeric values\n",
    "\n",
    "                # Perform comparison as numeric values, bypassing direct unit comparison\n",
    "                within_radius = (distances <= uncertainty_radius_as.value) & (distances > 0)\n",
    "\n",
    "                if any(within_radius):\n",
    "                    overlapping_indices = [\n",
    "                        i\n",
    "                        for i, distance in enumerate(distances)\n",
    "                        if (distance <= uncertainty_radius_as.value) and i != index\n",
    "                    ]\n",
    "                    overlapping_data_ids = df_copy.iloc[overlapping_indices][\"data_id\"].tolist()\n",
    "                    overlapping_data_ids.append(data_id)\n",
    "\n",
    "                    processed_data_ids.extend(overlapping_data_ids)\n",
    "\n",
    "                    overlapping_sets[f\"set_{set_counter}\"] = overlapping_data_ids\n",
    "                    set_counter += 1\n",
    "            bar.update(index)\n",
    "\n",
    "    return overlapping_sets"
   ]
  },
  {
   "cell_type": "code",
   "execution_count": 272,
   "id": "378f48ab",
   "metadata": {},
   "outputs": [
    {
     "name": "stderr",
     "output_type": "stream",
     "text": [
      "100% (781 of 781) |######################| Elapsed Time: 0:00:03 Time:  0:00:03\n"
     ]
    },
    {
     "name": "stdout",
     "output_type": "stream",
     "text": [
      "CPU times: user 3.26 s, sys: 0 ns, total: 3.26 s\n",
      "Wall time: 3.23 s\n"
     ]
    }
   ],
   "source": [
    "%%time\n",
    "overlapping_sets = find_overlapping_coords(df=df62, uncertainty_radius=30)"
   ]
  },
  {
   "cell_type": "code",
   "execution_count": 267,
   "id": "4fd0e6eb",
   "metadata": {},
   "outputs": [
    {
     "data": {
      "text/plain": [
       "8"
      ]
     },
     "execution_count": 267,
     "metadata": {},
     "output_type": "execute_result"
    }
   ],
   "source": [
    "len(overlapping_sets)"
   ]
  },
  {
   "cell_type": "code",
   "execution_count": 268,
   "id": "0fb78d3c",
   "metadata": {},
   "outputs": [
    {
     "data": {
      "text/plain": [
       "{'set_1': [{instrument: 'DECam', detector: 62, visit: 898287},\n",
       "  {instrument: 'DECam', detector: 62, visit: 898288},\n",
       "  {instrument: 'DECam', detector: 62, visit: 898289},\n",
       "  {instrument: 'DECam', detector: 62, visit: 898290},\n",
       "  {instrument: 'DECam', detector: 62, visit: 898291},\n",
       "  {instrument: 'DECam', detector: 62, visit: 898292},\n",
       "  {instrument: 'DECam', detector: 62, visit: 898293},\n",
       "  {instrument: 'DECam', detector: 62, visit: 898294},\n",
       "  {instrument: 'DECam', detector: 62, visit: 898295},\n",
       "  {instrument: 'DECam', detector: 62, visit: 898296},\n",
       "  {instrument: 'DECam', detector: 62, visit: 898297},\n",
       "  {instrument: 'DECam', detector: 62, visit: 898298},\n",
       "  {instrument: 'DECam', detector: 62, visit: 898299},\n",
       "  {instrument: 'DECam', detector: 62, visit: 898300},\n",
       "  {instrument: 'DECam', detector: 62, visit: 898301},\n",
       "  {instrument: 'DECam', detector: 62, visit: 898302},\n",
       "  {instrument: 'DECam', detector: 62, visit: 898303},\n",
       "  {instrument: 'DECam', detector: 62, visit: 898304},\n",
       "  {instrument: 'DECam', detector: 62, visit: 898305},\n",
       "  {instrument: 'DECam', detector: 62, visit: 898306},\n",
       "  {instrument: 'DECam', detector: 62, visit: 898307},\n",
       "  {instrument: 'DECam', detector: 62, visit: 898308},\n",
       "  {instrument: 'DECam', detector: 62, visit: 898309},\n",
       "  {instrument: 'DECam', detector: 62, visit: 898310},\n",
       "  {instrument: 'DECam', detector: 62, visit: 898311},\n",
       "  {instrument: 'DECam', detector: 62, visit: 898312},\n",
       "  {instrument: 'DECam', detector: 62, visit: 898313},\n",
       "  {instrument: 'DECam', detector: 62, visit: 898314},\n",
       "  {instrument: 'DECam', detector: 62, visit: 898315},\n",
       "  {instrument: 'DECam', detector: 62, visit: 898316},\n",
       "  {instrument: 'DECam', detector: 62, visit: 898317},\n",
       "  {instrument: 'DECam', detector: 62, visit: 898318},\n",
       "  {instrument: 'DECam', detector: 62, visit: 898319},\n",
       "  {instrument: 'DECam', detector: 62, visit: 898320},\n",
       "  {instrument: 'DECam', detector: 62, visit: 898321},\n",
       "  {instrument: 'DECam', detector: 62, visit: 898322},\n",
       "  {instrument: 'DECam', detector: 62, visit: 898323},\n",
       "  {instrument: 'DECam', detector: 62, visit: 898324},\n",
       "  {instrument: 'DECam', detector: 62, visit: 898325},\n",
       "  {instrument: 'DECam', detector: 62, visit: 898326},\n",
       "  {instrument: 'DECam', detector: 62, visit: 898327},\n",
       "  {instrument: 'DECam', detector: 62, visit: 898328},\n",
       "  {instrument: 'DECam', detector: 62, visit: 898329},\n",
       "  {instrument: 'DECam', detector: 62, visit: 898330},\n",
       "  {instrument: 'DECam', detector: 62, visit: 898331},\n",
       "  {instrument: 'DECam', detector: 62, visit: 898332},\n",
       "  {instrument: 'DECam', detector: 62, visit: 898333},\n",
       "  {instrument: 'DECam', detector: 62, visit: 898334},\n",
       "  {instrument: 'DECam', detector: 62, visit: 898335},\n",
       "  {instrument: 'DECam', detector: 62, visit: 898336},\n",
       "  {instrument: 'DECam', detector: 62, visit: 898337},\n",
       "  {instrument: 'DECam', detector: 62, visit: 898338},\n",
       "  {instrument: 'DECam', detector: 62, visit: 898339},\n",
       "  {instrument: 'DECam', detector: 62, visit: 898340},\n",
       "  {instrument: 'DECam', detector: 62, visit: 898341},\n",
       "  {instrument: 'DECam', detector: 62, visit: 898342},\n",
       "  {instrument: 'DECam', detector: 62, visit: 898343},\n",
       "  {instrument: 'DECam', detector: 62, visit: 898344},\n",
       "  {instrument: 'DECam', detector: 62, visit: 898345},\n",
       "  {instrument: 'DECam', detector: 62, visit: 898346},\n",
       "  {instrument: 'DECam', detector: 62, visit: 898347},\n",
       "  {instrument: 'DECam', detector: 62, visit: 898348},\n",
       "  {instrument: 'DECam', detector: 62, visit: 898349},\n",
       "  {instrument: 'DECam', detector: 62, visit: 898350},\n",
       "  {instrument: 'DECam', detector: 62, visit: 898351},\n",
       "  {instrument: 'DECam', detector: 62, visit: 898352},\n",
       "  {instrument: 'DECam', detector: 62, visit: 898353},\n",
       "  {instrument: 'DECam', detector: 62, visit: 898354},\n",
       "  {instrument: 'DECam', detector: 62, visit: 898355},\n",
       "  {instrument: 'DECam', detector: 62, visit: 898356},\n",
       "  {instrument: 'DECam', detector: 62, visit: 898357},\n",
       "  {instrument: 'DECam', detector: 62, visit: 898358},\n",
       "  {instrument: 'DECam', detector: 62, visit: 898359},\n",
       "  {instrument: 'DECam', detector: 62, visit: 898360},\n",
       "  {instrument: 'DECam', detector: 62, visit: 898361},\n",
       "  {instrument: 'DECam', detector: 62, visit: 898362},\n",
       "  {instrument: 'DECam', detector: 62, visit: 898363},\n",
       "  {instrument: 'DECam', detector: 62, visit: 898364},\n",
       "  {instrument: 'DECam', detector: 62, visit: 898365},\n",
       "  {instrument: 'DECam', detector: 62, visit: 898366},\n",
       "  {instrument: 'DECam', detector: 62, visit: 898367},\n",
       "  {instrument: 'DECam', detector: 62, visit: 898368},\n",
       "  {instrument: 'DECam', detector: 62, visit: 898369},\n",
       "  {instrument: 'DECam', detector: 62, visit: 898370},\n",
       "  {instrument: 'DECam', detector: 62, visit: 898371},\n",
       "  {instrument: 'DECam', detector: 62, visit: 898372},\n",
       "  {instrument: 'DECam', detector: 62, visit: 898373},\n",
       "  {instrument: 'DECam', detector: 62, visit: 898374},\n",
       "  {instrument: 'DECam', detector: 62, visit: 898375},\n",
       "  {instrument: 'DECam', detector: 62, visit: 898376},\n",
       "  {instrument: 'DECam', detector: 62, visit: 898377},\n",
       "  {instrument: 'DECam', detector: 62, visit: 898378},\n",
       "  {instrument: 'DECam', detector: 62, visit: 898379},\n",
       "  {instrument: 'DECam', detector: 62, visit: 898380},\n",
       "  {instrument: 'DECam', detector: 62, visit: 898286}],\n",
       " 'set_2': [{instrument: 'DECam', detector: 62, visit: 891456},\n",
       "  {instrument: 'DECam', detector: 62, visit: 891457},\n",
       "  {instrument: 'DECam', detector: 62, visit: 891458},\n",
       "  {instrument: 'DECam', detector: 62, visit: 891459},\n",
       "  {instrument: 'DECam', detector: 62, visit: 891460},\n",
       "  {instrument: 'DECam', detector: 62, visit: 891461},\n",
       "  {instrument: 'DECam', detector: 62, visit: 891462},\n",
       "  {instrument: 'DECam', detector: 62, visit: 891463},\n",
       "  {instrument: 'DECam', detector: 62, visit: 891464},\n",
       "  {instrument: 'DECam', detector: 62, visit: 891465},\n",
       "  {instrument: 'DECam', detector: 62, visit: 891466},\n",
       "  {instrument: 'DECam', detector: 62, visit: 891467},\n",
       "  {instrument: 'DECam', detector: 62, visit: 891468},\n",
       "  {instrument: 'DECam', detector: 62, visit: 891469},\n",
       "  {instrument: 'DECam', detector: 62, visit: 891470},\n",
       "  {instrument: 'DECam', detector: 62, visit: 891471},\n",
       "  {instrument: 'DECam', detector: 62, visit: 891472},\n",
       "  {instrument: 'DECam', detector: 62, visit: 891473},\n",
       "  {instrument: 'DECam', detector: 62, visit: 891474},\n",
       "  {instrument: 'DECam', detector: 62, visit: 891475},\n",
       "  {instrument: 'DECam', detector: 62, visit: 891476},\n",
       "  {instrument: 'DECam', detector: 62, visit: 891477},\n",
       "  {instrument: 'DECam', detector: 62, visit: 891478},\n",
       "  {instrument: 'DECam', detector: 62, visit: 891479},\n",
       "  {instrument: 'DECam', detector: 62, visit: 891480},\n",
       "  {instrument: 'DECam', detector: 62, visit: 891481},\n",
       "  {instrument: 'DECam', detector: 62, visit: 891482},\n",
       "  {instrument: 'DECam', detector: 62, visit: 891483},\n",
       "  {instrument: 'DECam', detector: 62, visit: 891484},\n",
       "  {instrument: 'DECam', detector: 62, visit: 891485},\n",
       "  {instrument: 'DECam', detector: 62, visit: 891486},\n",
       "  {instrument: 'DECam', detector: 62, visit: 891487},\n",
       "  {instrument: 'DECam', detector: 62, visit: 891488},\n",
       "  {instrument: 'DECam', detector: 62, visit: 891489},\n",
       "  {instrument: 'DECam', detector: 62, visit: 891490},\n",
       "  {instrument: 'DECam', detector: 62, visit: 891491},\n",
       "  {instrument: 'DECam', detector: 62, visit: 891492},\n",
       "  {instrument: 'DECam', detector: 62, visit: 891493},\n",
       "  {instrument: 'DECam', detector: 62, visit: 891494},\n",
       "  {instrument: 'DECam', detector: 62, visit: 891495},\n",
       "  {instrument: 'DECam', detector: 62, visit: 891496},\n",
       "  {instrument: 'DECam', detector: 62, visit: 891497},\n",
       "  {instrument: 'DECam', detector: 62, visit: 891498},\n",
       "  {instrument: 'DECam', detector: 62, visit: 891499},\n",
       "  {instrument: 'DECam', detector: 62, visit: 891500},\n",
       "  {instrument: 'DECam', detector: 62, visit: 891501},\n",
       "  {instrument: 'DECam', detector: 62, visit: 891502},\n",
       "  {instrument: 'DECam', detector: 62, visit: 891503},\n",
       "  {instrument: 'DECam', detector: 62, visit: 891504},\n",
       "  {instrument: 'DECam', detector: 62, visit: 891505},\n",
       "  {instrument: 'DECam', detector: 62, visit: 891506},\n",
       "  {instrument: 'DECam', detector: 62, visit: 891507},\n",
       "  {instrument: 'DECam', detector: 62, visit: 891508},\n",
       "  {instrument: 'DECam', detector: 62, visit: 891509},\n",
       "  {instrument: 'DECam', detector: 62, visit: 891510},\n",
       "  {instrument: 'DECam', detector: 62, visit: 891511},\n",
       "  {instrument: 'DECam', detector: 62, visit: 891512},\n",
       "  {instrument: 'DECam', detector: 62, visit: 891513},\n",
       "  {instrument: 'DECam', detector: 62, visit: 891514},\n",
       "  {instrument: 'DECam', detector: 62, visit: 891515},\n",
       "  {instrument: 'DECam', detector: 62, visit: 891516},\n",
       "  {instrument: 'DECam', detector: 62, visit: 891517},\n",
       "  {instrument: 'DECam', detector: 62, visit: 891518},\n",
       "  {instrument: 'DECam', detector: 62, visit: 891519},\n",
       "  {instrument: 'DECam', detector: 62, visit: 891520},\n",
       "  {instrument: 'DECam', detector: 62, visit: 891521},\n",
       "  {instrument: 'DECam', detector: 62, visit: 891522},\n",
       "  {instrument: 'DECam', detector: 62, visit: 891523},\n",
       "  {instrument: 'DECam', detector: 62, visit: 891524},\n",
       "  {instrument: 'DECam', detector: 62, visit: 891525},\n",
       "  {instrument: 'DECam', detector: 62, visit: 891526},\n",
       "  {instrument: 'DECam', detector: 62, visit: 891527},\n",
       "  {instrument: 'DECam', detector: 62, visit: 891528},\n",
       "  {instrument: 'DECam', detector: 62, visit: 891529},\n",
       "  {instrument: 'DECam', detector: 62, visit: 891530},\n",
       "  {instrument: 'DECam', detector: 62, visit: 891531},\n",
       "  {instrument: 'DECam', detector: 62, visit: 891532},\n",
       "  {instrument: 'DECam', detector: 62, visit: 891533},\n",
       "  {instrument: 'DECam', detector: 62, visit: 891534},\n",
       "  {instrument: 'DECam', detector: 62, visit: 891535},\n",
       "  {instrument: 'DECam', detector: 62, visit: 891536},\n",
       "  {instrument: 'DECam', detector: 62, visit: 891537},\n",
       "  {instrument: 'DECam', detector: 62, visit: 891538},\n",
       "  {instrument: 'DECam', detector: 62, visit: 891539},\n",
       "  {instrument: 'DECam', detector: 62, visit: 891540},\n",
       "  {instrument: 'DECam', detector: 62, visit: 891541},\n",
       "  {instrument: 'DECam', detector: 62, visit: 891542},\n",
       "  {instrument: 'DECam', detector: 62, visit: 891543},\n",
       "  {instrument: 'DECam', detector: 62, visit: 891544},\n",
       "  {instrument: 'DECam', detector: 62, visit: 891545},\n",
       "  {instrument: 'DECam', detector: 62, visit: 891546},\n",
       "  {instrument: 'DECam', detector: 62, visit: 891547},\n",
       "  {instrument: 'DECam', detector: 62, visit: 891548},\n",
       "  {instrument: 'DECam', detector: 62, visit: 891549},\n",
       "  {instrument: 'DECam', detector: 62, visit: 891550},\n",
       "  {instrument: 'DECam', detector: 62, visit: 891551},\n",
       "  {instrument: 'DECam', detector: 62, visit: 891552},\n",
       "  {instrument: 'DECam', detector: 62, visit: 891553},\n",
       "  {instrument: 'DECam', detector: 62, visit: 891554},\n",
       "  {instrument: 'DECam', detector: 62, visit: 891555},\n",
       "  {instrument: 'DECam', detector: 62, visit: 891556},\n",
       "  {instrument: 'DECam', detector: 62, visit: 891455}],\n",
       " 'set_3': [{instrument: 'DECam', detector: 62, visit: 946690},\n",
       "  {instrument: 'DECam', detector: 62, visit: 946691},\n",
       "  {instrument: 'DECam', detector: 62, visit: 946692},\n",
       "  {instrument: 'DECam', detector: 62, visit: 946693},\n",
       "  {instrument: 'DECam', detector: 62, visit: 946694},\n",
       "  {instrument: 'DECam', detector: 62, visit: 946695},\n",
       "  {instrument: 'DECam', detector: 62, visit: 946696},\n",
       "  {instrument: 'DECam', detector: 62, visit: 946697},\n",
       "  {instrument: 'DECam', detector: 62, visit: 946698},\n",
       "  {instrument: 'DECam', detector: 62, visit: 946699},\n",
       "  {instrument: 'DECam', detector: 62, visit: 946700},\n",
       "  {instrument: 'DECam', detector: 62, visit: 946701},\n",
       "  {instrument: 'DECam', detector: 62, visit: 946702},\n",
       "  {instrument: 'DECam', detector: 62, visit: 946703},\n",
       "  {instrument: 'DECam', detector: 62, visit: 946704},\n",
       "  {instrument: 'DECam', detector: 62, visit: 946705},\n",
       "  {instrument: 'DECam', detector: 62, visit: 946706},\n",
       "  {instrument: 'DECam', detector: 62, visit: 946707},\n",
       "  {instrument: 'DECam', detector: 62, visit: 946708},\n",
       "  {instrument: 'DECam', detector: 62, visit: 946709},\n",
       "  {instrument: 'DECam', detector: 62, visit: 946710},\n",
       "  {instrument: 'DECam', detector: 62, visit: 946711},\n",
       "  {instrument: 'DECam', detector: 62, visit: 946712},\n",
       "  {instrument: 'DECam', detector: 62, visit: 946713},\n",
       "  {instrument: 'DECam', detector: 62, visit: 946714},\n",
       "  {instrument: 'DECam', detector: 62, visit: 946715},\n",
       "  {instrument: 'DECam', detector: 62, visit: 946716},\n",
       "  {instrument: 'DECam', detector: 62, visit: 946717},\n",
       "  {instrument: 'DECam', detector: 62, visit: 946718},\n",
       "  {instrument: 'DECam', detector: 62, visit: 946719},\n",
       "  {instrument: 'DECam', detector: 62, visit: 946720},\n",
       "  {instrument: 'DECam', detector: 62, visit: 946721},\n",
       "  {instrument: 'DECam', detector: 62, visit: 946722},\n",
       "  {instrument: 'DECam', detector: 62, visit: 946723},\n",
       "  {instrument: 'DECam', detector: 62, visit: 946724},\n",
       "  {instrument: 'DECam', detector: 62, visit: 946725},\n",
       "  {instrument: 'DECam', detector: 62, visit: 946726},\n",
       "  {instrument: 'DECam', detector: 62, visit: 946727},\n",
       "  {instrument: 'DECam', detector: 62, visit: 946728},\n",
       "  {instrument: 'DECam', detector: 62, visit: 946729},\n",
       "  {instrument: 'DECam', detector: 62, visit: 946730},\n",
       "  {instrument: 'DECam', detector: 62, visit: 946731},\n",
       "  {instrument: 'DECam', detector: 62, visit: 946732},\n",
       "  {instrument: 'DECam', detector: 62, visit: 946733},\n",
       "  {instrument: 'DECam', detector: 62, visit: 946734},\n",
       "  {instrument: 'DECam', detector: 62, visit: 946735},\n",
       "  {instrument: 'DECam', detector: 62, visit: 946736},\n",
       "  {instrument: 'DECam', detector: 62, visit: 946737},\n",
       "  {instrument: 'DECam', detector: 62, visit: 946738},\n",
       "  {instrument: 'DECam', detector: 62, visit: 946739},\n",
       "  {instrument: 'DECam', detector: 62, visit: 946740},\n",
       "  {instrument: 'DECam', detector: 62, visit: 946741},\n",
       "  {instrument: 'DECam', detector: 62, visit: 946742},\n",
       "  {instrument: 'DECam', detector: 62, visit: 946743},\n",
       "  {instrument: 'DECam', detector: 62, visit: 946744},\n",
       "  {instrument: 'DECam', detector: 62, visit: 946745},\n",
       "  {instrument: 'DECam', detector: 62, visit: 946746},\n",
       "  {instrument: 'DECam', detector: 62, visit: 946747},\n",
       "  {instrument: 'DECam', detector: 62, visit: 946748},\n",
       "  {instrument: 'DECam', detector: 62, visit: 946749},\n",
       "  {instrument: 'DECam', detector: 62, visit: 946750},\n",
       "  {instrument: 'DECam', detector: 62, visit: 946751},\n",
       "  {instrument: 'DECam', detector: 62, visit: 946752},\n",
       "  {instrument: 'DECam', detector: 62, visit: 946753},\n",
       "  {instrument: 'DECam', detector: 62, visit: 946754},\n",
       "  {instrument: 'DECam', detector: 62, visit: 946755},\n",
       "  {instrument: 'DECam', detector: 62, visit: 946756},\n",
       "  {instrument: 'DECam', detector: 62, visit: 946757},\n",
       "  {instrument: 'DECam', detector: 62, visit: 946758},\n",
       "  {instrument: 'DECam', detector: 62, visit: 946759},\n",
       "  {instrument: 'DECam', detector: 62, visit: 946760},\n",
       "  {instrument: 'DECam', detector: 62, visit: 946761},\n",
       "  {instrument: 'DECam', detector: 62, visit: 946762},\n",
       "  {instrument: 'DECam', detector: 62, visit: 946763},\n",
       "  {instrument: 'DECam', detector: 62, visit: 946764},\n",
       "  {instrument: 'DECam', detector: 62, visit: 946765},\n",
       "  {instrument: 'DECam', detector: 62, visit: 946766},\n",
       "  {instrument: 'DECam', detector: 62, visit: 946767},\n",
       "  {instrument: 'DECam', detector: 62, visit: 946768},\n",
       "  {instrument: 'DECam', detector: 62, visit: 946769},\n",
       "  {instrument: 'DECam', detector: 62, visit: 946770},\n",
       "  {instrument: 'DECam', detector: 62, visit: 946771},\n",
       "  {instrument: 'DECam', detector: 62, visit: 946772},\n",
       "  {instrument: 'DECam', detector: 62, visit: 946773},\n",
       "  {instrument: 'DECam', detector: 62, visit: 946774},\n",
       "  {instrument: 'DECam', detector: 62, visit: 946775},\n",
       "  {instrument: 'DECam', detector: 62, visit: 946776},\n",
       "  {instrument: 'DECam', detector: 62, visit: 946777},\n",
       "  {instrument: 'DECam', detector: 62, visit: 946778},\n",
       "  {instrument: 'DECam', detector: 62, visit: 946779},\n",
       "  {instrument: 'DECam', detector: 62, visit: 946689}],\n",
       " 'set_4': [{instrument: 'DECam', detector: 62, visit: 891838},\n",
       "  {instrument: 'DECam', detector: 62, visit: 891839},\n",
       "  {instrument: 'DECam', detector: 62, visit: 891840},\n",
       "  {instrument: 'DECam', detector: 62, visit: 891841},\n",
       "  {instrument: 'DECam', detector: 62, visit: 891842},\n",
       "  {instrument: 'DECam', detector: 62, visit: 891843},\n",
       "  {instrument: 'DECam', detector: 62, visit: 891844},\n",
       "  {instrument: 'DECam', detector: 62, visit: 891845},\n",
       "  {instrument: 'DECam', detector: 62, visit: 891846},\n",
       "  {instrument: 'DECam', detector: 62, visit: 891847},\n",
       "  {instrument: 'DECam', detector: 62, visit: 891848},\n",
       "  {instrument: 'DECam', detector: 62, visit: 891849},\n",
       "  {instrument: 'DECam', detector: 62, visit: 891850},\n",
       "  {instrument: 'DECam', detector: 62, visit: 891851},\n",
       "  {instrument: 'DECam', detector: 62, visit: 891852},\n",
       "  {instrument: 'DECam', detector: 62, visit: 891853},\n",
       "  {instrument: 'DECam', detector: 62, visit: 891854},\n",
       "  {instrument: 'DECam', detector: 62, visit: 891855},\n",
       "  {instrument: 'DECam', detector: 62, visit: 891856},\n",
       "  {instrument: 'DECam', detector: 62, visit: 891857},\n",
       "  {instrument: 'DECam', detector: 62, visit: 891858},\n",
       "  {instrument: 'DECam', detector: 62, visit: 891859},\n",
       "  {instrument: 'DECam', detector: 62, visit: 891860},\n",
       "  {instrument: 'DECam', detector: 62, visit: 891861},\n",
       "  {instrument: 'DECam', detector: 62, visit: 891862},\n",
       "  {instrument: 'DECam', detector: 62, visit: 891863},\n",
       "  {instrument: 'DECam', detector: 62, visit: 891864},\n",
       "  {instrument: 'DECam', detector: 62, visit: 891865},\n",
       "  {instrument: 'DECam', detector: 62, visit: 891866},\n",
       "  {instrument: 'DECam', detector: 62, visit: 891867},\n",
       "  {instrument: 'DECam', detector: 62, visit: 891868},\n",
       "  {instrument: 'DECam', detector: 62, visit: 891869},\n",
       "  {instrument: 'DECam', detector: 62, visit: 891870},\n",
       "  {instrument: 'DECam', detector: 62, visit: 891871},\n",
       "  {instrument: 'DECam', detector: 62, visit: 891872},\n",
       "  {instrument: 'DECam', detector: 62, visit: 891873},\n",
       "  {instrument: 'DECam', detector: 62, visit: 891874},\n",
       "  {instrument: 'DECam', detector: 62, visit: 891875},\n",
       "  {instrument: 'DECam', detector: 62, visit: 891876},\n",
       "  {instrument: 'DECam', detector: 62, visit: 891877},\n",
       "  {instrument: 'DECam', detector: 62, visit: 891878},\n",
       "  {instrument: 'DECam', detector: 62, visit: 891879},\n",
       "  {instrument: 'DECam', detector: 62, visit: 891880},\n",
       "  {instrument: 'DECam', detector: 62, visit: 891881},\n",
       "  {instrument: 'DECam', detector: 62, visit: 891882},\n",
       "  {instrument: 'DECam', detector: 62, visit: 891883},\n",
       "  {instrument: 'DECam', detector: 62, visit: 891884},\n",
       "  {instrument: 'DECam', detector: 62, visit: 891885},\n",
       "  {instrument: 'DECam', detector: 62, visit: 891886},\n",
       "  {instrument: 'DECam', detector: 62, visit: 891887},\n",
       "  {instrument: 'DECam', detector: 62, visit: 891888},\n",
       "  {instrument: 'DECam', detector: 62, visit: 891889},\n",
       "  {instrument: 'DECam', detector: 62, visit: 891890},\n",
       "  {instrument: 'DECam', detector: 62, visit: 891891},\n",
       "  {instrument: 'DECam', detector: 62, visit: 891892},\n",
       "  {instrument: 'DECam', detector: 62, visit: 891893},\n",
       "  {instrument: 'DECam', detector: 62, visit: 891894},\n",
       "  {instrument: 'DECam', detector: 62, visit: 891895},\n",
       "  {instrument: 'DECam', detector: 62, visit: 891896},\n",
       "  {instrument: 'DECam', detector: 62, visit: 891897},\n",
       "  {instrument: 'DECam', detector: 62, visit: 891898},\n",
       "  {instrument: 'DECam', detector: 62, visit: 891899},\n",
       "  {instrument: 'DECam', detector: 62, visit: 891900},\n",
       "  {instrument: 'DECam', detector: 62, visit: 891901},\n",
       "  {instrument: 'DECam', detector: 62, visit: 891902},\n",
       "  {instrument: 'DECam', detector: 62, visit: 891903},\n",
       "  {instrument: 'DECam', detector: 62, visit: 891904},\n",
       "  {instrument: 'DECam', detector: 62, visit: 891905},\n",
       "  {instrument: 'DECam', detector: 62, visit: 891906},\n",
       "  {instrument: 'DECam', detector: 62, visit: 891907},\n",
       "  {instrument: 'DECam', detector: 62, visit: 891908},\n",
       "  {instrument: 'DECam', detector: 62, visit: 891909},\n",
       "  {instrument: 'DECam', detector: 62, visit: 891910},\n",
       "  {instrument: 'DECam', detector: 62, visit: 891911},\n",
       "  {instrument: 'DECam', detector: 62, visit: 891912},\n",
       "  {instrument: 'DECam', detector: 62, visit: 891913},\n",
       "  {instrument: 'DECam', detector: 62, visit: 891914},\n",
       "  {instrument: 'DECam', detector: 62, visit: 891915},\n",
       "  {instrument: 'DECam', detector: 62, visit: 891916},\n",
       "  {instrument: 'DECam', detector: 62, visit: 891917},\n",
       "  {instrument: 'DECam', detector: 62, visit: 891918},\n",
       "  {instrument: 'DECam', detector: 62, visit: 891919},\n",
       "  {instrument: 'DECam', detector: 62, visit: 891920},\n",
       "  {instrument: 'DECam', detector: 62, visit: 891921},\n",
       "  {instrument: 'DECam', detector: 62, visit: 891922},\n",
       "  {instrument: 'DECam', detector: 62, visit: 891923},\n",
       "  {instrument: 'DECam', detector: 62, visit: 891924},\n",
       "  {instrument: 'DECam', detector: 62, visit: 891925},\n",
       "  {instrument: 'DECam', detector: 62, visit: 891926},\n",
       "  {instrument: 'DECam', detector: 62, visit: 891927},\n",
       "  {instrument: 'DECam', detector: 62, visit: 891928},\n",
       "  {instrument: 'DECam', detector: 62, visit: 891929},\n",
       "  {instrument: 'DECam', detector: 62, visit: 891930},\n",
       "  {instrument: 'DECam', detector: 62, visit: 891931},\n",
       "  {instrument: 'DECam', detector: 62, visit: 891932},\n",
       "  {instrument: 'DECam', detector: 62, visit: 891933},\n",
       "  {instrument: 'DECam', detector: 62, visit: 891934},\n",
       "  {instrument: 'DECam', detector: 62, visit: 891935},\n",
       "  {instrument: 'DECam', detector: 62, visit: 891936},\n",
       "  {instrument: 'DECam', detector: 62, visit: 891937},\n",
       "  {instrument: 'DECam', detector: 62, visit: 891837}],\n",
       " 'set_5': [{instrument: 'DECam', detector: 62, visit: 898701},\n",
       "  {instrument: 'DECam', detector: 62, visit: 898702},\n",
       "  {instrument: 'DECam', detector: 62, visit: 898703},\n",
       "  {instrument: 'DECam', detector: 62, visit: 898704},\n",
       "  {instrument: 'DECam', detector: 62, visit: 898705},\n",
       "  {instrument: 'DECam', detector: 62, visit: 898706},\n",
       "  {instrument: 'DECam', detector: 62, visit: 898707},\n",
       "  {instrument: 'DECam', detector: 62, visit: 898708},\n",
       "  {instrument: 'DECam', detector: 62, visit: 898709},\n",
       "  {instrument: 'DECam', detector: 62, visit: 898710},\n",
       "  {instrument: 'DECam', detector: 62, visit: 898711},\n",
       "  {instrument: 'DECam', detector: 62, visit: 898712},\n",
       "  {instrument: 'DECam', detector: 62, visit: 898713},\n",
       "  {instrument: 'DECam', detector: 62, visit: 898714},\n",
       "  {instrument: 'DECam', detector: 62, visit: 898715},\n",
       "  {instrument: 'DECam', detector: 62, visit: 898716},\n",
       "  {instrument: 'DECam', detector: 62, visit: 898717},\n",
       "  {instrument: 'DECam', detector: 62, visit: 898718},\n",
       "  {instrument: 'DECam', detector: 62, visit: 898719},\n",
       "  {instrument: 'DECam', detector: 62, visit: 898720},\n",
       "  {instrument: 'DECam', detector: 62, visit: 898721},\n",
       "  {instrument: 'DECam', detector: 62, visit: 898722},\n",
       "  {instrument: 'DECam', detector: 62, visit: 898723},\n",
       "  {instrument: 'DECam', detector: 62, visit: 898724},\n",
       "  {instrument: 'DECam', detector: 62, visit: 898725},\n",
       "  {instrument: 'DECam', detector: 62, visit: 898726},\n",
       "  {instrument: 'DECam', detector: 62, visit: 898727},\n",
       "  {instrument: 'DECam', detector: 62, visit: 898728},\n",
       "  {instrument: 'DECam', detector: 62, visit: 898729},\n",
       "  {instrument: 'DECam', detector: 62, visit: 898730},\n",
       "  {instrument: 'DECam', detector: 62, visit: 898731},\n",
       "  {instrument: 'DECam', detector: 62, visit: 898732},\n",
       "  {instrument: 'DECam', detector: 62, visit: 898733},\n",
       "  {instrument: 'DECam', detector: 62, visit: 898734},\n",
       "  {instrument: 'DECam', detector: 62, visit: 898735},\n",
       "  {instrument: 'DECam', detector: 62, visit: 898736},\n",
       "  {instrument: 'DECam', detector: 62, visit: 898737},\n",
       "  {instrument: 'DECam', detector: 62, visit: 898738},\n",
       "  {instrument: 'DECam', detector: 62, visit: 898739},\n",
       "  {instrument: 'DECam', detector: 62, visit: 898740},\n",
       "  {instrument: 'DECam', detector: 62, visit: 898741},\n",
       "  {instrument: 'DECam', detector: 62, visit: 898742},\n",
       "  {instrument: 'DECam', detector: 62, visit: 898743},\n",
       "  {instrument: 'DECam', detector: 62, visit: 898744},\n",
       "  {instrument: 'DECam', detector: 62, visit: 898745},\n",
       "  {instrument: 'DECam', detector: 62, visit: 898746},\n",
       "  {instrument: 'DECam', detector: 62, visit: 898747},\n",
       "  {instrument: 'DECam', detector: 62, visit: 898748},\n",
       "  {instrument: 'DECam', detector: 62, visit: 898749},\n",
       "  {instrument: 'DECam', detector: 62, visit: 898750},\n",
       "  {instrument: 'DECam', detector: 62, visit: 898751},\n",
       "  {instrument: 'DECam', detector: 62, visit: 898752},\n",
       "  {instrument: 'DECam', detector: 62, visit: 898753},\n",
       "  {instrument: 'DECam', detector: 62, visit: 898754},\n",
       "  {instrument: 'DECam', detector: 62, visit: 898755},\n",
       "  {instrument: 'DECam', detector: 62, visit: 898756},\n",
       "  {instrument: 'DECam', detector: 62, visit: 898757},\n",
       "  {instrument: 'DECam', detector: 62, visit: 898758},\n",
       "  {instrument: 'DECam', detector: 62, visit: 898759},\n",
       "  {instrument: 'DECam', detector: 62, visit: 898760},\n",
       "  {instrument: 'DECam', detector: 62, visit: 898761},\n",
       "  {instrument: 'DECam', detector: 62, visit: 898762},\n",
       "  {instrument: 'DECam', detector: 62, visit: 898763},\n",
       "  {instrument: 'DECam', detector: 62, visit: 898764},\n",
       "  {instrument: 'DECam', detector: 62, visit: 898765},\n",
       "  {instrument: 'DECam', detector: 62, visit: 898766},\n",
       "  {instrument: 'DECam', detector: 62, visit: 898767},\n",
       "  {instrument: 'DECam', detector: 62, visit: 898768},\n",
       "  {instrument: 'DECam', detector: 62, visit: 898769},\n",
       "  {instrument: 'DECam', detector: 62, visit: 898770},\n",
       "  {instrument: 'DECam', detector: 62, visit: 898771},\n",
       "  {instrument: 'DECam', detector: 62, visit: 898772},\n",
       "  {instrument: 'DECam', detector: 62, visit: 898773},\n",
       "  {instrument: 'DECam', detector: 62, visit: 898774},\n",
       "  {instrument: 'DECam', detector: 62, visit: 898775},\n",
       "  {instrument: 'DECam', detector: 62, visit: 898776},\n",
       "  {instrument: 'DECam', detector: 62, visit: 898777},\n",
       "  {instrument: 'DECam', detector: 62, visit: 898778},\n",
       "  {instrument: 'DECam', detector: 62, visit: 898779},\n",
       "  {instrument: 'DECam', detector: 62, visit: 898780},\n",
       "  {instrument: 'DECam', detector: 62, visit: 898781},\n",
       "  {instrument: 'DECam', detector: 62, visit: 898782},\n",
       "  {instrument: 'DECam', detector: 62, visit: 898783},\n",
       "  {instrument: 'DECam', detector: 62, visit: 898784},\n",
       "  {instrument: 'DECam', detector: 62, visit: 898785},\n",
       "  {instrument: 'DECam', detector: 62, visit: 898786},\n",
       "  {instrument: 'DECam', detector: 62, visit: 898787},\n",
       "  {instrument: 'DECam', detector: 62, visit: 898788},\n",
       "  {instrument: 'DECam', detector: 62, visit: 898789},\n",
       "  {instrument: 'DECam', detector: 62, visit: 898790},\n",
       "  {instrument: 'DECam', detector: 62, visit: 898791},\n",
       "  {instrument: 'DECam', detector: 62, visit: 898792},\n",
       "  {instrument: 'DECam', detector: 62, visit: 898793},\n",
       "  {instrument: 'DECam', detector: 62, visit: 898794},\n",
       "  {instrument: 'DECam', detector: 62, visit: 898795},\n",
       "  {instrument: 'DECam', detector: 62, visit: 898796},\n",
       "  {instrument: 'DECam', detector: 62, visit: 898700}],\n",
       " 'set_6': [{instrument: 'DECam', detector: 62, visit: 891075},\n",
       "  {instrument: 'DECam', detector: 62, visit: 891076},\n",
       "  {instrument: 'DECam', detector: 62, visit: 891077},\n",
       "  {instrument: 'DECam', detector: 62, visit: 891078},\n",
       "  {instrument: 'DECam', detector: 62, visit: 891079},\n",
       "  {instrument: 'DECam', detector: 62, visit: 891080},\n",
       "  {instrument: 'DECam', detector: 62, visit: 891081},\n",
       "  {instrument: 'DECam', detector: 62, visit: 891082},\n",
       "  {instrument: 'DECam', detector: 62, visit: 891083},\n",
       "  {instrument: 'DECam', detector: 62, visit: 891084},\n",
       "  {instrument: 'DECam', detector: 62, visit: 891085},\n",
       "  {instrument: 'DECam', detector: 62, visit: 891086},\n",
       "  {instrument: 'DECam', detector: 62, visit: 891087},\n",
       "  {instrument: 'DECam', detector: 62, visit: 891088},\n",
       "  {instrument: 'DECam', detector: 62, visit: 891089},\n",
       "  {instrument: 'DECam', detector: 62, visit: 891090},\n",
       "  {instrument: 'DECam', detector: 62, visit: 891091},\n",
       "  {instrument: 'DECam', detector: 62, visit: 891092},\n",
       "  {instrument: 'DECam', detector: 62, visit: 891093},\n",
       "  {instrument: 'DECam', detector: 62, visit: 891094},\n",
       "  {instrument: 'DECam', detector: 62, visit: 891095},\n",
       "  {instrument: 'DECam', detector: 62, visit: 891096},\n",
       "  {instrument: 'DECam', detector: 62, visit: 891097},\n",
       "  {instrument: 'DECam', detector: 62, visit: 891098},\n",
       "  {instrument: 'DECam', detector: 62, visit: 891099},\n",
       "  {instrument: 'DECam', detector: 62, visit: 891100},\n",
       "  {instrument: 'DECam', detector: 62, visit: 891101},\n",
       "  {instrument: 'DECam', detector: 62, visit: 891102},\n",
       "  {instrument: 'DECam', detector: 62, visit: 891103},\n",
       "  {instrument: 'DECam', detector: 62, visit: 891104},\n",
       "  {instrument: 'DECam', detector: 62, visit: 891105},\n",
       "  {instrument: 'DECam', detector: 62, visit: 891106},\n",
       "  {instrument: 'DECam', detector: 62, visit: 891107},\n",
       "  {instrument: 'DECam', detector: 62, visit: 891108},\n",
       "  {instrument: 'DECam', detector: 62, visit: 891109},\n",
       "  {instrument: 'DECam', detector: 62, visit: 891110},\n",
       "  {instrument: 'DECam', detector: 62, visit: 891111},\n",
       "  {instrument: 'DECam', detector: 62, visit: 891112},\n",
       "  {instrument: 'DECam', detector: 62, visit: 891113},\n",
       "  {instrument: 'DECam', detector: 62, visit: 891114},\n",
       "  {instrument: 'DECam', detector: 62, visit: 891115},\n",
       "  {instrument: 'DECam', detector: 62, visit: 891116},\n",
       "  {instrument: 'DECam', detector: 62, visit: 891117},\n",
       "  {instrument: 'DECam', detector: 62, visit: 891118},\n",
       "  {instrument: 'DECam', detector: 62, visit: 891119},\n",
       "  {instrument: 'DECam', detector: 62, visit: 891120},\n",
       "  {instrument: 'DECam', detector: 62, visit: 891121},\n",
       "  {instrument: 'DECam', detector: 62, visit: 891122},\n",
       "  {instrument: 'DECam', detector: 62, visit: 891123},\n",
       "  {instrument: 'DECam', detector: 62, visit: 891124},\n",
       "  {instrument: 'DECam', detector: 62, visit: 891125},\n",
       "  {instrument: 'DECam', detector: 62, visit: 891126},\n",
       "  {instrument: 'DECam', detector: 62, visit: 891127},\n",
       "  {instrument: 'DECam', detector: 62, visit: 891128},\n",
       "  {instrument: 'DECam', detector: 62, visit: 891129},\n",
       "  {instrument: 'DECam', detector: 62, visit: 891130},\n",
       "  {instrument: 'DECam', detector: 62, visit: 891131},\n",
       "  {instrument: 'DECam', detector: 62, visit: 891132},\n",
       "  {instrument: 'DECam', detector: 62, visit: 891133},\n",
       "  {instrument: 'DECam', detector: 62, visit: 891134},\n",
       "  {instrument: 'DECam', detector: 62, visit: 891135},\n",
       "  {instrument: 'DECam', detector: 62, visit: 891136},\n",
       "  {instrument: 'DECam', detector: 62, visit: 891137},\n",
       "  {instrument: 'DECam', detector: 62, visit: 891138},\n",
       "  {instrument: 'DECam', detector: 62, visit: 891139},\n",
       "  {instrument: 'DECam', detector: 62, visit: 891140},\n",
       "  {instrument: 'DECam', detector: 62, visit: 891141},\n",
       "  {instrument: 'DECam', detector: 62, visit: 891142},\n",
       "  {instrument: 'DECam', detector: 62, visit: 891143},\n",
       "  {instrument: 'DECam', detector: 62, visit: 891144},\n",
       "  {instrument: 'DECam', detector: 62, visit: 891145},\n",
       "  {instrument: 'DECam', detector: 62, visit: 891146},\n",
       "  {instrument: 'DECam', detector: 62, visit: 891147},\n",
       "  {instrument: 'DECam', detector: 62, visit: 891148},\n",
       "  {instrument: 'DECam', detector: 62, visit: 891149},\n",
       "  {instrument: 'DECam', detector: 62, visit: 891150},\n",
       "  {instrument: 'DECam', detector: 62, visit: 891151},\n",
       "  {instrument: 'DECam', detector: 62, visit: 891152},\n",
       "  {instrument: 'DECam', detector: 62, visit: 891153},\n",
       "  {instrument: 'DECam', detector: 62, visit: 891154},\n",
       "  {instrument: 'DECam', detector: 62, visit: 891155},\n",
       "  {instrument: 'DECam', detector: 62, visit: 891156},\n",
       "  {instrument: 'DECam', detector: 62, visit: 891157},\n",
       "  {instrument: 'DECam', detector: 62, visit: 891158},\n",
       "  {instrument: 'DECam', detector: 62, visit: 891159},\n",
       "  {instrument: 'DECam', detector: 62, visit: 891160},\n",
       "  {instrument: 'DECam', detector: 62, visit: 891161},\n",
       "  {instrument: 'DECam', detector: 62, visit: 891162},\n",
       "  {instrument: 'DECam', detector: 62, visit: 891163},\n",
       "  {instrument: 'DECam', detector: 62, visit: 891164},\n",
       "  {instrument: 'DECam', detector: 62, visit: 891165},\n",
       "  {instrument: 'DECam', detector: 62, visit: 891166},\n",
       "  {instrument: 'DECam', detector: 62, visit: 891167},\n",
       "  {instrument: 'DECam', detector: 62, visit: 891168},\n",
       "  {instrument: 'DECam', detector: 62, visit: 891169},\n",
       "  {instrument: 'DECam', detector: 62, visit: 891170},\n",
       "  {instrument: 'DECam', detector: 62, visit: 891171},\n",
       "  {instrument: 'DECam', detector: 62, visit: 891172},\n",
       "  {instrument: 'DECam', detector: 62, visit: 891173},\n",
       "  {instrument: 'DECam', detector: 62, visit: 891174},\n",
       "  {instrument: 'DECam', detector: 62, visit: 891175},\n",
       "  {instrument: 'DECam', detector: 62, visit: 891176},\n",
       "  {instrument: 'DECam', detector: 62, visit: 891074}],\n",
       " 'set_7': [{instrument: 'DECam', detector: 62, visit: 899021},\n",
       "  {instrument: 'DECam', detector: 62, visit: 899022},\n",
       "  {instrument: 'DECam', detector: 62, visit: 899023},\n",
       "  {instrument: 'DECam', detector: 62, visit: 899024},\n",
       "  {instrument: 'DECam', detector: 62, visit: 899025},\n",
       "  {instrument: 'DECam', detector: 62, visit: 899026},\n",
       "  {instrument: 'DECam', detector: 62, visit: 899027},\n",
       "  {instrument: 'DECam', detector: 62, visit: 899028},\n",
       "  {instrument: 'DECam', detector: 62, visit: 899029},\n",
       "  {instrument: 'DECam', detector: 62, visit: 899030},\n",
       "  {instrument: 'DECam', detector: 62, visit: 899031},\n",
       "  {instrument: 'DECam', detector: 62, visit: 899032},\n",
       "  {instrument: 'DECam', detector: 62, visit: 899033},\n",
       "  {instrument: 'DECam', detector: 62, visit: 899034},\n",
       "  {instrument: 'DECam', detector: 62, visit: 899035},\n",
       "  {instrument: 'DECam', detector: 62, visit: 899036},\n",
       "  {instrument: 'DECam', detector: 62, visit: 899037},\n",
       "  {instrument: 'DECam', detector: 62, visit: 899038},\n",
       "  {instrument: 'DECam', detector: 62, visit: 899039},\n",
       "  {instrument: 'DECam', detector: 62, visit: 899040},\n",
       "  {instrument: 'DECam', detector: 62, visit: 899041},\n",
       "  {instrument: 'DECam', detector: 62, visit: 899042},\n",
       "  {instrument: 'DECam', detector: 62, visit: 899043},\n",
       "  {instrument: 'DECam', detector: 62, visit: 899044},\n",
       "  {instrument: 'DECam', detector: 62, visit: 899045},\n",
       "  {instrument: 'DECam', detector: 62, visit: 899046},\n",
       "  {instrument: 'DECam', detector: 62, visit: 899047},\n",
       "  {instrument: 'DECam', detector: 62, visit: 899048},\n",
       "  {instrument: 'DECam', detector: 62, visit: 899049},\n",
       "  {instrument: 'DECam', detector: 62, visit: 899050},\n",
       "  {instrument: 'DECam', detector: 62, visit: 899051},\n",
       "  {instrument: 'DECam', detector: 62, visit: 899052},\n",
       "  {instrument: 'DECam', detector: 62, visit: 899053},\n",
       "  {instrument: 'DECam', detector: 62, visit: 899054},\n",
       "  {instrument: 'DECam', detector: 62, visit: 899055},\n",
       "  {instrument: 'DECam', detector: 62, visit: 899056},\n",
       "  {instrument: 'DECam', detector: 62, visit: 899057},\n",
       "  {instrument: 'DECam', detector: 62, visit: 899058},\n",
       "  {instrument: 'DECam', detector: 62, visit: 899059},\n",
       "  {instrument: 'DECam', detector: 62, visit: 899060},\n",
       "  {instrument: 'DECam', detector: 62, visit: 899061},\n",
       "  {instrument: 'DECam', detector: 62, visit: 899062},\n",
       "  {instrument: 'DECam', detector: 62, visit: 899063},\n",
       "  {instrument: 'DECam', detector: 62, visit: 899064},\n",
       "  {instrument: 'DECam', detector: 62, visit: 899065},\n",
       "  {instrument: 'DECam', detector: 62, visit: 899066},\n",
       "  {instrument: 'DECam', detector: 62, visit: 899067},\n",
       "  {instrument: 'DECam', detector: 62, visit: 899068},\n",
       "  {instrument: 'DECam', detector: 62, visit: 899069},\n",
       "  {instrument: 'DECam', detector: 62, visit: 899070},\n",
       "  {instrument: 'DECam', detector: 62, visit: 899071},\n",
       "  {instrument: 'DECam', detector: 62, visit: 899072},\n",
       "  {instrument: 'DECam', detector: 62, visit: 899073},\n",
       "  {instrument: 'DECam', detector: 62, visit: 899074},\n",
       "  {instrument: 'DECam', detector: 62, visit: 899075},\n",
       "  {instrument: 'DECam', detector: 62, visit: 899076},\n",
       "  {instrument: 'DECam', detector: 62, visit: 899077},\n",
       "  {instrument: 'DECam', detector: 62, visit: 899078},\n",
       "  {instrument: 'DECam', detector: 62, visit: 899079},\n",
       "  {instrument: 'DECam', detector: 62, visit: 899080},\n",
       "  {instrument: 'DECam', detector: 62, visit: 899081},\n",
       "  {instrument: 'DECam', detector: 62, visit: 899082},\n",
       "  {instrument: 'DECam', detector: 62, visit: 899083},\n",
       "  {instrument: 'DECam', detector: 62, visit: 899084},\n",
       "  {instrument: 'DECam', detector: 62, visit: 899085},\n",
       "  {instrument: 'DECam', detector: 62, visit: 899086},\n",
       "  {instrument: 'DECam', detector: 62, visit: 899087},\n",
       "  {instrument: 'DECam', detector: 62, visit: 899088},\n",
       "  {instrument: 'DECam', detector: 62, visit: 899089},\n",
       "  {instrument: 'DECam', detector: 62, visit: 899090},\n",
       "  {instrument: 'DECam', detector: 62, visit: 899091},\n",
       "  {instrument: 'DECam', detector: 62, visit: 899092},\n",
       "  {instrument: 'DECam', detector: 62, visit: 899093},\n",
       "  {instrument: 'DECam', detector: 62, visit: 899094},\n",
       "  {instrument: 'DECam', detector: 62, visit: 899095},\n",
       "  {instrument: 'DECam', detector: 62, visit: 899096},\n",
       "  {instrument: 'DECam', detector: 62, visit: 899097},\n",
       "  {instrument: 'DECam', detector: 62, visit: 899098},\n",
       "  {instrument: 'DECam', detector: 62, visit: 899099},\n",
       "  {instrument: 'DECam', detector: 62, visit: 899100},\n",
       "  {instrument: 'DECam', detector: 62, visit: 899101},\n",
       "  {instrument: 'DECam', detector: 62, visit: 899102},\n",
       "  {instrument: 'DECam', detector: 62, visit: 899103},\n",
       "  {instrument: 'DECam', detector: 62, visit: 899104},\n",
       "  {instrument: 'DECam', detector: 62, visit: 899105},\n",
       "  {instrument: 'DECam', detector: 62, visit: 899106},\n",
       "  {instrument: 'DECam', detector: 62, visit: 899107},\n",
       "  {instrument: 'DECam', detector: 62, visit: 899108},\n",
       "  {instrument: 'DECam', detector: 62, visit: 899109},\n",
       "  {instrument: 'DECam', detector: 62, visit: 899110},\n",
       "  {instrument: 'DECam', detector: 62, visit: 899111},\n",
       "  {instrument: 'DECam', detector: 62, visit: 899112},\n",
       "  {instrument: 'DECam', detector: 62, visit: 899113},\n",
       "  {instrument: 'DECam', detector: 62, visit: 899114},\n",
       "  {instrument: 'DECam', detector: 62, visit: 899115},\n",
       "  {instrument: 'DECam', detector: 62, visit: 899020}],\n",
       " 'set_8': [{instrument: 'DECam', detector: 62, visit: 946082},\n",
       "  {instrument: 'DECam', detector: 62, visit: 946083},\n",
       "  {instrument: 'DECam', detector: 62, visit: 946084},\n",
       "  {instrument: 'DECam', detector: 62, visit: 946085},\n",
       "  {instrument: 'DECam', detector: 62, visit: 946086},\n",
       "  {instrument: 'DECam', detector: 62, visit: 946087},\n",
       "  {instrument: 'DECam', detector: 62, visit: 946088},\n",
       "  {instrument: 'DECam', detector: 62, visit: 946089},\n",
       "  {instrument: 'DECam', detector: 62, visit: 946090},\n",
       "  {instrument: 'DECam', detector: 62, visit: 946091},\n",
       "  {instrument: 'DECam', detector: 62, visit: 946092},\n",
       "  {instrument: 'DECam', detector: 62, visit: 946093},\n",
       "  {instrument: 'DECam', detector: 62, visit: 946094},\n",
       "  {instrument: 'DECam', detector: 62, visit: 946095},\n",
       "  {instrument: 'DECam', detector: 62, visit: 946096},\n",
       "  {instrument: 'DECam', detector: 62, visit: 946097},\n",
       "  {instrument: 'DECam', detector: 62, visit: 946098},\n",
       "  {instrument: 'DECam', detector: 62, visit: 946099},\n",
       "  {instrument: 'DECam', detector: 62, visit: 946100},\n",
       "  {instrument: 'DECam', detector: 62, visit: 946101},\n",
       "  {instrument: 'DECam', detector: 62, visit: 946102},\n",
       "  {instrument: 'DECam', detector: 62, visit: 946103},\n",
       "  {instrument: 'DECam', detector: 62, visit: 946104},\n",
       "  {instrument: 'DECam', detector: 62, visit: 946105},\n",
       "  {instrument: 'DECam', detector: 62, visit: 946106},\n",
       "  {instrument: 'DECam', detector: 62, visit: 946107},\n",
       "  {instrument: 'DECam', detector: 62, visit: 946108},\n",
       "  {instrument: 'DECam', detector: 62, visit: 946109},\n",
       "  {instrument: 'DECam', detector: 62, visit: 946110},\n",
       "  {instrument: 'DECam', detector: 62, visit: 946111},\n",
       "  {instrument: 'DECam', detector: 62, visit: 946112},\n",
       "  {instrument: 'DECam', detector: 62, visit: 946113},\n",
       "  {instrument: 'DECam', detector: 62, visit: 946114},\n",
       "  {instrument: 'DECam', detector: 62, visit: 946115},\n",
       "  {instrument: 'DECam', detector: 62, visit: 946116},\n",
       "  {instrument: 'DECam', detector: 62, visit: 946117},\n",
       "  {instrument: 'DECam', detector: 62, visit: 946118},\n",
       "  {instrument: 'DECam', detector: 62, visit: 946119},\n",
       "  {instrument: 'DECam', detector: 62, visit: 946120},\n",
       "  {instrument: 'DECam', detector: 62, visit: 946121},\n",
       "  {instrument: 'DECam', detector: 62, visit: 946122},\n",
       "  {instrument: 'DECam', detector: 62, visit: 946123},\n",
       "  {instrument: 'DECam', detector: 62, visit: 946124},\n",
       "  {instrument: 'DECam', detector: 62, visit: 946125},\n",
       "  {instrument: 'DECam', detector: 62, visit: 946126},\n",
       "  {instrument: 'DECam', detector: 62, visit: 946127},\n",
       "  {instrument: 'DECam', detector: 62, visit: 946128},\n",
       "  {instrument: 'DECam', detector: 62, visit: 946129},\n",
       "  {instrument: 'DECam', detector: 62, visit: 946130},\n",
       "  {instrument: 'DECam', detector: 62, visit: 946131},\n",
       "  {instrument: 'DECam', detector: 62, visit: 946132},\n",
       "  {instrument: 'DECam', detector: 62, visit: 946133},\n",
       "  {instrument: 'DECam', detector: 62, visit: 946134},\n",
       "  {instrument: 'DECam', detector: 62, visit: 946135},\n",
       "  {instrument: 'DECam', detector: 62, visit: 946136},\n",
       "  {instrument: 'DECam', detector: 62, visit: 946137},\n",
       "  {instrument: 'DECam', detector: 62, visit: 946138},\n",
       "  {instrument: 'DECam', detector: 62, visit: 946139},\n",
       "  {instrument: 'DECam', detector: 62, visit: 946140},\n",
       "  {instrument: 'DECam', detector: 62, visit: 946141},\n",
       "  {instrument: 'DECam', detector: 62, visit: 946142},\n",
       "  {instrument: 'DECam', detector: 62, visit: 946143},\n",
       "  {instrument: 'DECam', detector: 62, visit: 946144},\n",
       "  {instrument: 'DECam', detector: 62, visit: 946145},\n",
       "  {instrument: 'DECam', detector: 62, visit: 946146},\n",
       "  {instrument: 'DECam', detector: 62, visit: 946147},\n",
       "  {instrument: 'DECam', detector: 62, visit: 946148},\n",
       "  {instrument: 'DECam', detector: 62, visit: 946149},\n",
       "  {instrument: 'DECam', detector: 62, visit: 946150},\n",
       "  {instrument: 'DECam', detector: 62, visit: 946151},\n",
       "  {instrument: 'DECam', detector: 62, visit: 946152},\n",
       "  {instrument: 'DECam', detector: 62, visit: 946153},\n",
       "  {instrument: 'DECam', detector: 62, visit: 946154},\n",
       "  {instrument: 'DECam', detector: 62, visit: 946155},\n",
       "  {instrument: 'DECam', detector: 62, visit: 946156},\n",
       "  {instrument: 'DECam', detector: 62, visit: 946157},\n",
       "  {instrument: 'DECam', detector: 62, visit: 946158},\n",
       "  {instrument: 'DECam', detector: 62, visit: 946159},\n",
       "  {instrument: 'DECam', detector: 62, visit: 946160},\n",
       "  {instrument: 'DECam', detector: 62, visit: 946161},\n",
       "  {instrument: 'DECam', detector: 62, visit: 946162},\n",
       "  {instrument: 'DECam', detector: 62, visit: 946163},\n",
       "  {instrument: 'DECam', detector: 62, visit: 946164},\n",
       "  {instrument: 'DECam', detector: 62, visit: 946165},\n",
       "  {instrument: 'DECam', detector: 62, visit: 946166},\n",
       "  {instrument: 'DECam', detector: 62, visit: 946167},\n",
       "  {instrument: 'DECam', detector: 62, visit: 946168},\n",
       "  {instrument: 'DECam', detector: 62, visit: 946169},\n",
       "  {instrument: 'DECam', detector: 62, visit: 946170},\n",
       "  {instrument: 'DECam', detector: 62, visit: 946171},\n",
       "  {instrument: 'DECam', detector: 62, visit: 946172},\n",
       "  {instrument: 'DECam', detector: 62, visit: 946173},\n",
       "  {instrument: 'DECam', detector: 62, visit: 946174},\n",
       "  {instrument: 'DECam', detector: 62, visit: 946175},\n",
       "  {instrument: 'DECam', detector: 62, visit: 946176},\n",
       "  {instrument: 'DECam', detector: 62, visit: 946081}]}"
      ]
     },
     "execution_count": 268,
     "metadata": {},
     "output_type": "execute_result"
    }
   ],
   "source": [
    "overlapping_sets"
   ]
  },
  {
   "cell_type": "code",
   "execution_count": 273,
   "id": "25710a99",
   "metadata": {},
   "outputs": [
    {
     "name": "stderr",
     "output_type": "stream",
     "text": [
      " 53% (25405 of 47383) |#########         | Elapsed Time: 0:40:26 ETA:   1:07:25IOPub message rate exceeded.\n",
      "The notebook server will temporarily stop sending output\n",
      "to the client in order to avoid crashing it.\n",
      "To change this limit, set the config variable\n",
      "`--NotebookApp.iopub_msg_rate_limit`.\n",
      "\n",
      "Current values:\n",
      "NotebookApp.iopub_msg_rate_limit=1000.0 (msgs/sec)\n",
      "NotebookApp.rate_limit_window=3.0 (secs)\n",
      "\n",
      " 73% (34916 of 47383) |#############     | Elapsed Time: 1:15:02 ETA:   0:49:16IOPub message rate exceeded.\n",
      "The notebook server will temporarily stop sending output\n",
      "to the client in order to avoid crashing it.\n",
      "To change this limit, set the config variable\n",
      "`--NotebookApp.iopub_msg_rate_limit`.\n",
      "\n",
      "Current values:\n",
      "NotebookApp.iopub_msg_rate_limit=1000.0 (msgs/sec)\n",
      "NotebookApp.rate_limit_window=3.0 (secs)\n",
      "\n",
      " 85% (40710 of 47383) |###############   | Elapsed Time: 1:41:13 ETA:   0:34:17IOPub message rate exceeded.\n",
      "The notebook server will temporarily stop sending output\n",
      "to the client in order to avoid crashing it.\n",
      "To change this limit, set the config variable\n",
      "`--NotebookApp.iopub_msg_rate_limit`.\n",
      "\n",
      "Current values:\n",
      "NotebookApp.iopub_msg_rate_limit=1000.0 (msgs/sec)\n",
      "NotebookApp.rate_limit_window=3.0 (secs)\n",
      "\n",
      " 91% (43160 of 47383) |################  | Elapsed Time: 1:53:20 ETA:   0:21:12IOPub message rate exceeded.\n",
      "The notebook server will temporarily stop sending output\n",
      "to the client in order to avoid crashing it.\n",
      "To change this limit, set the config variable\n",
      "`--NotebookApp.iopub_msg_rate_limit`.\n",
      "\n",
      "Current values:\n",
      "NotebookApp.iopub_msg_rate_limit=1000.0 (msgs/sec)\n",
      "NotebookApp.rate_limit_window=3.0 (secs)\n",
      "\n"
     ]
    }
   ],
   "source": [
    "%%time\n",
    "\n",
    "# TIMING NOTE: this takes about 1.25 hours(?) [TODO update that number]\n",
    "# [TODO] caching\n",
    "overlapping_sets = find_overlapping_coords(df=df, uncertainty_radius=30)"
   ]
  },
  {
   "cell_type": "code",
   "execution_count": 274,
   "id": "22b7212c",
   "metadata": {},
   "outputs": [
    {
     "data": {
      "text/plain": [
       "488"
      ]
     },
     "execution_count": 274,
     "metadata": {},
     "output_type": "execute_result"
    }
   ],
   "source": [
    "len(overlapping_sets)"
   ]
  }
 ],
 "metadata": {
  "kernelspec": {
   "display_name": "LSST w_2022_06",
   "language": "python",
   "name": "opt_lsst_w_2022_06"
  },
  "language_info": {
   "codemirror_mode": {
    "name": "ipython",
    "version": 3
   },
   "file_extension": ".py",
   "mimetype": "text/x-python",
   "name": "python",
   "nbconvert_exporter": "python",
   "pygments_lexer": "ipython3",
   "version": "3.8.18"
  }
 },
 "nbformat": 4,
 "nbformat_minor": 5
}
