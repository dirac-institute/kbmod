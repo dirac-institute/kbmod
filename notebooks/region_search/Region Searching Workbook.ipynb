{
 "cells": [
  {
   "cell_type": "markdown",
   "id": "d94d8d2b",
   "metadata": {},
   "source": [
    "# Region Searching for KBMOD\n",
    "\n",
    "The point of this notebook is to do step-by-step exploration of the DEEP dataset that was first run through KBMOD for the first set of papers. That work was led by Hayden Smotherman, hence the reference to that name.\n",
    "\n",
    "The \"Steven\" name that appears is Steven Stetzler, who inherited the responsibilities of properly re/processing the entire DEEP dataset through data acquired through 2023.\n",
    "\n",
    "### Basic Idea\n",
    "Here we are connecting to an existing Butler/repository with the intent of carrying out queries to find data suitable for KBMOD to use.\n",
    "\n",
    "#### FAQ\n",
    "\n",
    "Q: Who wrote this, and when?\\\n",
    "A: Colin Orion Chandler (coc123@uw.edu), late January 2024.\n",
    "\n",
    "Q: What are the basic requirements to run this?\\\n",
    "A: (a) Epyc access, (b) with the appropriate (LSST w_2022_06) weekly build active, (c) permissions to access the repo_path mentioned below, and (d) an acceptable Kernel in the Jupyter-Hub of Epyc (user or global).\n",
    "\n",
    "Q: Why don't we just query the DB (e.g., PostGres, SQLite) to get what we need?\\\n",
    "A: Because (a) the underlying schema can (and has/does) change, and (b) the underlying DB does not contain views, meaning that we would have to recreate the very complex relational mapping ourselves. Moreover, aside from (b) being very challenging, the relationship mapping recreation would fail due to the reasons mentioned in (a)."
   ]
  },
  {
   "cell_type": "markdown",
   "id": "9ea4ebd7",
   "metadata": {},
   "source": [
    "### Initial Setup"
   ]
  },
  {
   "cell_type": "code",
   "execution_count": 1,
   "id": "d0189084",
   "metadata": {},
   "outputs": [],
   "source": [
    "# Import packages needed to run the notebook\n",
    "import lsst\n",
    "import lsst.daf.butler as dafButler\n",
    "import lsst.sphgeom as sphgeom\n",
    "\n",
    "import os\n",
    "import glob\n",
    "\n",
    "import multiprocessing\n",
    "from concurrent.futures import ProcessPoolExecutor, as_completed\n",
    "\n",
    "import time\n",
    "from dateutil import parser\n",
    "\n",
    "import pandas as pd\n",
    "import numpy as np\n",
    "\n",
    "from matplotlib import pyplot as plt\n",
    "from matplotlib.cm import get_cmap\n",
    "from matplotlib.colors import Normalize\n",
    "import matplotlib.colors as mcolors\n",
    "\n",
    "import progressbar\n",
    "\n",
    "from astropy.time import Time  # for converting Butler visitInfo.date (TAI) to UTC strings\n",
    "from astropy import units as u\n",
    "from astropy.coordinates import SkyCoord\n",
    "import astropy.io.fits as fits\n",
    "\n",
    "import pickle"
   ]
  },
  {
   "cell_type": "code",
   "execution_count": 2,
   "id": "ceeec168",
   "metadata": {},
   "outputs": [
    {
     "name": "stdout",
     "output_type": "stream",
     "text": [
      "96 CPUs were reported as available by the multiprocessing module.\n"
     ]
    }
   ],
   "source": [
    "# We will use some kind of multiprocessing in a few places. Let's see what the sytsem thinks we have available.\n",
    "# NOTE: we could set limits on executors later using this value, if desired. 2/6/2024 COC\n",
    "\n",
    "available_cpus = multiprocessing.cpu_count()\n",
    "print(f\"{available_cpus} CPUs were reported as available by the multiprocessing module.\")"
   ]
  },
  {
   "cell_type": "code",
   "execution_count": 3,
   "id": "693492d4",
   "metadata": {},
   "outputs": [],
   "source": [
    "# this code will run in different environments, so we need somewhere (not the working directory) to save output\n",
    "basedir = f'{os.environ[\"HOME\"]}/kbmod_tmp'\n",
    "os.makedirs(basedir, exist_ok=True)"
   ]
  },
  {
   "cell_type": "code",
   "execution_count": 4,
   "id": "b13eb927",
   "metadata": {},
   "outputs": [],
   "source": [
    "# set up the Butler\n",
    "# NOTE: the repo path contains configs that point us to the underlying registry (DB)\n",
    "# NOTE: do NOT assume there is write protection! (i.e., don't make changes)\n",
    "repo_path = f\"/epyc/users/smotherh/DEEP/PointingGroups/butler-repo\"\n",
    "butler = dafButler.Butler(repo_path)"
   ]
  },
  {
   "cell_type": "markdown",
   "id": "85cc47d8",
   "metadata": {},
   "source": [
    "#### Collections\n",
    "1. Explore the available collections\n",
    "2. Construct a list of the collections containing the data we care about.\n",
    "\n",
    "Different collections hold different datasets.\n",
    "\n",
    "For the Hayden DEEP repo, the collections we are concerned with are organized by pointing groups (discrete regions on the sky).\n",
    "\n",
    "We want to figure out what those are, how they are named, and what else is available.\n",
    "\n",
    "We will also dump a full list of collection names to disk. \\\n",
    "NOTE: as of 2/1/2024, there are 1,292 named collections in the repo.\n"
   ]
  },
  {
   "cell_type": "code",
   "execution_count": 5,
   "id": "e6a546f0",
   "metadata": {},
   "outputs": [],
   "source": [
    "def get_collection_names(butler, basedir, verbose=False, export=True):\n",
    "    \"\"\"\n",
    "    Making this a function 2/6/2024 COC.\n",
    "    \"\"\"\n",
    "    all_collection_names = []\n",
    "\n",
    "    for c in sorted(butler.registry.queryCollections(\"*\")):\n",
    "        all_collection_names.append(c)\n",
    "\n",
    "    if export == True:\n",
    "        outfile = f\"{basedir}/all_collection_names.lst\"\n",
    "        with open(outfile, \"w\") as f:\n",
    "            for c in all_collection_names:\n",
    "                print(c, file=f)\n",
    "\n",
    "    if verbose:\n",
    "        message = f\"Found {len(all_collection_names)} collections in the Butler.\"\n",
    "        if export == True:\n",
    "            message += f' Wrote to \"{outfile}\".'\n",
    "        print(message)\n",
    "    return all_collection_names"
   ]
  },
  {
   "cell_type": "code",
   "execution_count": 6,
   "id": "3006e4fd",
   "metadata": {},
   "outputs": [
    {
     "name": "stdout",
     "output_type": "stream",
     "text": [
      "Found 1292 collections in the Butler. Wrote to \"/astro/users/coc123/kbmod_tmp/all_collection_names.lst\".\n"
     ]
    }
   ],
   "source": [
    "all_collection_names = get_collection_names(butler=butler, basedir=basedir, verbose=True, export=True)"
   ]
  },
  {
   "cell_type": "code",
   "execution_count": 7,
   "id": "b409c810",
   "metadata": {},
   "outputs": [],
   "source": [
    "# We looked through the collections already.\n",
    "# We will string manipulate to get to what we need.\n",
    "# Previously, we used a list file on disk. (This could be a better option for some users.)\n",
    "\n",
    "\n",
    "def get_desired_collections(all_collections_list, desired_collection_list=None):\n",
    "    \"\"\"\n",
    "    Produce a list of collections that will be used for querying the Butler.\n",
    "\n",
    "    If desired_collection_list is None, then a hard-wired \"default\" approach\n",
    "    (for Haden/DEEP) is carried out, requiring:\n",
    "        1. \"Pointing\" must be in the collection name.\n",
    "        2. \"/imdiff_r/\" must be in the collection name.\n",
    "        3. \"/2021\" may not be in the collection name.\n",
    "\n",
    "    Otherwise, desired_collection_list can be either\n",
    "        1. a Python list of desired collection names, or\n",
    "        2. a filename (ending in .lst) that specifies the desired collections.\n",
    "    Either way, the collection names are verified against the (required) collections_list.\n",
    "\n",
    "    Made this into a function 2/6/2024 COC.\n",
    "\n",
    "    NOTE/TODO: untested are the supplied list and list file approaches.\n",
    "    \"\"\"\n",
    "\n",
    "    desired_collections = []\n",
    "\n",
    "    if desired_collection_list == None:\n",
    "        for collection_name in all_collection_names:\n",
    "            if (\n",
    "                \"Pointing\" in collection_name\n",
    "                and \"/imdiff_r\" in collection_name\n",
    "                and \"/2021\" not in collection_name\n",
    "            ):\n",
    "                desired_collections.append(collection_name)\n",
    "    else:\n",
    "        if type(desired_collection_list) == type(\"\"):\n",
    "            with open(desired_collection_list, \"r\") as f:\n",
    "                for line in f:\n",
    "                    desired_collections.append(line.strip())\n",
    "        else:\n",
    "            for entry in desired_collection_list:\n",
    "                desired_collections.append(entry)\n",
    "    #\n",
    "    # Validate entries\n",
    "    for entry in desired_collections:\n",
    "        if entry not in all_collections_list:\n",
    "            raise KeyError(f'\"{entry}\" is not in the master list of collections supplied.')\n",
    "    #\n",
    "    return desired_collections"
   ]
  },
  {
   "cell_type": "code",
   "execution_count": 8,
   "id": "dc9a4efc",
   "metadata": {},
   "outputs": [
    {
     "data": {
      "text/plain": [
       "['PointingGroup006/imdiff_r',\n",
       " 'PointingGroup008/imdiff_r',\n",
       " 'PointingGroup009/imdiff_r',\n",
       " 'PointingGroup016/imdiff_r',\n",
       " 'PointingGroup018/imdiff_r',\n",
       " 'PointingGroup019/imdiff_r',\n",
       " 'PointingGroup021/imdiff_r',\n",
       " 'PointingGroup023/imdiff_r']"
      ]
     },
     "execution_count": 8,
     "metadata": {},
     "output_type": "execute_result"
    }
   ],
   "source": [
    "desired_collections = get_desired_collections(all_collections_list=all_collection_names)\n",
    "desired_collections"
   ]
  },
  {
   "cell_type": "code",
   "execution_count": 9,
   "id": "4537e06a",
   "metadata": {},
   "outputs": [],
   "source": [
    "# ASIDE: there is a set of collections with dates in their names\n",
    "#   (e.g., PointingGroup006/imdiff_r/20211110T184421Z).\n",
    "# Those (only?) have the following datasetTypes, (so we use the name without the date for all the datasetTypes):\n",
    "# Across all collections, we see the following numbers by datasetType:\n",
    "# 47383      deepDiff_diaSrc\n",
    "# 8          deepDiff_diaSrc_schema\n",
    "# 47383      deepDiff_differenceExp\n",
    "# 29445      deepDiff_warpedExp\n",
    "# 8          imageDifference_config\n",
    "# 17942      imageDifference_log\n",
    "# 47383      imageDifference_metadata\n",
    "# 8          packages\n",
    "\n",
    "# which is too little? we we will snag the parent Collections (stripping dates)"
   ]
  },
  {
   "cell_type": "markdown",
   "id": "2fcdae7b",
   "metadata": {},
   "source": [
    "#### datasetTypes\n",
    "\n",
    "Here we explore another dimension of the Butler: datasetType.\n",
    "\n",
    "tldr; we just care about one currently: deepDiff_differenceExp"
   ]
  },
  {
   "cell_type": "code",
   "execution_count": 10,
   "id": "47c8c37c",
   "metadata": {},
   "outputs": [],
   "source": [
    "# TIMING NOTE: about 2 minutes here\n",
    "#\n",
    "# Maybe a KBMOD user must know which datasetType(s) they need?\n",
    "# Here we show how to explore them to figure that out.\n",
    "#\n",
    "# NOTE: we tested two approaches,\n",
    "#   (a) iterating over desired_collections, and\n",
    "#   (b) supply desired_collections.\n",
    "# The output was the same, but the iterating method took 268s, and the supplied method took 97s.\n",
    "# There *was* a point where we thought we were seeing different results depending on the approach,\n",
    "# but this has been sorted out. (COC suspects a testing break in a loop somwhere.)\n",
    "# COC NTS: [TODO] function, [TODO] caching\n",
    "\n",
    "\n",
    "def getDatasetTypeStats(butler, overwrite=False):\n",
    "    \"\"\"\n",
    "    Get information on all datasetTypes found in a Butler.\n",
    "    TODO implement caching if desired. If not, get rid of overwrite option.\n",
    "    2/1/2024 COC\n",
    "    \"\"\"\n",
    "    datasetTypes = {}\n",
    "\n",
    "    cache_file = f\"{basedir}/dataset_types.csv\"\n",
    "    cache_exists = False\n",
    "    if len(glob.glob(cache_file)) > 0:\n",
    "        cache_exists = True\n",
    "\n",
    "    if overwrite == False and cache_exists == True:\n",
    "        print(f\"Recycling {cache_file} as overwrite was False...\")\n",
    "        with open(cache_file, \"r\") as f:\n",
    "            for line in f:\n",
    "                print(line)\n",
    "                line = line.strip().split(\",\")\n",
    "                datasetTypes[line[0]] = int(line[1])\n",
    "        print(f\"Read {len(datasetTypes)} datasetTypes from disk.\")\n",
    "        return datasetTypes\n",
    "\n",
    "    q = sorted(butler.registry.queryDatasetTypes())\n",
    "\n",
    "    with progressbar.ProgressBar(max_value=len(q)) as bar:\n",
    "        for j, dt in enumerate(q):\n",
    "            n = 0\n",
    "            for i, ref in enumerate(\n",
    "                butler.registry.queryDatasets(datasetType=dt, collections=desired_collections)\n",
    "            ):\n",
    "                n += 1\n",
    "            if n > 0:\n",
    "                if dt.name not in datasetTypes:\n",
    "                    datasetTypes[dt.name] = 0\n",
    "                datasetTypes[dt.name] += n\n",
    "            bar.update(j)\n",
    "\n",
    "    if cache_exists == False or overwrite == True:\n",
    "        print(f\"Saving {len(datasetTypes)} datasetTypes to {cache_file} now...\")\n",
    "        with open(cache_file, \"w\") as f:\n",
    "            for key in datasetTypes:\n",
    "                print(f\"{key},{datasetTypes[key]}\", file=f)\n",
    "    else:\n",
    "        print(f\"Saw {len(datasetTypes)} datasetTypes.\")\n",
    "    return datasetTypes"
   ]
  },
  {
   "cell_type": "code",
   "execution_count": 11,
   "id": "b741015f",
   "metadata": {},
   "outputs": [
    {
     "name": "stdout",
     "output_type": "stream",
     "text": [
      "Recycling /astro/users/coc123/kbmod_tmp/dataset_types.csv as overwrite was False...\n",
      "assembleCoadd_config,8\n",
      "\n",
      "assembleCoadd_log,268\n",
      "\n",
      "assembleCoadd_metadata,700\n",
      "\n",
      "cal_ref_cat,122856\n",
      "\n",
      "calexp,47403\n",
      "\n",
      "calexpBackground,47403\n",
      "\n",
      "calibrate_config,8\n",
      "\n",
      "calibrate_log,17961\n",
      "\n",
      "calibrate_metadata,47403\n",
      "\n",
      "characterizeImage_config,8\n",
      "\n",
      "characterizeImage_log,18290\n",
      "\n",
      "characterizeImage_metadata,47423\n",
      "\n",
      "deepCoadd,693\n",
      "\n",
      "deepCoadd_directWarp,167085\n",
      "\n",
      "deepCoadd_inputMap,693\n",
      "\n",
      "deepCoadd_psfMatchedWarp,167085\n",
      "\n",
      "deepDiff_diaSrc,47383\n",
      "\n",
      "deepDiff_diaSrc_schema,8\n",
      "\n",
      "deepDiff_differenceExp,47383\n",
      "\n",
      "deepDiff_warpedExp,29445\n",
      "\n",
      "gaia_DR1_v1,524283\n",
      "\n",
      "icExp,47423\n",
      "\n",
      "icExpBackground,47423\n",
      "\n",
      "icSrc,47423\n",
      "\n",
      "icSrc_schema,8\n",
      "\n",
      "imageDifference_config,8\n",
      "\n",
      "imageDifference_log,17942\n",
      "\n",
      "imageDifference_metadata,47383\n",
      "\n",
      "isr_config,8\n",
      "\n",
      "isr_log,18290\n",
      "\n",
      "isr_metadata,48422\n",
      "\n",
      "makeWarp_config,8\n",
      "\n",
      "makeWarp_log,64924\n",
      "\n",
      "makeWarp_metadata,167085\n",
      "\n",
      "overscanRaw,48422\n",
      "\n",
      "overscan_config,8\n",
      "\n",
      "overscan_log,18290\n",
      "\n",
      "overscan_metadata,48422\n",
      "\n",
      "packages,32\n",
      "\n",
      "postISRCCD,48422\n",
      "\n",
      "ps1_pv3_3pi_20170110,130924\n",
      "\n",
      "raw,48422\n",
      "\n",
      "skyMap,1\n",
      "\n",
      "src,47403\n",
      "\n",
      "srcMatch,47403\n",
      "\n",
      "src_schema,8\n",
      "\n",
      "Read 46 datasetTypes from disk.\n",
      "CPU times: user 1.66 ms, sys: 0 ns, total: 1.66 ms\n",
      "Wall time: 1.58 ms\n"
     ]
    }
   ],
   "source": [
    "%%time\n",
    "# TIMING NOTE: this takes roughly 2.5 minutes without cache (2/6/2024 COC)\n",
    "datasetTypes = getDatasetTypeStats(butler=butler, overwrite=False)"
   ]
  },
  {
   "cell_type": "code",
   "execution_count": 12,
   "id": "6406f04c",
   "metadata": {},
   "outputs": [
    {
     "name": "stdout",
     "output_type": "stream",
     "text": [
      "Across all collections, we see the following numbers by datasetType: \n",
      "8          assembleCoadd_config\n",
      "268        assembleCoadd_log\n",
      "700        assembleCoadd_metadata\n",
      "122856     cal_ref_cat\n",
      "47403      calexp\n",
      "47403      calexpBackground\n",
      "8          calibrate_config\n",
      "17961      calibrate_log\n",
      "47403      calibrate_metadata\n",
      "8          characterizeImage_config\n",
      "18290      characterizeImage_log\n",
      "47423      characterizeImage_metadata\n",
      "693        deepCoadd\n",
      "167085     deepCoadd_directWarp\n",
      "693        deepCoadd_inputMap\n",
      "167085     deepCoadd_psfMatchedWarp\n",
      "47383      deepDiff_diaSrc\n",
      "8          deepDiff_diaSrc_schema\n",
      "47383      deepDiff_differenceExp\n",
      "29445      deepDiff_warpedExp\n",
      "524283     gaia_DR1_v1\n",
      "47423      icExp\n",
      "47423      icExpBackground\n",
      "47423      icSrc\n",
      "8          icSrc_schema\n",
      "8          imageDifference_config\n",
      "17942      imageDifference_log\n",
      "47383      imageDifference_metadata\n",
      "8          isr_config\n",
      "18290      isr_log\n",
      "48422      isr_metadata\n",
      "8          makeWarp_config\n",
      "64924      makeWarp_log\n",
      "167085     makeWarp_metadata\n",
      "48422      overscanRaw\n",
      "8          overscan_config\n",
      "18290      overscan_log\n",
      "48422      overscan_metadata\n",
      "32         packages\n",
      "48422      postISRCCD\n",
      "130924     ps1_pv3_3pi_20170110\n",
      "48422      raw\n",
      "1          skyMap\n",
      "47403      src\n",
      "47403      srcMatch\n",
      "8          src_schema\n"
     ]
    }
   ],
   "source": [
    "# The number of records for each datasetType.\n",
    "# This may be especially useful for users who do not yet know which datasetType(s) they need.\n",
    "\n",
    "print(f\"Across all collections, we see the following numbers by datasetType: \")\n",
    "for dt in datasetTypes:\n",
    "    print(f\"{datasetTypes[dt]!s:10} {dt}\")"
   ]
  },
  {
   "cell_type": "code",
   "execution_count": 13,
   "id": "53a03c75",
   "metadata": {},
   "outputs": [],
   "source": [
    "# This is the datasetType that we care about.\n",
    "# NOTE: we should allow this to be a list in case a user needs multiple.\n",
    "desired_datasetTypes = [\"deepDiff_differenceExp\"]"
   ]
  },
  {
   "cell_type": "markdown",
   "id": "3c351fc7",
   "metadata": {},
   "source": [
    "### Visit Detector Region (VDR) Querying\n",
    "\n",
    "Here we will query the Butler and extract all of the \"visit_detector_region\" information.\\\n",
    "At this stage we are gathering:\n",
    "1. dataIds for all future queries\n",
    "2. lsst.sphgeom.region objects"
   ]
  },
  {
   "cell_type": "code",
   "execution_count": 14,
   "id": "9f3f393e",
   "metadata": {},
   "outputs": [],
   "source": [
    "def clean_dataId(dataId, verbose=True):\n",
    "    \"\"\"\n",
    "    We need a way to extract a portable (non-LSST object) version of the DataId.\n",
    "    A dataId normally looks like a dictionary with keys of instrument, detector, visit.\n",
    "    4/22/2024 COC\n",
    "    \"\"\"\n",
    "    fields = [\"instrument\", \"detector\", \"visit\"]\n",
    "    clean_id = {}\n",
    "    #\n",
    "    if type(dataId) == type({}) and list(dataId.keys()) == fields:\n",
    "        if verbose:\n",
    "            print(f\"dataId was already a properly formatted dict: {dataId}.\")\n",
    "        return dataId\n",
    "    #\n",
    "    try:\n",
    "        dataId = dataId.values_tuple()\n",
    "    except AttributeError as msg:\n",
    "        if verbose:\n",
    "            print(f\"dataId did not have a values_tuple() attribute. Message was {msg}.\")\n",
    "        pass\n",
    "    #\n",
    "    if type(dataId) == type((1, 1, 1)):\n",
    "        for i, label in enumerate(fields):\n",
    "            clean_id[label] = dataId[i]\n",
    "        if verbose:\n",
    "            print(f\"Derived {clean_id} from tuple {dataId}.\")\n",
    "        return clean_id\n",
    "    #\n",
    "    for i, label in enumerate(fields):\n",
    "        try:\n",
    "            clean_id[label] = dataId[label]\n",
    "        except KeyError as msg:\n",
    "            print(f\"KeyError for {label} with dataId= {dataId}. Message was: {msg}.\")\n",
    "            break\n",
    "    #\n",
    "    if clean_id == {}:\n",
    "        raise ValueError(f\"Failed to create clean_id for dataId={dataId}.\")\n",
    "    #\n",
    "    return clean_id"
   ]
  },
  {
   "cell_type": "code",
   "execution_count": 15,
   "id": "b7d7482e",
   "metadata": {},
   "outputs": [],
   "source": [
    "def dataId_to_dataIdStr(dataId, force_clean=False, verbose=False):\n",
    "    \"\"\"\n",
    "    We will store a shortened, concatenated version of this unique triple.\n",
    "    This is needed because dict values in a column are not hashable.\n",
    "    Example: \"{instrument: 'DECam', detector: 1, visit: 898287}\" becomes \"DECam_1_898287\"\n",
    "    4/23/2024 COC\n",
    "    \"\"\"\n",
    "    if force_clean:\n",
    "        dataId = clean_dataId(dataId=dataId, verbose=verbose)\n",
    "    #\n",
    "    dataId_str = f\"{dataId['instrument']}_{dataId['detector']}_{dataId['visit']}\"\n",
    "    #\n",
    "    if verbose:\n",
    "        print(f\"dataId {dataId} became: {dataId_str}\")\n",
    "    #\n",
    "    return dataId_str"
   ]
  },
  {
   "cell_type": "code",
   "execution_count": 16,
   "id": "c0fc27d8",
   "metadata": {},
   "outputs": [
    {
     "name": "stdout",
     "output_type": "stream",
     "text": [
      "dataId was already a properly formatted dict: {'instrument': 'DECam', 'detector': 1, 'visit': 898287}.\n",
      "dataId {'instrument': 'DECam', 'detector': 1, 'visit': 898287} became: DECam_1_898287\n"
     ]
    },
    {
     "data": {
      "text/plain": [
       "'DECam_1_898287'"
      ]
     },
     "execution_count": 16,
     "metadata": {},
     "output_type": "execute_result"
    }
   ],
   "source": [
    "# test with the case of a dataId that is already a valid dict\n",
    "dataId_to_dataIdStr(\n",
    "    dataId={\"instrument\": \"DECam\", \"detector\": 1, \"visit\": 898287}, force_clean=True, verbose=True\n",
    ")"
   ]
  },
  {
   "cell_type": "code",
   "execution_count": 17,
   "id": "c47e5588",
   "metadata": {},
   "outputs": [],
   "source": [
    "def get_vdr_data(butler, desired_collections, desired_datasetTypes, verbose=False):\n",
    "    \"\"\"\n",
    "    Made as function 2/6/2024 COC.\n",
    "    \"\"\"\n",
    "    # VDR === Visit Detector Region\n",
    "    # VDRs hold what we need in terms of region hashes and unique dataIds.\n",
    "    # NOTE: this typically takes < 5s to run 2/1/2024 COC\n",
    "    # NOTE: tried iterating over desired_collections vs supplying desired_collections; same output 2/1/2024 COC\n",
    "\n",
    "    vdr_dict = {\"data_id\": [], \"region\": [], \"detector\": []}\n",
    "    #     vdr_ids = []\n",
    "    #     vdr_regions = []\n",
    "    #     vdr_detectors = []\n",
    "\n",
    "    for dt in desired_datasetTypes:\n",
    "        datasetRefs = butler.registry.queryDimensionRecords(\n",
    "            \"visit_detector_region\", datasets=dt, collections=desired_collections\n",
    "        )\n",
    "        for ref in datasetRefs:\n",
    "            vdr_dict[\"data_id\"].append(clean_dataId(ref.dataId, verbose=verbose))\n",
    "            vdr_dict[\"region\"].append(\n",
    "                ref.region\n",
    "            )  # keeping as objects for now; should .encode() for caching/export\n",
    "            vdr_dict[\"detector\"].append(ref.detector)  # 2/2/2024 COC\n",
    "            # BUT if we decided to export this or cache this, we should write the encode() version to disk\n",
    "            #\n",
    "            example_vdr_ref = ref  # this leaves a VDR Python object we can play with\n",
    "            # other data available:\n",
    "            #    id = ref.id# id -- e.g., 1592350 (for DEEP dataset, I think UUIDs for newer Butlers)\n",
    "            #    visit = ref.dataId.full['visit'] # e.g., 946725\n",
    "            # vdr_filters.append(ref.dataId.full['band']) # e.g., VR\n",
    "            # vdr_detectors.append(ref.dataId.full['detector']) # e.g., 1\n",
    "    df = pd.DataFrame.from_dict(vdr_dict)\n",
    "    return df, example_vdr_ref"
   ]
  },
  {
   "cell_type": "code",
   "execution_count": 18,
   "id": "eb222e02",
   "metadata": {},
   "outputs": [
    {
     "name": "stdout",
     "output_type": "stream",
     "text": [
      "CPU times: user 2.05 s, sys: 79.6 ms, total: 2.13 s\n",
      "Wall time: 2.64 s\n"
     ]
    }
   ],
   "source": [
    "%%time\n",
    "# TIMING NOTE: requires about 2 seconds 2/6/2024 COC\n",
    "df, example_vdr_ref = get_vdr_data(\n",
    "    butler=butler, desired_collections=desired_collections, desired_datasetTypes=desired_datasetTypes\n",
    ")"
   ]
  },
  {
   "cell_type": "code",
   "execution_count": 19,
   "id": "d7d6ada2",
   "metadata": {},
   "outputs": [
    {
     "data": {
      "text/plain": [
       "lsst.daf.butler.core.dimensions._coordinate._BasicTupleDataCoordinate"
      ]
     },
     "execution_count": 19,
     "metadata": {},
     "output_type": "execute_result"
    }
   ],
   "source": [
    "# notice the dataId type is not a plain tuple; so we created a function clean_dataId() to handle this.\n",
    "type(example_vdr_ref.dataId)"
   ]
  },
  {
   "cell_type": "code",
   "execution_count": 20,
   "id": "c2125e49",
   "metadata": {},
   "outputs": [],
   "source": [
    "# We also need a string version of the dataId that is hashable. 4/23/2024 COC\n",
    "df[\"data_id_str\"] = [dataId_to_dataIdStr(dataId=dataId) for dataId in df[\"data_id\"]]"
   ]
  },
  {
   "cell_type": "code",
   "execution_count": 21,
   "id": "6e9462e1",
   "metadata": {},
   "outputs": [
    {
     "data": {
      "text/html": [
       "<div>\n",
       "<style scoped>\n",
       "    .dataframe tbody tr th:only-of-type {\n",
       "        vertical-align: middle;\n",
       "    }\n",
       "\n",
       "    .dataframe tbody tr th {\n",
       "        vertical-align: top;\n",
       "    }\n",
       "\n",
       "    .dataframe thead th {\n",
       "        text-align: right;\n",
       "    }\n",
       "</style>\n",
       "<table border=\"1\" class=\"dataframe\">\n",
       "  <thead>\n",
       "    <tr style=\"text-align: right;\">\n",
       "      <th></th>\n",
       "      <th>data_id</th>\n",
       "      <th>region</th>\n",
       "      <th>detector</th>\n",
       "      <th>data_id_str</th>\n",
       "    </tr>\n",
       "  </thead>\n",
       "  <tbody>\n",
       "    <tr>\n",
       "      <th>0</th>\n",
       "      <td>{'instrument': 'DECam', 'detector': 1, 'visit'...</td>\n",
       "      <td>ConvexPolygon([UnitVector3d(0.9847372525065534...</td>\n",
       "      <td>1</td>\n",
       "      <td>DECam_1_898286</td>\n",
       "    </tr>\n",
       "    <tr>\n",
       "      <th>1</th>\n",
       "      <td>{'instrument': 'DECam', 'detector': 1, 'visit'...</td>\n",
       "      <td>ConvexPolygon([UnitVector3d(0.9847381014554984...</td>\n",
       "      <td>1</td>\n",
       "      <td>DECam_1_898287</td>\n",
       "    </tr>\n",
       "    <tr>\n",
       "      <th>2</th>\n",
       "      <td>{'instrument': 'DECam', 'detector': 1, 'visit'...</td>\n",
       "      <td>ConvexPolygon([UnitVector3d(0.9847383417970056...</td>\n",
       "      <td>1</td>\n",
       "      <td>DECam_1_898288</td>\n",
       "    </tr>\n",
       "    <tr>\n",
       "      <th>3</th>\n",
       "      <td>{'instrument': 'DECam', 'detector': 1, 'visit'...</td>\n",
       "      <td>ConvexPolygon([UnitVector3d(0.9847382159041213...</td>\n",
       "      <td>1</td>\n",
       "      <td>DECam_1_898289</td>\n",
       "    </tr>\n",
       "    <tr>\n",
       "      <th>4</th>\n",
       "      <td>{'instrument': 'DECam', 'detector': 1, 'visit'...</td>\n",
       "      <td>ConvexPolygon([UnitVector3d(0.9847381374341414...</td>\n",
       "      <td>1</td>\n",
       "      <td>DECam_1_898290</td>\n",
       "    </tr>\n",
       "    <tr>\n",
       "      <th>...</th>\n",
       "      <td>...</td>\n",
       "      <td>...</td>\n",
       "      <td>...</td>\n",
       "      <td>...</td>\n",
       "    </tr>\n",
       "    <tr>\n",
       "      <th>47378</th>\n",
       "      <td>{'instrument': 'DECam', 'detector': 62, 'visit...</td>\n",
       "      <td>ConvexPolygon([UnitVector3d(0.987608537646486,...</td>\n",
       "      <td>62</td>\n",
       "      <td>DECam_62_946172</td>\n",
       "    </tr>\n",
       "    <tr>\n",
       "      <th>47379</th>\n",
       "      <td>{'instrument': 'DECam', 'detector': 62, 'visit...</td>\n",
       "      <td>ConvexPolygon([UnitVector3d(0.9876085083003562...</td>\n",
       "      <td>62</td>\n",
       "      <td>DECam_62_946173</td>\n",
       "    </tr>\n",
       "    <tr>\n",
       "      <th>47380</th>\n",
       "      <td>{'instrument': 'DECam', 'detector': 62, 'visit...</td>\n",
       "      <td>ConvexPolygon([UnitVector3d(0.9876085761885252...</td>\n",
       "      <td>62</td>\n",
       "      <td>DECam_62_946174</td>\n",
       "    </tr>\n",
       "    <tr>\n",
       "      <th>47381</th>\n",
       "      <td>{'instrument': 'DECam', 'detector': 62, 'visit...</td>\n",
       "      <td>ConvexPolygon([UnitVector3d(0.9876085761885252...</td>\n",
       "      <td>62</td>\n",
       "      <td>DECam_62_946175</td>\n",
       "    </tr>\n",
       "    <tr>\n",
       "      <th>47382</th>\n",
       "      <td>{'instrument': 'DECam', 'detector': 62, 'visit...</td>\n",
       "      <td>ConvexPolygon([UnitVector3d(0.9876086828694174...</td>\n",
       "      <td>62</td>\n",
       "      <td>DECam_62_946176</td>\n",
       "    </tr>\n",
       "  </tbody>\n",
       "</table>\n",
       "<p>47383 rows × 4 columns</p>\n",
       "</div>"
      ],
      "text/plain": [
       "                                                 data_id   \n",
       "0      {'instrument': 'DECam', 'detector': 1, 'visit'...  \\\n",
       "1      {'instrument': 'DECam', 'detector': 1, 'visit'...   \n",
       "2      {'instrument': 'DECam', 'detector': 1, 'visit'...   \n",
       "3      {'instrument': 'DECam', 'detector': 1, 'visit'...   \n",
       "4      {'instrument': 'DECam', 'detector': 1, 'visit'...   \n",
       "...                                                  ...   \n",
       "47378  {'instrument': 'DECam', 'detector': 62, 'visit...   \n",
       "47379  {'instrument': 'DECam', 'detector': 62, 'visit...   \n",
       "47380  {'instrument': 'DECam', 'detector': 62, 'visit...   \n",
       "47381  {'instrument': 'DECam', 'detector': 62, 'visit...   \n",
       "47382  {'instrument': 'DECam', 'detector': 62, 'visit...   \n",
       "\n",
       "                                                  region  detector   \n",
       "0      ConvexPolygon([UnitVector3d(0.9847372525065534...         1  \\\n",
       "1      ConvexPolygon([UnitVector3d(0.9847381014554984...         1   \n",
       "2      ConvexPolygon([UnitVector3d(0.9847383417970056...         1   \n",
       "3      ConvexPolygon([UnitVector3d(0.9847382159041213...         1   \n",
       "4      ConvexPolygon([UnitVector3d(0.9847381374341414...         1   \n",
       "...                                                  ...       ...   \n",
       "47378  ConvexPolygon([UnitVector3d(0.987608537646486,...        62   \n",
       "47379  ConvexPolygon([UnitVector3d(0.9876085083003562...        62   \n",
       "47380  ConvexPolygon([UnitVector3d(0.9876085761885252...        62   \n",
       "47381  ConvexPolygon([UnitVector3d(0.9876085761885252...        62   \n",
       "47382  ConvexPolygon([UnitVector3d(0.9876086828694174...        62   \n",
       "\n",
       "           data_id_str  \n",
       "0       DECam_1_898286  \n",
       "1       DECam_1_898287  \n",
       "2       DECam_1_898288  \n",
       "3       DECam_1_898289  \n",
       "4       DECam_1_898290  \n",
       "...                ...  \n",
       "47378  DECam_62_946172  \n",
       "47379  DECam_62_946173  \n",
       "47380  DECam_62_946174  \n",
       "47381  DECam_62_946175  \n",
       "47382  DECam_62_946176  \n",
       "\n",
       "[47383 rows x 4 columns]"
      ]
     },
     "execution_count": 21,
     "metadata": {},
     "output_type": "execute_result"
    }
   ],
   "source": [
    "df"
   ]
  },
  {
   "cell_type": "code",
   "execution_count": 22,
   "id": "e04e2f35",
   "metadata": {},
   "outputs": [
    {
     "name": "stdout",
     "output_type": "stream",
     "text": [
      "We found 47383 regions spanning the 8 desired collections.\n"
     ]
    }
   ],
   "source": [
    "print(f\"We found {len(df['data_id'])} regions spanning the {len(desired_collections)} desired collections.\")"
   ]
  },
  {
   "cell_type": "code",
   "execution_count": 23,
   "id": "08d5b443",
   "metadata": {},
   "outputs": [
    {
     "data": {
      "text/html": [
       "<pre>visit_detector_region:\n",
       "  instrument: 'DECam'\n",
       "  detector: 62\n",
       "  visit: 946176\n",
       "  region: ConvexPolygon([UnitVector3d(0.9876086828694174, -0.13336028508776862, -0.08272922024438323), UnitVector3d(0.9873378171284917, -0.13332652431396907, -0.08595389916869185), UnitVector3d(0.9881047366097594, -0.12752395595185462, -0.08594573955553172), UnitVector3d(0.9883760335240734, -0.12755303452468866, -0.0827226676235914)])<pre>"
      ],
      "text/plain": [
       "visit_detector_region.RecordClass(instrument='DECam', detector=62, visit=946176, region=ConvexPolygon([UnitVector3d(0.9876086828694174, -0.13336028508776862, -0.08272922024438323), UnitVector3d(0.9873378171284917, -0.13332652431396907, -0.08595389916869185), UnitVector3d(0.9881047366097594, -0.12752395595185462, -0.08594573955553172), UnitVector3d(0.9883760335240734, -0.12755303452468866, -0.0827226676235914)]))"
      ]
     },
     "execution_count": 23,
     "metadata": {},
     "output_type": "execute_result"
    }
   ],
   "source": [
    "# For demonstration purposes we still have the last \"ref\" from the last cell's iteration\n",
    "example_vdr_ref"
   ]
  },
  {
   "cell_type": "code",
   "execution_count": 24,
   "id": "e28031c2",
   "metadata": {},
   "outputs": [
    {
     "data": {
      "text/plain": [
       "{instrument: 'DECam', detector: 62, visit: 946176}"
      ]
     },
     "execution_count": 24,
     "metadata": {},
     "output_type": "execute_result"
    }
   ],
   "source": [
    "# This is the unique dataId we would need to retrieve this specific image later\n",
    "example_vdr_ref.dataId"
   ]
  },
  {
   "cell_type": "code",
   "execution_count": 25,
   "id": "761f3610",
   "metadata": {},
   "outputs": [
    {
     "name": "stdout",
     "output_type": "stream",
     "text": [
      "example_vdr_ref.instrument = DECam,     example_vdr_ref.detector = 62,     example_vdr_ref.visit = 946176\n"
     ]
    }
   ],
   "source": [
    "# The unique dataId is made up of the following attributes:\n",
    "print(\n",
    "    f\"example_vdr_ref.instrument = {example_vdr_ref.instrument}, \\\n",
    "    example_vdr_ref.detector = {example_vdr_ref.detector}, \\\n",
    "    example_vdr_ref.visit = {example_vdr_ref.visit}\"\n",
    ")"
   ]
  },
  {
   "cell_type": "code",
   "execution_count": 26,
   "id": "5d6b2106",
   "metadata": {},
   "outputs": [
    {
     "data": {
      "text/plain": [
       "b'p\\xddnE\\x86}\\x9a\\xef?\\x0f\\xc3\\x84\\'\\xf3\\x11\\xc1\\xbf\\x80\\x8a_\\xff\\xbd-\\xb5\\xbf\\x04xUzE\\x98\\xef?\\x94\\x15\\xcf\\xf2\\xd7\\x10\\xc1\\xbf\\x9d\\xa9\\xe4!\\x13\\x01\\xb6\\xbf\\x1d_\\x18\\xd3\\x8d\\x9e\\xef?\\x80\\x87\"z\\xb4R\\xc0\\xbff\\x1d\\x9f<\\x8a\\x00\\xb6\\xbf\\xe4Z\\x84\\xc6\\xc6\\xa0\\xef?\\x1f\\x01\\xe5g\\xa8S\\xc0\\xbf\\xba\\xc9\\x14\\x10P-\\xb5\\xbf'"
      ]
     },
     "execution_count": 26,
     "metadata": {},
     "output_type": "execute_result"
    }
   ],
   "source": [
    "# This is the region hash we would use for \"region matching\" later\n",
    "example_vdr_ref.region.encode()"
   ]
  },
  {
   "cell_type": "code",
   "execution_count": 27,
   "id": "aa653a8b",
   "metadata": {},
   "outputs": [
    {
     "data": {
      "text/plain": [
       "False"
      ]
     },
     "execution_count": 27,
     "metadata": {},
     "output_type": "execute_result"
    }
   ],
   "source": [
    "# We check to see if we can crawl to other data from the dataId (False means no).\n",
    "example_vdr_ref.dataId.hasRecords()"
   ]
  },
  {
   "cell_type": "markdown",
   "id": "3f49186c",
   "metadata": {},
   "source": [
    "# Dataframe Assembly\n",
    "\n",
    "This used to contain more, but after I moved everything to a dictionary, then a DF, this became less important.\n",
    "TODO determine where this should go. Or remove."
   ]
  },
  {
   "cell_type": "code",
   "execution_count": 28,
   "id": "acda18f4",
   "metadata": {},
   "outputs": [
    {
     "name": "stdout",
     "output_type": "stream",
     "text": [
      "CPU times: user 112 ms, sys: 20.9 ms, total: 133 ms\n",
      "Wall time: 196 ms\n"
     ]
    }
   ],
   "source": [
    "%%time\n",
    "\n",
    "# Save the dataframe to a pickle file for easier resuming of the notebook\n",
    "# Size was < 20 Mb 2/5/2024 COC\n",
    "# COC Note: this was not that useful, maybe TODO remove\n",
    "df_filename = f\"{basedir}/region_search_df.pickle\"\n",
    "df.to_pickle(df_filename)"
   ]
  },
  {
   "cell_type": "code",
   "execution_count": 29,
   "id": "bb076b4b",
   "metadata": {},
   "outputs": [],
   "source": [
    "# load the pickle\n",
    "# df = pd.read_pickle(file_name)"
   ]
  },
  {
   "cell_type": "markdown",
   "id": "5bdaaf00",
   "metadata": {},
   "source": [
    "### Instrument handling\n",
    "Some Butler queries require the instrument to be specified.\\\n",
    "For now, we are just supplying the one we care about (KLUDGE).\\\n",
    "It's a list so we can mix-and-match shift-and-stack across instruments(!).\\\n",
    "NOTE: will leave this as a list for future-proofing purpose"
   ]
  },
  {
   "cell_type": "code",
   "execution_count": 30,
   "id": "0228bb4d",
   "metadata": {},
   "outputs": [],
   "source": [
    "def getInstruments(butler, vdr_ids, first_instrument_only=True, datasetType=desired_datasetTypes[0]):\n",
    "    \"\"\"Iterate through our records to determine which instrument(s) are involved.\n",
    "    Return a list of the identified instruments.\n",
    "    If first_instrument_only is True, stop as soon as we found an instrument.\n",
    "    \"\"\"\n",
    "    # KLUDGE: snag the instrument name of the first record we find in a visitInfo query.\n",
    "    instrument_names = []\n",
    "    for i, dataId in enumerate(vdr_ids):\n",
    "        visitInfo = butler.get(f\"{datasetType}.visitInfo\", dataId=dataId, collections=desired_collections)\n",
    "        instrument_name = visitInfo.instrumentLabel\n",
    "        if instrument_name not in instrument_names:\n",
    "            print(f'Found {instrument_name}. Adding to \"desired_instruments\" now.')\n",
    "            instrument_names.append(instrument_name)\n",
    "        if first_instrument_only == True and len(instrument_names) > 0:\n",
    "            print(\n",
    "                f\"WARNING: we are not iterating over all rows to find instruments, just taking the first one.\"\n",
    "            )\n",
    "            break\n",
    "    return instrument_names"
   ]
  },
  {
   "cell_type": "code",
   "execution_count": 31,
   "id": "6c3bb244",
   "metadata": {},
   "outputs": [
    {
     "name": "stdout",
     "output_type": "stream",
     "text": [
      "Found DECam. Adding to \"desired_instruments\" now.\n",
      "WARNING: we are not iterating over all rows to find instruments, just taking the first one.\n",
      "CPU times: user 1.07 s, sys: 99 ms, total: 1.17 s\n",
      "Wall time: 1.19 s\n"
     ]
    }
   ],
   "source": [
    "%%time\n",
    "desired_instruments = getInstruments(butler=butler, vdr_ids=df[\"data_id\"])"
   ]
  },
  {
   "cell_type": "markdown",
   "id": "47a434b2",
   "metadata": {},
   "source": [
    "### Butler Retrieval Example\n",
    "\n",
    "A quick stop to see how we can grab the full Butler record via a dataId."
   ]
  },
  {
   "cell_type": "code",
   "execution_count": 32,
   "id": "dfc37b54",
   "metadata": {},
   "outputs": [
    {
     "name": "stdout",
     "output_type": "stream",
     "text": [
      "CPU times: user 947 ms, sys: 96.7 ms, total: 1.04 s\n",
      "Wall time: 1.06 s\n"
     ]
    }
   ],
   "source": [
    "%%time\n",
    "# Back to the dataId, we can actually fetch the image from the Butler\n",
    "# TIMING NOTE: it takes 1 to 2 seconds to do this, so we won't be able to do this at scale\n",
    "\n",
    "example_butler_get = butler.get(\n",
    "    desired_datasetTypes[0], collections=desired_collections, dataId=example_vdr_ref.dataId\n",
    ")"
   ]
  },
  {
   "cell_type": "code",
   "execution_count": 33,
   "id": "477c6e38",
   "metadata": {},
   "outputs": [
    {
     "name": "stdout",
     "output_type": "stream",
     "text": [
      "The example_vdr_ref has a .dataId of type <class 'lsst.daf.butler.core.dimensions._coordinate._BasicTupleDataCoordinate'>.\n",
      "ValuesView({instrument: 'DECam', detector: 62, visit: 946176})\n",
      "dataId did not have a values_tuple() attribute. Message was '_BasicTupleDataCoordinate' object has no attribute 'values_tuple'.\n",
      "Our manual vdr ref: {'instrument': 'DECam', 'detector': 62, 'visit': 946176}.\n"
     ]
    }
   ],
   "source": [
    "# let us try this without the special DataID Butler object 4/22/2024 COC\n",
    "print(f\"The example_vdr_ref has a .dataId of type {type(example_vdr_ref.dataId)}.\")  # .values_tuple()\n",
    "print(example_vdr_ref.dataId.values())\n",
    "example_vdr_ref_dataId_manual = clean_dataId(dataId=example_vdr_ref.dataId, verbose=True)\n",
    "# example_vdr_ref_dataId_manual = {}\n",
    "# for i in ['instrument', 'detector', 'visit']:\n",
    "#     example_vdr_ref_dataId_manual[i] = example_vdr_ref.dataId[i]\n",
    "print(f\"Our manual vdr ref: {example_vdr_ref_dataId_manual}.\")"
   ]
  },
  {
   "cell_type": "code",
   "execution_count": 34,
   "id": "d5814458",
   "metadata": {},
   "outputs": [],
   "source": [
    "example_butler_get_manual_dataId = butler.get(\n",
    "    desired_datasetTypes[0], collections=desired_collections, dataId=example_vdr_ref_dataId_manual\n",
    ")"
   ]
  },
  {
   "cell_type": "code",
   "execution_count": 35,
   "id": "791b60ed",
   "metadata": {},
   "outputs": [
    {
     "data": {
      "text/plain": [
       "62"
      ]
     },
     "execution_count": 35,
     "metadata": {},
     "output_type": "execute_result"
    }
   ],
   "source": [
    "# with our alternate (manual) approach:\n",
    "example_butler_get_manual_dataId.detector.getId()"
   ]
  },
  {
   "cell_type": "code",
   "execution_count": 36,
   "id": "789f1d42",
   "metadata": {},
   "outputs": [
    {
     "data": {
      "text/plain": [
       "62"
      ]
     },
     "execution_count": 36,
     "metadata": {},
     "output_type": "execute_result"
    }
   ],
   "source": [
    "# which matches the same attribute via our original query:\n",
    "example_butler_get.detector.getId()"
   ]
  },
  {
   "cell_type": "code",
   "execution_count": 37,
   "id": "351e8d03",
   "metadata": {},
   "outputs": [
    {
     "data": {
      "text/plain": [
       "'VR'"
      ]
     },
     "execution_count": 37,
     "metadata": {},
     "output_type": "execute_result"
    }
   ],
   "source": [
    "example_butler_get.filterLabel.bandLabel"
   ]
  },
  {
   "cell_type": "code",
   "execution_count": 38,
   "id": "1c1e5431",
   "metadata": {},
   "outputs": [
    {
     "data": {
      "text/plain": [
       "<matplotlib.image.AxesImage at 0x7f0e1a87f520>"
      ]
     },
     "execution_count": 38,
     "metadata": {},
     "output_type": "execute_result"
    },
    {
     "data": {
      "image/png": "[encoded data removed]",
      "text/plain": [
       "<Figure size 640x480 with 1 Axes>"
      ]
     },
     "metadata": {},
     "output_type": "display_data"
    }
   ],
   "source": [
    "# we can even view the image right here\n",
    "plt.imshow(example_butler_get.image.array, cmap=\"gray\")"
   ]
  },
  {
   "cell_type": "code",
   "execution_count": 39,
   "id": "ba1b7ab6",
   "metadata": {},
   "outputs": [
    {
     "data": {
      "text/plain": [
       "FITS standard SkyWcs:\n",
       "Sky Origin: (352.4630539808, -4.8516830845)\n",
       "Pixel Origin: (1126.14, 1991.36)\n",
       "Pixel Scale: 0.262593 arcsec/pixel"
      ]
     },
     "execution_count": 39,
     "metadata": {},
     "output_type": "execute_result"
    }
   ],
   "source": [
    "# There IS a WCS here, which we did not see in the earlier VDR\n",
    "example_butler_get.wcs"
   ]
  },
  {
   "cell_type": "code",
   "execution_count": 40,
   "id": "4270995e",
   "metadata": {
    "scrolled": true
   },
   "outputs": [
    {
     "name": "stdout",
     "output_type": "stream",
     "text": [
      "Here are all the keywords available from this image:\n",
      "NEXTEND\n",
      "PROCTYPE\n",
      "PRODTYPE\n",
      "PIXSCAL1\n",
      "PIXSCAL2\n",
      "FILENAME\n",
      "TELESCOP\n",
      "OBSERVAT\n",
      "INSTRUME\n",
      "EXPREQ\n",
      "OBSID\n",
      "TIME-OBS\n",
      "OPENSHUT\n",
      "EXPNUM\n",
      "OBJECT\n",
      "OBSTYPE\n",
      "CAMSHUT\n",
      "PROGRAM\n",
      "OBSERVER\n",
      "PROPOSER\n",
      "DTPI\n",
      "PROPID\n",
      "EXCLUDED\n",
      "SEQID\n",
      "SEQNUM\n",
      "SEQTOT\n",
      "AOS\n",
      "BCAM\n",
      "GUIDER\n",
      "SKYSTAT\n",
      "FILTER\n",
      "INSTANCE\n",
      "ERRORS\n",
      "TELEQUIN\n",
      "TELSTAT\n",
      "RA\n",
      "DEC\n",
      "TELRA\n",
      "TELDEC\n",
      "HA\n",
      "ZD\n",
      "AZ\n",
      "DOMEAZ\n",
      "ZPDELRA\n",
      "ZPDELDEC\n",
      "TELFOCUS\n",
      "VSUB\n",
      "GSKYPHOT\n",
      "LSKYPHOT\n",
      "WINDSPD\n",
      "WINDDIR\n",
      "PRESSURE\n",
      "DIMMSEE\n",
      "DIMM2SEE\n",
      "MASS2\n",
      "ASTIG1\n",
      "ASTIG2\n",
      "OUTTEMP\n",
      "AIRMASS\n",
      "GSKYVAR\n",
      "GSKYHOT\n",
      "LSKYVAR\n",
      "LSKYHOT\n",
      "LSKYPOW\n",
      "MSURTEMP\n",
      "MAIRTEMP\n",
      "UPTRTEMP\n",
      "LWTRTEMP\n",
      "PMOSTEMP\n",
      "UTN-TEMP\n",
      "UTS-TEMP\n",
      "UTW-TEMP\n",
      "UTE-TEMP\n",
      "PMN-TEMP\n",
      "PMS-TEMP\n",
      "PMW-TEMP\n",
      "PME-TEMP\n",
      "DOMELOW\n",
      "DOMEHIGH\n",
      "DOMEFLOR\n",
      "G-MEANX\n",
      "G-MEANY\n",
      "DONUTFS4\n",
      "DONUTFS3\n",
      "DONUTFS2\n",
      "DONUTFS1\n",
      "G-FLXVAR\n",
      "G-MEANXY\n",
      "DONUTFN1\n",
      "DONUTFN2\n",
      "DONUTFN3\n",
      "DONUTFN4\n",
      "TIME_RECORDED\n",
      "G-FEEDBK\n",
      "G-CCDNUM\n",
      "DOXT\n",
      "G-MAXX\n",
      "FADZ\n",
      "FADY\n",
      "FADX\n",
      "G-MODE\n",
      "FAYT\n",
      "DODZ\n",
      "DODY\n",
      "DODX\n",
      "MULTIEXP\n",
      "SKYUPDAT\n",
      "G-SEEING\n",
      "G-TRANSP\n",
      "G-MEANY2\n",
      "DOYT\n",
      "G-LATENC\n",
      "LUTVER\n",
      "FAXT\n",
      "G-MAXY\n",
      "G-MEANX2\n",
      "SISPIVER\n",
      "CONSTVER\n",
      "HDRVER\n",
      "DTPROPID\n",
      "DTCALDAT\n",
      "DTSITE\n",
      "DTTELESC\n",
      "DTACQNAM\n",
      "DTINSTRU\n",
      "ODATEOBS\n",
      "DTNSANAM\n",
      "HISTORY\n",
      "COMMENT\n",
      "ZTENSION\n",
      "ZPCOUNT\n",
      "ZGCOUNT\n",
      "BUNIT\n",
      "DETSIZE\n",
      "DETSEC\n",
      "CCDSEC\n",
      "DETSECA\n",
      "CCDSECA\n",
      "AMPSECA\n",
      "DETSECB\n",
      "CCDSECB\n",
      "AMPSECB\n",
      "DETECTOR\n",
      "CCDNUM\n",
      "DETPOS\n",
      "EXTNAME\n",
      "GAINA\n",
      "RDNOISEA\n",
      "SATURATA\n",
      "GAINB\n",
      "RDNOISEB\n",
      "SATURATB\n",
      "FPA\n",
      "INHERIT\n",
      "CCDBIN1\n",
      "CCDBIN2\n",
      "DHEINF\n",
      "DHEFIRM\n",
      "SLOT00\n",
      "SLOT01\n",
      "SLOT02\n",
      "SLOT03\n",
      "SLOT04\n",
      "SLOT05\n",
      "LTV2\n",
      "LTV1\n",
      "VALIDA\n",
      "VALIDB\n",
      "NDONUTS\n",
      "CHECKVER\n",
      "ASTRO METADATA FIX MODIFIED\n",
      "ASTRO METADATA FIX DATE\n",
      "ISR_OSCAN_LEVELA\n",
      "ISR_OSCAN_SIGMAA\n",
      "OVERSCAN\n",
      "ISR_OSCAN_LEVELB\n",
      "ISR_OSCAN_SIGMAB\n",
      "SKYLEVEL\n",
      "SKYSIGMA\n",
      "FLATNESS_PP\n",
      "FLATNESS_RMS\n",
      "FLATNESS_NGRIDS\n",
      "FLATNESS_MESHX\n",
      "FLATNESS_MESHY\n",
      "BGMEAN\n",
      "BGVAR\n",
      "SFM_ASTROM_OFFSET_MEAN\n",
      "SFM_ASTROM_OFFSET_STD\n",
      "MAGZERO\n",
      "MAGZERO_RMS\n",
      "MAGZERO_NOBJ\n",
      "COLORTERM1\n",
      "COLORTERM2\n",
      "COLORTERM3\n"
     ]
    }
   ],
   "source": [
    "# We can access all kinds of metadata this way.\n",
    "# NOTE: keywords are source data-dependent.\n",
    "# NOTE: this linkage works with butler.get() but not necessarily elsewhere.\n",
    "meta = example_butler_get.getInfo().getMetadata()\n",
    "\n",
    "print(f\"Here are all the keywords available from this image:\")\n",
    "for k in meta.keys():\n",
    "    print(k)"
   ]
  },
  {
   "cell_type": "markdown",
   "id": "d4f8d811",
   "metadata": {},
   "source": [
    "### URI / URL / Path Handling\n",
    "Here we grab URIs for the dataIds we need."
   ]
  },
  {
   "cell_type": "code",
   "execution_count": 41,
   "id": "7bbc916e",
   "metadata": {},
   "outputs": [],
   "source": [
    "# NOTE: getURIs() does not work as you'd think (i.e., it only handles a single dataId)\n",
    "# butler.getURIs(desired_datasetTypes[0], vdr_ids, collections=desired_collections)"
   ]
  },
  {
   "cell_type": "code",
   "execution_count": 42,
   "id": "e0f8f8f9",
   "metadata": {},
   "outputs": [],
   "source": [
    "# The single-thead approach (below) requires some 2 hours to execute. So instead we will multiprocess.\n",
    "# paths = [butler.getURI(desired_datasetTypes[0], dataId=dataId, collections=desired_collections) for dataId in vdr_ids]\n",
    "\n",
    "\n",
    "def chunked_dataIds(dataIds, chunk_size=200):\n",
    "    \"\"\"Yield successive chunk_size chunks from dataIds.\"\"\"\n",
    "    for i in range(0, len(dataIds), chunk_size):\n",
    "        yield dataIds[i : i + chunk_size]\n",
    "\n",
    "\n",
    "def get_uris(dataIds_chunk, repo_path, desired_datasetTypes, desired_collections):\n",
    "    \"\"\"Fetch URIs for a list of dataIds.\"\"\"\n",
    "    chunk_uris = []\n",
    "    butler = dafButler.Butler(repo_path)\n",
    "    for dataId in dataIds_chunk:\n",
    "        try:\n",
    "            uri = butler.getURI(desired_datasetTypes[0], dataId=dataId, collections=desired_collections)\n",
    "            uri = uri.geturl()  # Convert to URL string\n",
    "            chunk_uris.append(uri)\n",
    "        except Exception as e:\n",
    "            print(f\"Failed to retrieve path for dataId {dataId}: {e}\")\n",
    "    return chunk_uris\n",
    "\n",
    "\n",
    "def getURIs(butler, dataIds, repo_path, desired_datasetTypes, desired_collections, overwrite=False):\n",
    "    \"\"\"\n",
    "    Get URIs from a Butler for a set of dataIDs.\n",
    "    Cache results to disk for future runs.\n",
    "    TODO: consider exporting as CSV so we can validate URIs against dataIds. 2/6/2024 COC\n",
    "    Updated 2/5/2024 COC\n",
    "    \"\"\"\n",
    "    paths = []\n",
    "\n",
    "    cache_file = f\"{basedir}/uri_cache.lst\"\n",
    "    cached_exists = False\n",
    "    if len(glob.glob(cache_file)) > 0:\n",
    "        cached_exists = True\n",
    "\n",
    "    if cached_exists == True and overwrite == False:\n",
    "        with open(cache_file, \"r\") as f:\n",
    "            for line in f:\n",
    "                paths.append(line.strip())\n",
    "        print(f\"Recycled {len(paths)} paths from {cache_file} as overwrite was {overwrite}.\")\n",
    "        return paths\n",
    "\n",
    "    # Prepare dataId chunks\n",
    "    dataId_chunks = list(chunked_dataIds(dataIds))\n",
    "\n",
    "    # Execute get_uris in parallel and preserve order\n",
    "    with ProcessPoolExecutor() as executor:\n",
    "        # Initialize progress bar\n",
    "        with progressbar.ProgressBar(max_value=len(dataId_chunks)) as bar:\n",
    "            # Use map to execute get_uris on each chunk and maintain order\n",
    "            result_chunks = list(\n",
    "                executor.map(\n",
    "                    get_uris,\n",
    "                    dataId_chunks,\n",
    "                    [repo_path] * len(dataId_chunks),\n",
    "                    [desired_datasetTypes] * len(dataId_chunks),\n",
    "                    [desired_collections] * len(dataId_chunks),\n",
    "                )\n",
    "            )\n",
    "\n",
    "            for i, chunk_uris in enumerate(result_chunks):\n",
    "                paths.extend(chunk_uris)  # Add the retrieved URIs to the main list\n",
    "                bar.update(i)\n",
    "\n",
    "    with open(cache_file, \"w\") as f:\n",
    "        for path in paths:\n",
    "            print(path, file=f)\n",
    "        print(f\"Wrote {len(paths)} paths to disk for caching purposes.\")\n",
    "\n",
    "    return paths"
   ]
  },
  {
   "cell_type": "code",
   "execution_count": 43,
   "id": "6dd2ea6a",
   "metadata": {},
   "outputs": [
    {
     "name": "stdout",
     "output_type": "stream",
     "text": [
      "Recycled 47383 paths from /astro/users/coc123/kbmod_tmp/uri_cache.lst as overwrite was False.\n",
      "CPU times: user 16.6 ms, sys: 18.7 ms, total: 35.3 ms\n",
      "Wall time: 34.4 ms\n"
     ]
    }
   ],
   "source": [
    "%%time\n",
    "\n",
    "# TIMING NOTE: This required 90s uncached 2/5/2024 COC\n",
    "\n",
    "df[\"uri\"] = getURIs(\n",
    "    butler=butler,\n",
    "    dataIds=df[\"data_id\"],\n",
    "    repo_path=repo_path,\n",
    "    desired_datasetTypes=desired_datasetTypes,\n",
    "    desired_collections=desired_collections,\n",
    "    overwrite=False,\n",
    ")"
   ]
  },
  {
   "cell_type": "code",
   "execution_count": 44,
   "id": "eae8d366",
   "metadata": {},
   "outputs": [
    {
     "data": {
      "text/plain": [
       "'file:///epyc/users/smotherh/DEEP/PointingGroups/butler-repo/PointingGroup021/imdiff_r/20210723T174135Z/deepDiff_differenceExp/20190927/VR/VR_DECam_c0007_6300.0_2600.0/898286/deepDiff_differenceExp_DECam_VR_VR_DECam_c0007_6300_0_2600_0_898286_S29_PointingGroup021_imdiff_r_20210723T174135Z.fits'"
      ]
     },
     "execution_count": 44,
     "metadata": {},
     "output_type": "execute_result"
    }
   ],
   "source": [
    "# example URI\n",
    "df[\"uri\"].iloc()[0]"
   ]
  },
  {
   "cell_type": "markdown",
   "id": "fb728cee",
   "metadata": {},
   "source": [
    "### Timestamp Handling\n",
    "Here we will access the timestamp (datetime) information from the Butler for our records."
   ]
  },
  {
   "cell_type": "code",
   "execution_count": 45,
   "id": "df7ff31f",
   "metadata": {},
   "outputs": [
    {
     "name": "stdout",
     "output_type": "stream",
     "text": [
      "0 DateTime(\"2019-09-27T00:20:59.932016000\", TAI) 120.0 (351.3806941054, -5.2403083277)\n",
      "CPU times: user 92.1 ms, sys: 8.71 ms, total: 101 ms\n",
      "Wall time: 125 ms\n"
     ]
    }
   ],
   "source": [
    "%%time\n",
    "# Now we want to get metadata like datetime, exposure time, etc.\n",
    "for i, dataId in enumerate(df[\"data_id\"]):\n",
    "    visitInfo = butler.get(\"calexp.visitInfo\", dataId=dataId, collections=desired_collections)\n",
    "    print(i, visitInfo.date, visitInfo.exposureTime, visitInfo.boresightRaDec)\n",
    "    break\n",
    "# We have the visitInfo object for the exploration below."
   ]
  },
  {
   "cell_type": "code",
   "execution_count": 46,
   "id": "3ccadfaa",
   "metadata": {},
   "outputs": [
    {
     "data": {
      "text/plain": [
       "lsst.daf.base.dateTime.dateTime.DateTime"
      ]
     },
     "execution_count": 46,
     "metadata": {},
     "output_type": "execute_result"
    }
   ],
   "source": [
    "# That visitInfo.date format may not look familiar. Let's find out why:\n",
    "type(visitInfo.date)"
   ]
  },
  {
   "cell_type": "code",
   "execution_count": 47,
   "id": "d73d8119",
   "metadata": {},
   "outputs": [
    {
     "data": {
      "text/plain": [
       "'2019-09-27T00:20:22.932'"
      ]
     },
     "execution_count": 47,
     "metadata": {},
     "output_type": "execute_result"
    }
   ],
   "source": [
    "# Let's convert to a plain string, UTC (handles 37 s offset).\n",
    "t = Time(str(visitInfo.date).split('\"')[1], format=\"isot\", scale=\"tai\")\n",
    "str(t.utc)"
   ]
  },
  {
   "cell_type": "code",
   "execution_count": 48,
   "id": "4cb53994",
   "metadata": {},
   "outputs": [],
   "source": [
    "# New parallel version with order-preservation redone 2/7/2024 COC\n",
    "\n",
    "\n",
    "# Define get_timestamps at the top level of your module\n",
    "def get_timestamps(dataIds_chunk, repo_path, desired_collections, datasetType=desired_datasetTypes[0]):\n",
    "    \"\"\"\n",
    "    Adding datasetType 4/22/2024 COC\n",
    "    \"\"\"\n",
    "    chunked_data = []\n",
    "    butler = dafButler.Butler(repo_path)\n",
    "    for dataId in dataIds_chunk:\n",
    "        try:\n",
    "            visitInfo = butler.get(f\"{datasetType}.visitInfo\", dataId=dataId, collections=desired_collections)\n",
    "            t = Time(str(visitInfo.date).split('\"')[1], format=\"isot\", scale=\"tai\")\n",
    "            tutc = str(t.utc)\n",
    "            chunked_data.append(tutc)\n",
    "        except Exception as e:\n",
    "            print(f\"Failed to retrieve timestamp for dataId {dataId}: {e}\")\n",
    "    return chunked_data\n",
    "\n",
    "\n",
    "def getTimestamps(dataIds, overwrite=False):\n",
    "    timestamps = []\n",
    "    cache_file = f\"{basedir}/vdr_timestamps.lst\"\n",
    "\n",
    "    if not overwrite and glob.glob(cache_file):\n",
    "        print(\"Overwrite is False, so we will read the timestamps from file now...\")\n",
    "        with open(cache_file, \"r\") as f:\n",
    "            timestamps = [line.strip() for line in f]\n",
    "        print(f\"Recycled {len(timestamps)} from {cache_file}.\")\n",
    "        return timestamps\n",
    "\n",
    "    def chunked_dataIds(dataIds, chunk_size=200):\n",
    "        for i in range(0, len(dataIds), chunk_size):\n",
    "            yield dataIds[i : i + chunk_size]\n",
    "\n",
    "    dataId_chunks = list(chunked_dataIds(dataIds))\n",
    "\n",
    "    with ProcessPoolExecutor() as executor:\n",
    "        # Adjust the executor.map call to pass additional arguments to get_timestamps\n",
    "        result_chunks = list(\n",
    "            executor.map(\n",
    "                get_timestamps,\n",
    "                dataId_chunks,\n",
    "                [repo_path] * len(dataId_chunks),\n",
    "                [desired_collections] * len(dataId_chunks),\n",
    "            )\n",
    "        )\n",
    "\n",
    "    timestamps = [timestamp for chunk in result_chunks for timestamp in chunk]\n",
    "\n",
    "    if overwrite or not glob.glob(cache_file):\n",
    "        with open(cache_file, \"w\") as f:\n",
    "            for ts in timestamps:\n",
    "                print(ts, file=f)\n",
    "        print(f\"Wrote {len(timestamps)} lines to {cache_file} for future use.\")\n",
    "\n",
    "    print(f\"Obtained {len(timestamps)} timestamps.\")\n",
    "    return timestamps"
   ]
  },
  {
   "cell_type": "code",
   "execution_count": 49,
   "id": "7e0d33c0",
   "metadata": {},
   "outputs": [
    {
     "name": "stdout",
     "output_type": "stream",
     "text": [
      "Overwrite is False, so we will read the timestamps from file now...\n",
      "Recycled 47383 from /astro/users/coc123/kbmod_tmp/vdr_timestamps.lst.\n",
      "CPU times: user 22.5 ms, sys: 2.42 ms, total: 24.9 ms\n",
      "Wall time: 24.1 ms\n"
     ]
    }
   ],
   "source": [
    "%%time\n",
    "\n",
    "# TIMING NOTE: this took < 5 minutes 2/5/2024 COC\n",
    "df[\"ut\"] = getTimestamps(dataIds=df[\"data_id\"], overwrite=False)"
   ]
  },
  {
   "cell_type": "code",
   "execution_count": 50,
   "id": "adddf1e4",
   "metadata": {},
   "outputs": [
    {
     "data": {
      "text/plain": [
       "0        2019-09-27T00:20:22.932\n",
       "1        2019-09-27T00:22:51.015\n",
       "2        2019-09-27T00:25:19.136\n",
       "3        2019-09-27T00:27:47.118\n",
       "4        2019-09-27T00:30:15.537\n",
       "                  ...           \n",
       "47378    2020-10-17T04:00:51.409\n",
       "47379    2020-10-17T04:03:19.873\n",
       "47380    2020-10-17T04:05:48.949\n",
       "47381    2020-10-17T04:08:17.445\n",
       "47382    2020-10-17T04:10:46.218\n",
       "Name: ut, Length: 47383, dtype: object"
      ]
     },
     "execution_count": 50,
     "metadata": {},
     "output_type": "execute_result"
    }
   ],
   "source": [
    "df[\"ut\"]"
   ]
  },
  {
   "cell_type": "code",
   "execution_count": 51,
   "id": "55ffd374",
   "metadata": {},
   "outputs": [
    {
     "data": {
      "text/plain": [
       "'2019-09-27T00:20:22.932'"
      ]
     },
     "execution_count": 51,
     "metadata": {},
     "output_type": "execute_result"
    }
   ],
   "source": [
    "# Checking the format of the ut column shows that it is just a string:\n",
    "df[\"ut\"].iloc()[0]"
   ]
  },
  {
   "cell_type": "code",
   "execution_count": 52,
   "id": "faea89df",
   "metadata": {},
   "outputs": [],
   "source": [
    "# Convert \"ut\" column to datetime\n",
    "df[\"ut_datetime\"] = pd.to_datetime(df[\"ut\"])"
   ]
  },
  {
   "cell_type": "code",
   "execution_count": 53,
   "id": "c3beca0f",
   "metadata": {},
   "outputs": [],
   "source": [
    "# assert len(df[\"data_id\"]) == len(set(df[\"data_id\"]))\n",
    "# assert len(df[\"data_id\"]) == len(set([str(df[\"data_id\"].iloc()[i]) for i in range(0,len(df.index))]))\n",
    "assert df[\"data_id\"].apply(str).is_unique"
   ]
  },
  {
   "cell_type": "code",
   "execution_count": 54,
   "id": "b45d3fa2",
   "metadata": {},
   "outputs": [],
   "source": [
    "def look_for_duplicates(df, verbose=True):\n",
    "    \"\"\"\n",
    "    As a reality check, we make sure there are no duplicate pairs of identical dataId + UT.\n",
    "    3/11/2024 COC\n",
    "    \"\"\"\n",
    "    if verbose:\n",
    "        print(f\"Starting look_for_duplicates()...\")\n",
    "    # make sure no duplicate URIs first (easy + fast)\n",
    "    if len(df[\"uri\"]) != len(set(df[\"uri\"])):\n",
    "        raise AttributeError(\n",
    "            f'There were only {len(set(df[\"uri\"]))} unique URIs. Should have been {len(df[\"uri\"])}.'\n",
    "        )\n",
    "    #\n",
    "    if (\n",
    "        not df[\"data_id\"].apply(str).is_unique\n",
    "    ):  # len(df[\"data_id\"]) != len(set([str(df[\"data_id\"].iloc()[i]) for i in range(0,len(df.index))])):\n",
    "        raise AttributeError(f\"Encountered non-unique set of dataIds.\")\n",
    "    #\n",
    "    dataId_uts = df[\"ut\"].astype(str) + df[\"data_id\"].astype(\n",
    "        str\n",
    "    )  # e.g., \"2019-09-27T00:20:22.932{instrument: 'DECam', detector: 1, visit: 898286}\"\n",
    "    if len(dataId_uts) != len(set(dataId_uts)):\n",
    "        raise AttributeError(f\"dataID + UT combinations were not unique\")\n",
    "    if verbose:\n",
    "        print(f\"No duplication found amongst the {len(df.index)} dataframe rows.\")"
   ]
  },
  {
   "cell_type": "code",
   "execution_count": 55,
   "id": "83fe7b61",
   "metadata": {},
   "outputs": [
    {
     "name": "stdout",
     "output_type": "stream",
     "text": [
      "Starting look_for_duplicates()...\n",
      "No duplication found amongst the 47383 dataframe rows.\n"
     ]
    }
   ],
   "source": [
    "look_for_duplicates(df=df)"
   ]
  },
  {
   "cell_type": "code",
   "execution_count": 56,
   "id": "381e68de",
   "metadata": {},
   "outputs": [
    {
     "data": {
      "text/plain": [
       "Index(['data_id', 'region', 'detector', 'data_id_str', 'uri', 'ut',\n",
       "       'ut_datetime'],\n",
       "      dtype='object')"
      ]
     },
     "execution_count": 56,
     "metadata": {},
     "output_type": "execute_result"
    }
   ],
   "source": [
    "df.columns"
   ]
  },
  {
   "cell_type": "code",
   "execution_count": 57,
   "id": "1f33735a",
   "metadata": {},
   "outputs": [
    {
     "data": {
      "text/plain": [
       "\"2019-09-27T00:20:22.932{'instrument': 'DECam', 'detector': 1, 'visit': 898286}\""
      ]
     },
     "execution_count": 57,
     "metadata": {},
     "output_type": "execute_result"
    }
   ],
   "source": [
    "dataId_uts = df[\"ut\"].astype(str) + df[\"data_id\"].astype(str)\n",
    "dataId_uts.iloc()[0]"
   ]
  },
  {
   "cell_type": "code",
   "execution_count": 58,
   "id": "72aa75be",
   "metadata": {},
   "outputs": [
    {
     "data": {
      "text/plain": [
       "True"
      ]
     },
     "execution_count": 58,
     "metadata": {},
     "output_type": "execute_result"
    }
   ],
   "source": [
    "len(dataId_uts) == len(set(dataId_uts))"
   ]
  },
  {
   "cell_type": "code",
   "execution_count": 59,
   "id": "a789a331",
   "metadata": {},
   "outputs": [],
   "source": [
    "# This is for coming back to later to make sure the stamps line up\n",
    "# IGNORE FOR NOW 2/6/2024 COC\n",
    "# for i in range(0,len(vdr_ids),1000):\n",
    "#     dataId = vdr_ids[i]\n",
    "#     visitInfo = butler.get(\"calexp.visitInfo\", dataId=dataId, collections=desired_collections)\n",
    "#     t = Time(str(visitInfo.date).split('\"')[1], format=\"isot\", scale=\"tai\")\n",
    "#     tutc = str(t.utc)\n",
    "#     print(f\"{i!s:5}: {tutc} for {dataId}. Dict had: {id_to_date[dataId]}\")"
   ]
  },
  {
   "cell_type": "markdown",
   "id": "6f355bcf",
   "metadata": {},
   "source": [
    "### Working with the Regions\n",
    "\n",
    "We still don't know what will be ideal to do for Region Search.\\\n",
    "So, to start with, we will work on extract the (RA, Dec) of the (1) center coordinate of a chip, and (2) four corners associated with a chip."
   ]
  },
  {
   "cell_type": "markdown",
   "id": "f060a724",
   "metadata": {},
   "source": [
    "#### We will start with corners (i.e., quadilateral vertices from the convexPolygon sphgeom.regions)"
   ]
  },
  {
   "cell_type": "code",
   "execution_count": 60,
   "id": "e45d7199",
   "metadata": {},
   "outputs": [],
   "source": [
    "def getRegionCorners(region):\n",
    "    \"\"\"\n",
    "    Using the 2D boundingBox() from an input region (convexPolygon), we\n",
    "    extract the (RA, Dec) coordinates of each vertex.\n",
    "    As there are four vertices, the input object is a quadrilateral.\n",
    "    2/2/2024 COC\n",
    "    \"\"\"\n",
    "    corners = []\n",
    "    bbox = region.getBoundingBox()\n",
    "    corners.append((bbox.getLon().getA().asDegrees(), bbox.getLat().getA().asDegrees()))\n",
    "    corners.append((bbox.getLon().getA().asDegrees(), bbox.getLat().getB().asDegrees()))\n",
    "    corners.append((bbox.getLon().getB().asDegrees(), bbox.getLat().getA().asDegrees()))\n",
    "    corners.append((bbox.getLon().getB().asDegrees(), bbox.getLat().getB().asDegrees()))\n",
    "    return corners"
   ]
  },
  {
   "cell_type": "code",
   "execution_count": 61,
   "id": "9b278b50",
   "metadata": {},
   "outputs": [
    {
     "data": {
      "text/plain": [
       "[(352.30950511932116, -4.930880058593892),\n",
       " (352.30950511932116, -4.7450820235469715),\n",
       " (352.64644359666477, -4.930880058593892),\n",
       " (352.64644359666477, -4.7450820235469715)]"
      ]
     },
     "execution_count": 61,
     "metadata": {},
     "output_type": "execute_result"
    }
   ],
   "source": [
    "# Example\n",
    "corners = getRegionCorners(example_vdr_ref.region)\n",
    "corners"
   ]
  },
  {
   "cell_type": "code",
   "execution_count": 62,
   "id": "b37bfe47",
   "metadata": {},
   "outputs": [],
   "source": [
    "def getMinMaxRaDec(ra_dec_touples, verbose=False):\n",
    "    \"\"\"\n",
    "    Highly unoptimized way to find and return\n",
    "    (minRA, maxRA) and (minDec, MaxDec).\n",
    "    2/2/2024 COC\n",
    "    \"\"\"\n",
    "    min_ra = min([i[0] for i in ra_dec_touples])\n",
    "    min_dec = min([i[1] for i in ra_dec_touples])\n",
    "    max_ra = max([i[0] for i in ra_dec_touples])\n",
    "    max_dec = max([i[1] for i in ra_dec_touples])\n",
    "    if verbose:\n",
    "        print(f\"RA range: {min_ra} to {max_ra}\")\n",
    "        print(f\"Dec range: {min_dec} to {max_dec}\")\n",
    "    return (min_ra, max_ra), (min_dec, max_dec)"
   ]
  },
  {
   "cell_type": "code",
   "execution_count": 63,
   "id": "ef329736",
   "metadata": {},
   "outputs": [
    {
     "data": {
      "text/plain": [
       "((352.30950511932116, 352.64644359666477),\n",
       " (-4.930880058593892, -4.7450820235469715))"
      ]
     },
     "execution_count": 63,
     "metadata": {},
     "output_type": "execute_result"
    }
   ],
   "source": [
    "# Example\n",
    "getMinMaxRaDec(ra_dec_touples=corners)"
   ]
  },
  {
   "cell_type": "markdown",
   "id": "d95593bb",
   "metadata": {},
   "source": [
    "#### Centers\n",
    "\n",
    "It may be easer to just work with center (RA, Dec) coordinates.\\\n",
    "We can later store this in a DB (e.g., Postgres) for cone searches."
   ]
  },
  {
   "cell_type": "code",
   "execution_count": 64,
   "id": "4c89be9e",
   "metadata": {},
   "outputs": [],
   "source": [
    "def getCenterRaDec(region):\n",
    "    \"\"\"\n",
    "    We pull the 2D boundingBox (not the boundingBox3d) from a region.\n",
    "    Then we extract the center's (RA, Dec) coordinates.\n",
    "    2/2/2024 COC\n",
    "    \"\"\"\n",
    "    bbox_center = region.getBoundingBox().getCenter()\n",
    "    ra = bbox_center.getLon().asDegrees()\n",
    "    dec = bbox_center.getLat().asDegrees()\n",
    "    return (ra, dec)"
   ]
  },
  {
   "cell_type": "code",
   "execution_count": 65,
   "id": "8e1e764c",
   "metadata": {},
   "outputs": [
    {
     "data": {
      "text/plain": [
       "(352.477974357993, -4.837981041070432)"
      ]
     },
     "execution_count": 65,
     "metadata": {},
     "output_type": "execute_result"
    }
   ],
   "source": [
    "getCenterRaDec(example_vdr_ref.region)"
   ]
  },
  {
   "cell_type": "code",
   "execution_count": 66,
   "id": "8e54db29",
   "metadata": {},
   "outputs": [
    {
     "name": "stdout",
     "output_type": "stream",
     "text": [
      "CPU times: user 277 ms, sys: 1.25 ms, total: 278 ms\n",
      "Wall time: 278 ms\n"
     ]
    }
   ],
   "source": [
    "%%time\n",
    "df[\"center_coord\"] = [getCenterRaDec(i) for i in df[\"region\"]]"
   ]
  },
  {
   "cell_type": "code",
   "execution_count": 67,
   "id": "64908868",
   "metadata": {},
   "outputs": [
    {
     "data": {
      "text/plain": [
       "47383"
      ]
     },
     "execution_count": 67,
     "metadata": {},
     "output_type": "execute_result"
    }
   ],
   "source": [
    "len(df[\"center_coord\"])"
   ]
  },
  {
   "cell_type": "code",
   "execution_count": 68,
   "id": "625de417",
   "metadata": {},
   "outputs": [
    {
     "data": {
      "text/plain": [
       "(351.0694028401149, -4.336598368890197)"
      ]
     },
     "execution_count": 68,
     "metadata": {},
     "output_type": "execute_result"
    }
   ],
   "source": [
    "df[\"center_coord\"].iloc()[0]"
   ]
  },
  {
   "cell_type": "code",
   "execution_count": 69,
   "id": "67b57215",
   "metadata": {},
   "outputs": [
    {
     "name": "stdout",
     "output_type": "stream",
     "text": [
      "CPU times: user 1.26 s, sys: 27.4 ms, total: 1.29 s\n",
      "Wall time: 1.29 s\n"
     ]
    },
    {
     "data": {
      "text/plain": [
       "<matplotlib.collections.PathCollection at 0x7f0e1064b580>"
      ]
     },
     "execution_count": 69,
     "metadata": {},
     "output_type": "execute_result"
    },
    {
     "data": {
      "image/png": "[encoded data removed]",
      "text/plain": [
       "<Figure size 400x400 with 1 Axes>"
      ]
     },
     "metadata": {},
     "output_type": "display_data"
    }
   ],
   "source": [
    "%%time\n",
    "# Let us visualize where on the sky our chip centers reside\n",
    "fig = plt.figure(figsize=(4, 4))\n",
    "plt.xlabel(\"RA\")\n",
    "plt.ylabel(\"Dec\")\n",
    "plt.scatter(\n",
    "    [i[0] for i in df[\"center_coord\"].iloc()], [i[1] for i in df[\"center_coord\"].iloc()], s=1, alpha=0.5\n",
    ")"
   ]
  },
  {
   "cell_type": "markdown",
   "id": "41d4fd38",
   "metadata": {},
   "source": [
    "The DECam mosaic shape is clearly visible, thrice.\\\n",
    "There is an offset from each of the three pointings, too.\n",
    "\n",
    "In the most simple approach, each of these \"dots\" represents a set of images that can be fed to KBMOD."
   ]
  },
  {
   "cell_type": "code",
   "execution_count": 70,
   "id": "c2dc4e1a",
   "metadata": {},
   "outputs": [
    {
     "data": {
      "text/plain": [
       "{'instrument': 'DECam', 'detector': 1, 'visit': 898286}"
      ]
     },
     "execution_count": 70,
     "metadata": {},
     "output_type": "execute_result"
    }
   ],
   "source": [
    "# look at the first dataId, which does not show up in a pretty way in the DF\n",
    "df[\"data_id\"].iloc[0]"
   ]
  },
  {
   "cell_type": "code",
   "execution_count": 71,
   "id": "580ac4ed",
   "metadata": {},
   "outputs": [
    {
     "data": {
      "text/plain": [
       "<matplotlib.collections.PathCollection at 0x7f0e105dab80>"
      ]
     },
     "execution_count": 71,
     "metadata": {},
     "output_type": "execute_result"
    },
    {
     "data": {
      "image/png": "[encoded data removed]",
      "text/plain": [
       "<Figure size 640x480 with 1 Axes>"
      ]
     },
     "metadata": {},
     "output_type": "display_data"
    }
   ],
   "source": [
    "# Let us look at just detector 62 pointings.\n",
    "# This will give us a decent idea of how many pointings there are (here, 8).\n",
    "\n",
    "df62 = df[df[\"detector\"] == 62]\n",
    "plt.clf()\n",
    "plt.scatter(*zip(*df62[\"center_coord\"]), s=1, alpha=0.5)"
   ]
  },
  {
   "cell_type": "code",
   "execution_count": 72,
   "id": "6ee544b8",
   "metadata": {},
   "outputs": [],
   "source": [
    "# chip62_coord0 = df62['center_coord'][0]"
   ]
  },
  {
   "cell_type": "markdown",
   "id": "df7d441d",
   "metadata": {},
   "source": [
    "### Region Matching\n",
    "Here region matching means comparing two lsst.sphgeom.region objects.\\\n",
    "Purpose: to see if they have any overlap whatsoever. \\\n",
    "NOTE: a partial or full overlap is called an \"intersection\" in sphgeom lingo.\n",
    "\n",
    "NOTE: Work in progress, but pausing this avenue for now. 2/2/2024 COC"
   ]
  },
  {
   "cell_type": "code",
   "execution_count": 73,
   "id": "2c770982",
   "metadata": {},
   "outputs": [],
   "source": [
    "# manual region-region matching between all chips\n",
    "# NOTE: estimate time is 1 hour, so skipping this for now\n",
    "\n",
    "doit = False\n",
    "if doit == True:\n",
    "    lastTime = time.time()\n",
    "\n",
    "    matches = {}\n",
    "\n",
    "    with progressbar.ProgressBar(max_value=len(vdr_regions)) as bar:\n",
    "        for i, l in enumerate(vdr_regions):\n",
    "            my_id = vdr_ids[i]\n",
    "            matches[my_id] = []\n",
    "            for j, r in enumerate(vdr_regions):\n",
    "                if i == j:\n",
    "                    continue\n",
    "                if l.intersects(r):\n",
    "                    matches[my_id].append(vdr_ids[j])\n",
    "            bar.update(i)\n",
    "    elapsed = round(time.time() - lastTime, 1)\n",
    "    print(f\"It took {elapsed} seconds.\")"
   ]
  },
  {
   "cell_type": "markdown",
   "id": "ba8db514",
   "metadata": {},
   "source": [
    "To be continued..."
   ]
  },
  {
   "cell_type": "markdown",
   "id": "f00d9b2f",
   "metadata": {},
   "source": [
    "### HTM Exploration"
   ]
  },
  {
   "cell_type": "code",
   "execution_count": 74,
   "id": "2fcdd8b3",
   "metadata": {},
   "outputs": [],
   "source": [
    "# Colin playing 1/15/2024 COC\n",
    "def getHTMstuff(ra, dec, level=7, verbose=False):\n",
    "    \"\"\"\n",
    "    1/16/2024 COC inception.\n",
    "    A function that\n",
    "        1. Fetches an HTM ID for a pixelization of a user-supplied level.\n",
    "        2. Determines the angular size (radius, in arcseconds) of the pixelization level.\n",
    "    LSST stores the unique HTM ID for level 7 pixelization in the Butler, hence the default level=7.\n",
    "    \"\"\"\n",
    "    pixelization = lsst.sphgeom.HtmPixelization(level)\n",
    "\n",
    "    try:  # kludges; use the Butler way, but if being passed normal numbers, use those\n",
    "        ra = ra.asDegrees()\n",
    "    except AttributeError as msg:\n",
    "        pass\n",
    "    try:\n",
    "        dec = dec.asDegrees()\n",
    "    except AttributeError as msg:\n",
    "        pass\n",
    "\n",
    "    htm_id = pixelization.index(\n",
    "        lsst.sphgeom.UnitVector3d(\n",
    "            # sphgeom.LonLat.fromDegrees(ra.asDegrees(), dec.asDegrees())\n",
    "            lsst.sphgeom.LonLat.fromDegrees(ra, dec)\n",
    "        )\n",
    "    )\n",
    "    circle = pixelization.triangle(htm_id).getBoundingCircle()\n",
    "    scale = circle.getOpeningAngle().asDegrees() * 3600.0\n",
    "    level = pixelization.getLevel()\n",
    "    if verbose:\n",
    "        print(f\"HTM ID={htm_id} at level={level} is bounded by a circle of radius ~{scale:0.2f} arcsec.\")\n",
    "    return (htm_id, scale)"
   ]
  },
  {
   "cell_type": "code",
   "execution_count": 75,
   "id": "c0916372",
   "metadata": {},
   "outputs": [
    {
     "name": "stdout",
     "output_type": "stream",
     "text": [
      "HTM ID=189361 at level=7 is bounded by a circle of radius ~1895.11 arcsec.\n"
     ]
    },
    {
     "data": {
      "text/plain": [
       "(189361, 1895.111766130883)"
      ]
     },
     "execution_count": 75,
     "metadata": {},
     "output_type": "execute_result"
    }
   ],
   "source": [
    "getHTMstuff(df[\"center_coord\"].iloc()[0][0], df[\"center_coord\"].iloc()[0][1], verbose=True)"
   ]
  },
  {
   "cell_type": "code",
   "execution_count": 76,
   "id": "47c447c5",
   "metadata": {},
   "outputs": [
    {
     "name": "stdout",
     "output_type": "stream",
     "text": [
      "0\n"
     ]
    }
   ],
   "source": [
    "dsRefs = butler.registry.queryDatasets(\n",
    "    datasetType=desired_datasetTypes[0], htm7=147116, collections=desired_collections\n",
    ")\n",
    "print(len(sorted(dsRefs)))"
   ]
  },
  {
   "cell_type": "markdown",
   "id": "d59bcdde",
   "metadata": {},
   "source": [
    "To be continued..."
   ]
  },
  {
   "cell_type": "markdown",
   "id": "10339ac6",
   "metadata": {},
   "source": [
    "### Brute force approach for (small) discrete datasets\n",
    "\n",
    "The idea here is that we can organize discrete piles of images, such as DEEP, DDF."
   ]
  },
  {
   "cell_type": "code",
   "execution_count": 77,
   "id": "048e38e1",
   "metadata": {},
   "outputs": [],
   "source": [
    "def find_overlapping_coords(df, uncertainty_radius, overwrite=False):\n",
    "    \"\"\"\n",
    "\n",
    "    Added caching 2/5/2024 COC\n",
    "    \"\"\"\n",
    "    cache_file = f\"{basedir}/overlapping_sets.pickle\"\n",
    "\n",
    "    cache_exists = False\n",
    "    if len(glob.glob(cache_file)) > 0:\n",
    "        cache_exists = True\n",
    "\n",
    "    if overwrite == False and cache_exists == True:\n",
    "        with open(cache_file, \"rb\") as f:\n",
    "            print(f\"Recycling {cache_file} as overwrite={overwrite}.\")\n",
    "            overlapping_sets = pickle.load(f)\n",
    "            return overlapping_sets\n",
    "\n",
    "    df_copy = df.copy()\n",
    "\n",
    "    # Assuming uncertainty_radius is provided as a float in arcseconds\n",
    "    uncertainty_radius_as = uncertainty_radius * u.arcsec\n",
    "\n",
    "    all_coords = SkyCoord(\n",
    "        ra=[x[0] for x in df_copy[\"center_coord\"]] * u.degree,\n",
    "        dec=[x[1] for x in df_copy[\"center_coord\"]] * u.degree,\n",
    "    )\n",
    "\n",
    "    overlapping_sets = {}\n",
    "    set_counter = 1\n",
    "    processed_data_ids = []\n",
    "\n",
    "    periodic_update_counter = 0\n",
    "    with progressbar.ProgressBar(max_value=len(all_coords)) as bar:\n",
    "        for index, coord in enumerate(all_coords):\n",
    "            data_id = df_copy.iloc[index][\"data_id\"]\n",
    "            if data_id not in processed_data_ids:\n",
    "                distances = (\n",
    "                    coord.separation(all_coords).to(u.arcsec).value\n",
    "                )  # Convert distances to arcseconds as numeric values\n",
    "\n",
    "                # Perform comparison as numeric values, bypassing direct unit comparison\n",
    "                within_radius = (distances <= uncertainty_radius_as.value) & (distances > 0)\n",
    "\n",
    "                if any(within_radius):\n",
    "                    overlapping_indices = [\n",
    "                        i\n",
    "                        for i, distance in enumerate(distances)\n",
    "                        if (distance <= uncertainty_radius_as.value) and i != index\n",
    "                    ]\n",
    "                    overlapping_data_ids = df_copy.iloc[overlapping_indices][\"data_id\"].tolist()\n",
    "                    overlapping_data_ids.append(data_id)\n",
    "\n",
    "                    processed_data_ids.extend(overlapping_data_ids)\n",
    "\n",
    "                    overlapping_sets[f\"set_{set_counter}\"] = overlapping_data_ids\n",
    "                    set_counter += 1\n",
    "            #\n",
    "            # mitigate too much output 2/5/2024 COC\n",
    "            periodic_update_counter += 1\n",
    "            if periodic_update_counter >= 250:\n",
    "                periodic_update_counter = 0\n",
    "                bar.update(index)\n",
    "\n",
    "    with open(cache_file, \"wb\") as f:\n",
    "        pickle.dump(overlapping_sets, f, protocol=pickle.HIGHEST_PROTOCOL)\n",
    "        print(f\"Saved overlapping_sets to {cache_file} for caching purposes.\")\n",
    "\n",
    "    return overlapping_sets"
   ]
  },
  {
   "cell_type": "code",
   "execution_count": 78,
   "id": "25710a99",
   "metadata": {},
   "outputs": [
    {
     "name": "stdout",
     "output_type": "stream",
     "text": [
      "Recycling /astro/users/coc123/kbmod_tmp/overlapping_sets.pickle as overwrite=False.\n",
      "CPU times: user 263 ms, sys: 31.5 ms, total: 295 ms\n",
      "Wall time: 293 ms\n"
     ]
    }
   ],
   "source": [
    "%%time\n",
    "\n",
    "# TIMING NOTE: this takes about 1.25 hours [TODO update that number]\n",
    "# TODO test caching\n",
    "\n",
    "overlapping_sets = find_overlapping_coords(df=df, uncertainty_radius=30, overwrite=False)"
   ]
  },
  {
   "cell_type": "code",
   "execution_count": 79,
   "id": "5f2d5a03",
   "metadata": {},
   "outputs": [
    {
     "name": "stdout",
     "output_type": "stream",
     "text": [
      "There are 488 discrete chip-level pointings.\n"
     ]
    }
   ],
   "source": [
    "print(f\"There are {len(overlapping_sets.keys())} discrete chip-level pointings.\")  # should be 488"
   ]
  },
  {
   "cell_type": "markdown",
   "id": "4e362e41",
   "metadata": {},
   "source": [
    "#### Exploring the overlapping_sets"
   ]
  },
  {
   "cell_type": "code",
   "execution_count": 80,
   "id": "38d96b97",
   "metadata": {},
   "outputs": [],
   "source": [
    "# Create lookup tables for data_id_str to center_coord and ut_datetime for vast speed-ups.\n",
    "id_to_coord = df.set_index(\"data_id_str\")[\"center_coord\"].to_dict()\n",
    "id_to_date = df.set_index(\"data_id_str\")[\"ut_datetime\"].dt.date.to_dict()"
   ]
  },
  {
   "cell_type": "code",
   "execution_count": 81,
   "id": "9ed24e28",
   "metadata": {},
   "outputs": [
    {
     "name": "stdout",
     "output_type": "stream",
     "text": [
      "CPU times: user 26.4 ms, sys: 4.71 ms, total: 31.1 ms\n",
      "Wall time: 29.1 ms\n"
     ]
    },
    {
     "data": {
      "text/plain": [
       "<matplotlib.collections.PathCollection at 0x7f0e127591f0>"
      ]
     },
     "execution_count": 81,
     "metadata": {},
     "output_type": "execute_result"
    },
    {
     "data": {
      "image/png": "[encoded data removed]",
      "text/plain": [
       "<Figure size 640x480 with 1 Axes>"
      ]
     },
     "metadata": {},
     "output_type": "display_data"
    }
   ],
   "source": [
    "%%time\n",
    "# Looking at the processed data.\n",
    "\n",
    "# Preparing for bulk plotting (if every point uses the same label, adjust as needed)\n",
    "coords = [id_to_coord[dataId_to_dataIdStr(overlapping_sets[p][0])] for p in overlapping_sets]\n",
    "x_coords, y_coords = zip(*coords)  # Assuming coords are tuples or lists\n",
    "\n",
    "# Plotting in bulk\n",
    "plt.scatter(x_coords, y_coords, s=1)"
   ]
  },
  {
   "cell_type": "code",
   "execution_count": 82,
   "id": "fcd39c41",
   "metadata": {},
   "outputs": [
    {
     "name": "stderr",
     "output_type": "stream",
     "text": [
      "<timed exec>:7: MatplotlibDeprecationWarning: The get_cmap function was deprecated in Matplotlib 3.7 and will be removed two minor releases later. Use ``matplotlib.colormaps[name]`` or ``matplotlib.colormaps.get_cmap(obj)`` instead.\n"
     ]
    },
    {
     "name": "stdout",
     "output_type": "stream",
     "text": [
      "CPU times: user 5.5 s, sys: 532 ms, total: 6.03 s\n",
      "Wall time: 5.48 s\n"
     ]
    },
    {
     "data": {
      "image/png": "[encoded data removed]",
      "text/plain": [
       "<Figure size 640x480 with 1 Axes>"
      ]
     },
     "metadata": {},
     "output_type": "display_data"
    }
   ],
   "source": [
    "%%time\n",
    "\n",
    "# TIMING NOTE: this requires about 7 seconds\n",
    "\n",
    "# Extract unique dates and create a color map\n",
    "unique_dates = sorted(set(id_to_date.values()))\n",
    "date_to_color = {date: i for i, date in enumerate(unique_dates)}\n",
    "norm = Normalize(vmin=0, vmax=len(unique_dates) - 1)\n",
    "cmap = get_cmap(\"tab20\", len(unique_dates))  # Choose a colormap that fits the data\n",
    "\n",
    "# Preparing data for plotting\n",
    "coords = [id_to_coord[dataId_to_dataIdStr(overlapping_sets[p][0])] for p in overlapping_sets]\n",
    "dates = [id_to_date[dataId_to_dataIdStr(overlapping_sets[p][0])] for p in overlapping_sets]\n",
    "colors = [cmap(norm(date_to_color[date])) for date in dates]\n",
    "\n",
    "# Plotting\n",
    "lcount = 0\n",
    "for (x, y), color, date in zip(coords, colors, dates):\n",
    "    lcount += 1\n",
    "    plt.scatter(x, y, color=color, label=date.strftime(\"%Y-%m-%d\"), alpha=0.75, s=2)\n",
    "\n",
    "# To avoid duplicate labels in the legend, handle legend entries manually\n",
    "handles, labels = plt.gca().get_legend_handles_labels()\n",
    "by_label = dict(zip(labels, handles))  # Removing duplicates\n",
    "\n",
    "current_handles, current_labels = plt.gca().get_legend_handles_labels()\n",
    "\n",
    "current_handles = list(by_label.values())\n",
    "current_labels = list(by_label.keys())\n",
    "# sort or reorder the labels and handles\n",
    "sorted_ix = sorted(range(len(current_labels)), key=lambda k: current_labels[k])\n",
    "sorted_handles = [current_handles[i] for i in sorted_ix]  # list(current_handles)\n",
    "sorted_labels = [current_labels[i] for i in sorted_ix]  # list(current_labels)\n",
    "\n",
    "# call plt.legend() with the new values\n",
    "plt.legend(sorted_handles, sorted_labels)\n",
    "\n",
    "# plt.legend(by_label.values(), by_label.keys())\n",
    "plt.savefig(f\"{basedir}/pointings.pdf\")"
   ]
  },
  {
   "cell_type": "code",
   "execution_count": 83,
   "id": "d06ed515",
   "metadata": {},
   "outputs": [
    {
     "name": "stdout",
     "output_type": "stream",
     "text": [
      "2019-08-28\n",
      "2019-08-29\n",
      "2019-08-30\n",
      "2019-09-27\n",
      "2019-09-28\n",
      "2019-09-29\n",
      "2020-10-17\n",
      "2020-10-19\n"
     ]
    }
   ],
   "source": [
    "# Here are the unique dates found in the discrete dataset\n",
    "unique_dates = sorted(set(id_to_date.values()))\n",
    "print(\"\\n\".join([str(dt) for dt in unique_dates]))"
   ]
  },
  {
   "cell_type": "markdown",
   "id": "3dc0bb58",
   "metadata": {},
   "source": [
    "##### Double-checking a single date"
   ]
  },
  {
   "cell_type": "code",
   "execution_count": 84,
   "id": "58158f47",
   "metadata": {},
   "outputs": [
    {
     "data": {
      "text/plain": [
       "data_id         {'instrument': 'DECam', 'detector': 1, 'visit'...\n",
       "region          ConvexPolygon([UnitVector3d(0.9847372525065534...\n",
       "detector                                                        1\n",
       "data_id_str                                        DECam_1_898286\n",
       "uri             file:///epyc/users/smotherh/DEEP/PointingGroup...\n",
       "ut                                        2019-09-27T00:20:22.932\n",
       "ut_datetime                            2019-09-27 00:20:22.932000\n",
       "center_coord              (351.0694028401149, -4.336598368890197)\n",
       "Name: 0, dtype: object"
      ]
     },
     "execution_count": 84,
     "metadata": {},
     "output_type": "execute_result"
    }
   ],
   "source": [
    "df.iloc()[0]"
   ]
  },
  {
   "cell_type": "code",
   "execution_count": 85,
   "id": "2ff625e7",
   "metadata": {},
   "outputs": [
    {
     "data": {
      "text/plain": [
       "datetime.date(2019, 9, 27)"
      ]
     },
     "execution_count": 85,
     "metadata": {},
     "output_type": "execute_result"
    }
   ],
   "source": [
    "id_to_date[dataId_to_dataIdStr(df[\"data_id\"].iloc()[0])]"
   ]
  },
  {
   "cell_type": "code",
   "execution_count": 86,
   "id": "c3b48b13",
   "metadata": {},
   "outputs": [
    {
     "data": {
      "text/plain": [
       "(351.0694028401149, -4.336598368890197)"
      ]
     },
     "execution_count": 86,
     "metadata": {},
     "output_type": "execute_result"
    }
   ],
   "source": [
    "id_to_coord[dataId_to_dataIdStr(df[\"data_id\"].iloc()[0])]"
   ]
  },
  {
   "cell_type": "code",
   "execution_count": 87,
   "id": "16506478",
   "metadata": {},
   "outputs": [
    {
     "data": {
      "text/plain": [
       "6267"
      ]
     },
     "execution_count": 87,
     "metadata": {},
     "output_type": "execute_result"
    }
   ],
   "source": [
    "# We will make a dataframe with just the date we are checking\n",
    "df20190828 = df[df[\"ut_datetime\"].dt.date == parser.parse(\"2019-08-28\").date()]\n",
    "len(df20190828)"
   ]
  },
  {
   "cell_type": "code",
   "execution_count": 88,
   "id": "166c9137",
   "metadata": {},
   "outputs": [
    {
     "name": "stdout",
     "output_type": "stream",
     "text": [
      "CPU times: user 954 ms, sys: 14.5 ms, total: 969 ms\n",
      "Wall time: 968 ms\n"
     ]
    },
    {
     "data": {
      "image/png": "[encoded data removed]",
      "text/plain": [
       "<Figure size 640x480 with 1 Axes>"
      ]
     },
     "metadata": {},
     "output_type": "display_data"
    },
    {
     "data": {
      "image/png": "[encoded data removed]",
      "text/plain": [
       "<Figure size 640x480 with 1 Axes>"
      ]
     },
     "metadata": {},
     "output_type": "display_data"
    },
    {
     "data": {
      "image/png": "[encoded data removed]",
      "text/plain": [
       "<Figure size 640x480 with 1 Axes>"
      ]
     },
     "metadata": {},
     "output_type": "display_data"
    },
    {
     "data": {
      "image/png": "[encoded data removed]",
      "text/plain": [
       "<Figure size 640x480 with 1 Axes>"
      ]
     },
     "metadata": {},
     "output_type": "display_data"
    },
    {
     "data": {
      "image/png": "[encoded data removed]",
      "text/plain": [
       "<Figure size 640x480 with 1 Axes>"
      ]
     },
     "metadata": {},
     "output_type": "display_data"
    },
    {
     "data": {
      "image/png": "[encoded data removed]",
      "text/plain": [
       "<Figure size 640x480 with 1 Axes>"
      ]
     },
     "metadata": {},
     "output_type": "display_data"
    },
    {
     "data": {
      "image/png": "[encoded data removed]",
      "text/plain": [
       "<Figure size 640x480 with 1 Axes>"
      ]
     },
     "metadata": {},
     "output_type": "display_data"
    },
    {
     "data": {
      "image/png": "[encoded data removed]",
      "text/plain": [
       "<Figure size 640x480 with 1 Axes>"
      ]
     },
     "metadata": {},
     "output_type": "display_data"
    }
   ],
   "source": [
    "%%time\n",
    "# Visualize all of the unique dates, one at a time.\n",
    "for dt in unique_dates:\n",
    "    fig = plt.figure()\n",
    "    tmpdf = df[df[\"ut_datetime\"].dt.date == parser.parse(\"2019-08-28\").date()]\n",
    "    plt.scatter(*zip(*tmpdf[\"center_coord\"]), s=1, alpha=0.5)\n",
    "    plt.title(f\"{dt}\")\n",
    "del tmpdf"
   ]
  },
  {
   "cell_type": "code",
   "execution_count": 89,
   "id": "fe95f3f0",
   "metadata": {},
   "outputs": [
    {
     "name": "stdout",
     "output_type": "stream",
     "text": [
      "Skipping set_1 because only one date.\n",
      "Skipping set_2 because only one date.\n",
      "Skipping set_3 because only one date.\n",
      "Skipping set_4 because only one date.\n",
      "Skipping set_5 because only one date.\n",
      "Skipping set_6 because only one date.\n",
      "Skipping set_7 because only one date.\n",
      "Skipping set_8 because only one date.\n",
      "Skipping set_9 because only one date.\n",
      "Skipping set_10 because only one date.\n",
      "Skipping set_11 because only one date.\n",
      "Skipping set_12 because only one date.\n",
      "Skipping set_13 because only one date.\n",
      "Skipping set_14 because only one date.\n",
      "Skipping set_15 because only one date.\n",
      "Skipping set_16 because only one date.\n",
      "Skipping set_17 because only one date.\n",
      "Skipping set_18 because only one date.\n",
      "Skipping set_19 because only one date.\n",
      "Skipping set_20 because only one date.\n",
      "Skipping set_21 because only one date.\n",
      "Skipping set_22 because only one date.\n",
      "Skipping set_23 because only one date.\n",
      "Skipping set_24 because only one date.\n",
      "Skipping set_25 because only one date.\n",
      "Skipping set_26 because only one date.\n",
      "Skipping set_27 because only one date.\n",
      "Skipping set_28 because only one date.\n",
      "Skipping set_29 because only one date.\n",
      "Skipping set_30 because only one date.\n",
      "Skipping set_31 because only one date.\n",
      "Skipping set_32 because only one date.\n",
      "Skipping set_33 because only one date.\n",
      "Skipping set_34 because only one date.\n",
      "Skipping set_35 because only one date.\n",
      "Skipping set_36 because only one date.\n",
      "Skipping set_37 because only one date.\n",
      "Skipping set_38 because only one date.\n",
      "Skipping set_39 because only one date.\n",
      "Skipping set_40 because only one date.\n",
      "Skipping set_41 because only one date.\n",
      "Skipping set_42 because only one date.\n",
      "Skipping set_43 because only one date.\n",
      "Skipping set_44 because only one date.\n",
      "Skipping set_45 because only one date.\n",
      "Skipping set_46 because only one date.\n",
      "Skipping set_47 because only one date.\n",
      "Skipping set_48 because only one date.\n",
      "Skipping set_49 because only one date.\n",
      "Skipping set_50 because only one date.\n",
      "Skipping set_51 because only one date.\n",
      "Skipping set_52 because only one date.\n",
      "Skipping set_53 because only one date.\n",
      "Skipping set_54 because only one date.\n",
      "Skipping set_55 because only one date.\n",
      "Skipping set_56 because only one date.\n",
      "Skipping set_57 because only one date.\n",
      "Skipping set_58 because only one date.\n",
      "Skipping set_59 because only one date.\n",
      "Skipping set_60 because only one date.\n",
      "Skipping set_61 because only one date.\n",
      "Skipping set_62 because only one date.\n",
      "Skipping set_63 because only one date.\n",
      "Skipping set_64 because only one date.\n",
      "Skipping set_65 because only one date.\n",
      "Skipping set_66 because only one date.\n",
      "Skipping set_67 because only one date.\n",
      "Skipping set_68 because only one date.\n",
      "Skipping set_69 because only one date.\n",
      "Skipping set_70 because only one date.\n",
      "Skipping set_71 because only one date.\n",
      "Skipping set_72 because only one date.\n",
      "Skipping set_73 because only one date.\n",
      "Skipping set_74 because only one date.\n",
      "Skipping set_75 because only one date.\n",
      "Skipping set_76 because only one date.\n",
      "Skipping set_77 because only one date.\n",
      "Skipping set_78 because only one date.\n",
      "Skipping set_79 because only one date.\n",
      "Skipping set_80 because only one date.\n",
      "Skipping set_81 because only one date.\n",
      "Skipping set_82 because only one date.\n",
      "Skipping set_83 because only one date.\n",
      "Skipping set_84 because only one date.\n",
      "Skipping set_85 because only one date.\n",
      "Skipping set_86 because only one date.\n",
      "Skipping set_87 because only one date.\n",
      "Skipping set_88 because only one date.\n",
      "Skipping set_89 because only one date.\n",
      "Skipping set_90 because only one date.\n",
      "Skipping set_91 because only one date.\n",
      "Skipping set_92 because only one date.\n",
      "Skipping set_93 because only one date.\n",
      "Skipping set_94 because only one date.\n",
      "Skipping set_95 because only one date.\n",
      "Skipping set_96 because only one date.\n",
      "Skipping set_97 because only one date.\n",
      "Skipping set_98 because only one date.\n",
      "Skipping set_99 because only one date.\n",
      "Skipping set_100 because only one date.\n",
      "Skipping set_101 because only one date.\n",
      "Skipping set_102 because only one date.\n",
      "Skipping set_103 because only one date.\n",
      "Skipping set_104 because only one date.\n",
      "Skipping set_105 because only one date.\n",
      "Skipping set_106 because only one date.\n",
      "Skipping set_107 because only one date.\n",
      "Skipping set_108 because only one date.\n",
      "Skipping set_109 because only one date.\n",
      "Skipping set_110 because only one date.\n",
      "Skipping set_111 because only one date.\n",
      "Skipping set_112 because only one date.\n",
      "Skipping set_113 because only one date.\n",
      "Skipping set_114 because only one date.\n",
      "Skipping set_115 because only one date.\n",
      "Skipping set_116 because only one date.\n",
      "Skipping set_117 because only one date.\n",
      "Skipping set_118 because only one date.\n",
      "Skipping set_119 because only one date.\n",
      "Skipping set_120 because only one date.\n",
      "Skipping set_121 because only one date.\n",
      "Skipping set_122 because only one date.\n",
      "Skipping set_123 because only one date.\n",
      "Skipping set_124 because only one date.\n",
      "Skipping set_125 because only one date.\n",
      "Skipping set_126 because only one date.\n",
      "Skipping set_127 because only one date.\n",
      "Skipping set_128 because only one date.\n",
      "Skipping set_129 because only one date.\n",
      "Skipping set_130 because only one date.\n",
      "Skipping set_131 because only one date.\n",
      "Skipping set_132 because only one date.\n",
      "Skipping set_133 because only one date.\n",
      "Skipping set_134 because only one date.\n",
      "Skipping set_135 because only one date.\n",
      "Skipping set_136 because only one date.\n",
      "Skipping set_137 because only one date.\n",
      "Skipping set_138 because only one date.\n",
      "Skipping set_139 because only one date.\n",
      "Skipping set_140 because only one date.\n",
      "Skipping set_141 because only one date.\n",
      "Skipping set_142 because only one date.\n",
      "Skipping set_143 because only one date.\n",
      "Skipping set_144 because only one date.\n",
      "Skipping set_145 because only one date.\n",
      "Skipping set_146 because only one date.\n",
      "Skipping set_147 because only one date.\n",
      "Skipping set_148 because only one date.\n",
      "Skipping set_149 because only one date.\n",
      "Skipping set_150 because only one date.\n",
      "Skipping set_151 because only one date.\n",
      "Skipping set_152 because only one date.\n",
      "Skipping set_153 because only one date.\n",
      "Skipping set_154 because only one date.\n",
      "Skipping set_155 because only one date.\n",
      "Skipping set_156 because only one date.\n",
      "Skipping set_157 because only one date.\n",
      "Skipping set_158 because only one date.\n",
      "Skipping set_159 because only one date.\n",
      "Skipping set_160 because only one date.\n",
      "Skipping set_161 because only one date.\n",
      "Skipping set_162 because only one date.\n",
      "Skipping set_163 because only one date.\n",
      "Skipping set_164 because only one date.\n",
      "Skipping set_165 because only one date.\n",
      "Skipping set_166 because only one date.\n",
      "Skipping set_167 because only one date.\n",
      "Skipping set_168 because only one date.\n",
      "Skipping set_169 because only one date.\n",
      "Skipping set_170 because only one date.\n",
      "Skipping set_171 because only one date.\n",
      "Skipping set_172 because only one date.\n",
      "Skipping set_173 because only one date.\n",
      "Skipping set_174 because only one date.\n",
      "Skipping set_175 because only one date.\n",
      "Skipping set_176 because only one date.\n",
      "Skipping set_177 because only one date.\n",
      "Skipping set_178 because only one date.\n",
      "Skipping set_179 because only one date.\n",
      "Skipping set_180 because only one date.\n",
      "Skipping set_181 because only one date.\n",
      "Skipping set_182 because only one date.\n",
      "Skipping set_183 because only one date.\n",
      "Skipping set_184 because only one date.\n",
      "Skipping set_185 because only one date.\n",
      "Skipping set_186 because only one date.\n",
      "Skipping set_187 because only one date.\n",
      "Skipping set_188 because only one date.\n",
      "Skipping set_189 because only one date.\n",
      "Skipping set_190 because only one date.\n",
      "Skipping set_191 because only one date.\n",
      "Skipping set_192 because only one date.\n",
      "Skipping set_193 because only one date.\n",
      "Skipping set_194 because only one date.\n",
      "Skipping set_195 because only one date.\n",
      "Skipping set_196 because only one date.\n",
      "Skipping set_197 because only one date.\n",
      "Skipping set_198 because only one date.\n",
      "Skipping set_199 because only one date.\n",
      "Skipping set_200 because only one date.\n",
      "Skipping set_201 because only one date.\n",
      "Skipping set_202 because only one date.\n",
      "Skipping set_203 because only one date.\n",
      "Skipping set_204 because only one date.\n",
      "Skipping set_205 because only one date.\n",
      "Skipping set_206 because only one date.\n",
      "Skipping set_207 because only one date.\n",
      "Skipping set_208 because only one date.\n",
      "Skipping set_209 because only one date.\n",
      "Skipping set_210 because only one date.\n",
      "Skipping set_211 because only one date.\n",
      "Skipping set_212 because only one date.\n",
      "Skipping set_213 because only one date.\n",
      "Skipping set_214 because only one date.\n",
      "Skipping set_215 because only one date.\n",
      "Skipping set_216 because only one date.\n",
      "Skipping set_217 because only one date.\n",
      "Skipping set_218 because only one date.\n",
      "Skipping set_219 because only one date.\n",
      "Skipping set_220 because only one date.\n",
      "Skipping set_221 because only one date.\n",
      "Skipping set_222 because only one date.\n",
      "Skipping set_223 because only one date.\n",
      "Skipping set_224 because only one date.\n",
      "Skipping set_225 because only one date.\n",
      "Skipping set_226 because only one date.\n",
      "Skipping set_227 because only one date.\n",
      "Skipping set_228 because only one date.\n",
      "Skipping set_229 because only one date.\n",
      "Skipping set_230 because only one date.\n",
      "Skipping set_231 because only one date.\n",
      "Skipping set_232 because only one date.\n",
      "Skipping set_233 because only one date.\n",
      "Skipping set_234 because only one date.\n",
      "Skipping set_235 because only one date.\n",
      "Skipping set_236 because only one date.\n",
      "Skipping set_237 because only one date.\n",
      "Skipping set_238 because only one date.\n",
      "Skipping set_239 because only one date.\n",
      "Skipping set_240 because only one date.\n",
      "Skipping set_241 because only one date.\n",
      "Skipping set_242 because only one date.\n",
      "Skipping set_243 because only one date.\n",
      "Skipping set_244 because only one date.\n",
      "Skipping set_245 because only one date.\n",
      "Skipping set_246 because only one date.\n",
      "Skipping set_247 because only one date.\n",
      "Skipping set_248 because only one date.\n",
      "Skipping set_249 because only one date.\n",
      "Skipping set_250 because only one date.\n",
      "Skipping set_251 because only one date.\n",
      "Skipping set_252 because only one date.\n",
      "Skipping set_253 because only one date.\n",
      "Skipping set_254 because only one date.\n",
      "Skipping set_255 because only one date.\n",
      "Skipping set_256 because only one date.\n",
      "Skipping set_257 because only one date.\n",
      "Skipping set_258 because only one date.\n",
      "Skipping set_259 because only one date.\n",
      "Skipping set_260 because only one date.\n",
      "Skipping set_261 because only one date.\n",
      "Skipping set_262 because only one date.\n",
      "Skipping set_263 because only one date.\n",
      "Skipping set_264 because only one date.\n",
      "Skipping set_265 because only one date.\n",
      "Skipping set_266 because only one date.\n",
      "Skipping set_267 because only one date.\n",
      "Skipping set_268 because only one date.\n",
      "Skipping set_269 because only one date.\n",
      "Skipping set_270 because only one date.\n",
      "Skipping set_271 because only one date.\n",
      "Skipping set_272 because only one date.\n",
      "Skipping set_273 because only one date.\n",
      "Skipping set_274 because only one date.\n",
      "Skipping set_275 because only one date.\n",
      "Skipping set_276 because only one date.\n",
      "Skipping set_277 because only one date.\n",
      "Skipping set_278 because only one date.\n",
      "Skipping set_279 because only one date.\n",
      "Skipping set_280 because only one date.\n",
      "Skipping set_281 because only one date.\n",
      "Skipping set_282 because only one date.\n",
      "Skipping set_283 because only one date.\n",
      "Skipping set_284 because only one date.\n",
      "Skipping set_285 because only one date.\n",
      "Skipping set_286 because only one date.\n",
      "Skipping set_287 because only one date.\n",
      "Skipping set_288 because only one date.\n",
      "Skipping set_289 because only one date.\n",
      "Skipping set_290 because only one date.\n",
      "Skipping set_291 because only one date.\n",
      "Skipping set_292 because only one date.\n",
      "Skipping set_293 because only one date.\n",
      "Skipping set_294 because only one date.\n",
      "Skipping set_295 because only one date.\n",
      "Skipping set_296 because only one date.\n",
      "Skipping set_297 because only one date.\n",
      "Skipping set_298 because only one date.\n",
      "Skipping set_299 because only one date.\n",
      "Skipping set_300 because only one date.\n",
      "Skipping set_301 because only one date.\n",
      "Skipping set_302 because only one date.\n",
      "Skipping set_303 because only one date.\n",
      "Skipping set_304 because only one date.\n",
      "Skipping set_305 because only one date.\n",
      "Skipping set_306 because only one date.\n",
      "Skipping set_307 because only one date.\n",
      "Skipping set_308 because only one date.\n",
      "Skipping set_309 because only one date.\n",
      "Skipping set_310 because only one date.\n",
      "Skipping set_311 because only one date.\n",
      "Skipping set_312 because only one date.\n",
      "Skipping set_313 because only one date.\n",
      "Skipping set_314 because only one date.\n",
      "Skipping set_315 because only one date.\n",
      "Skipping set_316 because only one date.\n",
      "Skipping set_317 because only one date.\n",
      "Skipping set_318 because only one date.\n",
      "Skipping set_319 because only one date.\n",
      "Skipping set_320 because only one date.\n",
      "Skipping set_321 because only one date.\n",
      "Skipping set_322 because only one date.\n",
      "Skipping set_323 because only one date.\n",
      "Skipping set_324 because only one date.\n",
      "Skipping set_325 because only one date.\n",
      "Skipping set_326 because only one date.\n",
      "Skipping set_327 because only one date.\n",
      "Skipping set_328 because only one date.\n",
      "Skipping set_329 because only one date.\n",
      "Skipping set_330 because only one date.\n",
      "Skipping set_331 because only one date.\n",
      "Skipping set_332 because only one date.\n",
      "Skipping set_333 because only one date.\n",
      "Skipping set_334 because only one date.\n",
      "Skipping set_335 because only one date.\n",
      "Skipping set_336 because only one date.\n",
      "Skipping set_337 because only one date.\n",
      "Skipping set_338 because only one date.\n",
      "Skipping set_339 because only one date.\n",
      "Skipping set_340 because only one date.\n",
      "Skipping set_341 because only one date.\n",
      "Skipping set_342 because only one date.\n",
      "Skipping set_343 because only one date.\n",
      "Skipping set_344 because only one date.\n",
      "Skipping set_345 because only one date.\n",
      "Skipping set_346 because only one date.\n",
      "Skipping set_347 because only one date.\n",
      "Skipping set_348 because only one date.\n",
      "Skipping set_349 because only one date.\n",
      "Skipping set_350 because only one date.\n",
      "Skipping set_351 because only one date.\n",
      "Skipping set_352 because only one date.\n",
      "Skipping set_353 because only one date.\n",
      "Skipping set_354 because only one date.\n",
      "Skipping set_355 because only one date.\n",
      "Skipping set_356 because only one date.\n",
      "Skipping set_357 because only one date.\n",
      "Skipping set_358 because only one date.\n",
      "Skipping set_359 because only one date.\n",
      "Skipping set_360 because only one date.\n",
      "Skipping set_361 because only one date.\n",
      "Skipping set_362 because only one date.\n",
      "Skipping set_363 because only one date.\n",
      "Skipping set_364 because only one date.\n",
      "Skipping set_365 because only one date.\n",
      "Skipping set_366 because only one date.\n",
      "Skipping set_367 because only one date.\n",
      "Skipping set_368 because only one date.\n",
      "Skipping set_369 because only one date.\n",
      "Skipping set_370 because only one date.\n",
      "Skipping set_371 because only one date.\n",
      "Skipping set_372 because only one date.\n",
      "Skipping set_373 because only one date.\n",
      "Skipping set_374 because only one date.\n",
      "Skipping set_375 because only one date.\n",
      "Skipping set_376 because only one date.\n",
      "Skipping set_377 because only one date.\n",
      "Skipping set_378 because only one date.\n",
      "Skipping set_379 because only one date.\n",
      "Skipping set_380 because only one date.\n",
      "Skipping set_381 because only one date.\n",
      "Skipping set_382 because only one date.\n",
      "Skipping set_383 because only one date.\n",
      "Skipping set_384 because only one date.\n",
      "Skipping set_385 because only one date.\n",
      "Skipping set_386 because only one date.\n",
      "Skipping set_387 because only one date.\n",
      "Skipping set_388 because only one date.\n",
      "Skipping set_389 because only one date.\n",
      "Skipping set_390 because only one date.\n",
      "Skipping set_391 because only one date.\n",
      "Skipping set_392 because only one date.\n",
      "Skipping set_393 because only one date.\n",
      "Skipping set_394 because only one date.\n",
      "Skipping set_395 because only one date.\n",
      "Skipping set_396 because only one date.\n",
      "Skipping set_397 because only one date.\n",
      "Skipping set_398 because only one date.\n",
      "Skipping set_399 because only one date.\n",
      "Skipping set_400 because only one date.\n",
      "Skipping set_401 because only one date.\n",
      "Skipping set_402 because only one date.\n",
      "Skipping set_403 because only one date.\n",
      "Skipping set_404 because only one date.\n",
      "Skipping set_405 because only one date.\n",
      "Skipping set_406 because only one date.\n",
      "Skipping set_407 because only one date.\n",
      "Skipping set_408 because only one date.\n",
      "Skipping set_409 because only one date.\n",
      "Skipping set_410 because only one date.\n",
      "Skipping set_411 because only one date.\n",
      "Skipping set_412 because only one date.\n",
      "Skipping set_413 because only one date.\n",
      "Skipping set_414 because only one date.\n",
      "Skipping set_415 because only one date.\n",
      "Skipping set_416 because only one date.\n",
      "Skipping set_417 because only one date.\n",
      "Skipping set_418 because only one date.\n",
      "Skipping set_419 because only one date.\n",
      "Skipping set_420 because only one date.\n",
      "Skipping set_421 because only one date.\n",
      "Skipping set_422 because only one date.\n",
      "Skipping set_423 because only one date.\n",
      "Skipping set_424 because only one date.\n",
      "Skipping set_425 because only one date.\n",
      "Skipping set_426 because only one date.\n",
      "Skipping set_427 because only one date.\n",
      "Skipping set_428 because only one date.\n",
      "Skipping set_429 because only one date.\n",
      "Skipping set_430 because only one date.\n",
      "Skipping set_431 because only one date.\n",
      "Skipping set_432 because only one date.\n",
      "Skipping set_433 because only one date.\n",
      "Skipping set_434 because only one date.\n",
      "Skipping set_435 because only one date.\n",
      "Skipping set_436 because only one date.\n",
      "Skipping set_437 because only one date.\n",
      "Skipping set_438 because only one date.\n",
      "Skipping set_439 because only one date.\n",
      "Skipping set_440 because only one date.\n",
      "Skipping set_441 because only one date.\n",
      "Skipping set_442 because only one date.\n",
      "Skipping set_443 because only one date.\n",
      "Skipping set_444 because only one date.\n",
      "Skipping set_445 because only one date.\n",
      "Skipping set_446 because only one date.\n",
      "Skipping set_447 because only one date.\n",
      "Skipping set_448 because only one date.\n",
      "Skipping set_449 because only one date.\n",
      "Skipping set_450 because only one date.\n",
      "Skipping set_451 because only one date.\n",
      "Skipping set_452 because only one date.\n",
      "Skipping set_453 because only one date.\n",
      "Skipping set_454 because only one date.\n",
      "Skipping set_455 because only one date.\n",
      "Skipping set_456 because only one date.\n",
      "Skipping set_457 because only one date.\n",
      "Skipping set_458 because only one date.\n",
      "Skipping set_459 because only one date.\n",
      "Skipping set_460 because only one date.\n",
      "Skipping set_461 because only one date.\n",
      "Skipping set_462 because only one date.\n",
      "Skipping set_463 because only one date.\n",
      "Skipping set_464 because only one date.\n",
      "Skipping set_465 because only one date.\n",
      "Skipping set_466 because only one date.\n",
      "Skipping set_467 because only one date.\n",
      "Skipping set_468 because only one date.\n",
      "Skipping set_469 because only one date.\n",
      "Skipping set_470 because only one date.\n",
      "Skipping set_471 because only one date.\n",
      "Skipping set_472 because only one date.\n",
      "Skipping set_473 because only one date.\n",
      "Skipping set_474 because only one date.\n",
      "Skipping set_475 because only one date.\n",
      "Skipping set_476 because only one date.\n",
      "Skipping set_477 because only one date.\n",
      "Skipping set_478 because only one date.\n",
      "Skipping set_479 because only one date.\n",
      "Skipping set_480 because only one date.\n",
      "Skipping set_481 because only one date.\n",
      "Skipping set_482 because only one date.\n",
      "Skipping set_483 because only one date.\n",
      "Skipping set_484 because only one date.\n",
      "Skipping set_485 because only one date.\n",
      "Skipping set_486 because only one date.\n",
      "Skipping set_487 because only one date.\n",
      "Skipping set_488 because only one date.\n"
     ]
    }
   ],
   "source": [
    "# Exploring some timespan considerations 4/18/2024\n",
    "#\n",
    "# Note: in this repository (\"Hayden DEEP\") there are no multi-date overlaps.\n",
    "# ... thus, we will need to revisit this with the broader \"Steven DEEP\" repository. 4/23/2024 COC\n",
    "overlapping_sets\n",
    "for overlapping_set in overlapping_sets:\n",
    "    dates = [id_to_date[dataId_to_dataIdStr(i)] for i in overlapping_sets[overlapping_set]]\n",
    "    unique_dates = list(set(dates))\n",
    "    unique_dates.sort()\n",
    "    if len(unique_dates) < 2:\n",
    "        print(f\"Skipping {overlapping_set} because only one date.\")\n",
    "        continue\n",
    "    counts = [dates.count(i) for i in unique_dates]\n",
    "    plt.plot_date(unique_dates, counts)\n",
    "    break"
   ]
  },
  {
   "cell_type": "markdown",
   "id": "a2e81bd6",
   "metadata": {},
   "source": [
    "### (RA, Dec) searching of image sets"
   ]
  },
  {
   "cell_type": "code",
   "execution_count": 90,
   "id": "f3417ffd",
   "metadata": {},
   "outputs": [
    {
     "name": "stdout",
     "output_type": "stream",
     "text": [
      "\"set_1\" is the first set name in overlapping_sets.\n",
      "Its first record dataId: {instrument: 'DECam', detector: 1, visit: 898287}.\n",
      "It has an (RA, Dec) coordinate of (351.0695696334572, -4.336293374423113).\n"
     ]
    }
   ],
   "source": [
    "# Fetch an (RA, Dec) pair from an image set.\n",
    "first_set_name = list(overlapping_sets.keys())[0]\n",
    "first_sets_data_id = overlapping_sets[first_set_name][0]\n",
    "searching_ra_dec = df.set_index(\"data_id_str\")[\"center_coord\"].to_dict()[\n",
    "    dataId_to_dataIdStr(first_sets_data_id)\n",
    "]\n",
    "\n",
    "print(f'\"{first_set_name}\" is the first set name in overlapping_sets.')\n",
    "print(f\"Its first record dataId: {first_sets_data_id}.\")\n",
    "print(f\"It has an (RA, Dec) coordinate of {searching_ra_dec}.\")"
   ]
  },
  {
   "cell_type": "code",
   "execution_count": 91,
   "id": "bfb23aef",
   "metadata": {},
   "outputs": [],
   "source": [
    "def ra_dec_search_overlapping_sets(df, overlapping_sets, ra_dec, search_radius, verbose=False):\n",
    "    \"\"\"\n",
    "    2/6/2024 COC\n",
    "    Implementing an extremely basic (RA, Dec) query functionality.\n",
    "    This will work within the overlapping_sets framework.\n",
    "    \"\"\"\n",
    "    ra_dec_coord = SkyCoord(ra=ra_dec[0] * u.degree, dec=ra_dec[1] * u.degree)\n",
    "\n",
    "    all_centers = []\n",
    "    all_labels = []\n",
    "\n",
    "    # id_to_coord = df.set_index(\"data_id_str\")[\"center_coord\"].to_dict() # note this was generated already but outside the function\n",
    "\n",
    "    for i, set_name in enumerate(list(overlapping_sets.keys())):\n",
    "        all_labels.append(set_name)\n",
    "        center_data_id = overlapping_sets[set_name][0]\n",
    "        center_coord = id_to_coord[dataId_to_dataIdStr(center_data_id)]\n",
    "        all_centers.append(center_coord)\n",
    "\n",
    "    all_centers = SkyCoord(\n",
    "        ra=[x[0] for x in all_centers] * u.degree,\n",
    "        dec=[x[1] for x in all_centers] * u.degree,\n",
    "    )\n",
    "\n",
    "    distances = ra_dec_coord.separation(all_centers)\n",
    "    within_radius = (distances <= search_radius) & (\n",
    "        distances >= 0\n",
    "    )  # ≥ (not >) because we could supply the an exact match\n",
    "\n",
    "    results = []\n",
    "    for i, item in enumerate(within_radius):\n",
    "        if item == True:\n",
    "            results.append(all_labels[i])\n",
    "    if verbose:\n",
    "        print(f\"We found {len(results)} sets that are within {search_radius} of {ra_dec}.\")\n",
    "    return results"
   ]
  },
  {
   "cell_type": "code",
   "execution_count": 92,
   "id": "0b98b0e4",
   "metadata": {},
   "outputs": [
    {
     "name": "stdout",
     "output_type": "stream",
     "text": [
      "We found 4 sets that are within 14.0 arcmin of (351.0695696334572, -4.336293374423113).\n"
     ]
    },
    {
     "data": {
      "text/plain": [
       "['set_1', 'set_3', 'set_4', 'set_68']"
      ]
     },
     "execution_count": 92,
     "metadata": {},
     "output_type": "execute_result"
    }
   ],
   "source": [
    "# Find matching image sets.\n",
    "# With 1*u.arcminute we would only find set_1 (where we got searching_ra_dec).\n",
    "# With 15*u.arcminute, we find 3 others (for a total of 4).\n",
    "search_radius = 14 * u.arcminute\n",
    "ra_dec_search_results = ra_dec_search_overlapping_sets(\n",
    "    df=df,\n",
    "    overlapping_sets=overlapping_sets,\n",
    "    ra_dec=searching_ra_dec,\n",
    "    search_radius=search_radius,\n",
    "    verbose=True,\n",
    ")\n",
    "ra_dec_search_results"
   ]
  },
  {
   "cell_type": "code",
   "execution_count": 93,
   "id": "447b9b70",
   "metadata": {},
   "outputs": [
    {
     "name": "stdout",
     "output_type": "stream",
     "text": [
      "[[(350.9194972863569, -4.410893881734765), (350.9194972863569, -4.261692867111463), (351.2196419805575, -4.410893881734765), (351.2196419805575, -4.261692867111463)], [(350.7636367448476, -4.57504777569875), (350.7636367448476, -4.425558984666654), (351.06385253666514, -4.57504777569875), (351.06385253666514, -4.425558984666654)], [(351.07489718950103, -4.574714132229647), (351.07489718950103, -4.425184883190398), (351.3752749096747, -4.574714132229647), (351.3752749096747, -4.425184883190398)], [(351.1044786505892, -4.535445547532834), (351.1044786505892, -4.385657669534001), (351.40443040247294, -4.535445547532834), (351.40443040247294, -4.385657669534001)]]\n"
     ]
    },
    {
     "data": {
      "image/png": "[encoded data removed]",
      "text/plain": [
       "<Figure size 640x480 with 1 Axes>"
      ]
     },
     "metadata": {},
     "output_type": "display_data"
    }
   ],
   "source": [
    "matching_regions = []\n",
    "id_to_region = df.set_index(\"data_id_str\")[\"region\"].to_dict()\n",
    "\n",
    "for set_name in ra_dec_search_results:\n",
    "    matching_regions.append(id_to_region[dataId_to_dataIdStr(overlapping_sets[set_name][0])])\n",
    "\n",
    "all_corners = [getRegionCorners(region) for region in matching_regions]\n",
    "print(all_corners)\n",
    "\n",
    "for i, quad in enumerate(all_corners):\n",
    "    ra_bounds, dec_bounds = getMinMaxRaDec(quad)\n",
    "    #\n",
    "    coords = []\n",
    "    coords.append((ra_bounds[0], dec_bounds[0]))\n",
    "    coords.append((ra_bounds[0], dec_bounds[1]))\n",
    "    coords.append((ra_bounds[1], dec_bounds[1]))\n",
    "    coords.append((ra_bounds[1], dec_bounds[0]))\n",
    "    coords.append((ra_bounds[0], dec_bounds[0]))  # close the \"shape\"\n",
    "    #\n",
    "    plt.plot([x[0] for x in coords], [x[1] for x in coords], label=ra_dec_search_results[i])\n",
    "\n",
    "plt.scatter(\n",
    "    searching_ra_dec[0],\n",
    "    searching_ra_dec[1],\n",
    "    s=25,\n",
    "    marker=\"+\",\n",
    "    alpha=0.75,\n",
    "    label=f\"search center\",\n",
    "    color=\"red\",\n",
    ")\n",
    "circle = plt.Circle(\n",
    "    (searching_ra_dec[0], searching_ra_dec[1]),\n",
    "    search_radius.to(u.degree).value,\n",
    "    color=\"black\",\n",
    "    alpha=0.75,\n",
    "    fill=False,\n",
    "    label=\"search area\",\n",
    "    linestyle=\"--\",\n",
    ")\n",
    "plt.legend()\n",
    "plt.xlabel(f\"RA\")\n",
    "plt.ylabel(\"Dec\")\n",
    "ax = plt.gca()\n",
    "ax.add_patch(circle)\n",
    "ax.set_aspect(\"equal\", adjustable=\"box\")"
   ]
  },
  {
   "cell_type": "markdown",
   "id": "18ccf409",
   "metadata": {},
   "source": [
    "### (RA, Dec) searching of our DataFrame (more general case)\n",
    "It is far faster to search overlapping_sets as there are few of these to inspect.\n",
    "A more general case, however, would be to simply find all images within a radius of a sky coordinate."
   ]
  },
  {
   "cell_type": "code",
   "execution_count": 94,
   "id": "b636fef0",
   "metadata": {},
   "outputs": [],
   "source": [
    "def ra_dec_search_df(df, ra_dec, search_radius, verbose=False):\n",
    "    \"\"\"\n",
    "    2/6/2024 COC\n",
    "    Implementing a basic (RA, Dec) query function for our derived Pandas dataframe.\n",
    "    \"\"\"\n",
    "\n",
    "    ra_dec_coord = SkyCoord(ra=ra_dec[0] * u.degree, dec=ra_dec[1] * u.degree)\n",
    "\n",
    "    all_centers = SkyCoord(\n",
    "        ra=[x[0] for x in df[\"center_coord\"].iloc()] * u.degree,\n",
    "        dec=[x[1] for x in df[\"center_coord\"].iloc()] * u.degree,\n",
    "    )\n",
    "\n",
    "    distances = ra_dec_coord.separation(all_centers)\n",
    "    within_radius = (distances <= search_radius) & (\n",
    "        distances >= 0\n",
    "    )  # ≥ (not >) because we could supply the an exact match\n",
    "\n",
    "    results = df[within_radius]\n",
    "\n",
    "    if verbose:\n",
    "        print(f\"We found {len(results.index)} matches within {search_radius} of {ra_dec}.\")\n",
    "    return results"
   ]
  },
  {
   "cell_type": "code",
   "execution_count": 95,
   "id": "90b6aa45",
   "metadata": {},
   "outputs": [
    {
     "name": "stdout",
     "output_type": "stream",
     "text": [
      "We found 95 matches within 3.0 arcsec of (351.0695696334572, -4.336293374423113).\n",
      "CPU times: user 2.88 s, sys: 23.5 ms, total: 2.9 s\n",
      "Wall time: 2.9 s\n"
     ]
    },
    {
     "data": {
      "text/html": [
       "<div>\n",
       "<style scoped>\n",
       "    .dataframe tbody tr th:only-of-type {\n",
       "        vertical-align: middle;\n",
       "    }\n",
       "\n",
       "    .dataframe tbody tr th {\n",
       "        vertical-align: top;\n",
       "    }\n",
       "\n",
       "    .dataframe thead th {\n",
       "        text-align: right;\n",
       "    }\n",
       "</style>\n",
       "<table border=\"1\" class=\"dataframe\">\n",
       "  <thead>\n",
       "    <tr style=\"text-align: right;\">\n",
       "      <th></th>\n",
       "      <th>data_id</th>\n",
       "      <th>region</th>\n",
       "      <th>detector</th>\n",
       "      <th>data_id_str</th>\n",
       "      <th>uri</th>\n",
       "      <th>ut</th>\n",
       "      <th>ut_datetime</th>\n",
       "      <th>center_coord</th>\n",
       "    </tr>\n",
       "  </thead>\n",
       "  <tbody>\n",
       "    <tr>\n",
       "      <th>0</th>\n",
       "      <td>{'instrument': 'DECam', 'detector': 1, 'visit'...</td>\n",
       "      <td>ConvexPolygon([UnitVector3d(0.9847372525065534...</td>\n",
       "      <td>1</td>\n",
       "      <td>DECam_1_898286</td>\n",
       "      <td>file:///epyc/users/smotherh/DEEP/PointingGroup...</td>\n",
       "      <td>2019-09-27T00:20:22.932</td>\n",
       "      <td>2019-09-27 00:20:22.932</td>\n",
       "      <td>(351.0694028401149, -4.336598368890197)</td>\n",
       "    </tr>\n",
       "    <tr>\n",
       "      <th>1</th>\n",
       "      <td>{'instrument': 'DECam', 'detector': 1, 'visit'...</td>\n",
       "      <td>ConvexPolygon([UnitVector3d(0.9847381014554984...</td>\n",
       "      <td>1</td>\n",
       "      <td>DECam_1_898287</td>\n",
       "      <td>file:///epyc/users/smotherh/DEEP/PointingGroup...</td>\n",
       "      <td>2019-09-27T00:22:51.015</td>\n",
       "      <td>2019-09-27 00:22:51.015</td>\n",
       "      <td>(351.0695696334572, -4.336293374423113)</td>\n",
       "    </tr>\n",
       "    <tr>\n",
       "      <th>2</th>\n",
       "      <td>{'instrument': 'DECam', 'detector': 1, 'visit'...</td>\n",
       "      <td>ConvexPolygon([UnitVector3d(0.9847383417970056...</td>\n",
       "      <td>1</td>\n",
       "      <td>DECam_1_898288</td>\n",
       "      <td>file:///epyc/users/smotherh/DEEP/PointingGroup...</td>\n",
       "      <td>2019-09-27T00:25:19.136</td>\n",
       "      <td>2019-09-27 00:25:19.136</td>\n",
       "      <td>(351.0696571334576, -4.336293374415341)</td>\n",
       "    </tr>\n",
       "    <tr>\n",
       "      <th>3</th>\n",
       "      <td>{'instrument': 'DECam', 'detector': 1, 'visit'...</td>\n",
       "      <td>ConvexPolygon([UnitVector3d(0.9847382159041213...</td>\n",
       "      <td>1</td>\n",
       "      <td>DECam_1_898289</td>\n",
       "      <td>file:///epyc/users/smotherh/DEEP/PointingGroup...</td>\n",
       "      <td>2019-09-27T00:27:47.118</td>\n",
       "      <td>2019-09-27 00:27:47.118</td>\n",
       "      <td>(351.069611300124, -4.336293374419411)</td>\n",
       "    </tr>\n",
       "    <tr>\n",
       "      <th>4</th>\n",
       "      <td>{'instrument': 'DECam', 'detector': 1, 'visit'...</td>\n",
       "      <td>ConvexPolygon([UnitVector3d(0.9847381374341414...</td>\n",
       "      <td>1</td>\n",
       "      <td>DECam_1_898290</td>\n",
       "      <td>file:///epyc/users/smotherh/DEEP/PointingGroup...</td>\n",
       "      <td>2019-09-27T00:30:15.537</td>\n",
       "      <td>2019-09-27 00:30:15.537</td>\n",
       "      <td>(351.0695696451088, -4.336265319377865)</td>\n",
       "    </tr>\n",
       "    <tr>\n",
       "      <th>...</th>\n",
       "      <td>...</td>\n",
       "      <td>...</td>\n",
       "      <td>...</td>\n",
       "      <td>...</td>\n",
       "      <td>...</td>\n",
       "      <td>...</td>\n",
       "      <td>...</td>\n",
       "      <td>...</td>\n",
       "    </tr>\n",
       "    <tr>\n",
       "      <th>90</th>\n",
       "      <td>{'instrument': 'DECam', 'detector': 1, 'visit'...</td>\n",
       "      <td>ConvexPolygon([UnitVector3d(0.9847391753851408...</td>\n",
       "      <td>1</td>\n",
       "      <td>DECam_1_898376</td>\n",
       "      <td>file:///epyc/users/smotherh/DEEP/PointingGroup...</td>\n",
       "      <td>2019-09-27T04:02:58.424</td>\n",
       "      <td>2019-09-27 04:02:58.424</td>\n",
       "      <td>(351.06998627728365, -4.3363483733857136)</td>\n",
       "    </tr>\n",
       "    <tr>\n",
       "      <th>91</th>\n",
       "      <td>{'instrument': 'DECam', 'detector': 1, 'visit'...</td>\n",
       "      <td>ConvexPolygon([UnitVector3d(0.9847400909178194...</td>\n",
       "      <td>1</td>\n",
       "      <td>DECam_1_898377</td>\n",
       "      <td>file:///epyc/users/smotherh/DEEP/PointingGroup...</td>\n",
       "      <td>2019-09-27T04:05:27.654</td>\n",
       "      <td>2019-09-27 04:05:27.654</td>\n",
       "      <td>(351.0703196106188, -4.336348373356122)</td>\n",
       "    </tr>\n",
       "    <tr>\n",
       "      <th>92</th>\n",
       "      <td>{'instrument': 'DECam', 'detector': 1, 'visit'...</td>\n",
       "      <td>ConvexPolygon([UnitVector3d(0.9847397935953284...</td>\n",
       "      <td>1</td>\n",
       "      <td>DECam_1_898378</td>\n",
       "      <td>file:///epyc/users/smotherh/DEEP/PointingGroup...</td>\n",
       "      <td>2019-09-27T04:07:56.159</td>\n",
       "      <td>2019-09-27 04:07:56.159</td>\n",
       "      <td>(351.07019878847524, -4.336321429412502)</td>\n",
       "    </tr>\n",
       "    <tr>\n",
       "      <th>93</th>\n",
       "      <td>{'instrument': 'DECam', 'detector': 1, 'visit'...</td>\n",
       "      <td>ConvexPolygon([UnitVector3d(0.9847392459182945...</td>\n",
       "      <td>1</td>\n",
       "      <td>DECam_1_898379</td>\n",
       "      <td>file:///epyc/users/smotherh/DEEP/PointingGroup...</td>\n",
       "      <td>2019-09-27T04:10:25.141</td>\n",
       "      <td>2019-09-27 04:10:25.141</td>\n",
       "      <td>(351.069986300126, -4.336293374386118)</td>\n",
       "    </tr>\n",
       "    <tr>\n",
       "      <th>94</th>\n",
       "      <td>{'instrument': 'DECam', 'detector': 1, 'visit'...</td>\n",
       "      <td>ConvexPolygon([UnitVector3d(0.9847397036888316...</td>\n",
       "      <td>1</td>\n",
       "      <td>DECam_1_898380</td>\n",
       "      <td>file:///epyc/users/smotherh/DEEP/PointingGroup...</td>\n",
       "      <td>2019-09-27T04:12:52.877</td>\n",
       "      <td>2019-09-27 04:12:52.877</td>\n",
       "      <td>(351.07015296679367, -4.336293374371324)</td>\n",
       "    </tr>\n",
       "  </tbody>\n",
       "</table>\n",
       "<p>95 rows × 8 columns</p>\n",
       "</div>"
      ],
      "text/plain": [
       "                                              data_id   \n",
       "0   {'instrument': 'DECam', 'detector': 1, 'visit'...  \\\n",
       "1   {'instrument': 'DECam', 'detector': 1, 'visit'...   \n",
       "2   {'instrument': 'DECam', 'detector': 1, 'visit'...   \n",
       "3   {'instrument': 'DECam', 'detector': 1, 'visit'...   \n",
       "4   {'instrument': 'DECam', 'detector': 1, 'visit'...   \n",
       "..                                                ...   \n",
       "90  {'instrument': 'DECam', 'detector': 1, 'visit'...   \n",
       "91  {'instrument': 'DECam', 'detector': 1, 'visit'...   \n",
       "92  {'instrument': 'DECam', 'detector': 1, 'visit'...   \n",
       "93  {'instrument': 'DECam', 'detector': 1, 'visit'...   \n",
       "94  {'instrument': 'DECam', 'detector': 1, 'visit'...   \n",
       "\n",
       "                                               region  detector   \n",
       "0   ConvexPolygon([UnitVector3d(0.9847372525065534...         1  \\\n",
       "1   ConvexPolygon([UnitVector3d(0.9847381014554984...         1   \n",
       "2   ConvexPolygon([UnitVector3d(0.9847383417970056...         1   \n",
       "3   ConvexPolygon([UnitVector3d(0.9847382159041213...         1   \n",
       "4   ConvexPolygon([UnitVector3d(0.9847381374341414...         1   \n",
       "..                                                ...       ...   \n",
       "90  ConvexPolygon([UnitVector3d(0.9847391753851408...         1   \n",
       "91  ConvexPolygon([UnitVector3d(0.9847400909178194...         1   \n",
       "92  ConvexPolygon([UnitVector3d(0.9847397935953284...         1   \n",
       "93  ConvexPolygon([UnitVector3d(0.9847392459182945...         1   \n",
       "94  ConvexPolygon([UnitVector3d(0.9847397036888316...         1   \n",
       "\n",
       "       data_id_str                                                uri   \n",
       "0   DECam_1_898286  file:///epyc/users/smotherh/DEEP/PointingGroup...  \\\n",
       "1   DECam_1_898287  file:///epyc/users/smotherh/DEEP/PointingGroup...   \n",
       "2   DECam_1_898288  file:///epyc/users/smotherh/DEEP/PointingGroup...   \n",
       "3   DECam_1_898289  file:///epyc/users/smotherh/DEEP/PointingGroup...   \n",
       "4   DECam_1_898290  file:///epyc/users/smotherh/DEEP/PointingGroup...   \n",
       "..             ...                                                ...   \n",
       "90  DECam_1_898376  file:///epyc/users/smotherh/DEEP/PointingGroup...   \n",
       "91  DECam_1_898377  file:///epyc/users/smotherh/DEEP/PointingGroup...   \n",
       "92  DECam_1_898378  file:///epyc/users/smotherh/DEEP/PointingGroup...   \n",
       "93  DECam_1_898379  file:///epyc/users/smotherh/DEEP/PointingGroup...   \n",
       "94  DECam_1_898380  file:///epyc/users/smotherh/DEEP/PointingGroup...   \n",
       "\n",
       "                         ut             ut_datetime   \n",
       "0   2019-09-27T00:20:22.932 2019-09-27 00:20:22.932  \\\n",
       "1   2019-09-27T00:22:51.015 2019-09-27 00:22:51.015   \n",
       "2   2019-09-27T00:25:19.136 2019-09-27 00:25:19.136   \n",
       "3   2019-09-27T00:27:47.118 2019-09-27 00:27:47.118   \n",
       "4   2019-09-27T00:30:15.537 2019-09-27 00:30:15.537   \n",
       "..                      ...                     ...   \n",
       "90  2019-09-27T04:02:58.424 2019-09-27 04:02:58.424   \n",
       "91  2019-09-27T04:05:27.654 2019-09-27 04:05:27.654   \n",
       "92  2019-09-27T04:07:56.159 2019-09-27 04:07:56.159   \n",
       "93  2019-09-27T04:10:25.141 2019-09-27 04:10:25.141   \n",
       "94  2019-09-27T04:12:52.877 2019-09-27 04:12:52.877   \n",
       "\n",
       "                                 center_coord  \n",
       "0     (351.0694028401149, -4.336598368890197)  \n",
       "1     (351.0695696334572, -4.336293374423113)  \n",
       "2     (351.0696571334576, -4.336293374415341)  \n",
       "3      (351.069611300124, -4.336293374419411)  \n",
       "4     (351.0695696451088, -4.336265319377865)  \n",
       "..                                        ...  \n",
       "90  (351.06998627728365, -4.3363483733857136)  \n",
       "91    (351.0703196106188, -4.336348373356122)  \n",
       "92   (351.07019878847524, -4.336321429412502)  \n",
       "93     (351.069986300126, -4.336293374386118)  \n",
       "94   (351.07015296679367, -4.336293374371324)  \n",
       "\n",
       "[95 rows x 8 columns]"
      ]
     },
     "execution_count": 95,
     "metadata": {},
     "output_type": "execute_result"
    }
   ],
   "source": [
    "%%time\n",
    "ra_dec_search_radius = 3 * u.arcsec\n",
    "ra_dec_search_results_df = ra_dec_search_df(\n",
    "    df=df, ra_dec=searching_ra_dec, search_radius=ra_dec_search_radius, verbose=True\n",
    ")\n",
    "ra_dec_search_results_df"
   ]
  },
  {
   "cell_type": "code",
   "execution_count": 96,
   "id": "1874ddaa",
   "metadata": {},
   "outputs": [
    {
     "data": {
      "image/png": "[encoded data removed]",
      "text/plain": [
       "<Figure size 640x480 with 1 Axes>"
      ]
     },
     "metadata": {},
     "output_type": "display_data"
    }
   ],
   "source": [
    "# Plot the centers\n",
    "plt.scatter(\n",
    "    [x[0] for x in ra_dec_search_results_df[\"center_coord\"]],\n",
    "    [x[1] for x in ra_dec_search_results_df[\"center_coord\"]],\n",
    "    s=2,\n",
    "    alpha=0.5,\n",
    "    label=\"matches\",\n",
    ")\n",
    "\n",
    "plt.scatter(\n",
    "    searching_ra_dec[0], searching_ra_dec[1], color=\"red\", s=20, alpha=0.5, marker=\"+\", label=\"search center\"\n",
    ")\n",
    "\n",
    "circle = plt.Circle(\n",
    "    (searching_ra_dec[0], searching_ra_dec[1]),\n",
    "    ra_dec_search_radius.to(u.degree).value,\n",
    "    color=\"black\",\n",
    "    alpha=0.75,\n",
    "    fill=False,\n",
    "    label=\"search area\",\n",
    "    linestyle=\"--\",\n",
    ")\n",
    "\n",
    "plt.xlabel(f\"RA\")\n",
    "plt.ylabel(\"Dec\")\n",
    "ax = plt.gca()\n",
    "ax.add_patch(circle)\n",
    "plt.legend()\n",
    "ax.set_aspect(\"equal\", adjustable=\"box\")\n",
    "\n",
    "# TODO consider making this dRA, dDec from minimum (RA, Dec) values 4/23/2024 COC"
   ]
  },
  {
   "cell_type": "markdown",
   "id": "805d6699",
   "metadata": {},
   "source": [
    "These are the 95 matching center coordinates.\\\n",
    "These may look far off, but this is just the scale.\\\n",
    "We can plot the entire chip area on-sky, as we did earlier overlapping_sets."
   ]
  },
  {
   "cell_type": "code",
   "execution_count": 97,
   "id": "3db99133",
   "metadata": {},
   "outputs": [
    {
     "data": {
      "image/png": "[encoded data removed]",
      "text/plain": [
       "<Figure size 640x480 with 1 Axes>"
      ]
     },
     "metadata": {},
     "output_type": "display_data"
    }
   ],
   "source": [
    "# Plot the centers\n",
    "# plt.scatter([x[0] for x in ra_dec_search_results_df[\"center_coord\"]], [x[1] for x in ra_dec_search_results_df[\"center_coord\"]], s=2, alpha=0.5, label=\"matches\")\n",
    "plt.scatter(\n",
    "    searching_ra_dec[0], searching_ra_dec[1], color=\"red\", s=20, alpha=0.5, marker=\"+\", label=\"search center\"\n",
    ")\n",
    "\n",
    "for quad in [getRegionCorners(x) for x in ra_dec_search_results_df[\"region\"]]:\n",
    "    ra_bounds, dec_bounds = getMinMaxRaDec(quad)\n",
    "    #\n",
    "    coords = []\n",
    "    coords.append((ra_bounds[0], dec_bounds[0]))\n",
    "    coords.append((ra_bounds[0], dec_bounds[1]))\n",
    "    coords.append((ra_bounds[1], dec_bounds[1]))\n",
    "    coords.append((ra_bounds[1], dec_bounds[0]))\n",
    "    coords.append((ra_bounds[0], dec_bounds[0]))  # close the \"shape\"\n",
    "    #\n",
    "    plt.plot([x[0] for x in coords], [x[1] for x in coords]),  # label=ra_dec_search_results[i])\n",
    "\n",
    "circle = plt.Circle(\n",
    "    (searching_ra_dec[0], searching_ra_dec[1]),\n",
    "    ra_dec_search_radius.to(u.degree).value,\n",
    "    color=\"black\",\n",
    "    alpha=0.75,\n",
    "    fill=False,\n",
    "    label=\"search area\",\n",
    "    linestyle=\"--\",\n",
    "    linewidth=0.1,\n",
    ")\n",
    "\n",
    "plt.xlabel(f\"RA\")\n",
    "plt.ylabel(\"Dec\")\n",
    "ax = plt.gca()\n",
    "ax.add_patch(circle)\n",
    "plt.legend()\n",
    "ax.set_aspect(\"equal\", adjustable=\"box\")"
   ]
  },
  {
   "cell_type": "markdown",
   "id": "337ceedc",
   "metadata": {},
   "source": [
    "# Recap and Master Functions\n",
    "Here is a master function that takes a repo_path and returns \\\n",
    "(1) a Pandas dataframe with needed info, and\\\n",
    "(2) a dictionary with the images in discrete piles (sets)."
   ]
  },
  {
   "cell_type": "code",
   "execution_count": 98,
   "id": "fccdee6b",
   "metadata": {},
   "outputs": [],
   "source": [
    "def retrieve_image_sets(\n",
    "    repo_path,\n",
    "    basedir=\"default\",\n",
    "    desired_datasetTypes=[\"deepDiff_differenceExp\"],\n",
    "    overwrite=False,\n",
    "    overlap_uncertainty_radius_arcsec=30,\n",
    "):\n",
    "    \"\"\"\n",
    "    2/6/2024 COC\n",
    "    \"\"\"\n",
    "    if basedir == \"default\":\n",
    "        basedir = f'{os.environ[\"HOME\"]}/kbmod_tmp'\n",
    "        print(f'Changing \"default\" basedir to {basedir} now.')\n",
    "\n",
    "    os.makedirs(basedir, exist_ok=True)\n",
    "\n",
    "    #     repo_path = f\"/epyc/users/smotherh/DEEP/PointingGroups/butler-repo\"\n",
    "    butler = dafButler.Butler(repo_path)\n",
    "\n",
    "    all_collection_names = get_collection_names(butler=butler, basedir=basedir, verbose=True, export=True)\n",
    "    desired_collections = get_desired_collections(all_collections_list=all_collection_names)\n",
    "    #     datasetTypes = getDatasetTypeStats(butler=butler, overwrite=False) # not used 2/6/2024 COC\n",
    "    #     desired_datasetTypes = [\"deepDiff_differenceExp\"]\n",
    "    df, example_vdr_ref = get_vdr_data(\n",
    "        butler=butler, desired_collections=desired_collections, desired_datasetTypes=desired_datasetTypes\n",
    "    )\n",
    "    desired_instruments = getInstruments(butler=butler, vdr_ids=df[\"data_id\"])\n",
    "    df[\"center_coord\"] = [getCenterRaDec(i) for i in df[\"region\"]]\n",
    "    df[\"uri\"] = getURIs(\n",
    "        butler=butler,\n",
    "        dataIds=df[\"data_id\"],\n",
    "        repo_path=repo_path,\n",
    "        desired_datasetTypes=desired_datasetTypes,\n",
    "        desired_collections=desired_collections,\n",
    "        overwrite=overwrite,\n",
    "    )\n",
    "\n",
    "    df[\"ut\"] = getTimestamps(dataIds=df[\"data_id\"], overwrite=overwrite)\n",
    "    df[\"ut_datetime\"] = pd.to_datetime(df[\"ut\"])\n",
    "    overlapping_sets = find_overlapping_coords(\n",
    "        df=df, uncertainty_radius=overlap_uncertainty_radius_arcsec, overwrite=overwrite\n",
    "    )\n",
    "    return df, overlapping_sets"
   ]
  },
  {
   "cell_type": "code",
   "execution_count": 99,
   "id": "cf221f77",
   "metadata": {},
   "outputs": [
    {
     "name": "stdout",
     "output_type": "stream",
     "text": [
      "Changing \"default\" basedir to /astro/users/coc123/kbmod_tmp now.\n",
      "Found 1292 collections in the Butler. Wrote to \"/astro/users/coc123/kbmod_tmp/all_collection_names.lst\".\n",
      "Found DECam. Adding to \"desired_instruments\" now.\n",
      "WARNING: we are not iterating over all rows to find instruments, just taking the first one.\n",
      "Recycled 47383 paths from /astro/users/coc123/kbmod_tmp/uri_cache.lst as overwrite was False.\n",
      "Overwrite is False, so we will read the timestamps from file now...\n",
      "Recycled 47383 from /astro/users/coc123/kbmod_tmp/vdr_timestamps.lst.\n",
      "Recycling /astro/users/coc123/kbmod_tmp/overlapping_sets.pickle as overwrite=False.\n",
      "CPU times: user 4.84 s, sys: 443 ms, total: 5.28 s\n",
      "Wall time: 6.6 s\n"
     ]
    }
   ],
   "source": [
    "%%time\n",
    "\n",
    "# Example\n",
    "# TIMING NOTE: this requires about 7 seconds to run ***with everything already cached***.\n",
    "df1, overlapping_sets1 = retrieve_image_sets(\n",
    "    repo_path=f\"/epyc/users/smotherh/DEEP/PointingGroups/butler-repo\"\n",
    ")"
   ]
  },
  {
   "cell_type": "markdown",
   "id": "38d90f55",
   "metadata": {},
   "source": [
    "The other high-level function is searching the overlapping sets for a specific (RA, Dec) coordinate."
   ]
  },
  {
   "cell_type": "code",
   "execution_count": 100,
   "id": "45f09318",
   "metadata": {},
   "outputs": [
    {
     "name": "stdout",
     "output_type": "stream",
     "text": [
      "We found 4 sets that are within 15.0 arcmin of (351.0695696334572, -4.336293374423113).\n"
     ]
    },
    {
     "data": {
      "text/plain": [
       "['set_1', 'set_3', 'set_4', 'set_68']"
      ]
     },
     "execution_count": 100,
     "metadata": {},
     "output_type": "execute_result"
    }
   ],
   "source": [
    "ra_dec_search_results1 = ra_dec_search_overlapping_sets(\n",
    "    df=df1,\n",
    "    overlapping_sets=overlapping_sets1,\n",
    "    ra_dec=(351.0695696334572, -4.336293374423113),\n",
    "    search_radius=15 * u.arcminute,\n",
    "    verbose=True,\n",
    ")\n",
    "ra_dec_search_results1"
   ]
  },
  {
   "cell_type": "code",
   "execution_count": 101,
   "id": "8a6c4def",
   "metadata": {},
   "outputs": [
    {
     "name": "stdout",
     "output_type": "stream",
     "text": [
      "We found 95 matches within 3.0 arcsec of (351.0695696334572, -4.336293374423113).\n"
     ]
    },
    {
     "data": {
      "text/html": [
       "<div>\n",
       "<style scoped>\n",
       "    .dataframe tbody tr th:only-of-type {\n",
       "        vertical-align: middle;\n",
       "    }\n",
       "\n",
       "    .dataframe tbody tr th {\n",
       "        vertical-align: top;\n",
       "    }\n",
       "\n",
       "    .dataframe thead th {\n",
       "        text-align: right;\n",
       "    }\n",
       "</style>\n",
       "<table border=\"1\" class=\"dataframe\">\n",
       "  <thead>\n",
       "    <tr style=\"text-align: right;\">\n",
       "      <th></th>\n",
       "      <th>data_id</th>\n",
       "      <th>region</th>\n",
       "      <th>detector</th>\n",
       "      <th>data_id_str</th>\n",
       "      <th>uri</th>\n",
       "      <th>ut</th>\n",
       "      <th>ut_datetime</th>\n",
       "      <th>center_coord</th>\n",
       "    </tr>\n",
       "  </thead>\n",
       "  <tbody>\n",
       "    <tr>\n",
       "      <th>0</th>\n",
       "      <td>{'instrument': 'DECam', 'detector': 1, 'visit'...</td>\n",
       "      <td>ConvexPolygon([UnitVector3d(0.9847372525065534...</td>\n",
       "      <td>1</td>\n",
       "      <td>DECam_1_898286</td>\n",
       "      <td>file:///epyc/users/smotherh/DEEP/PointingGroup...</td>\n",
       "      <td>2019-09-27T00:20:22.932</td>\n",
       "      <td>2019-09-27 00:20:22.932</td>\n",
       "      <td>(351.0694028401149, -4.336598368890197)</td>\n",
       "    </tr>\n",
       "    <tr>\n",
       "      <th>1</th>\n",
       "      <td>{'instrument': 'DECam', 'detector': 1, 'visit'...</td>\n",
       "      <td>ConvexPolygon([UnitVector3d(0.9847381014554984...</td>\n",
       "      <td>1</td>\n",
       "      <td>DECam_1_898287</td>\n",
       "      <td>file:///epyc/users/smotherh/DEEP/PointingGroup...</td>\n",
       "      <td>2019-09-27T00:22:51.015</td>\n",
       "      <td>2019-09-27 00:22:51.015</td>\n",
       "      <td>(351.0695696334572, -4.336293374423113)</td>\n",
       "    </tr>\n",
       "    <tr>\n",
       "      <th>2</th>\n",
       "      <td>{'instrument': 'DECam', 'detector': 1, 'visit'...</td>\n",
       "      <td>ConvexPolygon([UnitVector3d(0.9847383417970056...</td>\n",
       "      <td>1</td>\n",
       "      <td>DECam_1_898288</td>\n",
       "      <td>file:///epyc/users/smotherh/DEEP/PointingGroup...</td>\n",
       "      <td>2019-09-27T00:25:19.136</td>\n",
       "      <td>2019-09-27 00:25:19.136</td>\n",
       "      <td>(351.0696571334576, -4.336293374415341)</td>\n",
       "    </tr>\n",
       "    <tr>\n",
       "      <th>3</th>\n",
       "      <td>{'instrument': 'DECam', 'detector': 1, 'visit'...</td>\n",
       "      <td>ConvexPolygon([UnitVector3d(0.9847382159041213...</td>\n",
       "      <td>1</td>\n",
       "      <td>DECam_1_898289</td>\n",
       "      <td>file:///epyc/users/smotherh/DEEP/PointingGroup...</td>\n",
       "      <td>2019-09-27T00:27:47.118</td>\n",
       "      <td>2019-09-27 00:27:47.118</td>\n",
       "      <td>(351.069611300124, -4.336293374419411)</td>\n",
       "    </tr>\n",
       "    <tr>\n",
       "      <th>4</th>\n",
       "      <td>{'instrument': 'DECam', 'detector': 1, 'visit'...</td>\n",
       "      <td>ConvexPolygon([UnitVector3d(0.9847381374341414...</td>\n",
       "      <td>1</td>\n",
       "      <td>DECam_1_898290</td>\n",
       "      <td>file:///epyc/users/smotherh/DEEP/PointingGroup...</td>\n",
       "      <td>2019-09-27T00:30:15.537</td>\n",
       "      <td>2019-09-27 00:30:15.537</td>\n",
       "      <td>(351.0695696451088, -4.336265319377865)</td>\n",
       "    </tr>\n",
       "    <tr>\n",
       "      <th>...</th>\n",
       "      <td>...</td>\n",
       "      <td>...</td>\n",
       "      <td>...</td>\n",
       "      <td>...</td>\n",
       "      <td>...</td>\n",
       "      <td>...</td>\n",
       "      <td>...</td>\n",
       "      <td>...</td>\n",
       "    </tr>\n",
       "    <tr>\n",
       "      <th>90</th>\n",
       "      <td>{'instrument': 'DECam', 'detector': 1, 'visit'...</td>\n",
       "      <td>ConvexPolygon([UnitVector3d(0.9847391753851408...</td>\n",
       "      <td>1</td>\n",
       "      <td>DECam_1_898376</td>\n",
       "      <td>file:///epyc/users/smotherh/DEEP/PointingGroup...</td>\n",
       "      <td>2019-09-27T04:02:58.424</td>\n",
       "      <td>2019-09-27 04:02:58.424</td>\n",
       "      <td>(351.06998627728365, -4.3363483733857136)</td>\n",
       "    </tr>\n",
       "    <tr>\n",
       "      <th>91</th>\n",
       "      <td>{'instrument': 'DECam', 'detector': 1, 'visit'...</td>\n",
       "      <td>ConvexPolygon([UnitVector3d(0.9847400909178194...</td>\n",
       "      <td>1</td>\n",
       "      <td>DECam_1_898377</td>\n",
       "      <td>file:///epyc/users/smotherh/DEEP/PointingGroup...</td>\n",
       "      <td>2019-09-27T04:05:27.654</td>\n",
       "      <td>2019-09-27 04:05:27.654</td>\n",
       "      <td>(351.0703196106188, -4.336348373356122)</td>\n",
       "    </tr>\n",
       "    <tr>\n",
       "      <th>92</th>\n",
       "      <td>{'instrument': 'DECam', 'detector': 1, 'visit'...</td>\n",
       "      <td>ConvexPolygon([UnitVector3d(0.9847397935953284...</td>\n",
       "      <td>1</td>\n",
       "      <td>DECam_1_898378</td>\n",
       "      <td>file:///epyc/users/smotherh/DEEP/PointingGroup...</td>\n",
       "      <td>2019-09-27T04:07:56.159</td>\n",
       "      <td>2019-09-27 04:07:56.159</td>\n",
       "      <td>(351.07019878847524, -4.336321429412502)</td>\n",
       "    </tr>\n",
       "    <tr>\n",
       "      <th>93</th>\n",
       "      <td>{'instrument': 'DECam', 'detector': 1, 'visit'...</td>\n",
       "      <td>ConvexPolygon([UnitVector3d(0.9847392459182945...</td>\n",
       "      <td>1</td>\n",
       "      <td>DECam_1_898379</td>\n",
       "      <td>file:///epyc/users/smotherh/DEEP/PointingGroup...</td>\n",
       "      <td>2019-09-27T04:10:25.141</td>\n",
       "      <td>2019-09-27 04:10:25.141</td>\n",
       "      <td>(351.069986300126, -4.336293374386118)</td>\n",
       "    </tr>\n",
       "    <tr>\n",
       "      <th>94</th>\n",
       "      <td>{'instrument': 'DECam', 'detector': 1, 'visit'...</td>\n",
       "      <td>ConvexPolygon([UnitVector3d(0.9847397036888316...</td>\n",
       "      <td>1</td>\n",
       "      <td>DECam_1_898380</td>\n",
       "      <td>file:///epyc/users/smotherh/DEEP/PointingGroup...</td>\n",
       "      <td>2019-09-27T04:12:52.877</td>\n",
       "      <td>2019-09-27 04:12:52.877</td>\n",
       "      <td>(351.07015296679367, -4.336293374371324)</td>\n",
       "    </tr>\n",
       "  </tbody>\n",
       "</table>\n",
       "<p>95 rows × 8 columns</p>\n",
       "</div>"
      ],
      "text/plain": [
       "                                              data_id   \n",
       "0   {'instrument': 'DECam', 'detector': 1, 'visit'...  \\\n",
       "1   {'instrument': 'DECam', 'detector': 1, 'visit'...   \n",
       "2   {'instrument': 'DECam', 'detector': 1, 'visit'...   \n",
       "3   {'instrument': 'DECam', 'detector': 1, 'visit'...   \n",
       "4   {'instrument': 'DECam', 'detector': 1, 'visit'...   \n",
       "..                                                ...   \n",
       "90  {'instrument': 'DECam', 'detector': 1, 'visit'...   \n",
       "91  {'instrument': 'DECam', 'detector': 1, 'visit'...   \n",
       "92  {'instrument': 'DECam', 'detector': 1, 'visit'...   \n",
       "93  {'instrument': 'DECam', 'detector': 1, 'visit'...   \n",
       "94  {'instrument': 'DECam', 'detector': 1, 'visit'...   \n",
       "\n",
       "                                               region  detector   \n",
       "0   ConvexPolygon([UnitVector3d(0.9847372525065534...         1  \\\n",
       "1   ConvexPolygon([UnitVector3d(0.9847381014554984...         1   \n",
       "2   ConvexPolygon([UnitVector3d(0.9847383417970056...         1   \n",
       "3   ConvexPolygon([UnitVector3d(0.9847382159041213...         1   \n",
       "4   ConvexPolygon([UnitVector3d(0.9847381374341414...         1   \n",
       "..                                                ...       ...   \n",
       "90  ConvexPolygon([UnitVector3d(0.9847391753851408...         1   \n",
       "91  ConvexPolygon([UnitVector3d(0.9847400909178194...         1   \n",
       "92  ConvexPolygon([UnitVector3d(0.9847397935953284...         1   \n",
       "93  ConvexPolygon([UnitVector3d(0.9847392459182945...         1   \n",
       "94  ConvexPolygon([UnitVector3d(0.9847397036888316...         1   \n",
       "\n",
       "       data_id_str                                                uri   \n",
       "0   DECam_1_898286  file:///epyc/users/smotherh/DEEP/PointingGroup...  \\\n",
       "1   DECam_1_898287  file:///epyc/users/smotherh/DEEP/PointingGroup...   \n",
       "2   DECam_1_898288  file:///epyc/users/smotherh/DEEP/PointingGroup...   \n",
       "3   DECam_1_898289  file:///epyc/users/smotherh/DEEP/PointingGroup...   \n",
       "4   DECam_1_898290  file:///epyc/users/smotherh/DEEP/PointingGroup...   \n",
       "..             ...                                                ...   \n",
       "90  DECam_1_898376  file:///epyc/users/smotherh/DEEP/PointingGroup...   \n",
       "91  DECam_1_898377  file:///epyc/users/smotherh/DEEP/PointingGroup...   \n",
       "92  DECam_1_898378  file:///epyc/users/smotherh/DEEP/PointingGroup...   \n",
       "93  DECam_1_898379  file:///epyc/users/smotherh/DEEP/PointingGroup...   \n",
       "94  DECam_1_898380  file:///epyc/users/smotherh/DEEP/PointingGroup...   \n",
       "\n",
       "                         ut             ut_datetime   \n",
       "0   2019-09-27T00:20:22.932 2019-09-27 00:20:22.932  \\\n",
       "1   2019-09-27T00:22:51.015 2019-09-27 00:22:51.015   \n",
       "2   2019-09-27T00:25:19.136 2019-09-27 00:25:19.136   \n",
       "3   2019-09-27T00:27:47.118 2019-09-27 00:27:47.118   \n",
       "4   2019-09-27T00:30:15.537 2019-09-27 00:30:15.537   \n",
       "..                      ...                     ...   \n",
       "90  2019-09-27T04:02:58.424 2019-09-27 04:02:58.424   \n",
       "91  2019-09-27T04:05:27.654 2019-09-27 04:05:27.654   \n",
       "92  2019-09-27T04:07:56.159 2019-09-27 04:07:56.159   \n",
       "93  2019-09-27T04:10:25.141 2019-09-27 04:10:25.141   \n",
       "94  2019-09-27T04:12:52.877 2019-09-27 04:12:52.877   \n",
       "\n",
       "                                 center_coord  \n",
       "0     (351.0694028401149, -4.336598368890197)  \n",
       "1     (351.0695696334572, -4.336293374423113)  \n",
       "2     (351.0696571334576, -4.336293374415341)  \n",
       "3      (351.069611300124, -4.336293374419411)  \n",
       "4     (351.0695696451088, -4.336265319377865)  \n",
       "..                                        ...  \n",
       "90  (351.06998627728365, -4.3363483733857136)  \n",
       "91    (351.0703196106188, -4.336348373356122)  \n",
       "92   (351.07019878847524, -4.336321429412502)  \n",
       "93     (351.069986300126, -4.336293374386118)  \n",
       "94   (351.07015296679367, -4.336293374371324)  \n",
       "\n",
       "[95 rows x 8 columns]"
      ]
     },
     "execution_count": 101,
     "metadata": {},
     "output_type": "execute_result"
    }
   ],
   "source": [
    "ra_dec_search_results2 = ra_dec_search_df(\n",
    "    df=df, ra_dec=(351.0695696334572, -4.336293374423113), search_radius=3 * u.arcsec, verbose=True\n",
    ")\n",
    "ra_dec_search_results2"
   ]
  },
  {
   "cell_type": "markdown",
   "id": "9f34362e",
   "metadata": {},
   "source": [
    "### Sky Patches\n",
    "For datasets spanning large spatial areas, such as LSST, we need a different approach.\\\n",
    "We will uniformly divide the sky into \"patches\" of the sky.\\\n",
    "We will also give an option to have the patches overlap by some percentage.\\\n",
    "Patches can primarily be used in three ways:\\\n",
    "1. Their center (RA, Dec) coordinate.\n",
    "2. The \"corner\" (RA, Dec) coordinates. Corners are really vertices of quadrilateral patches.\n",
    "3. A LSST Sphgeom region, which may be hashed."
   ]
  },
  {
   "cell_type": "code",
   "execution_count": 102,
   "id": "49bc209f",
   "metadata": {},
   "outputs": [],
   "source": [
    "# First we introduce our patch generator.\n",
    "\n",
    "\n",
    "def generate_patches(arcminutes, overlap_percentage, verbose=True, decRange=[-90, 90], export=False):\n",
    "    \"\"\"Given a \"rectangle\" in (RA, Dec) touple (probably based on some chip size),\n",
    "    produce a list of bounded regions on the sky,\n",
    "    with user-supplied edge overlap percentage (overlap_percentage).\n",
    "    The list is to be iterated over when matching against actual observations,\n",
    "    i.e., for later shift-and-stack.\n",
    "    v0: 12/11/2023 COC\n",
    "    Note: this all assumes small angle approximation is OK. 1/9/2024 COC\n",
    "    TODO: something to limit Dec range (min or max).\n",
    "        E.g., at LSST (30.241° S) they cannot see anything above 59.759° N.\n",
    "    \"\"\"\n",
    "    import numpy as np\n",
    "\n",
    "    def checkDec(n):\n",
    "        if n > 90:\n",
    "            n -= 180\n",
    "        elif n < -90:\n",
    "            n += 180\n",
    "        return n\n",
    "\n",
    "    def checkRA(n):\n",
    "        if n > 360:\n",
    "            n -= 360\n",
    "        if n < 0:\n",
    "            n += 360\n",
    "        return n\n",
    "\n",
    "    # Convert arcminutes to degrees (work base unit)\n",
    "    arcdegrees = np.array(arcminutes) / 60.0\n",
    "\n",
    "    # Calculate overlap in degrees\n",
    "    overlap = arcdegrees * (overlap_percentage / 100.0)\n",
    "\n",
    "    # Number of patches needed in RA, Dec space\n",
    "    # TODO: consider these aren't decimal; so should be ceil for bounds 1/9/2024 COC\n",
    "    num_patches_ra = int(360 / (arcdegrees[0] - overlap[0]))\n",
    "    num_patches_dec = int(180 / (arcdegrees[1] - overlap[1]))\n",
    "    if verbose:\n",
    "        print(\n",
    "            f\"Number of patches in (RA, Dec): ({num_patches_ra},{num_patches_dec}).\"\n",
    "        )  # Recall (RA, Dec) ranges are (0-360,0-180), so square inputs result in (n*2, n) ranges.\n",
    "\n",
    "    # Generate patches\n",
    "    patches = []\n",
    "    centers = []  # 1/15/2024 COC\n",
    "    skippedBecauseOfDec = 0\n",
    "    for ra_index in range(num_patches_ra):\n",
    "        # Calculate corner RA coordinates; moved out of dec loop 1/11/2024 COC\n",
    "        ra_start = checkRA(ra_index * (arcdegrees[0] - overlap[0]))\n",
    "        center_ra = checkRA(ra_start + arcdegrees[0] / 2)  # 1/15/2024 COC\n",
    "        ra_end = checkRA(ra_start + arcdegrees[0])\n",
    "        #\n",
    "        for dec_index in range(num_patches_dec):\n",
    "            # Calculate corner Dec coordinates\n",
    "            dec_start = checkDec(dec_index * (arcdegrees[1] - overlap[1]) - 90)\n",
    "            center_dec = checkDec(dec_start + arcdegrees[1] / 2)  # 1/15/2024 COC\n",
    "            dec_end = checkDec(dec_start + arcdegrees[1])\n",
    "            #\n",
    "            # Make sure Dec is in allowed range; KLUDGE 1/9/2024 COC\n",
    "            OK = True\n",
    "            for d in [dec_start, dec_end]:\n",
    "                if d < decRange[0] or d > decRange[1]:\n",
    "                    OK = False\n",
    "                    break\n",
    "            if OK == False:\n",
    "                skippedBecauseOfDec += 1\n",
    "                #                 print(f'Something is outside of valid Dec range: dec_start={dec_start}, dec_end={dec_end}')\n",
    "                continue\n",
    "            #\n",
    "            # Append patch coordinates to the list\n",
    "            patches.append(((ra_start, dec_start), (ra_end, dec_end)))\n",
    "            centers.append((center_ra, center_dec))  # 1/15/2024 COC\n",
    "\n",
    "    #\n",
    "    npatches = len(patches)\n",
    "    info = {\"npatches\": npatches, \"arcminutes\": arcminutes, \"overlap\": overlap_percentage}\n",
    "    if verbose:\n",
    "        print(\n",
    "            f\"There were {npatches} produced, skipping {skippedBecauseOfDec} because Dec was outside {decRange}. Info: {info}.\"\n",
    "        )\n",
    "    #\n",
    "    # produce CSV if desired\n",
    "    if export == True:\n",
    "        outfile = f\"patches_{arcminutes[0]}x{arcminutes[1]}arcmin_{overlap_percentage}pctOverlap\"\n",
    "        if decRange != None:\n",
    "            outfile += f\"_Dec{decRange[0]}to{decRange[1]}\"\n",
    "        outfile += \".csv\"\n",
    "        with open(outfile, \"w\") as f:\n",
    "            print(f\"ra0,dec0,ra1,dec1\", file=f)\n",
    "            for quad in patches:\n",
    "                print(f\"{quad[0][0]},{quad[0][1]},{quad[1][0]},{quad[1][1]}\", file=f)\n",
    "            print(f\"Wrote {len(patches)} patch rows to {outfile}.\")\n",
    "    #\n",
    "    return patches, centers, info"
   ]
  },
  {
   "cell_type": "code",
   "execution_count": 103,
   "id": "fd12f4a3",
   "metadata": {},
   "outputs": [
    {
     "name": "stdout",
     "output_type": "stream",
     "text": [
      "Number of patches in (RA, Dec): (360,180).\n",
      "There were 64800 produced, skipping 0 because Dec was outside [-90, 90]. Info: {'npatches': 64800, 'arcminutes': (60, 60), 'overlap': 0}.\n"
     ]
    }
   ],
   "source": [
    "# Let's start by generating 1°X1° (one degree square) patches, with no overlap.\n",
    "# This should be the number of degrees in the range of RA (0 to 360 = 360) * the range in Dec (-90 to 90 = 180.)\n",
    "# 360 * 180 = 64,800 square degrees.\n",
    "# (We know a priori that this should be around 41,253 square degrees,\n",
    "# but our grid is of small angles and does not take into account spherical geometry.)\n",
    "\n",
    "tmp = generate_patches(arcminutes=(1 * 60, 1 * 60), overlap_percentage=0)"
   ]
  },
  {
   "cell_type": "code",
   "execution_count": 104,
   "id": "6004da63",
   "metadata": {},
   "outputs": [
    {
     "name": "stdout",
     "output_type": "stream",
     "text": [
      "Number of patches in (RA, Dec): (400,200).\n",
      "There were 80000 produced, skipping 0 because Dec was outside [-90, 90]. Info: {'npatches': 80000, 'arcminutes': (60, 60), 'overlap': 10}.\n"
     ]
    }
   ],
   "source": [
    "# The numbers go up dramatically when we introduce even a small-ish overlap. Let's try 10%.\n",
    "tmp = generate_patches(arcminutes=(1 * 60, 1 * 60), overlap_percentage=10)"
   ]
  },
  {
   "cell_type": "code",
   "execution_count": 105,
   "id": "0dc3d71d",
   "metadata": {},
   "outputs": [
    {
     "name": "stdout",
     "output_type": "stream",
     "text": [
      "Number of patches in (RA, Dec): (1440,720).\n",
      "There were 1440 produced, skipping 1035360 because Dec was outside [0, 0.25]. Info: {'npatches': 1440, 'arcminutes': (15, 15), 'overlap': 0}.\n"
     ]
    }
   ],
   "source": [
    "# Let's consider a single slice along Right Ascension, keeping Declination constant at 0.25° = 15'.\n",
    "# This is roughly one LSST chip FOV.\n",
    "tmp = generate_patches(arcminutes=(15, 15), overlap_percentage=0, decRange=[0, 0.25])"
   ]
  },
  {
   "cell_type": "code",
   "execution_count": 106,
   "id": "c3f1fd78",
   "metadata": {},
   "outputs": [
    {
     "name": "stdout",
     "output_type": "stream",
     "text": [
      "There are 2.95 times more chip fields in one Dec slice than all of DEEP.\n"
     ]
    },
    {
     "data": {
      "text/plain": [
       "1440"
      ]
     },
     "execution_count": 106,
     "metadata": {},
     "output_type": "execute_result"
    }
   ],
   "source": [
    "# How many is this, compared to the Hayden DEEP set?\n",
    "print(\n",
    "    f'There are {round(tmp[2][\"npatches\"]/len(overlapping_sets),2)} times more chip fields in one Dec slice than all of DEEP.'\n",
    ")\n",
    "tmp[2][\"npatches\"]"
   ]
  },
  {
   "cell_type": "code",
   "execution_count": 107,
   "id": "d018cb09",
   "metadata": {},
   "outputs": [],
   "source": [
    "# Ground-based observatories cannot see all of the Celestial Sphere because Earth gets in the way.\n",
    "# The farthest hypothetical dec observable from a given latitude is:\n",
    "#     (observer latitude) - 90° (in the North)\n",
    "#     (observer latitude) + 90° (in the South)\n",
    "# The key fun fact is that observer latitude = elevation of the corresponding (N or S) celestial pole.\n",
    "#\n",
    "# Examples:\n",
    "# North Pole, latitude +90°: +90° - 90° = 0°\n",
    "# South Pole, latitude -90°: -90° + 90° = 0°\n",
    "# Equator, latitude ±0°: 0° ±90° = ±90°.\n",
    "# LSST, latitude -30.1732°: -30.1732° + 90° = 59.8268°.\n",
    "#\n",
    "# Note: this is the geometric limit, but in practice\n",
    "# (a) the horizon is rarely unobstructed/flat\n",
    "# (b) telescopes cannot (or will not) point anywhere near the horizon\n",
    "#\n",
    "# Given (b) above, it would be optimal to further offset the dec range for a telescope's stated lower elevation (altitude) limit."
   ]
  },
  {
   "cell_type": "code",
   "execution_count": 108,
   "id": "db66acde",
   "metadata": {},
   "outputs": [],
   "source": [
    "# Here we have a function to visualize the patches we are generating.\n",
    "def plot_patches(\n",
    "    patches, limit=None, xrange=[0, 360], yrange=[-90, 90], title=None, subfolder=\".\", export=False\n",
    "):\n",
    "    \"\"\"\n",
    "    Plot the patches provided by generate_patches(), with options for visualization.\n",
    "    2/15/2024 COC updated\n",
    "    \"\"\"\n",
    "    import os\n",
    "\n",
    "    os.makedirs(subfolder, exist_ok=True)\n",
    "    import matplotlib.pyplot as plt\n",
    "    from matplotlib.patches import Rectangle\n",
    "\n",
    "    patch_count = len(patches)\n",
    "    print(f\"There are {patch_count} to plot.\")\n",
    "    fig, ax = plt.subplots()\n",
    "    colors = [\"blue\", \"orange\", \"green\", \"red\"]\n",
    "    linestyles = [\"solid\", \"dashed\"]\n",
    "    c = 0\n",
    "    for i, patch in enumerate(patches):\n",
    "        if limit != None and i > limit:\n",
    "            print(f\"Breaking at limit {limit} passed to function.\")\n",
    "            break\n",
    "        if c >= 10000:\n",
    "            print(f\"Row {i!s:6} of {patch_count}\")\n",
    "            c = 0\n",
    "        (ra_start, dec_start), (ra_end, dec_end) = patch\n",
    "        width = ra_end - ra_start\n",
    "        height = dec_end - dec_start\n",
    "\n",
    "        # Alternating fill color and line style\n",
    "        color = colors[i % len(colors)]\n",
    "        linestyle = linestyles[i % len(linestyles)]\n",
    "\n",
    "        # Plot rectangle\n",
    "        rect = Rectangle(\n",
    "            (ra_start, dec_start),\n",
    "            width,\n",
    "            height,\n",
    "            edgecolor=color,\n",
    "            facecolor=\"none\",\n",
    "            linestyle=linestyle,\n",
    "            alpha=0.5,\n",
    "        )\n",
    "        ax.add_patch(rect)\n",
    "        #\n",
    "        c += 1\n",
    "    # Set axis labels and limits\n",
    "    ax.set_xlabel(\"Right Ascension (degrees)\")\n",
    "    ax.set_ylabel(\"Declination (degrees)\")\n",
    "    #    ax.set_xlim(0, 360)\n",
    "    #    ax.set_ylim(-90, 90)\n",
    "    ax.set_xlim(xrange[0], xrange[1])\n",
    "    ax.set_ylim(yrange[0], yrange[1])\n",
    "\n",
    "    plt.grid(True)\n",
    "\n",
    "    outfile_base = f\"{subfolder}/patches\"\n",
    "    if title != None:\n",
    "        plt.title(title)\n",
    "        outfile_base += f'_{info[\"arcminutes\"][0]}_{info[\"arcminutes\"][1]}_{info[\"overlap\"]}'\n",
    "\n",
    "    if export == True:\n",
    "        for ext in [\"png\", \"pdf\"]:\n",
    "            plt.savefig(f\"{outfile_base}.{ext}\")\n",
    "        print(f'Wrote \"{outfile_base} (prefix) plots to disk.')\n",
    "    plt.show()"
   ]
  },
  {
   "cell_type": "code",
   "execution_count": 109,
   "id": "6e70866c",
   "metadata": {},
   "outputs": [
    {
     "name": "stdout",
     "output_type": "stream",
     "text": [
      "Number of patches in (RA, Dec): (45,45).\n",
      "There were 2025 produced, skipping 0 because Dec was outside [-90, 90]. Info: {'npatches': 2025, 'arcminutes': (480, 240), 'overlap': 0}.\n",
      "There are 2025 to plot.\n",
      "Breaking at limit 3 passed to function.\n"
     ]
    },
    {
     "data": {
      "image/png": "[encoded data removed]",
      "text/plain": [
       "<Figure size 640x480 with 1 Axes>"
      ]
     },
     "metadata": {},
     "output_type": "display_data"
    },
    {
     "name": "stdout",
     "output_type": "stream",
     "text": [
      "Number of patches in (RA, Dec): (50,50).\n",
      "There were 2500 produced, skipping 0 because Dec was outside [-90, 90]. Info: {'npatches': 2500, 'arcminutes': (480, 240), 'overlap': 10}.\n",
      "There are 2500 to plot.\n",
      "Breaking at limit 3 passed to function.\n"
     ]
    },
    {
     "data": {
      "image/png": "[encoded data removed]",
      "text/plain": [
       "<Figure size 640x480 with 1 Axes>"
      ]
     },
     "metadata": {},
     "output_type": "display_data"
    },
    {
     "name": "stdout",
     "output_type": "stream",
     "text": [
      "Number of patches in (RA, Dec): (56,56).\n",
      "There were 3136 produced, skipping 0 because Dec was outside [-90, 90]. Info: {'npatches': 3136, 'arcminutes': (480, 240), 'overlap': 20}.\n",
      "There are 3136 to plot.\n",
      "Breaking at limit 3 passed to function.\n"
     ]
    },
    {
     "data": {
      "image/png": "[encoded data removed]",
      "text/plain": [
       "<Figure size 640x480 with 1 Axes>"
      ]
     },
     "metadata": {},
     "output_type": "display_data"
    },
    {
     "name": "stdout",
     "output_type": "stream",
     "text": [
      "Number of patches in (RA, Dec): (64,64).\n",
      "There were 4096 produced, skipping 0 because Dec was outside [-90, 90]. Info: {'npatches': 4096, 'arcminutes': (480, 240), 'overlap': 30}.\n",
      "There are 4096 to plot.\n",
      "Breaking at limit 3 passed to function.\n"
     ]
    },
    {
     "data": {
      "image/png": "[encoded data removed]",
      "text/plain": [
       "<Figure size 640x480 with 1 Axes>"
      ]
     },
     "metadata": {},
     "output_type": "display_data"
    },
    {
     "name": "stdout",
     "output_type": "stream",
     "text": [
      "Number of patches in (RA, Dec): (75,75).\n",
      "There were 5625 produced, skipping 0 because Dec was outside [-90, 90]. Info: {'npatches': 5625, 'arcminutes': (480, 240), 'overlap': 40}.\n",
      "There are 5625 to plot.\n",
      "Breaking at limit 3 passed to function.\n"
     ]
    },
    {
     "data": {
      "image/png": "[encoded data removed]",
      "text/plain": [
       "<Figure size 640x480 with 1 Axes>"
      ]
     },
     "metadata": {},
     "output_type": "display_data"
    },
    {
     "name": "stdout",
     "output_type": "stream",
     "text": [
      "Number of patches in (RA, Dec): (90,90).\n",
      "There were 8100 produced, skipping 0 because Dec was outside [-90, 90]. Info: {'npatches': 8100, 'arcminutes': (480, 240), 'overlap': 50}.\n",
      "There are 8100 to plot.\n",
      "Breaking at limit 3 passed to function.\n"
     ]
    },
    {
     "data": {
      "image/png": "[encoded data removed]",
      "text/plain": [
       "<Figure size 640x480 with 1 Axes>"
      ]
     },
     "metadata": {},
     "output_type": "display_data"
    },
    {
     "name": "stdout",
     "output_type": "stream",
     "text": [
      "CPU times: user 1.9 s, sys: 1.4 s, total: 3.3 s\n",
      "Wall time: 1.68 s\n"
     ]
    }
   ],
   "source": [
    "%%time\n",
    "\n",
    "# TIMING NOTE: takes < 5 seconds to run 2/15/2024 COC\n",
    "\n",
    "for i in [0, 10, 20, 30, 40, 50]:\n",
    "    arcminutes_input = (8 * 60, 4 * 60)  # 8° X 4°\n",
    "    patches_result, patches_centers, info = generate_patches(\n",
    "        arcminutes_input,\n",
    "        i,\n",
    "        # decRange=[-90,61],\n",
    "        export=False,\n",
    "    )\n",
    "    plot_patches(\n",
    "        patches_result,\n",
    "        xrange=[0, 20],\n",
    "        yrange=[-90, -70],\n",
    "        title=f\"size: {info['arcminutes']}', overlap: {info['overlap']}% ({info['npatches']} patches)\",\n",
    "        subfolder=\"generic\",\n",
    "        limit=3,  # Just show the first 3 patches generated, otherwise results are visually overwhelming.\n",
    "    )  # , limit=1000)"
   ]
  },
  {
   "cell_type": "markdown",
   "id": "a039bdb4",
   "metadata": {},
   "source": [
    "You can see the first set has no overlap at all, and each subsequent plot has further overlap."
   ]
  },
  {
   "cell_type": "code",
   "execution_count": 110,
   "id": "5f4490c1",
   "metadata": {},
   "outputs": [],
   "source": [
    "# Rather than copying and pasting numbers, we make a dictionary to store parameters going forward.\n",
    "chipDict = {}\n",
    "\n",
    "chipDict[\"DECam\"] = {\"chipsize_arcmin\": [9, 18]}  # 0.263\"/pixel, (2048,4096) pix/chip = (8.98,17.95')/chip\n",
    "chipDict[\"DECam\"][\"matches_per_sec\"] = 20000  # sphgeom region matching; guess, TODO benchmark me\n",
    "chipDict[\"DECam\"][\"chips_per_mo\"] = 62 * 1900  # estimate; 1900/mo MAX 12/20/2023 COC (mean 708)\n",
    "chipDict[\"DECam\"][\"dec_range\"] = [-90, 90 - 30.1732]\n",
    "\n",
    "chipDict[\"LSST\"] = {\"chipsize_arcmin\": [14, 14]}  # 0.2\"/pixel, (4096,4096) pix/chip = (13.65',13.65')/chip\n",
    "chipDict[\"LSST\"][\"matches_per_sec\"] = 20000  # sphgeom region matching; benchmarked; on RSP or local\n",
    "chipDict[\"LSST\"][\"chips_per_mo\"] = 6000000  # 2000/night * 30 nights/month\n",
    "chipDict[\"LSST\"][\"dec_range\"] = [-90, 30.1732]\n",
    "# chipDict['LMI'] = [13,13] # 0.120\"/pixel, (6144,6150) pix/chip = (12.288',12.3')/chip # just use LSST\n",
    "\n",
    "chipDict[\"TEST\"] = {\"chipsize_arcmin\": [3 * 60, 3 * 60]}  # 3 degree squares; 12/19/2023 COC\n",
    "chipDict[\"TEST\"][\"matches_per_sec\"] = 20000  # sphgeom region matching; reasonable estimate for testing\n",
    "chipDict[\"TEST\"][\"chips_per_mo\"] = 6000\n",
    "chipDict[\"TEST\"][\"dec_range\"] = [-90, 90]"
   ]
  },
  {
   "cell_type": "markdown",
   "id": "0d486c8c",
   "metadata": {},
   "source": [
    "This would be a good place to simulate benchmarks for region-region matching (visa lsst.sphgeom .intersect).\\\n",
    "The approach (demonstrated elsewhere) checks for any overlapping regions of two lsst.sphgeom regions.\\\n",
    "This is especially useful for handling arbitrarility rotated chips/images.\\\n",
    "In an early design, this was the approach to do our searching, but it was far too slow.\\"
   ]
  },
  {
   "cell_type": "code",
   "execution_count": 111,
   "id": "0a0e7f55",
   "metadata": {},
   "outputs": [],
   "source": [
    "# TODO: consider how we link this spot in the notebook to Region demo, etc. 2/15/2024 COC\n",
    "# benchmarking, prettiertime, etc. would need to be brought here."
   ]
  },
  {
   "cell_type": "markdown",
   "id": "2ba72d59",
   "metadata": {},
   "source": [
    "### Regions from Patches\n",
    "Here we work on producing lsst.sphgeom regions (objects).\\\n",
    "The synthetic patch regions can be used as an interim step to filter out images (with 0 overlap).\\\n",
    "This is helpful to reduce clutter sent to Reproject, for example."
   ]
  },
  {
   "cell_type": "code",
   "execution_count": 112,
   "id": "e2f4536b",
   "metadata": {},
   "outputs": [],
   "source": [
    "def latLonFromRaDecDeg(ra, dec, verbose=False):\n",
    "    \"\"\"\n",
    "    Return a sphgeom LonLat object given an input RA, Dec (in degrees).\n",
    "    We correct Dec values outside of ±90° (e.g., subtract 180 from Dec=90.1).\n",
    "    \"\"\"\n",
    "    if dec > 90:\n",
    "        print(f\"WARNING: Dec > 90° ({dec}°) so subtracting 180°.\")\n",
    "        dec -= 180\n",
    "    elif dec < -90:\n",
    "        print(f\"WARNING: Dec < -90° ({dec}°) so adding 180°.\")\n",
    "        dec += 180\n",
    "    if ra > 360:\n",
    "        print(f\"WARNING: RA > 360° ({ra}°) so subtracting 360°.\")\n",
    "        ra -= 360\n",
    "    elif ra < 0:  # just in case 1/9/2024 COC\n",
    "        print(f\"WARNING: RA < 0° ({ra}°) so adding 360°.\")\n",
    "        dec += 180\n",
    "    t = lsst.sphgeom.LonLat(\n",
    "        lsst.sphgeom._sphgeom.NormalizedAngle(np.deg2rad(ra)), lsst.sphgeom.Angle(np.deg2rad(dec))\n",
    "    )\n",
    "    return t"
   ]
  },
  {
   "cell_type": "code",
   "execution_count": 113,
   "id": "122c1379",
   "metadata": {},
   "outputs": [
    {
     "name": "stdout",
     "output_type": "stream",
     "text": [
      "[0.7853981633974483, 0.7853981633974483]\n",
      "WARNING: Dec > 90° (91°) so subtracting 180°.\n",
      "WARNING: RA > 360° (361°) so subtracting 360°.\n",
      "[0.017453292519943295, -1.5533430342749532]\n"
     ]
    }
   ],
   "source": [
    "# Testing cases of invalid RA and Dec values.\n",
    "print(latLonFromRaDecDeg(ra=45, dec=45))\n",
    "print(latLonFromRaDecDeg(ra=361, dec=91))"
   ]
  },
  {
   "cell_type": "code",
   "execution_count": 114,
   "id": "6e03ae98",
   "metadata": {},
   "outputs": [],
   "source": [
    "def patches_to_sphgeom(input_data):\n",
    "    \"\"\"\n",
    "    Convert a list of patches or FITS files to sphgeom regions.\n",
    "\n",
    "    Parameters:\n",
    "    - input_data: List of patches or FITS file paths.\n",
    "\n",
    "    Returns:\n",
    "    - List of sphgeom.SphericalPolygon objects.\n",
    "    \"\"\"\n",
    "\n",
    "    def read_patch_fits(fits_path):\n",
    "        # Read FITS file and extract WCS information\n",
    "        hdul = fits.open(fits_path)\n",
    "        wcs = astropy.wcs.WCS(hdul[0].header)\n",
    "\n",
    "        # Extract coordinates from the WCS\n",
    "        ra, dec = wcs.all_pix2world(np.array([0, 0]), np.array([0, 0]), 0)\n",
    "        ra_start, dec_start = ra[0], dec[0]\n",
    "\n",
    "        ra, dec = wcs.all_pix2world(\n",
    "            np.array([hdul[0].data.shape[1], hdul[0].data.shape[0]]), np.array([1, 1]), 0\n",
    "        )\n",
    "        ra_end, dec_end = ra[0], dec[0]\n",
    "\n",
    "    #         return sphgeom.ConvexPolygon.from_radec_sequence(\n",
    "    #             [(ra_start, dec_start), (ra_start, dec_end), (ra_end, dec_end), (ra_end, dec_start)]\n",
    "    #         )\n",
    "\n",
    "    sphgeom_regions = []\n",
    "\n",
    "    for item in input_data:\n",
    "        if isinstance(item, tuple):\n",
    "            # If it's a patch tuple, convert to sphgeom.SphericalPolygon\n",
    "            ra_start, dec_start = item[0]\n",
    "            ra_end, dec_end = item[1]\n",
    "            box = lsst.sphgeom.Box(\n",
    "                latLonFromRaDecDeg(ra_start, dec_start), latLonFromRaDecDeg(ra_end, dec_end)\n",
    "            )\n",
    "            sphgeom_regions.append(box)\n",
    "        elif isinstance(item, str):\n",
    "            # NOTE: untested 2/15/2024 COC TODO\n",
    "            # If it's a FITS file path, read the file and convert to sphgeom.SphericalPolygon\n",
    "            sphgeom_regions.append(read_patch_fits(item))\n",
    "        else:\n",
    "            raise ValueError(\n",
    "                \"Unsupported input type. Supported types are tuple (patch) or str (FITS file path).\"\n",
    "            )\n",
    "\n",
    "    return sphgeom_regions\n",
    "\n",
    "\n",
    "# Example usage:\n",
    "# Assuming you have a list of patches or FITS file paths\n",
    "# patches_or_fits = generate_patches(arcminutes_input, overlap_percentage_input)\n",
    "# sphgeom_regions_result = patches_to_sphgeom(patches_or_fits)"
   ]
  },
  {
   "cell_type": "code",
   "execution_count": 115,
   "id": "4b8e1b38",
   "metadata": {},
   "outputs": [
    {
     "name": "stdout",
     "output_type": "stream",
     "text": [
      "Number of patches in (RA, Dec): (150,75).\n",
      "There were 11250 produced, skipping 0 because Dec was outside [-90, 90]. Info: {'npatches': 11250, 'arcminutes': [180, 180], 'overlap': 20}.\n",
      "CPU times: user 320 ms, sys: 15.5 ms, total: 335 ms\n",
      "Wall time: 334 ms\n"
     ]
    }
   ],
   "source": [
    "%%time\n",
    "\n",
    "test_patches_results, test_patches_centers, test_patches_info = generate_patches(\n",
    "    chipDict[\"TEST\"][\"chipsize_arcmin\"], 20\n",
    ")\n",
    "\n",
    "sphgeom_regions = patches_to_sphgeom(test_patches_results)\n",
    "\n",
    "# Now we have a list of sphgeom.SphericalPolygon objects in sphgeom_regions_results"
   ]
  },
  {
   "cell_type": "code",
   "execution_count": 116,
   "id": "7d297ec8",
   "metadata": {},
   "outputs": [
    {
     "data": {
      "text/plain": [
       "Box(NormalizedAngleInterval.fromRadians(0.0, 0.05235987755982989), AngleInterval.fromRadians(-1.5707963267948966, -1.5184364492350666))"
      ]
     },
     "execution_count": 116,
     "metadata": {},
     "output_type": "execute_result"
    }
   ],
   "source": [
    "# first one of our example regions\n",
    "sphgeom_regions[0]"
   ]
  },
  {
   "cell_type": "code",
   "execution_count": 117,
   "id": "31068315",
   "metadata": {},
   "outputs": [
    {
     "data": {
      "text/plain": [
       "b'b\\x00\\x00\\x00\\x00\\x00\\x00\\x00\\x00\\xd6\\xeb{\\xf3\\xe9\\xce\\xaa?\\x18-DT\\xfb!\\xf9\\xbf\\xb9M\\xa8\\x04\\x84K\\xf8\\xbf'"
      ]
     },
     "execution_count": 117,
     "metadata": {},
     "output_type": "execute_result"
    }
   ],
   "source": [
    "# sphgeom regions can be encoded for portability; these are \"region hashes\"\n",
    "encoded = sphgeom_regions[0].encode()\n",
    "encoded"
   ]
  },
  {
   "cell_type": "code",
   "execution_count": 118,
   "id": "70fb95ef",
   "metadata": {},
   "outputs": [
    {
     "data": {
      "text/plain": [
       "Box(NormalizedAngleInterval.fromRadians(0.0, 0.05235987755982989), AngleInterval.fromRadians(-1.5707963267948966, -1.5184364492350666))"
      ]
     },
     "execution_count": 118,
     "metadata": {},
     "output_type": "execute_result"
    }
   ],
   "source": [
    "# Come back to an object\n",
    "r = lsst.sphgeom.Region.decode(encoded)\n",
    "r"
   ]
  },
  {
   "cell_type": "markdown",
   "id": "8a26fc2a",
   "metadata": {},
   "source": [
    "### Working with the Butler + Regions\n"
   ]
  },
  {
   "cell_type": "code",
   "execution_count": 119,
   "id": "9431fdb1",
   "metadata": {},
   "outputs": [
    {
     "data": {
      "text/html": [
       "<pre>visit_detector_region:\n",
       "  instrument: 'DECam'\n",
       "  detector: 62\n",
       "  visit: 946176\n",
       "  region: ConvexPolygon([UnitVector3d(0.9876086828694174, -0.13336028508776862, -0.08272922024438323), UnitVector3d(0.9873378171284917, -0.13332652431396907, -0.08595389916869185), UnitVector3d(0.9881047366097594, -0.12752395595185462, -0.08594573955553172), UnitVector3d(0.9883760335240734, -0.12755303452468866, -0.0827226676235914)])<pre>"
      ],
      "text/plain": [
       "visit_detector_region.RecordClass(instrument='DECam', detector=62, visit=946176, region=ConvexPolygon([UnitVector3d(0.9876086828694174, -0.13336028508776862, -0.08272922024438323), UnitVector3d(0.9873378171284917, -0.13332652431396907, -0.08595389916869185), UnitVector3d(0.9881047366097594, -0.12752395595185462, -0.08594573955553172), UnitVector3d(0.9883760335240734, -0.12755303452468866, -0.0827226676235914)]))"
      ]
     },
     "execution_count": 119,
     "metadata": {},
     "output_type": "execute_result"
    }
   ],
   "source": [
    "# We should still have our example VisitInfo object from the Butler.\n",
    "example_vdr_ref"
   ]
  },
  {
   "cell_type": "code",
   "execution_count": 120,
   "id": "8f92b9b3",
   "metadata": {},
   "outputs": [],
   "source": [
    "# Some example comparisons, using regions in our DataFrame\n",
    "reg1 = df[\"region\"].iloc()[0]\n",
    "reg2 = df[\"region\"].iloc()[-1]"
   ]
  },
  {
   "cell_type": "code",
   "execution_count": 121,
   "id": "5976ab67",
   "metadata": {},
   "outputs": [
    {
     "name": "stdout",
     "output_type": "stream",
     "text": [
      "reg1.contains(reg1) =  True\n",
      "reg1.contains(reg2) = False\n"
     ]
    }
   ],
   "source": [
    "# Basic reality testing first\n",
    "print(f\"reg1.contains(reg1) =  {reg1.contains(reg1)}\")  # should be True\n",
    "print(f\"reg1.contains(reg2) = {reg1.contains(reg2)}\")  # should be False"
   ]
  },
  {
   "cell_type": "code",
   "execution_count": 122,
   "id": "06edb382",
   "metadata": {},
   "outputs": [
    {
     "name": "stdout",
     "output_type": "stream",
     "text": [
      "Checking overlap matches of reg1 against all records region for matchces...\n",
      "There were 1 overlap matches:\n",
      "{'instrument': 'DECam', 'detector': 1, 'visit': 898286}\n"
     ]
    }
   ],
   "source": [
    "# First we will look for the \"contains\" case, where one region completely contains another.\n",
    "# We do not expect this for DEEP necessarily, but a region must contain itself, so we should see 1 match.\n",
    "\n",
    "print(f\"Checking overlap matches of reg1 against all records region for matchces...\")\n",
    "matches = []\n",
    "for i, reg in enumerate(df[\"region\"].iloc()):\n",
    "    if reg.contains(reg1):\n",
    "        matches.append(df[\"data_id\"].iloc()[i])\n",
    "print(f\"There were {len(matches)} overlap matches:\")\n",
    "for i in matches:\n",
    "    print(i)"
   ]
  },
  {
   "cell_type": "code",
   "execution_count": 123,
   "id": "1f8a61e0",
   "metadata": {},
   "outputs": [
    {
     "name": "stdout",
     "output_type": "stream",
     "text": [
      "Checking intersect matches of reg1 against all records region for matchces...\n",
      "There were 347 intersection matches:\n",
      "{'instrument': 'DECam', 'detector': 1, 'visit': 898286}\n",
      "{'instrument': 'DECam', 'detector': 1, 'visit': 898287}\n",
      "{'instrument': 'DECam', 'detector': 1, 'visit': 898288}\n",
      "{'instrument': 'DECam', 'detector': 1, 'visit': 898289}\n",
      "{'instrument': 'DECam', 'detector': 1, 'visit': 898290}\n",
      "{'instrument': 'DECam', 'detector': 1, 'visit': 898291}\n",
      "{'instrument': 'DECam', 'detector': 1, 'visit': 898292}\n",
      "{'instrument': 'DECam', 'detector': 1, 'visit': 898293}\n",
      "{'instrument': 'DECam', 'detector': 1, 'visit': 898294}\n",
      "{'instrument': 'DECam', 'detector': 1, 'visit': 898295}\n",
      "{'instrument': 'DECam', 'detector': 1, 'visit': 898296}\n",
      "{'instrument': 'DECam', 'detector': 1, 'visit': 898297}\n",
      "{'instrument': 'DECam', 'detector': 1, 'visit': 898298}\n",
      "{'instrument': 'DECam', 'detector': 1, 'visit': 898299}\n",
      "{'instrument': 'DECam', 'detector': 1, 'visit': 898300}\n",
      "{'instrument': 'DECam', 'detector': 1, 'visit': 898301}\n",
      "{'instrument': 'DECam', 'detector': 1, 'visit': 898302}\n",
      "{'instrument': 'DECam', 'detector': 1, 'visit': 898303}\n",
      "{'instrument': 'DECam', 'detector': 1, 'visit': 898304}\n",
      "{'instrument': 'DECam', 'detector': 1, 'visit': 898305}\n",
      "{'instrument': 'DECam', 'detector': 1, 'visit': 898306}\n",
      "{'instrument': 'DECam', 'detector': 1, 'visit': 898307}\n",
      "{'instrument': 'DECam', 'detector': 1, 'visit': 898308}\n",
      "{'instrument': 'DECam', 'detector': 1, 'visit': 898309}\n",
      "{'instrument': 'DECam', 'detector': 1, 'visit': 898310}\n",
      "{'instrument': 'DECam', 'detector': 1, 'visit': 898311}\n",
      "{'instrument': 'DECam', 'detector': 1, 'visit': 898312}\n",
      "{'instrument': 'DECam', 'detector': 1, 'visit': 898313}\n",
      "{'instrument': 'DECam', 'detector': 1, 'visit': 898314}\n",
      "{'instrument': 'DECam', 'detector': 1, 'visit': 898315}\n",
      "{'instrument': 'DECam', 'detector': 1, 'visit': 898316}\n",
      "{'instrument': 'DECam', 'detector': 1, 'visit': 898317}\n",
      "{'instrument': 'DECam', 'detector': 1, 'visit': 898318}\n",
      "{'instrument': 'DECam', 'detector': 1, 'visit': 898319}\n",
      "{'instrument': 'DECam', 'detector': 1, 'visit': 898320}\n",
      "{'instrument': 'DECam', 'detector': 1, 'visit': 898321}\n",
      "{'instrument': 'DECam', 'detector': 1, 'visit': 898322}\n",
      "{'instrument': 'DECam', 'detector': 1, 'visit': 898323}\n",
      "{'instrument': 'DECam', 'detector': 1, 'visit': 898324}\n",
      "{'instrument': 'DECam', 'detector': 1, 'visit': 898325}\n",
      "{'instrument': 'DECam', 'detector': 1, 'visit': 898326}\n",
      "{'instrument': 'DECam', 'detector': 1, 'visit': 898327}\n",
      "{'instrument': 'DECam', 'detector': 1, 'visit': 898328}\n",
      "{'instrument': 'DECam', 'detector': 1, 'visit': 898329}\n",
      "{'instrument': 'DECam', 'detector': 1, 'visit': 898330}\n",
      "{'instrument': 'DECam', 'detector': 1, 'visit': 898331}\n",
      "{'instrument': 'DECam', 'detector': 1, 'visit': 898332}\n",
      "{'instrument': 'DECam', 'detector': 1, 'visit': 898333}\n",
      "{'instrument': 'DECam', 'detector': 1, 'visit': 898334}\n",
      "{'instrument': 'DECam', 'detector': 1, 'visit': 898335}\n",
      "{'instrument': 'DECam', 'detector': 1, 'visit': 898336}\n",
      "{'instrument': 'DECam', 'detector': 1, 'visit': 898337}\n",
      "{'instrument': 'DECam', 'detector': 1, 'visit': 898338}\n",
      "{'instrument': 'DECam', 'detector': 1, 'visit': 898339}\n",
      "{'instrument': 'DECam', 'detector': 1, 'visit': 898340}\n",
      "{'instrument': 'DECam', 'detector': 1, 'visit': 898341}\n",
      "{'instrument': 'DECam', 'detector': 1, 'visit': 898342}\n",
      "{'instrument': 'DECam', 'detector': 1, 'visit': 898343}\n",
      "{'instrument': 'DECam', 'detector': 1, 'visit': 898344}\n",
      "{'instrument': 'DECam', 'detector': 1, 'visit': 898345}\n",
      "{'instrument': 'DECam', 'detector': 1, 'visit': 898346}\n",
      "{'instrument': 'DECam', 'detector': 1, 'visit': 898347}\n",
      "{'instrument': 'DECam', 'detector': 1, 'visit': 898348}\n",
      "{'instrument': 'DECam', 'detector': 1, 'visit': 898349}\n",
      "{'instrument': 'DECam', 'detector': 1, 'visit': 898350}\n",
      "{'instrument': 'DECam', 'detector': 1, 'visit': 898351}\n",
      "{'instrument': 'DECam', 'detector': 1, 'visit': 898352}\n",
      "{'instrument': 'DECam', 'detector': 1, 'visit': 898353}\n",
      "{'instrument': 'DECam', 'detector': 1, 'visit': 898354}\n",
      "{'instrument': 'DECam', 'detector': 1, 'visit': 898355}\n",
      "{'instrument': 'DECam', 'detector': 1, 'visit': 898356}\n",
      "{'instrument': 'DECam', 'detector': 1, 'visit': 898357}\n",
      "{'instrument': 'DECam', 'detector': 1, 'visit': 898358}\n",
      "{'instrument': 'DECam', 'detector': 1, 'visit': 898359}\n",
      "{'instrument': 'DECam', 'detector': 1, 'visit': 898360}\n",
      "{'instrument': 'DECam', 'detector': 1, 'visit': 898361}\n",
      "{'instrument': 'DECam', 'detector': 1, 'visit': 898362}\n",
      "{'instrument': 'DECam', 'detector': 1, 'visit': 898363}\n",
      "{'instrument': 'DECam', 'detector': 1, 'visit': 898364}\n",
      "{'instrument': 'DECam', 'detector': 1, 'visit': 898365}\n",
      "{'instrument': 'DECam', 'detector': 1, 'visit': 898366}\n",
      "{'instrument': 'DECam', 'detector': 1, 'visit': 898367}\n",
      "{'instrument': 'DECam', 'detector': 1, 'visit': 898368}\n",
      "{'instrument': 'DECam', 'detector': 1, 'visit': 898369}\n",
      "{'instrument': 'DECam', 'detector': 1, 'visit': 898370}\n",
      "{'instrument': 'DECam', 'detector': 1, 'visit': 898371}\n",
      "{'instrument': 'DECam', 'detector': 1, 'visit': 898372}\n",
      "{'instrument': 'DECam', 'detector': 1, 'visit': 898373}\n",
      "{'instrument': 'DECam', 'detector': 1, 'visit': 898374}\n",
      "{'instrument': 'DECam', 'detector': 1, 'visit': 898375}\n",
      "{'instrument': 'DECam', 'detector': 1, 'visit': 898376}\n",
      "{'instrument': 'DECam', 'detector': 1, 'visit': 898377}\n",
      "{'instrument': 'DECam', 'detector': 1, 'visit': 898378}\n",
      "{'instrument': 'DECam', 'detector': 1, 'visit': 898379}\n",
      "{'instrument': 'DECam', 'detector': 1, 'visit': 898380}\n",
      "{'instrument': 'DECam', 'detector': 8, 'visit': 891455}\n",
      "{'instrument': 'DECam', 'detector': 8, 'visit': 891456}\n",
      "{'instrument': 'DECam', 'detector': 8, 'visit': 891457}\n",
      "{'instrument': 'DECam', 'detector': 8, 'visit': 891458}\n",
      "{'instrument': 'DECam', 'detector': 8, 'visit': 891459}\n",
      "{'instrument': 'DECam', 'detector': 8, 'visit': 891460}\n",
      "{'instrument': 'DECam', 'detector': 8, 'visit': 891461}\n",
      "{'instrument': 'DECam', 'detector': 8, 'visit': 891462}\n",
      "{'instrument': 'DECam', 'detector': 8, 'visit': 891463}\n",
      "{'instrument': 'DECam', 'detector': 8, 'visit': 891464}\n",
      "{'instrument': 'DECam', 'detector': 8, 'visit': 891465}\n",
      "{'instrument': 'DECam', 'detector': 8, 'visit': 891466}\n",
      "{'instrument': 'DECam', 'detector': 8, 'visit': 891467}\n",
      "{'instrument': 'DECam', 'detector': 8, 'visit': 891468}\n",
      "{'instrument': 'DECam', 'detector': 8, 'visit': 891469}\n",
      "{'instrument': 'DECam', 'detector': 8, 'visit': 891470}\n",
      "{'instrument': 'DECam', 'detector': 8, 'visit': 891471}\n",
      "{'instrument': 'DECam', 'detector': 8, 'visit': 891472}\n",
      "{'instrument': 'DECam', 'detector': 8, 'visit': 891473}\n",
      "{'instrument': 'DECam', 'detector': 8, 'visit': 891474}\n",
      "{'instrument': 'DECam', 'detector': 8, 'visit': 891475}\n",
      "{'instrument': 'DECam', 'detector': 8, 'visit': 891476}\n",
      "{'instrument': 'DECam', 'detector': 8, 'visit': 891477}\n",
      "{'instrument': 'DECam', 'detector': 8, 'visit': 891478}\n",
      "{'instrument': 'DECam', 'detector': 8, 'visit': 891479}\n",
      "{'instrument': 'DECam', 'detector': 8, 'visit': 891480}\n",
      "{'instrument': 'DECam', 'detector': 8, 'visit': 891481}\n",
      "{'instrument': 'DECam', 'detector': 8, 'visit': 891482}\n",
      "{'instrument': 'DECam', 'detector': 8, 'visit': 891483}\n",
      "{'instrument': 'DECam', 'detector': 8, 'visit': 891484}\n",
      "{'instrument': 'DECam', 'detector': 8, 'visit': 891485}\n",
      "{'instrument': 'DECam', 'detector': 8, 'visit': 891486}\n",
      "{'instrument': 'DECam', 'detector': 8, 'visit': 891487}\n",
      "{'instrument': 'DECam', 'detector': 8, 'visit': 891488}\n",
      "{'instrument': 'DECam', 'detector': 8, 'visit': 891489}\n",
      "{'instrument': 'DECam', 'detector': 8, 'visit': 891490}\n",
      "{'instrument': 'DECam', 'detector': 8, 'visit': 891491}\n",
      "{'instrument': 'DECam', 'detector': 8, 'visit': 891492}\n",
      "{'instrument': 'DECam', 'detector': 8, 'visit': 891493}\n",
      "{'instrument': 'DECam', 'detector': 8, 'visit': 891494}\n",
      "{'instrument': 'DECam', 'detector': 8, 'visit': 891495}\n",
      "{'instrument': 'DECam', 'detector': 8, 'visit': 891496}\n",
      "{'instrument': 'DECam', 'detector': 8, 'visit': 891497}\n",
      "{'instrument': 'DECam', 'detector': 8, 'visit': 891498}\n",
      "{'instrument': 'DECam', 'detector': 8, 'visit': 891499}\n",
      "{'instrument': 'DECam', 'detector': 8, 'visit': 891500}\n",
      "{'instrument': 'DECam', 'detector': 8, 'visit': 891501}\n",
      "{'instrument': 'DECam', 'detector': 8, 'visit': 891502}\n",
      "{'instrument': 'DECam', 'detector': 8, 'visit': 891503}\n",
      "{'instrument': 'DECam', 'detector': 8, 'visit': 891504}\n",
      "{'instrument': 'DECam', 'detector': 8, 'visit': 891505}\n",
      "{'instrument': 'DECam', 'detector': 8, 'visit': 891506}\n",
      "{'instrument': 'DECam', 'detector': 8, 'visit': 891507}\n",
      "{'instrument': 'DECam', 'detector': 8, 'visit': 891508}\n",
      "{'instrument': 'DECam', 'detector': 8, 'visit': 891509}\n",
      "{'instrument': 'DECam', 'detector': 8, 'visit': 891510}\n",
      "{'instrument': 'DECam', 'detector': 8, 'visit': 891511}\n",
      "{'instrument': 'DECam', 'detector': 8, 'visit': 891512}\n",
      "{'instrument': 'DECam', 'detector': 8, 'visit': 891513}\n",
      "{'instrument': 'DECam', 'detector': 8, 'visit': 891514}\n",
      "{'instrument': 'DECam', 'detector': 8, 'visit': 891515}\n",
      "{'instrument': 'DECam', 'detector': 8, 'visit': 891516}\n",
      "{'instrument': 'DECam', 'detector': 8, 'visit': 891517}\n",
      "{'instrument': 'DECam', 'detector': 8, 'visit': 891518}\n",
      "{'instrument': 'DECam', 'detector': 8, 'visit': 891519}\n",
      "{'instrument': 'DECam', 'detector': 8, 'visit': 891520}\n",
      "{'instrument': 'DECam', 'detector': 8, 'visit': 891521}\n",
      "{'instrument': 'DECam', 'detector': 8, 'visit': 891522}\n",
      "{'instrument': 'DECam', 'detector': 8, 'visit': 891523}\n",
      "{'instrument': 'DECam', 'detector': 8, 'visit': 891524}\n",
      "{'instrument': 'DECam', 'detector': 8, 'visit': 891525}\n",
      "{'instrument': 'DECam', 'detector': 8, 'visit': 891526}\n",
      "{'instrument': 'DECam', 'detector': 8, 'visit': 891527}\n",
      "{'instrument': 'DECam', 'detector': 8, 'visit': 891528}\n",
      "{'instrument': 'DECam', 'detector': 8, 'visit': 891529}\n",
      "{'instrument': 'DECam', 'detector': 8, 'visit': 891530}\n",
      "{'instrument': 'DECam', 'detector': 8, 'visit': 891531}\n",
      "{'instrument': 'DECam', 'detector': 8, 'visit': 891532}\n",
      "{'instrument': 'DECam', 'detector': 8, 'visit': 891533}\n",
      "{'instrument': 'DECam', 'detector': 8, 'visit': 891534}\n",
      "{'instrument': 'DECam', 'detector': 8, 'visit': 891535}\n",
      "{'instrument': 'DECam', 'detector': 8, 'visit': 891536}\n",
      "{'instrument': 'DECam', 'detector': 8, 'visit': 891537}\n",
      "{'instrument': 'DECam', 'detector': 8, 'visit': 891538}\n",
      "{'instrument': 'DECam', 'detector': 8, 'visit': 891539}\n",
      "{'instrument': 'DECam', 'detector': 8, 'visit': 891540}\n",
      "{'instrument': 'DECam', 'detector': 8, 'visit': 891541}\n",
      "{'instrument': 'DECam', 'detector': 8, 'visit': 891542}\n",
      "{'instrument': 'DECam', 'detector': 8, 'visit': 891543}\n",
      "{'instrument': 'DECam', 'detector': 8, 'visit': 891544}\n",
      "{'instrument': 'DECam', 'detector': 8, 'visit': 891545}\n",
      "{'instrument': 'DECam', 'detector': 8, 'visit': 891546}\n",
      "{'instrument': 'DECam', 'detector': 8, 'visit': 891547}\n",
      "{'instrument': 'DECam', 'detector': 8, 'visit': 891548}\n",
      "{'instrument': 'DECam', 'detector': 8, 'visit': 891549}\n",
      "{'instrument': 'DECam', 'detector': 8, 'visit': 891550}\n",
      "{'instrument': 'DECam', 'detector': 8, 'visit': 891551}\n",
      "{'instrument': 'DECam', 'detector': 8, 'visit': 891552}\n",
      "{'instrument': 'DECam', 'detector': 8, 'visit': 891553}\n",
      "{'instrument': 'DECam', 'detector': 8, 'visit': 891554}\n",
      "{'instrument': 'DECam', 'detector': 8, 'visit': 891555}\n",
      "{'instrument': 'DECam', 'detector': 8, 'visit': 891556}\n",
      "{'instrument': 'DECam', 'detector': 1, 'visit': 946689}\n",
      "{'instrument': 'DECam', 'detector': 1, 'visit': 946690}\n",
      "{'instrument': 'DECam', 'detector': 1, 'visit': 946691}\n",
      "{'instrument': 'DECam', 'detector': 1, 'visit': 946692}\n",
      "{'instrument': 'DECam', 'detector': 1, 'visit': 946693}\n",
      "{'instrument': 'DECam', 'detector': 1, 'visit': 946694}\n",
      "{'instrument': 'DECam', 'detector': 1, 'visit': 946695}\n",
      "{'instrument': 'DECam', 'detector': 1, 'visit': 946696}\n",
      "{'instrument': 'DECam', 'detector': 1, 'visit': 946697}\n",
      "{'instrument': 'DECam', 'detector': 1, 'visit': 946698}\n",
      "{'instrument': 'DECam', 'detector': 1, 'visit': 946699}\n",
      "{'instrument': 'DECam', 'detector': 1, 'visit': 946700}\n",
      "{'instrument': 'DECam', 'detector': 1, 'visit': 946701}\n",
      "{'instrument': 'DECam', 'detector': 1, 'visit': 946702}\n",
      "{'instrument': 'DECam', 'detector': 1, 'visit': 946703}\n",
      "{'instrument': 'DECam', 'detector': 1, 'visit': 946704}\n",
      "{'instrument': 'DECam', 'detector': 1, 'visit': 946705}\n",
      "{'instrument': 'DECam', 'detector': 1, 'visit': 946706}\n",
      "{'instrument': 'DECam', 'detector': 1, 'visit': 946707}\n",
      "{'instrument': 'DECam', 'detector': 1, 'visit': 946708}\n",
      "{'instrument': 'DECam', 'detector': 1, 'visit': 946709}\n",
      "{'instrument': 'DECam', 'detector': 1, 'visit': 946710}\n",
      "{'instrument': 'DECam', 'detector': 1, 'visit': 946711}\n",
      "{'instrument': 'DECam', 'detector': 1, 'visit': 946712}\n",
      "{'instrument': 'DECam', 'detector': 1, 'visit': 946713}\n",
      "{'instrument': 'DECam', 'detector': 1, 'visit': 946714}\n",
      "{'instrument': 'DECam', 'detector': 1, 'visit': 946715}\n",
      "{'instrument': 'DECam', 'detector': 1, 'visit': 946716}\n",
      "{'instrument': 'DECam', 'detector': 1, 'visit': 946717}\n",
      "{'instrument': 'DECam', 'detector': 1, 'visit': 946718}\n",
      "{'instrument': 'DECam', 'detector': 1, 'visit': 946719}\n",
      "{'instrument': 'DECam', 'detector': 1, 'visit': 946720}\n",
      "{'instrument': 'DECam', 'detector': 1, 'visit': 946721}\n",
      "{'instrument': 'DECam', 'detector': 1, 'visit': 946722}\n",
      "{'instrument': 'DECam', 'detector': 1, 'visit': 946723}\n",
      "{'instrument': 'DECam', 'detector': 1, 'visit': 946724}\n",
      "{'instrument': 'DECam', 'detector': 1, 'visit': 946725}\n",
      "{'instrument': 'DECam', 'detector': 1, 'visit': 946726}\n",
      "{'instrument': 'DECam', 'detector': 1, 'visit': 946727}\n",
      "{'instrument': 'DECam', 'detector': 1, 'visit': 946728}\n",
      "{'instrument': 'DECam', 'detector': 1, 'visit': 946729}\n",
      "{'instrument': 'DECam', 'detector': 1, 'visit': 946730}\n",
      "{'instrument': 'DECam', 'detector': 1, 'visit': 946731}\n",
      "{'instrument': 'DECam', 'detector': 1, 'visit': 946732}\n",
      "{'instrument': 'DECam', 'detector': 1, 'visit': 946733}\n",
      "{'instrument': 'DECam', 'detector': 1, 'visit': 946734}\n",
      "{'instrument': 'DECam', 'detector': 1, 'visit': 946735}\n",
      "{'instrument': 'DECam', 'detector': 1, 'visit': 946736}\n",
      "{'instrument': 'DECam', 'detector': 1, 'visit': 946737}\n",
      "{'instrument': 'DECam', 'detector': 1, 'visit': 946738}\n",
      "{'instrument': 'DECam', 'detector': 1, 'visit': 946739}\n",
      "{'instrument': 'DECam', 'detector': 1, 'visit': 946740}\n",
      "{'instrument': 'DECam', 'detector': 1, 'visit': 946741}\n",
      "{'instrument': 'DECam', 'detector': 1, 'visit': 946742}\n",
      "{'instrument': 'DECam', 'detector': 1, 'visit': 946743}\n",
      "{'instrument': 'DECam', 'detector': 1, 'visit': 946744}\n",
      "{'instrument': 'DECam', 'detector': 1, 'visit': 946745}\n",
      "{'instrument': 'DECam', 'detector': 1, 'visit': 946746}\n",
      "{'instrument': 'DECam', 'detector': 1, 'visit': 946747}\n",
      "{'instrument': 'DECam', 'detector': 1, 'visit': 946748}\n",
      "{'instrument': 'DECam', 'detector': 1, 'visit': 946749}\n",
      "{'instrument': 'DECam', 'detector': 1, 'visit': 946750}\n",
      "{'instrument': 'DECam', 'detector': 1, 'visit': 946751}\n",
      "{'instrument': 'DECam', 'detector': 1, 'visit': 946752}\n",
      "{'instrument': 'DECam', 'detector': 1, 'visit': 946753}\n",
      "{'instrument': 'DECam', 'detector': 1, 'visit': 946754}\n",
      "{'instrument': 'DECam', 'detector': 1, 'visit': 946755}\n",
      "{'instrument': 'DECam', 'detector': 1, 'visit': 946756}\n",
      "{'instrument': 'DECam', 'detector': 1, 'visit': 946757}\n",
      "{'instrument': 'DECam', 'detector': 1, 'visit': 946758}\n",
      "{'instrument': 'DECam', 'detector': 1, 'visit': 946759}\n",
      "{'instrument': 'DECam', 'detector': 1, 'visit': 946760}\n",
      "{'instrument': 'DECam', 'detector': 1, 'visit': 946761}\n",
      "{'instrument': 'DECam', 'detector': 1, 'visit': 946762}\n",
      "{'instrument': 'DECam', 'detector': 1, 'visit': 946763}\n",
      "{'instrument': 'DECam', 'detector': 1, 'visit': 946764}\n",
      "{'instrument': 'DECam', 'detector': 1, 'visit': 946765}\n",
      "{'instrument': 'DECam', 'detector': 1, 'visit': 946766}\n",
      "{'instrument': 'DECam', 'detector': 1, 'visit': 946767}\n",
      "{'instrument': 'DECam', 'detector': 1, 'visit': 946768}\n",
      "{'instrument': 'DECam', 'detector': 1, 'visit': 946769}\n",
      "{'instrument': 'DECam', 'detector': 1, 'visit': 946770}\n",
      "{'instrument': 'DECam', 'detector': 1, 'visit': 946771}\n",
      "{'instrument': 'DECam', 'detector': 1, 'visit': 946772}\n",
      "{'instrument': 'DECam', 'detector': 1, 'visit': 946773}\n",
      "{'instrument': 'DECam', 'detector': 1, 'visit': 946774}\n",
      "{'instrument': 'DECam', 'detector': 1, 'visit': 946775}\n",
      "{'instrument': 'DECam', 'detector': 1, 'visit': 946776}\n",
      "{'instrument': 'DECam', 'detector': 1, 'visit': 946777}\n",
      "{'instrument': 'DECam', 'detector': 1, 'visit': 946778}\n",
      "{'instrument': 'DECam', 'detector': 1, 'visit': 946779}\n",
      "{'instrument': 'DECam', 'detector': 39, 'visit': 946081}\n",
      "{'instrument': 'DECam', 'detector': 39, 'visit': 946082}\n",
      "{'instrument': 'DECam', 'detector': 39, 'visit': 946083}\n",
      "{'instrument': 'DECam', 'detector': 39, 'visit': 946084}\n",
      "{'instrument': 'DECam', 'detector': 39, 'visit': 946085}\n",
      "{'instrument': 'DECam', 'detector': 39, 'visit': 946086}\n",
      "{'instrument': 'DECam', 'detector': 39, 'visit': 946087}\n",
      "{'instrument': 'DECam', 'detector': 39, 'visit': 946088}\n",
      "{'instrument': 'DECam', 'detector': 39, 'visit': 946089}\n",
      "{'instrument': 'DECam', 'detector': 39, 'visit': 946090}\n",
      "{'instrument': 'DECam', 'detector': 39, 'visit': 946091}\n",
      "{'instrument': 'DECam', 'detector': 39, 'visit': 946092}\n",
      "{'instrument': 'DECam', 'detector': 39, 'visit': 946093}\n",
      "{'instrument': 'DECam', 'detector': 39, 'visit': 946094}\n",
      "{'instrument': 'DECam', 'detector': 39, 'visit': 946095}\n",
      "{'instrument': 'DECam', 'detector': 39, 'visit': 946096}\n",
      "{'instrument': 'DECam', 'detector': 39, 'visit': 946098}\n",
      "{'instrument': 'DECam', 'detector': 39, 'visit': 946099}\n",
      "{'instrument': 'DECam', 'detector': 39, 'visit': 946102}\n",
      "{'instrument': 'DECam', 'detector': 39, 'visit': 946103}\n",
      "{'instrument': 'DECam', 'detector': 45, 'visit': 946081}\n",
      "{'instrument': 'DECam', 'detector': 45, 'visit': 946082}\n",
      "{'instrument': 'DECam', 'detector': 45, 'visit': 946083}\n",
      "{'instrument': 'DECam', 'detector': 45, 'visit': 946084}\n",
      "{'instrument': 'DECam', 'detector': 45, 'visit': 946085}\n",
      "{'instrument': 'DECam', 'detector': 45, 'visit': 946086}\n",
      "{'instrument': 'DECam', 'detector': 45, 'visit': 946087}\n",
      "{'instrument': 'DECam', 'detector': 45, 'visit': 946088}\n",
      "{'instrument': 'DECam', 'detector': 45, 'visit': 946089}\n",
      "{'instrument': 'DECam', 'detector': 45, 'visit': 946090}\n",
      "{'instrument': 'DECam', 'detector': 45, 'visit': 946091}\n",
      "{'instrument': 'DECam', 'detector': 45, 'visit': 946092}\n",
      "{'instrument': 'DECam', 'detector': 45, 'visit': 946093}\n",
      "{'instrument': 'DECam', 'detector': 45, 'visit': 946094}\n",
      "{'instrument': 'DECam', 'detector': 45, 'visit': 946095}\n",
      "{'instrument': 'DECam', 'detector': 45, 'visit': 946096}\n",
      "{'instrument': 'DECam', 'detector': 45, 'visit': 946097}\n",
      "{'instrument': 'DECam', 'detector': 45, 'visit': 946098}\n",
      "{'instrument': 'DECam', 'detector': 45, 'visit': 946099}\n",
      "{'instrument': 'DECam', 'detector': 45, 'visit': 946100}\n",
      "{'instrument': 'DECam', 'detector': 45, 'visit': 946101}\n",
      "{'instrument': 'DECam', 'detector': 45, 'visit': 946102}\n",
      "{'instrument': 'DECam', 'detector': 45, 'visit': 946103}\n",
      "{'instrument': 'DECam', 'detector': 45, 'visit': 946104}\n",
      "{'instrument': 'DECam', 'detector': 45, 'visit': 946105}\n",
      "{'instrument': 'DECam', 'detector': 45, 'visit': 946106}\n",
      "{'instrument': 'DECam', 'detector': 45, 'visit': 946107}\n",
      "{'instrument': 'DECam', 'detector': 45, 'visit': 946108}\n",
      "{'instrument': 'DECam', 'detector': 45, 'visit': 946109}\n",
      "{'instrument': 'DECam', 'detector': 45, 'visit': 946110}\n",
      "{'instrument': 'DECam', 'detector': 45, 'visit': 946112}\n",
      "{'instrument': 'DECam', 'detector': 45, 'visit': 946113}\n",
      "{'instrument': 'DECam', 'detector': 45, 'visit': 946114}\n",
      "{'instrument': 'DECam', 'detector': 45, 'visit': 946115}\n",
      "{'instrument': 'DECam', 'detector': 45, 'visit': 946116}\n",
      "{'instrument': 'DECam', 'detector': 45, 'visit': 946117}\n",
      "{'instrument': 'DECam', 'detector': 45, 'visit': 946118}\n",
      "{'instrument': 'DECam', 'detector': 45, 'visit': 946121}\n",
      "{'instrument': 'DECam', 'detector': 45, 'visit': 946122}\n"
     ]
    }
   ],
   "source": [
    "# Next we check \"intersect\" -- meaning any overlap of region area.\n",
    "\n",
    "print(f\"Checking intersect matches of reg1 against all records region for matchces...\")\n",
    "matches = []\n",
    "for i, reg in enumerate(df[\"region\"].iloc()):\n",
    "    if reg.intersects(reg1):\n",
    "        matches.append(df[\"data_id\"].iloc()[i])\n",
    "print(f\"There were {len(matches)} intersection matches:\")\n",
    "for i in matches:\n",
    "    print(i)"
   ]
  },
  {
   "cell_type": "code",
   "execution_count": 124,
   "id": "aa1e3080",
   "metadata": {},
   "outputs": [
    {
     "name": "stdout",
     "output_type": "stream",
     "text": [
      "Saw minDec=-6.406214566625444 and maxDec=-2.719246815973079.\n",
      "Will use minDec=-8.906214566625444 and maxDec=-0.21924681597307893.\n"
     ]
    }
   ],
   "source": [
    "# lazily grabbing min and max Decs to limit number of patches we will produce for the dataset\n",
    "ras = []\n",
    "decs = []\n",
    "for i in df[\"center_coord\"]:\n",
    "    ra = i[0]\n",
    "    dec = i[1]\n",
    "    ras.append(ra)\n",
    "    decs.append(dec)\n",
    "# deep_min_dec = min([df['center_coord'].iloc()[0][i])\n",
    "minDec = min(decs)\n",
    "maxDec = max(decs)\n",
    "print(f\"Saw minDec={minDec} and maxDec={maxDec}.\")\n",
    "\n",
    "# add a buffer of about a field radius\n",
    "minDec -= 2.5\n",
    "maxDec += 2.5\n",
    "print(f\"Will use minDec={minDec} and maxDec={maxDec}.\")"
   ]
  },
  {
   "cell_type": "code",
   "execution_count": 125,
   "id": "2d4bde26",
   "metadata": {},
   "outputs": [
    {
     "name": "stdout",
     "output_type": "stream",
     "text": [
      "Number of patches in (RA, Dec): (1542,771).\n",
      "There were 55512 produced, skipping 1133370 because Dec was outside [-8.906214566625444, -0.21924681597307893]. Info: {'npatches': 55512, 'arcminutes': [14, 14], 'overlap': 0}.\n",
      "CPU times: user 6.48 s, sys: 70.5 ms, total: 6.55 s\n",
      "Wall time: 6.56 s\n"
     ]
    }
   ],
   "source": [
    "%%time\n",
    "# Timing note: takes < 7 seconds 2/15/2024 COC\n",
    "\n",
    "# First we want a set of sky patches. We are going to use 14' X 14' patches (LSST-size) as a test.\n",
    "deep_patches_results, deep_patches_centers, deep_patches_info = generate_patches(\n",
    "    arcminutes=chipDict[\"LSST\"][\"chipsize_arcmin\"],\n",
    "    overlap_percentage=0,\n",
    "    verbose=True,\n",
    "    decRange=[minDec, maxDec],\n",
    "    export=False,\n",
    ")\n",
    "# convert the patches to sphgeom regions\n",
    "sphgeom_regions_deep_limited = patches_to_sphgeom(deep_patches_results)\n",
    "\n",
    "# Now you have a list of sphgeom.SphericalPolygon objects in sphgeom_regions_result"
   ]
  },
  {
   "cell_type": "code",
   "execution_count": 126,
   "id": "7ecd13b5",
   "metadata": {},
   "outputs": [],
   "source": [
    "# For the generalized Region Search, sky patches, we need a function for matching.\n",
    "# making a function to test iterating and matching 1/12/2024 COC\n",
    "# non-vectorized wanted > 1 hr to do this 2/15/2024 COC\n",
    "\n",
    "\n",
    "def checkMatches(regions1, regions2):\n",
    "    \"\"\"\n",
    "    regions1 will be our generated patches (sphgeom_regions)\n",
    "    regions2 will be actual images (pointing_regions)\n",
    "    updated 2/15/2024 COC\n",
    "    \"\"\"\n",
    "    print(f\"Starting region matching. Lens: region1 = {len(regions1)}, region2 = {len(regions2)}\")\n",
    "    startTime = time.time()\n",
    "    matches = {}\n",
    "    matches_attempted = 0\n",
    "    progress_c = 0\n",
    "    progress_interval = 10  # len(regions1)//200\n",
    "    with progressbar.ProgressBar(max_value=len(regions1)) as bar:\n",
    "        for i, patch in enumerate(regions1):\n",
    "            matches[i] = []\n",
    "            for j, pointing in enumerate(regions2):\n",
    "                matches_attempted += 1\n",
    "                if pointing.intersects(patch):\n",
    "                    matches[i].append(j)\n",
    "            progress_c += 1\n",
    "            if progress_c >= progress_interval:\n",
    "                progress_c = 0\n",
    "                bar.update(i)\n",
    "\n",
    "    elapsed = round(time.time() - startTime, 3)\n",
    "    print(\n",
    "        f\"There were {len(matches)} matches in {matches_attempted} matches attempted. {len(matches_i)} region1s (patches?) and {len(matches_j)} region2s (pointings?) were involved. [{elapsed} s elapsed.]\"\n",
    "    )\n",
    "    return matches"
   ]
  },
  {
   "cell_type": "code",
   "execution_count": 127,
   "id": "94956cb8",
   "metadata": {},
   "outputs": [],
   "source": [
    "# import multiprocessing\n",
    "# import time\n",
    "# from progressbar import ProgressBar\n",
    "\n",
    "\n",
    "def worker(patch_and_regions2):\n",
    "    patch, regions2 = patch_and_regions2\n",
    "    return [j for j, pointing in enumerate(regions2) if pointing.intersects(patch)]\n",
    "\n",
    "\n",
    "def checkMatches(regions1, regions2):\n",
    "    print(f\"Starting region matching. Lens: region1 = {len(regions1)}, region2 = {len(regions2)}\")\n",
    "    startTime = time.time()\n",
    "\n",
    "    # Prepare input for worker function\n",
    "    input_for_worker = [(patch, regions2) for patch in regions1]\n",
    "\n",
    "    # Use multiprocessing Pool\n",
    "    with multiprocessing.Pool(processes=multiprocessing.cpu_count()) as pool:\n",
    "        results = pool.map(worker, input_for_worker)\n",
    "\n",
    "    # Aggregate results\n",
    "    matches = {i: result for i, result in enumerate(results)}\n",
    "\n",
    "    elapsed = round(time.time() - startTime, 3)\n",
    "    print(\n",
    "        f\"There were {sum(len(m) for m in matches.values())} matches in the {len(regions1)*len(regions2)} matches executed. [Elapsed time: {elapsed} s]\"\n",
    "    )\n",
    "\n",
    "    return matches"
   ]
  },
  {
   "cell_type": "code",
   "execution_count": 128,
   "id": "f8955306",
   "metadata": {},
   "outputs": [
    {
     "name": "stdout",
     "output_type": "stream",
     "text": [
      "Starting region matching. Lens: region1 = 55512, region2 = 47383\n",
      "There were 192160 matches in the 2630325096 matches executed. [Elapsed time: 97.388 s]\n",
      "CPU times: user 52.8 s, sys: 11.8 s, total: 1min 4s\n",
      "Wall time: 1min 37s\n"
     ]
    }
   ],
   "source": [
    "%%time\n",
    "# Timing note: this takes about 2 minutes 2/15/2024 COC\n",
    "match_d = checkMatches(regions1=sphgeom_regions_deep_limited, regions2=df[\"region\"])"
   ]
  },
  {
   "cell_type": "code",
   "execution_count": 129,
   "id": "809add85",
   "metadata": {},
   "outputs": [
    {
     "name": "stdout",
     "output_type": "stream",
     "text": [
      "CPU times: user 12.7 ms, sys: 4.38 ms, total: 17.1 ms\n",
      "Wall time: 15.9 ms\n"
     ]
    }
   ],
   "source": [
    "%%time\n",
    "matching_regions = []\n",
    "matching_counts = []\n",
    "for r in match_d:\n",
    "    c = len(match_d[r])\n",
    "    if c > 0:\n",
    "        matching_regions.append(r)\n",
    "        matching_counts.append(c)"
   ]
  },
  {
   "cell_type": "code",
   "execution_count": 130,
   "id": "36b31a6e",
   "metadata": {},
   "outputs": [
    {
     "data": {
      "text/plain": [
       "264"
      ]
     },
     "execution_count": 130,
     "metadata": {},
     "output_type": "execute_result"
    }
   ],
   "source": [
    "# How many sky patches had images in them?\n",
    "len(matching_regions)"
   ]
  },
  {
   "cell_type": "code",
   "execution_count": 131,
   "id": "4d2452f1",
   "metadata": {},
   "outputs": [
    {
     "name": "stderr",
     "output_type": "stream",
     "text": [
      "/tmp/ipykernel_45553/2117250381.py:37: MatplotlibDeprecationWarning: Unable to determine Axes to steal space for Colorbar. Using gca(), but will raise in the future. Either provide the *cax* argument to use as the Axes for the Colorbar, provide the *ax* argument to steal space from it, or add *mappable* to an Axes.\n",
      "  plt.colorbar(sm, label=\"Matching Images\")\n"
     ]
    },
    {
     "data": {
      "image/png": "[encoded data removed]",
      "text/plain": [
       "<Figure size 640x480 with 2 Axes>"
      ]
     },
     "metadata": {},
     "output_type": "display_data"
    }
   ],
   "source": [
    "# Let us produce a heat map of how many images are in each sky patch.\n",
    "\n",
    "# Assuming sphgeom_regions_deep_limited, matching_regions, and matching_counts are defined\n",
    "# all_corners as defined in your original code\n",
    "all_corners = [getRegionCorners(region) for region in sphgeom_regions_deep_limited]\n",
    "\n",
    "# Define a colormap\n",
    "cmap = plt.cm.plasma  # You can choose any available colormap\n",
    "\n",
    "# Normalize your matching_counts to the colormap range (0, 1)\n",
    "# This step is important for mapping your counts to colors\n",
    "norm = mcolors.Normalize(vmin=min(matching_counts), vmax=max(matching_counts))\n",
    "\n",
    "# Create a scalar mappable for coloring and creating the colorbar later\n",
    "sm = plt.cm.ScalarMappable(cmap=cmap, norm=norm)\n",
    "sm.set_array([])  # Only needed for the colorbar\n",
    "\n",
    "# Plotting each quadrilateral with color based on matching_counts\n",
    "for matching_ix, count in zip(matching_regions, matching_counts):\n",
    "    quad = all_corners[matching_ix]\n",
    "    ra_bounds, dec_bounds = getMinMaxRaDec(quad)\n",
    "\n",
    "    coords = [\n",
    "        (ra_bounds[0], dec_bounds[0]),\n",
    "        (ra_bounds[0], dec_bounds[1]),\n",
    "        (ra_bounds[1], dec_bounds[1]),\n",
    "        (ra_bounds[1], dec_bounds[0]),\n",
    "    ]\n",
    "\n",
    "    # Use the normalized count to get the corresponding color\n",
    "    color = cmap(norm(count))\n",
    "\n",
    "    # Fill the quadrilateral with the selected color\n",
    "    plt.fill(*zip(*coords), color=color)\n",
    "\n",
    "# Add the colorbar to the plot\n",
    "plt.colorbar(sm, label=\"Matching Images\")\n",
    "\n",
    "# Setting labels for clarity\n",
    "plt.xlabel(\"RA\")\n",
    "plt.ylabel(\"Dec\")\n",
    "# plt.title('Heat Map by Counts')\n",
    "\n",
    "plt.show()"
   ]
  },
  {
   "cell_type": "code",
   "execution_count": null,
   "id": "4aebe1fe",
   "metadata": {},
   "outputs": [],
   "source": []
  },
  {
   "cell_type": "markdown",
   "id": "3df17bc4",
   "metadata": {},
   "source": [
    "# Next Steps\n",
    "\n",
    "In no particular order:\n",
    "\n",
    "1. User-specified (RA, Dec) pair: [DONE]\n",
    "- from overlapping_sets (DONE 2/7/2024 COC)\n",
    "- from our extracted Butler data (DONE 2/7/2024 COC)\n",
    "2. Heat map / histogrammed results. [DONE 2/15/2024 COC]\n",
    "- nice way to filter by top matches or the like\n",
    "3. Sky patches approach. [DONE 2/14/2024 COC]\n",
    "- matching before passing to reprojection / image collection\n",
    "4. Handling time (manually)\n",
    "- options to restrict date range\n",
    "- options to restrict time delta\n",
    "- visualize time information\n",
    "5. Reflex correction.\n",
    "6. Deduplicate based on URI? 2/26/2024 COC/WB (or maybe UT + RA + Dec)\n",
    "7. DP 0.2 testing\n",
    "- RA, Dec search\n",
    "- Pulling out all of our metadata\n",
    "8. Storing results\n",
    "- what other metadata do we need\n",
    "9. Region-region intersection function\n",
    "10. Tracts-and-patches approach"
   ]
  },
  {
   "cell_type": "code",
   "execution_count": null,
   "id": "120f67b9",
   "metadata": {},
   "outputs": [],
   "source": []
  }
 ],
 "metadata": {
  "kernelspec": {
   "display_name": "LSST w_2022_06",
   "language": "python",
   "name": "opt_lsst_w_2022_06"
  },
  "language_info": {
   "codemirror_mode": {
    "name": "ipython",
    "version": 3
   },
   "file_extension": ".py",
   "mimetype": "text/x-python",
   "name": "python",
   "nbconvert_exporter": "python",
   "pygments_lexer": "ipython3",
   "version": "3.8.18"
  }
 },
 "nbformat": 4,
 "nbformat_minor": 5
}
