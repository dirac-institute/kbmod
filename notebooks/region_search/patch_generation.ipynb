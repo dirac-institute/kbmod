{
 "cells": [
  {
   "cell_type": "markdown",
   "metadata": {},
   "source": [
    "# Example notebook for patch generation from an ImageCollection"
   ]
  },
  {
   "cell_type": "markdown",
   "metadata": {},
   "source": [
    "Here, we load an ImageCollection from a butler, and a use an ephemeris table for a specific objec to filter down an ImageCollection which matches it. Here we take a specific table and we run it?"
   ]
  },
  {
   "cell_type": "code",
   "execution_count": 1,
   "metadata": {},
   "outputs": [],
   "source": [
    "# Install LSST Stack and KBMOD here. GPU support is optional."
   ]
  },
  {
   "cell_type": "code",
   "execution_count": 2,
   "metadata": {},
   "outputs": [
    {
     "name": "stdout",
     "output_type": "stream",
     "text": [
      "Defaulting to user installation because normal site-packages is not writeable\n",
      "Obtaining file:///sdf/home/w/wbeebe/kbmod_dev/kbmod\n",
      "  Installing build dependencies ... \u001b[?25ldone\n",
      "\u001b[?25h  Checking if build backend supports build_editable ... \u001b[?25ldone\n",
      "\u001b[?25h  Getting requirements to build editable ... \u001b[?25ldone\n",
      "\u001b[?25h  Preparing editable metadata (pyproject.toml) ... \u001b[?25ldone\n",
      "\u001b[?25hRequirement already satisfied: astropy>=5.1 in /sdf/group/rubin/sw/conda/envs/lsst-scipipe-9.0.0/lib/python3.11/site-packages (from kbmod==1.1.1.dev1302+g9825b624.d20250310) (6.1.2)\n",
      "Requirement already satisfied: astroquery>=0.4.6 in /sdf/group/rubin/sw/conda/envs/lsst-scipipe-9.0.0/lib/python3.11/site-packages (from kbmod==1.1.1.dev1302+g9825b624.d20250310) (0.4.7)\n",
      "Requirement already satisfied: jax in /sdf/group/rubin/sw/conda/envs/lsst-scipipe-9.0.0/lib/python3.11/site-packages (from kbmod==1.1.1.dev1302+g9825b624.d20250310) (0.4.31)\n",
      "Requirement already satisfied: joblib>=1.4 in /sdf/group/rubin/sw/conda/envs/lsst-scipipe-9.0.0/lib/python3.11/site-packages (from kbmod==1.1.1.dev1302+g9825b624.d20250310) (1.4.2)\n",
      "Requirement already satisfied: matplotlib>=3.5 in /sdf/group/rubin/sw/conda/envs/lsst-scipipe-9.0.0/lib/python3.11/site-packages (from kbmod==1.1.1.dev1302+g9825b624.d20250310) (3.9.1)\n",
      "Requirement already satisfied: numpy<2.0 in /sdf/group/rubin/sw/conda/envs/lsst-scipipe-9.0.0/lib/python3.11/site-packages (from kbmod==1.1.1.dev1302+g9825b624.d20250310) (1.26.4)\n",
      "Requirement already satisfied: pandas>=1.5.1 in /sdf/group/rubin/sw/conda/envs/lsst-scipipe-9.0.0/lib/python3.11/site-packages (from kbmod==1.1.1.dev1302+g9825b624.d20250310) (2.2.2)\n",
      "Requirement already satisfied: reproject in /sdf/home/w/wbeebe/.local/lib/python3.11/site-packages (from kbmod==1.1.1.dev1302+g9825b624.d20250310) (0.14.1)\n",
      "Requirement already satisfied: scipy>=1.9.2 in /sdf/group/rubin/sw/conda/envs/lsst-scipipe-9.0.0/lib/python3.11/site-packages (from kbmod==1.1.1.dev1302+g9825b624.d20250310) (1.13.1)\n",
      "Requirement already satisfied: scikit_learn>=1.0.0 in /sdf/group/rubin/sw/conda/envs/lsst-scipipe-9.0.0/lib/python3.11/site-packages (from kbmod==1.1.1.dev1302+g9825b624.d20250310) (1.5.1)\n",
      "Requirement already satisfied: koffi>=0.1.1 in /sdf/home/w/wbeebe/.local/lib/python3.11/site-packages (from kbmod==1.1.1.dev1302+g9825b624.d20250310) (0.1.2)\n",
      "Requirement already satisfied: jplephem in /sdf/home/w/wbeebe/.local/lib/python3.11/site-packages (from kbmod==1.1.1.dev1302+g9825b624.d20250310) (2.22)\n",
      "Requirement already satisfied: PyYAML>=6.0 in /sdf/group/rubin/sw/conda/envs/lsst-scipipe-9.0.0/lib/python3.11/site-packages (from kbmod==1.1.1.dev1302+g9825b624.d20250310) (6.0.1)\n",
      "Requirement already satisfied: pyerfa>=2.0.1.1 in /sdf/group/rubin/sw/conda/envs/lsst-scipipe-9.0.0/lib/python3.11/site-packages (from astropy>=5.1->kbmod==1.1.1.dev1302+g9825b624.d20250310) (2.0.1.4)\n",
      "Requirement already satisfied: astropy-iers-data>=0.2024.7.1.0.34.3 in /sdf/group/rubin/sw/conda/envs/lsst-scipipe-9.0.0/lib/python3.11/site-packages (from astropy>=5.1->kbmod==1.1.1.dev1302+g9825b624.d20250310) (0.2024.8.5.0.32.23)\n",
      "Requirement already satisfied: packaging>=19.0 in /sdf/group/rubin/sw/conda/envs/lsst-scipipe-9.0.0/lib/python3.11/site-packages (from astropy>=5.1->kbmod==1.1.1.dev1302+g9825b624.d20250310) (24.1)\n",
      "Requirement already satisfied: requests>=2.19 in /sdf/group/rubin/sw/conda/envs/lsst-scipipe-9.0.0/lib/python3.11/site-packages (from astroquery>=0.4.6->kbmod==1.1.1.dev1302+g9825b624.d20250310) (2.32.3)\n",
      "Requirement already satisfied: beautifulsoup4>=4.8 in /sdf/group/rubin/sw/conda/envs/lsst-scipipe-9.0.0/lib/python3.11/site-packages (from astroquery>=0.4.6->kbmod==1.1.1.dev1302+g9825b624.d20250310) (4.12.3)\n",
      "Requirement already satisfied: html5lib>=0.999 in /sdf/group/rubin/sw/conda/envs/lsst-scipipe-9.0.0/lib/python3.11/site-packages (from astroquery>=0.4.6->kbmod==1.1.1.dev1302+g9825b624.d20250310) (1.1)\n",
      "Requirement already satisfied: keyring>=15.0 in /sdf/group/rubin/sw/conda/envs/lsst-scipipe-9.0.0/lib/python3.11/site-packages (from astroquery>=0.4.6->kbmod==1.1.1.dev1302+g9825b624.d20250310) (25.3.0)\n",
      "Requirement already satisfied: pyvo>=1.1 in /sdf/group/rubin/sw/conda/envs/lsst-scipipe-9.0.0/lib/python3.11/site-packages (from astroquery>=0.4.6->kbmod==1.1.1.dev1302+g9825b624.d20250310) (1.5.2)\n",
      "Requirement already satisfied: ipykernel in /sdf/group/rubin/sw/conda/envs/lsst-scipipe-9.0.0/lib/python3.11/site-packages (from koffi>=0.1.1->kbmod==1.1.1.dev1302+g9825b624.d20250310) (6.29.5)\n",
      "Requirement already satisfied: tqdm in /sdf/group/rubin/sw/conda/envs/lsst-scipipe-9.0.0/lib/python3.11/site-packages (from koffi>=0.1.1->kbmod==1.1.1.dev1302+g9825b624.d20250310) (4.66.5)\n",
      "Requirement already satisfied: contourpy>=1.0.1 in /sdf/group/rubin/sw/conda/envs/lsst-scipipe-9.0.0/lib/python3.11/site-packages (from matplotlib>=3.5->kbmod==1.1.1.dev1302+g9825b624.d20250310) (1.2.1)\n",
      "Requirement already satisfied: cycler>=0.10 in /sdf/group/rubin/sw/conda/envs/lsst-scipipe-9.0.0/lib/python3.11/site-packages (from matplotlib>=3.5->kbmod==1.1.1.dev1302+g9825b624.d20250310) (0.12.1)\n",
      "Requirement already satisfied: fonttools>=4.22.0 in /sdf/group/rubin/sw/conda/envs/lsst-scipipe-9.0.0/lib/python3.11/site-packages (from matplotlib>=3.5->kbmod==1.1.1.dev1302+g9825b624.d20250310) (4.53.1)\n",
      "Requirement already satisfied: kiwisolver>=1.3.1 in /sdf/group/rubin/sw/conda/envs/lsst-scipipe-9.0.0/lib/python3.11/site-packages (from matplotlib>=3.5->kbmod==1.1.1.dev1302+g9825b624.d20250310) (1.4.5)\n",
      "Requirement already satisfied: pillow>=8 in /sdf/group/rubin/sw/conda/envs/lsst-scipipe-9.0.0/lib/python3.11/site-packages (from matplotlib>=3.5->kbmod==1.1.1.dev1302+g9825b624.d20250310) (10.3.0)\n",
      "Requirement already satisfied: pyparsing>=2.3.1 in /sdf/group/rubin/sw/conda/envs/lsst-scipipe-9.0.0/lib/python3.11/site-packages (from matplotlib>=3.5->kbmod==1.1.1.dev1302+g9825b624.d20250310) (3.1.2)\n",
      "Requirement already satisfied: python-dateutil>=2.7 in /sdf/group/rubin/sw/conda/envs/lsst-scipipe-9.0.0/lib/python3.11/site-packages (from matplotlib>=3.5->kbmod==1.1.1.dev1302+g9825b624.d20250310) (2.9.0)\n",
      "Requirement already satisfied: pytz>=2020.1 in /sdf/group/rubin/sw/conda/envs/lsst-scipipe-9.0.0/lib/python3.11/site-packages (from pandas>=1.5.1->kbmod==1.1.1.dev1302+g9825b624.d20250310) (2024.1)\n",
      "Requirement already satisfied: tzdata>=2022.7 in /sdf/group/rubin/sw/conda/envs/lsst-scipipe-9.0.0/lib/python3.11/site-packages (from pandas>=1.5.1->kbmod==1.1.1.dev1302+g9825b624.d20250310) (2024.1)\n",
      "Requirement already satisfied: threadpoolctl>=3.1.0 in /sdf/group/rubin/sw/conda/envs/lsst-scipipe-9.0.0/lib/python3.11/site-packages (from scikit_learn>=1.0.0->kbmod==1.1.1.dev1302+g9825b624.d20250310) (3.5.0)\n",
      "Requirement already satisfied: jaxlib<=0.4.31,>=0.4.30 in /sdf/group/rubin/sw/conda/envs/lsst-scipipe-9.0.0/lib/python3.11/site-packages (from jax->kbmod==1.1.1.dev1302+g9825b624.d20250310) (0.4.31)\n",
      "Requirement already satisfied: ml-dtypes>=0.2.0 in /sdf/group/rubin/sw/conda/envs/lsst-scipipe-9.0.0/lib/python3.11/site-packages (from jax->kbmod==1.1.1.dev1302+g9825b624.d20250310) (0.4.0)\n",
      "Requirement already satisfied: opt-einsum in /sdf/group/rubin/sw/conda/envs/lsst-scipipe-9.0.0/lib/python3.11/site-packages (from jax->kbmod==1.1.1.dev1302+g9825b624.d20250310) (3.3.0)\n",
      "Requirement already satisfied: astropy-healpix>=1.0 in /sdf/home/w/wbeebe/.local/lib/python3.11/site-packages (from reproject->kbmod==1.1.1.dev1302+g9825b624.d20250310) (1.1.0)\n",
      "Requirement already satisfied: dask>=2021.8 in /sdf/group/rubin/sw/conda/envs/lsst-scipipe-9.0.0/lib/python3.11/site-packages (from dask[array]>=2021.8->reproject->kbmod==1.1.1.dev1302+g9825b624.d20250310) (2024.7.1)\n",
      "Requirement already satisfied: cloudpickle in /sdf/group/rubin/sw/conda/envs/lsst-scipipe-9.0.0/lib/python3.11/site-packages (from reproject->kbmod==1.1.1.dev1302+g9825b624.d20250310) (3.0.0)\n",
      "Requirement already satisfied: zarr in /sdf/home/w/wbeebe/.local/lib/python3.11/site-packages (from reproject->kbmod==1.1.1.dev1302+g9825b624.d20250310) (3.0.2)\n",
      "Requirement already satisfied: fsspec in /sdf/group/rubin/sw/conda/envs/lsst-scipipe-9.0.0/lib/python3.11/site-packages (from reproject->kbmod==1.1.1.dev1302+g9825b624.d20250310) (2024.6.1)\n",
      "Requirement already satisfied: soupsieve>1.2 in /sdf/group/rubin/sw/conda/envs/lsst-scipipe-9.0.0/lib/python3.11/site-packages (from beautifulsoup4>=4.8->astroquery>=0.4.6->kbmod==1.1.1.dev1302+g9825b624.d20250310) (2.5)\n",
      "Requirement already satisfied: click>=8.1 in /sdf/group/rubin/sw/conda/envs/lsst-scipipe-9.0.0/lib/python3.11/site-packages (from dask>=2021.8->dask[array]>=2021.8->reproject->kbmod==1.1.1.dev1302+g9825b624.d20250310) (8.1.7)\n",
      "Requirement already satisfied: partd>=1.4.0 in /sdf/group/rubin/sw/conda/envs/lsst-scipipe-9.0.0/lib/python3.11/site-packages (from dask>=2021.8->dask[array]>=2021.8->reproject->kbmod==1.1.1.dev1302+g9825b624.d20250310) (1.4.2)\n",
      "Requirement already satisfied: toolz>=0.10.0 in /sdf/group/rubin/sw/conda/envs/lsst-scipipe-9.0.0/lib/python3.11/site-packages (from dask>=2021.8->dask[array]>=2021.8->reproject->kbmod==1.1.1.dev1302+g9825b624.d20250310) (0.12.1)\n",
      "Requirement already satisfied: importlib-metadata>=4.13.0 in /sdf/group/rubin/sw/conda/envs/lsst-scipipe-9.0.0/lib/python3.11/site-packages (from dask>=2021.8->dask[array]>=2021.8->reproject->kbmod==1.1.1.dev1302+g9825b624.d20250310) (8.2.0)\n",
      "Requirement already satisfied: six>=1.9 in /sdf/group/rubin/sw/conda/envs/lsst-scipipe-9.0.0/lib/python3.11/site-packages (from html5lib>=0.999->astroquery>=0.4.6->kbmod==1.1.1.dev1302+g9825b624.d20250310) (1.16.0)\n",
      "Requirement already satisfied: webencodings in /sdf/group/rubin/sw/conda/envs/lsst-scipipe-9.0.0/lib/python3.11/site-packages (from html5lib>=0.999->astroquery>=0.4.6->kbmod==1.1.1.dev1302+g9825b624.d20250310) (0.5.1)\n",
      "Requirement already satisfied: jaraco.classes in /sdf/group/rubin/sw/conda/envs/lsst-scipipe-9.0.0/lib/python3.11/site-packages (from keyring>=15.0->astroquery>=0.4.6->kbmod==1.1.1.dev1302+g9825b624.d20250310) (3.4.0)\n",
      "Requirement already satisfied: jaraco.functools in /sdf/group/rubin/sw/conda/envs/lsst-scipipe-9.0.0/lib/python3.11/site-packages (from keyring>=15.0->astroquery>=0.4.6->kbmod==1.1.1.dev1302+g9825b624.d20250310) (4.0.0)\n",
      "Requirement already satisfied: jaraco.context in /sdf/group/rubin/sw/conda/envs/lsst-scipipe-9.0.0/lib/python3.11/site-packages (from keyring>=15.0->astroquery>=0.4.6->kbmod==1.1.1.dev1302+g9825b624.d20250310) (5.3.0)\n",
      "Requirement already satisfied: SecretStorage>=3.2 in /sdf/group/rubin/sw/conda/envs/lsst-scipipe-9.0.0/lib/python3.11/site-packages (from keyring>=15.0->astroquery>=0.4.6->kbmod==1.1.1.dev1302+g9825b624.d20250310) (3.3.3)\n",
      "Requirement already satisfied: jeepney>=0.4.2 in /sdf/group/rubin/sw/conda/envs/lsst-scipipe-9.0.0/lib/python3.11/site-packages (from keyring>=15.0->astroquery>=0.4.6->kbmod==1.1.1.dev1302+g9825b624.d20250310) (0.8.0)\n",
      "Requirement already satisfied: charset-normalizer<4,>=2 in /sdf/group/rubin/sw/conda/envs/lsst-scipipe-9.0.0/lib/python3.11/site-packages (from requests>=2.19->astroquery>=0.4.6->kbmod==1.1.1.dev1302+g9825b624.d20250310) (3.3.2)\n",
      "Requirement already satisfied: idna<4,>=2.5 in /sdf/group/rubin/sw/conda/envs/lsst-scipipe-9.0.0/lib/python3.11/site-packages (from requests>=2.19->astroquery>=0.4.6->kbmod==1.1.1.dev1302+g9825b624.d20250310) (3.7)\n",
      "Requirement already satisfied: urllib3<3,>=1.21.1 in /sdf/group/rubin/sw/conda/envs/lsst-scipipe-9.0.0/lib/python3.11/site-packages (from requests>=2.19->astroquery>=0.4.6->kbmod==1.1.1.dev1302+g9825b624.d20250310) (1.26.19)\n",
      "Requirement already satisfied: certifi>=2017.4.17 in /sdf/group/rubin/sw/conda/envs/lsst-scipipe-9.0.0/lib/python3.11/site-packages (from requests>=2.19->astroquery>=0.4.6->kbmod==1.1.1.dev1302+g9825b624.d20250310) (2024.12.14)\n",
      "Requirement already satisfied: comm>=0.1.1 in /sdf/group/rubin/sw/conda/envs/lsst-scipipe-9.0.0/lib/python3.11/site-packages (from ipykernel->koffi>=0.1.1->kbmod==1.1.1.dev1302+g9825b624.d20250310) (0.2.2)\n",
      "Requirement already satisfied: debugpy>=1.6.5 in /sdf/group/rubin/sw/conda/envs/lsst-scipipe-9.0.0/lib/python3.11/site-packages (from ipykernel->koffi>=0.1.1->kbmod==1.1.1.dev1302+g9825b624.d20250310) (1.8.3)\n",
      "Requirement already satisfied: ipython>=7.23.1 in /sdf/group/rubin/sw/conda/envs/lsst-scipipe-9.0.0/lib/python3.11/site-packages (from ipykernel->koffi>=0.1.1->kbmod==1.1.1.dev1302+g9825b624.d20250310) (8.26.0)\n",
      "Requirement already satisfied: jupyter-client>=6.1.12 in /sdf/group/rubin/sw/conda/envs/lsst-scipipe-9.0.0/lib/python3.11/site-packages (from ipykernel->koffi>=0.1.1->kbmod==1.1.1.dev1302+g9825b624.d20250310) (8.6.2)\n",
      "Requirement already satisfied: jupyter-core!=5.0.*,>=4.12 in /sdf/group/rubin/sw/conda/envs/lsst-scipipe-9.0.0/lib/python3.11/site-packages (from ipykernel->koffi>=0.1.1->kbmod==1.1.1.dev1302+g9825b624.d20250310) (5.7.2)\n",
      "Requirement already satisfied: matplotlib-inline>=0.1 in /sdf/group/rubin/sw/conda/envs/lsst-scipipe-9.0.0/lib/python3.11/site-packages (from ipykernel->koffi>=0.1.1->kbmod==1.1.1.dev1302+g9825b624.d20250310) (0.1.7)\n",
      "Requirement already satisfied: nest-asyncio in /sdf/group/rubin/sw/conda/envs/lsst-scipipe-9.0.0/lib/python3.11/site-packages (from ipykernel->koffi>=0.1.1->kbmod==1.1.1.dev1302+g9825b624.d20250310) (1.6.0)\n",
      "Requirement already satisfied: psutil in /sdf/group/rubin/sw/conda/envs/lsst-scipipe-9.0.0/lib/python3.11/site-packages (from ipykernel->koffi>=0.1.1->kbmod==1.1.1.dev1302+g9825b624.d20250310) (6.0.0)\n",
      "Requirement already satisfied: pyzmq>=24 in /sdf/group/rubin/sw/conda/envs/lsst-scipipe-9.0.0/lib/python3.11/site-packages (from ipykernel->koffi>=0.1.1->kbmod==1.1.1.dev1302+g9825b624.d20250310) (26.0.3)\n",
      "Requirement already satisfied: tornado>=6.1 in /sdf/group/rubin/sw/conda/envs/lsst-scipipe-9.0.0/lib/python3.11/site-packages (from ipykernel->koffi>=0.1.1->kbmod==1.1.1.dev1302+g9825b624.d20250310) (6.4.1)\n",
      "Requirement already satisfied: traitlets>=5.4.0 in /sdf/group/rubin/sw/conda/envs/lsst-scipipe-9.0.0/lib/python3.11/site-packages (from ipykernel->koffi>=0.1.1->kbmod==1.1.1.dev1302+g9825b624.d20250310) (5.14.3)\n",
      "Requirement already satisfied: donfig>=0.8 in /sdf/home/w/wbeebe/.local/lib/python3.11/site-packages (from zarr->reproject->kbmod==1.1.1.dev1302+g9825b624.d20250310) (0.8.1.post1)\n",
      "Requirement already satisfied: numcodecs>=0.14 in /sdf/home/w/wbeebe/.local/lib/python3.11/site-packages (from numcodecs[crc32c]>=0.14->zarr->reproject->kbmod==1.1.1.dev1302+g9825b624.d20250310) (0.15.0)\n",
      "Requirement already satisfied: typing-extensions>=4.9 in /sdf/group/rubin/sw/conda/envs/lsst-scipipe-9.0.0/lib/python3.11/site-packages (from zarr->reproject->kbmod==1.1.1.dev1302+g9825b624.d20250310) (4.12.2)\n",
      "Requirement already satisfied: zipp>=0.5 in /sdf/group/rubin/sw/conda/envs/lsst-scipipe-9.0.0/lib/python3.11/site-packages (from importlib-metadata>=4.13.0->dask>=2021.8->dask[array]>=2021.8->reproject->kbmod==1.1.1.dev1302+g9825b624.d20250310) (3.19.2)\n",
      "Requirement already satisfied: decorator in /sdf/group/rubin/sw/conda/envs/lsst-scipipe-9.0.0/lib/python3.11/site-packages (from ipython>=7.23.1->ipykernel->koffi>=0.1.1->kbmod==1.1.1.dev1302+g9825b624.d20250310) (5.1.1)\n",
      "Requirement already satisfied: jedi>=0.16 in /sdf/group/rubin/sw/conda/envs/lsst-scipipe-9.0.0/lib/python3.11/site-packages (from ipython>=7.23.1->ipykernel->koffi>=0.1.1->kbmod==1.1.1.dev1302+g9825b624.d20250310) (0.19.1)\n",
      "Requirement already satisfied: prompt-toolkit<3.1.0,>=3.0.41 in /sdf/group/rubin/sw/conda/envs/lsst-scipipe-9.0.0/lib/python3.11/site-packages (from ipython>=7.23.1->ipykernel->koffi>=0.1.1->kbmod==1.1.1.dev1302+g9825b624.d20250310) (3.0.47)\n",
      "Requirement already satisfied: pygments>=2.4.0 in /sdf/group/rubin/sw/conda/envs/lsst-scipipe-9.0.0/lib/python3.11/site-packages (from ipython>=7.23.1->ipykernel->koffi>=0.1.1->kbmod==1.1.1.dev1302+g9825b624.d20250310) (2.18.0)\n",
      "Requirement already satisfied: stack-data in /sdf/group/rubin/sw/conda/envs/lsst-scipipe-9.0.0/lib/python3.11/site-packages (from ipython>=7.23.1->ipykernel->koffi>=0.1.1->kbmod==1.1.1.dev1302+g9825b624.d20250310) (0.6.2)\n",
      "Requirement already satisfied: pexpect>4.3 in /sdf/group/rubin/sw/conda/envs/lsst-scipipe-9.0.0/lib/python3.11/site-packages (from ipython>=7.23.1->ipykernel->koffi>=0.1.1->kbmod==1.1.1.dev1302+g9825b624.d20250310) (4.9.0)\n",
      "Requirement already satisfied: platformdirs>=2.5 in /sdf/group/rubin/sw/conda/envs/lsst-scipipe-9.0.0/lib/python3.11/site-packages (from jupyter-core!=5.0.*,>=4.12->ipykernel->koffi>=0.1.1->kbmod==1.1.1.dev1302+g9825b624.d20250310) (4.2.2)\n",
      "Requirement already satisfied: deprecated in /sdf/group/rubin/sw/conda/envs/lsst-scipipe-9.0.0/lib/python3.11/site-packages (from numcodecs>=0.14->numcodecs[crc32c]>=0.14->zarr->reproject->kbmod==1.1.1.dev1302+g9825b624.d20250310) (1.2.14)\n",
      "Requirement already satisfied: crc32c>=2.7 in /sdf/home/w/wbeebe/.local/lib/python3.11/site-packages (from numcodecs[crc32c]>=0.14->zarr->reproject->kbmod==1.1.1.dev1302+g9825b624.d20250310) (2.7.1)\n",
      "Requirement already satisfied: locket in /sdf/group/rubin/sw/conda/envs/lsst-scipipe-9.0.0/lib/python3.11/site-packages (from partd>=1.4.0->dask>=2021.8->dask[array]>=2021.8->reproject->kbmod==1.1.1.dev1302+g9825b624.d20250310) (1.0.0)\n",
      "Requirement already satisfied: cryptography>=2.0 in /sdf/group/rubin/sw/conda/envs/lsst-scipipe-9.0.0/lib/python3.11/site-packages (from SecretStorage>=3.2->keyring>=15.0->astroquery>=0.4.6->kbmod==1.1.1.dev1302+g9825b624.d20250310) (43.0.0)\n",
      "Requirement already satisfied: more-itertools in /sdf/group/rubin/sw/conda/envs/lsst-scipipe-9.0.0/lib/python3.11/site-packages (from jaraco.classes->keyring>=15.0->astroquery>=0.4.6->kbmod==1.1.1.dev1302+g9825b624.d20250310) (10.3.0)\n",
      "Requirement already satisfied: backports.tarfile in /sdf/group/rubin/sw/conda/envs/lsst-scipipe-9.0.0/lib/python3.11/site-packages (from jaraco.context->keyring>=15.0->astroquery>=0.4.6->kbmod==1.1.1.dev1302+g9825b624.d20250310) (1.0.0)\n",
      "Requirement already satisfied: cffi>=1.12 in /sdf/group/rubin/sw/conda/envs/lsst-scipipe-9.0.0/lib/python3.11/site-packages (from cryptography>=2.0->SecretStorage>=3.2->keyring>=15.0->astroquery>=0.4.6->kbmod==1.1.1.dev1302+g9825b624.d20250310) (1.16.0)\n",
      "Requirement already satisfied: parso<0.9.0,>=0.8.3 in /sdf/group/rubin/sw/conda/envs/lsst-scipipe-9.0.0/lib/python3.11/site-packages (from jedi>=0.16->ipython>=7.23.1->ipykernel->koffi>=0.1.1->kbmod==1.1.1.dev1302+g9825b624.d20250310) (0.8.4)\n",
      "Requirement already satisfied: ptyprocess>=0.5 in /sdf/group/rubin/sw/conda/envs/lsst-scipipe-9.0.0/lib/python3.11/site-packages (from pexpect>4.3->ipython>=7.23.1->ipykernel->koffi>=0.1.1->kbmod==1.1.1.dev1302+g9825b624.d20250310) (0.7.0)\n",
      "Requirement already satisfied: wcwidth in /sdf/group/rubin/sw/conda/envs/lsst-scipipe-9.0.0/lib/python3.11/site-packages (from prompt-toolkit<3.1.0,>=3.0.41->ipython>=7.23.1->ipykernel->koffi>=0.1.1->kbmod==1.1.1.dev1302+g9825b624.d20250310) (0.2.13)\n",
      "Requirement already satisfied: wrapt<2,>=1.10 in /sdf/group/rubin/sw/conda/envs/lsst-scipipe-9.0.0/lib/python3.11/site-packages (from deprecated->numcodecs>=0.14->numcodecs[crc32c]>=0.14->zarr->reproject->kbmod==1.1.1.dev1302+g9825b624.d20250310) (1.16.0)\n",
      "Requirement already satisfied: executing>=1.2.0 in /sdf/group/rubin/sw/conda/envs/lsst-scipipe-9.0.0/lib/python3.11/site-packages (from stack-data->ipython>=7.23.1->ipykernel->koffi>=0.1.1->kbmod==1.1.1.dev1302+g9825b624.d20250310) (2.0.1)\n",
      "Requirement already satisfied: asttokens>=2.1.0 in /sdf/group/rubin/sw/conda/envs/lsst-scipipe-9.0.0/lib/python3.11/site-packages (from stack-data->ipython>=7.23.1->ipykernel->koffi>=0.1.1->kbmod==1.1.1.dev1302+g9825b624.d20250310) (2.4.1)\n",
      "Requirement already satisfied: pure-eval in /sdf/group/rubin/sw/conda/envs/lsst-scipipe-9.0.0/lib/python3.11/site-packages (from stack-data->ipython>=7.23.1->ipykernel->koffi>=0.1.1->kbmod==1.1.1.dev1302+g9825b624.d20250310) (0.2.3)\n",
      "Requirement already satisfied: pycparser in /sdf/group/rubin/sw/conda/envs/lsst-scipipe-9.0.0/lib/python3.11/site-packages (from cffi>=1.12->cryptography>=2.0->SecretStorage>=3.2->keyring>=15.0->astroquery>=0.4.6->kbmod==1.1.1.dev1302+g9825b624.d20250310) (2.22)\n",
      "Building wheels for collected packages: kbmod\n",
      "  Building editable for kbmod (pyproject.toml) ... \u001b[?25ldone\n",
      "\u001b[?25h  Created wheel for kbmod: filename=kbmod-1.1.1.dev1302+g9825b624.d20250310-0.editable-cp311-cp311-linux_x86_64.whl size=6766 sha256=2fa0cd906aea9d232e60219f96ce00f5b7a4dc4580030226631594c1737cceb0\n",
      "  Stored in directory: /lscratch/wbeebe/tmp/pip-ephem-wheel-cache-103bw2pm/wheels/ed/cb/88/abc5748dafadefada9195f9d11e66129d219fc538675449a80\n",
      "Successfully built kbmod\n",
      "Installing collected packages: kbmod\n",
      "  Attempting uninstall: kbmod\n",
      "    Found existing installation: kbmod 1.1.1.dev1302+g9825b624.d20250310\n",
      "    Uninstalling kbmod-1.1.1.dev1302+g9825b624.d20250310:\n",
      "      Successfully uninstalled kbmod-1.1.1.dev1302+g9825b624.d20250310\n",
      "Successfully installed kbmod-1.1.1.dev1302+g9825b624.d20250310\n"
     ]
    },
    {
     "ename": "",
     "evalue": "",
     "output_type": "error",
     "traceback": [
      "\u001b[1;31mnotebook controller is DISPOSED. \n",
      "\u001b[1;31mView Jupyter <a href='command:jupyter.viewOutput'>log</a> for further details."
     ]
    }
   ],
   "source": [
    "!pip install -e /sdf/home/w/wbeebe/kbmod_dev/kbmod"
   ]
  },
  {
   "cell_type": "code",
   "execution_count": 3,
   "metadata": {},
   "outputs": [
    {
     "ename": "",
     "evalue": "",
     "output_type": "error",
     "traceback": [
      "\u001b[1;31mnotebook controller is DISPOSED. \n",
      "\u001b[1;31mView Jupyter <a href='command:jupyter.viewOutput'>log</a> for further details."
     ]
    }
   ],
   "source": [
    "# find commmand for serach for notebooks\n",
    "import kbmod"
   ]
  },
  {
   "cell_type": "code",
   "execution_count": 4,
   "metadata": {},
   "outputs": [
    {
     "ename": "",
     "evalue": "",
     "output_type": "error",
     "traceback": [
      "\u001b[1;31mnotebook controller is DISPOSED. \n",
      "\u001b[1;31mView Jupyter <a href='command:jupyter.viewOutput'>log</a> for further details."
     ]
    }
   ],
   "source": [
    "from kbmod.region_search_new import RegionSearch, Ephems, PatchGrid, Patch"
   ]
  },
  {
   "cell_type": "code",
   "execution_count": null,
   "metadata": {},
   "outputs": [
    {
     "ename": "",
     "evalue": "",
     "output_type": "error",
     "traceback": [
      "\u001b[1;31mnotebook controller is DISPOSED. \n",
      "\u001b[1;31mView Jupyter <a href='command:jupyter.viewOutput'>log</a> for further details."
     ]
    }
   ],
   "source": []
  },
  {
   "cell_type": "code",
   "execution_count": 5,
   "metadata": {},
   "outputs": [
    {
     "name": "stdout",
     "output_type": "stream",
     "text": [
      "Defaulting to user installation because normal site-packages is not writeable\n",
      "Processing /sdf/home/w/wbeebe/kbmod_dev/sphgeom\n",
      "  Installing build dependencies ... \u001b[?25ldone\n",
      "\u001b[?25h  Getting requirements to build wheel ... \u001b[?25ldone\n",
      "\u001b[?25h  Preparing metadata (pyproject.toml) ... \u001b[?25ldone\n",
      "\u001b[?25hRequirement already satisfied: numpy>=1.18 in /sdf/group/rubin/sw/conda/envs/lsst-scipipe-9.0.0/lib/python3.11/site-packages (from lsst-sphgeom==28.2025.600) (1.26.4)\n",
      "Requirement already satisfied: hpgeom>=0.8.0 in /sdf/group/rubin/sw/conda/envs/lsst-scipipe-9.0.0/lib/python3.11/site-packages (from lsst-sphgeom==28.2025.600) (1.3.0)\n",
      "Building wheels for collected packages: lsst-sphgeom\n",
      "  Building wheel for lsst-sphgeom (pyproject.toml) ... \u001b[?25ldone\n",
      "\u001b[?25h  Created wheel for lsst-sphgeom: filename=lsst_sphgeom-28.2025.600-cp311-cp311-linux_x86_64.whl size=635331 sha256=a1dcb3ba03fdda9b56bbd3d55702c0eee1c2ce8d7a9357958c66bc44899ac4f5\n",
      "  Stored in directory: /lscratch/wbeebe/tmp/pip-ephem-wheel-cache-tkydr_9s/wheels/b8/11/1d/7f6277795684c9df04a53362910ef33f2782890a2932f6db6f\n",
      "Successfully built lsst-sphgeom\n",
      "Installing collected packages: lsst-sphgeom\n",
      "  Attempting uninstall: lsst-sphgeom\n",
      "    Found existing installation: lsst-sphgeom 28.2025.600\n",
      "    Uninstalling lsst-sphgeom-28.2025.600:\n",
      "      Successfully uninstalled lsst-sphgeom-28.2025.600\n",
      "Successfully installed lsst-sphgeom-28.2025.600\n"
     ]
    },
    {
     "ename": "",
     "evalue": "",
     "output_type": "error",
     "traceback": [
      "\u001b[1;31mnotebook controller is DISPOSED. \n",
      "\u001b[1;31mView Jupyter <a href='command:jupyter.viewOutput'>log</a> for further details."
     ]
    }
   ],
   "source": [
    "!pip install /sdf/home/w/wbeebe/kbmod_dev/sphgeom"
   ]
  },
  {
   "cell_type": "code",
   "execution_count": 6,
   "metadata": {},
   "outputs": [
    {
     "ename": "",
     "evalue": "",
     "output_type": "error",
     "traceback": [
      "\u001b[1;31mnotebook controller is DISPOSED. \n",
      "\u001b[1;31mView Jupyter <a href='command:jupyter.viewOutput'>log</a> for further details."
     ]
    }
   ],
   "source": [
    "!setup lsst_distrib"
   ]
  },
  {
   "cell_type": "code",
   "execution_count": 7,
   "metadata": {},
   "outputs": [
    {
     "ename": "",
     "evalue": "",
     "output_type": "error",
     "traceback": [
      "\u001b[1;31mnotebook controller is DISPOSED. \n",
      "\u001b[1;31mView Jupyter <a href='command:jupyter.viewOutput'>log</a> for further details."
     ]
    }
   ],
   "source": [
    "import lsst\n",
    "\n",
    "# from lsst.sphgeom import , Point2D, Point2I, Extent2I\n",
    "# import lsst.daf.butler as dafButler\n",
    "# from lsst.daf.butler import DatasetNotFoundError\n",
    "from dateutil import parser\n",
    "from tqdm import tqdm  # Import tqdm for the progress bar\n",
    "from astropy.time import Time\n",
    "from astropy.table import Table, join, unique\n",
    "from astropy.coordinates import SkyCoord, GeocentricTrueEcliptic, ICRS\n",
    "from astropy import units as u\n",
    "# from lsst.sphgeom import degrees, SpherePoint\n",
    "\n",
    "import numpy as np\n",
    "import pandas as pd\n",
    "import os\n",
    "import glob\n",
    "import pickle\n",
    "\n",
    "import os\n",
    "import json\n",
    "from tqdm.contrib.concurrent import process_map\n",
    "from astropy.table import Table\n",
    "import pandas as pd\n",
    "from functools import partial\n",
    "\n",
    "from matplotlib import pyplot as plt\n",
    "\n",
    "import kbmod\n",
    "from kbmod.reprojection_utils import correct_parallax_geometrically_vectorized\n",
    "from dateutil import parser\n",
    "\n",
    "from astropy.coordinates import EarthLocation\n",
    "\n",
    "from shapely import Polygon\n",
    "\n",
    "from astropy.table import Table"
   ]
  },
  {
   "cell_type": "markdown",
   "metadata": {},
   "source": [
    "### First we load our ImageCollection of metadata ingested from the Butler"
   ]
  },
  {
   "cell_type": "code",
   "execution_count": 8,
   "metadata": {},
   "outputs": [
    {
     "ename": "",
     "evalue": "",
     "output_type": "error",
     "traceback": [
      "\u001b[1;31mnotebook controller is DISPOSED. \n",
      "\u001b[1;31mView Jupyter <a href='command:jupyter.viewOutput'>log</a> for further details."
     ]
    }
   ],
   "source": [
    "ic_path = \"/sdf/home/w/wbeebe/rubin-user/image_collections_interest/LSSTComCam_runs_DRP_20241101_20241211_w_2024_50_DM-48128.collection\"\n",
    "ic = kbmod.ImageCollection.read(ic_path)"
   ]
  },
  {
   "cell_type": "code",
   "execution_count": 9,
   "metadata": {},
   "outputs": [
    {
     "data": {
      "text/html": [
       "<i>Row index=0</i>\n",
       "<table id=\"table139637357148368\">\n",
       "<thead><tr><th>dataId</th><th>visit</th><th>detector</th><th>band</th><th>filter</th><th>exposureTime</th><th>mjd_start</th><th>mjd_mid</th><th>object</th><th>pointing_ra</th><th>pointing_dec</th><th>airmass</th><th>wcs_err</th><th>ra</th><th>dec</th><th>ra_bl</th><th>dec_bl</th><th>ra_tl</th><th>dec_tl</th><th>ra_tr</th><th>dec_tr</th><th>ra_br</th><th>dec_br</th><th>psfSigma</th><th>psfArea</th><th>nPsfStar</th><th>zeroPoint</th><th>skyBg</th><th>skyNoise</th><th>meanVar</th><th>OBSID</th><th>wcs</th><th>collection</th><th>datasetType</th><th>obs_lon</th><th>obs_lat</th><th>obs_elev</th><th>astromOffsetMean</th><th>astromOffsetStd</th><th>DIMM2SEE</th></tr></thead>\n",
       "<thead><tr><th>str36</th><th>int64</th><th>int64</th><th>str1</th><th>str4</th><th>float64</th><th>float64</th><th>float64</th><th>str16</th><th>float64</th><th>float64</th><th>float64</th><th>float64</th><th>float64</th><th>float64</th><th>float64</th><th>float64</th><th>float64</th><th>float64</th><th>float64</th><th>float64</th><th>float64</th><th>float64</th><th>float64</th><th>float64</th><th>int64</th><th>float64</th><th>float64</th><th>float64</th><th>float64</th><th>str20</th><th>str1250</th><th>str56</th><th>str28</th><th>float64</th><th>float64</th><th>float64</th><th>float64</th><th>float64</th><th>float64</th></tr></thead>\n",
       "<tr><td>5169c17f-bb8e-40fc-96fe-4b83597df8d2</td><td>2024121000425</td><td>5</td><td>r</td><td>r_03</td><td>30.0</td><td>60655.246048379566</td><td>60655.246227777716</td><td>ECDFS</td><td>53.1535514707645</td><td>-28.1366415006451</td><td>1.28221752878834</td><td>7.389644451905042e-12</td><td>53.06954262581797</td><td>-27.897443132978164</td><td>52.96407662659122</td><td>-28.025936551475983</td><td>53.213249586117634</td><td>-27.99278183375829</td><td>53.17477735760019</td><td>-27.768765919922007</td><td>52.92605768657792</td><td>-27.801902010137347</td><td>2.6504541883182724</td><td>104.39609322175905</td><td>12</td><td>28.843851284429732</td><td>12016.643432892859</td><td>110.90657332947406</td><td>12674.77983670926</td><td>CC_O_20241210_000425</td><td>{&quot;WCSAXES&quot;:2,&quot;CRPIX1&quot;:1876.80818,&quot;CRPIX2&quot;:1606.826387,&quot;PC1_1&quot;:-8.2913018496199e-06,&quot;PC1_2&quot;:5.5004810809004e-05,&quot;PC2_1&quot;:5.501400877254e-05,&quot;PC2_2&quot;:8.2742710184711e-06,&quot;CDELT1&quot;:1.0,&quot;CDELT2&quot;:1.0,&quot;CUNIT1&quot;:&quot;deg&quot;,&quot;CUNIT2&quot;:&quot;deg&quot;,&quot;CTYPE1&quot;:&quot;RA---TAN-SIP&quot;,&quot;CTYPE2&quot;:&quot;DEC--TAN-SIP&quot;,&quot;CRVAL1&quot;:53.046512811648,&quot;CRVAL2&quot;:-27.909519987183,&quot;LONPOLE&quot;:180.0,&quot;LATPOLE&quot;:-27.909519987183,&quot;MJDREF&quot;:0.0,&quot;RADESYS&quot;:&quot;ICRS&quot;,&quot;A_ORDER&quot;:2,&quot;A_0_2&quot;:2.75047185170942e-08,&quot;A_1_1&quot;:4.77197407786723e-08,&quot;A_2_0&quot;:1.43959205438269e-07,&quot;B_ORDER&quot;:2,&quot;B_0_2&quot;:9.34929031325792e-09,&quot;B_1_1&quot;:5.69354902560917e-08,&quot;B_2_0&quot;:5.25326913173219e-09,&quot;AP_ORDER&quot;:3,&quot;AP_0_0&quot;:8.37031900683543e-08,&quot;AP_0_1&quot;:1.68134578934616e-11,&quot;AP_0_2&quot;:-2.7504735693173e-08,&quot;AP_0_3&quot;:1.82618424137253e-15,&quot;AP_1_0&quot;:5.09001729653846e-11,&quot;AP_1_1&quot;:-4.7719790749426e-08,&quot;AP_1_2&quot;:1.37700778366748e-14,&quot;AP_2_0&quot;:-1.4395929829367e-07,&quot;AP_2_1&quot;:2.36047949440854e-14,&quot;AP_3_0&quot;:4.16839635398811e-14,&quot;BP_ORDER&quot;:3,&quot;BP_0_0&quot;:1.44460159670015e-08,&quot;BP_0_1&quot;:5.99342797613644e-12,&quot;BP_0_2&quot;:-9.3492958090984e-09,&quot;BP_0_3&quot;:1.74046933566411e-15,&quot;BP_1_0&quot;:7.16494535853563e-12,&quot;BP_1_1&quot;:-5.6935508943469e-08,&quot;BP_1_2&quot;:4.60131931282903e-15,&quot;BP_2_0&quot;:-5.2532783179329e-09,&quot;BP_2_1&quot;:1.20343473665591e-14,&quot;BP_3_0&quot;:1.81041332632278e-15,&quot;NAXIS1&quot;:4072,&quot;NAXIS2&quot;:4000}</td><td>LSSTComCam/runs/DRP/20241101_20241211/w_2024_50/DM-48128</td><td>goodSeeingDiff_differenceExp</td><td>-70.7494170285165</td><td>-30.2446389756252</td><td>2662.99616375123</td><td>nan</td><td>nan</td><td>0.0</td></tr>\n",
       "</table>"
      ],
      "text/plain": [
       "<Row index=0>\n",
       "               dataId                    visit     detector band filter exposureTime     mjd_start           mjd_mid       object   pointing_ra       pointing_dec       airmass             wcs_err                ra                dec               ra_bl              dec_bl             ra_tl              dec_tl             ra_tr              dec_tr             ra_br              dec_br            psfSigma           psfArea       nPsfStar     zeroPoint            skyBg             skyNoise           meanVar             OBSID                                                                                                                                                                                                                                                                                                                                                                                                                                                                                                                                                                                                                                                      wcs                                                                                                                                                                                                                                                                                                                                                                                                                                                                                                                                                                                                                                                                      collection                                datasetType               obs_lon           obs_lat          obs_elev     astromOffsetMean astromOffsetStd DIMM2SEE\n",
       "               str36                     int64      int64   str1  str4    float64         float64            float64       str16      float64           float64          float64             float64             float64            float64            float64            float64            float64            float64            float64            float64            float64            float64            float64            float64        int64        float64            float64            float64            float64             str20                                                                                                                                                                                                                                                                                                                                                                                                                                                                                                                                                                                                                                                    str1250                                                                                                                                                                                                                                                                                                                                                                                                                                                                                                                                                                                                                                                                      str56                                      str28                  float64           float64          float64          float64          float64     float64 \n",
       "------------------------------------ ------------- -------- ---- ------ ------------ ------------------ ------------------ ------ ---------------- ----------------- ---------------- --------------------- ----------------- ------------------- ----------------- ------------------- ------------------ ------------------ ----------------- ------------------- ----------------- ------------------- ------------------ ------------------ -------- ------------------ ------------------ ------------------ ----------------- -------------------- ---------------------------------------------------------------------------------------------------------------------------------------------------------------------------------------------------------------------------------------------------------------------------------------------------------------------------------------------------------------------------------------------------------------------------------------------------------------------------------------------------------------------------------------------------------------------------------------------------------------------------------------------------------------------------------------------------------------------------------------------------------------------------------------------------------------------------------------------------------------------------------------------------------------------------------------------------------------------------------------------------------------------------------------------------------------------------------------------------------------------------------------------------------------------------------------------------------------------------------------------------------------------------------------------- -------------------------------------------------------- ---------------------------- ----------------- ----------------- ---------------- ---------------- --------------- --------\n",
       "5169c17f-bb8e-40fc-96fe-4b83597df8d2 2024121000425        5    r   r_03         30.0 60655.246048379566 60655.246227777716  ECDFS 53.1535514707645 -28.1366415006451 1.28221752878834 7.389644451905042e-12 53.06954262581797 -27.897443132978164 52.96407662659122 -28.025936551475983 53.213249586117634 -27.99278183375829 53.17477735760019 -27.768765919922007 52.92605768657792 -27.801902010137347 2.6504541883182724 104.39609322175905       12 28.843851284429732 12016.643432892859 110.90657332947406 12674.77983670926 CC_O_20241210_000425 {\"WCSAXES\":2,\"CRPIX1\":1876.80818,\"CRPIX2\":1606.826387,\"PC1_1\":-8.2913018496199e-06,\"PC1_2\":5.5004810809004e-05,\"PC2_1\":5.501400877254e-05,\"PC2_2\":8.2742710184711e-06,\"CDELT1\":1.0,\"CDELT2\":1.0,\"CUNIT1\":\"deg\",\"CUNIT2\":\"deg\",\"CTYPE1\":\"RA---TAN-SIP\",\"CTYPE2\":\"DEC--TAN-SIP\",\"CRVAL1\":53.046512811648,\"CRVAL2\":-27.909519987183,\"LONPOLE\":180.0,\"LATPOLE\":-27.909519987183,\"MJDREF\":0.0,\"RADESYS\":\"ICRS\",\"A_ORDER\":2,\"A_0_2\":2.75047185170942e-08,\"A_1_1\":4.77197407786723e-08,\"A_2_0\":1.43959205438269e-07,\"B_ORDER\":2,\"B_0_2\":9.34929031325792e-09,\"B_1_1\":5.69354902560917e-08,\"B_2_0\":5.25326913173219e-09,\"AP_ORDER\":3,\"AP_0_0\":8.37031900683543e-08,\"AP_0_1\":1.68134578934616e-11,\"AP_0_2\":-2.7504735693173e-08,\"AP_0_3\":1.82618424137253e-15,\"AP_1_0\":5.09001729653846e-11,\"AP_1_1\":-4.7719790749426e-08,\"AP_1_2\":1.37700778366748e-14,\"AP_2_0\":-1.4395929829367e-07,\"AP_2_1\":2.36047949440854e-14,\"AP_3_0\":4.16839635398811e-14,\"BP_ORDER\":3,\"BP_0_0\":1.44460159670015e-08,\"BP_0_1\":5.99342797613644e-12,\"BP_0_2\":-9.3492958090984e-09,\"BP_0_3\":1.74046933566411e-15,\"BP_1_0\":7.16494535853563e-12,\"BP_1_1\":-5.6935508943469e-08,\"BP_1_2\":4.60131931282903e-15,\"BP_2_0\":-5.2532783179329e-09,\"BP_2_1\":1.20343473665591e-14,\"BP_3_0\":1.81041332632278e-15,\"NAXIS1\":4072,\"NAXIS2\":4000} LSSTComCam/runs/DRP/20241101_20241211/w_2024_50/DM-48128 goodSeeingDiff_differenceExp -70.7494170285165 -30.2446389756252 2662.99616375123              nan             nan      0.0"
      ]
     },
     "execution_count": 9,
     "metadata": {},
     "output_type": "execute_result"
    },
    {
     "ename": "",
     "evalue": "",
     "output_type": "error",
     "traceback": [
      "\u001b[1;31mnotebook controller is DISPOSED. \n",
      "\u001b[1;31mView Jupyter <a href='command:jupyter.viewOutput'>log</a> for further details."
     ]
    }
   ],
   "source": [
    "ic[0]"
   ]
  },
  {
   "cell_type": "code",
   "execution_count": 10,
   "metadata": {},
   "outputs": [
    {
     "ename": "",
     "evalue": "",
     "output_type": "error",
     "traceback": [
      "\u001b[1;31mnotebook controller is DISPOSED. \n",
      "\u001b[1;31mView Jupyter <a href='command:jupyter.viewOutput'>log</a> for further details."
     ]
    }
   ],
   "source": [
    "# We want to instantiate a RegionSearch object that will allow us to search for objects in a region of the sky.\n",
    "# Here we will first generate a set of SkyPatches. We will then use these SkyPatches to search for objects in the\n",
    "# region of the sky that they cover."
   ]
  },
  {
   "cell_type": "code",
   "execution_count": 11,
   "metadata": {},
   "outputs": [
    {
     "ename": "",
     "evalue": "",
     "output_type": "error",
     "traceback": [
      "\u001b[1;31mnotebook controller is DISPOSED. \n",
      "\u001b[1;31mView Jupyter <a href='command:jupyter.viewOutput'>log</a> for further details."
     ]
    }
   ],
   "source": [
    "patch_size = [20, 20]\n",
    "\n",
    "# Note that at table creation we\n",
    "# perform reflex-correction of all corners and generate shapely objects\n",
    "region_search = kbmod.region_search_new.RegionSearch(\n",
    "    ic, guess_dists=[39.0], earth_loc=EarthLocation.of_site(\"Rubin\")\n",
    ")\n",
    "\n",
    "\n",
    "def patch_arcmin_to_pixels(patch_size, pixel_scale):\n",
    "    \"\"\"Operate on the self.patch_size array (with size (2,1)) to convert to\n",
    "    pixels. Uses self.pixel_scale to do the conversion.\n",
    "\n",
    "    Returns\n",
    "    -------\n",
    "    nd.array\n",
    "        A 2d array with shape (2,1) containing the width and height of the\n",
    "        patch in pixels.\n",
    "    \"\"\"\n",
    "    patch_pixels = int(np.ceil(patch_size * 60 / pixel_scale))\n",
    "    return patch_pixels\n",
    "\n",
    "\n",
    "region_search.generate_patches(\n",
    "    arcminutes=patch_size[0],\n",
    "    overlap_percentage=50,\n",
    "    image_width=patch_arcmin_to_pixels(patch_size[0], 0.2),\n",
    "    image_height=patch_arcmin_to_pixels(patch_size[1], 0.2),\n",
    "    pixel_scale=0.2,\n",
    ")"
   ]
  },
  {
   "cell_type": "code",
   "execution_count": 12,
   "metadata": {},
   "outputs": [
    {
     "data": {
      "text/plain": [
       "<kbmod.region_search_new.Patch at 0x7effe38a58d0>"
      ]
     },
     "execution_count": 12,
     "metadata": {},
     "output_type": "execute_result"
    },
    {
     "ename": "",
     "evalue": "",
     "output_type": "error",
     "traceback": [
      "\u001b[1;31mnotebook controller is DISPOSED. \n",
      "\u001b[1;31mView Jupyter <a href='command:jupyter.viewOutput'>log</a> for further details."
     ]
    }
   ],
   "source": [
    "region_search.get_patches()[0]"
   ]
  },
  {
   "cell_type": "code",
   "execution_count": 13,
   "metadata": {},
   "outputs": [
    {
     "ename": "",
     "evalue": "",
     "output_type": "error",
     "traceback": [
      "\u001b[1;31mnotebook controller is DISPOSED. \n",
      "\u001b[1;31mView Jupyter <a href='command:jupyter.viewOutput'>log</a> for further details."
     ]
    }
   ],
   "source": [
    "# TODO SkyTable path, convert hms_dms_to_degrees and save new\n",
    "skytablepath = f\"/sdf/home/c/colinc/skytable.csv\"\n",
    "ephems39 = Table.from_pandas(pd.read_csv(skytablepath))"
   ]
  },
  {
   "cell_type": "code",
   "execution_count": 14,
   "metadata": {},
   "outputs": [
    {
     "ename": "",
     "evalue": "",
     "output_type": "error",
     "traceback": [
      "\u001b[1;31mnotebook controller is DISPOSED. \n",
      "\u001b[1;31mView Jupyter <a href='command:jupyter.viewOutput'>log</a> for further details."
     ]
    }
   ],
   "source": [
    "ephems39.sort(\"mjd_mid\")"
   ]
  },
  {
   "cell_type": "code",
   "execution_count": 15,
   "metadata": {},
   "outputs": [
    {
     "name": "stdout",
     "output_type": "stream",
     "text": [
      "Before filtering by time, there are 17205 images in the collection.\n",
      "After filtering by time, there are 1021 images in the collection.\n"
     ]
    },
    {
     "ename": "",
     "evalue": "",
     "output_type": "error",
     "traceback": [
      "\u001b[1;31mnotebook controller is DISPOSED. \n",
      "\u001b[1;31mView Jupyter <a href='command:jupyter.viewOutput'>log</a> for further details."
     ]
    }
   ],
   "source": [
    "print(\n",
    "    f\"Before filtering by time, there are {len(region_search.ic)} images in the collection.\"\n",
    ")\n",
    "\n",
    "# filter table by date\n",
    "\n",
    "tnos_39 = ephems39[(ephems39[\"Name\"] == \"2013 TA228\")]\n",
    "region_search.filter_by_mjds(tnos_39[\"mjd_mid\"], time_sep_s=60)\n",
    "\n",
    "print(\n",
    "    f\"After filtering by time, there are {len(region_search.ic)} images in the collection.\"\n",
    ")"
   ]
  },
  {
   "cell_type": "code",
   "execution_count": 16,
   "metadata": {},
   "outputs": [
    {
     "ename": "",
     "evalue": "",
     "output_type": "error",
     "traceback": [
      "\u001b[1;31mnotebook controller is DISPOSED. \n",
      "\u001b[1;31mView Jupyter <a href='command:jupyter.viewOutput'>log</a> for further details."
     ]
    }
   ],
   "source": [
    "# Now we will search for objects in the region of the sky that we are interested in. We will use the SkyPatches that we\n",
    "# generated earlier to search for objects in the region of the sky that they cover.\n",
    "# We will return a dictionary matching how for each patch with our object of interest, how many\n",
    "# observations were found.\n",
    "# Note that this will perform reflex-correction on the objects before searching for them.\n",
    "region_search_ephems = kbmod.region_search_new.Ephems(\n",
    "    tnos_39,\n",
    "    ra_col=\"ra\",\n",
    "    dec_col=\"dec\",\n",
    "    mjd_col=\"mjd_mid\",\n",
    "    guess_dists=[39.0],\n",
    "    earth_loc=EarthLocation.of_site(\"Rubin\"),\n",
    ")\n",
    "found_patches = region_search.search_patches(\n",
    "    region_search_ephems, guess_dist=39.0, max_overlapping_patches=4\n",
    ")"
   ]
  },
  {
   "cell_type": "code",
   "execution_count": null,
   "metadata": {},
   "outputs": [
    {
     "ename": "",
     "evalue": "",
     "output_type": "error",
     "traceback": [
      "\u001b[1;31mnotebook controller is DISPOSED. \n",
      "\u001b[1;31mView Jupyter <a href='command:jupyter.viewOutput'>log</a> for further details."
     ]
    }
   ],
   "source": []
  },
  {
   "cell_type": "code",
   "execution_count": 17,
   "metadata": {},
   "outputs": [
    {
     "data": {
      "text/plain": [
       "4"
      ]
     },
     "execution_count": 17,
     "metadata": {},
     "output_type": "execute_result"
    },
    {
     "ename": "",
     "evalue": "",
     "output_type": "error",
     "traceback": [
      "\u001b[1;31mnotebook controller is DISPOSED. \n",
      "\u001b[1;31mView Jupyter <a href='command:jupyter.viewOutput'>log</a> for further details."
     ]
    }
   ],
   "source": [
    "len(found_patches)"
   ]
  },
  {
   "cell_type": "code",
   "execution_count": 18,
   "metadata": {},
   "outputs": [
    {
     "data": {
      "image/png": "[encoded data removed]",
      "text/plain": [
       "<Figure size 800x800 with 1 Axes>"
      ]
     },
     "metadata": {},
     "output_type": "display_data"
    },
    {
     "ename": "",
     "evalue": "",
     "output_type": "error",
     "traceback": [
      "\u001b[1;31mnotebook controller is DISPOSED. \n",
      "\u001b[1;31mView Jupyter <a href='command:jupyter.viewOutput'>log</a> for further details."
     ]
    }
   ],
   "source": [
    "from matplotlib import pyplot as plt\n",
    "\n",
    "tno_name = \"2013 TA228\"\n",
    "fig = plt.figure(figsize=[8, 8])\n",
    "desired_patch = 250060\n",
    "other_patches = [250060, 250061, 248981]\n",
    "for patch_idx in found_patches:  # + other_patches:\n",
    "    color = \"black\"\n",
    "    lw = 1\n",
    "    patchlabel = patch_idx  # None\n",
    "    if patch_idx == desired_patch:\n",
    "        color = \"red\"  # continue\n",
    "        lw = 4\n",
    "        patchlabel = f\"patch #{patch_idx}\"\n",
    "    patch = region_search.get_patches()[patch_idx]\n",
    "    radebox = [\n",
    "        (patch.tl_ra, patch.tl_dec),\n",
    "        (patch.tr_ra, patch.tr_dec),\n",
    "        (patch.br_ra, patch.br_dec),\n",
    "        (patch.bl_ra, patch.bl_dec),\n",
    "        (patch.tl_ra, patch.tl_dec),\n",
    "    ]\n",
    "    plt.plot(\n",
    "        [coord[0] for coord in radebox],\n",
    "        [coord[1] for coord in radebox],\n",
    "        label=patchlabel,\n",
    "        alpha=0.75,\n",
    "        color=color,\n",
    "        linewidth=lw,\n",
    "    )\n",
    "# days_obs = list(set(list(tnoEphemTable['day_obs'])))\n",
    "all_ras = []\n",
    "all_decs = []\n",
    "# for day_obs in days_obs:\n",
    "ephem_ras = region_search_ephems.get_ras(39.0)\n",
    "ephem_decs = region_search_ephems.get_decs(39.0)\n",
    "\"\"\"\n",
    "for i in range(len(day_ephem)):\n",
    "    # rade = hms_dms_to_degrees(day_ephem['RA (hms)'][i], day_ephem['DEC (dms)'][i])\n",
    "    rade = [day_ephem['ra'][i], day_ephem['dec'][i]]\n",
    "    ephem_ras.append(rade[0])\n",
    "    ephem_decs.append(rade[1])\n",
    "\"\"\"\n",
    "plt.scatter(ephem_ras, ephem_decs, label=f\"($N$={len(ephem_ras)})\")\n",
    "for ra in ephem_ras:\n",
    "    all_ras.append(ra)\n",
    "for DEC in ephem_decs:\n",
    "    all_decs.append(DEC)\n",
    "plt.plot(all_ras, all_decs, label=f\"($N$={len(ephem_ras)})\", linewidth=1, color=\"black\")\n",
    "plt.legend()\n",
    "plt.xlabel(f\"RA (°)\")\n",
    "plt.ylabel(f\"Dec (°)\")\n",
    "plt.title(f\"{tno_name}\")\n",
    "plt.gca().invert_xaxis()\n",
    "plt.gca().set_aspect(\"equal\")\n",
    "plt.savefig(f\"{tno_name}_extra_patches.png\")"
   ]
  },
  {
   "cell_type": "code",
   "execution_count": 19,
   "metadata": {},
   "outputs": [
    {
     "ename": "",
     "evalue": "",
     "output_type": "error",
     "traceback": [
      "\u001b[1;31mnotebook controller is DISPOSED. \n",
      "\u001b[1;31mView Jupyter <a href='command:jupyter.viewOutput'>log</a> for further details."
     ]
    }
   ],
   "source": [
    "copy_ic = kbmod.ImageCollection(region_search.ic.data.copy(), validate=False)"
   ]
  },
  {
   "cell_type": "code",
   "execution_count": 20,
   "metadata": {},
   "outputs": [
    {
     "data": {
      "text/html": [
       "<div><i>ImageCollection length=1021</i>\n",
       "<table id=\"table139619380621008\" class=\"table-striped table-bordered table-condensed\">\n",
       "<thead><tr><th>dataId</th><th>visit</th><th>detector</th><th>band</th><th>filter</th><th>exposureTime</th><th>mjd_start</th><th>mjd_mid</th><th>object</th><th>pointing_ra</th><th>pointing_dec</th><th>airmass</th><th>wcs_err</th><th>ra</th><th>dec</th><th>ra_bl</th><th>dec_bl</th><th>ra_tl</th><th>dec_tl</th><th>ra_tr</th><th>dec_tr</th><th>ra_br</th><th>dec_br</th><th>psfSigma</th><th>psfArea</th><th>nPsfStar</th><th>zeroPoint</th><th>skyBg</th><th>skyNoise</th><th>meanVar</th><th>OBSID</th><th>wcs</th><th>collection</th><th>datasetType</th><th>obs_lon</th><th>obs_lat</th><th>obs_elev</th><th>astromOffsetMean</th><th>astromOffsetStd</th><th>DIMM2SEE</th><th>ra_39.0</th><th>dec_39.0</th><th>ra_tl_39.0</th><th>dec_tl_39.0</th><th>ra_tr_39.0</th><th>dec_tr_39.0</th><th>ra_bl_39.0</th><th>dec_bl_39.0</th><th>ra_br_39.0</th><th>dec_br_39.0</th></tr></thead>\n",
       "<thead><tr><th>str36</th><th>int64</th><th>int64</th><th>str1</th><th>str4</th><th>float64</th><th>float64</th><th>float64</th><th>str16</th><th>float64</th><th>float64</th><th>float64</th><th>float64</th><th>float64</th><th>float64</th><th>float64</th><th>float64</th><th>float64</th><th>float64</th><th>float64</th><th>float64</th><th>float64</th><th>float64</th><th>float64</th><th>float64</th><th>int64</th><th>float64</th><th>float64</th><th>float64</th><th>float64</th><th>str20</th><th>str1250</th><th>str56</th><th>str28</th><th>float64</th><th>float64</th><th>float64</th><th>float64</th><th>float64</th><th>float64</th><th>float64</th><th>float64</th><th>float64</th><th>float64</th><th>float64</th><th>float64</th><th>float64</th><th>float64</th><th>float64</th><th>float64</th></tr></thead>\n",
       "<tr><td>158d6b10-9a28-4f19-b133-8a254f750ab2</td><td>2024112700110</td><td>4</td><td>r</td><td>r_03</td><td>30.0</td><td>60642.0666127084</td><td>60642.06679210655</td><td>Rubin_SV_38_7</td><td>38.3341735641275</td><td>7.15770473659325</td><td>1.3318257496169</td><td>-4.999556324492005e-12</td><td>38.35254512002526</td><td>7.198155563307926</td><td>38.29446176948717</td><td>7.3460978198344735</td><td>38.2024191310153</td><td>7.143140113816618</td><td>38.41058228921707</td><td>7.050162569726549</td><td>38.50271341141042</td><td>7.2531075129813045</td><td>2.752483373799654</td><td>101.81499741729672</td><td>66</td><td>31.953383294623716</td><td>1114.3895733356476</td><td>35.26416809525016</td><td>1238.1586799311322</td><td>CC_O_20241127_000110</td><td>{&quot;WCSAXES&quot;:2,&quot;CRPIX1&quot;:2044.982655,&quot;CRPIX2&quot;:2225.844524,&quot;PC1_1&quot;:5.07286275392e-05,&quot;PC1_2&quot;:-2.283977463615e-05,&quot;PC2_1&quot;:-2.283489732403e-05,&quot;PC2_2&quot;:-5.0739066585387e-05,&quot;CDELT1&quot;:1.0,&quot;CDELT2&quot;:1.0,&quot;CUNIT1&quot;:&quot;deg&quot;,&quot;CUNIT2&quot;:&quot;deg&quot;,&quot;CTYPE1&quot;:&quot;RA---TAN-SIP&quot;,&quot;CTYPE2&quot;:&quot;DEC--TAN-SIP&quot;,&quot;CRVAL1&quot;:38.347777087058,&quot;CRVAL2&quot;:7.186565000105,&quot;LONPOLE&quot;:180.0,&quot;LATPOLE&quot;:7.186565000105,&quot;MJDREF&quot;:0.0,&quot;RADESYS&quot;:&quot;ICRS&quot;,&quot;A_ORDER&quot;:2,&quot;A_0_2&quot;:1.59917189229055e-08,&quot;A_1_1&quot;:-1.3396338535048e-09,&quot;A_2_0&quot;:8.0214887382803e-09,&quot;B_ORDER&quot;:2,&quot;B_0_2&quot;:2.90881001868908e-08,&quot;B_1_1&quot;:3.53934673906868e-08,&quot;B_2_0&quot;:3.01198248685372e-08,&quot;AP_ORDER&quot;:3,&quot;AP_0_0&quot;:1.11080207895182e-09,&quot;AP_0_1&quot;:-2.5556613067403e-13,&quot;AP_0_2&quot;:-1.5991719741917e-08,&quot;AP_0_3&quot;:9.08968477755352e-16,&quot;AP_1_0&quot;:-1.5076828674409e-13,&quot;AP_1_1&quot;:1.33963284751276e-09,&quot;AP_1_2&quot;:1.35146499521773e-15,&quot;AP_2_0&quot;:-8.0214891754599e-09,&quot;AP_2_1&quot;:8.8373363860452e-16,&quot;AP_3_0&quot;:8.83534347940533e-17,&quot;BP_ORDER&quot;:3,&quot;BP_0_0&quot;:3.63423847899475e-09,&quot;BP_0_1&quot;:-7.2164496600635e-13,&quot;BP_0_2&quot;:-2.9088102524486e-08,&quot;BP_0_3&quot;:2.25836937108839e-15,&quot;BP_1_0&quot;:-4.546663312414e-13,&quot;BP_1_1&quot;:-3.5393470542247e-08,&quot;BP_1_2&quot;:4.0047311437866e-15,&quot;BP_2_0&quot;:-3.0119826603927e-08,&quot;BP_2_1&quot;:3.20832995095491e-15,&quot;BP_3_0&quot;:1.54930345009453e-15,&quot;NAXIS1&quot;:4072,&quot;NAXIS2&quot;:4000}</td><td>LSSTComCam/runs/DRP/20241101_20241211/w_2024_50/DM-48128</td><td>goodSeeingDiff_differenceExp</td><td>-70.7494170285165</td><td>-30.2446389756252</td><td>2662.99616375123</td><td>nan</td><td>nan</td><td>0.0</td><td>38.94413865796719</td><td>7.566503621682336</td><td>38.79712383938192</td><td>7.512890028535527</td><td>39.00074727509632</td><td>7.421705143989414</td><td>38.88748890353249</td><td>7.7112532091947195</td><td>39.09119047541849</td><td>7.620052881058759</td></tr>\n",
       "<tr><td>f13b24c2-c2bd-4597-9ed9-166fdad55f8a</td><td>2024112800167</td><td>5</td><td>r</td><td>r_03</td><td>30.0</td><td>60643.08493910881</td><td>60643.08511850696</td><td>Rubin_SV_38_7</td><td>38.3316714775955</td><td>7.26323975894102</td><td>1.28546964828928</td><td>3.929301328753354e-12</td><td>38.5666074985449</td><td>7.245740377359679</td><td>38.484636239636714</td><td>7.3820753608338086</td><td>38.42773782690173</td><td>7.166875248516594</td><td>38.64858882999424</td><td>7.109315414522219</td><td>38.705617281047616</td><td>7.324582129320624</td><td>2.201347982658638</td><td>76.93853484147114</td><td>83</td><td>31.95430663099749</td><td>1130.3358188271523</td><td>36.231116601857984</td><td>1302.8530503281058</td><td>CC_O_20241128_000167</td><td>{&quot;WCSAXES&quot;:2,&quot;CRPIX1&quot;:1985.736066,&quot;CRPIX2&quot;:1981.9664,&quot;PC1_1&quot;:5.3818754955957e-05,&quot;PC1_2&quot;:-1.4126890332939e-05,&quot;PC2_1&quot;:-1.4126716084965e-05,&quot;PC2_2&quot;:-5.3808265404679e-05,&quot;CDELT1&quot;:1.0,&quot;CDELT2&quot;:1.0,&quot;CUNIT1&quot;:&quot;deg&quot;,&quot;CUNIT2&quot;:&quot;deg&quot;,&quot;CTYPE1&quot;:&quot;RA---TAN-SIP&quot;,&quot;CTYPE2&quot;:&quot;DEC--TAN-SIP&quot;,&quot;CRVAL1&quot;:38.564097361948,&quot;CRVAL2&quot;:7.2474887524962,&quot;LONPOLE&quot;:180.0,&quot;LATPOLE&quot;:7.2474887524962,&quot;MJDREF&quot;:0.0,&quot;RADESYS&quot;:&quot;ICRS&quot;,&quot;A_ORDER&quot;:2,&quot;A_0_2&quot;:5.2472607217002e-08,&quot;A_1_1&quot;:-7.2858051452019e-09,&quot;A_2_0&quot;:1.22196245074328e-07,&quot;B_ORDER&quot;:2,&quot;B_0_2&quot;:6.59096951475371e-09,&quot;B_1_1&quot;:1.09315085538031e-07,&quot;B_2_0&quot;:1.16508787040119e-08,&quot;AP_ORDER&quot;:3,&quot;AP_0_0&quot;:8.9783165389194e-08,&quot;AP_0_1&quot;:1.3590525473163e-12,&quot;AP_0_2&quot;:-5.2472636549328e-08,&quot;AP_0_3&quot;:3.09289831675625e-16,&quot;AP_1_0&quot;:4.93383112143419e-12,&quot;AP_1_1&quot;:7.28580769735769e-09,&quot;AP_1_2&quot;:2.43003527866519e-14,&quot;AP_2_0&quot;:-1.221963199798e-07,&quot;AP_2_1&quot;:-2.2450993008405e-15,&quot;AP_3_0&quot;:2.9777782046058e-14,&quot;BP_ORDER&quot;:3,&quot;BP_0_0&quot;:1.21107181041719e-08,&quot;BP_0_1&quot;:1.70530256582424e-12,&quot;BP_0_2&quot;:-6.5909732636171e-09,&quot;BP_0_3&quot;:5.82277900645719e-15,&quot;BP_1_0&quot;:1.84770589308526e-12,&quot;BP_1_1&quot;:-1.0931513087051e-07,&quot;BP_1_2&quot;:2.5873598438352e-15,&quot;BP_2_0&quot;:-1.1650889723989e-08,&quot;BP_2_1&quot;:2.52906915421074e-14,&quot;BP_3_0&quot;:4.12062732370344e-15,&quot;NAXIS1&quot;:4072,&quot;NAXIS2&quot;:4000}</td><td>LSSTComCam/runs/DRP/20241101_20241211/w_2024_50/DM-48128</td><td>goodSeeingDiff_differenceExp</td><td>-70.7494170285165</td><td>-30.2446389756252</td><td>2662.99616375123</td><td>nan</td><td>nan</td><td>0.0</td><td>39.17619472285662</td><td>7.61838889180227</td><td>39.04013572006801</td><td>7.541430369687567</td><td>39.256262676800326</td><td>7.484846882217624</td><td>39.09613976314929</td><td>7.751845061452243</td><td>39.31238735556985</td><td>7.695320616163603</td></tr>\n",
       "<tr><td>615b2f69-ba41-4d4b-b29b-a807e7a3ac82</td><td>2024112600134</td><td>8</td><td>i</td><td>i_06</td><td>30.0</td><td>60641.08122699644</td><td>60641.08140639459</td><td>Rubin_SV_38_7</td><td>38.0653955028628</td><td>6.52826805904292</td><td>1.28850130948918</td><td>-3.090860900556436e-12</td><td>38.18728959931873</td><td>6.2575399328953285</td><td>38.13367905883207</td><td>6.407125257662862</td><td>38.03592432637463</td><td>6.206883852393906</td><td>38.24092893534934</td><td>6.107783069946998</td><td>38.33871170185693</td><td>6.30809586582424</td><td>2.1870157927318044</td><td>67.46518367993608</td><td>102</td><td>31.76327910494223</td><td>2581.0746131539345</td><td>52.993192583897475</td><td>2795.876509900088</td><td>CC_O_20241126_000134</td><td>{&quot;WCSAXES&quot;:2,&quot;CRPIX1&quot;:2104.234496,&quot;CRPIX2&quot;:2090.780895,&quot;PC1_1&quot;:5.0049364571068e-05,&quot;PC1_2&quot;:-2.4296678395023e-05,&quot;PC2_1&quot;:-2.4329910755198e-05,&quot;PC2_2&quot;:-5.0071238405668e-05,&quot;CDELT1&quot;:1.0,&quot;CDELT2&quot;:1.0,&quot;CUNIT1&quot;:&quot;deg&quot;,&quot;CUNIT2&quot;:&quot;deg&quot;,&quot;CTYPE1&quot;:&quot;RA---TAN-SIP&quot;,&quot;CTYPE2&quot;:&quot;DEC--TAN-SIP&quot;,&quot;CRVAL1&quot;:38.188480325674,&quot;CRVAL2&quot;:6.2514088148071,&quot;LONPOLE&quot;:180.0,&quot;LATPOLE&quot;:6.2514088148071,&quot;MJDREF&quot;:0.0,&quot;RADESYS&quot;:&quot;ICRS&quot;,&quot;A_ORDER&quot;:2,&quot;A_0_2&quot;:5.71380993437748e-08,&quot;A_1_1&quot;:8.4138548688458e-08,&quot;A_2_0&quot;:1.34602072087139e-07,&quot;B_ORDER&quot;:2,&quot;B_0_2&quot;:1.29922197020279e-07,&quot;B_1_1&quot;:9.30259268861285e-08,&quot;B_2_0&quot;:5.08093732261702e-08,&quot;AP_ORDER&quot;:3,&quot;AP_0_0&quot;:2.38650612711241e-07,&quot;AP_0_1&quot;:-1.9773730332761e-11,&quot;AP_0_2&quot;:-5.7138214915058e-08,&quot;AP_0_3&quot;:1.96568954030525e-14,&quot;AP_1_0&quot;:-2.9495295095216e-11,&quot;AP_1_1&quot;:-8.4138741264852e-08,&quot;AP_1_2&quot;:4.40296314635341e-14,&quot;AP_2_0&quot;:-1.3460222841301e-07,&quot;AP_2_1&quot;:4.76169097340427e-14,&quot;AP_3_0&quot;:4.05162046764094e-14,&quot;BP_ORDER&quot;:3,&quot;BP_0_0&quot;:2.2872495540209e-07,&quot;BP_0_1&quot;:-2.0712098702801e-11,&quot;BP_0_2&quot;:-1.2992234828618e-07,&quot;BP_0_3&quot;:3.90781540503791e-14,&quot;BP_1_0&quot;:-2.15361705159e-11,&quot;BP_1_1&quot;:-9.3026118127959e-08,&quot;BP_1_2&quot;:4.98983852539292e-14,&quot;BP_2_0&quot;:-5.080948323256e-08,&quot;BP_2_1&quot;:4.29343119560157e-14,&quot;BP_3_0&quot;:1.84076385356384e-14,&quot;NAXIS1&quot;:4072,&quot;NAXIS2&quot;:4000}</td><td>LSSTComCam/runs/DRP/20241101_20241211/w_2024_50/DM-48128</td><td>goodSeeingDiff_differenceExp</td><td>-70.7494170285165</td><td>-30.2446389756252</td><td>2662.99616375123</td><td>nan</td><td>nan</td><td>0.0</td><td>38.75939839775447</td><td>6.641411994306177</td><td>38.61120854247471</td><td>6.59203658799253</td><td>38.81172304867742</td><td>6.494914087458803</td><td>38.70710575061829</td><td>6.78774232217167</td><td>38.90763954600023</td><td>6.690687440663978</td></tr>\n",
       "<tr><td>169f5c3f-ecfc-4f6f-939f-095eb0b829d7</td><td>2024112700083</td><td>0</td><td>g</td><td>g_01</td><td>30.0</td><td>60642.05076258672</td><td>60642.05094198487</td><td>Rubin_SV_38_7</td><td>37.9938493386267</td><td>6.49560381507443</td><td>1.37156174047852</td><td>2.6183499812759692e-11</td><td>37.92832262487445</td><td>6.85435667644737</td><td>37.884814997993615</td><td>7.007395075878345</td><td>37.773620286298915</td><td>6.8139532745952875</td><td>37.971762033999</td><td>6.701457797578215</td><td>38.08306395599591</td><td>6.894789898144778</td><td>2.661844549476962</td><td>109.29109738342527</td><td>56</td><td>31.998405357750485</td><td>643.9356014281511</td><td>28.611244809815492</td><td>815.9367414846595</td><td>CC_O_20241127_000083</td><td>{&quot;WCSAXES&quot;:2,&quot;CRPIX1&quot;:2014.103361,&quot;CRPIX2&quot;:2019.39363,&quot;PC1_1&quot;:4.8325125124856e-05,&quot;PC1_2&quot;:-2.7613088427596e-05,&quot;PC2_1&quot;:-2.7640173032774e-05,&quot;PC2_2&quot;:-4.8346788775123e-05,&quot;CDELT1&quot;:1.0,&quot;CDELT2&quot;:1.0,&quot;CUNIT1&quot;:&quot;deg&quot;,&quot;CUNIT2&quot;:&quot;deg&quot;,&quot;CTYPE1&quot;:&quot;RA---TAN-SIP&quot;,&quot;CTYPE2&quot;:&quot;DEC--TAN-SIP&quot;,&quot;CRVAL1&quot;:37.92669661524,&quot;CRVAL2&quot;:6.8541002691501,&quot;LONPOLE&quot;:180.0,&quot;LATPOLE&quot;:6.8541002691501,&quot;MJDREF&quot;:0.0,&quot;RADESYS&quot;:&quot;ICRS&quot;,&quot;A_ORDER&quot;:2,&quot;A_0_2&quot;:-3.8963989109377e-08,&quot;A_1_1&quot;:-8.5533015347666e-08,&quot;A_2_0&quot;:-1.0780405170904e-07,&quot;B_ORDER&quot;:2,&quot;B_0_2&quot;:-1.3175507788297e-07,&quot;B_1_1&quot;:-3.249101191879e-08,&quot;B_2_0&quot;:-6.7615532511292e-08,&quot;AP_ORDER&quot;:3,&quot;AP_0_0&quot;:-1.3839559161386e-07,&quot;AP_0_1&quot;:2.55739289527621e-12,&quot;AP_0_2&quot;:3.89640572987641e-08,&quot;AP_0_3&quot;:1.35996035482049e-14,&quot;AP_1_0&quot;:1.1257661469699e-13,&quot;AP_1_1&quot;:8.55331311401072e-08,&quot;AP_1_2&quot;:2.95176668859084e-14,&quot;AP_2_0&quot;:1.0780414482316e-07,&quot;AP_2_1&quot;:3.57104828879663e-14,&quot;AP_3_0&quot;:2.90270489298862e-14,&quot;BP_ORDER&quot;:3,&quot;BP_0_0&quot;:-1.5360265475565e-07,&quot;BP_0_1&quot;:6.13886719236234e-12,&quot;BP_0_2&quot;:1.31755187011619e-07,&quot;BP_0_3&quot;:3.59831503474278e-14,&quot;BP_1_0&quot;:2.58587554217931e-13,&quot;BP_1_1&quot;:3.24911089133045e-08,&quot;BP_1_2&quot;:2.08903560413634e-14,&quot;BP_2_0&quot;:6.76156070889429e-08,&quot;BP_2_1&quot;:3.39419441938309e-14,&quot;BP_3_0&quot;:1.67754183130813e-14,&quot;NAXIS1&quot;:4072,&quot;NAXIS2&quot;:4000}</td><td>LSSTComCam/runs/DRP/20241101_20241211/w_2024_50/DM-48128</td><td>goodSeeingDiff_differenceExp</td><td>-70.7494170285165</td><td>-30.2446389756252</td><td>2662.99616375123</td><td>nan</td><td>nan</td><td>0.0</td><td>38.52809964476013</td><td>7.230711105739006</td><td>38.37661290525761</td><td>7.191382194391157</td><td>38.5704243656891</td><td>7.081117918689024</td><td>38.485712817284565</td><td>7.380440565284661</td><td>38.679619939539016</td><td>7.270067773399478</td></tr>\n",
       "<tr><td>fdbba196-ea42-44b9-9abd-dd6135f98428</td><td>2024120700174</td><td>1</td><td>g</td><td>g_01</td><td>30.0</td><td>60652.09174949648</td><td>60652.09192889463</td><td>Rubin_SV_38_7</td><td>38.2632955862351</td><td>7.352853869846961</td><td>1.2634530995511</td><td>2.6211921522190096e-11</td><td>38.26863426809596</td><td>7.624480046324815</td><td>38.16018689822913</td><td>7.741425914804407</td><td>38.148840887351064</td><td>7.51909072327733</td><td>38.37699052615352</td><td>7.507579641959968</td><td>38.38852048814114</td><td>7.729884161801213</td><td>2.3725225273434027</td><td>87.36453477407764</td><td>54</td><td>32.010436274121965</td><td>1607.326724037528</td><td>39.01064993456064</td><td>1677.4252734862694</td><td>CC_O_20241207_000174</td><td>{&quot;WCSAXES&quot;:2,&quot;CRPIX1&quot;:2206.342748,&quot;CRPIX2&quot;:1859.343859,&quot;PC1_1&quot;:5.555671029334e-05,&quot;PC1_2&quot;:-2.836018468517e-06,&quot;PC2_1&quot;:-2.8317501251422e-06,&quot;PC2_2&quot;:-5.5581607207039e-05,&quot;CDELT1&quot;:1.0,&quot;CDELT2&quot;:1.0,&quot;CUNIT1&quot;:&quot;deg&quot;,&quot;CUNIT2&quot;:&quot;deg&quot;,&quot;CTYPE1&quot;:&quot;RA---TAN-SIP&quot;,&quot;CTYPE2&quot;:&quot;DEC--TAN-SIP&quot;,&quot;CRVAL1&quot;:38.278531532523,&quot;CRVAL2&quot;:7.6318739750525,&quot;LONPOLE&quot;:180.0,&quot;LATPOLE&quot;:7.6318739750525,&quot;MJDREF&quot;:0.0,&quot;RADESYS&quot;:&quot;ICRS&quot;,&quot;A_ORDER&quot;:2,&quot;A_0_2&quot;:-1.5914973249043e-08,&quot;A_1_1&quot;:-7.303631784515e-08,&quot;A_2_0&quot;:1.06347964832836e-08,&quot;B_ORDER&quot;:2,&quot;B_0_2&quot;:-1.1236445942384e-07,&quot;B_1_1&quot;:-2.3694583692124e-08,&quot;B_2_0&quot;:-2.1627583282209e-08,&quot;AP_ORDER&quot;:3,&quot;AP_0_0&quot;:-9.3627301537809e-09,&quot;AP_0_1&quot;:-1.4385938657369e-12,&quot;AP_0_2&quot;:1.59149833855982e-08,&quot;AP_0_3&quot;:4.73952408874294e-15,&quot;AP_1_0&quot;:-2.782551966618e-12,&quot;AP_1_1&quot;:7.30363360581251e-08,&quot;AP_1_2&quot;:1.39584481802879e-14,&quot;AP_2_0&quot;:-1.0634794871187e-08,&quot;AP_2_1&quot;:8.87878062307073e-17,&quot;AP_3_0&quot;:1.80596455828884e-15,&quot;BP_ORDER&quot;:3,&quot;BP_0_0&quot;:-4.2951006810204e-08,&quot;BP_0_1&quot;:-1.4443335416558e-11,&quot;BP_0_2&quot;:1.12364507110918e-07,&quot;BP_0_3&quot;:2.56331733493578e-14,&quot;BP_1_0&quot;:-1.3208942164639e-12,&quot;BP_1_1&quot;:2.36946021571817e-08,&quot;BP_1_2&quot;:1.0407713919936e-14,&quot;BP_2_0&quot;:2.16275915674935e-08,&quot;BP_2_1&quot;:8.330046734663e-15,&quot;BP_3_0&quot;:5.24522812059963e-17,&quot;NAXIS1&quot;:4072,&quot;NAXIS2&quot;:4000}</td><td>LSSTComCam/runs/DRP/20241101_20241211/w_2024_50/DM-48128</td><td>goodSeeingDiff_differenceExp</td><td>-70.7494170285165</td><td>-30.2446389756252</td><td>2662.99616375123</td><td>nan</td><td>nan</td><td>0.0</td><td>39.07401192526743</td><td>8.034417559600096</td><td>38.956250900476476</td><td>7.931320205965103</td><td>39.18011698539559</td><td>7.919628427951885</td><td>38.96781918053892</td><td>8.149256194343614</td><td>39.19186212209601</td><td>8.137522495085491</td></tr>\n",
       "<tr><td>c669344c-6c22-43e9-a513-d0c0fe750b36</td><td>2024112600111</td><td>0</td><td>g</td><td>g_01</td><td>30.0</td><td>60641.05274174758</td><td>60641.05292114573</td><td>Rubin_SV_38_7</td><td>38.353599082499</td><td>7.09394395921535</td><td>1.39066769560293</td><td>1.5347723092418164e-11</td><td>38.29801318980199</td><td>7.456760493748928</td><td>38.26007706836452</td><td>7.6112529617196065</td><td>38.14174143901519</td><td>7.421933178706457</td><td>38.335868468366485</td><td>7.302413420302254</td><td>38.45429252835841</td><td>7.4915673755091605</td><td>2.677226627399676</td><td>101.24266546038264</td><td>51</td><td>32.004805454143956</td><td>677.5251076221466</td><td>29.43131571185847</td><td>850.9825999381716</td><td>CC_O_20241126_000111</td><td>{&quot;WCSAXES&quot;:2,&quot;CRPIX1&quot;:2193.112677,&quot;CRPIX2&quot;:2167.875065,&quot;PC1_1&quot;:4.7279367068878e-05,&quot;PC1_2&quot;:-2.9345313209847e-05,&quot;PC2_1&quot;:-2.9369074250488e-05,&quot;PC2_2&quot;:-4.7306556934568e-05,&quot;CDELT1&quot;:1.0,&quot;CDELT2&quot;:1.0,&quot;CUNIT1&quot;:&quot;deg&quot;,&quot;CUNIT2&quot;:&quot;deg&quot;,&quot;CTYPE1&quot;:&quot;RA---TAN-SIP&quot;,&quot;CTYPE2&quot;:&quot;DEC--TAN-SIP&quot;,&quot;CRVAL1&quot;:38.300518445477,&quot;CRVAL2&quot;:7.4442808592444,&quot;LONPOLE&quot;:180.0,&quot;LATPOLE&quot;:7.4442808592444,&quot;MJDREF&quot;:0.0,&quot;RADESYS&quot;:&quot;ICRS&quot;,&quot;A_ORDER&quot;:2,&quot;A_0_2&quot;:-3.9742239542955e-08,&quot;A_1_1&quot;:-1.0080002692927e-07,&quot;A_2_0&quot;:-1.3151382167522e-07,&quot;B_ORDER&quot;:2,&quot;B_0_2&quot;:-7.2543423171643e-08,&quot;B_1_1&quot;:-8.5882563746472e-08,&quot;B_2_0&quot;:-5.8135474395106e-08,&quot;AP_ORDER&quot;:3,&quot;AP_0_0&quot;:-2.0153160095771e-07,&quot;AP_0_1&quot;:4.60398914897869e-11,&quot;AP_0_2&quot;:3.97423149129533e-08,&quot;AP_0_3&quot;:9.76869814269738e-15,&quot;AP_1_0&quot;:6.77395917136891e-11,&quot;AP_1_1&quot;:1.00800194251679e-07,&quot;AP_1_2&quot;:3.47397868764691e-14,&quot;AP_2_0&quot;:1.3151396904084e-07,&quot;AP_2_1&quot;:5.30276053557564e-14,&quot;AP_3_0&quot;:4.04384848136964e-14,&quot;BP_ORDER&quot;:3,&quot;BP_0_0&quot;:-1.4942681043905e-07,&quot;BP_0_1&quot;:3.78395093036942e-11,&quot;BP_0_2&quot;:7.25434909231725e-08,&quot;BP_0_3&quot;:1.39345059501556e-14,&quot;BP_1_0&quot;:4.57268073262128e-11,&quot;BP_1_1&quot;:8.58826906274604e-08,&quot;BP_1_2&quot;:3.1957283547326e-14,&quot;BP_2_0&quot;:5.81355675543603e-08,&quot;BP_2_1&quot;:3.88109557137718e-14,&quot;BP_3_0&quot;:2.02764544513565e-14,&quot;NAXIS1&quot;:4072,&quot;NAXIS2&quot;:4000}</td><td>LSSTComCam/runs/DRP/20241101_20241211/w_2024_50/DM-48128</td><td>goodSeeingDiff_differenceExp</td><td>-70.7494170285165</td><td>-30.2446389756252</td><td>2662.99616375123</td><td>nan</td><td>nan</td><td>0.0</td><td>38.868600010072</td><td>7.813696644231484</td><td>38.71563214256688</td><td>7.779841374925835</td><td>38.90543911578168</td><td>7.6627437669047485</td><td>38.83168644184763</td><td>7.964791198200304</td><td>39.021570694218475</td><td>7.847531132683171</td></tr>\n",
       "<tr><td>21897e71-4baf-4963-8603-84c114bf721f</td><td>2024112700094</td><td>5</td><td>i</td><td>i_06</td><td>30.0</td><td>60642.05741823491</td><td>60642.05759763306</td><td>Rubin_SV_38_7</td><td>38.34906968406</td><td>7.11164721216522</td><td>1.36160460851379</td><td>3.5456082514429e-11</td><td>38.57588477842692</td><td>7.033608637374655</td><td>38.53254541115733</td><td>7.186427264479839</td><td>38.42116405255028</td><td>6.993323323999398</td><td>38.619226423919365</td><td>6.880714787506427</td><td>38.73070910506016</td><td>7.073824651963156</td><td>2.253780759799841</td><td>78.4204837508937</td><td>86</td><td>31.75700471831124</td><td>1909.8887593746185</td><td>45.7803017284349</td><td>2086.8041222775983</td><td>CC_O_20241127_000094</td><td>{&quot;WCSAXES&quot;:2,&quot;CRPIX1&quot;:2056.233908,&quot;CRPIX2&quot;:1972.736501,&quot;PC1_1&quot;:4.8286636918788e-05,&quot;PC1_2&quot;:-2.7648773333623e-05,&quot;PC2_1&quot;:-2.7653938003475e-05,&quot;PC2_2&quot;:-4.8276762653416e-05,&quot;CDELT1&quot;:1.0,&quot;CDELT2&quot;:1.0,&quot;CUNIT1&quot;:&quot;deg&quot;,&quot;CUNIT2&quot;:&quot;deg&quot;,&quot;CTYPE1&quot;:&quot;RA---TAN-SIP&quot;,&quot;CTYPE2&quot;:&quot;DEC--TAN-SIP&quot;,&quot;CRVAL1&quot;:38.577607933188,&quot;CRVAL2&quot;:7.034441218216,&quot;LONPOLE&quot;:180.0,&quot;LATPOLE&quot;:7.034441218216,&quot;MJDREF&quot;:0.0,&quot;RADESYS&quot;:&quot;ICRS&quot;,&quot;A_ORDER&quot;:2,&quot;A_0_2&quot;:3.58929955250489e-08,&quot;A_1_1&quot;:-1.4722527693626e-08,&quot;A_2_0&quot;:1.14097384592582e-07,&quot;B_ORDER&quot;:2,&quot;B_0_2&quot;:3.70649646391907e-09,&quot;B_1_1&quot;:7.55142644211032e-08,&quot;B_2_0&quot;:2.33340370318513e-08,&quot;AP_ORDER&quot;:3,&quot;AP_0_0&quot;:5.60343556971887e-08,&quot;AP_0_1&quot;:1.14252672661622e-12,&quot;AP_0_2&quot;:-3.5893009730989e-08,&quot;AP_0_3&quot;:-2.6241713040059e-16,&quot;AP_1_0&quot;:-2.0649038035003e-12,&quot;AP_1_1&quot;:1.47225350643992e-08,&quot;AP_1_2&quot;:1.37738635955456e-14,&quot;AP_2_0&quot;:-1.1409743819884e-07,&quot;AP_2_1&quot;:-4.4765676313669e-15,&quot;AP_3_0&quot;:2.56934382483429e-14,&quot;BP_ORDER&quot;:3,&quot;BP_0_0&quot;:1.26746988411869e-08,&quot;BP_0_1&quot;:-1.8474111129762e-13,&quot;BP_0_2&quot;:-3.7064983986449e-09,&quot;BP_0_3&quot;:2.7379273112392e-15,&quot;BP_1_0&quot;:1.99063496293505e-13,&quot;BP_1_1&quot;:-7.5514283816519e-08,&quot;BP_1_2&quot;:1.4028486245195e-15,&quot;BP_2_0&quot;:-2.3334051719934e-08,&quot;BP_2_1&quot;:1.3804407680567e-14,&quot;BP_3_0&quot;:7.0867909002734e-15,&quot;NAXIS1&quot;:4072,&quot;NAXIS2&quot;:4000}</td><td>LSSTComCam/runs/DRP/20241101_20241211/w_2024_50/DM-48128</td><td>goodSeeingDiff_differenceExp</td><td>-70.7494170285165</td><td>-30.2446389756252</td><td>2662.99616375123</td><td>nan</td><td>nan</td><td>0.0</td><td>39.16231214496562</td><td>7.405263879364183</td><td>39.01082666940562</td><td>7.366056341704885</td><td>39.204535487673546</td><td>7.255695730332457</td><td>39.1200953529266</td><td>7.5547581755997495</td><td>39.313894347651456</td><td>7.444402258254849</td></tr>\n",
       "<tr><td>07c23c21-8f4e-4697-87b9-03650c061567</td><td>2024112300237</td><td>8</td><td>i</td><td>i_06</td><td>30.0</td><td>60638.13936012146</td><td>60638.13953951961</td><td>Rubin_SV_38_7</td><td>37.5457850027496</td><td>6.56476568271605</td><td>1.25444070336324</td><td>-1.0889067425523535e-12</td><td>37.76893311667627</td><td>6.325065638784457</td><td>37.660524398368224</td><td>6.441754904657968</td><td>37.649679298490646</td><td>6.219421672335638</td><td>37.87740125647897</td><td>6.208221708739619</td><td>37.88829260906622</td><td>6.4306585550292645</td><td>2.3829126181021976</td><td>88.64275011680432</td><td>78</td><td>31.74250653462344</td><td>1979.4350548386574</td><td>46.87705920216092</td><td>2177.08508708285</td><td>CC_O_20241123_000237</td><td>{&quot;WCSAXES&quot;:2,&quot;CRPIX1&quot;:1847.110846,&quot;CRPIX2&quot;:2210.413414,&quot;PC1_1&quot;:5.5587056270985e-05,&quot;PC1_2&quot;:-2.6988455094395e-06,&quot;PC2_1&quot;:-2.7367453511141e-06,&quot;PC2_2&quot;:-5.5597927082374e-05,&quot;CDELT1&quot;:1.0,&quot;CDELT2&quot;:1.0,&quot;CUNIT1&quot;:&quot;deg&quot;,&quot;CUNIT2&quot;:&quot;deg&quot;,&quot;CTYPE1&quot;:&quot;RA---TAN-SIP&quot;,&quot;CTYPE2&quot;:&quot;DEC--TAN-SIP&quot;,&quot;CRVAL1&quot;:37.757744198412,&quot;CRVAL2&quot;:6.3139426174005,&quot;LONPOLE&quot;:180.0,&quot;LATPOLE&quot;:6.3139426174005,&quot;MJDREF&quot;:0.0,&quot;RADESYS&quot;:&quot;ICRS&quot;,&quot;A_ORDER&quot;:2,&quot;A_0_2&quot;:5.17141349884112e-08,&quot;A_1_1&quot;:6.19937063183696e-08,&quot;A_2_0&quot;:1.36340244847232e-07,&quot;B_ORDER&quot;:2,&quot;B_0_2&quot;:1.13071943984562e-07,&quot;B_1_1&quot;:1.16758867423428e-07,&quot;B_2_0&quot;:5.08011641304671e-08,&quot;AP_ORDER&quot;:3,&quot;AP_0_0&quot;:1.77896397267687e-07,&quot;AP_0_1&quot;:2.10333847804145e-12,&quot;AP_0_2&quot;:-5.1714218115711e-08,&quot;AP_0_3&quot;:1.49011347378203e-14,&quot;AP_1_0&quot;:3.53239659744986e-11,&quot;AP_1_1&quot;:-6.1993850663589e-08,&quot;AP_1_2&quot;:3.7028095864384e-14,&quot;AP_2_0&quot;:-1.3634037722044e-07,&quot;AP_2_1&quot;:3.7843852501945e-14,&quot;AP_3_0&quot;:4.03165301734151e-14,&quot;BP_ORDER&quot;:3,&quot;BP_0_0&quot;:2.03705654796583e-07,&quot;BP_0_1&quot;:-4.6427306443774e-12,&quot;BP_0_2&quot;:-1.1307206942123e-07,&quot;BP_0_3&quot;:3.16110310421869e-14,&quot;BP_1_0&quot;:1.72650837224134e-11,&quot;BP_1_1&quot;:-1.1675905220154e-07,&quot;BP_1_2&quot;:5.20992604543977e-14,&quot;BP_2_0&quot;:-5.0801275948202e-08,&quot;BP_2_1&quot;:4.73346558353316e-14,&quot;BP_3_0&quot;:1.97804584407254e-14,&quot;NAXIS1&quot;:4072,&quot;NAXIS2&quot;:4000}</td><td>LSSTComCam/runs/DRP/20241101_20241211/w_2024_50/DM-48128</td><td>goodSeeingDiff_differenceExp</td><td>-70.7494170285165</td><td>-30.2446389756252</td><td>2662.99616375123</td><td>nan</td><td>nan</td><td>0.0</td><td>38.28422480183196</td><td>6.69108499672138</td><td>38.16747486764067</td><td>6.587946209216553</td><td>38.390195886370975</td><td>6.576784359085069</td><td>38.17831305122229</td><td>6.805237213122723</td><td>38.401076414306914</td><td>6.7941693093083275</td></tr>\n",
       "<tr><td>e06b3305-6aea-44f2-94df-6c6145572d5b</td><td>2024112800163</td><td>0</td><td>r</td><td>r_03</td><td>30.0</td><td>60643.08275868051</td><td>60643.08293807866</td><td>Rubin_SV_38_7</td><td>38.2978368922116</td><td>7.23326955818608</td><td>1.2884912277318</td><td>2.1650237158610253e-11</td><td>38.13445048637076</td><td>7.561930789618916</td><td>38.05215435725494</td><td>7.69837427292368</td><td>37.99552770993361</td><td>7.482872433512457</td><td>38.21659762838846</td><td>7.425583972640443</td><td>38.273377983205386</td><td>7.640931940335573</td><td>2.2270640322840016</td><td>79.37862091372313</td><td>64</td><td>31.94665078116622</td><td>1157.8894167989492</td><td>36.31538284255398</td><td>1302.8656454354248</td><td>CC_O_20241128_000163</td><td>{&quot;WCSAXES&quot;:2,&quot;CRPIX1&quot;:1936.684895,&quot;CRPIX2&quot;:2031.393942,&quot;PC1_1&quot;:5.3837930123158e-05,&quot;PC1_2&quot;:-1.4051856055256e-05,&quot;PC2_1&quot;:-1.4087580499181e-05,&quot;PC2_2&quot;:-5.3857214631245e-05,&quot;CDELT1&quot;:1.0,&quot;CDELT2&quot;:1.0,&quot;CUNIT1&quot;:&quot;deg&quot;,&quot;CUNIT2&quot;:&quot;deg&quot;,&quot;CTYPE1&quot;:&quot;RA---TAN-SIP&quot;,&quot;CTYPE2&quot;:&quot;DEC--TAN-SIP&quot;,&quot;CRVAL1&quot;:38.128571551308,&quot;CRVAL2&quot;:7.5617070772103,&quot;LONPOLE&quot;:180.0,&quot;LATPOLE&quot;:7.5617070772103,&quot;MJDREF&quot;:0.0,&quot;RADESYS&quot;:&quot;ICRS&quot;,&quot;A_ORDER&quot;:2,&quot;A_0_2&quot;:-7.9642220368962e-08,&quot;A_1_1&quot;:-8.8757506633287e-08,&quot;A_2_0&quot;:-9.8916294042145e-08,&quot;B_ORDER&quot;:2,&quot;B_0_2&quot;:-2.2912853744222e-08,&quot;B_1_1&quot;:-1.1955711361793e-07,&quot;B_2_0&quot;:-4.2548652670642e-08,&quot;AP_ORDER&quot;:3,&quot;AP_0_0&quot;:-1.0855836310886e-07,&quot;AP_0_1&quot;:-6.4562226115421e-12,&quot;AP_0_2&quot;:7.96422892924332e-08,&quot;AP_0_3&quot;:1.07195417295996e-14,&quot;AP_1_0&quot;:-1.433342333712e-11,&quot;AP_1_1&quot;:8.87576195830616e-08,&quot;AP_1_2&quot;:4.47156151837768e-14,&quot;AP_2_0&quot;:9.89163697070297e-08,&quot;AP_2_1&quot;:4.37327849871482e-14,&quot;AP_3_0&quot;:2.33482891239121e-14,&quot;BP_ORDER&quot;:3,&quot;BP_0_0&quot;:-7.096693634736e-08,&quot;BP_0_1&quot;:-5.4750648459389e-12,&quot;BP_0_2&quot;:2.29128993368865e-08,&quot;BP_0_3&quot;:1.05727238930929e-14,&quot;BP_1_0&quot;:-8.4181322939145e-12,&quot;BP_1_1&quot;:1.19557196125629e-07,&quot;BP_1_2&quot;:2.56098072751058e-14,&quot;BP_2_0&quot;:4.25487013083024e-08,&quot;BP_2_1&quot;:3.56267824016212e-14,&quot;BP_3_0&quot;:1.35061843471049e-14,&quot;NAXIS1&quot;:4072,&quot;NAXIS2&quot;:4000}</td><td>LSSTComCam/runs/DRP/20241101_20241211/w_2024_50/DM-48128</td><td>goodSeeingDiff_differenceExp</td><td>-70.7494170285165</td><td>-30.2446389756252</td><td>2662.99616375123</td><td>nan</td><td>nan</td><td>0.0</td><td>38.753522390172805</td><td>7.928226379876657</td><td>38.617395798194224</td><td>7.851086288020668</td><td>38.83374722165162</td><td>7.794748671332433</td><td>38.673155180878986</td><td>8.061801145883354</td><td>38.88964994784289</td><td>8.005306739494369</td></tr>\n",
       "<tr><td>...</td><td>...</td><td>...</td><td>...</td><td>...</td><td>...</td><td>...</td><td>...</td><td>...</td><td>...</td><td>...</td><td>...</td><td>...</td><td>...</td><td>...</td><td>...</td><td>...</td><td>...</td><td>...</td><td>...</td><td>...</td><td>...</td><td>...</td><td>...</td><td>...</td><td>...</td><td>...</td><td>...</td><td>...</td><td>...</td><td>...</td><td>...</td><td>...</td><td>...</td><td>...</td><td>...</td><td>...</td><td>...</td><td>...</td><td>...</td><td>...</td><td>...</td><td>...</td><td>...</td><td>...</td><td>...</td><td>...</td><td>...</td><td>...</td><td>...</td></tr>\n",
       "<tr><td>ed97bccd-4587-4d2a-88d9-91d3226de7c3</td><td>2024120700161</td><td>2</td><td>z</td><td>z_03</td><td>30.0</td><td>60652.08606876728</td><td>60652.08624816543</td><td>Rubin_SV_38_7</td><td>37.5805789675213</td><td>7.27416321521728</td><td>1.26207217215039</td><td>2.828670631060959e-11</td><td>37.82453110533512</td><td>7.533945356902749</td><td>37.716071141021075</td><td>7.6507335356115265</td><td>37.70482735098214</td><td>7.42848278918714</td><td>37.93296578538891</td><td>7.41715780869813</td><td>37.94440901728864</td><td>7.639456306711515</td><td>2.6584756964693947</td><td>113.24504383178628</td><td>83</td><td>31.346066419202007</td><td>3871.299995839596</td><td>62.816848203631245</td><td>3980.744254791636</td><td>CC_O_20241207_000161</td><td>{&quot;WCSAXES&quot;:2,&quot;CRPIX1&quot;:1765.193202,&quot;CRPIX2&quot;:2098.576051,&quot;PC1_1&quot;:5.5562483045429e-05,&quot;PC1_2&quot;:-2.8077286730969e-06,&quot;PC2_1&quot;:-2.7748545718965e-06,&quot;PC2_2&quot;:-5.5567161078055e-05,&quot;CDELT1&quot;:1.0,&quot;CDELT2&quot;:1.0,&quot;CUNIT1&quot;:&quot;deg&quot;,&quot;CUNIT2&quot;:&quot;deg&quot;,&quot;CTYPE1&quot;:&quot;RA---TAN-SIP&quot;,&quot;CTYPE2&quot;:&quot;DEC--TAN-SIP&quot;,&quot;CRVAL1&quot;:37.809020291387,&quot;CRVAL2&quot;:7.5292775384989,&quot;LONPOLE&quot;:180.0,&quot;LATPOLE&quot;:7.5292775384989,&quot;MJDREF&quot;:0.0,&quot;RADESYS&quot;:&quot;ICRS&quot;,&quot;A_ORDER&quot;:2,&quot;A_0_2&quot;:2.65572897866607e-08,&quot;A_1_1&quot;:-8.739646484954e-08,&quot;A_2_0&quot;:1.28641568066137e-07,&quot;B_ORDER&quot;:2,&quot;B_0_2&quot;:-8.2565862490011e-08,&quot;B_1_1&quot;:6.38693293447087e-08,&quot;B_2_0&quot;:-4.5600084382641e-08,&quot;AP_ORDER&quot;:3,&quot;AP_0_0&quot;:1.08122830587246e-07,&quot;AP_0_1&quot;:-4.4678545487761e-11,&quot;AP_0_2&quot;:-2.6557332830643e-08,&quot;AP_0_3&quot;:-6.7029274322666e-15,&quot;AP_1_0&quot;:7.42539363329797e-11,&quot;AP_1_1&quot;:8.73965652984336e-08,&quot;AP_1_2&quot;:2.50655616458851e-14,&quot;AP_2_0&quot;:-1.286416650764e-07,&quot;AP_2_1&quot;:-4.1709175320475e-14,&quot;AP_3_0&quot;:3.70643813872523e-14,&quot;BP_ORDER&quot;:3,&quot;BP_0_0&quot;:-7.7474698825623e-08,&quot;BP_0_1&quot;:3.7449154888236e-11,&quot;BP_0_2&quot;:8.25659070539626e-08,&quot;BP_0_3&quot;:1.53253994928408e-14,&quot;BP_1_0&quot;:-4.3628188031242e-11,&quot;BP_1_1&quot;:-6.3869401854264e-08,&quot;BP_1_2&quot;:-2.3812130527183e-14,&quot;BP_2_0&quot;:4.56001369795032e-08,&quot;BP_2_1&quot;:2.77810344832494e-14,&quot;BP_3_0&quot;:-1.4636311714612e-14,&quot;NAXIS1&quot;:4072,&quot;NAXIS2&quot;:4000}</td><td>LSSTComCam/runs/DRP/20241101_20241211/w_2024_50/DM-48128</td><td>goodSeeingDiff_differenceExp</td><td>-70.7494170285165</td><td>-30.2446389756252</td><td>2662.99616375123</td><td>nan</td><td>nan</td><td>0.0</td><td>38.6378930861537</td><td>7.9464418284567655</td><td>38.520206729865784</td><td>7.843259945821426</td><td>38.74408770386108</td><td>7.831750072937292</td><td>38.53167526364504</td><td>8.061139061598745</td><td>38.755748514511986</td><td>8.049663991759283</td></tr>\n",
       "<tr><td>ef2925b4-59f1-450a-b4d5-85ba8f6c2a2d</td><td>2024112700086</td><td>1</td><td>g</td><td>g_01</td><td>30.0</td><td>60642.052466226734</td><td>60642.052645624884</td><td>Rubin_SV_38_7</td><td>38.3897569449735</td><td>7.13182907460311</td><td>1.3815856456879</td><td>1.0116352200384426e-12</td><td>38.52961838887951</td><td>7.374093725675179</td><td>38.48638116605836</td><td>7.527064335440368</td><td>38.374715694147945</td><td>7.333872507581101</td><td>38.57282954795724</td><td>7.221183299071465</td><td>38.68461397824107</td><td>7.41428277572645</td><td>2.6623757887771164</td><td>107.65722297666849</td><td>55</td><td>32.00288434237316</td><td>672.5375379696488</td><td>25.980258738882892</td><td>735.5983111385224</td><td>CC_O_20241127_000086</td><td>{&quot;WCSAXES&quot;:2,&quot;CRPIX1&quot;:2050.350053,&quot;CRPIX2&quot;:1963.420087,&quot;PC1_1&quot;:4.826496995344e-05,&quot;PC1_2&quot;:-2.7700762243523e-05,&quot;PC2_1&quot;:-2.7685836068192e-05,&quot;PC2_2&quot;:-4.8286777129629e-05,&quot;CDELT1&quot;:1.0,&quot;CDELT2&quot;:1.0,&quot;CUNIT1&quot;:&quot;deg&quot;,&quot;CUNIT2&quot;:&quot;deg&quot;,&quot;CTYPE1&quot;:&quot;RA---TAN-SIP&quot;,&quot;CTYPE2&quot;:&quot;DEC--TAN-SIP&quot;,&quot;CRVAL1&quot;:38.531317770065,&quot;CRVAL2&quot;:7.3755387288233,&quot;LONPOLE&quot;:180.0,&quot;LATPOLE&quot;:7.3755387288233,&quot;MJDREF&quot;:0.0,&quot;RADESYS&quot;:&quot;ICRS&quot;,&quot;A_ORDER&quot;:2,&quot;A_0_2&quot;:5.91320977808807e-10,&quot;A_1_1&quot;:-8.1517635875643e-08,&quot;A_2_0&quot;:1.7218560978345e-08,&quot;B_ORDER&quot;:2,&quot;B_0_2&quot;:-1.0008460628501e-07,&quot;B_1_1&quot;:-8.1351849945813e-09,&quot;B_2_0&quot;:-2.0388944116684e-08,&quot;AP_ORDER&quot;:3,&quot;AP_0_0&quot;:4.07620352832903e-09,&quot;AP_0_1&quot;:-2.5735421837253e-13,&quot;AP_0_2&quot;:-5.9132281468332e-10,&quot;AP_0_3&quot;:-1.6647766474322e-16,&quot;AP_1_0&quot;:-1.1453060722033e-12,&quot;AP_1_1&quot;:8.15176535191028e-08,&quot;AP_1_2&quot;:1.48152556305431e-14,&quot;AP_2_0&quot;:-1.7218563455505e-08,&quot;AP_2_1&quot;:-3.5718171360202e-15,&quot;AP_3_0&quot;:2.25507646840028e-15,&quot;BP_ORDER&quot;:3,&quot;BP_0_0&quot;:-2.9820815225849e-08,&quot;BP_0_1&quot;:-4.9603654517227e-12,&quot;BP_0_2&quot;:1.00084639282337e-07,&quot;BP_0_3&quot;:2.00305529340589e-14,&quot;BP_1_0&quot;:-6.5210692376628e-13,&quot;BP_1_1&quot;:8.13518868135205e-09,&quot;BP_1_2&quot;:3.08207054136608e-15,&quot;BP_2_0&quot;:2.03889505156604e-08,&quot;BP_2_1&quot;:7.33182772392921e-15,&quot;BP_3_0&quot;:-5.3626672279516e-16,&quot;NAXIS1&quot;:4072,&quot;NAXIS2&quot;:4000}</td><td>LSSTComCam/runs/DRP/20241101_20241211/w_2024_50/DM-48128</td><td>goodSeeingDiff_differenceExp</td><td>-70.7494170285165</td><td>-30.2446389756252</td><td>2662.99616375123</td><td>nan</td><td>nan</td><td>0.0</td><td>39.117373537266</td><td>7.738249831973499</td><td>38.96570897783988</td><td>7.699115846785703</td><td>39.15945924883529</td><td>7.588667831743276</td><td>39.07526687202349</td><td>7.887890477692306</td><td>39.26912434527853</td><td>7.777351032927283</td></tr>\n",
       "<tr><td>28295d06-e864-4fe0-a77b-659c0beb029f</td><td>2024112600118</td><td>8</td><td>g</td><td>g_01</td><td>30.0</td><td>60641.06222083327</td><td>60641.06240023142</td><td>Rubin_SV_38_7</td><td>37.9896620993891</td><td>6.39434728835538</td><td>1.33726843496585</td><td>2.290612144406623e-12</td><td>38.08423304090252</td><td>6.111128107595856</td><td>38.046399924420164</td><td>6.2654670955226175</td><td>37.92840374717826</td><td>6.076210644909245</td><td>38.12206823623572</td><td>5.956639944630255</td><td>38.24007123295624</td><td>6.145915709759855</td><td>2.2426256171421235</td><td>75.27787875504747</td><td>71</td><td>32.02138194677521</td><td>644.3615844845772</td><td>28.25694407835196</td><td>793.8518546835721</td><td>CC_O_20241126_000118</td><td>{&quot;WCSAXES&quot;:2,&quot;CRPIX1&quot;:2048.296522,&quot;CRPIX2&quot;:1976.091277,&quot;PC1_1&quot;:4.7290686210663e-05,&quot;PC1_2&quot;:-2.9332237434096e-05,&quot;PC2_1&quot;:-2.9361942052191e-05,&quot;PC2_2&quot;:-4.7316159724201e-05,&quot;CDELT1&quot;:1.0,&quot;CDELT2&quot;:1.0,&quot;CUNIT1&quot;:&quot;deg&quot;,&quot;CUNIT2&quot;:&quot;deg&quot;,&quot;CTYPE1&quot;:&quot;RA---TAN-SIP&quot;,&quot;CTYPE2&quot;:&quot;DEC--TAN-SIP&quot;,&quot;CRVAL1&quot;:38.085505121172,&quot;CRVAL2&quot;:6.1119750118423,&quot;LONPOLE&quot;:180.0,&quot;LATPOLE&quot;:6.1119750118423,&quot;MJDREF&quot;:0.0,&quot;RADESYS&quot;:&quot;ICRS&quot;,&quot;A_ORDER&quot;:2,&quot;A_0_2&quot;:2.80220868166071e-08,&quot;A_1_1&quot;:6.86981081954746e-08,&quot;A_2_0&quot;:1.16575488070029e-07,&quot;B_ORDER&quot;:2,&quot;B_0_2&quot;:1.84199458327326e-07,&quot;B_1_1&quot;:3.72180815349292e-08,&quot;B_2_0&quot;:2.82595045388641e-08,&quot;AP_ORDER&quot;:3,&quot;AP_0_0&quot;:1.11394492501161e-07,&quot;AP_0_1&quot;:2.80937619452932e-12,&quot;AP_0_2&quot;:-2.8022148202799e-08,&quot;AP_0_3&quot;:1.22479290433136e-14,&quot;AP_1_0&quot;:3.53073126291292e-12,&quot;AP_1_1&quot;:-6.8698202194269e-08,&quot;AP_1_2&quot;:2.5991992509338e-14,&quot;AP_2_0&quot;:-1.1657556685453e-07,&quot;AP_2_1&quot;:2.81652478158928e-14,&quot;AP_3_0&quot;:2.91203544817248e-14,&quot;BP_ORDER&quot;:3,&quot;BP_0_0&quot;:1.61730399405163e-07,&quot;BP_0_1&quot;:5.37103694853158e-12,&quot;BP_0_2&quot;:-1.8419964910314e-07,&quot;BP_0_3&quot;:6.89002541887726e-14,&quot;BP_1_0&quot;:2.27584717991981e-12,&quot;BP_1_1&quot;:-3.7218167818488e-08,&quot;BP_1_2&quot;:2.47062957334754e-14,&quot;BP_2_0&quot;:-2.8259546704574e-08,&quot;BP_2_1&quot;:2.00167894435893e-14,&quot;BP_3_0&quot;:7.64025821354263e-15,&quot;NAXIS1&quot;:4072,&quot;NAXIS2&quot;:4000}</td><td>LSSTComCam/runs/DRP/20241101_20241211/w_2024_50/DM-48128</td><td>goodSeeingDiff_differenceExp</td><td>-70.7494170285165</td><td>-30.2446389756252</td><td>2662.99616375123</td><td>nan</td><td>nan</td><td>0.0</td><td>38.657956632278946</td><td>6.498242899743883</td><td>38.50541354469302</td><td>6.464258435589066</td><td>38.69481378519045</td><td>6.347130731339448</td><td>38.62110567214446</td><td>6.649208401200609</td><td>38.810503797440276</td><td>6.532099328055925</td></tr>\n",
       "<tr><td>e8b38560-a3b1-48cc-83ca-2f49642e57cf</td><td>2024112600103</td><td>0</td><td>r</td><td>r_03</td><td>30.0</td><td>60641.04732438068</td><td>60641.04750377883</td><td>Rubin_SV_38_7</td><td>38.3540376396609</td><td>7.0938467682762</td><td>1.41509653837333</td><td>2.9885427466069814e-11</td><td>38.29921562185659</td><td>7.455479533657091</td><td>38.261281965592296</td><td>7.609979188941557</td><td>38.14295339453655</td><td>7.420665304223018</td><td>38.33707364405541</td><td>7.301148792643474</td><td>38.455491763529174</td><td>7.490293055777829</td><td>2.3386375570629596</td><td>83.99425043030939</td><td>74</td><td>31.940423252358077</td><td>1262.3308667838573</td><td>37.91578391589078</td><td>1408.818663244838</td><td>CC_O_20241126_000103</td><td>{&quot;WCSAXES&quot;:2,&quot;CRPIX1&quot;:2208.075415,&quot;CRPIX2&quot;:1914.030686,&quot;PC1_1&quot;:4.7277915819103e-05,&quot;PC1_2&quot;:-2.9344944601432e-05,&quot;PC2_1&quot;:-2.9371407168503e-05,&quot;PC2_2&quot;:-4.730681420366e-05,&quot;CDELT1&quot;:1.0,&quot;CDELT2&quot;:1.0,&quot;CUNIT1&quot;:&quot;deg&quot;,&quot;CUNIT2&quot;:&quot;deg&quot;,&quot;CTYPE1&quot;:&quot;RA---TAN-SIP&quot;,&quot;CTYPE2&quot;:&quot;DEC--TAN-SIP&quot;,&quot;CRVAL1&quot;:38.309946629049,&quot;CRVAL2&quot;:7.4545690489263,&quot;LONPOLE&quot;:180.0,&quot;LATPOLE&quot;:7.4545690489263,&quot;MJDREF&quot;:0.0,&quot;RADESYS&quot;:&quot;ICRS&quot;,&quot;A_ORDER&quot;:2,&quot;A_0_2&quot;:-6.113048073831e-08,&quot;A_1_1&quot;:-1.0382273977493e-07,&quot;A_2_0&quot;:-1.2504381786231e-07,&quot;B_ORDER&quot;:2,&quot;B_0_2&quot;:-1.2769212620886e-07,&quot;B_1_1&quot;:-8.8807233506827e-08,&quot;B_2_0&quot;:-5.100685547171e-08,&quot;AP_ORDER&quot;:3,&quot;AP_0_0&quot;:-2.5253425336318e-07,&quot;AP_0_1&quot;:3.84984560368614e-11,&quot;AP_0_2&quot;:6.11306116869269e-08,&quot;AP_0_3&quot;:2.19539471027472e-14,&quot;AP_1_0&quot;:5.46211964547183e-11,&quot;AP_1_1&quot;:1.03822954198312e-07,&quot;AP_1_2&quot;:5.01694283252509e-14,&quot;AP_2_0&quot;:1.25043970403884e-07,&quot;AP_2_1&quot;:5.4387969676763e-14,&quot;AP_3_0&quot;:3.65579188562182e-14,&quot;BP_ORDER&quot;:3,&quot;BP_0_0&quot;:-2.2292279267103e-07,&quot;BP_0_1&quot;:3.38054029214163e-11,&quot;BP_0_2&quot;:1.27692275425532e-07,&quot;BP_0_3&quot;:3.80344097590714e-14,&quot;BP_1_0&quot;:3.7567699737344e-11,&quot;BP_1_1&quot;:8.8807421516432e-08,&quot;BP_1_2&quot;:4.94650874948974e-14,&quot;BP_2_0&quot;:5.10069604518466e-08,&quot;BP_2_1&quot;:4.25981318464839e-14,&quot;BP_3_0&quot;:1.72810442758637e-14,&quot;NAXIS1&quot;:4072,&quot;NAXIS2&quot;:4000}</td><td>LSSTComCam/runs/DRP/20241101_20241211/w_2024_50/DM-48128</td><td>goodSeeingDiff_differenceExp</td><td>-70.7494170285165</td><td>-30.2446389756252</td><td>2662.99616375123</td><td>nan</td><td>nan</td><td>0.0</td><td>38.86965412662598</td><td>7.812411603544231</td><td>38.71669582121075</td><td>7.778569072243387</td><td>38.906495976481274</td><td>7.661474886795483</td><td>38.8327429413535</td><td>7.9635129850699045</td><td>39.02262146735628</td><td>7.846252632666763</td></tr>\n",
       "<tr><td>9789c068-99b8-4c46-b4b9-9d9540b8fcde</td><td>2024112300231</td><td>6</td><td>i</td><td>i_06</td><td>30.0</td><td>60638.13571601856</td><td>60638.13589541671</td><td>Rubin_SV_38_7</td><td>37.5210171366227</td><td>7.351836489124421</td><td>1.26533814722129</td><td>-2.206590465902991e-11</td><td>37.271427217430734</td><td>7.135145746410761</td><td>37.16285841680841</td><td>7.251824567910685</td><td>37.15178356595958</td><td>7.029412822471688</td><td>37.3798808254742</td><td>7.018391056847892</td><td>37.39099635255385</td><td>7.2407128716115245</td><td>2.468997980383343</td><td>85.01720847920298</td><td>79</td><td>31.752225467055695</td><td>1961.882244259119</td><td>46.18832399951152</td><td>2107.7259618868543</td><td>CC_O_20241123_000231</td><td>{&quot;WCSAXES&quot;:2,&quot;CRPIX1&quot;:1805.34491,&quot;CRPIX2&quot;:1909.7358,&quot;PC1_1&quot;:5.5590435744997e-05,&quot;PC1_2&quot;:-2.7510650809029e-06,&quot;PC2_1&quot;:-2.715114984992e-06,&quot;PC2_2&quot;:-5.5591683737636e-05,&quot;CDELT1&quot;:1.0,&quot;CDELT2&quot;:1.0,&quot;CUNIT1&quot;:&quot;deg&quot;,&quot;CUNIT2&quot;:&quot;deg&quot;,&quot;CTYPE1&quot;:&quot;RA---TAN-SIP&quot;,&quot;CTYPE2&quot;:&quot;DEC--TAN-SIP&quot;,&quot;CRVAL1&quot;:37.258702287151,&quot;CRVAL2&quot;:7.1408485638733,&quot;LONPOLE&quot;:180.0,&quot;LATPOLE&quot;:7.1408485638733,&quot;MJDREF&quot;:0.0,&quot;RADESYS&quot;:&quot;ICRS&quot;,&quot;A_ORDER&quot;:2,&quot;A_0_2&quot;:-6.4025614985174e-08,&quot;A_1_1&quot;:7.18725415752738e-08,&quot;A_2_0&quot;:-1.3164836149417e-07,&quot;B_ORDER&quot;:2,&quot;B_0_2&quot;:1.47564353229538e-07,&quot;B_1_1&quot;:-9.65967169188e-08,&quot;B_2_0&quot;:6.84689473714112e-08,&quot;AP_ORDER&quot;:3,&quot;AP_0_0&quot;:-2.5517281142771e-07,&quot;AP_0_1&quot;:5.77273944086974e-13,&quot;AP_0_2&quot;:6.40257474325433e-08,&quot;AP_0_3&quot;:-2.3496528432102e-14,&quot;AP_1_0&quot;:-2.3831714379696e-11,&quot;AP_1_1&quot;:-7.1872742302833e-08,&quot;AP_1_2&quot;:4.50001472860083e-14,&quot;AP_2_0&quot;:1.31648519868493e-07,&quot;AP_2_1&quot;:-4.4100072398589e-14,&quot;AP_3_0&quot;:3.95896387955293e-14,&quot;BP_ORDER&quot;:3,&quot;BP_0_0&quot;:3.15026269459561e-07,&quot;BP_0_1&quot;:8.42814706913941e-12,&quot;BP_0_2&quot;:-1.4756456258004e-07,&quot;BP_0_3&quot;:4.9731348616218e-14,&quot;BP_1_0&quot;:1.57130284187394e-11,&quot;BP_1_1&quot;:9.65969680679369e-08,&quot;BP_1_2&quot;:-5.8473024737623e-14,&quot;BP_2_0&quot;:-6.8469096112875e-08,&quot;BP_2_1&quot;:5.21000880246572e-14,&quot;BP_3_0&quot;:-2.4644662947101e-14,&quot;NAXIS1&quot;:4072,&quot;NAXIS2&quot;:4000}</td><td>LSSTComCam/runs/DRP/20241101_20241211/w_2024_50/DM-48128</td><td>goodSeeingDiff_differenceExp</td><td>-70.7494170285165</td><td>-30.2446389756252</td><td>2662.99616375123</td><td>nan</td><td>nan</td><td>0.0</td><td>37.79842566047147</td><td>7.483305763317132</td><td>37.68127363474488</td><td>7.380099193015583</td><td>37.904369591832584</td><td>7.369078186667838</td><td>37.69237048976437</td><td>7.597462326080371</td><td>37.915502832278776</td><td>7.586345946183846</td></tr>\n",
       "<tr><td>76773f30-3cc8-485c-9fd0-b8f7da63a10f</td><td>2024112700102</td><td>6</td><td>r</td><td>r_03</td><td>30.0</td><td>60642.06210928825</td><td>60642.0622886864</td><td>Rubin_SV_38_7</td><td>38.3489429272548</td><td>7.11173017738429</td><td>1.34525503292986</td><td>8.077982727172639e-12</td><td>38.0457390256769</td><td>7.064097067197673</td><td>38.00226669576767</td><td>7.216964025897314</td><td>37.8907767330876</td><td>7.0236258803562395</td><td>38.08911684587918</td><td>6.91120441785172</td><td>38.20056285133697</td><td>7.10445767515858</td><td>2.6680446148124233</td><td>107.11370349175854</td><td>75</td><td>31.940429072613025</td><td>1109.454522639513</td><td>35.83091777074524</td><td>1274.4455051129883</td><td>CC_O_20241127_000102</td><td>{&quot;WCSAXES&quot;:2,&quot;CRPIX1&quot;:2198.427083,&quot;CRPIX2&quot;:2038.948974,&quot;PC1_1&quot;:4.8330573528582e-05,&quot;PC1_2&quot;:-2.7655757826998e-05,&quot;PC2_1&quot;:-2.7619415996216e-05,&quot;PC2_2&quot;:-4.8323691642656e-05,&quot;CDELT1&quot;:1.0,&quot;CDELT2&quot;:1.0,&quot;CUNIT1&quot;:&quot;deg&quot;,&quot;CUNIT2&quot;:&quot;deg&quot;,&quot;CTYPE1&quot;:&quot;RA---TAN-SIP&quot;,&quot;CTYPE2&quot;:&quot;DEC--TAN-SIP&quot;,&quot;CRVAL1&quot;:38.052543207193,&quot;CRVAL2&quot;:7.0578047449791,&quot;LONPOLE&quot;:180.0,&quot;LATPOLE&quot;:7.0578047449791,&quot;MJDREF&quot;:0.0,&quot;RADESYS&quot;:&quot;ICRS&quot;,&quot;A_ORDER&quot;:2,&quot;A_0_2&quot;:-4.8530956823631e-08,&quot;A_1_1&quot;:7.40218400232068e-08,&quot;A_2_0&quot;:-1.2553736894279e-07,&quot;B_ORDER&quot;:2,&quot;B_0_2&quot;:1.39803248989825e-07,&quot;B_1_1&quot;:-9.0503241133122e-08,&quot;B_2_0&quot;:6.47628544405358e-08,&quot;AP_ORDER&quot;:3,&quot;AP_0_0&quot;:-2.168450601235e-07,&quot;AP_0_1&quot;:-2.3066275680276e-11,&quot;AP_0_2&quot;:4.85310586407301e-08,&quot;AP_0_3&quot;:-1.7159276892902e-14,&quot;AP_1_0&quot;:3.43847172956657e-11,&quot;AP_1_1&quot;:-7.4022007649003e-08,&quot;AP_1_2&quot;:3.67901152312851e-14,&quot;AP_2_0&quot;:1.25537506564938e-07,&quot;AP_2_1&quot;:-4.0854126589746e-14,&quot;AP_3_0&quot;:3.63066476104145e-14,&quot;BP_ORDER&quot;:3,&quot;BP_0_0&quot;:2.7305506554597e-07,&quot;BP_0_1&quot;:3.10993453211949e-11,&quot;BP_0_2&quot;:-1.3980342394048e-07,&quot;BP_0_3&quot;:4.34774648839617e-14,&quot;BP_1_0&quot;:-3.3017998210306e-11,&quot;BP_1_1&quot;:9.05034534573164e-08,&quot;BP_1_2&quot;:-5.0933935379637e-14,&quot;BP_2_0&quot;:-6.4762981884581e-08,&quot;BP_2_1&quot;:4.72390857629288e-14,&quot;BP_3_0&quot;:-2.2117064994378e-14,&quot;NAXIS1&quot;:4072,&quot;NAXIS2&quot;:4000}</td><td>LSSTComCam/runs/DRP/20241101_20241211/w_2024_50/DM-48128</td><td>goodSeeingDiff_differenceExp</td><td>-70.7494170285165</td><td>-30.2446389756252</td><td>2662.99616375123</td><td>nan</td><td>nan</td><td>0.0</td><td>38.64355799548569</td><td>7.435758563213299</td><td>38.49181981737856</td><td>7.396370396696036</td><td>38.685816180201776</td><td>7.286176612224608</td><td>38.601211763146615</td><td>7.585315265354883</td><td>38.795155825284105</td><td>7.475037439569251</td></tr>\n",
       "<tr><td>bbd8f955-5e4d-4c7d-9249-00b798904370</td><td>2024112300243</td><td>2</td><td>i</td><td>i_06</td><td>30.0</td><td>60638.1429652258</td><td>60638.14314462395</td><td>Rubin_SV_38_7</td><td>38.1897340246496</td><td>7.361877286505119</td><td>1.26921656788284</td><td>2.5003998871397926e-11</td><td>38.405754129319064</td><td>7.621239615704838</td><td>38.28296287089683</td><td>7.723245074478194</td><td>38.30070212559769</td><td>7.501356866157995</td><td>38.52851935795748</td><td>7.5192343044332</td><td>38.51099491727193</td><td>7.741235328648246</td><td>2.8252040919597965</td><td>122.33677849593485</td><td>63</td><td>31.72267121830795</td><td>2019.5396003425121</td><td>45.93162952399678</td><td>2093.021859462615</td><td>CC_O_20241123_000243</td><td>{&quot;WCSAXES&quot;:2,&quot;CRPIX1&quot;:1843.544861,&quot;CRPIX2&quot;:1948.727422,&quot;PC1_1&quot;:5.5476763403902e-05,&quot;PC1_2&quot;:4.3713165054688e-06,&quot;PC2_1&quot;:4.4047219090182e-06,&quot;PC2_2&quot;:-5.5485779363312e-05,&quot;CDELT1&quot;:1.0,&quot;CDELT2&quot;:1.0,&quot;CUNIT1&quot;:&quot;deg&quot;,&quot;CUNIT2&quot;:&quot;deg&quot;,&quot;CTYPE1&quot;:&quot;RA---TAN-SIP&quot;,&quot;CTYPE2&quot;:&quot;DEC--TAN-SIP&quot;,&quot;CRVAL1&quot;:38.394695469462,&quot;CRVAL2&quot;:7.6232879494261,&quot;LONPOLE&quot;:180.0,&quot;LATPOLE&quot;:7.6232879494261,&quot;MJDREF&quot;:0.0,&quot;RADESYS&quot;:&quot;ICRS&quot;,&quot;A_ORDER&quot;:2,&quot;A_0_2&quot;:6.20912756413829e-08,&quot;A_1_1&quot;:-1.1511473730012e-07,&quot;A_2_0&quot;:1.28836581294864e-07,&quot;B_ORDER&quot;:2,&quot;B_0_2&quot;:-1.305504913257e-07,&quot;B_1_1&quot;:1.05672919947841e-07,&quot;B_2_0&quot;:-4.7120018042895e-08,&quot;AP_ORDER&quot;:3,&quot;AP_0_0&quot;:3.02059727106491e-07,&quot;AP_0_1&quot;:-2.9157371093909e-11,&quot;AP_0_2&quot;:-6.2091429464259e-08,&quot;AP_0_3&quot;:-2.3356561209826e-14,&quot;AP_1_0&quot;:5.11723996510227e-11,&quot;AP_1_1&quot;:1.15114995127871e-07,&quot;AP_1_2&quot;:5.73912022798022e-14,&quot;AP_2_0&quot;:-1.2883675920825e-07,&quot;AP_2_1&quot;:-6.2494938621199e-14,&quot;AP_3_0&quot;:3.86129370143017e-14,&quot;BP_ORDER&quot;:3,&quot;BP_0_0&quot;:-2.7165954509717e-07,&quot;BP_0_1&quot;:2.11095585456178e-11,&quot;BP_0_2&quot;:1.30550667869485e-07,&quot;BP_0_3&quot;:4.06459314028036e-14,&quot;BP_1_0&quot;:-3.2284317518078e-11,&quot;BP_1_1&quot;:-1.0567315133485e-07,&quot;BP_1_2&quot;:-5.9395143631417e-14,&quot;BP_2_0&quot;:4.71201422805981e-08,&quot;BP_2_1&quot;:4.79241277409207e-14,&quot;BP_3_0&quot;:-1.7117025120089e-14,&quot;NAXIS1&quot;:4072,&quot;NAXIS2&quot;:4000}</td><td>LSSTComCam/runs/DRP/20241101_20241211/w_2024_50/DM-48128</td><td>goodSeeingDiff_differenceExp</td><td>-70.7494170285165</td><td>-30.2446389756252</td><td>2662.99616375123</td><td>nan</td><td>nan</td><td>0.0</td><td>38.908566029623884</td><td>7.957105855045503</td><td>38.80568919289592</td><td>7.84008228724627</td><td>39.02849895440147</td><td>7.857297857716539</td><td>38.7886082517755</td><td>8.056917388995743</td><td>39.011626775298154</td><td>8.07423495604364</td></tr>\n",
       "<tr><td>5fa5a174-516c-4b51-a4e1-8a98178e1035</td><td>2024112600111</td><td>6</td><td>g</td><td>g_01</td><td>30.0</td><td>60641.05274174758</td><td>60641.05292114573</td><td>Rubin_SV_38_7</td><td>38.353599082499</td><td>7.09394395921535</td><td>1.39066769560293</td><td>-8.86846152070575e-12</td><td>38.048308222623</td><td>7.057174996375738</td><td>38.01046587237549</td><td>7.211487035980744</td><td>37.89199781749243</td><td>7.02231441160704</td><td>38.086067839374664</td><td>6.902843606494287</td><td>38.20449133363984</td><td>7.09194723887872</td><td>2.4750049190953733</td><td>90.63176988414226</td><td>72</td><td>32.01198212181719</td><td>671.479535639286</td><td>28.381201179340948</td><td>806.199137752374</td><td>CC_O_20241126_000111</td><td>{&quot;WCSAXES&quot;:2,&quot;CRPIX1&quot;:2118.494885,&quot;CRPIX2&quot;:2047.895493,&quot;PC1_1&quot;:4.7291991494867e-05,&quot;PC1_2&quot;:-2.9387407277182e-05,&quot;PC2_1&quot;:-2.9348353484274e-05,&quot;PC2_2&quot;:-4.7284697782858e-05,&quot;CDELT1&quot;:1.0,&quot;CDELT2&quot;:1.0,&quot;CUNIT1&quot;:&quot;deg&quot;,&quot;CUNIT2&quot;:&quot;deg&quot;,&quot;CTYPE1&quot;:&quot;RA---TAN-SIP&quot;,&quot;CTYPE2&quot;:&quot;DEC--TAN-SIP&quot;,&quot;CRVAL1&quot;:38.05080308486,&quot;CRVAL2&quot;:7.0525658262661,&quot;LONPOLE&quot;:180.0,&quot;LATPOLE&quot;:7.0525658262661,&quot;MJDREF&quot;:0.0,&quot;RADESYS&quot;:&quot;ICRS&quot;,&quot;A_ORDER&quot;:2,&quot;A_0_2&quot;:-3.6675437846497e-08,&quot;A_1_1&quot;:7.49914469080431e-08,&quot;A_2_0&quot;:-1.2481779805937e-07,&quot;B_ORDER&quot;:2,&quot;B_0_2&quot;:8.90528679508225e-08,&quot;B_1_1&quot;:-7.2721869570353e-08,&quot;B_2_0&quot;:8.06292479725505e-08,&quot;AP_ORDER&quot;:3,&quot;AP_0_0&quot;:-1.5576386315525e-07,&quot;AP_0_1&quot;:-7.3562311249555e-12,&quot;AP_0_2&quot;:3.66754958981622e-08,&quot;AP_0_3&quot;:-9.2819187399263e-15,&quot;AP_1_0&quot;:1.68285385626631e-11,&quot;AP_1_1&quot;:-7.4991571813869e-08,&quot;AP_1_2&quot;:2.67892896956774e-14,&quot;AP_2_0&quot;:1.2481791990612e-07,&quot;AP_2_1&quot;:-3.944427180905e-14,&quot;AP_3_0&quot;:3.72014087951144e-14,&quot;BP_ORDER&quot;:3,&quot;BP_0_0&quot;:1.59432703185981e-07,&quot;BP_0_1&quot;:6.96398494426375e-12,&quot;BP_0_2&quot;:-8.9052943030067e-08,&quot;BP_0_3&quot;:1.85274086513464e-14,&quot;BP_1_0&quot;:-1.3937890101854e-11,&quot;BP_1_1&quot;:7.27220000842042e-08,&quot;BP_1_2&quot;:-3.07935463031e-14,&quot;BP_2_0&quot;:-8.0629352992169e-08,&quot;BP_2_1&quot;:4.08151138872492e-14,&quot;BP_3_0&quot;:-2.5988555491872e-14,&quot;NAXIS1&quot;:4072,&quot;NAXIS2&quot;:4000}</td><td>LSSTComCam/runs/DRP/20241101_20241211/w_2024_50/DM-48128</td><td>goodSeeingDiff_differenceExp</td><td>-70.7494170285165</td><td>-30.2446389756252</td><td>2662.99616375123</td><td>nan</td><td>nan</td><td>0.0</td><td>38.62372177901291</td><td>7.423310671257149</td><td>38.470708129401764</td><td>7.389411190150993</td><td>38.66047842532318</td><td>7.27236204075736</td><td>38.58688857721811</td><td>7.574239850384526</td><td>38.77660615905743</td><td>7.457123045257763</td></tr>\n",
       "<tr><td>02f1d132-925a-409b-814b-27a07f0b2fce</td><td>2024112600121</td><td>3</td><td>g</td><td>g_01</td><td>30.0</td><td>60641.0682062962</td><td>60641.06838569435</td><td>Rubin_SV_38_7</td><td>37.8787468941109</td><td>6.47758836551852</td><td>1.319004256479</td><td>6.814104835939361e-12</td><td>37.69428534900976</td><td>6.643158252379154</td><td>37.656311710836555</td><td>6.797488007806895</td><td>37.538274674852865</td><td>6.608245196226152</td><td>37.732188338397506</td><td>6.4889223512278065</td><td>37.850247854505625</td><td>6.678059804143475</td><td>2.293235794115751</td><td>76.76539716494268</td><td>62</td><td>32.023817538544776</td><td>631.187091678381</td><td>27.507139597685015</td><td>746.2760153461069</td><td>CC_O_20241126_000121</td><td>{&quot;WCSAXES&quot;:2,&quot;CRPIX1&quot;:2093.500943,&quot;CRPIX2&quot;:2036.713743,&quot;PC1_1&quot;:4.7303604499882e-05,&quot;PC1_2&quot;:-2.9314167126926e-05,&quot;PC2_1&quot;:-2.931590104035e-05,&quot;PC2_2&quot;:-4.7297016215751e-05,&quot;CDELT1&quot;:1.0,&quot;CDELT2&quot;:1.0,&quot;CUNIT1&quot;:&quot;deg&quot;,&quot;CUNIT2&quot;:&quot;deg&quot;,&quot;CTYPE1&quot;:&quot;RA---TAN-SIP&quot;,&quot;CTYPE2&quot;:&quot;DEC--TAN-SIP&quot;,&quot;CRVAL1&quot;:37.695922135863,&quot;CRVAL2&quot;:6.6398127011138,&quot;LONPOLE&quot;:180.0,&quot;LATPOLE&quot;:6.6398127011138,&quot;MJDREF&quot;:0.0,&quot;RADESYS&quot;:&quot;ICRS&quot;,&quot;A_ORDER&quot;:2,&quot;A_0_2&quot;:-6.1416270613834e-08,&quot;A_1_1&quot;:-1.2738606882391e-08,&quot;A_2_0&quot;:-1.2450472283749e-07,&quot;B_ORDER&quot;:2,&quot;B_0_2&quot;:-6.4509353675403e-08,&quot;B_1_1&quot;:-6.934579734365e-08,&quot;B_2_0&quot;:5.17518032814262e-09,&quot;AP_ORDER&quot;:3,&quot;AP_0_0&quot;:-9.6656993778887e-08,&quot;AP_0_1&quot;:2.32673008932804e-12,&quot;AP_0_2&quot;:6.14163074435232e-08,&quot;AP_0_3&quot;:8.7057860925969e-15,&quot;AP_1_0&quot;:1.31457067453766e-11,&quot;AP_1_1&quot;:1.27386352912641e-08,&quot;AP_1_2&quot;:2.47934776322683e-14,&quot;AP_2_0&quot;:1.24504800481931e-07,&quot;AP_2_1&quot;:5.00524305171036e-15,&quot;AP_3_0&quot;:3.09336966125692e-14,&quot;BP_ORDER&quot;:3,&quot;BP_0_0&quot;:-2.4749208345198e-08,&quot;BP_0_1&quot;:2.80131473573419e-12,&quot;BP_0_2&quot;:6.45093767449198e-08,&quot;BP_0_3&quot;:1.25814499321734e-14,&quot;BP_1_0&quot;:6.96268905967276e-13,&quot;BP_1_1&quot;:6.93458309755952e-08,&quot;BP_1_2&quot;:1.3667484000112e-14,&quot;BP_2_0&quot;:-5.1751760116712e-09,&quot;BP_2_1&quot;:1.26423523980271e-14,&quot;BP_3_0&quot;:-1.6473549291378e-15,&quot;NAXIS1&quot;:4072,&quot;NAXIS2&quot;:4000}</td><td>LSSTComCam/runs/DRP/20241101_20241211/w_2024_50/DM-48128</td><td>goodSeeingDiff_differenceExp</td><td>-70.7494170285165</td><td>-30.2446389756252</td><td>2662.99616375123</td><td>nan</td><td>nan</td><td>0.0</td><td>38.277081265530036</td><td>7.018969730756954</td><td>38.12434951218903</td><td>6.985006210236505</td><td>38.31399000802873</td><td>6.86809934004846</td><td>38.240107928585694</td><td>7.169931315744748</td><td>38.42976126925544</td><td>7.052921073361493</td></tr>\n",
       "<tr><td>8de745a0-9f5c-464f-aafe-fad0b75305e9</td><td>2024112800175</td><td>2</td><td>g</td><td>g_01</td><td>30.0</td><td>60643.08989241902</td><td>60643.09007181717</td><td>Rubin_SV_38_7</td><td>38.3317434479318</td><td>7.26332420951596</td><td>1.27808115066268</td><td>2.6631141736288555e-11</td><td>38.625264378387506</td><td>7.473672696326757</td><td>38.54321654976416</td><td>7.610043711718761</td><td>38.48629391963114</td><td>7.394712907471666</td><td>38.70730071515248</td><td>7.3372950767672585</td><td>38.76443567876744</td><td>7.552658705013268</td><td>2.3508731620099</td><td>85.4529702346434</td><td>55</td><td>32.02272941975204</td><td>637.1196920573711</td><td>27.772071065261034</td><td>765.5292701753519</td><td>CC_O_20241128_000175</td><td>{&quot;WCSAXES&quot;:2,&quot;CRPIX1&quot;:2036.499195,&quot;CRPIX2&quot;:2286.284667,&quot;PC1_1&quot;:5.3837795442426e-05,&quot;PC1_2&quot;:-1.4133143235479e-05,&quot;PC2_1&quot;:-1.4097208086474e-05,&quot;PC2_2&quot;:-5.3833936518039e-05,&quot;CDELT1&quot;:1.0,&quot;CDELT2&quot;:1.0,&quot;CUNIT1&quot;:&quot;deg&quot;,&quot;CUNIT2&quot;:&quot;deg&quot;,&quot;CTYPE1&quot;:&quot;RA---TAN-SIP&quot;,&quot;CTYPE2&quot;:&quot;DEC--TAN-SIP&quot;,&quot;CRVAL1&quot;:38.621170311976,&quot;CRVAL2&quot;:7.4583213252715,&quot;LONPOLE&quot;:180.0,&quot;LATPOLE&quot;:7.4583213252715,&quot;MJDREF&quot;:0.0,&quot;RADESYS&quot;:&quot;ICRS&quot;,&quot;A_ORDER&quot;:2,&quot;A_0_2&quot;:5.02139461229361e-08,&quot;A_1_1&quot;:-1.0035104699669e-07,&quot;A_2_0&quot;:1.27760010447726e-07,&quot;B_ORDER&quot;:2,&quot;B_0_2&quot;:-1.1654904785476e-07,&quot;B_1_1&quot;:9.6014355779434e-08,&quot;B_2_0&quot;:-2.1660568371823e-08,&quot;AP_ORDER&quot;:3,&quot;AP_0_0&quot;:2.08408657916339e-07,&quot;AP_0_1&quot;:-6.6036574956323e-11,&quot;AP_0_2&quot;:-5.0214046453089e-08,&quot;AP_0_3&quot;:-1.67356318477e-14,&quot;AP_1_0&quot;:6.48339160136401e-11,&quot;AP_1_1&quot;:1.00351222831065e-07,&quot;AP_1_2&quot;:4.42192236896416e-14,&quot;AP_2_0&quot;:-1.2776014227814e-07,&quot;AP_2_1&quot;:-5.0252283949451e-14,&quot;AP_3_0&quot;:3.48092057917348e-14,&quot;BP_ORDER&quot;:3,&quot;BP_0_0&quot;:-1.5559124791168e-07,&quot;BP_0_1&quot;:6.86808387939663e-11,&quot;BP_0_2&quot;:1.16549156558645e-07,&quot;BP_0_3&quot;:3.19752350539081e-14,&quot;BP_1_0&quot;:-4.5646321901243e-11,&quot;BP_1_1&quot;:-9.6014491596648e-08,&quot;BP_1_2&quot;:-4.5360437773946e-14,&quot;BP_2_0&quot;:2.16606334462928e-08,&quot;BP_2_1&quot;:3.08673848083662e-14,&quot;BP_3_0&quot;:-7.610333877156e-15,&quot;NAXIS1&quot;:4072,&quot;NAXIS2&quot;:4000}</td><td>LSSTComCam/runs/DRP/20241101_20241211/w_2024_50/DM-48128</td><td>goodSeeingDiff_differenceExp</td><td>-70.7494170285165</td><td>-30.2446389756252</td><td>2662.99616375123</td><td>nan</td><td>nan</td><td>0.0</td><td>39.23404737021751</td><td>7.8412736208999325</td><td>39.09788936732633</td><td>7.764230753894547</td><td>39.31416217580935</td><td>7.707779526362897</td><td>39.15392460005658</td><td>7.97476348511995</td><td>39.37039848892641</td><td>7.91833814924816</td></tr>\n",
       "</table></div>"
      ],
      "text/plain": [
       "<ImageCollection length=1021>\n",
       "               dataId                std_idx ...    dec_br_39.0    \n",
       "               str36                  int64  ...      float64      \n",
       "------------------------------------ ------- ... ------------------\n",
       "158d6b10-9a28-4f19-b133-8a254f750ab2       5 ...  7.620052881058759\n",
       "f13b24c2-c2bd-4597-9ed9-166fdad55f8a      22 ...  7.695320616163603\n",
       "615b2f69-ba41-4d4b-b29b-a807e7a3ac82      38 ...  6.690687440663978\n",
       "169f5c3f-ecfc-4f6f-939f-095eb0b829d7      68 ...  7.270067773399478\n",
       "fdbba196-ea42-44b9-9abd-dd6135f98428      81 ...  8.137522495085491\n",
       "c669344c-6c22-43e9-a513-d0c0fe750b36      83 ...  7.847531132683171\n",
       "21897e71-4baf-4963-8603-84c114bf721f     112 ...  7.444402258254849\n",
       "07c23c21-8f4e-4697-87b9-03650c061567     128 ... 6.7941693093083275\n",
       "e06b3305-6aea-44f2-94df-6c6145572d5b     159 ...  8.005306739494369\n",
       "                                 ...     ... ...                ...\n",
       "ed97bccd-4587-4d2a-88d9-91d3226de7c3   16985 ...  8.049663991759283\n",
       "ef2925b4-59f1-450a-b4d5-85ba8f6c2a2d   16989 ...  7.777351032927283\n",
       "28295d06-e864-4fe0-a77b-659c0beb029f   17067 ...  6.532099328055925\n",
       "e8b38560-a3b1-48cc-83ca-2f49642e57cf   17130 ...  7.846252632666763\n",
       "9789c068-99b8-4c46-b4b9-9d9540b8fcde   17132 ...  7.586345946183846\n",
       "76773f30-3cc8-485c-9fd0-b8f7da63a10f   17143 ...  7.475037439569251\n",
       "bbd8f955-5e4d-4c7d-9249-00b798904370   17149 ...   8.07423495604364\n",
       "5fa5a174-516c-4b51-a4e1-8a98178e1035   17155 ...  7.457123045257763\n",
       "02f1d132-925a-409b-814b-27a07f0b2fce   17179 ...  7.052921073361493\n",
       "8de745a0-9f5c-464f-aafe-fad0b75305e9   17191 ...   7.91833814924816"
      ]
     },
     "execution_count": 20,
     "metadata": {},
     "output_type": "execute_result"
    },
    {
     "ename": "",
     "evalue": "",
     "output_type": "error",
     "traceback": [
      "\u001b[1;31mnotebook controller is DISPOSED. \n",
      "\u001b[1;31mView Jupyter <a href='command:jupyter.viewOutput'>log</a> for further details."
     ]
    }
   ],
   "source": [
    "copy_ic"
   ]
  },
  {
   "cell_type": "code",
   "execution_count": 21,
   "metadata": {},
   "outputs": [
    {
     "data": {
      "text/plain": [
       "{248980, 248981, 250060, 250061}"
      ]
     },
     "execution_count": 21,
     "metadata": {},
     "output_type": "execute_result"
    },
    {
     "ename": "",
     "evalue": "",
     "output_type": "error",
     "traceback": [
      "\u001b[1;31mnotebook controller is DISPOSED. \n",
      "\u001b[1;31mView Jupyter <a href='command:jupyter.viewOutput'>log</a> for further details."
     ]
    }
   ],
   "source": [
    "found_patches"
   ]
  },
  {
   "cell_type": "code",
   "execution_count": 22,
   "metadata": {},
   "outputs": [
    {
     "data": {
      "text/html": [
       "<div><i>ImageCollection length=248</i>\n",
       "<table id=\"table139619381833488\" class=\"table-striped table-bordered table-condensed\">\n",
       "<thead><tr><th>dataId</th><th>visit</th><th>detector</th><th>band</th><th>filter</th><th>exposureTime</th><th>mjd_start</th><th>mjd_mid</th><th>object</th><th>pointing_ra</th><th>pointing_dec</th><th>airmass</th><th>wcs_err</th><th>ra</th><th>dec</th><th>ra_bl</th><th>dec_bl</th><th>ra_tl</th><th>dec_tl</th><th>ra_tr</th><th>dec_tr</th><th>ra_br</th><th>dec_br</th><th>psfSigma</th><th>psfArea</th><th>nPsfStar</th><th>zeroPoint</th><th>skyBg</th><th>skyNoise</th><th>meanVar</th><th>OBSID</th><th>wcs</th><th>collection</th><th>datasetType</th><th>obs_lon</th><th>obs_lat</th><th>obs_elev</th><th>astromOffsetMean</th><th>astromOffsetStd</th><th>DIMM2SEE</th><th>ra_39.0</th><th>dec_39.0</th><th>ra_tl_39.0</th><th>dec_tl_39.0</th><th>ra_tr_39.0</th><th>dec_tr_39.0</th><th>ra_bl_39.0</th><th>dec_bl_39.0</th><th>ra_br_39.0</th><th>dec_br_39.0</th></tr></thead>\n",
       "<thead><tr><th>str36</th><th>int64</th><th>int64</th><th>str1</th><th>str4</th><th>float64</th><th>float64</th><th>float64</th><th>str16</th><th>float64</th><th>float64</th><th>float64</th><th>float64</th><th>float64</th><th>float64</th><th>float64</th><th>float64</th><th>float64</th><th>float64</th><th>float64</th><th>float64</th><th>float64</th><th>float64</th><th>float64</th><th>float64</th><th>int64</th><th>float64</th><th>float64</th><th>float64</th><th>float64</th><th>str20</th><th>str1250</th><th>str56</th><th>str28</th><th>float64</th><th>float64</th><th>float64</th><th>float64</th><th>float64</th><th>float64</th><th>float64</th><th>float64</th><th>float64</th><th>float64</th><th>float64</th><th>float64</th><th>float64</th><th>float64</th><th>float64</th><th>float64</th></tr></thead>\n",
       "<tr><td>615b2f69-ba41-4d4b-b29b-a807e7a3ac82</td><td>2024112600134</td><td>8</td><td>i</td><td>i_06</td><td>30.0</td><td>60641.08122699644</td><td>60641.08140639459</td><td>Rubin_SV_38_7</td><td>38.0653955028628</td><td>6.52826805904292</td><td>1.28850130948918</td><td>-3.090860900556436e-12</td><td>38.18728959931873</td><td>6.2575399328953285</td><td>38.13367905883207</td><td>6.407125257662862</td><td>38.03592432637463</td><td>6.206883852393906</td><td>38.24092893534934</td><td>6.107783069946998</td><td>38.33871170185693</td><td>6.30809586582424</td><td>2.1870157927318044</td><td>67.46518367993608</td><td>102</td><td>31.76327910494223</td><td>2581.0746131539345</td><td>52.993192583897475</td><td>2795.876509900088</td><td>CC_O_20241126_000134</td><td>{&quot;WCSAXES&quot;:2,&quot;CRPIX1&quot;:2104.234496,&quot;CRPIX2&quot;:2090.780895,&quot;PC1_1&quot;:5.0049364571068e-05,&quot;PC1_2&quot;:-2.4296678395023e-05,&quot;PC2_1&quot;:-2.4329910755198e-05,&quot;PC2_2&quot;:-5.0071238405668e-05,&quot;CDELT1&quot;:1.0,&quot;CDELT2&quot;:1.0,&quot;CUNIT1&quot;:&quot;deg&quot;,&quot;CUNIT2&quot;:&quot;deg&quot;,&quot;CTYPE1&quot;:&quot;RA---TAN-SIP&quot;,&quot;CTYPE2&quot;:&quot;DEC--TAN-SIP&quot;,&quot;CRVAL1&quot;:38.188480325674,&quot;CRVAL2&quot;:6.2514088148071,&quot;LONPOLE&quot;:180.0,&quot;LATPOLE&quot;:6.2514088148071,&quot;MJDREF&quot;:0.0,&quot;RADESYS&quot;:&quot;ICRS&quot;,&quot;A_ORDER&quot;:2,&quot;A_0_2&quot;:5.71380993437748e-08,&quot;A_1_1&quot;:8.4138548688458e-08,&quot;A_2_0&quot;:1.34602072087139e-07,&quot;B_ORDER&quot;:2,&quot;B_0_2&quot;:1.29922197020279e-07,&quot;B_1_1&quot;:9.30259268861285e-08,&quot;B_2_0&quot;:5.08093732261702e-08,&quot;AP_ORDER&quot;:3,&quot;AP_0_0&quot;:2.38650612711241e-07,&quot;AP_0_1&quot;:-1.9773730332761e-11,&quot;AP_0_2&quot;:-5.7138214915058e-08,&quot;AP_0_3&quot;:1.96568954030525e-14,&quot;AP_1_0&quot;:-2.9495295095216e-11,&quot;AP_1_1&quot;:-8.4138741264852e-08,&quot;AP_1_2&quot;:4.40296314635341e-14,&quot;AP_2_0&quot;:-1.3460222841301e-07,&quot;AP_2_1&quot;:4.76169097340427e-14,&quot;AP_3_0&quot;:4.05162046764094e-14,&quot;BP_ORDER&quot;:3,&quot;BP_0_0&quot;:2.2872495540209e-07,&quot;BP_0_1&quot;:-2.0712098702801e-11,&quot;BP_0_2&quot;:-1.2992234828618e-07,&quot;BP_0_3&quot;:3.90781540503791e-14,&quot;BP_1_0&quot;:-2.15361705159e-11,&quot;BP_1_1&quot;:-9.3026118127959e-08,&quot;BP_1_2&quot;:4.98983852539292e-14,&quot;BP_2_0&quot;:-5.080948323256e-08,&quot;BP_2_1&quot;:4.29343119560157e-14,&quot;BP_3_0&quot;:1.84076385356384e-14,&quot;NAXIS1&quot;:4072,&quot;NAXIS2&quot;:4000}</td><td>LSSTComCam/runs/DRP/20241101_20241211/w_2024_50/DM-48128</td><td>goodSeeingDiff_differenceExp</td><td>-70.7494170285165</td><td>-30.2446389756252</td><td>2662.99616375123</td><td>nan</td><td>nan</td><td>0.0</td><td>38.75939839775447</td><td>6.641411994306177</td><td>38.61120854247471</td><td>6.59203658799253</td><td>38.81172304867742</td><td>6.494914087458803</td><td>38.70710575061829</td><td>6.78774232217167</td><td>38.90763954600023</td><td>6.690687440663978</td></tr>\n",
       "<tr><td>20437cbf-38b5-4a9e-8136-6275e8ef0327</td><td>2024112300217</td><td>7</td><td>r</td><td>r_03</td><td>30.0</td><td>60638.12335018517</td><td>60638.12352958332</td><td>Rubin_SV_38_7</td><td>38.2274093315644</td><td>6.6441376907589</td><td>1.25131574145188</td><td>1.830890994369838e-11</td><td>38.21554524756888</td><td>6.415412625964255</td><td>38.10719335707547</td><td>6.532124218607812</td><td>38.09617809772633</td><td>6.3097409950510075</td><td>38.32387962749695</td><td>6.298588388413143</td><td>38.33491185170268</td><td>6.520962657416244</td><td>2.830698755783663</td><td>116.11150142905478</td><td>51</td><td>31.951184948735882</td><td>1228.114701628685</td><td>36.434113373094384</td><td>1294.2769844405725</td><td>CC_O_20241123_000217</td><td>{&quot;WCSAXES&quot;:2,&quot;CRPIX1&quot;:1981.605974,&quot;CRPIX2&quot;:1901.508145,&quot;PC1_1&quot;:5.5570291922644e-05,&quot;PC1_2&quot;:-2.7383541012499e-06,&quot;PC2_1&quot;:-2.7392935194683e-06,&quot;PC2_2&quot;:-5.559331835004e-05,&quot;CDELT1&quot;:1.0,&quot;CDELT2&quot;:1.0,&quot;CUNIT1&quot;:&quot;deg&quot;,&quot;CUNIT2&quot;:&quot;deg&quot;,&quot;CTYPE1&quot;:&quot;RA---TAN-SIP&quot;,&quot;CTYPE2&quot;:&quot;DEC--TAN-SIP&quot;,&quot;CRVAL1&quot;:38.212721734511,&quot;CRVAL2&quot;:6.4210955441151,&quot;LONPOLE&quot;:180.0,&quot;LATPOLE&quot;:6.4210955441151,&quot;MJDREF&quot;:0.0,&quot;RADESYS&quot;:&quot;ICRS&quot;,&quot;A_ORDER&quot;:2,&quot;A_0_2&quot;:-2.0669249178741e-08,&quot;A_1_1&quot;:8.98660109513544e-08,&quot;A_2_0&quot;:1.05662016345093e-08,&quot;B_ORDER&quot;:2,&quot;B_0_2&quot;:1.43411309217672e-07,&quot;B_1_1&quot;:-8.8884108103489e-09,&quot;B_2_0&quot;:6.16545708147605e-08,&quot;AP_ORDER&quot;:3,&quot;AP_0_0&quot;:-1.8127203728519e-08,&quot;AP_0_1&quot;:4.83002982829638e-12,&quot;AP_0_2&quot;:2.06692697662013e-08,&quot;AP_0_3&quot;:-7.7868581688818e-15,&quot;AP_1_0&quot;:-1.7629231408022e-12,&quot;AP_1_1&quot;:-8.986605226685e-08,&quot;AP_1_2&quot;:2.08953161495047e-14,&quot;AP_2_0&quot;:-1.0566199007136e-08,&quot;AP_2_1&quot;:-4.9987559856531e-16,&quot;AP_3_0&quot;:5.76399639382145e-15,&quot;BP_ORDER&quot;:3,&quot;BP_0_0&quot;:1.24034517530978e-07,&quot;BP_0_1&quot;:-8.6265439236399e-12,&quot;BP_0_2&quot;:-1.4341142171962e-07,&quot;BP_0_3&quot;:4.1319617654902e-14,&quot;BP_1_0&quot;:6.76776843704885e-12,&quot;BP_1_1&quot;:8.88842768039648e-09,&quot;BP_1_2&quot;:-7.1743476191876e-15,&quot;BP_2_0&quot;:-6.1654607490439e-08,&quot;BP_2_1&quot;:2.87512750710841e-14,&quot;BP_3_0&quot;:7.54467689257132e-16,&quot;NAXIS1&quot;:4072,&quot;NAXIS2&quot;:4000}</td><td>LSSTComCam/runs/DRP/20241101_20241211/w_2024_50/DM-48128</td><td>goodSeeingDiff_differenceExp</td><td>-70.7494170285165</td><td>-30.2446389756252</td><td>2662.99616375123</td><td>nan</td><td>nan</td><td>0.0</td><td>38.72076163771803</td><td>6.778859351911983</td><td>38.60391067891556</td><td>6.675701457453864</td><td>38.82659443553755</td><td>6.664588010882852</td><td>38.614912990052765</td><td>6.893023360575145</td><td>38.83761030084174</td><td>6.8818940263823976</td></tr>\n",
       "<tr><td>286c20c0-4d50-42c7-a2a7-429e918ea146</td><td>2024112300236</td><td>6</td><td>i</td><td>i_06</td><td>30.0</td><td>60638.1387492129</td><td>60638.13892861105</td><td>Rubin_SV_38_7</td><td>38.2594870723122</td><td>6.52993331294277</td><td>1.25215841233238</td><td>-8.490985692333197e-12</td><td>38.01030180172322</td><td>6.313377879533315</td><td>37.90193980713209</td><td>6.430058657695252</td><td>37.89085107317707</td><td>6.207649422286051</td><td>38.118568679150734</td><td>6.196625885258264</td><td>38.12967395813054</td><td>6.418943027687288</td><td>2.5272073031762337</td><td>95.49553067274908</td><td>79</td><td>31.74377678709209</td><td>1973.9342609643936</td><td>46.29525803515839</td><td>2119.3169455269554</td><td>CC_O_20241123_000236</td><td>{&quot;WCSAXES&quot;:2,&quot;CRPIX1&quot;:1890.561476,&quot;CRPIX2&quot;:2088.656972,&quot;PC1_1&quot;:5.5588294248899e-05,&quot;PC1_2&quot;:-2.7578662456575e-06,&quot;PC2_1&quot;:-2.7161689674632e-06,&quot;PC2_2&quot;:-5.5593248948444e-05,&quot;CDELT1&quot;:1.0,&quot;CDELT2&quot;:1.0,&quot;CUNIT1&quot;:&quot;deg&quot;,&quot;CUNIT2&quot;:&quot;deg&quot;,&quot;CTYPE1&quot;:&quot;RA---TAN-SIP&quot;,&quot;CTYPE2&quot;:&quot;DEC--TAN-SIP&quot;,&quot;CRVAL1&quot;:38.001868886824,&quot;CRVAL2&quot;:6.308902763853,&quot;LONPOLE&quot;:180.0,&quot;LATPOLE&quot;:6.308902763853,&quot;MJDREF&quot;:0.0,&quot;RADESYS&quot;:&quot;ICRS&quot;,&quot;A_ORDER&quot;:2,&quot;A_0_2&quot;:-5.381473367938e-08,&quot;A_1_1&quot;:8.38480461698092e-08,&quot;A_2_0&quot;:-1.2473490727297e-07,&quot;B_ORDER&quot;:2,&quot;B_0_2&quot;:1.50917292104928e-07,&quot;B_1_1&quot;:-1.003450146936e-07,&quot;B_2_0&quot;:6.35679663709173e-08,&quot;AP_ORDER&quot;:3,&quot;AP_0_0&quot;:-2.1240041175129e-07,&quot;AP_0_1&quot;:1.87031346160588e-11,&quot;AP_0_2&quot;:5.38148504727679e-08,&quot;AP_0_3&quot;:-2.0757860837732e-14,&quot;AP_1_0&quot;:-2.7445823391758e-11,&quot;AP_1_1&quot;:-8.3848231827426e-08,&quot;AP_1_2&quot;:4.39163842397742e-14,&quot;AP_2_0&quot;:1.24735045930763e-07,&quot;AP_2_1&quot;:-4.6639740774748e-14,&quot;AP_3_0&quot;:3.64530737719741e-14,&quot;BP_ORDER&quot;:3,&quot;BP_0_0&quot;:2.73164708571701e-07,&quot;BP_0_1&quot;:-2.4142243759683e-11,&quot;BP_0_2&quot;:-1.5091749117564e-07,&quot;BP_0_3&quot;:5.09560487753672e-14,&quot;BP_1_0&quot;:2.63706275567604e-11,&quot;BP_1_1&quot;:1.00345250837133e-07,&quot;BP_1_2&quot;:-6.0695289293037e-14,&quot;BP_2_0&quot;:-6.3568098831063e-08,&quot;BP_2_1&quot;:5.24408116438296e-14,&quot;BP_3_0&quot;:-2.2240696253347e-14,&quot;NAXIS1&quot;:4072,&quot;NAXIS2&quot;:4000}</td><td>LSSTComCam/runs/DRP/20241101_20241211/w_2024_50/DM-48128</td><td>goodSeeingDiff_differenceExp</td><td>-70.7494170285165</td><td>-30.2446389756252</td><td>2662.99616375123</td><td>nan</td><td>nan</td><td>0.0</td><td>38.52027320067773</td><td>6.679427652196485</td><td>38.40333635219311</td><td>6.576208814152013</td><td>38.626044951475365</td><td>6.565222412607703</td><td>38.414409719956545</td><td>6.7935661333045525</td><td>38.63713140942815</td><td>6.782482516259732</td></tr>\n",
       "<tr><td>dccdfa92-92e3-47f4-8aba-4c1224e0a88f</td><td>2024112700103</td><td>7</td><td>r</td><td>r_03</td><td>30.0</td><td>60642.06265178242</td><td>60642.06283118057</td><td>Rubin_SV_38_7</td><td>37.9938177496267</td><td>6.49552416310682</td><td>1.32886672180176</td><td>2.092548356813495e-11</td><td>37.89612683186391</td><td>6.331264943511656</td><td>37.85277246573499</td><td>6.4840994320191125</td><td>37.74156151263263</td><td>6.290807117716438</td><td>37.93945109981332</td><td>6.178341084315135</td><td>38.05065216366736</td><td>6.3716244963982165</td><td>2.5333046450371572</td><td>91.96733393806248</td><td>71</td><td>31.963492181276223</td><td>1091.9797934889793</td><td>34.38638973948574</td><td>1160.986453601758</td><td>CC_O_20241127_000103</td><td>{&quot;WCSAXES&quot;:2,&quot;CRPIX1&quot;:2236.140488,&quot;CRPIX2&quot;:1910.826276,&quot;PC1_1&quot;:4.8298684426659e-05,&quot;PC1_2&quot;:-2.763188771974e-05,&quot;PC2_1&quot;:-2.7622560910837e-05,&quot;PC2_2&quot;:-4.8320814869324e-05,&quot;CDELT1&quot;:1.0,&quot;CDELT2&quot;:1.0,&quot;CUNIT1&quot;:&quot;deg&quot;,&quot;CUNIT2&quot;:&quot;deg&quot;,&quot;CTYPE1&quot;:&quot;RA---TAN-SIP&quot;,&quot;CTYPE2&quot;:&quot;DEC--TAN-SIP&quot;,&quot;CRVAL1&quot;:37.908311175735,&quot;CRVAL2&quot;:6.3301217026377,&quot;LONPOLE&quot;:180.0,&quot;LATPOLE&quot;:6.3301217026377,&quot;MJDREF&quot;:0.0,&quot;RADESYS&quot;:&quot;ICRS&quot;,&quot;A_ORDER&quot;:2,&quot;A_0_2&quot;:4.07834514626816e-09,&quot;A_1_1&quot;:7.51403874038699e-08,&quot;A_2_0&quot;:6.15574791065253e-09,&quot;B_ORDER&quot;:2,&quot;B_0_2&quot;:1.17728969984033e-07,&quot;B_1_1&quot;:-9.1557510314069e-10,&quot;B_2_0&quot;:5.32917135368965e-08,&quot;AP_ORDER&quot;:3,&quot;AP_0_0&quot;:5.41535329645907e-09,&quot;AP_0_1&quot;:-5.0586035317906e-12,&quot;AP_0_2&quot;:-4.0783490035017e-09,&quot;AP_0_3&quot;:1.26751525982593e-15,&quot;AP_1_0&quot;:-2.3570034812792e-13,&quot;AP_1_1&quot;:-7.5140411589314e-08,&quot;AP_1_2&quot;:1.45349615390129e-14,&quot;AP_2_0&quot;:-6.1557501071068e-09,&quot;AP_2_1&quot;:1.75490546193261e-15,&quot;AP_3_0&quot;:4.08019763605523e-15,&quot;BP_ORDER&quot;:3,&quot;BP_0_0&quot;:7.43096032793468e-08,&quot;BP_0_1&quot;:3.36597416605854e-12,&quot;BP_0_2&quot;:-1.1772903447726e-07,&quot;BP_0_3&quot;:2.77155694774594e-14,&quot;BP_1_0&quot;:-9.713179273105e-12,&quot;BP_1_1&quot;:9.15573073790202e-10,&quot;BP_1_2&quot;:4.60473877635209e-17,&quot;BP_2_0&quot;:-5.3291735944243e-08,&quot;BP_2_1&quot;:2.05516310985222e-14,&quot;BP_3_0&quot;:6.07965666600009e-16,&quot;NAXIS1&quot;:4072,&quot;NAXIS2&quot;:4000}</td><td>LSSTComCam/runs/DRP/20241101_20241211/w_2024_50/DM-48128</td><td>goodSeeingDiff_differenceExp</td><td>-70.7494170285165</td><td>-30.2446389756252</td><td>2662.99616375123</td><td>nan</td><td>nan</td><td>0.0</td><td>38.496190016006395</td><td>6.719194114291022</td><td>38.34483615553324</td><td>6.679794989957602</td><td>38.538417434533706</td><td>6.569569924111339</td><td>38.45393744937073</td><td>6.8687305707060755</td><td>38.647500011700636</td><td>6.758495711970725</td></tr>\n",
       "<tr><td>3804f66a-ac00-49dc-b234-5ed456ab6102</td><td>2024112600121</td><td>4</td><td>g</td><td>g_01</td><td>30.0</td><td>60641.0682062962</td><td>60641.06838569435</td><td>Rubin_SV_38_7</td><td>37.8787468941109</td><td>6.47758836551852</td><td>1.319004256479</td><td>2.26973995154367e-11</td><td>37.89526130198331</td><td>6.519415600728153</td><td>37.85749030682493</td><td>6.673682558771827</td><td>37.73934394561914</td><td>6.484616406112809</td><td>37.93300286954787</td><td>6.365145458659449</td><td>38.051186962392556</td><td>6.554163198369333</td><td>2.3195479143655673</td><td>78.95581435179808</td><td>74</td><td>32.02230960705592</td><td>633.7425079196692</td><td>26.51484558090654</td><td>707.0047506680284</td><td>CC_O_20241126_000121</td><td>{&quot;WCSAXES&quot;:2,&quot;CRPIX1&quot;:2155.927614,&quot;CRPIX2&quot;:2266.205105,&quot;PC1_1&quot;:4.7255848502376e-05,&quot;PC1_2&quot;:-2.935024294085e-05,&quot;PC2_1&quot;:-2.9345301348127e-05,&quot;PC2_2&quot;:-4.7261026732595e-05,&quot;CDELT1&quot;:1.0,&quot;CDELT2&quot;:1.0,&quot;CUNIT1&quot;:&quot;deg&quot;,&quot;CUNIT2&quot;:&quot;deg&quot;,&quot;CTYPE1&quot;:&quot;RA---TAN-SIP&quot;,&quot;CTYPE2&quot;:&quot;DEC--TAN-SIP&quot;,&quot;CRVAL1&quot;:37.893083426119,&quot;CRVAL2&quot;:6.5033918021791,&quot;LONPOLE&quot;:180.0,&quot;LATPOLE&quot;:6.5033918021791,&quot;MJDREF&quot;:0.0,&quot;RADESYS&quot;:&quot;ICRS&quot;,&quot;A_ORDER&quot;:2,&quot;A_0_2&quot;:1.80642912610746e-09,&quot;A_1_1&quot;:4.44040408470438e-09,&quot;A_2_0&quot;:-1.7364551904165e-08,&quot;B_ORDER&quot;:2,&quot;B_0_2&quot;:1.09020523094592e-08,&quot;B_1_1&quot;:-7.3820852986976e-09,&quot;B_2_0&quot;:4.11262885274939e-09,&quot;AP_ORDER&quot;:3,&quot;AP_0_0&quot;:-9.9527283394234e-11,&quot;AP_0_1&quot;:-1.0949350551651e-14,&quot;AP_0_2&quot;:-1.8064291318802e-09,&quot;AP_0_3&quot;:4.74097695343108e-17,&quot;AP_1_0&quot;:3.44169137633798e-14,&quot;AP_1_1&quot;:-4.4404041377263e-09,&quot;AP_1_2&quot;:-2.1281017676004e-17,&quot;AP_2_0&quot;:1.73645520607462e-08,&quot;AP_2_1&quot;:-2.492312104491e-16,&quot;AP_3_0&quot;:6.21304054160898e-16,&quot;BP_ORDER&quot;:3,&quot;BP_0_0&quot;:1.11980562843283e-10,&quot;BP_0_1&quot;:-1.5210055437364e-14,&quot;BP_0_2&quot;:-1.0902052368372e-08,&quot;BP_0_3&quot;:2.24378541543715e-16,&quot;BP_1_0&quot;:2.07124368586952e-17,&quot;BP_1_1&quot;:7.38208539137268e-09,&quot;BP_1_2&quot;:-2.5936311385599e-16,&quot;BP_2_0&quot;:-4.1126289278713e-09,&quot;BP_2_1&quot;:3.08877131536156e-16,&quot;BP_3_0&quot;:-1.7318634278197e-16,&quot;NAXIS1&quot;:4072,&quot;NAXIS2&quot;:4000}</td><td>LSSTComCam/runs/DRP/20241101_20241211/w_2024_50/DM-48128</td><td>goodSeeingDiff_differenceExp</td><td>-70.7494170285165</td><td>-30.2446389756252</td><td>2662.99616375123</td><td>nan</td><td>nan</td><td>0.0</td><td>38.47362253597755</td><td>6.897736730034419</td><td>38.320988006553264</td><td>6.863880549638628</td><td>38.51037681509861</td><td>6.746837223426521</td><td>38.436843843931314</td><td>7.048632446544232</td><td>38.626260580376545</td><td>6.931541465940181</td></tr>\n",
       "<tr><td>2c1db0b7-6488-45d1-9961-6b6dda7819e9</td><td>2024112300240</td><td>8</td><td>i</td><td>i_06</td><td>30.0</td><td>60638.14114406817</td><td>60638.14132346632</td><td>Rubin_SV_38_7</td><td>38.1220019953598</td><td>6.54924673253456</td><td>1.25430794422367</td><td>8.678391338889924e-12</td><td>38.34509537193813</td><td>6.309586640579631</td><td>38.236687587570984</td><td>6.426290699919965</td><td>38.22584331183882</td><td>6.203940722341856</td><td>38.45355516747788</td><td>6.192749203856401</td><td>38.46444466191549</td><td>6.41518070920958</td><td>2.692393614601872</td><td>110.38903689932081</td><td>76</td><td>31.732984960629864</td><td>1968.1241725683212</td><td>46.840610174048514</td><td>2165.7056414314347</td><td>CC_O_20241123_000240</td><td>{&quot;WCSAXES&quot;:2,&quot;CRPIX1&quot;:2134.013605,&quot;CRPIX2&quot;:1853.070951,&quot;PC1_1&quot;:5.5589100529649e-05,&quot;PC1_2&quot;:-2.7011647763484e-06,&quot;PC2_1&quot;:-2.7387936124158e-06,&quot;PC2_2&quot;:-5.559671554255e-05,&quot;CDELT1&quot;:1.0,&quot;CDELT2&quot;:1.0,&quot;CUNIT1&quot;:&quot;deg&quot;,&quot;CUNIT2&quot;:&quot;deg&quot;,&quot;CTYPE1&quot;:&quot;RA---TAN-SIP&quot;,&quot;CTYPE2&quot;:&quot;DEC--TAN-SIP&quot;,&quot;CRVAL1&quot;:38.350923088957,&quot;CRVAL2&quot;:6.3175454137181,&quot;LONPOLE&quot;:180.0,&quot;LATPOLE&quot;:6.3175454137181,&quot;MJDREF&quot;:0.0,&quot;RADESYS&quot;:&quot;ICRS&quot;,&quot;A_ORDER&quot;:2,&quot;A_0_2&quot;:4.01898786531792e-08,&quot;A_1_1&quot;:6.20145612273662e-08,&quot;A_2_0&quot;:1.29064157854872e-07,&quot;B_ORDER&quot;:2,&quot;B_0_2&quot;:9.72900912764108e-08,&quot;B_1_1&quot;:9.21028345096925e-08,&quot;B_2_0&quot;:4.51609464205987e-08,&quot;AP_ORDER&quot;:3,&quot;AP_0_0&quot;:1.43233915189493e-07,&quot;AP_0_1&quot;:9.35061852355125e-13,&quot;AP_0_2&quot;:-4.0189936488474e-08,&quot;AP_0_3&quot;:1.0312202930784e-14,&quot;AP_1_0&quot;:-1.1737721905547e-11,&quot;AP_1_1&quot;:-6.2014671706284e-08,&quot;AP_1_2&quot;:2.76569290212669e-14,&quot;AP_2_0&quot;:-1.2906426846724e-07,&quot;AP_2_1&quot;:3.33550557583398e-14,&quot;AP_3_0&quot;:3.61194104221062e-14,&quot;BP_ORDER&quot;:3,&quot;BP_0_0&quot;:1.38321326797422e-07,&quot;BP_0_1&quot;:4.83391104921793e-12,&quot;BP_0_2&quot;:-9.7290171296482e-08,&quot;BP_0_3&quot;:2.26310203679425e-14,&quot;BP_1_0&quot;:-3.2568036659471e-12,&quot;BP_1_1&quot;:-9.2102954746957e-08,&quot;BP_1_2&quot;:3.62229836036191e-14,&quot;BP_2_0&quot;:-4.5161023264904e-08,&quot;BP_2_1&quot;:3.47594617020212e-14,&quot;BP_3_0&quot;:1.58177477357565e-14,&quot;NAXIS1&quot;:4072,&quot;NAXIS2&quot;:4000}</td><td>LSSTComCam/runs/DRP/20241101_20241211/w_2024_50/DM-48128</td><td>goodSeeingDiff_differenceExp</td><td>-70.7494170285165</td><td>-30.2446389756252</td><td>2662.99616375123</td><td>nan</td><td>nan</td><td>0.0</td><td>38.84775874329503</td><td>6.675420602802368</td><td>38.73102397800871</td><td>6.572285753518363</td><td>38.95371534687868</td><td>6.561138919469927</td><td>38.74185424155399</td><td>6.789574596562971</td><td>38.96458693073624</td><td>6.778500306140191</td></tr>\n",
       "<tr><td>308b8193-3d58-4ed6-b3f0-b302a0e1f4bf</td><td>2024112700083</td><td>1</td><td>g</td><td>g_01</td><td>30.0</td><td>60642.05076258672</td><td>60642.05094198487</td><td>Rubin_SV_38_7</td><td>37.9938493386267</td><td>6.49560381507443</td><td>1.37156174047852</td><td>-6.888711823194171e-12</td><td>38.13391633916841</td><td>6.737601003009659</td><td>38.090735890797085</td><td>6.890591076417596</td><td>37.979224243616635</td><td>6.6973762693169565</td><td>38.17707309160411</td><td>6.584693320184703</td><td>38.288702771251835</td><td>6.777800073539541</td><td>2.676866195946018</td><td>109.18268076122075</td><td>49</td><td>32.00495171513543</td><td>654.4237151145935</td><td>26.250965082296915</td><td>719.2042777985488</td><td>CC_O_20241127_000083</td><td>{&quot;WCSAXES&quot;:2,&quot;CRPIX1&quot;:2059.496632,&quot;CRPIX2&quot;:1796.444898,&quot;PC1_1&quot;:4.8267046394734e-05,&quot;PC1_2&quot;:-2.7702198013128e-05,&quot;PC2_1&quot;:-2.7687364072342e-05,&quot;PC2_2&quot;:-4.829210441953e-05,&quot;CDELT1&quot;:1.0,&quot;CDELT2&quot;:1.0,&quot;CUNIT1&quot;:&quot;deg&quot;,&quot;CUNIT2&quot;:&quot;deg&quot;,&quot;CTYPE1&quot;:&quot;RA---TAN-SIP&quot;,&quot;CTYPE2&quot;:&quot;DEC--TAN-SIP&quot;,&quot;CRVAL1&quot;:38.140715615047,&quot;CRVAL2&quot;:6.7468563621224,&quot;LONPOLE&quot;:180.0,&quot;LATPOLE&quot;:6.7468563621224,&quot;MJDREF&quot;:0.0,&quot;RADESYS&quot;:&quot;ICRS&quot;,&quot;A_ORDER&quot;:2,&quot;A_0_2&quot;:9.26504431783504e-10,&quot;A_1_1&quot;:-9.6394904245933e-08,&quot;A_2_0&quot;:7.60818206699429e-09,&quot;B_ORDER&quot;:2,&quot;B_0_2&quot;:-1.1380438297645e-07,&quot;B_1_1&quot;:-2.4932791794295e-08,&quot;B_2_0&quot;:-3.1268660534837e-08,&quot;AP_ORDER&quot;:3,&quot;AP_0_0&quot;:-3.2396236267337e-09,&quot;AP_0_1&quot;:-7.5476395882028e-13,&quot;AP_0_2&quot;:-9.2650319826838e-10,&quot;AP_0_3&quot;:-3.0017283827548e-16,&quot;AP_1_0&quot;:-4.1607828293876e-12,&quot;AP_1_1&quot;:9.63949324330634e-08,&quot;AP_1_2&quot;:2.02324508650543e-14,&quot;AP_2_0&quot;:-7.6081806407661e-09,&quot;AP_2_1&quot;:1.45593646752746e-16,&quot;AP_3_0&quot;:3.13017988401701e-15,&quot;BP_ORDER&quot;:3,&quot;BP_0_0&quot;:-5.298899993008e-08,&quot;BP_0_1&quot;:-1.5539791675678e-11,&quot;BP_0_2&quot;:1.13804434925623e-07,&quot;BP_0_3&quot;:2.58841169432693e-14,&quot;BP_1_0&quot;:-3.2871949168935e-12,&quot;BP_1_1&quot;:2.49328115134518e-08,&quot;BP_1_2&quot;:1.08599698100846e-14,&quot;BP_2_0&quot;:3.12686746410508e-08,&quot;BP_2_1&quot;:1.35789786001708e-14,&quot;BP_3_0&quot;:3.03937874276772e-16,&quot;NAXIS1&quot;:4072,&quot;NAXIS2&quot;:4000}</td><td>LSSTComCam/runs/DRP/20241101_20241211/w_2024_50/DM-48128</td><td>goodSeeingDiff_differenceExp</td><td>-70.7494170285165</td><td>-30.2446389756252</td><td>2662.99616375123</td><td>nan</td><td>nan</td><td>0.0</td><td>38.729193920242956</td><td>7.1162749614091405</td><td>38.577723633447114</td><td>7.077117170179875</td><td>38.771245193452614</td><td>6.96667820229967</td><td>38.68712400212322</td><td>7.265952010339702</td><td>38.88075189955153</td><td>7.155406192515144</td></tr>\n",
       "<tr><td>dfa2e07d-5b68-45ee-bc60-33f67bb05be1</td><td>2024112300232</td><td>4</td><td>i</td><td>i_06</td><td>30.0</td><td>60638.13631882514</td><td>60638.13649822329</td><td>Rubin_SV_38_7</td><td>38.2274537252982</td><td>6.64415337800255</td><td>1.25280744220938</td><td>-5.682565529241401e-12</td><td>38.22621139065494</td><td>6.650791851755431</td><td>38.11780344185434</td><td>6.767423691815025</td><td>38.10688484702292</td><td>6.545197130584263</td><td>38.33457739491796</td><td>6.534103230347936</td><td>38.34559952279677</td><td>6.756338347095136</td><td>2.3510089019568685</td><td>82.59677581548094</td><td>88</td><td>31.756099308066204</td><td>1938.3622761070728</td><td>45.85907143773933</td><td>2069.8402530087847</td><td>CC_O_20241123_000232</td><td>{&quot;WCSAXES&quot;:2,&quot;CRPIX1&quot;:2329.065111,&quot;CRPIX2&quot;:1883.699813,&quot;PC1_1&quot;:5.555349858304e-05,&quot;PC1_2&quot;:-2.7260904815303e-06,&quot;PC2_1&quot;:-2.7256027541278e-06,&quot;PC2_2&quot;:-5.5557446417327e-05,&quot;CDELT1&quot;:1.0,&quot;CDELT2&quot;:1.0,&quot;CUNIT1&quot;:&quot;deg&quot;,&quot;CUNIT2&quot;:&quot;deg&quot;,&quot;CTYPE1&quot;:&quot;RA---TAN-SIP&quot;,&quot;CTYPE2&quot;:&quot;DEC--TAN-SIP&quot;,&quot;CRVAL1&quot;:38.242868410213,&quot;CRVAL2&quot;:6.656513046481,&quot;LONPOLE&quot;:180.0,&quot;LATPOLE&quot;:6.656513046481,&quot;MJDREF&quot;:0.0,&quot;RADESYS&quot;:&quot;ICRS&quot;,&quot;A_ORDER&quot;:2,&quot;A_0_2&quot;:6.97322246872764e-09,&quot;A_1_1&quot;:-1.067369195616e-11,&quot;A_2_0&quot;:1.71240531794453e-08,&quot;B_ORDER&quot;:2,&quot;B_0_2&quot;:4.51630180266105e-08,&quot;B_1_1&quot;:1.472873810563e-08,&quot;B_2_0&quot;:1.26781625286193e-08,&quot;AP_ORDER&quot;:3,&quot;AP_0_0&quot;:5.47103382129293e-10,&quot;AP_0_1&quot;:5.38327890919469e-14,&quot;AP_0_2&quot;:-6.9732229662558e-09,&quot;AP_0_3&quot;:6.29766092674944e-16,&quot;AP_1_0&quot;:-9.7477581562088e-14,&quot;AP_1_1&quot;:1.06733943116172e-11,&quot;AP_1_2&quot;:4.43754942798335e-16,&quot;AP_2_0&quot;:-1.7124053418179e-08,&quot;AP_2_1&quot;:1.76110243030776e-16,&quot;AP_3_0&quot;:5.8635812323283e-16,&quot;BP_ORDER&quot;:3,&quot;BP_0_0&quot;:2.90389923652406e-09,&quot;BP_0_1&quot;:3.81028542051353e-13,&quot;BP_0_2&quot;:-4.516302116143e-08,&quot;BP_0_3&quot;:4.18193392945908e-15,&quot;BP_1_0&quot;:-1.9662068047251e-13,&quot;BP_1_1&quot;:-1.4728739829176e-08,&quot;BP_1_2&quot;:2.17225137102042e-15,&quot;BP_2_0&quot;:-1.2678163294108e-08,&quot;BP_2_1&quot;:1.61407092431433e-15,&quot;BP_3_0&quot;:6.20963709560325e-16,&quot;NAXIS1&quot;:4072,&quot;NAXIS2&quot;:4000}</td><td>LSSTComCam/runs/DRP/20241101_20241211/w_2024_50/DM-48128</td><td>goodSeeingDiff_differenceExp</td><td>-70.7494170285165</td><td>-30.2446389756252</td><td>2662.99616375123</td><td>nan</td><td>nan</td><td>0.0</td><td>38.73173303996025</td><td>7.008952036937337</td><td>38.61491925834088</td><td>6.905876127971826</td><td>38.83759168735213</td><td>6.894812354784523</td><td>38.62583473939393</td><td>7.12303904639847</td><td>38.84860532966824</td><td>7.111976415092868</td></tr>\n",
       "<tr><td>7891aeae-374f-4d71-a291-e96d51d34827</td><td>2024120700164</td><td>5</td><td>z</td><td>z_03</td><td>30.0</td><td>60652.08726866907</td><td>60652.08744806722</td><td>Rubin_SV_38_7</td><td>37.407744395324</td><td>6.5842980037669</td><td>1.25052523911587</td><td>9.947598300641403e-12</td><td>37.63866837770162</td><td>6.609536333521124</td><td>37.5304711191493</td><td>6.7263099942217925</td><td>37.51919744383207</td><td>6.504158432735063</td><td>37.746885132432936</td><td>6.492689145296471</td><td>37.758263488522914</td><td>6.7149024928353755</td><td>2.3550767721131876</td><td>89.74432671430287</td><td>80</td><td>31.36463343880722</td><td>3926.32927775383</td><td>64.00640857778869</td><td>4140.279578696009</td><td>CC_O_20241207_000164</td><td>{&quot;WCSAXES&quot;:2,&quot;CRPIX1&quot;:1976.388832,&quot;CRPIX2&quot;:1832.189004,&quot;PC1_1&quot;:5.5555893371936e-05,&quot;PC1_2&quot;:-2.8130670216679e-06,&quot;PC2_1&quot;:-2.8079439417516e-06,&quot;PC2_2&quot;:-5.5545068741017e-05,&quot;CDELT1&quot;:1.0,&quot;CDELT2&quot;:1.0,&quot;CUNIT1&quot;:&quot;deg&quot;,&quot;CUNIT2&quot;:&quot;deg&quot;,&quot;CTYPE1&quot;:&quot;RA---TAN-SIP&quot;,&quot;CTYPE2&quot;:&quot;DEC--TAN-SIP&quot;,&quot;CRVAL1&quot;:37.635756510716,&quot;CRVAL2&quot;:6.6190832390433,&quot;LONPOLE&quot;:180.0,&quot;LATPOLE&quot;:6.6190832390433,&quot;MJDREF&quot;:0.0,&quot;RADESYS&quot;:&quot;ICRS&quot;,&quot;A_ORDER&quot;:2,&quot;A_0_2&quot;:3.9161247290401e-08,&quot;A_1_1&quot;:1.03633809954109e-09,&quot;A_2_0&quot;:1.18826769587939e-07,&quot;B_ORDER&quot;:2,&quot;B_0_2&quot;:2.43359964051755e-08,&quot;B_1_1&quot;:7.3996412393174e-08,&quot;B_2_0&quot;:5.00986627422225e-09,&quot;AP_ORDER&quot;:3,&quot;AP_0_0&quot;:6.59942290975358e-08,&quot;AP_0_1&quot;:6.08266849888876e-12,&quot;AP_0_2&quot;:-3.9161264169065e-08,&quot;AP_0_3&quot;:1.94622108086048e-15,&quot;AP_1_0&quot;:8.17368395189532e-12,&quot;AP_1_1&quot;:-1.0363439656325e-09,&quot;AP_1_2&quot;:1.51274426779165e-14,&quot;AP_2_0&quot;:-1.1882683195401e-07,&quot;AP_2_1&quot;:8.36380366581382e-16,&quot;AP_3_0&quot;:2.82428173761098e-14,&quot;BP_ORDER&quot;:3,&quot;BP_0_0&quot;:1.24393314084644e-08,&quot;BP_0_1&quot;:3.59334784150178e-12,&quot;BP_0_2&quot;:-2.4336002841012e-08,&quot;BP_0_3&quot;:4.08186334199216e-15,&quot;BP_1_0&quot;:4.8906425847334e-12,&quot;BP_1_1&quot;:-7.3996436466739e-08,&quot;BP_1_2&quot;:5.87016945731308e-15,&quot;BP_2_0&quot;:-5.0098730953989e-09,&quot;BP_2_1&quot;:1.45211810937584e-14,&quot;BP_3_0&quot;:1.56054634431155e-15,&quot;NAXIS1&quot;:4072,&quot;NAXIS2&quot;:4000}</td><td>LSSTComCam/runs/DRP/20241101_20241211/w_2024_50/DM-48128</td><td>goodSeeingDiff_differenceExp</td><td>-70.7494170285165</td><td>-30.2446389756252</td><td>2662.99616375123</td><td>nan</td><td>nan</td><td>0.0</td><td>38.4538037206399</td><td>7.040401561562748</td><td>38.3363590111868</td><td>6.937259321292849</td><td>38.55981924286429</td><td>6.9256556537312655</td><td>38.34780866582288</td><td>7.155080041789525</td><td>38.571368471239005</td><td>7.143525098604843</td></tr>\n",
       "<tr><td>...</td><td>...</td><td>...</td><td>...</td><td>...</td><td>...</td><td>...</td><td>...</td><td>...</td><td>...</td><td>...</td><td>...</td><td>...</td><td>...</td><td>...</td><td>...</td><td>...</td><td>...</td><td>...</td><td>...</td><td>...</td><td>...</td><td>...</td><td>...</td><td>...</td><td>...</td><td>...</td><td>...</td><td>...</td><td>...</td><td>...</td><td>...</td><td>...</td><td>...</td><td>...</td><td>...</td><td>...</td><td>...</td><td>...</td><td>...</td><td>...</td><td>...</td><td>...</td><td>...</td><td>...</td><td>...</td><td>...</td><td>...</td><td>...</td><td>...</td></tr>\n",
       "<tr><td>fefb41c7-b82a-41cb-9d44-fb8eb41e6741</td><td>2024112800180</td><td>4</td><td>g</td><td>g_01</td><td>30.0</td><td>60643.09271417835</td><td>60643.0928935765</td><td>Rubin_SV_38_7</td><td>38.1577880965666</td><td>6.45818522884523</td><td>1.26035118154674</td><td>2.6503244043851737e-11</td><td>38.160764171164544</td><td>6.501494504886125</td><td>38.078847011919805</td><td>6.637771961955988</td><td>38.022181396652186</td><td>6.422531550444421</td><td>38.242649268890766</td><td>6.365198826122985</td><td>38.29937428770887</td><td>6.580414006829654</td><td>2.2945968032316513</td><td>79.7152340870461</td><td>56</td><td>32.02593672340696</td><td>609.247305393219</td><td>26.241220881942564</td><td>683.4782848842036</td><td>CC_O_20241128_000180</td><td>{&quot;WCSAXES&quot;:2,&quot;CRPIX1&quot;:2016.610619,&quot;CRPIX2&quot;:2007.733149,&quot;PC1_1&quot;:5.3801601938509e-05,&quot;PC1_2&quot;:-1.4082633635412e-05,&quot;PC2_1&quot;:-1.4082718263877e-05,&quot;PC2_2&quot;:-5.3807151835314e-05,&quot;CDELT1&quot;:1.0,&quot;CDELT2&quot;:1.0,&quot;CUNIT1&quot;:&quot;deg&quot;,&quot;CUNIT2&quot;:&quot;deg&quot;,&quot;CTYPE1&quot;:&quot;RA---TAN-SIP&quot;,&quot;CTYPE2&quot;:&quot;DEC--TAN-SIP&quot;,&quot;CRVAL1&quot;:38.159564655551,&quot;CRVAL2&quot;:6.5014193529164,&quot;LONPOLE&quot;:180.0,&quot;LATPOLE&quot;:6.5014193529164,&quot;MJDREF&quot;:0.0,&quot;RADESYS&quot;:&quot;ICRS&quot;,&quot;A_ORDER&quot;:2,&quot;A_0_2&quot;:5.4512122567802e-09,&quot;A_1_1&quot;:3.00680231434006e-08,&quot;A_2_0&quot;:-6.2819647488459e-09,&quot;B_ORDER&quot;:2,&quot;B_0_2&quot;:-1.3191199959498e-09,&quot;B_1_1&quot;:-8.6332558933061e-09,&quot;B_2_0&quot;:1.36291819920258e-08,&quot;AP_ORDER&quot;:3,&quot;AP_0_0&quot;:-1.9328426216453e-10,&quot;AP_0_1&quot;:-2.7293934470675e-16,&quot;AP_0_2&quot;:-5.4512122017623e-09,&quot;AP_0_3&quot;:1.49524526079925e-16,&quot;AP_1_0&quot;:1.04360964314764e-14,&quot;AP_1_1&quot;:-3.0068023440611e-08,&quot;AP_1_2&quot;:7.01809776719328e-16,&quot;AP_2_0&quot;:6.28196490582079e-09,&quot;AP_2_1&quot;:-6.7765276982796e-16,&quot;AP_3_0&quot;:4.88726536969838e-16,&quot;BP_ORDER&quot;:3,&quot;BP_0_0&quot;:2.19836630172156e-10,&quot;BP_0_1&quot;:5.77315972805081e-15,&quot;BP_0_2&quot;:1.31911991733354e-09,&quot;BP_0_3&quot;:-4.3581470734092e-17,&quot;BP_1_0&quot;:-1.4966970650983e-15,&quot;BP_1_1&quot;:8.63325603765891e-09,&quot;BP_1_2&quot;:-7.6830969304972e-17,&quot;BP_2_0&quot;:-1.3629182158151e-08,&quot;BP_2_1&quot;:9.12413271502382e-16,&quot;BP_3_0&quot;:-2.8889947282965e-16,&quot;NAXIS1&quot;:4072,&quot;NAXIS2&quot;:4000}</td><td>LSSTComCam/runs/DRP/20241101_20241211/w_2024_50/DM-48128</td><td>goodSeeingDiff_differenceExp</td><td>-70.7494170285165</td><td>-30.2446389756252</td><td>2662.99616375123</td><td>nan</td><td>nan</td><td>0.0</td><td>38.778046893067824</td><td>6.890934082519946</td><td>38.64226249429815</td><td>6.813850547441496</td><td>38.85804602770554</td><td>6.757506147431276</td><td>38.69801949674562</td><td>7.024346345127416</td><td>38.91385459676871</td><td>6.967971140635413</td></tr>\n",
       "<tr><td>cd3d82de-936b-4004-ac04-8834be705945</td><td>2024112700107</td><td>3</td><td>r</td><td>r_03</td><td>30.0</td><td>60642.06484912615</td><td>60642.0650285243</td><td>Rubin_SV_38_7</td><td>38.0343670668892</td><td>6.51573289352745</td><td>1.32282355531513</td><td>-3.2720492981752614e-12</td><td>37.84807330253323</td><td>6.6725062405999696</td><td>37.804479663466395</td><td>6.825355685780989</td><td>37.693409558439214</td><td>6.631978025025129</td><td>37.89159406418855</td><td>6.519710126857333</td><td>38.00267454026198</td><td>6.712978771402142</td><td>2.603002727697268</td><td>96.12009190458035</td><td>84</td><td>31.94965953091431</td><td>1094.6048835814</td><td>35.58202913376119</td><td>1251.5071390227058</td><td>CC_O_20241127_000107</td><td>{&quot;WCSAXES&quot;:2,&quot;CRPIX1&quot;:1685.694864,&quot;CRPIX2&quot;:1907.909904,&quot;PC1_1&quot;:4.8346408200736e-05,&quot;PC1_2&quot;:-2.7579885245939e-05,&quot;PC2_1&quot;:-2.7584834309033e-05,&quot;PC2_2&quot;:-4.833322926502e-05,&quot;CDELT1&quot;:1.0,&quot;CDELT2&quot;:1.0,&quot;CUNIT1&quot;:&quot;deg&quot;,&quot;CUNIT2&quot;:&quot;deg&quot;,&quot;CTYPE1&quot;:&quot;RA---TAN-SIP&quot;,&quot;CTYPE2&quot;:&quot;DEC--TAN-SIP&quot;,&quot;CRVAL1&quot;:37.833558712799,&quot;CRVAL2&quot;:6.6866960531405,&quot;LONPOLE&quot;:180.0,&quot;LATPOLE&quot;:6.6866960531405,&quot;MJDREF&quot;:0.0,&quot;RADESYS&quot;:&quot;ICRS&quot;,&quot;A_ORDER&quot;:2,&quot;A_0_2&quot;:-4.0318213551814e-08,&quot;A_1_1&quot;:5.06129288982574e-09,&quot;A_2_0&quot;:-1.1245196217592e-07,&quot;B_ORDER&quot;:2,&quot;B_0_2&quot;:1.20054155883321e-08,&quot;B_1_1&quot;:-8.4662273402984e-08,&quot;B_2_0&quot;:1.31480209124965e-08,&quot;AP_ORDER&quot;:3,&quot;AP_0_0&quot;:-4.4730761563499e-08,&quot;AP_0_1&quot;:-5.6749461196814e-13,&quot;AP_0_2&quot;:4.03182284890116e-08,&quot;AP_0_3&quot;:-1.1722096822722e-15,&quot;AP_1_0&quot;:-3.5256575436903e-11,&quot;AP_1_1&quot;:-5.0613023028854e-09,&quot;AP_1_2&quot;:1.5985386165821e-14,&quot;AP_2_0&quot;:1.1245200694149e-07,&quot;AP_2_1&quot;:-3.1962616271807e-15,&quot;AP_3_0&quot;:2.53679587258764e-14,&quot;BP_ORDER&quot;:3,&quot;BP_0_0&quot;:1.26221773428213e-08,&quot;BP_0_1&quot;:-7.8015371940409e-12,&quot;BP_0_2&quot;:-1.2005420837766e-08,&quot;BP_0_3&quot;:3.70235905954247e-15,&quot;BP_1_0&quot;:4.79207621249031e-12,&quot;BP_1_1&quot;:8.46622967331774e-08,&quot;BP_1_2&quot;:-4.5385270866279e-15,&quot;BP_2_0&quot;:-1.3148031189317e-08,&quot;BP_2_1&quot;:1.71416446992275e-14,&quot;BP_3_0&quot;:-4.0715450926025e-15,&quot;NAXIS1&quot;:4072,&quot;NAXIS2&quot;:4000}</td><td>LSSTComCam/runs/DRP/20241101_20241211/w_2024_50/DM-48128</td><td>goodSeeingDiff_differenceExp</td><td>-70.7494170285165</td><td>-30.2446389756252</td><td>2662.99616375123</td><td>nan</td><td>nan</td><td>0.0</td><td>38.449621921919025</td><td>7.053025538156388</td><td>38.29816991380333</td><td>7.013568600243706</td><td>38.49203188609871</td><td>6.903528148459099</td><td>38.40714515523097</td><td>7.202574894921837</td><td>38.601008028729325</td><td>7.09242668173661</td></tr>\n",
       "<tr><td>1a98eb0d-d4c3-44d5-8d37-53cdcf71c026</td><td>2024112800188</td><td>8</td><td>i</td><td>i_06</td><td>30.0</td><td>60643.09765899879</td><td>60643.09783839694</td><td>Rubin_SV_38_7</td><td>38.1500942840463</td><td>6.57651787277285</td><td>1.25733950695406</td><td>1.900701818158268e-11</td><td>38.31975846535354</td><td>6.333492399345217</td><td>38.23781401471928</td><td>6.469799078586975</td><td>38.18123590476945</td><td>6.254458096443237</td><td>38.40173863386437</td><td>6.197030130660833</td><td>38.458357135439186</td><td>6.412441363646532</td><td>2.0378234844550174</td><td>65.80969170996713</td><td>83</td><td>31.763757958852146</td><td>2524.3110666275024</td><td>52.47300430628032</td><td>2737.453244392557</td><td>CC_O_20241128_000188</td><td>{&quot;WCSAXES&quot;:2,&quot;CRPIX1&quot;:2179.722588,&quot;CRPIX2&quot;:1882.847674,&quot;PC1_1&quot;:5.3826678025863e-05,&quot;PC1_2&quot;:-1.4063967586729e-05,&quot;PC2_1&quot;:-1.4095835971583e-05,&quot;PC2_2&quot;:-5.3842805173031e-05,&quot;CDELT1&quot;:1.0,&quot;CDELT2&quot;:1.0,&quot;CUNIT1&quot;:&quot;deg&quot;,&quot;CUNIT2&quot;:&quot;deg&quot;,&quot;CTYPE1&quot;:&quot;RA---TAN-SIP&quot;,&quot;CTYPE2&quot;:&quot;DEC--TAN-SIP&quot;,&quot;CRVAL1&quot;:38.329159730044,&quot;CRVAL2&quot;:6.3378424329144,&quot;LONPOLE&quot;:180.0,&quot;LATPOLE&quot;:6.3378424329144,&quot;MJDREF&quot;:0.0,&quot;RADESYS&quot;:&quot;ICRS&quot;,&quot;A_ORDER&quot;:2,&quot;A_0_2&quot;:4.66630242398067e-08,&quot;A_1_1&quot;:7.44510033552606e-08,&quot;A_2_0&quot;:1.24746507927988e-07,&quot;B_ORDER&quot;:2,&quot;B_0_2&quot;:1.41937901657246e-07,&quot;B_1_1&quot;:8.77444545157451e-08,&quot;B_2_0&quot;:3.297929868961e-08,&quot;AP_ORDER&quot;:3,&quot;AP_0_0&quot;:1.72436523091922e-07,&quot;AP_0_1&quot;:-1.0883565003049e-12,&quot;AP_0_2&quot;:-4.6663113393047e-08,&quot;AP_0_3&quot;:1.67203324523728e-14,&quot;AP_1_0&quot;:-1.2215672917648e-11,&quot;AP_1_1&quot;:-7.4451144264728e-08,&quot;AP_1_2&quot;:3.59421311591855e-14,&quot;AP_2_0&quot;:-1.2474662090617e-07,&quot;AP_2_1&quot;:3.74753152216048e-14,&quot;AP_3_0&quot;:3.35819285596853e-14,&quot;BP_ORDER&quot;:3,&quot;BP_0_0&quot;:1.81263086673896e-07,&quot;BP_0_1&quot;:5.75917091794053e-12,&quot;BP_0_2&quot;:-1.4193804683077e-07,&quot;BP_0_3&quot;:4.43847626976989e-14,&quot;BP_1_0&quot;:-3.4887553840416e-12,&quot;BP_1_1&quot;:-8.7744607558425e-08,&quot;BP_1_2&quot;:4.69724338198628e-14,&quot;BP_2_0&quot;:-3.2979372125842e-08,&quot;BP_2_1&quot;:3.29183193334595e-14,&quot;BP_3_0&quot;:1.11225188686837e-14,&quot;NAXIS1&quot;:4072,&quot;NAXIS2&quot;:4000}</td><td>LSSTComCam/runs/DRP/20241101_20241211/w_2024_50/DM-48128</td><td>goodSeeingDiff_differenceExp</td><td>-70.7494170285165</td><td>-30.2446389756252</td><td>2662.99616375123</td><td>nan</td><td>nan</td><td>0.0</td><td>38.93360887798911</td><td>6.726426456117142</td><td>38.79788929824813</td><td>6.649268588054514</td><td>39.01370424435942</td><td>6.59283946395587</td><td>38.853551405743055</td><td>6.859863274340706</td><td>39.069399494731044</td><td>6.80349680859069</td></tr>\n",
       "<tr><td>fb5f2746-98fa-42a3-9b71-7ca02f1a55d8</td><td>2024112800192</td><td>6</td><td>i</td><td>i_06</td><td>30.0</td><td>60643.09994094338</td><td>60643.10012034153</td><td>Rubin_SV_38_7</td><td>38.1666613635626</td><td>6.5801741464372</td><td>1.2555982271711</td><td>-1.5369039374490967e-11</td><td>37.90022736430953</td><td>6.422879912603231</td><td>37.80243613080646</td><td>6.548412736770356</td><td>37.7720378878521</td><td>6.327845244378736</td><td>37.99792977002682</td><td>6.297297656964247</td><td>38.02834292552277</td><td>6.517763872907653</td><td>1.9234076077277023</td><td>59.27386825670407</td><td>103</td><td>31.771236582844455</td><td>2493.2735228687525</td><td>51.34390582971735</td><td>2650.071913965477</td><td>CC_O_20241128_000192</td><td>{&quot;WCSAXES&quot;:2,&quot;CRPIX1&quot;:2227.791923,&quot;CRPIX2&quot;:1912.965883,&quot;PC1_1&quot;:5.5125198007945e-05,&quot;PC1_2&quot;:-7.5533570785571e-06,&quot;PC2_1&quot;:-7.5166646117615e-06,&quot;PC2_2&quot;:-5.5126857795893e-05,&quot;CDELT1&quot;:1.0,&quot;CDELT2&quot;:1.0,&quot;CUNIT1&quot;:&quot;deg&quot;,&quot;CUNIT2&quot;:&quot;deg&quot;,&quot;CTYPE1&quot;:&quot;RA---TAN-SIP&quot;,&quot;CTYPE2&quot;:&quot;DEC--TAN-SIP&quot;,&quot;CRVAL1&quot;:37.911480728719,&quot;CRVAL2&quot;:6.4262991732125,&quot;LONPOLE&quot;:180.0,&quot;LATPOLE&quot;:6.4262991732125,&quot;MJDREF&quot;:0.0,&quot;RADESYS&quot;:&quot;ICRS&quot;,&quot;A_ORDER&quot;:2,&quot;A_0_2&quot;:-4.8244054300231e-08,&quot;A_1_1&quot;:7.5057694841664e-08,&quot;A_2_0&quot;:-1.0484783512479e-07,&quot;B_ORDER&quot;:2,&quot;B_0_2&quot;:1.43942454669176e-07,&quot;B_1_1&quot;:-1.0835232004922e-07,&quot;B_2_0&quot;:4.56152107706418e-08,&quot;AP_ORDER&quot;:3,&quot;AP_0_0&quot;:-1.6109754001213e-07,&quot;AP_0_1&quot;:-4.4893958169701e-11,&quot;AP_0_2&quot;:4.82441458446215e-08,&quot;AP_0_3&quot;:-1.7503229490749e-14,&quot;AP_1_0&quot;:4.95175012105164e-11,&quot;AP_1_1&quot;:-7.5057832659062e-08,&quot;AP_1_2&quot;:3.69943378912371e-14,&quot;AP_2_0&quot;:1.0484792822824e-07,&quot;AP_2_1&quot;:-3.61284784251e-14,&quot;AP_3_0&quot;:2.54022011714731e-14,&quot;BP_ORDER&quot;:3,&quot;BP_0_0&quot;:2.31880327385917e-07,&quot;BP_0_1&quot;:7.30968618967153e-11,&quot;BP_0_2&quot;:-1.4394262762138e-07,&quot;BP_0_3&quot;:4.66521745955296e-14,&quot;BP_1_0&quot;:-5.7332399634555e-11,&quot;BP_1_1&quot;:1.08352519423689e-07,&quot;BP_1_2&quot;:-5.9300905082659e-14,&quot;BP_2_0&quot;:-4.561530828428e-08,&quot;BP_2_1&quot;:4.30631994850809e-14,&quot;BP_3_0&quot;:-1.4502084648914e-14,&quot;NAXIS1&quot;:4072,&quot;NAXIS2&quot;:4000}</td><td>LSSTComCam/runs/DRP/20241101_20241211/w_2024_50/DM-48128</td><td>goodSeeingDiff_differenceExp</td><td>-70.7494170285165</td><td>-30.2446389756252</td><td>2662.99616375123</td><td>nan</td><td>nan</td><td>0.0</td><td>38.523013943140995</td><td>6.814373575585386</td><td>38.397378629631724</td><td>6.721548997278995</td><td>38.61851815332309</td><td>6.691400789558298</td><td>38.427424885238615</td><td>6.937301100642789</td><td>38.648574215778915</td><td>6.907045918683925</td></tr>\n",
       "<tr><td>638a2ebe-0ed4-426e-809b-4ae813b3aa10</td><td>2024112700091</td><td>2</td><td>g</td><td>g_01</td><td>30.0</td><td>60642.05520342584</td><td>60642.05538282399</td><td>Rubin_SV_38_7</td><td>38.0108174693002</td><td>6.39947478601453</td><td>1.35269545412262</td><td>3.966249551012879e-11</td><td>38.35584431629693</td><td>6.5252839970366505</td><td>38.31254773490099</td><td>6.67819007666699</td><td>38.20119578146041</td><td>6.4849245012287655</td><td>38.39917645960744</td><td>6.372386675146302</td><td>38.51067323703697</td><td>6.565628167465722</td><td>2.765527439120016</td><td>113.50440592774436</td><td>49</td><td>32.005626448238836</td><td>657.8034283816814</td><td>28.440950833329563</td><td>788.7145700363858</td><td>CC_O_20241127_000091</td><td>{&quot;WCSAXES&quot;:2,&quot;CRPIX1&quot;:1955.662225,&quot;CRPIX2&quot;:1746.207771,&quot;PC1_1&quot;:4.8322991473551e-05,&quot;PC1_2&quot;:-2.7678913027053e-05,&quot;PC2_1&quot;:-2.7639656961473e-05,&quot;PC2_2&quot;:-4.8315780560422e-05,&quot;CDELT1&quot;:1.0,&quot;CDELT2&quot;:1.0,&quot;CUNIT1&quot;:&quot;deg&quot;,&quot;CUNIT2&quot;:&quot;deg&quot;,&quot;CTYPE1&quot;:&quot;RA---TAN-SIP&quot;,&quot;CTYPE2&quot;:&quot;DEC--TAN-SIP&quot;,&quot;CRVAL1&quot;:38.358986203979,&quot;CRVAL2&quot;:6.539842358062,&quot;LONPOLE&quot;:180.0,&quot;LATPOLE&quot;:6.539842358062,&quot;MJDREF&quot;:0.0,&quot;RADESYS&quot;:&quot;ICRS&quot;,&quot;A_ORDER&quot;:2,&quot;A_0_2&quot;:5.83910857872294e-08,&quot;A_1_1&quot;:-7.7971301333505e-08,&quot;A_2_0&quot;:1.22965100796692e-07,&quot;B_ORDER&quot;:2,&quot;B_0_2&quot;:-1.3570323484674e-07,&quot;B_1_1&quot;:6.94743907659224e-08,&quot;B_2_0&quot;:-2.6665249228216e-08,&quot;AP_ORDER&quot;:3,&quot;AP_0_0&quot;:1.85692540954907e-07,&quot;AP_0_1&quot;:4.05044767221483e-11,&quot;AP_0_2&quot;:-5.8391184054917e-08,&quot;AP_0_3&quot;:-2.0408053064148e-14,&quot;AP_1_0&quot;:-1.7945644970041e-11,&quot;AP_1_1&quot;:7.79714472258009e-08,&quot;AP_1_2&quot;:3.91450451032265e-14,&quot;AP_2_0&quot;:-1.2296521381688e-07,&quot;AP_2_1&quot;:-3.7301823743728e-14,&quot;AP_3_0&quot;:3.23206339468402e-14,&quot;BP_ORDER&quot;:3,&quot;BP_0_0&quot;:-1.491574276001e-07,&quot;BP_0_1&quot;:-5.7269078368449e-11,&quot;BP_0_2&quot;:1.35703356260298e-07,&quot;BP_0_3&quot;:4.09027308556383e-14,&quot;BP_1_0&quot;:2.18324917936009e-11,&quot;BP_1_1&quot;:-6.9474508442801e-08,&quot;BP_1_2&quot;:-3.6828189282691e-14,&quot;BP_2_0&quot;:2.66653048327181e-08,&quot;BP_2_1&quot;:2.47718464843776e-14,&quot;BP_3_0&quot;:-8.4118910357586e-15,&quot;NAXIS1&quot;:4072,&quot;NAXIS2&quot;:4000}</td><td>LSSTComCam/runs/DRP/20241101_20241211/w_2024_50/DM-48128</td><td>goodSeeingDiff_differenceExp</td><td>-70.7494170285165</td><td>-30.2446389756252</td><td>2662.99616375123</td><td>nan</td><td>nan</td><td>0.0</td><td>38.94625366341326</td><td>6.908394495589513</td><td>38.794832349810754</td><td>6.86909824685137</td><td>38.988482584828034</td><td>6.75881163254139</td><td>38.90406394658128</td><td>7.057985524788894</td><td>39.09784695413251</td><td>6.94767417614182</td></tr>\n",
       "<tr><td>89be0694-4aea-40f5-8feb-a8a1ff60bc4c</td><td>2024112600126</td><td>3</td><td>i</td><td>i_06</td><td>30.0</td><td>60641.076380347266</td><td>60641.076559745416</td><td>Rubin_SV_38_7</td><td>38.0173515027232</td><td>6.50977313032098</td><td>1.29882919826405</td><td>2.6645352591003757e-11</td><td>37.830810100499086</td><td>6.67660595323276</td><td>37.79285185042847</td><td>6.830879682980111</td><td>37.674828903176135</td><td>6.641697408091715</td><td>37.868709102484665</td><td>6.522399709832391</td><td>37.98672772301745</td><td>6.7114746567630625</td><td>2.1645230012654264</td><td>64.84733364886232</td><td>117</td><td>31.772997259778485</td><td>2577.5362910330296</td><td>52.34954130849322</td><td>2746.4555783709166</td><td>CC_O_20241126_000126</td><td>{&quot;WCSAXES&quot;:2,&quot;CRPIX1&quot;:1868.331897,&quot;CRPIX2&quot;:1942.588197,&quot;PC1_1&quot;:4.7291831918005e-05,&quot;PC1_2&quot;:-2.9304932841817e-05,&quot;PC2_1&quot;:-2.9311020507165e-05,&quot;PC2_2&quot;:-4.7283485830398e-05,&quot;CDELT1&quot;:1.0,&quot;CDELT2&quot;:1.0,&quot;CUNIT1&quot;:&quot;deg&quot;,&quot;CUNIT2&quot;:&quot;deg&quot;,&quot;CTYPE1&quot;:&quot;RA---TAN-SIP&quot;,&quot;CTYPE2&quot;:&quot;DEC--TAN-SIP&quot;,&quot;CRVAL1&quot;:37.824502594543,&quot;CRVAL2&quot;:6.684311607558,&quot;LONPOLE&quot;:180.0,&quot;LATPOLE&quot;:6.684311607558,&quot;MJDREF&quot;:0.0,&quot;RADESYS&quot;:&quot;ICRS&quot;,&quot;A_ORDER&quot;:2,&quot;A_0_2&quot;:-3.8593985716421e-08,&quot;A_1_1&quot;:1.14818435838684e-08,&quot;A_2_0&quot;:-1.1889576252238e-07,&quot;B_ORDER&quot;:2,&quot;B_0_2&quot;:-1.0944097555992e-08,&quot;B_1_1&quot;:-8.6405390072011e-08,&quot;B_2_0&quot;:6.025015506694e-09,&quot;AP_ORDER&quot;:3,&quot;AP_0_0&quot;:-5.5362862164468e-08,&quot;AP_0_1&quot;:-3.8220330340974e-13,&quot;AP_0_2&quot;:3.85940015241123e-08,&quot;AP_0_3&quot;:4.01733908174397e-16,&quot;AP_1_0&quot;:-2.239641805346e-11,&quot;AP_1_1&quot;:-1.1481853248321e-08,&quot;AP_1_2&quot;:1.58555655453981e-14,&quot;AP_2_0&quot;:1.18895819018696e-07,&quot;AP_2_1&quot;:-5.5531244175982e-15,&quot;AP_3_0&quot;:2.83481694583707e-14,&quot;BP_ORDER&quot;:3,&quot;BP_0_0&quot;:2.44654131882862e-09,&quot;BP_0_1&quot;:-5.1849635696044e-12,&quot;BP_0_2&quot;:1.09440979550525e-08,&quot;BP_0_3&quot;:3.57471651762954e-15,&quot;BP_1_0&quot;:-3.440615645638e-13,&quot;BP_1_1&quot;:8.64054153142488e-08,&quot;BP_1_2&quot;:1.38011531200155e-15,&quot;BP_2_0&quot;:-6.0250193014828e-09,&quot;BP_2_1&quot;:1.77485307293644e-14,&quot;BP_3_0&quot;:-1.9534641435767e-15,&quot;NAXIS1&quot;:4072,&quot;NAXIS2&quot;:4000}</td><td>LSSTComCam/runs/DRP/20241101_20241211/w_2024_50/DM-48128</td><td>goodSeeingDiff_differenceExp</td><td>-70.7494170285165</td><td>-30.2446389756252</td><td>2662.99616375123</td><td>nan</td><td>nan</td><td>0.0</td><td>38.4109175064995</td><td>7.0515674754272695</td><td>38.25821833957058</td><td>7.017609280322129</td><td>38.447821464359706</td><td>6.90073000884616</td><td>38.373960064580025</td><td>7.202470333849722</td><td>38.563549831137976</td><td>7.085485816837564</td></tr>\n",
       "<tr><td>9b682cd7-46ac-4d6c-bca0-ca6937ea772f</td><td>2024112800180</td><td>6</td><td>g</td><td>g_01</td><td>30.0</td><td>60643.09271417835</td><td>60643.0928935765</td><td>Rubin_SV_38_7</td><td>38.1577880965666</td><td>6.45818522884523</td><td>1.26035118154674</td><td>-7.830180948076304e-12</td><td>37.87205189224978</td><td>6.3335583993984095</td><td>37.79008259848839</td><td>6.4699073026569405</td><td>37.733292396586116</td><td>6.254480671557041</td><td>37.95386820911139</td><td>6.197193221570511</td><td>38.01071908856141</td><td>6.412509797185525</td><td>2.304403543155298</td><td>79.1390766447938</td><td>53</td><td>32.032860467388</td><td>606.3766055703163</td><td>27.28063465854303</td><td>738.5871433547385</td><td>CC_O_20241128_000180</td><td>{&quot;WCSAXES&quot;:2,&quot;CRPIX1&quot;:2181.22499,&quot;CRPIX2&quot;:2070.376943,&quot;PC1_1&quot;:5.3843042525611e-05,&quot;PC1_2&quot;:-1.4119767986278e-05,&quot;PC2_1&quot;:-1.4082567586884e-05,&quot;PC2_2&quot;:-5.3842899990752e-05,&quot;CDELT1&quot;:1.0,&quot;CDELT2&quot;:1.0,&quot;CUNIT1&quot;:&quot;deg&quot;,&quot;CUNIT2&quot;:&quot;deg&quot;,&quot;CTYPE1&quot;:&quot;RA---TAN-SIP&quot;,&quot;CTYPE2&quot;:&quot;DEC--TAN-SIP&quot;,&quot;CRVAL1&quot;:37.878879695066,&quot;CRVAL2&quot;:6.3277919078336,&quot;LONPOLE&quot;:180.0,&quot;LATPOLE&quot;:6.3277919078336,&quot;MJDREF&quot;:0.0,&quot;RADESYS&quot;:&quot;ICRS&quot;,&quot;A_ORDER&quot;:2,&quot;A_0_2&quot;:-7.2499331815246e-08,&quot;A_1_1&quot;:2.4207911020135e-09,&quot;A_2_0&quot;:-1.5932759754378e-07,&quot;B_ORDER&quot;:2,&quot;B_0_2&quot;:1.23348777109079e-07,&quot;B_1_1&quot;:-9.8927392705099e-08,&quot;B_2_0&quot;:4.49556379448078e-08,&quot;AP_ORDER&quot;:3,&quot;AP_0_0&quot;:-2.1551113255286e-07,&quot;AP_0_1&quot;:-7.0106258184612e-12,&quot;AP_0_2&quot;:7.24994247194967e-08,&quot;AP_0_3&quot;:-1.8059621826666e-14,&quot;AP_1_0&quot;:5.18833864759926e-11,&quot;AP_1_1&quot;:-2.4208718794899e-09,&quot;AP_1_2&quot;:3.77451031552843e-14,&quot;AP_2_0&quot;:1.59327762421711e-07,&quot;AP_2_1&quot;:-7.91356154804e-15,&quot;AP_3_0&quot;:5.08662732912928e-14,&quot;BP_ORDER&quot;:3,&quot;BP_0_0&quot;:1.98900360176443e-07,&quot;BP_0_1&quot;:1.74642522665635e-11,&quot;BP_0_2&quot;:-1.2334890848168e-07,&quot;BP_0_3&quot;:3.7600063513134e-14,&quot;BP_1_0&quot;:-2.7473078981205e-11,&quot;BP_1_1&quot;:9.89275525079047e-08,&quot;BP_1_2&quot;:-4.3360443973588e-14,&quot;BP_2_0&quot;:-4.4955737598344e-08,&quot;BP_2_1&quot;:3.68500058255738e-14,&quot;BP_3_0&quot;:-1.8767698230034e-14,&quot;NAXIS1&quot;:4072,&quot;NAXIS2&quot;:4000}</td><td>LSSTComCam/runs/DRP/20241101_20241211/w_2024_50/DM-48128</td><td>goodSeeingDiff_differenceExp</td><td>-70.7494170285165</td><td>-30.2446389756252</td><td>2662.99616375123</td><td>nan</td><td>nan</td><td>0.0</td><td>38.49515637369084</td><td>6.726983285534478</td><td>38.35919172396932</td><td>6.649779233667365</td><td>38.57509568508925</td><td>6.593479092251286</td><td>38.41507040411545</td><td>6.860473860896596</td><td>38.63102707734613</td><td>6.804059838899919</td></tr>\n",
       "<tr><td>432a4acf-1b77-4dc4-a611-8a9bd45e1236</td><td>2024112700087</td><td>3</td><td>g</td><td>g_01</td><td>30.0</td><td>60642.053030567025</td><td>60642.053209965175</td><td>Rubin_SV_38_7</td><td>38.0343473518839</td><td>6.51564728374865</td><td>1.36339129620367</td><td>1.4484413668469642e-11</td><td>37.8512339030393</td><td>6.670474858377282</td><td>37.80763172035831</td><td>6.8233319986783325</td><td>37.69656740949799</td><td>6.629950472471599</td><td>37.89474737868306</td><td>6.517653232456847</td><td>38.00584490076515</td><td>6.710964297218678</td><td>2.4895939370354925</td><td>93.91414571111147</td><td>66</td><td>32.00620955733672</td><td>647.1650395691395</td><td>27.81961389254122</td><td>762.3973326500411</td><td>CC_O_20241127_000087</td><td>{&quot;WCSAXES&quot;:2,&quot;CRPIX1&quot;:1665.451207,&quot;CRPIX2&quot;:2026.920038,&quot;PC1_1&quot;:4.8348639273653e-05,&quot;PC1_2&quot;:-2.7581108877692e-05,&quot;PC2_1&quot;:-2.7588098669319e-05,&quot;PC2_2&quot;:-4.8338429787979e-05,&quot;CDELT1&quot;:1.0,&quot;CDELT2&quot;:1.0,&quot;CUNIT1&quot;:&quot;deg&quot;,&quot;CUNIT2&quot;:&quot;deg&quot;,&quot;CTYPE1&quot;:&quot;RA---TAN-SIP&quot;,&quot;CTYPE2&quot;:&quot;DEC--TAN-SIP&quot;,&quot;CRVAL1&quot;:37.832428562974,&quot;CRVAL2&quot;:6.6794719980435,&quot;LONPOLE&quot;:180.0,&quot;LATPOLE&quot;:6.6794719980435,&quot;MJDREF&quot;:0.0,&quot;RADESYS&quot;:&quot;ICRS&quot;,&quot;A_ORDER&quot;:2,&quot;A_0_2&quot;:-4.0113819481402e-08,&quot;A_1_1&quot;:4.28194578022166e-09,&quot;A_2_0&quot;:-1.224280305245e-07,&quot;B_ORDER&quot;:2,&quot;B_0_2&quot;:5.19587033598331e-08,&quot;B_1_1&quot;:-3.529610540585e-08,&quot;B_2_0&quot;:-2.3541304636405e-08,&quot;AP_ORDER&quot;:3,&quot;AP_0_0&quot;:-4.4671885981912e-08,&quot;AP_0_1&quot;:1.6009900699901e-12,&quot;AP_0_2&quot;:4.01138330410364e-08,&quot;AP_0_3&quot;:-4.340896011867e-15,&quot;AP_1_0&quot;:-4.2213565976112e-11,&quot;AP_1_1&quot;:-4.2819505081307e-09,&quot;AP_1_2&quot;:1.28981068317569e-14,&quot;AP_2_0&quot;:1.22428081054469e-07,&quot;AP_2_1&quot;:1.65281048715928e-16,&quot;AP_3_0&quot;:2.98902912046239e-14,&quot;BP_ORDER&quot;:3,&quot;BP_0_0&quot;:-3.4103849276427e-09,&quot;BP_0_1&quot;:-2.1865842469992e-12,&quot;BP_0_2&quot;:-5.1958708062488e-08,&quot;BP_0_3&quot;:6.81567939813679e-15,&quot;BP_1_0&quot;:-8.4297411406065e-12,&quot;BP_1_1&quot;:3.52961111599304e-08,&quot;BP_1_2&quot;:-3.7640670739295e-15,&quot;BP_2_0&quot;:2.35413145389153e-08,&quot;BP_2_1&quot;:2.9196828844074e-15,&quot;BP_3_0&quot;:6.59828162038066e-15,&quot;NAXIS1&quot;:4072,&quot;NAXIS2&quot;:4000}</td><td>LSSTComCam/runs/DRP/20241101_20241211/w_2024_50/DM-48128</td><td>goodSeeingDiff_differenceExp</td><td>-70.7494170285165</td><td>-30.2446389756252</td><td>2662.99616375123</td><td>nan</td><td>nan</td><td>0.0</td><td>38.452453428477526</td><td>7.050970040756997</td><td>38.30099926443412</td><td>7.011516810362031</td><td>38.49485625484471</td><td>6.901448177668701</td><td>38.409968280473926</td><td>7.200526461709391</td><td>38.603848582247664</td><td>7.090387752160876</td></tr>\n",
       "<tr><td>43fa8d9c-d9b2-402e-a2bc-77c06c3e951b</td><td>2024112300229</td><td>4</td><td>i</td><td>i_06</td><td>30.0</td><td>60638.13125285304</td><td>60638.13143225119</td><td>Rubin_SV_38_7</td><td>38.2004404909205</td><td>6.60793503636607</td><td>1.2505825982748</td><td>1.1877610006649775e-11</td><td>38.19954270763964</td><td>6.614293253494705</td><td>38.09113829419243</td><td>6.730936190886269</td><td>38.08022358739109</td><td>6.5086912526627865</td><td>38.307889360694055</td><td>6.497607476603232</td><td>38.318922213599414</td><td>6.719854967655547</td><td>2.311665736356705</td><td>82.25741979570111</td><td>73</td><td>31.75503755583879</td><td>1924.0021314620972</td><td>45.72047290538413</td><td>2055.17163931254</td><td>CC_O_20241123_000229</td><td>{&quot;WCSAXES&quot;:2,&quot;CRPIX1&quot;:2103.259301,&quot;CRPIX2&quot;:2203.307446,&quot;PC1_1&quot;:5.5552264616334e-05,&quot;PC1_2&quot;:-2.7257628747829e-06,&quot;PC2_1&quot;:-2.7222119554972e-06,&quot;PC2_2&quot;:-5.5562134210916e-05,&quot;CDELT1&quot;:1.0,&quot;CDELT2&quot;:1.0,&quot;CUNIT1&quot;:&quot;deg&quot;,&quot;CUNIT2&quot;:&quot;deg&quot;,&quot;CTYPE1&quot;:&quot;RA---TAN-SIP&quot;,&quot;CTYPE2&quot;:&quot;DEC--TAN-SIP&quot;,&quot;CRVAL1&quot;:38.202693114758,&quot;CRVAL2&quot;:6.6028723075079,&quot;LONPOLE&quot;:180.0,&quot;LATPOLE&quot;:6.6028723075079,&quot;MJDREF&quot;:0.0,&quot;RADESYS&quot;:&quot;ICRS&quot;,&quot;A_ORDER&quot;:2,&quot;A_0_2&quot;:-5.8575381815977e-09,&quot;A_1_1&quot;:-1.7266674014546e-08,&quot;A_2_0&quot;:1.02578667403923e-08,&quot;B_ORDER&quot;:2,&quot;B_0_2&quot;:1.74132221094134e-08,&quot;B_1_1&quot;:9.10929487263333e-09,&quot;B_2_0&quot;:1.66782112402165e-08,&quot;AP_ORDER&quot;:3,&quot;AP_0_0&quot;:-4.0705618834391e-11,&quot;AP_0_1&quot;:8.53852719994947e-15,&quot;AP_0_2&quot;:5.85753819160972e-09,&quot;AP_0_3&quot;:-1.0285982307351e-16,&quot;AP_1_0&quot;:2.50910403565285e-14,&quot;AP_1_1&quot;:1.72666741405856e-08,&quot;AP_1_2&quot;:-2.2941900566857e-16,&quot;AP_2_0&quot;:-1.0257866672614e-08,&quot;AP_2_1&quot;:-8.8403327887155e-16,&quot;AP_3_0&quot;:-7.7536148229871e-17,&quot;BP_ORDER&quot;:3,&quot;BP_0_0&quot;:1.43231761846017e-10,&quot;BP_0_1&quot;:-4.1189274213593e-14,&quot;BP_0_2&quot;:-1.7413222244592e-08,&quot;BP_0_3&quot;:5.5309720444396e-16,&quot;BP_1_0&quot;:-2.7697047895991e-15,&quot;BP_1_1&quot;:-9.1092948510263e-09,&quot;BP_1_2&quot;:1.23197612043996e-16,&quot;BP_2_0&quot;:-1.6678211311427e-08,&quot;BP_2_1&quot;:1.81309466712063e-16,&quot;BP_3_0&quot;:4.94092076908133e-16,&quot;NAXIS1&quot;:4072,&quot;NAXIS2&quot;:4000}</td><td>LSSTComCam/runs/DRP/20241101_20241211/w_2024_50/DM-48128</td><td>goodSeeingDiff_differenceExp</td><td>-70.7494170285165</td><td>-30.2446389756252</td><td>2662.99616375123</td><td>nan</td><td>nan</td><td>0.0</td><td>38.70549738805977</td><td>6.973280173413822</td><td>38.58869076793011</td><td>6.87019585836525</td><td>38.81133815966064</td><td>6.8591429541371305</td><td>38.59960150390948</td><td>7.087378356828174</td><td>38.822361354757106</td><td>7.0763207068151015</td></tr>\n",
       "<tr><td>4dcac975-deb8-4ff4-b635-9242bd4f9d10</td><td>2024112700107</td><td>4</td><td>r</td><td>r_03</td><td>30.0</td><td>60642.06484912615</td><td>60642.0650285243</td><td>Rubin_SV_38_7</td><td>38.0343670668892</td><td>6.51573289352745</td><td>1.32282355531513</td><td>8.050449196161935e-12</td><td>38.053468054926846</td><td>6.5560693136699575</td><td>38.01008719400844</td><td>6.708879287903727</td><td>37.89890444608737</td><td>6.515666356198796</td><td>38.09682845634231</td><td>6.403230138315723</td><td>38.20805996994539</td><td>6.59641789120636</td><td>2.639769148868961</td><td>98.88945718841691</td><td>81</td><td>31.953322020115962</td><td>1092.6766538619995</td><td>35.05068047153203</td><td>1215.626483671398</td><td>CC_O_20241127_000107</td><td>{&quot;WCSAXES&quot;:2,&quot;CRPIX1&quot;:1971.453621,&quot;CRPIX2&quot;:2172.174388,&quot;PC1_1&quot;:4.8294688011571e-05,&quot;PC1_2&quot;:-2.7619270089718e-05,&quot;PC2_1&quot;:-2.7614494226201e-05,&quot;PC2_2&quot;:-4.8300942899989e-05,&quot;CDELT1&quot;:1.0,&quot;CDELT2&quot;:1.0,&quot;CUNIT1&quot;:&quot;deg&quot;,&quot;CUNIT2&quot;:&quot;deg&quot;,&quot;CTYPE1&quot;:&quot;RA---TAN-SIP&quot;,&quot;CTYPE2&quot;:&quot;DEC--TAN-SIP&quot;,&quot;CRVAL1&quot;:38.045522840619,&quot;CRVAL2&quot;:6.5496115436406,&quot;LONPOLE&quot;:180.0,&quot;LATPOLE&quot;:6.5496115436406,&quot;MJDREF&quot;:0.0,&quot;RADESYS&quot;:&quot;ICRS&quot;,&quot;A_ORDER&quot;:2,&quot;A_0_2&quot;:1.12371912150688e-08,&quot;A_1_1&quot;:1.26433278329309e-08,&quot;A_2_0&quot;:1.5524242064783e-08,&quot;B_ORDER&quot;:2,&quot;B_0_2&quot;:1.49169549936637e-08,&quot;B_1_1&quot;:1.61305838455041e-08,&quot;B_2_0&quot;:1.10576567359626e-08,&quot;AP_ORDER&quot;:3,&quot;AP_0_0&quot;:7.30832272791918e-10,&quot;AP_0_1&quot;:-5.1552520765519e-14,&quot;AP_0_2&quot;:-1.123719160069e-08,&quot;AP_0_3&quot;:4.77332746564986e-16,&quot;AP_1_0&quot;:-1.1324274851176e-14,&quot;AP_1_1&quot;:-1.2643328453213e-08,&quot;AP_1_2&quot;:1.05988918693387e-15,&quot;AP_2_0&quot;:-1.552424248385e-08,&quot;AP_2_1&quot;:1.04130073103409e-15,&quot;AP_3_0&quot;:6.21809200722945e-16,&quot;BP_ORDER&quot;:3,&quot;BP_0_0&quot;:7.81131981471804e-10,&quot;BP_0_1&quot;:-6.2616578588858e-14,&quot;BP_0_2&quot;:-1.4916955436236e-08,&quot;BP_0_3&quot;:6.26304293588625e-16,&quot;BP_1_0&quot;:-1.9237074125859e-14,&quot;BP_1_1&quot;:-1.6130584517905e-08,&quot;BP_1_2&quot;:1.17433218915605e-15,&quot;BP_2_0&quot;:-1.1057657151655e-08,&quot;BP_2_1&quot;:1.12012523001433e-15,&quot;BP_3_0&quot;:5.21690934864546e-16,&quot;NAXIS1&quot;:4072,&quot;NAXIS2&quot;:4000}</td><td>LSSTComCam/runs/DRP/20241101_20241211/w_2024_50/DM-48128</td><td>goodSeeingDiff_differenceExp</td><td>-70.7494170285165</td><td>-30.2446389756252</td><td>2662.99616375123</td><td>nan</td><td>nan</td><td>0.0</td><td>38.65053049379863</td><td>6.938902674038771</td><td>38.49918288826082</td><td>6.899564558844964</td><td>38.6927866135498</td><td>6.789368048991671</td><td>38.60825873782742</td><td>7.08840843662098</td><td>38.8019011372287</td><td>6.978186172200364</td></tr>\n",
       "</table></div>"
      ],
      "text/plain": [
       "<ImageCollection length=248>\n",
       "               dataId                std_idx ... global_wcs_pixel_shape_1\n",
       "               str36                  int64  ...          int64          \n",
       "------------------------------------ ------- ... ------------------------\n",
       "615b2f69-ba41-4d4b-b29b-a807e7a3ac82       0 ...                     6000\n",
       "20437cbf-38b5-4a9e-8136-6275e8ef0327       1 ...                     6000\n",
       "286c20c0-4d50-42c7-a2a7-429e918ea146       2 ...                     6000\n",
       "dccdfa92-92e3-47f4-8aba-4c1224e0a88f       3 ...                     6000\n",
       "3804f66a-ac00-49dc-b234-5ed456ab6102       4 ...                     6000\n",
       "2c1db0b7-6488-45d1-9961-6b6dda7819e9       5 ...                     6000\n",
       "308b8193-3d58-4ed6-b3f0-b302a0e1f4bf       6 ...                     6000\n",
       "dfa2e07d-5b68-45ee-bc60-33f67bb05be1       7 ...                     6000\n",
       "7891aeae-374f-4d71-a291-e96d51d34827       8 ...                     6000\n",
       "                                 ...     ... ...                      ...\n",
       "fefb41c7-b82a-41cb-9d44-fb8eb41e6741     238 ...                     6000\n",
       "cd3d82de-936b-4004-ac04-8834be705945     239 ...                     6000\n",
       "1a98eb0d-d4c3-44d5-8d37-53cdcf71c026     240 ...                     6000\n",
       "fb5f2746-98fa-42a3-9b71-7ca02f1a55d8     241 ...                     6000\n",
       "638a2ebe-0ed4-426e-809b-4ae813b3aa10     242 ...                     6000\n",
       "89be0694-4aea-40f5-8feb-a8a1ff60bc4c     243 ...                     6000\n",
       "9b682cd7-46ac-4d6c-bca0-ca6937ea772f     244 ...                     6000\n",
       "432a4acf-1b77-4dc4-a611-8a9bd45e1236     245 ...                     6000\n",
       "43fa8d9c-d9b2-402e-a2bc-77c06c3e951b     246 ...                     6000\n",
       "4dcac975-deb8-4ff4-b635-9242bd4f9d10     247 ...                     6000"
      ]
     },
     "execution_count": 22,
     "metadata": {},
     "output_type": "execute_result"
    },
    {
     "ename": "",
     "evalue": "",
     "output_type": "error",
     "traceback": [
      "\u001b[1;31mnotebook controller is DISPOSED. \n",
      "\u001b[1;31mView Jupyter <a href='command:jupyter.viewOutput'>log</a> for further details."
     ]
    }
   ],
   "source": [
    "region_search.get_image_collection_from_patch(250060, guess_dist=39.0)"
   ]
  },
  {
   "cell_type": "code",
   "execution_count": 23,
   "metadata": {},
   "outputs": [
    {
     "ename": "",
     "evalue": "",
     "output_type": "error",
     "traceback": [
      "\u001b[1;31mnotebook controller is DISPOSED. \n",
      "\u001b[1;31mView Jupyter <a href='command:jupyter.viewOutput'>log</a> for further details."
     ]
    }
   ],
   "source": [
    "# TODO plot our patches. Each patch object should have all of the corners needed for plotting.\n",
    "# TODO move into RegionSearch, note that it should be using the reflex-corrected chip polygons\n",
    "def measure_patch_overlap(patch_polygon, chip_polygons, detector_ids):\n",
    "    total_overlap_area = 0\n",
    "    chips_with_overlap = []\n",
    "    for i, chip_polygon in enumerate(chip_polygons):\n",
    "        intersection = chip_polygon.intersection(patch_polygon)\n",
    "        if not intersection.is_empty:\n",
    "            # Convert area from square degrees to square arcminutes\n",
    "            total_overlap_area += intersection.area * (60 * 60)\n",
    "            chips_with_overlap.append(detector_ids[i])\n",
    "    return (total_overlap_area, chips_with_overlap)"
   ]
  },
  {
   "cell_type": "code",
   "execution_count": 25,
   "metadata": {},
   "outputs": [
    {
     "ename": "",
     "evalue": "",
     "output_type": "error",
     "traceback": [
      "\u001b[1;31mnotebook controller is DISPOSED. \n",
      "\u001b[1;31mView Jupyter <a href='command:jupyter.viewOutput'>log</a> for further details."
     ]
    }
   ],
   "source": []
  },
  {
   "cell_type": "code",
   "execution_count": 29,
   "metadata": {},
   "outputs": [
    {
     "ename": "",
     "evalue": "",
     "output_type": "error",
     "traceback": [
      "\u001b[1;31mnotebook controller is DISPOSED. \n",
      "\u001b[1;31mView Jupyter <a href='command:jupyter.viewOutput'>log</a> for further details."
     ]
    }
   ],
   "source": [
    "patch_ics = []\n",
    "for patch_id in found_patches:\n",
    "    patch_ics.append(\n",
    "        region_search.get_image_collection_from_patch(patch_id, guess_dist=39.0)\n",
    "    )"
   ]
  },
  {
   "cell_type": "code",
   "execution_count": 51,
   "metadata": {},
   "outputs": [
    {
     "data": {
      "text/plain": [
       "<TableColumns names=('dataId','visit','detector','band','filter','exposureTime','mjd_start','mjd_mid','object','pointing_ra','pointing_dec','airmass','wcs_err','ra','dec','ra_bl','dec_bl','ra_tl','dec_tl','ra_tr','dec_tr','ra_br','dec_br','psfSigma','psfArea','nPsfStar','zeroPoint','skyBg','skyNoise','meanVar','OBSID','wcs','collection','datasetType','obs_lon','obs_lat','obs_elev','astromOffsetMean','astromOffsetStd','DIMM2SEE','ra_39.0','dec_39.0','ra_tl_39.0','dec_tl_39.0','ra_tr_39.0','dec_tr_39.0','ra_bl_39.0','dec_bl_39.0','ra_br_39.0','dec_br_39.0')>"
      ]
     },
     "execution_count": 51,
     "metadata": {},
     "output_type": "execute_result"
    },
    {
     "ename": "",
     "evalue": "",
     "output_type": "error",
     "traceback": [
      "\u001b[1;31mnotebook controller is DISPOSED. \n",
      "\u001b[1;31mView Jupyter <a href='command:jupyter.viewOutput'>log</a> for further details."
     ]
    }
   ],
   "source": [
    "patch_ics[1].columns"
   ]
  },
  {
   "cell_type": "code",
   "execution_count": null,
   "metadata": {},
   "outputs": [
    {
     "ename": "",
     "evalue": "",
     "output_type": "error",
     "traceback": [
      "\u001b[1;31mnotebook controller is DISPOSED. \n",
      "\u001b[1;31mView Jupyter <a href='command:jupyter.viewOutput'>log</a> for further details."
     ]
    }
   ],
   "source": [
    "print(patch_ics[1].data[\"global_wcs\"][0])\n",
    "print(patch_ics[1].data[\"global_wcs_pixel_shape_0\"][0])\n",
    "print(patch_ics[1].data[\"global_wcs_pixel_shape_1\"][0])\n",
    "print(patch_ics[1].data[\"helio_guess_dist\"][0])"
   ]
  },
  {
   "cell_type": "code",
   "execution_count": 26,
   "metadata": {},
   "outputs": [
    {
     "ename": "",
     "evalue": "",
     "output_type": "error",
     "traceback": [
      "\u001b[1;31mnotebook controller is DISPOSED. \n",
      "\u001b[1;31mView Jupyter <a href='command:jupyter.viewOutput'>log</a> for further details."
     ]
    }
   ],
   "source": [
    "# We will now measure the overlap of all chips in our ImageCollection against the patches that we are interested in.\n",
    "# We will memoize the results of this calculation.\n",
    "# Note that we are using the reflex-corrected chip polygons.\n",
    "# This should also update the ImageCollection columns with the overlap area and the chips that overlap with the patch.\n",
    "# region_search.filter_overlapping_chips(patch_id)"
   ]
  },
  {
   "cell_type": "code",
   "execution_count": 49,
   "metadata": {},
   "outputs": [
    {
     "data": {
      "text/plain": [
       "249"
      ]
     },
     "execution_count": 49,
     "metadata": {},
     "output_type": "execute_result"
    },
    {
     "ename": "",
     "evalue": "",
     "output_type": "error",
     "traceback": [
      "\u001b[1;31mnotebook controller is DISPOSED. \n",
      "\u001b[1;31mView Jupyter <a href='command:jupyter.viewOutput'>log</a> for further details."
     ]
    }
   ],
   "source": [
    "basedir = (\n",
    "    f\"/sdf/group/rubin/user/colinc/lincc_fw_kbmod_demo\"  # Root directory for the demo.\n",
    ")\n",
    "workdir = f\"{basedir}/20X20_patch250060\"  # The subdirectory where images and other input and output files will be located\n",
    "# This is an ImageCollection, output by kbmod.ImageCollection\n",
    "colin_ic_path = (\n",
    "    f\"{workdir}/tno_2013_TA228_ComCam_w50_20x20_patch250060_betterIDs.collection\"\n",
    ")\n",
    "\n",
    "colin_ic = kbmod.ImageCollection.read(colin_ic_path)\n",
    "len(colin_ic)"
   ]
  },
  {
   "cell_type": "code",
   "execution_count": 42,
   "metadata": {},
   "outputs": [
    {
     "name": "stdout",
     "output_type": "stream",
     "text": [
      "Colin's ImageCollection has 249 unique visit-detector pairs.\n",
      "My ImageCollection has 248 unique visit-detector pairs.\n"
     ]
    },
    {
     "ename": "",
     "evalue": "",
     "output_type": "error",
     "traceback": [
      "\u001b[1;31mnotebook controller is DISPOSED. \n",
      "\u001b[1;31mView Jupyter <a href='command:jupyter.viewOutput'>log</a> for further details."
     ]
    }
   ],
   "source": [
    "colin_vds = set(zip(colin_ic.data[\"visit\"], colin_ic.data[\"detector\"]))\n",
    "my_vds = set(zip(patch_ics[1].data[\"visit\"], patch_ics[1].data[\"detector\"]))\n",
    "print(f\"Colin's ImageCollection has {len(colin_vds)} unique visit-detector pairs.\")\n",
    "print(f\"My ImageCollection has {len(my_vds)} unique visit-detector pairs.\")"
   ]
  },
  {
   "cell_type": "code",
   "execution_count": 48,
   "metadata": {},
   "outputs": [
    {
     "data": {
      "text/plain": [
       "{(2024120700093, 8)}"
      ]
     },
     "execution_count": 48,
     "metadata": {},
     "output_type": "execute_result"
    },
    {
     "ename": "",
     "evalue": "",
     "output_type": "error",
     "traceback": [
      "\u001b[1;31mnotebook controller is DISPOSED. \n",
      "\u001b[1;31mView Jupyter <a href='command:jupyter.viewOutput'>log</a> for further details."
     ]
    }
   ],
   "source": [
    "colin_vds.symmetric_difference(my_vds)"
   ]
  },
  {
   "cell_type": "code",
   "execution_count": null,
   "metadata": {},
   "outputs": [
    {
     "ename": "",
     "evalue": "",
     "output_type": "error",
     "traceback": [
      "\u001b[1;31mnotebook controller is DISPOSED. \n",
      "\u001b[1;31mView Jupyter <a href='command:jupyter.viewOutput'>log</a> for further details."
     ]
    }
   ],
   "source": []
  },
  {
   "cell_type": "code",
   "execution_count": null,
   "metadata": {},
   "outputs": [
    {
     "ename": "",
     "evalue": "",
     "output_type": "error",
     "traceback": [
      "\u001b[1;31mnotebook controller is DISPOSED. \n",
      "\u001b[1;31mView Jupyter <a href='command:jupyter.viewOutput'>log</a> for further details."
     ]
    }
   ],
   "source": []
  }
 ],
 "metadata": {
  "kernelspec": {
   "display_name": "lsst-scipipe-9.0.0",
   "language": "python",
   "name": "python3"
  },
  "language_info": {
   "codemirror_mode": {
    "name": "ipython",
    "version": 3
   },
   "file_extension": ".py",
   "mimetype": "text/x-python",
   "name": "python",
   "nbconvert_exporter": "python",
   "pygments_lexer": "ipython3",
   "version": "3.11.9"
  }
 },
 "nbformat": 4,
 "nbformat_minor": 2
}
