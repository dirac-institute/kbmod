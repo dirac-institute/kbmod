{
 "cells": [
  {
   "cell_type": "markdown",
   "id": "85168431",
   "metadata": {},
   "source": [
    "# Environment\n",
    "\n",
    "This demo was presented on [baldur.astro.washington.edu/jupyter](baldur.astro.washington.edu/jupyter) with the shared jupyter kernel `kbmod/w_2023_38`. \n",
    "\n",
    "It assumes that the user has read access to the test data at `/epyc/projects/kbmod/data` on epyc and is assumed to be executed on baldur.\n",
    "\n",
    "This notebook is currently stored for shared access in `/epyc/projects/kbmod/jupyter/notebooks/e2e`\n",
    "\n",
    "# Setup"
   ]
  },
  {
   "cell_type": "code",
   "execution_count": null,
   "id": "5b5bc851-cffd-4198-ab51-3ee20fadfa07",
   "metadata": {},
   "outputs": [],
   "source": [
    "import kbmod\n",
    "\n",
    "from kbmod.region_search import RegionSearch"
   ]
  },
  {
   "cell_type": "markdown",
   "id": "665d26ce-fed1-4d35-be2a-60bb345d8e25",
   "metadata": {},
   "source": [
    "# Inspect the butler repo's contents\n",
    "While you can inspect the butler repo in a fairly straightforwared manner, the `RegionSearch` module provides some static methods that can help you pick which collections and datatypes to query from the butler. "
   ]
  },
  {
   "cell_type": "code",
   "execution_count": null,
   "id": "bf089f83-dd2e-44ad-8f58-345b371b91b8",
   "metadata": {},
   "outputs": [],
   "source": [
    "REPO_PATH = \"/epyc/projects/kbmod/data/imdiff_w09_gaiadr3\""
   ]
  },
  {
   "cell_type": "code",
   "execution_count": null,
   "id": "b3c520cd-c9e4-4398-b2ce-f266c173019c",
   "metadata": {},
   "outputs": [],
   "source": [
    "RegionSearch.get_collection_names(repo_path=REPO_PATH)"
   ]
  },
  {
   "cell_type": "markdown",
   "id": "f0b815b4-30ec-4647-a0e3-4c1897e87783",
   "metadata": {},
   "source": [
    "For this example, we want to pick one of the collections with fakes and we'll use 'DECam/withFakes/20210318'.\n",
    "\n",
    "We now want to inspect how many datarefs are associated with each datatype we can query from this collection."
   ]
  },
  {
   "cell_type": "code",
   "execution_count": null,
   "id": "f85b1c92-5a46-48dc-a138-3a77793c0ed4",
   "metadata": {},
   "outputs": [],
   "source": [
    "collections = [\"DECam/withFakes/20210318\"]\n",
    "\n",
    "RegionSearch.get_dataset_type_freq(repo_path=REPO_PATH, collections=collections)"
   ]
  },
  {
   "cell_type": "markdown",
   "id": "ae3dad04-a30a-4d7e-908d-82fdc16c1f9c",
   "metadata": {},
   "source": [
    "# Fetch Data from the Butler for Region Search\n",
    "\n",
    "From the above, 'fakes_calexp' seems a reasonable choice for a datatype we can limit our queries to.\n",
    "\n",
    "In the following, we construct a `RegionSearch` object which will instantiate a butler for our repo and fetch the image data keyed by (Visit, Detector, Region) (aka VDR) along with some associated metadata and calculations in an astropy table."
   ]
  },
  {
   "cell_type": "code",
   "execution_count": null,
   "id": "315fb948",
   "metadata": {},
   "outputs": [],
   "source": [
    "dataset_types = [\"fakes_calexp\"]\n",
    "rs = RegionSearch(\n",
    "    REPO_PATH, collections, dataset_types, visit_info_str=\"calexp.visitInfo\", fetch_data_on_start=True\n",
    ")\n",
    "\n",
    "rs.vdr_data"
   ]
  },
  {
   "cell_type": "markdown",
   "id": "052f3af7",
   "metadata": {},
   "source": [
    "# Find Discrete Piles\n",
    "\n",
    "In the 10 images above we want to find"
   ]
  },
  {
   "cell_type": "code",
   "execution_count": null,
   "id": "347036e6-32ac-492a-b448-9b8d3bff12fb",
   "metadata": {},
   "outputs": [],
   "source": [
    "overlapping_sets = rs.find_overlapping_coords(uncertainty_radius=30)\n",
    "print(f\"Found {len(overlapping_sets)} discrete piles\")\n",
    "for i in range(len(overlapping_sets)):\n",
    "    print(\n",
    "        f\"In overlapping set {i + 1}, we have the following indices for images in the VDR data table: {overlapping_sets[i]}\"\n",
    "    )"
   ]
  },
  {
   "cell_type": "markdown",
   "id": "8eba4ae1-e8e5-42bb-a1e0-e5b7e1387f78",
   "metadata": {},
   "source": [
    "## Create an ImageCollection\n",
    "The first pile has the most images, so we'll use it to create a KBMOD ImageCollection from which we can run a search."
   ]
  },
  {
   "cell_type": "code",
   "execution_count": null,
   "id": "894617d3-d033-4961-9caf-247156033a50",
   "metadata": {},
   "outputs": [],
   "source": [
    "uris = [rs.vdr_data[\"uri\"][index] for index in overlapping_sets[0]]\n",
    "ic = kbmod.ImageCollection.fromTargets(uris)\n",
    "ic"
   ]
  },
  {
   "cell_type": "markdown",
   "id": "de5baeb4-8ce5-4f43-a8bb-fec2102d3491",
   "metadata": {},
   "source": [
    "# Create a KBMOD Workunit from the ImageCollection\n",
    "\n",
    "Use KBMOD to search for trajectories in one of the identified discrete piles"
   ]
  },
  {
   "cell_type": "code",
   "execution_count": null,
   "id": "aedb63bd-8542-4750-b47d-34c606f94565",
   "metadata": {},
   "outputs": [],
   "source": [
    "from pathlib import Path\n",
    "import os\n",
    "import numpy as np\n",
    "\n",
    "results_suffix = \"DEMO\"\n",
    "\n",
    "res_filepath = \"./demo_results\"\n",
    "if not Path(res_filepath).is_dir():\n",
    "    os.mkdir(res_filepath)\n",
    "\n",
    "# The demo data has an object moving at x_v=10 px/day\n",
    "# and y_v = 0 px/day. So we search velocities [0, 20].\n",
    "v_min = 3000\n",
    "v_max = 4000\n",
    "v_steps = 50\n",
    "v_arr = [v_min, v_max, v_steps]\n",
    "\n",
    "# angle with respect to ecliptic, in radians\n",
    "ang_below = 3 * np.pi / 2  # 0\n",
    "ang_above = 2 * np.pi  # 1\n",
    "ang_steps = 50  # 21\n",
    "ang_arr = [ang_below, ang_above, ang_steps]\n",
    "\n",
    "# There are 3 images in the demo data. Make sure we see\n",
    "# the object in at least 2.\n",
    "num_obs = 2\n",
    "\n",
    "input_parameters = {\n",
    "    # Required\n",
    "    \"res_filepath\": res_filepath,\n",
    "    \"output_suffix\": results_suffix,\n",
    "    \"v_arr\": v_arr,\n",
    "    \"ang_arr\": ang_arr,\n",
    "    # Important\n",
    "    \"num_obs\": 2,\n",
    "    \"do_mask\": False,\n",
    "    \"lh_level\": 10.0,\n",
    "    \"gpu_filter\": True,\n",
    "    # Fine tuning\n",
    "    \"sigmaG_lims\": [15, 60],\n",
    "    \"mom_lims\": [37.5, 37.5, 1.5, 1.0, 1.0],\n",
    "    \"peak_offset\": [3.0, 3.0],\n",
    "    \"chunk_size\": 1000000,\n",
    "    \"stamp_type\": \"cpp_median\",\n",
    "    \"cluster_eps\": 20.0,\n",
    "    \"clip_negative\": True,\n",
    "    \"mask_num_images\": 0,\n",
    "    \"cluster_type\": \"position\",\n",
    "    \"average_angle\": 0.0,\n",
    "}\n",
    "\n",
    "config = kbmod.configuration.SearchConfiguration()\n",
    "config.set_multiple(input_parameters)\n",
    "\n",
    "wunit = ic.toWorkUnit(config)"
   ]
  },
  {
   "cell_type": "markdown",
   "id": "10a6f708-296a-4dfd-9552-317f481543d0",
   "metadata": {},
   "source": [
    "# Visualize Our ImageCollection\n",
    "\n",
    "The following defines some helper functions for visualizing the images in our `WorkUnit`. We can quickly inspect these to sanity check."
   ]
  },
  {
   "cell_type": "code",
   "execution_count": null,
   "id": "70909d23",
   "metadata": {},
   "outputs": [],
   "source": [
    "import matplotlib.pyplot as plt\n",
    "import numpy as np\n",
    "\n",
    "from astropy.visualization import astropy_mpl_style\n",
    "from astropy.visualization import ZScaleInterval, simple_norm, imshow_norm, ZScaleInterval, SinhStretch\n",
    "\n",
    "\n",
    "def get_image(workunit, n):\n",
    "    return workunit.im_stack.get_images()[n]\n",
    "\n",
    "\n",
    "def get_science_image(workunit, n):\n",
    "    return get_image(workunit, n).get_science().image\n",
    "\n",
    "\n",
    "def get_variance_image(workunit, n):\n",
    "    return get_image(workunit, n).get_variance().image\n",
    "\n",
    "\n",
    "def get_mask_image(workunit, n):\n",
    "    return get_image(workunit, n).get_mask().image\n",
    "\n",
    "\n",
    "def plot_img(img):\n",
    "    fig, ax = plt.subplots(figsize=(25, 25))\n",
    "    _ = imshow_norm(\n",
    "        img.T, ax, cmap=\"gray\", origin=\"lower\", interval=ZScaleInterval(contrast=0.5), stretch=SinhStretch()\n",
    "    )\n",
    "    plt.show()"
   ]
  },
  {
   "cell_type": "markdown",
   "id": "227cf312-b595-4f33-9e5f-67c5aab17c99",
   "metadata": {},
   "source": [
    "## The Science Images"
   ]
  },
  {
   "cell_type": "code",
   "execution_count": null,
   "id": "b7c08fe4",
   "metadata": {},
   "outputs": [],
   "source": [
    "for i in range(len(ic)):\n",
    "    plot_img(get_science_image(wunit, i))"
   ]
  },
  {
   "cell_type": "markdown",
   "id": "37769833-fcc4-49b8-8773-1d075cedf000",
   "metadata": {},
   "source": [
    "## The Variance Images"
   ]
  },
  {
   "cell_type": "code",
   "execution_count": null,
   "id": "9c08c5fe",
   "metadata": {},
   "outputs": [],
   "source": [
    "for i in range(len(ic)):\n",
    "    plot_img(get_variance_image(wunit, i))"
   ]
  },
  {
   "cell_type": "markdown",
   "id": "9e429a49-b79a-40f3-9f29-c3184341b1b6",
   "metadata": {},
   "source": [
    "# Create a Reprojected Workunit\n",
    "\n",
    "First we'll need to create a new initial work unit so results can be saved in a different directory"
   ]
  },
  {
   "cell_type": "code",
   "execution_count": null,
   "id": "6271fd4b-3eb2-438a-93dd-2cbaf82dec34",
   "metadata": {},
   "outputs": [],
   "source": [
    "from pathlib import Path\n",
    "import os\n",
    "\n",
    "results_suffix = \"REPROJECT_DEMO\"\n",
    "\n",
    "res_filepath = \"./reproject_demo_results\"\n",
    "if not Path(res_filepath).is_dir():\n",
    "    os.mkdir(res_filepath)\n",
    "\n",
    "# The demo data has an object moving at x_v=10 px/day\n",
    "# and y_v = 0 px/day. So we search velocities [0, 20].\n",
    "v_min = 3000\n",
    "v_max = 4000\n",
    "v_steps = 50\n",
    "v_arr = [v_min, v_max, v_steps]\n",
    "\n",
    "# angle with respect to ecliptic, in radians\n",
    "ang_below = 3 * np.pi / 2  # 0\n",
    "ang_above = 2 * np.pi  # 1\n",
    "ang_steps = 50  # 21\n",
    "ang_arr = [ang_below, ang_above, ang_steps]\n",
    "\n",
    "# There are 3 images in the demo data. Make sure we see\n",
    "# the object in at least 2.\n",
    "num_obs = 2\n",
    "\n",
    "input_parameters = {\n",
    "    # Required\n",
    "    \"res_filepath\": res_filepath,\n",
    "    \"output_suffix\": results_suffix,\n",
    "    \"v_arr\": v_arr,\n",
    "    \"ang_arr\": ang_arr,\n",
    "    # Important\n",
    "    \"num_obs\": 2,\n",
    "    \"do_mask\": False,\n",
    "    \"lh_level\": 10.0,\n",
    "    \"gpu_filter\": True,\n",
    "    # Fine tuning\n",
    "    \"sigmaG_lims\": [15, 60],\n",
    "    \"mom_lims\": [37.5, 37.5, 1.5, 1.0, 1.0],\n",
    "    \"peak_offset\": [3.0, 3.0],\n",
    "    \"chunk_size\": 1000000,\n",
    "    \"stamp_type\": \"cpp_median\",\n",
    "    \"eps\": 0.03,\n",
    "    \"clip_negative\": True,\n",
    "    \"mask_num_images\": 0,\n",
    "    \"cluster_type\": \"position\",\n",
    "    \"average_angle\": 0.0,\n",
    "}\n",
    "\n",
    "config = kbmod.configuration.SearchConfiguration()\n",
    "config.set_multiple(input_parameters)\n",
    "\n",
    "new_wunit = ic.toWorkUnit(config)"
   ]
  },
  {
   "cell_type": "code",
   "execution_count": null,
   "id": "4599f776-291c-4238-acc8-f6f8acf95087",
   "metadata": {},
   "outputs": [],
   "source": [
    "%%time\n",
    "from kbmod import reprojection\n",
    "\n",
    "common_wcs = new_wunit._per_image_wcs[0]\n",
    "\n",
    "uwunit = reprojection.reproject_work_unit(new_wunit, common_wcs)"
   ]
  },
  {
   "cell_type": "markdown",
   "id": "dbba31a3-b9d1-48aa-a0f9-29b6817f5b59",
   "metadata": {},
   "source": [
    "# Let's visualize our reprojected images.\n",
    "\n",
    "## The reprojected science images"
   ]
  },
  {
   "cell_type": "code",
   "execution_count": null,
   "id": "cbab1cdc-62e2-47f6-a03c-68238da9a6cc",
   "metadata": {},
   "outputs": [],
   "source": [
    "for i in range(len(ic)):\n",
    "    plot_img(get_science_image(uwunit, i))"
   ]
  },
  {
   "cell_type": "markdown",
   "id": "0e0bb547-11eb-4e25-9345-54dfefbde80e",
   "metadata": {},
   "source": [
    "## The reprojected variance images"
   ]
  },
  {
   "cell_type": "code",
   "execution_count": null,
   "id": "6001d8ad-0669-46d9-bbdd-fcdb090e021c",
   "metadata": {},
   "outputs": [],
   "source": [
    "for i in range(len(ic)):\n",
    "    plot_img(get_variance_image(uwunit, i))"
   ]
  },
  {
   "cell_type": "markdown",
   "id": "3791c433-62b9-42e0-88d6-0dc0a53ff06d",
   "metadata": {},
   "source": [
    "# Run KBMOD Search without Reprojection"
   ]
  },
  {
   "cell_type": "code",
   "execution_count": null,
   "id": "18ceb66c-b9f2-4ec1-8c35-a2fc8cdd136a",
   "metadata": {},
   "outputs": [],
   "source": [
    "res = kbmod.run_search.SearchRunner().run_search_from_work_unit(wunit)"
   ]
  },
  {
   "cell_type": "markdown",
   "id": "25f16aac",
   "metadata": {},
   "source": [
    "# Inspect the Results"
   ]
  },
  {
   "cell_type": "code",
   "execution_count": null,
   "id": "c25713c9-27da-4c04-9903-089a4b58b38e",
   "metadata": {},
   "outputs": [],
   "source": [
    "trajectories = [t.trajectory for t in sorted(res.results, key=lambda x: x.trajectory.lh, reverse=True)]"
   ]
  },
  {
   "cell_type": "code",
   "execution_count": null,
   "id": "cf232f31-656a-4dd0-94e2-c408893070ee",
   "metadata": {},
   "outputs": [],
   "source": [
    "trajectories"
   ]
  },
  {
   "cell_type": "code",
   "execution_count": null,
   "id": "d01b424b",
   "metadata": {
    "scrolled": true
   },
   "outputs": [],
   "source": [
    "# We can create stamps for each result\n",
    "imgstack = wunit.im_stack\n",
    "\n",
    "# Create the stamps around remaining results\n",
    "nres = len(trajectories)\n",
    "fig, axes = plt.subplots(nres, 3, figsize=(10, nres * 3), sharey=True, sharex=True)\n",
    "\n",
    "stamp_size = 20\n",
    "for row, traj in zip(axes, trajectories):\n",
    "    stamps = kbmod.search.StampCreator.get_stamps(imgstack, traj, stamp_size)\n",
    "    for ax, stamp in zip(row, stamps):\n",
    "        ax.imshow(stamp.image, interpolation=None, cmap=\"gist_heat\")\n",
    "\n",
    "plt.tight_layout()"
   ]
  },
  {
   "cell_type": "code",
   "execution_count": null,
   "id": "aa81be5b",
   "metadata": {},
   "outputs": [],
   "source": [
    "# We can further filter these results - let's say we had a lower cutoff on likelihood of 10\n",
    "# but now that we can see there are many results with a much larger likelihoods than that - we want to increase that limit\n",
    "# This is not uncommon as usually the number of false positives returned by KBMOD is rather large\n",
    "from kbmod.filters.stats_filters import LHFilter\n",
    "\n",
    "# Filter out all results that have a likelihood < 40.0.\n",
    "lhfilter = LHFilter(40.0, None)\n",
    "res.apply_filter(lhfilter)\n",
    "print(f\"{res.num_results()} results remaining.\")\n",
    "\n",
    "for result in res.results:\n",
    "    print(result.trajectory)"
   ]
  },
  {
   "cell_type": "code",
   "execution_count": null,
   "id": "7a8c15af",
   "metadata": {},
   "outputs": [],
   "source": [
    "# We can filter on stamps too, for example:\n",
    "from kbmod.filters.stamp_filters import StampPeakFilter\n",
    "\n",
    "filter2 = StampPeakFilter(10, 2.1, 0.1)\n",
    "res.apply_filter(filter2)\n",
    "print(f\"{res.num_results()} results remaining.\")"
   ]
  },
  {
   "cell_type": "code",
   "execution_count": null,
   "id": "d8076f74",
   "metadata": {},
   "outputs": [],
   "source": [
    "fig, axes = plt.subplots(1, 3, figsize=(10, nres * 3), sharey=True, sharex=True)\n",
    "\n",
    "stamps = kbmod.search.StampCreator.get_stamps(imgstack, res.results[0].trajectory, 20)\n",
    "for ax, stamp in zip(axes, stamps):\n",
    "    ax.imshow(stamp.image, interpolation=None, cmap=\"gist_heat\")\n",
    "\n",
    "plt.tight_layout()"
   ]
  },
  {
   "cell_type": "markdown",
   "id": "bf918af6-987e-47d0-8ea2-ef79545f076e",
   "metadata": {},
   "source": [
    "# Run KBMOD Search on the Reprojected Images"
   ]
  },
  {
   "cell_type": "code",
   "execution_count": null,
   "id": "e1904d07-6b40-45dd-900b-9e45fc4c6ad7",
   "metadata": {},
   "outputs": [],
   "source": [
    "reproject_res = kbmod.run_search.SearchRunner().run_search_from_work_unit(wunit)"
   ]
  },
  {
   "cell_type": "code",
   "execution_count": null,
   "id": "68d3c0b0-21e1-439b-bf45-fb95fd33343f",
   "metadata": {},
   "outputs": [],
   "source": [
    "reproj_traj = [t.trajectory for t in reproject_res.results]\n",
    "reproj_traj"
   ]
  },
  {
   "cell_type": "code",
   "execution_count": null,
   "id": "56fbf395-12ce-48dc-973d-1df97dc993e4",
   "metadata": {},
   "outputs": [],
   "source": [
    "# We can create stamps for each result\n",
    "imgstack = uwunit.im_stack\n",
    "\n",
    "# Create the stamps around remaining results\n",
    "nres = len(reproj_traj)\n",
    "fig, axes = plt.subplots(nres, 3, figsize=(10, nres * 3), sharey=True, sharex=True)\n",
    "\n",
    "stamp_size = 20\n",
    "for row, traj in zip(axes, reproj_traj):\n",
    "    stamps = kbmod.search.StampCreator.get_stamps(imgstack, traj, stamp_size)\n",
    "    for ax, stamp in zip(row, stamps):\n",
    "        ax.imshow(stamp.image, interpolation=None, cmap=\"gist_heat\")\n",
    "\n",
    "plt.tight_layout()"
   ]
  },
  {
   "cell_type": "code",
   "execution_count": null,
   "id": "bf30090e-b533-4b6b-9c1b-e27552e3b3e5",
   "metadata": {},
   "outputs": [],
   "source": [
    "# We can further filter these results - let's say we had a lower cutoff on likelihood of 10\n",
    "# but now that we can see there are many results with a much larger likelihoods than that - we want to increase that limit\n",
    "# This is not uncommon as usually the number of false positives returned by KBMOD is rather large\n",
    "from kbmod.filters.stats_filters import LHFilter\n",
    "\n",
    "# Filter out all results that have a likelihood < 40.0.\n",
    "lhfilter = LHFilter(40.0, None)\n",
    "reproject_res.apply_filter(lhfilter)\n",
    "print(f\"{reproject_res.num_results()} results remaining.\")\n",
    "\n",
    "for result in reproject_res.results:\n",
    "    print(result.trajectory)"
   ]
  },
  {
   "cell_type": "code",
   "execution_count": null,
   "id": "3b63a2b3-e39c-4dde-af41-b1aec66435c8",
   "metadata": {},
   "outputs": [],
   "source": [
    "# We can filter on stamps too, for example:\n",
    "from kbmod.filters.stamp_filters import StampPeakFilter\n",
    "\n",
    "filter2 = StampPeakFilter(10, 2.1, 0.1)\n",
    "reproject_res.apply_filter(filter2)\n",
    "print(f\"{reproject_res.num_results()} results remaining.\")"
   ]
  },
  {
   "cell_type": "code",
   "execution_count": null,
   "id": "ce8eab22-ac89-4a94-90e3-7628ea66af5f",
   "metadata": {},
   "outputs": [],
   "source": [
    "fig, axes = plt.subplots(1, 3, figsize=(10, nres * 3), sharey=True, sharex=True)\n",
    "\n",
    "stamps = kbmod.search.StampCreator.get_stamps(imgstack, reproject_res.results[0].trajectory, 20)\n",
    "for ax, stamp in zip(axes, stamps):\n",
    "    ax.imshow(stamp.image, interpolation=None, cmap=\"gist_heat\")\n",
    "\n",
    "plt.tight_layout()"
   ]
  },
  {
   "cell_type": "code",
   "execution_count": null,
   "id": "25a638a5-db0c-4380-b6bc-8d2c765aef08",
   "metadata": {},
   "outputs": [],
   "source": []
  }
 ],
 "metadata": {
  "kernelspec": {
   "display_name": "kbmod/w_2023_38",
   "language": "python",
   "name": "kbmod_38"
  },
  "language_info": {
   "codemirror_mode": {
    "name": "ipython",
    "version": 3
   },
   "file_extension": ".py",
   "mimetype": "text/x-python",
   "name": "python",
   "nbconvert_exporter": "python",
   "pygments_lexer": "ipython3",
   "version": "3.11.8"
  }
 },
 "nbformat": 4,
 "nbformat_minor": 5
}
