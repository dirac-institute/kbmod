{
 "cells": [
  {
   "cell_type": "markdown",
   "metadata": {},
   "source": [
    "# Create Fake Data\n",
    "**Warning**: For the purposes this example we create (and possibly delete) a data directory at base_dir/fake_data. If that directory already exists, this notebook may overwrite the contents."
   ]
  },
  {
   "cell_type": "code",
   "execution_count": null,
   "metadata": {},
   "outputs": [],
   "source": [
    "import os\n",
    "\n",
    "from kbmod.fake_data.fake_data_creator import *\n",
    "from kbmod.search import *"
   ]
  },
  {
   "cell_type": "markdown",
   "metadata": {},
   "source": [
    "### Create a fake stack of images"
   ]
  },
  {
   "cell_type": "code",
   "execution_count": null,
   "metadata": {},
   "outputs": [],
   "source": [
    "# Set the characteristics of the fake data.\n",
    "img_width = 256\n",
    "img_height = 256\n",
    "num_times = 20\n",
    "\n",
    "# Create the fake images\n",
    "fake_times = create_fake_times(num_times, t0=57130.2)\n",
    "ds = FakeDataSet(img_width, img_height, fake_times)"
   ]
  },
  {
   "cell_type": "markdown",
   "metadata": {},
   "source": [
    "### Insert a fake moving object\n",
    "\n",
    "This function creates a random moving object with a given flux that stays within the image for the entire time.  The trajectory is defined by starting pixels (x, y) and velocities (x_v, y_v) of pixels per day."
   ]
  },
  {
   "cell_type": "code",
   "execution_count": null,
   "metadata": {},
   "outputs": [],
   "source": [
    "trj = ds.insert_random_object(500)\n",
    "print(f\"x={trj.x}, y={trj.y}, xv={trj.vx}, yv={trj.vy}\")"
   ]
  },
  {
   "cell_type": "markdown",
   "metadata": {},
   "source": [
    "We can print the object's location at each time step."
   ]
  },
  {
   "cell_type": "code",
   "execution_count": null,
   "metadata": {},
   "outputs": [],
   "source": [
    "# Check the object was inserted correctly.\n",
    "t0 = ds.stack.get_single_image(0).get_obstime()\n",
    "for i in range(ds.stack.img_count()):\n",
    "    ti = ds.stack.get_single_image(i).get_obstime()\n",
    "    dt = ti - t0\n",
    "    px = int(trj.x + dt * trj.vx + 0.5)\n",
    "    py = int(trj.y + dt * trj.vy + 0.5)\n",
    "\n",
    "    print(f\"{i}: t={ti:.3f} at ({px}, {py})\")"
   ]
  },
  {
   "cell_type": "markdown",
   "metadata": {},
   "source": [
    "### Save the fake image files\n",
    "\n",
    "We save the fake images to a given base directory."
   ]
  },
  {
   "cell_type": "code",
   "execution_count": null,
   "metadata": {},
   "outputs": [],
   "source": [
    "dir_path = \"./fake_data\"\n",
    "ds.save_fake_data_to_dir(dir_path)\n",
    "print(os.listdir(dir_path))"
   ]
  },
  {
   "cell_type": "markdown",
   "metadata": {},
   "source": [
    "### Delete the fake data files.\n",
    "\n",
    "We can (optionally) delete the fake data files using the delete_fake_data() function."
   ]
  },
  {
   "cell_type": "code",
   "execution_count": null,
   "metadata": {},
   "outputs": [],
   "source": [
    "ds.delete_fake_data_dir(dir_path)\n",
    "print(os.listdir(dir_path))"
   ]
  },
  {
   "cell_type": "code",
   "execution_count": null,
   "metadata": {},
   "outputs": [],
   "source": []
  }
 ],
 "metadata": {
  "kernelspec": {
   "display_name": "Python (.conda-kbmod)",
   "language": "python",
   "name": "conda-env-.conda-kbmod-py"
  },
  "language_info": {
   "codemirror_mode": {
    "name": "ipython",
    "version": 3
   },
   "file_extension": ".py",
   "mimetype": "text/x-python",
   "name": "python",
   "nbconvert_exporter": "python",
   "pygments_lexer": "ipython3",
   "version": "3.12.1"
  }
 },
 "nbformat": 4,
 "nbformat_minor": 4
}
