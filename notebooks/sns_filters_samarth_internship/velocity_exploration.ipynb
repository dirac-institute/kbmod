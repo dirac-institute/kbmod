{
 "cells": [
  {
   "cell_type": "code",
   "execution_count": null,
   "id": "cd4612ec-c91a-47fd-bf82-0404aa6f546a",
   "metadata": {},
   "outputs": [],
   "source": [
    "from kbmod.work_unit import WorkUnit\n",
    "from astropy.table import Table\n",
    "from kbmod.run_search import SearchRunner\n",
    "import numpy as np"
   ]
  },
  {
   "cell_type": "code",
   "execution_count": null,
   "id": "86e37347-3ea1-4774-8f0c-46d0ab2d2ed2",
   "metadata": {},
   "outputs": [],
   "source": [
    "t = Table.read(\"inframe_fakes_b1h.ecsv\")"
   ]
  },
  {
   "cell_type": "markdown",
   "id": "1ef7a104-6413-4226-af99-ca6af2dcabf7",
   "metadata": {},
   "source": [
    "## Setup\n",
    "\n",
    "before we run a targeted search for a specific object, we need to pick an object to test on!"
   ]
  },
  {
   "cell_type": "code",
   "execution_count": null,
   "id": "4e059abe-0115-427c-a057-62c2edcb18cc",
   "metadata": {},
   "outputs": [],
   "source": [
    "orbids = np.unique(t[\"ORBITID\"])\n",
    "orbids"
   ]
  },
  {
   "cell_type": "markdown",
   "id": "cc2c3dc0-c124-4fd1-ae65-9bb012c34dd4",
   "metadata": {},
   "source": [
    "These are our unique orbit ids. To select the rows with all the possible, let's select a specific orbit id as `oid` and get all the positions associated with that object."
   ]
  },
  {
   "cell_type": "code",
   "execution_count": null,
   "id": "93a74af3-1dfd-46ba-afc9-9e80abc33275",
   "metadata": {},
   "outputs": [],
   "source": [
    "oid = orbids[2]\n",
    "t0 = t[t[\"ORBITID\"] == oid]\n",
    "t0"
   ]
  },
  {
   "cell_type": "markdown",
   "id": "3b0a4e4b-ecc3-44a3-95d2-e4e8b6f82010",
   "metadata": {},
   "source": [
    "Now we can load in our `WorkUnit` for the b1h field and convert the longitude and latitude coordinates into pixel coordinates."
   ]
  },
  {
   "cell_type": "code",
   "execution_count": null,
   "id": "b67c9919-b3ba-4088-b5e2-4e7e64e10958",
   "metadata": {},
   "outputs": [],
   "source": [
    "wu = WorkUnit.from_fits(\"/epyc/projects/kbmod/data/20210908_B1h_047_test_data/20210908_B1h_047.wu\")"
   ]
  },
  {
   "cell_type": "code",
   "execution_count": null,
   "id": "38c34b9a-5610-4fb1-aaf8-506badaf18c5",
   "metadata": {},
   "outputs": [],
   "source": [
    "xs, ys = wu.get_pixel_coordinates(t0[\"RA\"], t0[\"DEC\"])"
   ]
  },
  {
   "cell_type": "markdown",
   "id": "f3cc1894-ad4b-4906-924d-d8ec703409ce",
   "metadata": {},
   "source": [
    "Now we have a list of x and y coordinates, `xs` and `ys`. Before we go any further, we should confirm that given orbit is going to be roughly linear in pixel trajectory terms. Basically we want to make sure that the observations are lined up in such a way that `KBMOD` will actually find the object while searching the image. to do this, we need to calculate the changes in pixels in the x and y direction and compare the mean, maximum and minimum."
   ]
  },
  {
   "cell_type": "code",
   "execution_count": null,
   "id": "a1b7346a-ab85-4545-bb21-e7fbb7fe1bdd",
   "metadata": {},
   "outputs": [],
   "source": [
    "dx = []\n",
    "for i in range(len(xs) - 2):\n",
    "    dx.append(xs[i+1] - xs[i])\n",
    "\n",
    "dy = []\n",
    "for i in range(len(ys) - 2):\n",
    "    dy.append(ys[i+1] - ys[i])"
   ]
  },
  {
   "cell_type": "markdown",
   "id": "cb0fd93e-30fa-4dd9-9530-7e78c31198d6",
   "metadata": {},
   "source": [
    "Generally, the min and max for the `dx` and `dy` shouldn't be much greater than +-1. If it is more than that, this orbit id might not be a good choice for actually searching for in `KBMOD`."
   ]
  },
  {
   "cell_type": "code",
   "execution_count": null,
   "id": "18da9599-77ea-48b6-bc10-e331564d0a46",
   "metadata": {},
   "outputs": [],
   "source": [
    "print(np.mean(dx), np.min(dx), np.max(dx))\n",
    "print(np.min(dx) - np.mean(dx), np.max(dx) - np.mean(dx))"
   ]
  },
  {
   "cell_type": "code",
   "execution_count": null,
   "id": "fa0ab7cd-6b52-44a3-9d0b-646e11d736b6",
   "metadata": {},
   "outputs": [],
   "source": [
    "print(np.mean(dy), np.min(dy), np.max(dy))\n",
    "print(np.min(dy) - np.mean(dy), np.max(dy) - np.mean(dy))"
   ]
  },
  {
   "cell_type": "markdown",
   "id": "7f35af4f-a6fe-421d-aadf-08c4703ba2a0",
   "metadata": {},
   "source": [
    "now we have to calculate the pixels per day velocity for both the x and y. To do this we'll take the difference between the first and last x and y positions and divide the total time elapsed between the start and end of the search."
   ]
  },
  {
   "cell_type": "code",
   "execution_count": null,
   "id": "e851554b-ae03-4d25-a110-b3e27f74d9ca",
   "metadata": {},
   "outputs": [],
   "source": [
    "time_diff = t0[\"mjd_mid\"][-1] - t0[\"mjd_mid\"][0]"
   ]
  },
  {
   "cell_type": "code",
   "execution_count": null,
   "id": "fbbcd52f-1ce6-48f7-b095-3694a26b3f06",
   "metadata": {},
   "outputs": [],
   "source": [
    "mean_vx = (xs[-1] - xs[0]) / time_diff\n",
    "mean_vx"
   ]
  },
  {
   "cell_type": "code",
   "execution_count": null,
   "id": "2ebbde98-198c-411b-b6a2-7280aff21884",
   "metadata": {},
   "outputs": [],
   "source": [
    "mean_vy = (ys[-1] - ys[0]) / time_diff\n",
    "mean_vy"
   ]
  },
  {
   "cell_type": "markdown",
   "id": "e252ddef-4b8e-4a72-a427-5ba40df726bd",
   "metadata": {},
   "source": [
    "Now we can use the `mean_vx` and `mean_vy` as a starting point to try and guess where the velocity is and where `KBMOD` will find the object.\n",
    "\n",
    "I put in a simple search that worked to find `orbids[0]` here but feel free to play around with this generator config. The step values is the difference in velocities that `KBMOD` will search around."
   ]
  },
  {
   "cell_type": "code",
   "execution_count": null,
   "id": "2263f24f-18d7-48b1-a9a8-f10aaf621989",
   "metadata": {},
   "outputs": [],
   "source": [
    "gen = {\n",
    "    \"name\": \"VelocityGridSearch\",\n",
    "    \"vx_steps\": 25,\n",
    "    \"min_vx\": mean_vx - .125,\n",
    "    \"max_vx\": mean_vx + .125,\n",
    "    \"vy_steps\": 25,\n",
    "    \"min_vy\": mean_vy - .125,\n",
    "    \"max_vy\": mean_vy + .125,\n",
    "}"
   ]
  },
  {
   "cell_type": "code",
   "execution_count": null,
   "id": "faaca595-71ad-46d1-860c-a8be6b4d825b",
   "metadata": {},
   "outputs": [],
   "source": [
    "wu.config.set(\"generator_config\", gen)\n",
    "wu.config.set(\"do_clustering\", False)\n",
    "wu.config.set(\"sigmaG_filter\", False)\n",
    "# wu.config.set(\"peak_offset_max\", 6)\n",
    "# wu.config.set(\"predictive_line_cluster\", True)\n",
    "wu.config.set(\"lh_level\", 10.0)"
   ]
  },
  {
   "cell_type": "code",
   "execution_count": null,
   "id": "c2c6c781-7b76-4014-b999-7987ceb18e27",
   "metadata": {},
   "outputs": [],
   "source": [
    "wu.config.set(\"result_filename\", f\"./{oid}_pencil.ecsv\")"
   ]
  },
  {
   "cell_type": "code",
   "execution_count": null,
   "id": "15050621-9f2e-457e-abf4-7b99ce144709",
   "metadata": {},
   "outputs": [],
   "source": [
    "wu.reprojection_frame = \"original\""
   ]
  },
  {
   "cell_type": "code",
   "execution_count": null,
   "id": "f250da57-3a5a-4b94-9c9e-93f336d3ab7c",
   "metadata": {},
   "outputs": [],
   "source": [
    "r = SearchRunner().run_search_from_work_unit(wu)"
   ]
  },
  {
   "cell_type": "markdown",
   "id": "c032f594-30f0-4aae-aa8c-0c909aae2a29",
   "metadata": {},
   "source": [
    "if you need to quit out of the kernel and reload with the saved result file feel free to comment this out."
   ]
  },
  {
   "cell_type": "code",
   "execution_count": null,
   "id": "1db65d94-6803-437c-8119-5873681ea161",
   "metadata": {},
   "outputs": [],
   "source": [
    "# from kbmod.results import Results\n",
    "# r = Results.read_table(f\"{oid}_pencil.ecsv\")"
   ]
  },
  {
   "cell_type": "code",
   "execution_count": null,
   "id": "1c715bfc-48fe-41ff-ac9f-f052008a06c7",
   "metadata": {},
   "outputs": [],
   "source": [
    "r"
   ]
  },
  {
   "cell_type": "markdown",
   "id": "d30507ff-9c2f-4b19-a87b-8ac0f848645a",
   "metadata": {},
   "source": [
    "If the following check doesn't result in any rows than it's likely that the search didn't find the object in question. You can still check around in the above table to see if there's something close to the original object in starting x,y and vx,vy but this is probably the fastest way to check if the object was recovered!"
   ]
  },
  {
   "cell_type": "code",
   "execution_count": null,
   "id": "8dc1fa8e-49f8-4fd7-832c-c104f9e1aef2",
   "metadata": {},
   "outputs": [],
   "source": [
    "r[(r[\"x\"] >= xs[0] - 1) & (r[\"x\"] <= xs[0] + 1) & (r[\"y\"] >= ys[0] - 1) & (r[\"y\"] <= ys[0] + 1)]"
   ]
  }
 ],
 "metadata": {
  "kernelspec": {
   "display_name": "kbmod",
   "language": "python",
   "name": "python3"
  },
  "language_info": {
   "codemirror_mode": {
    "name": "ipython",
    "version": 3
   },
   "file_extension": ".py",
   "mimetype": "text/x-python",
   "name": "python",
   "nbconvert_exporter": "python",
   "pygments_lexer": "ipython3",
   "version": "3.12.11"
  }
 },
 "nbformat": 4,
 "nbformat_minor": 5
}
