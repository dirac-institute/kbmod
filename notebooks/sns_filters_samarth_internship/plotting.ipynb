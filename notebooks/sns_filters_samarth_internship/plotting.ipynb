{
 "cells": [
  {
   "cell_type": "markdown",
   "id": "b9e6c383",
   "metadata": {},
   "source": [
    "Import and merge the three CSVs here. Remove redundant columns when merging.\n",
    "\n",
    "- summary1: do_clustering and sigmaG off, peak and pred_line individually activated\n",
    "- summary2: do_clustering and sigmaG off, peak and pred_line activated together\n",
    "- summary3: do_clustering and sigmaG on, peak and pred_line off\n",
    "\n",
    "The results were generated from the respective `.py` files and use a 7 GB work unit."
   ]
  },
  {
   "cell_type": "code",
   "execution_count": null,
   "id": "5a91b1ee",
   "metadata": {},
   "outputs": [],
   "source": [
    "import pandas as pd\n",
    "import matplotlib.pyplot as plt\n",
    "\n",
    "df1 = pd.read_csv(\"./summary1.csv\")\n",
    "df2 = pd.read_csv(\"./summary2.csv\")\n",
    "df3 = pd.read_csv(\"./summary3.csv\")\n",
    "\n",
    "different_cols = df2.columns.difference(df1.columns)\n",
    "df = pd.merge(df1, df2[different_cols], left_index=True,\n",
    "                     right_index=True, how='inner')\n",
    "\n",
    "different_cols = df3.columns.difference(df.columns)\n",
    "df = pd.merge(df, df3[different_cols], left_index=True,\n",
    "                     right_index=True, how='inner')\n",
    "df[\"oid\"] = df[\"oid\"].astype(int)\n",
    "df"
   ]
  },
  {
   "cell_type": "markdown",
   "id": "5cbede0e",
   "metadata": {},
   "source": [
    "Restrict to rows which contain detectable objects; if zero things with that oid were receovered even before applying any filters, then there's no hope of recovering it after applying the filters."
   ]
  },
  {
   "cell_type": "code",
   "execution_count": null,
   "id": "530ede96",
   "metadata": {},
   "outputs": [],
   "source": [
    "df_detectable = df[df[\"check_results_no_filter\"] > 0]\n",
    "df_detectable"
   ]
  },
  {
   "cell_type": "markdown",
   "id": "c295bb84",
   "metadata": {},
   "source": [
    "Get the `num_results_*` columns only which give the total number of results after applying KBMOD and specified filters."
   ]
  },
  {
   "cell_type": "code",
   "execution_count": null,
   "id": "ccb42d8b",
   "metadata": {},
   "outputs": [],
   "source": [
    "num_results_colnames = [\"oid\"] + [s for s in df_detectable.columns if \"num_results_\" in s]\n",
    "df_detectable_num_results = df_detectable[num_results_colnames]\n",
    "df_detectable_num_results"
   ]
  },
  {
   "cell_type": "code",
   "execution_count": null,
   "id": "d20055af",
   "metadata": {},
   "outputs": [],
   "source": [
    "# for i in range(len(df_detectable_num_results)):\n",
    "#   df_detectable_num_results.iloc[i].plot(kind='bar',\n",
    "#                                          title=f\"Number of results for {int(df_detectable[\"oid\"].iloc[i])}\")\n",
    "#   plt.show()\n",
    "df_detectable_num_results.plot.bar(x=\"oid\")"
   ]
  },
  {
   "cell_type": "markdown",
   "id": "4aa8513c",
   "metadata": {},
   "source": [
    "Get the `check_results_*` columns only which give the number of results matching that oid and allow us to establish if the object was recovered or not (`> 0` means object was recovered)."
   ]
  },
  {
   "cell_type": "code",
   "execution_count": null,
   "id": "ffb6b31d",
   "metadata": {},
   "outputs": [],
   "source": [
    "check_colnames = [\"oid\"] + [s for s in df_detectable.columns if \"check\" in s]\n",
    "df_detectable_check = df_detectable[check_colnames]\n",
    "df_detectable_check"
   ]
  },
  {
   "cell_type": "markdown",
   "id": "07b6255a",
   "metadata": {},
   "source": [
    "`True/False` to indicate whether object recovered or not."
   ]
  },
  {
   "cell_type": "code",
   "execution_count": null,
   "id": "80347659",
   "metadata": {},
   "outputs": [],
   "source": [
    "df_detectable_check_summary = df_detectable_check > 0\n",
    "df_detectable_check_summary[\"oid\"] = df_detectable[\"oid\"]\n",
    "df_detectable_check_summary"
   ]
  }
 ],
 "metadata": {
  "kernelspec": {
   "display_name": "kbmod",
   "language": "python",
   "name": "python3"
  },
  "language_info": {
   "codemirror_mode": {
    "name": "ipython",
    "version": 3
   },
   "file_extension": ".py",
   "mimetype": "text/x-python",
   "name": "python",
   "nbconvert_exporter": "python",
   "pygments_lexer": "ipython3",
   "version": "3.12.11"
  }
 },
 "nbformat": 4,
 "nbformat_minor": 5
}
