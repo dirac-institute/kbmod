{
 "cells": [
  {
   "cell_type": "markdown",
   "metadata": {},
   "source": [
    "# TrajectoryExplorer Demo"
   ]
  },
  {
   "cell_type": "code",
   "execution_count": null,
   "metadata": {},
   "outputs": [],
   "source": [
    "import math\n",
    "import matplotlib.pyplot as plt\n",
    "\n",
    "from kbmod.trajectory_explorer import TrajectoryExplorer"
   ]
  },
  {
   "cell_type": "markdown",
   "metadata": {},
   "source": [
    "## TrajectoryExplorer\n",
    "\n",
    "`TrajectoryExplorer` is a class that allows us to evaluate individual trajectories for debugging or scientific analysis. It handles all the loading of data onto GPU, configuration of the parameters, and other set up. \n",
    "\n",
    "### Create fake data\n",
    "Let's start by setting up a fake data set with a single known object."
   ]
  },
  {
   "cell_type": "code",
   "execution_count": null,
   "metadata": {},
   "outputs": [],
   "source": [
    "from kbmod.fake_data.fake_data_creator import create_fake_times, FakeDataSet\n",
    "from kbmod.trajectory_utils import make_trajectory\n",
    "\n",
    "# Create a list of fake times from MJD=57130.2 onward\n",
    "num_images = 12\n",
    "fake_times = create_fake_times(num_images, t0=57130.2)\n",
    "\n",
    "# Create fake data set.\n",
    "fake_ds = FakeDataSet(\n",
    "    400,  # Width\n",
    "    500,  # Height\n",
    "    fake_times,\n",
    "    noise_level=2.0,\n",
    "    psf_val=1.0,\n",
    ")\n",
    "\n",
    "# Create a bright fake object starting at pixel x=50, y=60 and moving with velocity vx=5.0, vy=-2.0.\n",
    "fake_trj = make_trajectory(50, 60, 5.0, -2.0, flux=100.0)\n",
    "fake_ds.insert_object(fake_trj)\n",
    "\n",
    "# Display the image from the first time step.\n",
    "img = fake_ds.stack.get_single_image(0).get_science().image\n",
    "plt.imshow(img, cmap=\"gray\")"
   ]
  },
  {
   "cell_type": "markdown",
   "metadata": {},
   "source": [
    "To make things more interesting, let's block out the pixels for timestep 6, so we cannot see the object then. We need to do this manually (there is no helper function to do this)."
   ]
  },
  {
   "cell_type": "code",
   "execution_count": null,
   "metadata": {},
   "outputs": [],
   "source": [
    "# Remove at least observation from the trajectory.\n",
    "dt = fake_times[6] - fake_times[0]\n",
    "pred_x = int(50 + 5.0 * dt)\n",
    "pred_y = int(60 - 2.0 * dt)\n",
    "\n",
    "sci_t6 = fake_ds.stack.get_single_image(6).get_science()\n",
    "for dy in [-2, -1, 0, 1, 2]:\n",
    "    for dx in [-2, -1, 0, 1, 2]:\n",
    "        sci_t6.set_pixel(pred_y + dy, pred_x + dx, 0.00001)\n",
    "\n",
    "img = fake_ds.stack.get_single_image(6).get_science().image\n",
    "plt.imshow(img, cmap=\"gray\")"
   ]
  },
  {
   "cell_type": "markdown",
   "metadata": {
    "tags": []
   },
   "source": [
    "## Using TrajectoryExplorer\n",
    "\n",
    "`TrajectoryExplorer` is constructed from the `ImageStack` and an optional configuration. Once it is instantiated, we can use the `evaluate_linear_trajectory` function to query specific trajectories. The function returns a `ResultRow` with a variety of information. The most important is a `Trajectory` object that stores the raw statistics coming from the GPU search."
   ]
  },
  {
   "cell_type": "code",
   "execution_count": null,
   "metadata": {},
   "outputs": [],
   "source": [
    "explorer = TrajectoryExplorer(fake_ds.stack)\n",
    "\n",
    "result = explorer.evaluate_linear_trajectory(50, 60, 5.0, -2.0)\n",
    "print(result.trajectory)"
   ]
  },
  {
   "cell_type": "markdown",
   "metadata": {},
   "source": [
    "We also have the row psi-curves, phi-curves, and likelihood curves:"
   ]
  },
  {
   "cell_type": "code",
   "execution_count": null,
   "metadata": {},
   "outputs": [],
   "source": [
    "fig, axs = plt.subplots(3, 1)\n",
    "axs[0].plot(fake_times, result.psi_curve)\n",
    "axs[0].set_title(\"Psi\")\n",
    "\n",
    "axs[1].plot(fake_times, result.phi_curve)\n",
    "axs[1].set_title(\"Psi\")\n",
    "\n",
    "axs[2].plot(fake_times, result.likelihood_curve)\n",
    "axs[2].set_title(\"Likelihood\")"
   ]
  },
  {
   "cell_type": "markdown",
   "metadata": {},
   "source": [
    "We can also extract the stamps for those time steps."
   ]
  },
  {
   "cell_type": "code",
   "execution_count": null,
   "metadata": {},
   "outputs": [],
   "source": [
    "w = 4\n",
    "h = math.ceil(num_images / w)\n",
    "\n",
    "fig, axs = plt.subplots(h, w)\n",
    "for i in range(h):\n",
    "    for j in range(w):\n",
    "        ind = w * i + j\n",
    "        if ind < num_images:\n",
    "            axs[i, j].imshow(result.all_stamps[ind], cmap=\"gray\")"
   ]
  },
  {
   "cell_type": "markdown",
   "metadata": {},
   "source": [
    "## Using (RA, dec)\n",
    "\n",
    "You can also use the `TrajectoryExplorer` with a WCS and (RA, dec) coordinates. Both RA and dec are specified in degrees and the corresponding velocities are expressed as degrees per day.\n",
    "\n",
    "We start by creating a fake WCS to match our fake images. Then we evaluate the trajectory based on this WCS."
   ]
  },
  {
   "cell_type": "code",
   "execution_count": null,
   "metadata": {},
   "outputs": [],
   "source": [
    "from astropy.wcs import WCS\n",
    "\n",
    "my_wcs = WCS(naxis=2)\n",
    "my_wcs.wcs.crpix = [201.0, 251.0]  # Reference point on the image (center of the image 1-indexed)\n",
    "my_wcs.wcs.crval = [45.0, -15.0]  # Reference pointing on the sky\n",
    "my_wcs.wcs.cdelt = [0.1, 0.1]  # Pixel step size\n",
    "my_wcs.wcs.ctype = [\"RA---TAN-SIP\", \"DEC--TAN-SIP\"]\n",
    "\n",
    "# Use the WCS to compute the angular coordinates of the inserted object at two times.\n",
    "sky_pos0 = my_wcs.pixel_to_world(50, 60)\n",
    "sky_pos1 = my_wcs.pixel_to_world(55, 58)\n",
    "\n",
    "ra0 = sky_pos0.ra.deg\n",
    "dec0 = sky_pos0.dec.deg\n",
    "v_ra = sky_pos1.ra.deg - ra0\n",
    "v_dec = sky_pos1.dec.deg - dec0\n",
    "print(f\"Object starts at ({ra0}, {dec0}) with velocity ({v_ra}, {v_dec}).\")\n",
    "\n",
    "result = explorer.evaluate_angle_trajectory(ra0, dec0, v_ra, v_dec, my_wcs)\n",
    "print(result.trajectory)"
   ]
  },
  {
   "cell_type": "markdown",
   "metadata": {},
   "source": [
    "## Filtering\n",
    "\n",
    "A key component of KBMOD is the clipped Sigma-G filtering. `TrajectoryExplorer` does not do any filtering be default so that users can see all the information for the given trajectory. However, it provides the ability to apply the filtering manually. The unfiltered time stamps are stored in `valid_indices`."
   ]
  },
  {
   "cell_type": "code",
   "execution_count": null,
   "metadata": {},
   "outputs": [],
   "source": [
    "explorer.apply_sigma_g(result)\n",
    "print(f\"Valid time steps={result.valid_indices}\")"
   ]
  },
  {
   "cell_type": "code",
   "execution_count": null,
   "metadata": {},
   "outputs": [],
   "source": []
  }
 ],
 "metadata": {
  "kernelspec": {
   "display_name": "Jeremy's KBMOD",
   "language": "python",
   "name": "kbmod_jk"
  },
  "language_info": {
   "codemirror_mode": {
    "name": "ipython",
    "version": 3
   },
   "file_extension": ".py",
   "mimetype": "text/x-python",
   "name": "python",
   "nbconvert_exporter": "python",
   "pygments_lexer": "ipython3",
   "version": "3.12.2"
  }
 },
 "nbformat": 4,
 "nbformat_minor": 4
}
