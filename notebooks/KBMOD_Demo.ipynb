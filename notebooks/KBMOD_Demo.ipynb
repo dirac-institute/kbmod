{
 "cells": [
  {
   "cell_type": "markdown",
   "metadata": {},
   "source": [
    "# KBMOD Demo"
   ]
  },
  {
   "cell_type": "code",
   "execution_count": null,
   "metadata": {},
   "outputs": [],
   "source": [
    "import os\n",
    "import numpy as np\n",
    "\n",
    "from pathlib import Path\n",
    "\n",
    "from kbmod.run_search import *\n",
    "from kbmod.search import *"
   ]
  },
  {
   "cell_type": "markdown",
   "metadata": {},
   "source": [
    "# Setup file paths"
   ]
  },
  {
   "cell_type": "markdown",
   "metadata": {},
   "source": [
    "There are at least two file paths you need to setup in order to run kbmod:\n",
    "1. The im_filepath provides a path to the input images.\n",
    "1. The res_filepath provides a path to the directory where the output results will be stored.\n",
    "\n",
    "A time and psf file can optionally be specified.\n",
    "\n",
    "If you already have data files, you can use those. Below we use the data in `data/demo`. You can also create your own fake data using `fake_data_creator.py`."
   ]
  },
  {
   "cell_type": "code",
   "execution_count": null,
   "metadata": {},
   "outputs": [],
   "source": [
    "# Define the path for the data.\n",
    "im_filepath = \"../data/demo\"\n",
    "print(os.listdir(im_filepath))"
   ]
  },
  {
   "cell_type": "code",
   "execution_count": null,
   "metadata": {},
   "outputs": [],
   "source": [
    "res_filepath = \"./fake_results\"\n",
    "if not Path(res_filepath).is_dir():\n",
    "    print(f\"Directory {res_filepath} does not exist. Creating.\")\n",
    "    os.mkdir(res_filepath)"
   ]
  },
  {
   "cell_type": "markdown",
   "metadata": {},
   "source": [
    "# Run KBMOD\n",
    "\n",
    "The standard approach to running KBMOD is to perform a grid search over all starting pixels and a grid of velocities. The velocities are defined by steps in velocity space (in pixels per day) and angles. Let’s do a grid search with:\n",
    "* 21 different velocity steps from 0 pixels per day and 20 pixels per day\n",
    "* 11 different angles from 0.5 below the default angle (computed based on the ecliptic) to 0.5 above.\n",
    "\n",
    "KBMOD needs a series of configuration parameters to specify all the information about the search. In this notebook we explicitly provide the configuration parameters as a dictionary so users can see what is being specified. However most users will want to use the ``SearchConfiguration`` class. A ``SearchConfiguration`` object uses reasonable defaults when created:\n",
    "\n",
    "```\n",
    "config = SearchConfiguration()\n",
    "```\n",
    "\n",
    "Users can then override values one at a time or by passing a dictionary:\n",
    "\n",
    "```\n",
    "d = {\"im_filepath\": \"Here\", \"encode_num_bytes\": 2}\n",
    "config.set_multiple(d)\n",
    "```\n",
    "\n",
    "More importantly ``SearchConfiguration`` can read from or written to a YAML file:\n",
    "\n",
    "```\n",
    "config = SearchConfiguration.from_file(file_path)\n",
    "```\n",
    "\n",
    "This allows users to define a per-task configuration and version control it.\n",
    "\n",
    "Most of the parameters you will not need to change. They are included to provide fine grained options for control."
   ]
  },
  {
   "cell_type": "code",
   "execution_count": null,
   "metadata": {},
   "outputs": [],
   "source": [
    "results_suffix = \"DEMO\"\n",
    "\n",
    "# The demo data has an object moving at x_v=10 px/day\n",
    "# and y_v = 0 px/day. So we search velocities [0, 20].\n",
    "v_min = 0\n",
    "v_max = 20\n",
    "v_steps = 21\n",
    "v_arr = [v_min, v_max, v_steps]\n",
    "\n",
    "# and angles [-0.5, 0.5]\n",
    "ang_below = 0.5\n",
    "ang_above = 0.5\n",
    "ang_steps = 11\n",
    "ang_arr = [ang_below, ang_above, ang_steps]\n",
    "\n",
    "input_parameters = {\n",
    "    # Input parameters\n",
    "    \"im_filepath\": im_filepath,\n",
    "    # Grid search parameters\n",
    "    \"v_arr\": v_arr,\n",
    "    \"ang_arr\": ang_arr,\n",
    "    # Output parameters\n",
    "    \"res_filepath\": res_filepath,\n",
    "    \"output_suffix\": results_suffix,\n",
    "    \"result_filename\": \"./fake_results/results.ecsv\",\n",
    "    # Masking bad pixels\n",
    "    \"do_mask\": True,  # <-- Apply the masks specified in the FITS files.\n",
    "    \"mask_num_images\": 10,\n",
    "    # Basic filtering (always applied)\n",
    "    \"num_obs\": 7,  # <-- Filter anything with fewer than 7 observations\n",
    "    \"lh_level\": 10.0,  # <-- Filter anything with a likelihood < 10.0\n",
    "    # SigmaG clipping parameters\n",
    "    \"sigmaG_lims\": [15, 60],  # <-- Clipping parameters (lower and upper percentile)\n",
    "    \"gpu_filter\": True,  # <-- Apply clipping and filtering on the GPU\n",
    "    \"clip_negative\": True,\n",
    "    # Override the ecliptic angle for the demo data since we\n",
    "    # know the true angle in pixel space.\n",
    "    \"average_angle\": 0.0,\n",
    "}\n",
    "config = SearchConfiguration.from_dict(input_parameters)"
   ]
  },
  {
   "cell_type": "markdown",
   "metadata": {},
   "source": [
    "To see the full list of parameters used and their values you can just print the configuration."
   ]
  },
  {
   "cell_type": "code",
   "execution_count": null,
   "metadata": {},
   "outputs": [],
   "source": [
    "# print(config)"
   ]
  },
  {
   "cell_type": "markdown",
   "metadata": {},
   "source": [
    "KBMOD uses Python's logging library for output during the run. If you are interested in running with debug output (verbose mode), you can set the level of Python's logger to ``WARNING`` (for warning messages only), ``INFO`` (for moderate output), or ``DEBUG`` (for comprehensive output). By default logging is set to warning level."
   ]
  },
  {
   "cell_type": "code",
   "execution_count": null,
   "metadata": {},
   "outputs": [],
   "source": [
    "import logging\n",
    "\n",
    "logging.basicConfig(level=logging.INFO)\n",
    "\n",
    "# Or for a LOT of detail\n",
    "# logging.basicConfig(level=logging.DEBUG)"
   ]
  },
  {
   "cell_type": "markdown",
   "metadata": {},
   "source": [
    "Once we have defined the search parameters, we can create a ``SearchRunner`` and use one of the run_search functions. In this case we use ``run_search_from_config`` which uses the config to search for the input files."
   ]
  },
  {
   "cell_type": "code",
   "execution_count": null,
   "metadata": {},
   "outputs": [],
   "source": [
    "rs = SearchRunner()\n",
    "results = rs.run_search_from_config(config)"
   ]
  },
  {
   "cell_type": "markdown",
   "metadata": {},
   "source": [
    "We then check that results were written to an output directory. The configuration parameters above specify that KBMOD should write three types of output files:\n",
    "\n",
    "1. A combined serialized ``Results`` saved as a .ecsv file (``\"result_filename\": \"./fake_results/results.ecsv\")``.\n",
    "2. (Legacy format) A series of individual output files (``\"res_filepath\": res_filepath``). Currently this is just the results file (trajectory information) and a copy of the final configuration used. Recent versions of KBMOD has removed older files, such as the psi curves or phi curves, that were not being used. However we can easily add files that would be useful.\n",
    "\n",
    "Users can shut off these outputs but passing ``None`` to the configuration options."
   ]
  },
  {
   "cell_type": "code",
   "execution_count": null,
   "metadata": {},
   "outputs": [],
   "source": [
    "if os.path.exists(res_filepath):\n",
    "    files = os.listdir(res_filepath)\n",
    "    print(files)"
   ]
  },
  {
   "cell_type": "markdown",
   "metadata": {},
   "source": [
    "# Analyzing Results\n",
    "\n",
    "The run function we used returns a `Results` object containing the individual results of the run. We can perform basic actions on this data structure such as sorting it, extracting individual results, or performing additional filtering."
   ]
  },
  {
   "cell_type": "code",
   "execution_count": null,
   "metadata": {},
   "outputs": [],
   "source": [
    "print(f\"Search found {len(results)} results.\")\n",
    "print(results)"
   ]
  },
  {
   "cell_type": "markdown",
   "metadata": {},
   "source": [
    "We can also plot the different curves for the result."
   ]
  },
  {
   "cell_type": "code",
   "execution_count": null,
   "metadata": {},
   "outputs": [],
   "source": [
    "import matplotlib.pyplot as plt\n",
    "\n",
    "fig, axs = plt.subplots(2, 1)\n",
    "axs[0].plot(results[\"psi_curve\"][0])\n",
    "axs[0].set_title(\"Psi\")\n",
    "\n",
    "axs[1].plot(results[\"phi_curve\"][0])\n",
    "axs[1].set_title(\"Psi\")"
   ]
  },
  {
   "cell_type": "markdown",
   "metadata": {},
   "source": [
    "For additional analysis steps, including manual filtering and exploration, please refer to the `kbmod_analysis_demo` notebook which uses the data generated by this notebook."
   ]
  },
  {
   "cell_type": "code",
   "execution_count": null,
   "metadata": {},
   "outputs": [],
   "source": []
  }
 ],
 "metadata": {
  "kernelspec": {
   "display_name": "Jeremy's KBMOD",
   "language": "python",
   "name": "kbmod_jk"
  },
  "language_info": {
   "codemirror_mode": {
    "name": "ipython",
    "version": 3
   },
   "file_extension": ".py",
   "mimetype": "text/x-python",
   "name": "python",
   "nbconvert_exporter": "python",
   "pygments_lexer": "ipython3",
   "version": "3.12.2"
  }
 },
 "nbformat": 4,
 "nbformat_minor": 4
}
