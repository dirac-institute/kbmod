{
 "cells": [
  {
   "cell_type": "markdown",
   "metadata": {},
   "source": [
    "# KBMOD Demo"
   ]
  },
  {
   "cell_type": "code",
   "execution_count": null,
   "metadata": {},
   "outputs": [],
   "source": [
    "import os\n",
    "import numpy as np\n",
    "\n",
    "from pathlib import Path\n",
    "\n",
    "from kbmod.run_search import *\n",
    "from kbmod.search import *"
   ]
  },
  {
   "cell_type": "markdown",
   "metadata": {},
   "source": [
    "# Setup file paths"
   ]
  },
  {
   "cell_type": "markdown",
   "metadata": {},
   "source": [
    "There are at least two file paths you need to setup in order to run kbmod:\n",
    "1. The im_filepath provides a path to the input images.\n",
    "1. The res_filepath provides a path to the directory where the output results will be stored.\n",
    "\n",
    "A time and psf file can optionally be specified.\n",
    "\n",
    "If you already have data files, you can use those. Below we use the data in `data/demo`. You can also create your own fake data using `fake_data_creator.py`."
   ]
  },
  {
   "cell_type": "code",
   "execution_count": null,
   "metadata": {},
   "outputs": [],
   "source": [
    "# Define the path for the data.\n",
    "im_filepath = \"../data/demo\"\n",
    "print(os.listdir(im_filepath))"
   ]
  },
  {
   "cell_type": "code",
   "execution_count": null,
   "metadata": {},
   "outputs": [],
   "source": [
    "res_filepath = \"./fake_results\"\n",
    "if not Path(res_filepath).is_dir():\n",
    "    print(f\"Directory {res_filepath} does not exist. Creating.\")\n",
    "    os.mkdir(res_filepath)"
   ]
  },
  {
   "cell_type": "markdown",
   "metadata": {},
   "source": [
    "# Run KBMOD\n",
    "\n",
    "The standard approach to running KBMOD is to perform a grid search over all starting pixels and a grid of velocities. The velocities are defined by steps in velocity space (in pixels per day) and angles. Let’s do a grid search with:\n",
    "* 21 different velocity steps from 0 pixels per day and 20 pixels per day\n",
    "* 11 different angles from 0.5 below the default angle (computed based on the ecliptic) to 0.5 above.\n",
    "\n",
    "We require objects to be found in at least 7 of the time steps."
   ]
  },
  {
   "cell_type": "code",
   "execution_count": null,
   "metadata": {},
   "outputs": [],
   "source": [
    "results_suffix = \"DEMO\"\n",
    "\n",
    "# The demo data has an object moving at x_v=10 px/day\n",
    "# and y_v = 0 px/day. So we search velocities [0, 20].\n",
    "v_min = 0\n",
    "v_max = 20\n",
    "v_steps = 21\n",
    "v_arr = [v_min, v_max, v_steps]\n",
    "\n",
    "# and angles [-0.5, 0.5]\n",
    "ang_below = 0.5\n",
    "ang_above = 0.5\n",
    "ang_steps = 11\n",
    "ang_arr = [ang_below, ang_above, ang_steps]\n",
    "\n",
    "# There are 10 images in the demo data. Make sure we see\n",
    "# the object in at least 7.\n",
    "num_obs = 7\n",
    "\n",
    "input_parameters = {\n",
    "    # Required\n",
    "    \"im_filepath\": im_filepath,\n",
    "    \"res_filepath\": res_filepath,\n",
    "    \"time_file\": None,\n",
    "    \"output_suffix\": results_suffix,\n",
    "    \"v_arr\": v_arr,\n",
    "    \"ang_arr\": ang_arr,\n",
    "    # Important\n",
    "    \"num_obs\": num_obs,\n",
    "    \"do_mask\": True,\n",
    "    \"lh_level\": 10.0,\n",
    "    \"gpu_filter\": True,\n",
    "    # Fine tuning\n",
    "    \"sigmaG_lims\": [15, 60],\n",
    "    \"mom_lims\": [37.5, 37.5, 1.5, 1.0, 1.0],\n",
    "    \"peak_offset\": [3.0, 3.0],\n",
    "    \"chunk_size\": 1000000,\n",
    "    \"stamp_type\": \"cpp_median\",\n",
    "    \"eps\": 0.03,\n",
    "    \"clip_negative\": True,\n",
    "    \"mask_num_images\": 10,\n",
    "    \"cluster_type\": \"position\",\n",
    "    # Override the ecliptic angle for the demo data since we\n",
    "    # know the true angle in pixel space.\n",
    "    \"average_angle\": 0.0,\n",
    "    \"result_filename\": \"./fake_results/results.ecsv\",\n",
    "    \"save_all_stamps\": True,\n",
    "}\n",
    "\n",
    "rs = SearchRunner()\n",
    "results = rs.run_search_from_config(input_parameters)"
   ]
  },
  {
   "cell_type": "markdown",
   "metadata": {},
   "source": [
    "We then check that results were written to an output directory."
   ]
  },
  {
   "cell_type": "code",
   "execution_count": null,
   "metadata": {},
   "outputs": [],
   "source": [
    "if os.path.exists(res_filepath):\n",
    "    files = os.listdir(res_filepath)\n",
    "    print(files)"
   ]
  },
  {
   "cell_type": "markdown",
   "metadata": {},
   "source": [
    "# Analyzing Results\n",
    "\n",
    "The run function we used returns a `ResultList` containing the individual results of the run. We can perform basic actions on this data structure such as sorting it, extracting individual results, or performing additional filtering."
   ]
  },
  {
   "cell_type": "code",
   "execution_count": null,
   "metadata": {},
   "outputs": [],
   "source": [
    "print(f\"Search found {results.num_results()} results.\")\n",
    "\n",
    "# Sorting one result doesn't do anything.\n",
    "results.sort()\n",
    "\n",
    "# Output the trajectory.\n",
    "best_result = results.results[0]\n",
    "print(best_result.trajectory)"
   ]
  },
  {
   "cell_type": "markdown",
   "metadata": {},
   "source": [
    "We can also plot the different curves for the result."
   ]
  },
  {
   "cell_type": "code",
   "execution_count": null,
   "metadata": {},
   "outputs": [],
   "source": [
    "import matplotlib.pyplot as plt\n",
    "\n",
    "fig, axs = plt.subplots(3, 1)\n",
    "axs[0].plot(results.all_times, best_result.psi_curve)\n",
    "axs[0].set_title(\"Psi\")\n",
    "\n",
    "axs[1].plot(results.all_times, best_result.phi_curve)\n",
    "axs[1].set_title(\"Psi\")\n",
    "\n",
    "axs[2].plot(results.all_times, best_result.likelihood_curve)\n",
    "axs[2].set_title(\"Likelihood\")"
   ]
  },
  {
   "cell_type": "markdown",
   "metadata": {},
   "source": [
    "For additional analysis steps, please refer to the kbmod_analysis_demo notebook which uses the data generated by this notebook."
   ]
  }
 ],
 "metadata": {
  "kernelspec": {
   "display_name": "Python (.conda-kbmod)",
   "language": "python",
   "name": "conda-env-.conda-kbmod-py"
  },
  "language_info": {
   "codemirror_mode": {
    "name": "ipython",
    "version": 3
   },
   "file_extension": ".py",
   "mimetype": "text/x-python",
   "name": "python",
   "nbconvert_exporter": "python",
   "pygments_lexer": "ipython3",
   "version": "3.12.1"
  }
 },
 "nbformat": 4,
 "nbformat_minor": 4
}
