{
 "cells": [
  {
   "cell_type": "markdown",
   "id": "1ebfeb7a-9aeb-4629-87cf-52fbbe4dc7d0",
   "metadata": {},
   "source": [
    "# Result Explorer\n",
    "\n",
    "This notebook provides a tool for examining a KBMOD result file."
   ]
  },
  {
   "cell_type": "code",
   "execution_count": null,
   "id": "fbe99e05-b5f9-4912-b33c-a1805e631ccc",
   "metadata": {},
   "outputs": [],
   "source": [
    "import numpy as np\n",
    "import matplotlib.pyplot as plt\n",
    "\n",
    "from kbmod.analysis.plotting import plot_image, plot_multiple_images, plot_time_series\n",
    "from kbmod.analysis.results_analyzer import ResultsVisualizer\n",
    "from kbmod.results import Results\n",
    "\n",
    "%matplotlib widget"
   ]
  },
  {
   "cell_type": "markdown",
   "id": "3eaee439-d70d-494a-a160-1e215367d39b",
   "metadata": {},
   "source": [
    "## Load the Results File\n",
    "\n",
    "We start by loading the results file of interest."
   ]
  },
  {
   "cell_type": "code",
   "execution_count": null,
   "id": "7bc3a34b-dd17-4ab7-a66c-e0e75dc8fc0f",
   "metadata": {},
   "outputs": [],
   "source": [
    "results_file = \"/Users/jkubica/h/data/test_kbmod_res.ecsv\"\n",
    "results = Results.read_table(results_file)\n",
    "print(results.colnames)"
   ]
  },
  {
   "cell_type": "code",
   "execution_count": null,
   "id": "46e850fe",
   "metadata": {},
   "outputs": [],
   "source": [
    "ra = ResultsVisualizer(results)"
   ]
  },
  {
   "cell_type": "code",
   "execution_count": null,
   "id": "44c67b43",
   "metadata": {},
   "outputs": [],
   "source": []
  }
 ],
 "metadata": {
  "kernelspec": {
   "display_name": "kbmod_python",
   "language": "python",
   "name": "python3"
  },
  "language_info": {
   "codemirror_mode": {
    "name": "ipython",
    "version": 3
   },
   "file_extension": ".py",
   "mimetype": "text/x-python",
   "name": "python",
   "nbconvert_exporter": "python",
   "pygments_lexer": "ipython3",
   "version": "3.10.4"
  }
 },
 "nbformat": 4,
 "nbformat_minor": 5
}
