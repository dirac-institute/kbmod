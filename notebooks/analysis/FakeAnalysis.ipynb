{
 "cells": [
  {
   "cell_type": "markdown",
   "id": "1ebfeb7a-9aeb-4629-87cf-52fbbe4dc7d0",
   "metadata": {},
   "source": [
    "# Fake Analysis\n",
    "\n",
    "This notebook provides a short example of analyzing the fakes from the DEEP data using `analyze_fakes.py`."
   ]
  },
  {
   "cell_type": "code",
   "execution_count": null,
   "id": "fbe99e05-b5f9-4912-b33c-a1805e631ccc",
   "metadata": {},
   "outputs": [],
   "source": [
    "import numpy as np\n",
    "import matplotlib.pyplot as plt\n",
    "\n",
    "from kbmod.analysis.analyze_fakes import FakeInfo, load_fake_info_from_ecsv\n",
    "from kbmod.analysis.plotting import plot_image, plot_multiple_images, plot_time_series\n",
    "from kbmod.results import Results\n",
    "from kbmod.trajectory_explorer import TrajectoryExplorer\n",
    "from kbmod.trajectory_utils import match_trajectory_sets\n",
    "from kbmod.work_unit import WorkUnit\n",
    "\n",
    "import logging\n",
    "\n",
    "logging.basicConfig(level=logging.INFO)"
   ]
  },
  {
   "cell_type": "markdown",
   "id": "3eaee439-d70d-494a-a160-1e215367d39b",
   "metadata": {},
   "source": [
    "Load the test `WorkUnit` and extract some metadata (t0 and configuration).  Also extract the configuration and set up a `TrajectoryExplorer` object that we can later use to run simulated searches on the `WorkUnit`."
   ]
  },
  {
   "cell_type": "code",
   "execution_count": null,
   "id": "7bc3a34b-dd17-4ab7-a66c-e0e75dc8fc0f",
   "metadata": {},
   "outputs": [],
   "source": [
    "wu_file = \"/epyc/projects/kbmod/data/20210908_B1h_047_test_data/20210908_B1h_047.wu\"\n",
    "wu = WorkUnit.from_fits(wu_file)\n",
    "\n",
    "times = wu.get_all_obstimes()\n",
    "t0 = times[0]\n",
    "zeroed_times = np.array(times) - t0\n",
    "\n",
    "config = wu.config\n",
    "explorer = TrajectoryExplorer(wu.im_stack, wu.config)\n",
    "explorer.initialize_data()\n",
    "\n",
    "print(f\"Loaded {len(wu)} images starting at time {t0}\")"
   ]
  },
  {
   "cell_type": "markdown",
   "id": "df1d6624-be17-4653-90a5-1be1ed1e8fa6",
   "metadata": {},
   "source": [
    "We can compute basic statistics for the WorkUnit."
   ]
  },
  {
   "cell_type": "code",
   "execution_count": null,
   "id": "76520dc6-c2f3-49c6-93be-93eea4c893c9",
   "metadata": {},
   "outputs": [],
   "source": [
    "wu.print_stats()"
   ]
  },
  {
   "cell_type": "markdown",
   "id": "4b493346-e0ea-44e3-88d9-70dae946c6df",
   "metadata": {},
   "source": [
    "Load the fakes data from the ecsv file. For each object (unique orbitid), build a trajectory with from those observations.  We use the `load_fake_info_from_ecsv()` helper function."
   ]
  },
  {
   "cell_type": "code",
   "execution_count": null,
   "id": "ca1fd5e3-b38f-428a-936a-3eefb5caa371",
   "metadata": {},
   "outputs": [],
   "source": [
    "fakes_file = \"/epyc/projects/kbmod/data/20210908_B1h_047_test_data/20210908_B1h_047_inserted_fakes.ecsv\"\n",
    "fakes_list = load_fake_info_from_ecsv(fakes_file)"
   ]
  },
  {
   "cell_type": "markdown",
   "id": "9a3f81b9-3025-4918-b9fb-74f2db6c3e15",
   "metadata": {},
   "source": [
    "We now have a list of `FakeInfo` objects with the minimal information (the inserted fake's time, RA, and dec).  To get meaningful information, we need to join against what we know about the images. We use the images' WCS to compute the fake object's pixel positions at each time. Then we use those pixel positions to extract stamps and fit a linear trajectory.\n",
    "\n",
    "Currently we join with each `FakeInfo` object separately (we could add a helper function here if needed)."
   ]
  },
  {
   "cell_type": "code",
   "execution_count": null,
   "id": "222a02f4-26dd-493f-a67c-48ff90c79197",
   "metadata": {},
   "outputs": [],
   "source": [
    "for fake in fakes_list:\n",
    "    fake.join_with_workunit(wu, 10)\n",
    "    print(f\"{fake.name}:\\n  Fit:{fake.trj}\\n  MSE={fake.compute_fit_mse()}\")"
   ]
  },
  {
   "cell_type": "markdown",
   "id": "5dacebfa-a101-468f-9376-a8aab60369fa",
   "metadata": {},
   "source": [
    "# Examining Stamps\n",
    "\n",
    "We can plot the stamps at the raw (x, y) that we computed from the (RA, dec) position and the image WCS. We can also look at the positions predicted by the fitted, linear trajectory.  Below we look at the stamps at the first 4 time steps."
   ]
  },
  {
   "cell_type": "code",
   "execution_count": null,
   "id": "43132b09-a865-48f1-975e-a504f5c5d0e1",
   "metadata": {},
   "outputs": [],
   "source": [
    "fakes_list[0].compare_stamps([0, 1, 2, 3])"
   ]
  },
  {
   "cell_type": "markdown",
   "id": "e4c77fae-bc99-4652-8251-a007a087b4b6",
   "metadata": {},
   "source": [
    "## Loading the Results\n",
    "\n",
    "We load in the results of the actual KBMOD run for comparison."
   ]
  },
  {
   "cell_type": "code",
   "execution_count": null,
   "id": "613317cd-9398-4b29-986b-d3254ebb380e",
   "metadata": {},
   "outputs": [],
   "source": [
    "results_file = \"/epyc/projects/kbmod/data/20210908_B1h_047_test_data/20210908_B1h_047.results.ecsv\"\n",
    "results = Results.read_table(results_file)\n",
    "print(results)"
   ]
  },
  {
   "cell_type": "markdown",
   "id": "8f39c4e3-0d89-43de-a501-bef19701e0b8",
   "metadata": {},
   "source": [
    "Match the known fakes against the result set."
   ]
  },
  {
   "cell_type": "code",
   "execution_count": null,
   "id": "2e143598-1f0a-4b0a-90dc-63a4b8755035",
   "metadata": {},
   "outputs": [],
   "source": [
    "known_list = [fake.trj for fake in fakes_list]\n",
    "found_list = results.make_trajectory_list()\n",
    "\n",
    "matches = match_trajectory_sets(known_list, found_list, 200.0, times=[0.0, zeroed_times[-1]])\n",
    "\n",
    "for idx, trj in enumerate(known_list):\n",
    "    m_idx = matches[idx]\n",
    "    print(f\"Fake {idx}: Match={m_idx}\")\n",
    "    print(f\"  Fake TRJ: x={trj.x:5d}, y={trj.y:5d}, vx={trj.vx:8.3f}, vy={trj.vy:8.3f}\")\n",
    "    if m_idx != -1:\n",
    "        m_trj = found_list[m_idx]\n",
    "        print(f\"  Res  TRJ: x={m_trj.x:5d}, y={m_trj.y:5d}, vx={m_trj.vx:8.3f}, vy={m_trj.vy:8.3f}\")\n",
    "        print(f\"  Score: lh={m_trj.lh}, obs_count={m_trj.obs_count}\")\n",
    "    print(\"\\n\")"
   ]
  },
  {
   "cell_type": "markdown",
   "id": "a16c3abd-dfda-4d62-aa2b-df6fda07843c",
   "metadata": {},
   "source": [
    "# Per Fake Investigation\n",
    "\n",
    "Now let's go deep on understanding what happened with a single fake.  The first unmatched fake was 2."
   ]
  },
  {
   "cell_type": "code",
   "execution_count": null,
   "id": "9a7a432a-9d60-45f0-a82c-b354576b4573",
   "metadata": {},
   "outputs": [],
   "source": [
    "fake_num = 2\n",
    "\n",
    "trj = fakes_list[fake_num].trj\n",
    "single_res = explorer.evaluate_linear_trajectory(trj.x, trj.y, trj.vx, trj.vy)[0]"
   ]
  },
  {
   "cell_type": "code",
   "execution_count": null,
   "id": "bb60724d-1f92-4945-8b95-817cc31ef753",
   "metadata": {},
   "outputs": [],
   "source": [
    "print(f\"TRJ: x={trj.x:5d}, y={trj.y:5d}, vx={trj.vx:8.3f}, vy={trj.vy:8.3f}\")\n",
    "print(f\"GPU LH {single_res['likelihood']}\")\n",
    "\n",
    "# Plot some summary data.\n",
    "fig, ax = plt.subplots(2, 3, figsize=(12.0, 8.0))\n",
    "plot_image(single_res[\"coadd_sum\"], ax=ax[0][0], figure=fig, norm=True, title=\"Sum Stamp\")\n",
    "plot_image(single_res[\"coadd_mean\"], ax=ax[0][1], figure=fig, norm=True, title=\"Mean Stamp\")\n",
    "plot_image(single_res[\"coadd_median\"], ax=ax[0][2], figure=fig, norm=True, title=\"Median Stamp\")\n",
    "\n",
    "psi = single_res[\"psi_curve\"]\n",
    "phi = single_res[\"phi_curve\"]\n",
    "valid = (phi != 0) & np.isfinite(psi) & np.isfinite(phi)\n",
    "\n",
    "psi[~valid] = 0.0\n",
    "phi[~valid] = 1e-28\n",
    "lh = psi / np.sqrt(phi)\n",
    "\n",
    "plot_time_series(psi, zeroed_times, indices=valid, ax=ax[1][0], figure=fig, title=\"PSI\")\n",
    "plot_time_series(phi, zeroed_times, indices=valid, ax=ax[1][1], figure=fig, title=\"PHI\")\n",
    "plot_time_series(lh, zeroed_times, indices=valid, ax=ax[1][2], figure=fig, title=\"LH\")"
   ]
  },
  {
   "cell_type": "markdown",
   "id": "f2a4f9eb-1ae3-431e-9401-3a7390a52f41",
   "metadata": {},
   "source": [
    "The plots above do not account for the sigma-G filtering performed on the GPU or afterwards. So let's add that into i"
   ]
  },
  {
   "cell_type": "code",
   "execution_count": null,
   "id": "30fa45b4-20ae-452a-95dc-62c23138fe0e",
   "metadata": {},
   "outputs": [],
   "source": [
    "# Plot some summary data.\n",
    "fig, ax = plt.subplots(1, 3, figsize=(12.0, 4.0))\n",
    "\n",
    "sigma_g = single_res[\"sigma_g_res\"]\n",
    "valid2 = (phi != 0) & np.isfinite(psi) & np.isfinite(phi) & sigma_g\n",
    "\n",
    "plot_time_series(psi, zeroed_times, indices=valid2, ax=ax[0], figure=fig, title=\"PSI\")\n",
    "plot_time_series(phi, zeroed_times, indices=valid2, ax=ax[1], figure=fig, title=\"PHI\")\n",
    "plot_time_series(lh, zeroed_times, indices=valid2, ax=ax[2], figure=fig, title=\"LH\")"
   ]
  },
  {
   "cell_type": "code",
   "execution_count": null,
   "id": "c333260f-02a8-45c1-a62c-80fdebc88cf6",
   "metadata": {},
   "outputs": [],
   "source": [
    "num_stamps = len(single_res[\"all_stamps\"])\n",
    "\n",
    "num_cols = 4\n",
    "num_rows = np.ceil(num_stamps / num_cols)\n",
    "img_width = 2.0\n",
    "\n",
    "labels = []\n",
    "for idx, t in enumerate(zeroed_times):\n",
    "    label = f\"{idx}={t:.4f}\\n\"\n",
    "    if not valid[idx]:\n",
    "        label += \"MASKED\"\n",
    "    elif not sigma_g[idx]:\n",
    "        label += \"SIGMA G\"\n",
    "    else:\n",
    "        label += \"VALID\"\n",
    "    labels.append(label)\n",
    "\n",
    "fig = plt.figure(layout=\"tight\", figsize=(img_width * num_cols, img_width * num_rows))\n",
    "plot_multiple_images(single_res[\"all_stamps\"], fig, columns=num_cols, labels=labels, norm=True)"
   ]
  },
  {
   "cell_type": "code",
   "execution_count": null,
   "id": "b8ed2c27-7455-43ac-bc4d-9bb234cea6bd",
   "metadata": {},
   "outputs": [],
   "source": []
  }
 ],
 "metadata": {
  "kernelspec": {
   "display_name": "Jeremy's KBMOD",
   "language": "python",
   "name": "kbmod_jk"
  },
  "language_info": {
   "codemirror_mode": {
    "name": "ipython",
    "version": 3
   },
   "file_extension": ".py",
   "mimetype": "text/x-python",
   "name": "python",
   "nbconvert_exporter": "python",
   "pygments_lexer": "ipython3",
   "version": "3.12.2"
  }
 },
 "nbformat": 4,
 "nbformat_minor": 5
}
