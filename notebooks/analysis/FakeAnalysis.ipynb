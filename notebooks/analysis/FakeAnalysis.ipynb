{
 "cells": [
  {
   "cell_type": "markdown",
   "id": "1ebfeb7a-9aeb-4629-87cf-52fbbe4dc7d0",
   "metadata": {},
   "source": [
    "# Fake Analysis\n",
    "\n",
    "This notebook provides a short example of analyzing the fakes from the DEEP data using `analyze_fakes.py`."
   ]
  },
  {
   "cell_type": "code",
   "execution_count": null,
   "id": "fbe99e05-b5f9-4912-b33c-a1805e631ccc",
   "metadata": {},
   "outputs": [],
   "source": [
    "import numpy as np\n",
    "import matplotlib.pyplot as plt\n",
    "\n",
    "from kbmod.analysis.analyze_fakes import FakeInfo, load_fake_info_from_ecsv\n",
    "from kbmod.analysis.plotting import plot_image\n",
    "from kbmod.work_unit import WorkUnit\n",
    "\n",
    "import logging\n",
    "\n",
    "logging.basicConfig(level=logging.INFO)"
   ]
  },
  {
   "cell_type": "markdown",
   "id": "3eaee439-d70d-494a-a160-1e215367d39b",
   "metadata": {},
   "source": [
    "Load the test WorkUnit and extract some metadata (t0)."
   ]
  },
  {
   "cell_type": "code",
   "execution_count": null,
   "id": "7bc3a34b-dd17-4ab7-a66c-e0e75dc8fc0f",
   "metadata": {},
   "outputs": [],
   "source": [
    "wu_file = \"/epyc/projects/kbmod/data/20210908_B1h_047_test_data/20210908_B1h_047.wu\"\n",
    "wu = WorkUnit.from_fits(wu_file)\n",
    "times = wu.get_all_obstimes()\n",
    "t0 = times[0]\n",
    "\n",
    "print(f\"Loaded {len(wu)} images starting at time {t0}\")"
   ]
  },
  {
   "cell_type": "markdown",
   "id": "df1d6624-be17-4653-90a5-1be1ed1e8fa6",
   "metadata": {},
   "source": [
    "We can compute basic statistics for the WorkUnit."
   ]
  },
  {
   "cell_type": "code",
   "execution_count": null,
   "id": "76520dc6-c2f3-49c6-93be-93eea4c893c9",
   "metadata": {},
   "outputs": [],
   "source": [
    "wu.print_stats()"
   ]
  },
  {
   "cell_type": "markdown",
   "id": "4b493346-e0ea-44e3-88d9-70dae946c6df",
   "metadata": {},
   "source": [
    "Load the fakes data from the ecsv file. For each object (unique orbitid), build a trajectory with from those observations.  We use the `load_fake_info_from_ecsv()` helper function."
   ]
  },
  {
   "cell_type": "code",
   "execution_count": null,
   "id": "ca1fd5e3-b38f-428a-936a-3eefb5caa371",
   "metadata": {},
   "outputs": [],
   "source": [
    "fakes_file = \"/epyc/projects/kbmod/data/20210908_B1h_047_test_data/20210908_B1h_047_inserted_fakes.ecsv\"\n",
    "fakes_list = load_fake_info_from_ecsv(fakes_file)"
   ]
  },
  {
   "cell_type": "markdown",
   "id": "9a3f81b9-3025-4918-b9fb-74f2db6c3e15",
   "metadata": {},
   "source": [
    "We now have a list of `FakeInfo` objects with the minimal information (the inserted fake's time, RA, and dec).  To get meaningful information, we need to join against what we know about the images. We use the images' WCS to compute the fake object's pixel positions at each time. Then we use those pixel positions to extract stamps and fit a linear trajectory.\n",
    "\n",
    "Currently we join with each `FakeInfo` object separately (we could add a helper function here if needed)."
   ]
  },
  {
   "cell_type": "code",
   "execution_count": null,
   "id": "222a02f4-26dd-493f-a67c-48ff90c79197",
   "metadata": {},
   "outputs": [],
   "source": [
    "for fake in fakes_list:\n",
    "    fake.join_with_workunit(wu, 10)\n",
    "    print(f\"{fake.name}:\\n  Fit:{fake.trj}\\n  MSE={fake.compute_fit_mse()}\")"
   ]
  },
  {
   "cell_type": "markdown",
   "id": "5dacebfa-a101-468f-9376-a8aab60369fa",
   "metadata": {},
   "source": [
    "# Examining Stamps\n",
    "\n",
    "We can plot the stamps at the raw (x, y) that we computed from the (RA, dec) position and the image WCS. We can also look at the positions predicted by the fitted, linear trajectory.  Below we look at the stamps at the first 4 time steps."
   ]
  },
  {
   "cell_type": "code",
   "execution_count": null,
   "id": "43132b09-a865-48f1-975e-a504f5c5d0e1",
   "metadata": {},
   "outputs": [],
   "source": [
    "fakes_list[0].compare_stamps([0, 1, 2, 3])"
   ]
  }
 ],
 "metadata": {
  "kernelspec": {
   "display_name": "Jeremy's KBMOD",
   "language": "python",
   "name": "kbmod_jk"
  },
  "language_info": {
   "codemirror_mode": {
    "name": "ipython",
    "version": 3
   },
   "file_extension": ".py",
   "mimetype": "text/x-python",
   "name": "python",
   "nbconvert_exporter": "python",
   "pygments_lexer": "ipython3",
   "version": "3.12.2"
  }
 },
 "nbformat": 4,
 "nbformat_minor": 5
}
