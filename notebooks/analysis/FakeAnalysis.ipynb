{
 "cells": [
  {
   "cell_type": "markdown",
   "id": "1ebfeb7a-9aeb-4629-87cf-52fbbe4dc7d0",
   "metadata": {},
   "source": [
    "# Fake Analysis\n",
    "\n",
    "This notebook provides a short example of analyzing the fakes from the DEEP data using `analyze_fakes.py`."
   ]
  },
  {
   "cell_type": "code",
   "execution_count": null,
   "id": "fbe99e05-b5f9-4912-b33c-a1805e631ccc",
   "metadata": {},
   "outputs": [],
   "source": [
    "import numpy as np\n",
    "import matplotlib.pyplot as plt\n",
    "\n",
    "from kbmod.analysis.analyze_fakes import FakeInfo, load_fake_info_from_ecsv\n",
    "from kbmod.analysis.plotting import plot_image, plot_multiple_images, plot_time_series\n",
    "from kbmod.configuration import SearchConfiguration\n",
    "from kbmod.results import Results\n",
    "from kbmod.trajectory_explorer import TrajectoryExplorer\n",
    "from kbmod.trajectory_generator import create_trajectory_generator\n",
    "from kbmod.trajectory_utils import match_trajectory_sets, find_closest_velocity\n",
    "from kbmod.work_unit import WorkUnit"
   ]
  },
  {
   "cell_type": "markdown",
   "id": "3eaee439-d70d-494a-a160-1e215367d39b",
   "metadata": {},
   "source": [
    "## Load the WorkUnit\n",
    "\n",
    "Load the test `WorkUnit` for this run and extract some metadata (t0 and configuration).  Also extract the configuration and set up a `TrajectoryExplorer` object that we can later use to run simulated searches on the `WorkUnit`."
   ]
  },
  {
   "cell_type": "code",
   "execution_count": null,
   "id": "7bc3a34b-dd17-4ab7-a66c-e0e75dc8fc0f",
   "metadata": {},
   "outputs": [],
   "source": [
    "wu_file = \"/epyc/projects/kbmod/data/20210908_B1h_047_test_data/20210908_B1h_047.wu\"\n",
    "wu = WorkUnit.from_fits(wu_file)\n",
    "\n",
    "times = wu.get_all_obstimes()\n",
    "t0 = times[0]\n",
    "zeroed_times = np.array(times) - t0\n",
    "max_dt = np.max(zeroed_times)\n",
    "\n",
    "print(f\"Loaded {len(wu)} images starting at time {t0}\")\n",
    "wu.print_stats()"
   ]
  },
  {
   "cell_type": "markdown",
   "id": "df1d6624-be17-4653-90a5-1be1ed1e8fa6",
   "metadata": {},
   "source": [
    "Use a configuration that matches what was used in the search (with changes noted as comments)."
   ]
  },
  {
   "cell_type": "code",
   "execution_count": null,
   "id": "76520dc6-c2f3-49c6-93be-93eea4c893c9",
   "metadata": {},
   "outputs": [],
   "source": [
    "config_data = {\n",
    "    \"chunk_size\": 1000000,\n",
    "    \"clip_negative\": False,\n",
    "    \"cluster_eps\": 120.0,\n",
    "    \"cluster_type\": all,\n",
    "    \"cluster_v_scale\": 1.0,\n",
    "    \"coadds\": [\"sum\", \"mean\", \"median\", \"weighted\"],\n",
    "    \"debug\": True,  # Use debugging output\n",
    "    \"do_clustering\": True,\n",
    "    \"do_mask\": True,\n",
    "    \"encode_num_bytes\": -1,\n",
    "    \"generator_config\": {\n",
    "        \"angle_units\": \"degree\",\n",
    "        \"angles\": [-270, -90, 64],\n",
    "        \"given_ecliptic\": None,\n",
    "        \"name\": \"EclipticCenteredSearch\",\n",
    "        \"velocities\": [80.0, 500.0, 64],\n",
    "        \"velocity_units\": \"pix / d\",\n",
    "    },\n",
    "    \"gpu_filter\": True,\n",
    "    \"lh_level\": 7.0,\n",
    "    \"max_lh\": 1000.0,\n",
    "    \"num_obs\": 50,  # Set lower\n",
    "    \"psf_val\": 1.4,\n",
    "    \"result_filename\": None,\n",
    "    \"results_per_pixel\": 8,\n",
    "    \"save_all_stamps\": False,\n",
    "    \"sigmaG_lims\": [25, 75],\n",
    "    \"stamp_radius\": 10,\n",
    "    \"stamp_type\": sum,\n",
    "    \"track_filtered\": False,\n",
    "    \"x_pixel_bounds\": None,\n",
    "    \"x_pixel_buffer\": None,\n",
    "    \"y_pixel_bounds\": None,\n",
    "}\n",
    "config = SearchConfiguration(config_data)\n",
    "wu.config = config\n",
    "\n",
    "explorer = TrajectoryExplorer(wu.im_stack, config)\n",
    "explorer.initialize_data()"
   ]
  },
  {
   "cell_type": "markdown",
   "id": "2dede946-cbab-40ac-acb3-617f820158b0",
   "metadata": {},
   "source": [
    "We can use the configuration in the `WorkUnit` to access information about the trajectories that are searched."
   ]
  },
  {
   "cell_type": "code",
   "execution_count": null,
   "id": "2f34f6d7-26ef-4dec-a1df-be4539b15196",
   "metadata": {},
   "outputs": [],
   "source": [
    "trj_generator = create_trajectory_generator(config, work_unit=wu)\n",
    "print(trj_generator)\n",
    "\n",
    "candidates = [trj for trj in trj_generator]\n",
    "print(f\"Searches {len(candidates)} Trajectories.\")\n",
    "\n",
    "# Print a scatter plot of the candidate velocities.\n",
    "cand_vx = [trj.vx for trj in candidates]\n",
    "cand_vy = [trj.vy for trj in candidates]\n",
    "\n",
    "fig, ax = plt.subplots(figsize=(10.0, 10.0))\n",
    "ax.plot(cand_vx, cand_vy, color=\"black\", marker=\".\", linewidth=0)\n",
    "ax.set_title(\"Candidate Velocity Distribution\")\n",
    "ax.set_xlabel(\"vx (pixels / day)\")\n",
    "ax.set_ylabel(\"vy (pixels / day)\")"
   ]
  },
  {
   "cell_type": "markdown",
   "id": "4b493346-e0ea-44e3-88d9-70dae946c6df",
   "metadata": {},
   "source": [
    "## Load the Inserted Fakes\n",
    "\n",
    "Load the fakes data from the ecsv file. For each object (unique orbitid), build a trajectory with from those observations.  We use the `load_fake_info_from_ecsv()` helper function."
   ]
  },
  {
   "cell_type": "code",
   "execution_count": null,
   "id": "ca1fd5e3-b38f-428a-936a-3eefb5caa371",
   "metadata": {},
   "outputs": [],
   "source": [
    "fakes_file = \"/epyc/projects/kbmod/data/20210908_B1h_047_test_data/20210908_B1h_047_inserted_fakes.ecsv\"\n",
    "fakes_list = load_fake_info_from_ecsv(fakes_file)"
   ]
  },
  {
   "cell_type": "markdown",
   "id": "9a3f81b9-3025-4918-b9fb-74f2db6c3e15",
   "metadata": {},
   "source": [
    "We now have a list of `FakeInfo` objects with the minimal information (the inserted fake's time, RA, and dec).  To get meaningful information, we need to join against what we know about the images. We use the images' WCS to compute the fake object's pixel positions at each time. Then we use those pixel positions to extract stamps and fit a linear trajectory.\n",
    "\n",
    "Currently we join with each `FakeInfo` object separately (we could add a helper function here if needed)."
   ]
  },
  {
   "cell_type": "code",
   "execution_count": null,
   "id": "222a02f4-26dd-493f-a67c-48ff90c79197",
   "metadata": {},
   "outputs": [],
   "source": [
    "for idx, fake in enumerate(fakes_list):\n",
    "    fake.join_with_workunit(wu, 10)\n",
    "    print(f\"{idx}, {fake.name}:\\n  {fake.trj}\")\n",
    "    print(f\"  Times Seen={fake.num_times_seen} of {len(fake)}\")\n",
    "    print(f\"  MSE={fake.compute_fit_mse()}\\n\")"
   ]
  },
  {
   "cell_type": "markdown",
   "id": "3ea61f20-6922-4d78-8647-1328c26d1238",
   "metadata": {},
   "source": [
    "We can also plot some summary information.  Here we plot three aspects:\n",
    "  * RA vs time to show how linear the trajectory is in that dimension.\n",
    "  * Dec vs time to show how linear the trajectory is in that dimension.\n",
    "  * Magnitude vs time to show how the signal is changing over time."
   ]
  },
  {
   "cell_type": "code",
   "execution_count": null,
   "id": "8d30b82d-e1dd-4884-900b-04f470c84f97",
   "metadata": {},
   "outputs": [],
   "source": [
    "for idx, fake in enumerate(fakes_list):\n",
    "    fake.plot_summary(title=f\"\\n---------------\\n({idx}) {fake.name}\")"
   ]
  },
  {
   "cell_type": "markdown",
   "id": "0a5577f2-6fc6-43ca-a958-f44836cc94f0",
   "metadata": {},
   "source": [
    "We can also see how the x and y velocities of the fakes align with our search space."
   ]
  },
  {
   "cell_type": "code",
   "execution_count": null,
   "id": "d253baef-86c1-495c-a6b0-5af6397f14f0",
   "metadata": {},
   "outputs": [],
   "source": [
    "fig, ax = plt.subplots(figsize=(6.0, 6.0))\n",
    "ax.plot(cand_vx, cand_vy, color=\"black\", marker=\".\", linewidth=0)\n",
    "\n",
    "fake_vx = [fake.trj.vx for fake in fakes_list]\n",
    "fake_vy = [fake.trj.vy for fake in fakes_list]\n",
    "ax.plot(fake_vx, fake_vy, color=\"red\", marker=\".\", linewidth=0)\n",
    "\n",
    "ax.set_title(\"Candidate Velocity Distribution\")\n",
    "ax.set_xlabel(\"vx (pixels / day)\")\n",
    "ax.set_ylabel(\"vy (pixels / day)\")"
   ]
  },
  {
   "cell_type": "markdown",
   "id": "5dacebfa-a101-468f-9376-a8aab60369fa",
   "metadata": {},
   "source": [
    "## Examining Stamps\n",
    "\n",
    "We can plot the stamps at the raw (x, y) that we computed from the (RA, dec) position and the image WCS. We can also look at the positions predicted by the fitted, linear trajectory.  Below we look at the stamps at the first 4 time steps."
   ]
  },
  {
   "cell_type": "code",
   "execution_count": null,
   "id": "43132b09-a865-48f1-975e-a504f5c5d0e1",
   "metadata": {},
   "outputs": [],
   "source": [
    "fakes_list[0].compare_stamps([0, 1, 2, 3])"
   ]
  },
  {
   "cell_type": "markdown",
   "id": "e4c77fae-bc99-4652-8251-a007a087b4b6",
   "metadata": {},
   "source": [
    "## Loading the Results\n",
    "\n",
    "We load in the results of the actual KBMOD run for comparison."
   ]
  },
  {
   "cell_type": "code",
   "execution_count": null,
   "id": "613317cd-9398-4b29-986b-d3254ebb380e",
   "metadata": {},
   "outputs": [],
   "source": [
    "results_file = \"/epyc/projects/kbmod/data/20210908_B1h_047_test_data/20210908_B1h_047.results.ecsv\"\n",
    "results = Results.read_table(results_file)\n",
    "print(results)"
   ]
  },
  {
   "cell_type": "markdown",
   "id": "8f39c4e3-0d89-43de-a501-bef19701e0b8",
   "metadata": {},
   "source": [
    "We match the known fakes against the result set. If there is a match, we display the result information (trajectory, likelihood, and observation count). \n",
    "\n",
    "If there is no match, we look up the closest velocity in the candidate set. This is the best we could do if we matched the starting pixel exactly. From this candidate trajectory, we can compute how far we are by the last time step. Again this is the best case distance at the last time step."
   ]
  },
  {
   "cell_type": "code",
   "execution_count": null,
   "id": "2e143598-1f0a-4b0a-90dc-63a4b8755035",
   "metadata": {},
   "outputs": [],
   "source": [
    "known_list = [fake.trj for fake in fakes_list]\n",
    "found_list = results.make_trajectory_list()\n",
    "\n",
    "# Match the known fakes and the found trajectories. To match the mean error at t_0 and t_last\n",
    "# must be <= 10.0 pixels.\n",
    "match_times = [0.0, zeroed_times[-1]]\n",
    "matches = match_trajectory_sets(known_list, found_list, 10.0, times=match_times)\n",
    "\n",
    "for idx, trj in enumerate(known_list):\n",
    "    m_idx = matches[idx]\n",
    "    print(f\"Fake {idx} ({fakes_list[idx].name}): Match={m_idx}\")\n",
    "    print(f\"  Ave Mag: {np.mean(fakes_list[idx].mag)}\")\n",
    "    print(f\"  Times Seen: {fakes_list[idx].num_times_seen}\")\n",
    "    print(f\"  Fake TRJ: x={trj.x:5d}, y={trj.y:5d}, vx={trj.vx:8.3f}, vy={trj.vy:8.3f}\")\n",
    "    if m_idx != -1:\n",
    "        m_trj = found_list[m_idx]\n",
    "        print(f\"  Res  TRJ: x={m_trj.x:5d}, y={m_trj.y:5d}, vx={m_trj.vx:8.3f}, vy={m_trj.vy:8.3f}\")\n",
    "        print(f\"  Result Score: lh={m_trj.lh}, obs_count={m_trj.obs_count}\")\n",
    "    else:\n",
    "        # What is the closest candidate this COULD have matched with. Since we\n",
    "        # could start at any pixel, just account for the velocity.\n",
    "        closest = find_closest_velocity(trj, candidates)\n",
    "        m_trj = candidates[closest]\n",
    "        print(f\"  Closest Candidate Vel: vx={m_trj.vx:8.3f}, vy={m_trj.vy:8.3f}\")\n",
    "\n",
    "        dx_max = max_dt * m_trj.vx - max_dt * trj.vx\n",
    "        dy_max = max_dt * m_trj.vy - max_dt * trj.vy\n",
    "        dist = np.sqrt(dx_max * dx_max + dy_max * dy_max)\n",
    "        print(f\"  Distance after dt={max_dt:.4f} is {dist:.2f} pixels.\")\n",
    "\n",
    "    print(\"\\n\")"
   ]
  },
  {
   "cell_type": "markdown",
   "id": "4cd98283-e7ff-4f46-91e4-f1c955ec4a8a",
   "metadata": {},
   "source": [
    "We can also visualize the intersection of the search space (black dots), the fakes (red dots), and the found results (blue dots)."
   ]
  },
  {
   "cell_type": "code",
   "execution_count": null,
   "id": "6b78b276-544b-45a4-9c49-739737c7d1dd",
   "metadata": {},
   "outputs": [],
   "source": [
    "fig, ax = plt.subplots(figsize=(6.0, 6.0))\n",
    "ax.plot(cand_vx, cand_vy, color=\"black\", marker=\".\", linewidth=0)\n",
    "ax.plot(fake_vx, fake_vy, color=\"red\", marker=\".\", linewidth=0)\n",
    "\n",
    "res_vx = [trj.vx for trj in found_list]\n",
    "res_vy = [trj.vy for trj in found_list]\n",
    "ax.plot(res_vx, res_vy, color=\"blue\", marker=\".\", linewidth=0)\n",
    "\n",
    "ax.set_title(\"Candidate Velocity Distribution\")\n",
    "ax.set_xlabel(\"vx (pixels / day)\")\n",
    "ax.set_ylabel(\"vy (pixels / day)\")"
   ]
  },
  {
   "cell_type": "markdown",
   "id": "a16c3abd-dfda-4d62-aa2b-df6fda07843c",
   "metadata": {},
   "source": [
    "# Per Fake Investigation\n",
    "\n",
    "Now let's go deep on understanding what happened with each fake by trying a search on exactly the fit parameters. For each fake we are going to display:\n",
    "  * The coadded stamps from the fitted trajectory. The red dots indicate masked points.\n",
    "  * The psi, phi, and lh curves as computed after sigma-G filtering. The red dots indicate pointed that are either masked or filtered by sigma-G filtering. Masked points are also assigned values of 0.0.\n",
    "  * The individual stamp at each time. We also indicate whether the stamp was a valid time step, a masked time step (e.g. bad pixel), or filtered by sigma-G filtering."
   ]
  },
  {
   "cell_type": "code",
   "execution_count": null,
   "id": "9a7a432a-9d60-45f0-a82c-b354576b4573",
   "metadata": {},
   "outputs": [],
   "source": [
    "subplot_size = 3.0\n",
    "\n",
    "for idx, fake in enumerate(fakes_list):\n",
    "    trj = fake.trj\n",
    "    single_res = explorer.evaluate_linear_trajectory(trj.x, trj.y, trj.vx, trj.vy)[0]\n",
    "\n",
    "    # Extract the basic information to use in the title string.\n",
    "    data_str = f\"\\n---------------------------\\n{idx}: Orbit ID={fake.name}\\n\"\n",
    "    if matches[idx] == -1:\n",
    "        data_str += \"  Status: NOT FOUND\\n\"\n",
    "        data_str += f\"  FAKE TRJ: x={trj.x:5d}, y={trj.y:5d}, vx={trj.vx:8.3f}, vy={trj.vy:8.3f}\\n\"\n",
    "    else:\n",
    "        data_str += f\"  Status: RECOVERED (result={matches[idx]})\\n\"\n",
    "        data_str += f\"   FAKE TRJ: x={trj.x:5d}, y={trj.y:5d}, vx={trj.vx:8.3f}, vy={trj.vy:8.3f}\\n\"\n",
    "        data_str += f\"  FOUND TRJ: x={m_trj.x:5d}, y={m_trj.y:5d}, vx={m_trj.vx:8.3f}, vy={m_trj.vy:8.3f}\\n\"\n",
    "        data_str += f\"  Score: lh={m_trj.lh}, obs_count={m_trj.obs_count}\\n\"\n",
    "    data_str += f\"  FAKE GPU LH: {single_res['likelihood']}\\n\"\n",
    "\n",
    "    # Plot some summary data.\n",
    "    fig = plt.figure(layout=\"tight\", figsize=(3 * subplot_size, 2 * subplot_size))\n",
    "    ax = fig.subplots(2, 3)\n",
    "    fig.suptitle(data_str)\n",
    "\n",
    "    plot_image(\n",
    "        single_res[\"coadd_sum\"], ax=ax[0][0], figure=fig, norm=True, title=\"Sum Stamp\", show_counts=False\n",
    "    )\n",
    "    plot_image(\n",
    "        single_res[\"coadd_mean\"], ax=ax[0][1], figure=fig, norm=True, title=\"Mean Stamp\", show_counts=False\n",
    "    )\n",
    "    plot_image(\n",
    "        single_res[\"coadd_median\"],\n",
    "        ax=ax[0][2],\n",
    "        figure=fig,\n",
    "        norm=True,\n",
    "        title=\"Median Stamp\",\n",
    "        show_counts=False,\n",
    "    )\n",
    "\n",
    "    # Compute the psi, phi, and LH curves without sigma-G filtering. Only\n",
    "    # account for the masked points (valid array).\n",
    "    psi = single_res[\"psi_curve\"]\n",
    "    phi = single_res[\"phi_curve\"]\n",
    "    valid = (phi != 0) & np.isfinite(psi) & np.isfinite(phi)\n",
    "\n",
    "    psi[~valid] = 0.0\n",
    "    phi[~valid] = 1e-28\n",
    "    lh = psi / np.sqrt(phi)\n",
    "\n",
    "    # Run sigma-G filtering on the curves and mark any points that\n",
    "    # are either masked or subject to sigma-G filtering.\n",
    "    sigma_g = single_res[\"sigma_g_res\"]\n",
    "    valid2 = (phi != 0) & np.isfinite(psi) & np.isfinite(phi) & sigma_g\n",
    "\n",
    "    plot_time_series(psi, zeroed_times, indices=valid2, ax=ax[1][0], figure=fig, title=\"Sigma G PSI\")\n",
    "    plot_time_series(phi, zeroed_times, indices=valid2, ax=ax[1][1], figure=fig, title=\"Sigma G PHI\")\n",
    "    plot_time_series(lh, zeroed_times, indices=valid2, ax=ax[1][2], figure=fig, title=\"Sigma G LH\")\n",
    "\n",
    "    # Plot the stamps as their own figure.\n",
    "    num_stamps = len(single_res[\"all_stamps\"])\n",
    "    num_cols = 5\n",
    "    num_rows = np.ceil(num_stamps / num_cols)\n",
    "    img_width = 2.0\n",
    "\n",
    "    labels = []\n",
    "    for idx, t in enumerate(zeroed_times):\n",
    "        label = f\"{idx}={t:.4f}\\n\"\n",
    "        if not valid[idx]:\n",
    "            label += \"MASKED\"\n",
    "        elif not sigma_g[idx]:\n",
    "            label += \"SIGMA G\"\n",
    "        else:\n",
    "            label += \"VALID\"\n",
    "        labels.append(label)\n",
    "\n",
    "    fig = plt.figure(layout=\"tight\", figsize=(img_width * num_cols, img_width * num_rows))\n",
    "    plot_multiple_images(single_res[\"all_stamps\"], fig, columns=num_cols, labels=labels, norm=True)\n",
    "\n",
    "plt.show()"
   ]
  },
  {
   "cell_type": "code",
   "execution_count": null,
   "id": "39bec561-46cf-4153-8140-80ec9058533c",
   "metadata": {},
   "outputs": [],
   "source": []
  }
 ],
 "metadata": {
  "kernelspec": {
   "display_name": "Jeremy's KBMOD",
   "language": "python",
   "name": "kbmod_jk"
  },
  "language_info": {
   "codemirror_mode": {
    "name": "ipython",
    "version": 3
   },
   "file_extension": ".py",
   "mimetype": "text/x-python",
   "name": "python",
   "nbconvert_exporter": "python",
   "pygments_lexer": "ipython3",
   "version": "3.12.2"
  }
 },
 "nbformat": 4,
 "nbformat_minor": 5
}
