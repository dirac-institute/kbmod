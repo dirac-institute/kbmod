{
 "cells": [
  {
   "cell_type": "code",
   "execution_count": 1,
   "id": "ed3f7141-a684-4c3f-b414-2c56806dbe37",
   "metadata": {},
   "outputs": [],
   "source": [
    "import logging\n",
    "\n",
    "from kbmod.search import Trajectory, TrajectoryList"
   ]
  },
  {
   "cell_type": "code",
   "execution_count": 2,
   "id": "8247e7ad-8672-45c6-b1dd-4accda9ec8bd",
   "metadata": {},
   "outputs": [
    {
     "name": "stdout",
     "output_type": "stream",
     "text": [
      "[2024-04-29T17:30:40Z WARNING kbmod.search.trajectory_list] This should print in warning and above\n"
     ]
    }
   ],
   "source": [
    "logging.basicConfig(level=logging.DEBUG)\n",
    "logging.getLogger(\"kbmod\").setLevel(logging.DEBUG)\n",
    "\n",
    "trj_list1 = TrajectoryList(3)"
   ]
  }
 ],
 "metadata": {
  "kernelspec": {
   "display_name": "Jeremy's KBMOD",
   "language": "python",
   "name": "kbmod_jk"
  },
  "language_info": {
   "codemirror_mode": {
    "name": "ipython",
    "version": 3
   },
   "file_extension": ".py",
   "mimetype": "text/x-python",
   "name": "python",
   "nbconvert_exporter": "python",
   "pygments_lexer": "ipython3",
   "version": "3.12.2"
  }
 },
 "nbformat": 4,
 "nbformat_minor": 5
}
