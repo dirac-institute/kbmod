{
 "cells": [
  {
   "cell_type": "markdown",
   "metadata": {},
   "source": [
    "# KBMOD Visualization  \n",
    "  \n",
    "This notebook demonstrates the basic functionality for working with RawImages and visualizing them."
   ]
  },
  {
   "cell_type": "markdown",
   "metadata": {},
   "source": [
    "# Setup kbmod visualization demo\n",
    "Before importing, make sure you have installed kbmod using `pip install .` in the root directory.  Also be sure you are running with python3 and using the correct notebook kernel."
   ]
  },
  {
   "cell_type": "code",
   "execution_count": null,
   "metadata": {},
   "outputs": [],
   "source": [
    "# everything we will need for this demo\n",
    "import kbmod.search as kb\n",
    "import matplotlib.pyplot as plt\n",
    "import math\n",
    "import numpy as np\n",
    "import os\n",
    "\n",
    "im_path = \"../data/small/\"\n",
    "res_path = \"./results\""
   ]
  },
  {
   "cell_type": "markdown",
   "metadata": {},
   "source": [
    "# Loading data for visualization demo\n",
    "\n",
    "### A. Load a file for visualization:\n",
    "The LayeredImage is loaded given the path and filename to the FITS file as well as the PSF for the image. We use a default psf."
   ]
  },
  {
   "cell_type": "code",
   "execution_count": null,
   "metadata": {},
   "outputs": [],
   "source": [
    "p = kb.PSF(1.0)\n",
    "im = kb.LayeredImage(im_path + \"000000.fits\", p)\n",
    "print(f\"Loaded a {im.get_width()} by {im.get_height()} image at time {im.get_obstime()}\")"
   ]
  },
  {
   "cell_type": "markdown",
   "metadata": {},
   "source": [
    "We can visualize the image using matplotlib.\n",
    "\n",
    "*Note*: The data/demo images contain a single bright object, so the majority of the image should be empty with a single bright spot."
   ]
  },
  {
   "cell_type": "code",
   "execution_count": null,
   "metadata": {},
   "outputs": [],
   "source": [
    "plt.imshow(im.get_science().image, cmap=\"gray\")"
   ]
  },
  {
   "cell_type": "markdown",
   "metadata": {},
   "source": [
    "### B. Load a stack of images\n",
    "A load collection of LayeredImages at different times. "
   ]
  },
  {
   "cell_type": "code",
   "execution_count": null,
   "metadata": {},
   "outputs": [],
   "source": [
    "files = [im_path + f for f in os.listdir(im_path) if \".fits\" in f]\n",
    "files.sort()\n",
    "\n",
    "# Create default PSFs for each image.\n",
    "all_psfs = [p for _ in range(len(files))]\n",
    "\n",
    "# Load the images.\n",
    "stack = kb.ImageStack(files, all_psfs)\n",
    "\n",
    "num_images = stack.img_count()\n",
    "print(f\"Loaded {num_images} images.\")"
   ]
  },
  {
   "cell_type": "markdown",
   "metadata": {},
   "source": [
    "Display each image."
   ]
  },
  {
   "cell_type": "code",
   "execution_count": null,
   "metadata": {},
   "outputs": [],
   "source": [
    "w = 4\n",
    "h = math.ceil(num_images / w)\n",
    "\n",
    "fig, axs = plt.subplots(h, w)\n",
    "for i in range(h):\n",
    "    for j in range(w):\n",
    "        ind = w * i + j\n",
    "        if ind < num_images:\n",
    "            axs[i, j].imshow(stack.get_single_image(ind).get_science().image, cmap=\"gray\")"
   ]
  },
  {
   "cell_type": "markdown",
   "metadata": {},
   "source": [
    "# Create stamps\n",
    "\n",
    "Stamps are created via the `StampCreator` class. It requires a few pieces of data:\n",
    "* search_stack - provides the machinery for making predictions on the image (needed to handle the various corrections).\n",
    "* trajectory - Contains the information about where to place the stamps (the underlying trajectory).\n",
    "* stamp_radius - The radius in pixels."
   ]
  },
  {
   "cell_type": "code",
   "execution_count": null,
   "metadata": {},
   "outputs": [],
   "source": [
    "# Create the trajectory with a given parameters and then the trajectory result.\n",
    "trj = kb.Trajectory()\n",
    "trj.x = 11\n",
    "trj.y = 27\n",
    "trj.vx = 16.0\n",
    "trj.vy = 3.3\n",
    "\n",
    "# Create the stamps around this trajectory.\n",
    "stamps = kb.StampCreator.get_stamps(stack, trj, 20)"
   ]
  },
  {
   "cell_type": "markdown",
   "metadata": {},
   "source": [
    "Now we can display the stamps around each predicted object position."
   ]
  },
  {
   "cell_type": "code",
   "execution_count": null,
   "metadata": {},
   "outputs": [],
   "source": [
    "fig, axs = plt.subplots(h, w)\n",
    "for i in range(h):\n",
    "    for j in range(w):\n",
    "        ind = w * i + j\n",
    "        if ind < num_images:\n",
    "            axs[i, j].imshow(stamps[ind].image, cmap=\"gray\")"
   ]
  },
  {
   "cell_type": "markdown",
   "metadata": {},
   "source": [
    "We can also compute the sum, mean, or median stamp. The stamp functions take a list of bools corresponding to whether each time is valid. These can be extracted from the result data. You can use an empty array (as we do below) to build the stamp out of all valid times."
   ]
  },
  {
   "cell_type": "code",
   "execution_count": null,
   "metadata": {
    "nbsphinx-thumbnail": {
     "tooltip": "Sum, mean and median stacked postage stamp."
    }
   },
   "outputs": [],
   "source": [
    "fig, axs = plt.subplots(1, 3)\n",
    "\n",
    "# The coadds requires a vector of which indices to use.\n",
    "indices = [True] * stack.img_count()\n",
    "\n",
    "axs[0].imshow(kb.StampCreator.get_summed_stamp(stack, trj, 10, indices).image, cmap=\"gray\")\n",
    "axs[0].set_title(\"Summed\")\n",
    "\n",
    "axs[1].imshow(kb.StampCreator.get_mean_stamp(stack, trj, 10, indices).image, cmap=\"gray\")\n",
    "axs[1].set_title(\"Mean\")\n",
    "\n",
    "axs[2].imshow(kb.StampCreator.get_median_stamp(stack, trj, 10, indices).image, cmap=\"gray\")\n",
    "axs[2].set_title(\"Median\")"
   ]
  },
  {
   "cell_type": "code",
   "execution_count": null,
   "metadata": {},
   "outputs": [],
   "source": []
  }
 ],
 "metadata": {
  "kernelspec": {
   "display_name": "Python (.conda-kbmod)",
   "language": "python",
   "name": "conda-env-.conda-kbmod-py"
  },
  "language_info": {
   "codemirror_mode": {
    "name": "ipython",
    "version": 3
   },
   "file_extension": ".py",
   "mimetype": "text/x-python",
   "name": "python",
   "nbconvert_exporter": "python",
   "pygments_lexer": "ipython3",
   "version": "3.12.1"
  }
 },
 "nbformat": 4,
 "nbformat_minor": 4
}
