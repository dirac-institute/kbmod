{
 "cells": [
  {
   "cell_type": "markdown",
   "id": "de9fda35-2f5e-463e-8adb-c6cfedba1eed",
   "metadata": {},
   "source": [
    "# Results Benchmarking\n",
    "\n",
    "This notebook compares the time and space required to save results files in different formats."
   ]
  },
  {
   "cell_type": "code",
   "execution_count": null,
   "id": "d5c4ec99-9046-4d3c-b26a-ee881ca9dbed",
   "metadata": {},
   "outputs": [],
   "source": [
    "import os\n",
    "import tempfile\n",
    "import timeit\n",
    "\n",
    "from kbmod.fake_data.fake_result_creator import (\n",
    "    add_fake_psi_phi_to_results,\n",
    "    add_fake_coadds_to_results,\n",
    "    make_fake_in_image_trajectory_info,\n",
    "    make_fake_results,\n",
    "    make_fake_trajectories,\n",
    ")\n",
    "from kbmod.results import Results"
   ]
  },
  {
   "cell_type": "markdown",
   "id": "c33ff59a-ac04-460b-8655-5414563d3ff4",
   "metadata": {},
   "source": [
    "We create a fake set of results to use for benchmarking.  Add the psi/phi curves and three stamps."
   ]
  },
  {
   "cell_type": "code",
   "execution_count": null,
   "id": "db9a4b87-ba40-4370-9cf2-af2d08768e20",
   "metadata": {},
   "outputs": [],
   "source": [
    "num_times = 20\n",
    "num_results = 200\n",
    "img_height = 4000\n",
    "img_width = 4000\n",
    "stamp_radius = 25\n",
    "\n",
    "results = make_fake_results(num_times, img_height, img_width, num_results)\n",
    "results = add_fake_psi_phi_to_results(results)\n",
    "for stamp in [\"mean\", \"median\", \"sum\"]:\n",
    "    results = add_fake_coadds_to_results(results, stamp, stamp_radius)"
   ]
  },
  {
   "cell_type": "markdown",
   "id": "70f9b9e0-03b7-4abf-8a90-57c6aeeef02f",
   "metadata": {},
   "source": [
    "Create a temporary directory for the tests. Write out and stat files in different formats."
   ]
  },
  {
   "cell_type": "code",
   "execution_count": null,
   "id": "ae681876-05f6-48aa-ab64-2011af23911d",
   "metadata": {},
   "outputs": [],
   "source": [
    "tmp_dir = tempfile.TemporaryDirectory()\n",
    "\n",
    "fmt_to_file = {\n",
    "    \"ecsv\": os.path.join(tmp_dir.name, \"results.ecsv\"),\n",
    "    \"parquet\": os.path.join(tmp_dir.name, \"results.parquet\"),\n",
    "    \"hdf5\": os.path.join(tmp_dir.name, \"results.hdf5\"),\n",
    "}\n",
    "\n",
    "for fmt, file_name in fmt_to_file.items():\n",
    "    results.write_table(file_name, overwrite=True)\n",
    "\n",
    "    file_size_mb = os.path.getsize(file_name) / (1024.0 * 1024.0)\n",
    "    print(f\"{fmt}: {file_size_mb:0.2f} MB\")"
   ]
  },
  {
   "cell_type": "markdown",
   "id": "e100a466-edc4-4e88-ab50-55c634b163ff",
   "metadata": {},
   "source": [
    "Time the writing of files in each format."
   ]
  },
  {
   "cell_type": "code",
   "execution_count": null,
   "id": "e5a34291-f5e6-4902-8930-0ecf3e47f83e",
   "metadata": {},
   "outputs": [],
   "source": [
    "%%timeit\n",
    "results.write_table(fmt_to_file[\"ecsv\"], overwrite=True)"
   ]
  },
  {
   "cell_type": "code",
   "execution_count": null,
   "id": "67875adc-b742-48bc-8659-dae3b620c942",
   "metadata": {},
   "outputs": [],
   "source": [
    "%%timeit\n",
    "results.write_table(fmt_to_file[\"parquet\"], overwrite=True)"
   ]
  },
  {
   "cell_type": "code",
   "execution_count": null,
   "id": "4475f0cf-7ae6-4201-9742-81345afffea7",
   "metadata": {},
   "outputs": [],
   "source": [
    "%%timeit\n",
    "results.write_table(fmt_to_file[\"hdf5\"], overwrite=True)"
   ]
  },
  {
   "cell_type": "markdown",
   "id": "496111d6-5aec-4669-8d27-6309d1c403ae",
   "metadata": {},
   "source": [
    "Time the reading of the files. All of these files should exist from the tests above."
   ]
  },
  {
   "cell_type": "code",
   "execution_count": null,
   "id": "22547f20-3cee-4904-a092-f894047438e4",
   "metadata": {},
   "outputs": [],
   "source": [
    "%%timeit\n",
    "_ = Results.read_table(fmt_to_file[\"ecsv\"], track_filtered=False)"
   ]
  },
  {
   "cell_type": "code",
   "execution_count": null,
   "id": "dc3983fd-7cb3-4da2-9a0e-8084a79d8529",
   "metadata": {},
   "outputs": [],
   "source": [
    "%%timeit\n",
    "_ = Results.read_table(fmt_to_file[\"parquet\"], track_filtered=False)"
   ]
  },
  {
   "cell_type": "code",
   "execution_count": null,
   "id": "6fe3c001-250d-4c75-b6cc-1507696322ab",
   "metadata": {},
   "outputs": [],
   "source": [
    "%%timeit\n",
    "_ = Results.read_table(fmt_to_file[\"hdf5\"], track_filtered=False)"
   ]
  },
  {
   "cell_type": "markdown",
   "id": "7747c577-0109-47f7-afc3-cc4cb8863381",
   "metadata": {},
   "source": [
    "Clean up the temporary directory and files."
   ]
  },
  {
   "cell_type": "code",
   "execution_count": null,
   "id": "d77ede2a-94bf-4a63-90a1-944d90b443b2",
   "metadata": {},
   "outputs": [],
   "source": [
    "tmp_dir.cleanup()"
   ]
  }
 ],
 "metadata": {
  "kernelspec": {
   "display_name": "Jeremy's KBMOD",
   "language": "python",
   "name": "kbmod_jk"
  },
  "language_info": {
   "codemirror_mode": {
    "name": "ipython",
    "version": 3
   },
   "file_extension": ".py",
   "mimetype": "text/x-python",
   "name": "python",
   "nbconvert_exporter": "python",
   "pygments_lexer": "ipython3",
   "version": "3.12.2"
  }
 },
 "nbformat": 4,
 "nbformat_minor": 5
}
