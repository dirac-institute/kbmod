{
 "cells": [
  {
   "cell_type": "markdown",
   "metadata": {},
   "source": [
    "# KBMOD Search Results for Fakes\n",
    "  \n",
    "A basic notebook to demonstrate searching results against known fakes in the data.\n",
    "\n",
    "Note that this notebook is intended to be run using shared data on baldur."
   ]
  },
  {
   "cell_type": "markdown",
   "metadata": {},
   "source": [
    "# Setup demo\n",
    "\n",
    "Before importing, make sure you have installed kbmod using `pip install .` in the root `KBMOD` directory.  Also be sure you are running with python3 and using the correct notebook kernel."
   ]
  },
  {
   "cell_type": "code",
   "execution_count": null,
   "metadata": {},
   "outputs": [],
   "source": [
    "import math\n",
    "import matplotlib.pyplot as plt\n",
    "import numpy as np\n",
    "import os\n",
    "\n",
    "from kbmod.analysis.plotting import *\n",
    "from kbmod.data_interface import load_deccam_layered_image\n",
    "from kbmod.search import ImageStack, PSF, StampCreator, Trajectory\n",
    "from kbmod.results import Results\n",
    "from kbmod.work_unit import WorkUnit\n",
    "\n",
    "from astropy.coordinates import SkyCoord, search_around_sky\n",
    "import astropy.units as u\n",
    "from astropy.table import Table\n",
    "\n",
    "# Data paths\n",
    "wu_path = '/epyc/projects/kbmod/runs/wbeebe/1000_imgs_5_16/reprojected_wu.fits' # A reflex-corrected WorkUnit\n",
    "res_path = '/epyc/projects/kbmod/runs/wbeebe/1000_imgs_5_16_slow'\n",
    "# Path to known fakes (with reflex-corrected) coordinates on the dates used in this KBMOD search.\n",
    "fakes_path = '/epyc/projects/kbmod/runs/wbeebe/fakes_detections_20190404_20190505_simple.csv'"
   ]
  },
  {
   "cell_type": "markdown",
   "metadata": {},
   "source": [
    "# Reload a Saved KBMOD WorkUnit\n",
    "Note that this WorkUnit was reflex-corrected with a guess distance of 40 AU."
   ]
  },
  {
   "cell_type": "code",
   "execution_count": null,
   "metadata": {},
   "outputs": [],
   "source": [
    "wu = WorkUnit.from_fits(wu_path) \n",
    "stack = wu.im_stack"
   ]
  },
  {
   "cell_type": "markdown",
   "metadata": {},
   "source": [
    "# Load the KBMOD Results and Known Fakes"
   ]
  },
  {
   "cell_type": "code",
   "execution_count": null,
   "metadata": {},
   "outputs": [],
   "source": [
    "results = Results.read_table(os.path.join(res_path, \"results.ecsv\"))\n",
    "print(f\"Loaded {len(results)} results.\")\n",
    "results"
   ]
  },
  {
   "cell_type": "markdown",
   "metadata": {},
   "source": [
    "And now load our known fakes"
   ]
  },
  {
   "cell_type": "code",
   "execution_count": null,
   "metadata": {},
   "outputs": [],
   "source": [
    "fakes = Table.read(fakes_path, format='csv')\n",
    "fakes"
   ]
  },
  {
   "cell_type": "markdown",
   "metadata": {},
   "source": [
    "# Search for results that are near known fakes\n",
    "\n",
    "astropy allows us to take two catalogus of coordinates (represented by `SkyCoord` objects) and easily search for nearest neighbors between them. \n",
    "\n",
    "First, as a simple approximation let's translate the initial (x, y) of each of our results into an (ra, dec). Note that we are using a reflex-corrected WCS from our `WorkUnit` so the (ra, dec) will be in reflex-corrected space."
   ]
  },
  {
   "cell_type": "code",
   "execution_count": null,
   "metadata": {},
   "outputs": [],
   "source": [
    "results_ra_dec = [wu.wcs.pixel_to_world(r[\"x\"], r[\"y\"]) for r in results]\n",
    "results.table[\"ra_dec\"] = results_ra_dec\n",
    "results"
   ]
  },
  {
   "cell_type": "markdown",
   "metadata": {},
   "source": [
    "Now we can translate our (ra, dec) pairs into single `SkyCoord` objects.\n",
    "\n",
    "Then we can use astopy's `search_around_sky` to find which KBMOD results are near our known fakes, with a max separation limit of 1 arcsecond"
   ]
  },
  {
   "cell_type": "code",
   "execution_count": null,
   "metadata": {},
   "outputs": [],
   "source": [
    "result_coords = SkyCoord(ra=[coord.ra for coord in results_ra_dec], dec=[coord.dec for coord in results_ra_dec])\n",
    "\n",
    "# Since our WorkUnit was reflex-corrected with a guess distance of 40 AU,\n",
    "# we use the corresponding reflex-correced (ra, dec) for our fakes.\n",
    "fake_coords = SkyCoord(ra=fakes[\"RA_40\"]*u.degree, dec=fakes[\"Dec_40\"]*u.degree)\n",
    "\n",
    "idx1, idx2, sep2dAngle, dist3d = search_around_sky(result_coords, fake_coords, 1*u.arcsecond)"
   ]
  },
  {
   "cell_type": "markdown",
   "metadata": {},
   "source": [
    "`idx1` Maps fakes to their nearest neighbors in the results. Each value is an index to a potential finding within our results table."
   ]
  },
  {
   "cell_type": "code",
   "execution_count": null,
   "metadata": {},
   "outputs": [],
   "source": [
    "print(len(idx1))\n",
    "idx1"
   ]
  },
  {
   "cell_type": "code",
   "execution_count": null,
   "metadata": {},
   "outputs": [],
   "source": [
    "potential_fake_results = np.unique(idx1)\n",
    "potential_fake_results"
   ]
  },
  {
   "cell_type": "markdown",
   "metadata": {},
   "source": [
    "Let's first examine the first result which we believe might be a fake."
   ]
  },
  {
   "cell_type": "code",
   "execution_count": null,
   "metadata": {},
   "outputs": [],
   "source": [
    "results[potential_fake_results[0]]"
   ]
  },
  {
   "cell_type": "code",
   "execution_count": null,
   "metadata": {},
   "outputs": [],
   "source": [
    "# helper function to plot a row of the results table\n",
    "plot_result_row(results[potential_fake_results[0]])"
   ]
  },
  {
   "cell_type": "markdown",
   "metadata": {},
   "source": [
    "`idx2` shows the inverse mapping of which fakes might be potential results. Here its values are indices within our fakes table.\n",
    "\n",
    "So taking the first potential match we examined above, we can use the corresponding index (in this case 0) to inspect within our fakes table.\n"
   ]
  },
  {
   "cell_type": "code",
   "execution_count": null,
   "metadata": {},
   "outputs": [],
   "source": [
    "fakes[idx2[0]]"
   ]
  },
  {
   "cell_type": "markdown",
   "metadata": {},
   "source": [
    "And as a sanity check we can also inspect the distance between the result and fake in reflex-corrected space."
   ]
  },
  {
   "cell_type": "code",
   "execution_count": null,
   "metadata": {},
   "outputs": [],
   "source": [
    "dist3d[0]"
   ]
  },
  {
   "cell_type": "markdown",
   "metadata": {},
   "source": [
    "# Plot the Coadds of all Suspected Fakes within Our Results"
   ]
  },
  {
   "cell_type": "code",
   "execution_count": null,
   "metadata": {},
   "outputs": [],
   "source": [
    "# Plot the coadds of all potential fakes\n",
    "for idx in potential_fake_results:\n",
    "    # helper function to plot a row of the results table\n",
    "    plot_result_row(results[idx])"
   ]
  },
  {
   "cell_type": "code",
   "execution_count": null,
   "metadata": {},
   "outputs": [],
   "source": []
  }
 ],
 "metadata": {
  "kernelspec": {
   "display_name": "Wilson’s KBMOD Analysis",
   "language": "python",
   "name": "wbeebe_kbmod_analysis"
  },
  "language_info": {
   "codemirror_mode": {
    "name": "ipython",
    "version": 3
   },
   "file_extension": ".py",
   "mimetype": "text/x-python",
   "name": "python",
   "nbconvert_exporter": "python",
   "pygments_lexer": "ipython3",
   "version": "3.12.3"
  }
 },
 "nbformat": 4,
 "nbformat_minor": 4
}
