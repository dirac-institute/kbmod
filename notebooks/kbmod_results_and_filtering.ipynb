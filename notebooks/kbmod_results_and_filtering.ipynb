{
 "cells": [
  {
   "cell_type": "markdown",
   "metadata": {},
   "source": [
    "# KBMOD Results and Filtering  \n",
    "  \n",
    "This notebook demonstrates the basic functionality for loading and filtering results. KBMOD provides the ability to load results into a ``ResultList`` data structure and then apply a sequence of filters to those results. New filters can be defined by inheriting from the ``Filter`` class."
   ]
  },
  {
   "cell_type": "markdown",
   "metadata": {},
   "source": [
    "# Setup\n",
    "Before importing, make sure you have installed kbmod using `pip install .` in the root directory.  Also be sure you are running with python3 and using the correct notebook kernel."
   ]
  },
  {
   "cell_type": "code",
   "execution_count": null,
   "metadata": {},
   "outputs": [],
   "source": [
    "# everything we will need for this demo\n",
    "from kbmod.filters.stats_filters import LHFilter, NumObsFilter\n",
    "from kbmod.result_list import load_result_list_from_files, ResultList\n",
    "import matplotlib.pyplot as plt\n",
    "import numpy as np"
   ]
  },
  {
   "cell_type": "markdown",
   "metadata": {},
   "source": [
    "# Load the results\n",
    "\n",
    "We use the fake result data provided in ``data/fake_results_noisy`` which is generated from 256 x 256 images with multiple fake objects inserted. KBMOD is run with wider than normal filter parameters so as to produce a noisy set of results."
   ]
  },
  {
   "cell_type": "code",
   "execution_count": null,
   "metadata": {},
   "outputs": [],
   "source": [
    "results = load_result_list_from_files(\"../data/fake_results_noisy/\", \"DEMO\")\n",
    "print(f\"Loaded {results.num_results()} results.\")\n",
    "\n",
    "# Turn on filtered result tracking.\n",
    "results.track_filtered = True\n",
    "\n",
    "# Show the first five results.\n",
    "for i in range(5):\n",
    "    print(results.results[i].trajectory)"
   ]
  },
  {
   "cell_type": "markdown",
   "metadata": {},
   "source": [
    "# Sorting Results\n",
    "\n",
    "We can sort the results by any of the attributes of a ``ResultRow`` in either increasing or decreasing order."
   ]
  },
  {
   "cell_type": "code",
   "execution_count": null,
   "metadata": {},
   "outputs": [],
   "source": [
    "results.sort(key=\"obs_count\")\n",
    "print(f\"Top 5 by observation count:\")\n",
    "for i in range(5):\n",
    "    print(results.results[i].trajectory)\n",
    "\n",
    "print(f\"\\nBottom 5 by Flux:\")\n",
    "results.sort(key=\"flux\", reverse=False)\n",
    "for i in range(5):\n",
    "    print(results.results[i].trajectory)\n",
    "\n",
    "# Return to sorted by decreasing likelihood.\n",
    "results.sort(key=\"final_likelihood\")"
   ]
  },
  {
   "cell_type": "markdown",
   "metadata": {},
   "source": [
    "# Filtering\n",
    "\n",
    "First we create a filter based on the observations' likelihood and apply it to the result set."
   ]
  },
  {
   "cell_type": "code",
   "execution_count": null,
   "metadata": {},
   "outputs": [],
   "source": [
    "# Filter out all results that have a likelihood < 40.0.\n",
    "filter1 = LHFilter(40.0, None)\n",
    "print(f\"Applying {filter1.get_filter_name()}\")\n",
    "results.apply_filter(filter1)\n",
    "print(f\"{results.num_results()} results remaining.\")"
   ]
  },
  {
   "cell_type": "markdown",
   "metadata": {},
   "source": [
    "We can look at the rows that passed the filter. These are stored in the ``ResultList``'s ``results`` list. "
   ]
  },
  {
   "cell_type": "code",
   "execution_count": null,
   "metadata": {},
   "outputs": [],
   "source": [
    "for i in range(5):\n",
    "    print(results.results[i].trajectory)"
   ]
  },
  {
   "cell_type": "markdown",
   "metadata": {},
   "source": [
    "Because we set ``results.track_filtered = True`` above, the ``ResultList`` also keeps each row that was rejected by one of the filters. These rows are indexed by the filter name, allowing the user to determine which rows were removed during which filtering stage. \n",
    "\n",
    "We can use the ``get_filtered`` function to retrieve all the filtered rows for a given filter name:"
   ]
  },
  {
   "cell_type": "code",
   "execution_count": null,
   "metadata": {},
   "outputs": [],
   "source": [
    "# Extract the rows that did not pass filter1.\n",
    "filtered_list = results.get_filtered(filter1.get_filter_name())\n",
    "for i in range(5):\n",
    "    print(filtered_list[i].trajectory)"
   ]
  },
  {
   "cell_type": "markdown",
   "metadata": {},
   "source": [
    "We can apply multiple filters to the ``ResultList`` to progressively rule out more and more candidate trajectories. We can even apply the same filter with different parameters.\n",
    "\n",
    "Next we apply the ``NumObsFilter`` to filter out anything with fewer than 10 observations:"
   ]
  },
  {
   "cell_type": "code",
   "execution_count": null,
   "metadata": {},
   "outputs": [],
   "source": [
    "# Filter out all results where the peak location in the stamp is great than or equal to\n",
    "# 1.5 pixels from the center.\n",
    "filter2 = NumObsFilter(10)\n",
    "print(f\"Applying {filter2.get_filter_name()}\")\n",
    "results.apply_filter(filter2)\n",
    "print(f\"{results.num_results()} results remaining.\")"
   ]
  },
  {
   "cell_type": "markdown",
   "metadata": {},
   "source": [
    "To visualize the effect of this filter, we can plot one of the unfiltered stamps and one of the filtered stamps. Note that we retrieve the rows filtered by the ``LHFilter`` using the ``get_filtered`` with the filter’s name."
   ]
  },
  {
   "cell_type": "code",
   "execution_count": null,
   "metadata": {},
   "outputs": [],
   "source": [
    "fig, axs = plt.subplots(1, 2)\n",
    "\n",
    "unfiltered_stamp = np.array(results.results[0].stamp).reshape([21, 21])\n",
    "axs[0].imshow(unfiltered_stamp, cmap=\"gray\")\n",
    "axs[0].set_title(\"Unfiltered Stamp\")\n",
    "\n",
    "filtered_list2 = results.get_filtered(filter1.get_filter_name())\n",
    "filtered_stamp = np.array(filtered_list2[0].stamp).reshape([21, 21])\n",
    "axs[1].imshow(filtered_stamp, cmap=\"gray\")\n",
    "axs[1].set_title(\"Filtered Stamp\")"
   ]
  },
  {
   "cell_type": "markdown",
   "metadata": {},
   "source": [
    "### Reverting filters\n",
    "\n",
    "As long as we have ``track_filtered`` turned on, we can undo any of the filtering steps. This appends the previously filtered results to the end of the list (and thus does not preserve ordering). However we can always re-sort if needed."
   ]
  },
  {
   "cell_type": "code",
   "execution_count": null,
   "metadata": {},
   "outputs": [],
   "source": [
    "results.revert_filter(filter1.get_filter_name())\n",
    "print(f\"{results.num_results()} results remaining.\")"
   ]
  },
  {
   "cell_type": "markdown",
   "metadata": {},
   "source": [
    "# Outputing Results\n",
    "\n",
    "In addition to the \"many files\" format provided in the original KBMOD (and used to load the demo files), we can output the results data to a single YAML string or an AstroPy Table.\n",
    "\n",
    "### YAML String\n",
    "\n",
    "When serializing to a YAML string we can either save the entire ``ResultList`` (including the filtered rows) or just the unfiltered rows. To save space, the default is to serialize just the unfiltered rows."
   ]
  },
  {
   "cell_type": "code",
   "execution_count": null,
   "metadata": {},
   "outputs": [],
   "source": [
    "# Serialize the unfiltered results\n",
    "yaml_str_a = results.to_yaml()\n",
    "print(f\"Unfiltered is serialized to a string of length {len(yaml_str_a)}\")\n",
    "\n",
    "# Serialize the entire data structure\n",
    "yaml_str_b = results.to_yaml(serialize_filtered=True)\n",
    "print(f\"Full data structure is serialized to a string of length {len(yaml_str_b)}\")"
   ]
  },
  {
   "cell_type": "markdown",
   "metadata": {},
   "source": [
    "We can send this YAML string to another machine or save it for later analysis. We can reload the ``ResultList`` directly from the YAML string."
   ]
  },
  {
   "cell_type": "code",
   "execution_count": null,
   "metadata": {},
   "outputs": [],
   "source": [
    "loaded_results = ResultList.from_yaml(yaml_str_b)\n",
    "print(\"Results loaded:\")\n",
    "print(f\" * {loaded_results.num_results()} unfiltered rows.\")\n",
    "print(f\" * {len(loaded_results.get_filtered())} filtered rows.\")"
   ]
  },
  {
   "cell_type": "markdown",
   "metadata": {},
   "source": [
    "### AstroPy Tables\n",
    "\n",
    "Users may want to interact with the results data in a more familiar Table format. We support exporting the ``ResultList`` as an astropy ``Table``. Note that the table format will note enforce consistency across columns. For example changing the psi and phi curves in a table will not update the likelihoods. For this reason, it is recommended that you only export the table when you have completed the per-row operations."
   ]
  },
  {
   "cell_type": "code",
   "execution_count": null,
   "metadata": {},
   "outputs": [],
   "source": [
    "results.to_table()"
   ]
  },
  {
   "cell_type": "code",
   "execution_count": null,
   "metadata": {},
   "outputs": [],
   "source": []
  }
 ],
 "metadata": {
  "kernelspec": {
   "display_name": "Jeremy's KBMOD",
   "language": "python",
   "name": "kbmod_jk"
  },
  "language_info": {
   "codemirror_mode": {
    "name": "ipython",
    "version": 3
   },
   "file_extension": ".py",
   "mimetype": "text/x-python",
   "name": "python",
   "nbconvert_exporter": "python",
   "pygments_lexer": "ipython3",
   "version": "3.11.5"
  }
 },
 "nbformat": 4,
 "nbformat_minor": 2
}
