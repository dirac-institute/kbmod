{
 "cells": [
  {
   "cell_type": "code",
   "execution_count": null,
   "metadata": {},
   "outputs": [],
   "source": [
    "from kbmod.reprojection_utils import correct_parallax_with_minimizer, correct_parallax_geometrically\n",
    "from astropy.coordinates import EarthLocation, SkyCoord, solar_system_ephemeris\n",
    "from astropy.time import Time\n",
    "import numpy as np\n",
    "import matplotlib.pyplot as plt"
   ]
  },
  {
   "cell_type": "markdown",
   "metadata": {},
   "source": [
    "Configure an example observation at a given ra/dec and time\n"
   ]
  },
  {
   "cell_type": "code",
   "execution_count": null,
   "metadata": {},
   "outputs": [],
   "source": [
    "BARYCENTRIC_DISTANCE = 50.0\n",
    "\n",
    "icrs_ra1 = 173.74513571\n",
    "icrs_dec1 = 73.43426475\n",
    "icrs_time1 = Time(\"2023-03-20T16:00:00\", format=\"isot\", scale=\"utc\")\n",
    "sc1 = SkyCoord(ra=icrs_ra1, dec=icrs_dec1, unit=\"deg\")\n",
    "\n",
    "with solar_system_ephemeris.set(\"de432s\"):\n",
    "    eq_loc = EarthLocation.of_site(\"ctio\")"
   ]
  },
  {
   "cell_type": "markdown",
   "metadata": {},
   "source": [
    "Calculate the parallax correction using the scipy minimizer algorithm\n",
    "Note that without bounds Scipy will default to `BFGS`, with bounds defaults to `L-BFGS-B`."
   ]
  },
  {
   "cell_type": "code",
   "execution_count": null,
   "metadata": {},
   "outputs": [],
   "source": [
    "baseline_coord, baseline_geo_dist = correct_parallax_with_minimizer(\n",
    "    coord=sc1,\n",
    "    obstime=icrs_time1,\n",
    "    point_on_earth=eq_loc,\n",
    "    barycentric_distance=BARYCENTRIC_DISTANCE,\n",
    "    method=None,\n",
    "    use_bounds=True,\n",
    ")"
   ]
  },
  {
   "cell_type": "code",
   "execution_count": null,
   "metadata": {},
   "outputs": [],
   "source": [
    "print(f\"ra:{baseline_coord.ra.deg}, dec:{baseline_coord.dec.deg}, distance:{baseline_geo_dist}\")"
   ]
  },
  {
   "cell_type": "markdown",
   "metadata": {},
   "source": [
    "Calculate the parallax correction using the exact geometric algorithm."
   ]
  },
  {
   "cell_type": "code",
   "execution_count": null,
   "metadata": {},
   "outputs": [],
   "source": [
    "geometric_coord, geometric_geo_dist = correct_parallax_geometrically(\n",
    "    coord=sc1,\n",
    "    obstime=icrs_time1,\n",
    "    point_on_earth=eq_loc,\n",
    "    barycentric_distance=BARYCENTRIC_DISTANCE,\n",
    ")"
   ]
  },
  {
   "cell_type": "code",
   "execution_count": null,
   "metadata": {},
   "outputs": [],
   "source": [
    "print(f\"ra:{geometric_coord.ra.deg}, dec:{geometric_coord.dec.deg}, distance:{geometric_geo_dist}\")"
   ]
  },
  {
   "cell_type": "markdown",
   "metadata": {},
   "source": [
    "Note that the difference between the minimizer and exact approach is much less than 1 arcsec. Also note that the run time of the minimzer algorithm is between 30-120ms depending on the specific minimizer algorithm used, while the geometric approach runs in about 3ms."
   ]
  },
  {
   "cell_type": "code",
   "execution_count": null,
   "metadata": {},
   "outputs": [],
   "source": [
    "arcsec_sep = baseline_coord.separation(geometric_coord).to(\"arcsec\").value\n",
    "print(f\"Separation between minimizer and geometric algorithms: {arcsec_sep} arcsec\")\n",
    "print(\n",
    "    f\"Difference in distances minimizer and geometric algorithms: {np.abs(baseline_geo_dist - geometric_geo_dist)} au\"\n",
    ")"
   ]
  },
  {
   "cell_type": "markdown",
   "metadata": {},
   "source": [
    "Here we compare the minimizer and geometric solutions for several barycentric_distance guesses and 0-360 degrees ra."
   ]
  },
  {
   "cell_type": "code",
   "execution_count": null,
   "metadata": {},
   "outputs": [],
   "source": [
    "min_barycentric_distance = 20\n",
    "max_barycentric_distance = 51\n",
    "barycentric_distance_step = 10\n",
    "\n",
    "min_ra = 0\n",
    "max_ra = 361\n",
    "ra_step = 10\n",
    "\n",
    "with solar_system_ephemeris.set(\"de432s\"):\n",
    "    eq_loc = EarthLocation.of_site(\"ctio\")\n",
    "\n",
    "all_separations_geom = []\n",
    "all_distance_diffs_geom = []\n",
    "\n",
    "for barycentric_distance in range(\n",
    "    min_barycentric_distance, max_barycentric_distance, barycentric_distance_step\n",
    "):\n",
    "    print(f\"Working on barycentric distance:{barycentric_distance}\")\n",
    "    per_distance_separation_geom = []\n",
    "    per_distance_earth_dist_diff_geom = []\n",
    "\n",
    "    for ra in range(min_ra, max_ra, ra_step):\n",
    "        icrs_ra1 = ra  # range of 0-360\n",
    "        icrs_dec1 = 10.0  # perhaps set this to 10.\n",
    "        icrs_time1 = Time(\"2023-03-20T16:00:00\", format=\"isot\", scale=\"utc\")\n",
    "        sc1 = SkyCoord(ra=icrs_ra1, dec=icrs_dec1, unit=\"deg\")\n",
    "\n",
    "        baseline_coord, baseline_geo_dist = correct_parallax_with_minimizer(\n",
    "            coord=sc1,\n",
    "            obstime=icrs_time1,\n",
    "            point_on_earth=eq_loc,\n",
    "            barycentric_distance=barycentric_distance,\n",
    "            method=None,\n",
    "            use_bounds=True,\n",
    "        )\n",
    "\n",
    "        geometric_coord, geometric_geo_dist = correct_parallax_geometrically(\n",
    "            coord=sc1,\n",
    "            obstime=icrs_time1,\n",
    "            point_on_earth=eq_loc,\n",
    "            barycentric_distance=barycentric_distance,\n",
    "        )\n",
    "\n",
    "        arcsec_sep = baseline_coord.separation(geometric_coord).to(\"arcsec\").value\n",
    "        per_distance_separation_geom.append(arcsec_sep)\n",
    "        per_distance_earth_dist_diff_geom.append(np.abs(baseline_geo_dist - geometric_geo_dist))\n",
    "\n",
    "    all_separations_geom.append(per_distance_separation_geom)\n",
    "    all_distance_diffs_geom.append(per_distance_earth_dist_diff_geom)"
   ]
  },
  {
   "cell_type": "code",
   "execution_count": null,
   "metadata": {},
   "outputs": [],
   "source": [
    "rng_obj = range(min_ra, max_ra, ra_step)\n",
    "plt.plot(\n",
    "    np.array(all_separations_geom).T,\n",
    "    label=[\n",
    "        f\"{i}au\"\n",
    "        for i in range(min_barycentric_distance, max_barycentric_distance, barycentric_distance_step)\n",
    "    ],\n",
    ")\n",
    "plt.xticks(list(range(0, len(all_separations_geom[0]))), list(rng_obj))\n",
    "plt.xlabel(\"ra [deg]\")\n",
    "plt.ylabel(\"Baseline vs Geometric solution Separation [arcsec]\")\n",
    "plt.legend()\n",
    "plt.show()"
   ]
  },
  {
   "cell_type": "code",
   "execution_count": null,
   "metadata": {},
   "outputs": [],
   "source": [
    "rng_obj = range(min_ra, max_ra, ra_step)\n",
    "\n",
    "plt.plot(\n",
    "    np.array(all_distance_diffs_geom).T,\n",
    "    label=[\n",
    "        f\"{i}au\"\n",
    "        for i in range(min_barycentric_distance, max_barycentric_distance, barycentric_distance_step)\n",
    "    ],\n",
    ")\n",
    "plt.xticks(list(range(0, len(all_distance_diffs_geom[0]))), list(rng_obj))\n",
    "plt.xlabel(\"ra [deg]\")\n",
    "plt.ylabel(\"Abs(Baseline - Geometric soluntion) [au]\")\n",
    "plt.legend()\n",
    "plt.show()"
   ]
  },
  {
   "cell_type": "markdown",
   "metadata": {},
   "source": [
    "For contrived observations taken at the equinox, we should find very specific values for corrected ra and dec. The following cell shows this to be true."
   ]
  },
  {
   "cell_type": "code",
   "execution_count": null,
   "metadata": {},
   "outputs": [],
   "source": [
    "icrs_ra1 = 88.74513571\n",
    "icrs_dec1 = 23.43426475\n",
    "icrs_time1 = Time(\"2023-03-20T16:00:00\", format=\"isot\", scale=\"utc\")\n",
    "\n",
    "icrs_ra2 = 91.24261107\n",
    "icrs_dec2 = 23.43437467\n",
    "icrs_time2 = Time(\"2023-09-24T04:00:00\", format=\"isot\", scale=\"utc\")\n",
    "\n",
    "sc1 = SkyCoord(ra=icrs_ra1, dec=icrs_dec1, unit=\"deg\")\n",
    "sc2 = SkyCoord(ra=icrs_ra2, dec=icrs_dec2, unit=\"deg\")\n",
    "\n",
    "equinox_geo_dist = 50.00135417530472\n",
    "\n",
    "\n",
    "corrected_coord1, _ = correct_parallax_with_minimizer(\n",
    "    coord=sc1,\n",
    "    obstime=icrs_time1,\n",
    "    point_on_earth=eq_loc,\n",
    "    barycentric_distance=50.0,\n",
    "    use_bounds=True,\n",
    ")\n",
    "\n",
    "expected_ra = 90.0\n",
    "expected_dec = 23.43952556\n",
    "\n",
    "print(\"Minimizer algorithm comparison 1: |calculated - expected|\")\n",
    "print(np.abs(corrected_coord1.ra.value - expected_ra))\n",
    "print(np.abs(corrected_coord1.dec.value - expected_dec))\n",
    "\n",
    "corrected_coord2, _ = correct_parallax_with_minimizer(\n",
    "    coord=sc2,\n",
    "    obstime=icrs_time2,\n",
    "    point_on_earth=eq_loc,\n",
    "    barycentric_distance=50.0,\n",
    "    use_bounds=True,\n",
    ")\n",
    "\n",
    "print(\"Minimizer algorithm comparison 2: |calculated - expected|\")\n",
    "print(np.abs(corrected_coord2.ra.value - expected_ra))\n",
    "print(np.abs(corrected_coord2.dec.value - expected_dec))\n",
    "\n",
    "corrected_coord3, _ = correct_parallax_geometrically(\n",
    "    coord=sc1,\n",
    "    obstime=icrs_time1,\n",
    "    point_on_earth=eq_loc,\n",
    "    barycentric_distance=50.0,\n",
    ")\n",
    "\n",
    "expected_ra = 90.0\n",
    "expected_dec = 23.43952556\n",
    "\n",
    "print(\"Geometric algorithm comparison `2`: |calculated - expected|\")\n",
    "print(np.abs(corrected_coord3.ra.value - expected_ra))\n",
    "print(np.abs(corrected_coord3.dec.value - expected_dec))\n",
    "\n",
    "corrected_coord4, _ = correct_parallax_geometrically(\n",
    "    coord=sc2,\n",
    "    obstime=icrs_time2,\n",
    "    point_on_earth=eq_loc,\n",
    "    barycentric_distance=50.0,\n",
    ")\n",
    "\n",
    "print(\"Geometric algorithm comparison 2: |calculated - expected|\")\n",
    "print(np.abs(corrected_coord4.ra.value - expected_ra))\n",
    "print(np.abs(corrected_coord4.dec.value - expected_dec))"
   ]
  }
 ],
 "metadata": {
  "kernelspec": {
   "display_name": "kbmod",
   "language": "python",
   "name": "python3"
  },
  "language_info": {
   "codemirror_mode": {
    "name": "ipython",
    "version": 3
   },
   "file_extension": ".py",
   "mimetype": "text/x-python",
   "name": "python",
   "nbconvert_exporter": "python",
   "pygments_lexer": "ipython3",
   "version": "3.11.9"
  }
 },
 "nbformat": 4,
 "nbformat_minor": 2
}
