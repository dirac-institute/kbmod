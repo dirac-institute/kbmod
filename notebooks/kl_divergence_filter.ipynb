{
 "cells": [
  {
   "attachments": {},
   "cell_type": "markdown",
   "metadata": {},
   "source": [
    "# KL-Divergence Filter"
   ]
  },
  {
   "cell_type": "code",
   "execution_count": null,
   "metadata": {},
   "outputs": [],
   "source": [
    "import numpy as np\n",
    "from scipy import ndimage, stats, special\n",
    "import matplotlib.pyplot as plt\n",
    "\n",
    "%matplotlib inline"
   ]
  },
  {
   "attachments": {},
   "cell_type": "markdown",
   "metadata": {},
   "source": [
    "In this notebook we will test out a filter for postage stamps that uses the [KL-Divergence](https://en.wikipedia.org/wiki/Kullback%E2%80%93Leibler_divergence) to determine how alike the object in the postage stamp is to a model Gaussian distribution."
   ]
  },
  {
   "cell_type": "markdown",
   "metadata": {},
   "source": [
    "## Create base distribution for comparison"
   ]
  },
  {
   "cell_type": "code",
   "execution_count": null,
   "metadata": {},
   "outputs": [],
   "source": [
    "central_source = np.zeros((21, 21))"
   ]
  },
  {
   "cell_type": "code",
   "execution_count": null,
   "metadata": {},
   "outputs": [],
   "source": [
    "central_source[10, 10] = 1.0"
   ]
  },
  {
   "cell_type": "code",
   "execution_count": null,
   "metadata": {},
   "outputs": [],
   "source": [
    "gaussian_test = ndimage.gaussian_filter(central_source, 1.4)"
   ]
  },
  {
   "cell_type": "code",
   "execution_count": null,
   "metadata": {},
   "outputs": [],
   "source": [
    "plt.imshow(gaussian_test)\n",
    "plt.colorbar()"
   ]
  },
  {
   "cell_type": "markdown",
   "metadata": {},
   "source": [
    "## Run some basic tests\n",
    "\n",
    "The function we are going to use for this filter is the relative entropy function from scipy: [`scipy.special.rel_entr`](https://docs.scipy.org/doc/scipy/reference/generated/scipy.special.rel_entr.html#scipy.special.rel_entr)\n",
    "\n",
    "### Test 1: Same distribution\n",
    "The KL Divergence should be 0 when the function is compared with itself."
   ]
  },
  {
   "cell_type": "code",
   "execution_count": null,
   "metadata": {},
   "outputs": [],
   "source": [
    "from scipy.special import rel_entr"
   ]
  },
  {
   "cell_type": "code",
   "execution_count": null,
   "metadata": {},
   "outputs": [],
   "source": [
    "kl_div_same_dist = np.sum(rel_entr(gaussian_test, gaussian_test))\n",
    "print(\"The KL Divergence of the test Gaussian with itself is: {}\".format(kl_div_same_dist))"
   ]
  },
  {
   "cell_type": "markdown",
   "metadata": {},
   "source": [
    "### Test 2: Slightly Different Gaussians\n",
    "\n",
    "These should be numbers greater than 0.\n",
    "\n",
    "#### 2.1: Off-center Gaussian\n",
    "\n",
    "Let's start with a Gaussian with the same width as the test Gaussian but off center by a couple pixels in one direction."
   ]
  },
  {
   "cell_type": "code",
   "execution_count": null,
   "metadata": {},
   "outputs": [],
   "source": [
    "off_center_source = np.zeros((21, 21))\n",
    "off_center_source[8, 10] = 1.0\n",
    "gaussian_off_cent = ndimage.gaussian_filter(off_center_source, 1.4)"
   ]
  },
  {
   "cell_type": "code",
   "execution_count": null,
   "metadata": {},
   "outputs": [],
   "source": [
    "plt.imshow(gaussian_off_cent)"
   ]
  },
  {
   "cell_type": "code",
   "execution_count": null,
   "metadata": {},
   "outputs": [],
   "source": [
    "# We add a very small offset from 0 to avoid issues in the KL-div calculation\n",
    "kl_div_off_center_dist = np.nansum(rel_entr(gaussian_test + 1e-12, gaussian_off_cent + 1e-12))\n",
    "print(\"The KL Divergence of the test Gaussian with the offset Gaussian is: {}\".format(kl_div_off_center_dist))"
   ]
  },
  {
   "cell_type": "markdown",
   "metadata": {},
   "source": [
    "#### 2.2 Wider Gaussian\n",
    "\n",
    "Here we use a Gaussian with double the sigma."
   ]
  },
  {
   "cell_type": "code",
   "execution_count": null,
   "metadata": {},
   "outputs": [],
   "source": [
    "gaussian_doublewide = ndimage.gaussian_filter(central_source, 2.8)"
   ]
  },
  {
   "cell_type": "code",
   "execution_count": null,
   "metadata": {},
   "outputs": [],
   "source": [
    "plt.imshow(gaussian_doublewide)"
   ]
  },
  {
   "cell_type": "code",
   "execution_count": null,
   "metadata": {},
   "outputs": [],
   "source": [
    "# We add a very small offset from 0 to avoid issues in the KL-div calculation\n",
    "kl_div_doublewide_dist = np.nansum(rel_entr(gaussian_test + 1e-12, gaussian_doublewide + 1e-12))\n",
    "print(\"The KL Divergence of the test Gaussian with the wider Gaussian is: {}\".format(kl_div_doublewide_dist))"
   ]
  },
  {
   "cell_type": "markdown",
   "metadata": {},
   "source": [
    "### Test 3: Poisson Noise\n",
    "\n",
    "Above we saw results ~1 or less when comparing different distributions to our test Gaussian. Here we will test against Poisson noise and expect to see that the results are higher than the results in test 2."
   ]
  },
  {
   "cell_type": "code",
   "execution_count": null,
   "metadata": {},
   "outputs": [],
   "source": [
    "poisson_noise = np.random.RandomState(42).poisson(100, size=(21, 21))\n",
    "poisson_noise = poisson_noise / np.sum(poisson_noise)"
   ]
  },
  {
   "cell_type": "code",
   "execution_count": null,
   "metadata": {},
   "outputs": [],
   "source": [
    "plt.imshow(poisson_noise)\n",
    "plt.colorbar()"
   ]
  },
  {
   "cell_type": "code",
   "execution_count": null,
   "metadata": {},
   "outputs": [],
   "source": [
    "# We add a very small offset from 0 to avoid issues in the KL-div calculation\n",
    "kl_div_poisson_dist = np.nansum(rel_entr(gaussian_test + 1e-12, poisson_noise + 1e-12))\n",
    "print(\"The KL Divergence of the test Gaussian with the Poisson noise is: {}\".format(kl_div_poisson_dist))"
   ]
  },
  {
   "cell_type": "markdown",
   "metadata": {},
   "source": [
    "As expected we see that the KL-divergence when comparing to random noise is much higher than the Gaussian distributions which are similar but still different to our test distribution.\n",
    "\n",
    "Now that we have some evidence that this test could work, let's apply it to our false positive training set."
   ]
  },
  {
   "cell_type": "markdown",
   "metadata": {},
   "source": [
    "## Apply to KBMOD False Positives\n",
    "\n",
    "We load the new training data created by Hayden."
   ]
  },
  {
   "cell_type": "code",
   "execution_count": null,
   "metadata": {},
   "outputs": [],
   "source": [
    "full_false = np.load(\"/epyc/users/smotherh/kbmod_epyc/notebooks/normed_individual_false.npy\")"
   ]
  },
  {
   "cell_type": "code",
   "execution_count": null,
   "metadata": {},
   "outputs": [],
   "source": [
    "keep_idx = []\n",
    "idx = 0\n",
    "for f_im in full_false:\n",
    "    if np.isnan(f_im[0][0]):\n",
    "        idx += 1\n",
    "        continue\n",
    "    else:\n",
    "        keep_idx.append(idx)\n",
    "        idx += 1\n",
    "full_false = full_false[keep_idx]"
   ]
  },
  {
   "cell_type": "code",
   "execution_count": null,
   "metadata": {},
   "outputs": [],
   "source": [
    "full_true = np.load(\"/epyc/users/smotherh/kbmod_epyc/notebooks/normed_individual_simulated.npy\")"
   ]
  },
  {
   "cell_type": "code",
   "execution_count": null,
   "metadata": {},
   "outputs": [],
   "source": [
    "plt.imshow(full_false[0].reshape(21, 21))"
   ]
  },
  {
   "cell_type": "code",
   "execution_count": null,
   "metadata": {},
   "outputs": [],
   "source": [
    "plt.imshow(full_true[0].reshape(21, 21))"
   ]
  },
  {
   "cell_type": "markdown",
   "metadata": {},
   "source": [
    "Reshape all the arrays into their two-dimensional postage stamp form. Then add an offset to them so they all have a minimum value just above 0. When doing the relative entropy calculation we also normalize the stamps."
   ]
  },
  {
   "cell_type": "code",
   "execution_count": null,
   "metadata": {},
   "outputs": [],
   "source": [
    "false_values = []\n",
    "for f_im in full_false:\n",
    "    false_stamp = f_im.reshape(21, 21)\n",
    "    false_stamp -= np.min(false_stamp)\n",
    "    false_stamp += 1e-12\n",
    "    # false_kl = special.kl_div(gaussian_test, (false_stamp/np.sum(false_stamp)))\n",
    "    false_kl = special.rel_entr(gaussian_test, (false_stamp / np.sum(false_stamp)))\n",
    "    false_values.append(np.nansum(false_kl))\n",
    "false_values = np.array(false_values)"
   ]
  },
  {
   "cell_type": "code",
   "execution_count": null,
   "metadata": {},
   "outputs": [],
   "source": [
    "true_values = []\n",
    "for t_im in full_true:\n",
    "    true_stamp = t_im.reshape(21, 21)\n",
    "    true_stamp -= np.min(true_stamp)\n",
    "    true_stamp += 1e-12\n",
    "    # true_kl = special.kl_div(gaussian_test, (true_stamp/np.sum(true_stamp)))\n",
    "    true_kl = special.rel_entr(gaussian_test, (true_stamp / np.sum(true_stamp)))\n",
    "    true_values.append(np.nansum(true_kl))\n",
    "true_values = np.array(true_values)"
   ]
  },
  {
   "cell_type": "code",
   "execution_count": null,
   "metadata": {},
   "outputs": [],
   "source": [
    "len(full_false)"
   ]
  },
  {
   "cell_type": "code",
   "execution_count": null,
   "metadata": {},
   "outputs": [],
   "source": [
    "len(false_values), len(true_values)"
   ]
  },
  {
   "cell_type": "code",
   "execution_count": null,
   "metadata": {},
   "outputs": [],
   "source": [
    "fig = plt.figure(figsize=(10, 6))\n",
    "n, bins, _ = plt.hist(false_values, alpha=0.4, label=\"False\", bins=20, range=(0, 5), density=True)\n",
    "plt.hist(true_values, alpha=0.4, label=\"True\", bins=bins, density=True)\n",
    "plt.legend()\n",
    "plt.xlabel(\"Relative Entropy\")\n",
    "plt.ylabel(\"Density\")"
   ]
  },
  {
   "cell_type": "markdown",
   "metadata": {},
   "source": [
    "This looks really promising! There is a clear separation between the peaks for False objects and True sources. There is an area of overlap in the results. To see how well we do when training a classifier to decide True/False when looking at a postage stamps we'll train a logistic regression next."
   ]
  },
  {
   "cell_type": "markdown",
   "metadata": {},
   "source": [
    "### Optimize separation value\n",
    "\n",
    "First break into training/test sets."
   ]
  },
  {
   "cell_type": "code",
   "execution_count": null,
   "metadata": {},
   "outputs": [],
   "source": [
    "rand_state = np.random.RandomState(24)\n",
    "\n",
    "false_selection = rand_state.choice(np.arange(len(false_values)), size=40000, replace=False)\n",
    "train_false, test_false = false_values[false_selection[:30000]], false_values[false_selection[30000:]]\n",
    "\n",
    "true_selection = rand_state.choice(np.arange(len(true_values)), size=40000, replace=False)\n",
    "train_true, test_true = true_values[true_selection[:30000]], true_values[true_selection[30000:]]\n",
    "\n",
    "train_data = np.array(train_false)\n",
    "train_labels = np.zeros(len(train_false))\n",
    "train_data = np.append(train_data, train_true)\n",
    "train_labels = np.append(train_labels, np.ones(len(train_true)))\n",
    "\n",
    "train_idx = np.arange(len(train_data))\n",
    "rand_state.shuffle(train_idx)\n",
    "\n",
    "train_data = train_data[train_idx]\n",
    "train_labels = train_labels[train_idx]\n",
    "\n",
    "test_data = np.array(test_false)\n",
    "test_labels = np.zeros(len(test_false))\n",
    "test_data = np.append(test_data, test_true)\n",
    "test_labels = np.append(test_labels, np.ones(len(test_true)))"
   ]
  },
  {
   "cell_type": "markdown",
   "metadata": {},
   "source": [
    "We'll use the `LogisticRegression` classifier from scikit-learn to learn a boundary on the relative entropy value."
   ]
  },
  {
   "cell_type": "code",
   "execution_count": null,
   "metadata": {},
   "outputs": [],
   "source": [
    "from sklearn.linear_model import LogisticRegression"
   ]
  },
  {
   "cell_type": "code",
   "execution_count": null,
   "metadata": {},
   "outputs": [],
   "source": [
    "classifier = LogisticRegression()"
   ]
  },
  {
   "cell_type": "code",
   "execution_count": null,
   "metadata": {},
   "outputs": [],
   "source": [
    "classifier.fit(train_data.reshape(-1, 1), train_labels)"
   ]
  },
  {
   "cell_type": "code",
   "execution_count": null,
   "metadata": {
    "nbsphinx-thumbnail": {
     "tooltip": "KL-Divergence classification."
    }
   },
   "outputs": [],
   "source": [
    "fig = plt.figure(figsize=(10, 6))\n",
    "plt.plot(np.linspace(0, 5, 100), classifier.predict_proba(np.linspace(0, 5, 100).reshape(-1, 1))[:, 0], lw=12)\n",
    "plt.scatter(test_data, np.abs(1 - test_labels), c=\"r\", s=8, zorder=10)\n",
    "plt.ylabel(\"False Object Probability\")\n",
    "plt.xlabel(\"KL-Divergence Value\")\n",
    "plt.xlim(0, 5)"
   ]
  },
  {
   "cell_type": "code",
   "execution_count": null,
   "metadata": {},
   "outputs": [],
   "source": [
    "test_results = classifier.predict(test_data.reshape(-1, 1))\n",
    "test_prob = classifier.predict_proba(test_data.reshape(-1, 1))"
   ]
  },
  {
   "cell_type": "code",
   "execution_count": null,
   "metadata": {},
   "outputs": [],
   "source": [
    "true_positive = 0\n",
    "false_positive = 0\n",
    "true_negative = 0\n",
    "false_negative = 0\n",
    "\n",
    "true_positive_idx = []\n",
    "false_positive_idx = []\n",
    "true_negative_idx = []\n",
    "false_negative_idx = []\n",
    "\n",
    "idx = 0\n",
    "for test_label, test_result in zip(test_labels, test_results):\n",
    "    if test_label == 1 and test_result == 1:\n",
    "        true_positive += 1\n",
    "        true_positive_idx.append(idx)\n",
    "    elif test_label == 1 and test_result == 0:\n",
    "        false_negative += 1\n",
    "        false_negative_idx.append(idx)\n",
    "    elif test_label == 0 and test_result == 1:\n",
    "        false_positive += 1\n",
    "        false_positive_idx.append(idx)\n",
    "    elif test_label == 0 and test_result == 0:\n",
    "        true_negative += 1\n",
    "        true_negative_idx.append(idx)\n",
    "    else:\n",
    "        print(\"error\")\n",
    "\n",
    "    idx += 1"
   ]
  },
  {
   "cell_type": "code",
   "execution_count": null,
   "metadata": {},
   "outputs": [],
   "source": [
    "matrix = [[true_positive, false_positive], [false_negative, true_negative]]"
   ]
  },
  {
   "cell_type": "code",
   "execution_count": null,
   "metadata": {},
   "outputs": [],
   "source": [
    "true_positive"
   ]
  },
  {
   "cell_type": "code",
   "execution_count": null,
   "metadata": {},
   "outputs": [],
   "source": [
    "matrix"
   ]
  },
  {
   "cell_type": "code",
   "execution_count": null,
   "metadata": {},
   "outputs": [],
   "source": [
    "fig = plt.figure(figsize=(10, 10))\n",
    "plt.imshow(matrix)\n",
    "plt.text(\n",
    "    -0.0,\n",
    "    0,\n",
    "    \"True Positive:\\n {}\".format(true_positive),\n",
    "    horizontalalignment=\"center\",\n",
    "    verticalalignment=\"center\",\n",
    "    size=18,\n",
    "    color=\"k\",\n",
    ")\n",
    "plt.text(\n",
    "    1.0,\n",
    "    1.0,\n",
    "    \"True Negative:\\n {}\".format(true_negative),\n",
    "    horizontalalignment=\"center\",\n",
    "    verticalalignment=\"center\",\n",
    "    size=18,\n",
    "    color=\"k\",\n",
    ")\n",
    "plt.text(\n",
    "    -0.0,\n",
    "    1,\n",
    "    \"False Negative:\\n {}\".format(false_negative),\n",
    "    horizontalalignment=\"center\",\n",
    "    verticalalignment=\"center\",\n",
    "    size=18,\n",
    "    color=\"w\",\n",
    ")\n",
    "plt.text(\n",
    "    1.0,\n",
    "    0.0,\n",
    "    \"False Positive:\\n {}\".format(false_positive),\n",
    "    horizontalalignment=\"center\",\n",
    "    verticalalignment=\"center\",\n",
    "    size=18,\n",
    "    color=\"w\",\n",
    ")\n",
    "plt.colorbar()"
   ]
  },
  {
   "cell_type": "markdown",
   "metadata": {},
   "source": [
    "### What do the false positives look like?"
   ]
  },
  {
   "cell_type": "code",
   "execution_count": null,
   "metadata": {},
   "outputs": [],
   "source": [
    "fig = plt.figure(figsize=(14, 14))\n",
    "for i in range(36):\n",
    "    fig.add_subplot(6, 6, i + 1)\n",
    "    plt.imshow(full_false[false_selection[30000 + false_positive_idx[i]]].reshape(21, 21))\n",
    "    plt.title(\"{:.2f}\".format(test_prob[false_positive_idx[i]][0]))\n",
    "plt.tight_layout()\n",
    "plt.suptitle(\"False Positive\")\n",
    "plt.subplots_adjust(top=0.95)"
   ]
  },
  {
   "cell_type": "code",
   "execution_count": null,
   "metadata": {},
   "outputs": [],
   "source": [
    "fig = plt.figure(figsize=(14, 14))\n",
    "for i in range(36):\n",
    "    fig.add_subplot(6, 6, i + 1)\n",
    "    plt.imshow(full_false[false_selection[30000 + true_negative_idx[i]]].reshape(21, 21))\n",
    "    plt.title(\"{:.2f}\".format(test_prob[true_negative_idx[i]][0]))\n",
    "plt.tight_layout()\n",
    "plt.suptitle(\"True Negative\")\n",
    "plt.subplots_adjust(top=0.95)"
   ]
  },
  {
   "cell_type": "code",
   "execution_count": null,
   "metadata": {},
   "outputs": [],
   "source": [
    "fig = plt.figure(figsize=(14, 14))\n",
    "for i in range(36):\n",
    "    fig.add_subplot(6, 6, i + 1)\n",
    "    plt.imshow(full_true[true_selection[30000 + false_negative_idx[i] - 10000]].reshape(21, 21))\n",
    "    plt.title(\"{:.2f}\".format(test_prob[false_negative_idx[i]][0]))\n",
    "plt.tight_layout()\n",
    "plt.suptitle(\"False Negative\")\n",
    "plt.subplots_adjust(top=0.95)"
   ]
  },
  {
   "cell_type": "code",
   "execution_count": null,
   "metadata": {},
   "outputs": [],
   "source": [
    "accuracy = (true_positive + true_negative) / (true_positive + true_negative + false_positive + false_negative)"
   ]
  },
  {
   "cell_type": "code",
   "execution_count": null,
   "metadata": {},
   "outputs": [],
   "source": [
    "print(\"Accuracy = {:.2f}%\".format(100 * accuracy))"
   ]
  },
  {
   "cell_type": "markdown",
   "metadata": {},
   "source": [
    "### Using \"real\" false positives\n",
    "\n",
    "This section uses a new set of data where the true sources are verified asteroids found in the Lori Allen data. The false sources are actual false positives from KBMOD searches.\n",
    "\n",
    "**We use the training from the synthetic training set in the first part of the notebook and apply it here to the \"real\" data.**"
   ]
  },
  {
   "cell_type": "code",
   "execution_count": null,
   "metadata": {},
   "outputs": [],
   "source": [
    "real_fake = np.load(\"/epyc/users/smotherh/kbmod_epyc/notebooks/normed_individual_real_false_positives.npy\")"
   ]
  },
  {
   "cell_type": "code",
   "execution_count": null,
   "metadata": {},
   "outputs": [],
   "source": [
    "real_true = np.load(\"/epyc/users/smotherh/kbmod_epyc/notebooks/normed_individual_real.npy\")"
   ]
  },
  {
   "cell_type": "code",
   "execution_count": null,
   "metadata": {},
   "outputs": [],
   "source": [
    "real_true_values = []\n",
    "for t_im in real_true:\n",
    "    true_stamp = t_im.reshape(21, 21)\n",
    "    true_stamp -= np.min(true_stamp)\n",
    "    true_stamp += 1e-12\n",
    "    # true_kl = special.kl_div(gaussian_test, (true_stamp/np.sum(true_stamp)))\n",
    "    true_kl = special.rel_entr(gaussian_test, (true_stamp / np.sum(true_stamp)))\n",
    "    real_true_values.append(np.nansum(true_kl))\n",
    "real_true_values = np.array(real_true_values)"
   ]
  },
  {
   "cell_type": "code",
   "execution_count": null,
   "metadata": {},
   "outputs": [],
   "source": [
    "%%time\n",
    "real_fake_values = []\n",
    "for t_im in real_fake:\n",
    "    fake_stamp = t_im.reshape(21, 21)\n",
    "    fake_stamp -= np.min(fake_stamp)\n",
    "    fake_stamp += 1e-12\n",
    "    # true_kl = special.kl_div(gaussian_test, (true_stamp/np.sum(true_stamp)))\n",
    "    fake_kl = special.rel_entr(gaussian_test, (fake_stamp / np.sum(fake_stamp)))\n",
    "    real_fake_values.append(np.nansum(fake_kl))\n",
    "real_fake_values = np.array(real_fake_values)"
   ]
  },
  {
   "cell_type": "code",
   "execution_count": null,
   "metadata": {},
   "outputs": [],
   "source": [
    "real_true_results = classifier.predict(real_true_values.reshape(-1, 1))\n",
    "real_true_prob = classifier.predict_proba(real_true_values.reshape(-1, 1))"
   ]
  },
  {
   "cell_type": "code",
   "execution_count": null,
   "metadata": {},
   "outputs": [],
   "source": [
    "%%time\n",
    "real_fake_results = classifier.predict(real_fake_values.reshape(-1, 1))\n",
    "real_fake_prob = classifier.predict_proba(real_fake_values.reshape(-1, 1))"
   ]
  },
  {
   "cell_type": "code",
   "execution_count": null,
   "metadata": {},
   "outputs": [],
   "source": [
    "fig = plt.figure(figsize=(10, 6))\n",
    "plt.hist(real_fake_prob[:, 1])\n",
    "plt.xlabel(\"True Object Probability\", size=16)\n",
    "plt.ylabel(\"Count\", size=16)"
   ]
  },
  {
   "cell_type": "code",
   "execution_count": null,
   "metadata": {},
   "outputs": [],
   "source": [
    "# Fraction of false positives correctly classified at 0.5 level\n",
    "(len(real_fake_results) - np.sum(real_fake_results)) / len(real_fake_results)"
   ]
  },
  {
   "cell_type": "code",
   "execution_count": null,
   "metadata": {},
   "outputs": [],
   "source": [
    "# Fraction of True Objects correctly classified at 0.5 level\n",
    "np.sum(real_true_results) / len(real_true_results)"
   ]
  },
  {
   "cell_type": "code",
   "execution_count": null,
   "metadata": {},
   "outputs": [],
   "source": [
    "real_true_results[:20]"
   ]
  },
  {
   "cell_type": "code",
   "execution_count": null,
   "metadata": {},
   "outputs": [],
   "source": [
    "fig = plt.figure(figsize=(12, 12))\n",
    "for i in range(len(real_true)):\n",
    "    fig.add_subplot(4, 4, i + 1)\n",
    "    plt.imshow(real_true[i].reshape(21, 21))\n",
    "    plt.title(\"Prob. True: {:.2f}\".format(real_true_prob[i][1]))\n",
    "plt.tight_layout()\n",
    "plt.suptitle(\"True Sources\")\n",
    "plt.subplots_adjust(top=0.94)"
   ]
  },
  {
   "cell_type": "code",
   "execution_count": null,
   "metadata": {},
   "outputs": [],
   "source": [
    "fig = plt.figure(figsize=(16, 16))\n",
    "for i in range(49):\n",
    "    fig.add_subplot(7, 7, i + 1)\n",
    "    plt.imshow(real_fake[i].reshape(21, 21))\n",
    "    plt.title(\"Prob. True: {:.2f}\".format(real_fake_prob[i][1]))\n",
    "plt.tight_layout()\n",
    "plt.suptitle(\"False positives\")\n",
    "plt.subplots_adjust(top=0.94)"
   ]
  },
  {
   "cell_type": "code",
   "execution_count": null,
   "metadata": {},
   "outputs": [],
   "source": [
    "misclass = np.where(real_fake_prob[:, 1] > 0.95)"
   ]
  },
  {
   "cell_type": "code",
   "execution_count": null,
   "metadata": {},
   "outputs": [],
   "source": [
    "len(misclass[0])"
   ]
  },
  {
   "cell_type": "code",
   "execution_count": null,
   "metadata": {},
   "outputs": [],
   "source": [
    "fig = plt.figure(figsize=(16, 16))\n",
    "for i, idx in list(enumerate(misclass[0]))[:49]:\n",
    "    fig.add_subplot(7, 7, i + 1)\n",
    "    plt.imshow(real_fake[idx].reshape(21, 21))\n",
    "    plt.title(\"Prob. True: {:.2f}\".format(real_fake_prob[idx][1]))\n",
    "plt.tight_layout()\n",
    "plt.suptitle(\"False positives with highest probability of true source\")\n",
    "plt.subplots_adjust(top=0.94)"
   ]
  }
 ],
 "metadata": {
  "kernelspec": {
   "display_name": "kbmod",
   "language": "python",
   "name": "python3"
  },
  "language_info": {
   "codemirror_mode": {
    "name": "ipython",
    "version": 3
   },
   "file_extension": ".py",
   "mimetype": "text/x-python",
   "name": "python",
   "nbconvert_exporter": "python",
   "pygments_lexer": "ipython3",
   "version": "3.11.2"
  },
  "vscode": {
   "interpreter": {
    "hash": "3cbbce225e1e59e4eb770e3f732fd0d709889fcedf33021114c139f94b7c7983"
   }
  }
 },
 "nbformat": 4,
 "nbformat_minor": 4
}
