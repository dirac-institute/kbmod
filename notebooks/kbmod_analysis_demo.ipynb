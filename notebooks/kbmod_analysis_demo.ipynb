{
 "cells": [
  {
   "cell_type": "markdown",
   "metadata": {},
   "source": [
    "# KBMod Analysis Demo"
   ]
  },
  {
   "cell_type": "markdown",
   "metadata": {},
   "source": [
    "To run an example of kbmod from start to finish you can use the following steps:\n",
    "\n",
    "1) Setup `kbmod`'s analysis tools with `pip install .[analysis]` in the main directory of the repo.\n",
    "\n",
    "2) Run `example_search.py` with the following settings:\n",
    "\n",
    "  * **image_dir**: The directory with the images from a single field. If you do not have an example data set, you can use `fake_data_creator.py` to create one.\n",
    "\n",
    "  * **results_dir**: The directory where you want to save the results\n",
    "\n",
    "  * **results_suffix**: Suffix to add when saving results files. Setting this as `test` then files will be saved as \"..._test.txt\". Five results files would be saved:\n",
    "      * `lc_test.txt`: File with the light curves from results after going through Kalman Filter.\n",
    "      * `results_test.txt`: File with the x,y pixel locations, velocity, flux, likelihood, and number of unmasked observations of each result.\n",
    "      * `ps_test.txt`: File with the summed postage stamp for each result.\n",
    "      * `times_test.txt`: File with the MJD of each observation in the saved lightcurve.\n",
    "      * `filtered_likes_test.txt`: The recalculated likelihood values for each results after removing observations with the Kalman Filter.\n",
    "  * **time_file**: [Optional] Location of a file with each row containing (visit_num, visit_mjd) for observations in dataset.\n",
    "    \n",
    "3) Command will be like the following:\n",
    "\n",
    "```\n",
    "python3 example_search.py --image_dir image_dir --results_dir results_dir --results_suffix test --time_file image_times.dat\n",
    "```\n",
    "\n",
    "4) Once you have the results you can use the steps in this notebook to create plots with postage stamps and lightcurves side-by-side for a final look by eye.\n",
    "  You will first have to update some variables to match the arguments you chose for example_search.py in step 3.\n",
    "  * Change results_dir to match --results_dir option.\n",
    "  * Change results_suffix to match --results_suffix option."
   ]
  },
  {
   "cell_type": "code",
   "execution_count": null,
   "metadata": {},
   "outputs": [],
   "source": [
    "# Directory where output from kbmod search are located\n",
    "results_dir = \"../data/fake/results/\"\n",
    "results_suffix = \"test\""
   ]
  },
  {
   "cell_type": "code",
   "execution_count": null,
   "metadata": {},
   "outputs": [],
   "source": [
    "import os\n",
    "import matplotlib.pyplot as plt\n",
    "\n",
    "%matplotlib inline"
   ]
  },
  {
   "cell_type": "code",
   "execution_count": null,
   "metadata": {},
   "outputs": [],
   "source": [
    "from kbmod.analysis.create_stamps import *"
   ]
  },
  {
   "cell_type": "code",
   "execution_count": null,
   "metadata": {},
   "outputs": [],
   "source": [
    "stamper = CreateStamps()"
   ]
  },
  {
   "cell_type": "code",
   "execution_count": null,
   "metadata": {},
   "outputs": [],
   "source": [
    "lc_filename = \"\".join([results_dir, \"lc_\", results_suffix, \".txt\"])\n",
    "lc_index_filename = \"\".join([results_dir, \"lc_index_\", results_suffix, \".txt\"])\n",
    "lc_list, lc_index_list = stamper.load_lightcurves(lc_filename, lc_index_filename)"
   ]
  },
  {
   "cell_type": "code",
   "execution_count": null,
   "metadata": {},
   "outputs": [],
   "source": [
    "stamp_filename = \"\".join([results_dir, \"ps_\", results_suffix, \".txt\"])\n",
    "stamps = stamper.load_stamps(stamp_filename)"
   ]
  },
  {
   "cell_type": "code",
   "execution_count": null,
   "metadata": {},
   "outputs": [],
   "source": [
    "result_filename = \"\".join([results_dir, \"results_\", results_suffix, \".txt\"])\n",
    "results = stamper.load_results(result_filename)"
   ]
  },
  {
   "cell_type": "code",
   "execution_count": null,
   "metadata": {},
   "outputs": [],
   "source": [
    "stamps_fig = stamper.plot_stamps(results, lc_list, lc_index_list, stamps, 0.03)"
   ]
  },
  {
   "cell_type": "code",
   "execution_count": null,
   "metadata": {},
   "outputs": [],
   "source": []
  }
 ],
 "metadata": {
  "anaconda-cloud": {},
  "kernelspec": {
   "display_name": "Python (.conda-kbmod)",
   "language": "python",
   "name": "conda-env-.conda-kbmod-py"
  },
  "language_info": {
   "codemirror_mode": {
    "name": "ipython",
    "version": 3
   },
   "file_extension": ".py",
   "mimetype": "text/x-python",
   "name": "python",
   "nbconvert_exporter": "python",
   "pygments_lexer": "ipython3",
   "version": "3.9.15"
  }
 },
 "nbformat": 4,
 "nbformat_minor": 2
}
